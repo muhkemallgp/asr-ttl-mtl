{
 "cells": [
  {
   "cell_type": "code",
   "execution_count": 1,
   "id": "b20a325b-59a0-4d74-bd1b-06a41b3316fc",
   "metadata": {},
   "outputs": [
    {
     "name": "stdout",
     "output_type": "stream",
     "text": [
      "/home/is/lathifgalih-k/musetalk/ffmpeg-4.4-amd64-static/ffmpeg\n",
      "ffmpeg version 7.0.2-static https://johnvansickle.com/ffmpeg/  Copyright (c) 2000-2024 the FFmpeg developers\n",
      "built with gcc 8 (Debian 8.3.0-6)\n"
     ]
    }
   ],
   "source": [
    "import os\n",
    "\n",
    "os.environ[\"PATH\"] = os.path.expanduser(\"~/musetalk/ffmpeg-4.4-amd64-static\") + \":\" + os.environ[\"PATH\"]\n",
    "\n",
    "# tes\n",
    "!which ffmpeg\n",
    "!ffmpeg -version | head -n 2"
   ]
  },
  {
   "cell_type": "code",
   "execution_count": 2,
   "id": "f5dbdee4-9a52-40a5-872e-8c74ef7b1fc9",
   "metadata": {},
   "outputs": [
    {
     "name": "stdout",
     "output_type": "stream",
     "text": [
      "/home/is/lathifgalih-k/research_naist/ast-tts/.mtl-venv/bin/python3\n",
      "/usr/lib/python310.zip\n"
     ]
    }
   ],
   "source": [
    "import sys\n",
    "print(sys.executable)\n",
    "print(sys.path[0])"
   ]
  },
  {
   "cell_type": "code",
   "execution_count": 3,
   "id": "ec554240-e960-4532-9b39-12ee07b00890",
   "metadata": {},
   "outputs": [
    {
     "data": {
      "text/plain": [
       "'/home/is/lathifgalih-k/research_naist/ast-tts/run_ipynb/base_en'"
      ]
     },
     "execution_count": 3,
     "metadata": {},
     "output_type": "execute_result"
    }
   ],
   "source": [
    "import os\n",
    "os.getcwd()"
   ]
  },
  {
   "cell_type": "code",
   "execution_count": 4,
   "id": "80ea00f0-dc63-48be-8c3e-cc2ddfaef451",
   "metadata": {},
   "outputs": [
    {
     "name": "stdout",
     "output_type": "stream",
     "text": [
      "/home/is/lathifgalih-k/research_naist/ast-tts/scripts\n"
     ]
    },
    {
     "name": "stderr",
     "output_type": "stream",
     "text": [
      "/home/is/lathifgalih-k/research_naist/ast-tts/.mtl-venv/lib/python3.10/site-packages/IPython/core/magics/osm.py:417: UserWarning: This is now an optional IPython functionality, setting dhist requires you to install the `pickleshare` library.\n",
      "  self.shell.db['dhist'] = compress_dhist(dhist)[-100:]\n"
     ]
    }
   ],
   "source": [
    "%cd ../../scripts"
   ]
  },
  {
   "cell_type": "code",
   "execution_count": 5,
   "id": "e4c63a6a-2e84-4d6a-b97f-db1e35d699c6",
   "metadata": {},
   "outputs": [
    {
     "name": "stdout",
     "output_type": "stream",
     "text": [
      "\n",
      "================================================================================\n",
      "                       MULTI-TASK LEARNING CONFIGURATION                        \n",
      "================================================================================\n",
      "Model: Whisper-base.en\n",
      "Model Type: English-only\n",
      "Device: cuda\n",
      "Architecture: Shared Encoder + Disease Classifier + Transcription Decoder\n",
      "\n",
      "Training Configuration:\n",
      "  Epochs: 50\n",
      "  Batch sizes: Train=16, Val=8\n",
      "  Learning rate: 1e-05\n",
      "  Weight decay: 0.01\n",
      "  Gradient clip norm: 1.0\n",
      "  Early stopping patience: 10\n",
      "  Freeze encoder: False\n",
      "\n",
      "Multi-task Loss Configuration:\n",
      "  Dynamic weights - Adaptive based on loss magnitudes\n",
      "\n",
      "Data Configuration:\n",
      "  Training data: /home/is/lathifgalih-k/research_naist/ast-tts/data/custom_train.csv\n",
      "  Validation data: /home/is/lathifgalih-k/research_naist/ast-tts/data/custom_val.csv\n",
      "  Audio processing: Whisper built-in (librosa backend)\n",
      "  Save directory: ../checkpoints_exp/checkpoints_base.en_encoder_learning_new_ffmpeg/\n",
      "\n",
      "================================================================================\n",
      "                                LOADING DATASETS                                \n",
      "================================================================================\n",
      "Loading training dataset...\n",
      "Dataset using English-only tokenizer\n",
      "✓ Multi-task Dataset loaded: 1737 samples\n",
      "✓ Model type: English-only\n",
      "✓ EOT token: 50256\n",
      "✓ SOT token: 50257\n",
      "✓ Disease tokens available: ['normal', 'dysphonia', 'dysarthria']\n",
      "✓ Class distribution:\n",
      "   normal (class 0): 579 samples (33.3%)\n",
      "   dysphonia (class 1): 579 samples (33.3%)\n",
      "   dysarthria (class 2): 579 samples (33.3%)\n",
      "Loading validation dataset...\n",
      "Dataset using English-only tokenizer\n",
      "✓ Multi-task Dataset loaded: 213 samples\n",
      "✓ Model type: English-only\n",
      "✓ EOT token: 50256\n",
      "✓ SOT token: 50257\n",
      "✓ Disease tokens available: ['normal', 'dysphonia', 'dysarthria']\n",
      "✓ Class distribution:\n",
      "   normal (class 0): 71 samples (33.3%)\n",
      "   dysphonia (class 1): 71 samples (33.3%)\n",
      "   dysarthria (class 2): 71 samples (33.3%)\n",
      "\n",
      "Dataset Summary:\n",
      "  Training samples: 1737\n",
      "  Validation samples: 213\n",
      "Creating data loaders...\n",
      "Data loaders created:\n",
      "  Training batches: 109\n",
      "  Validation batches: 27\n",
      "\n",
      "================================================================================\n",
      "                        INITIALIZING MULTI-TASK TRAINER                         \n",
      "================================================================================\n",
      "=== Multi-Task Learning Trainer (Proper Architecture) ===\n",
      "Device: cuda\n",
      "CUDA device: NVIDIA GeForce RTX 3090\n",
      "CUDA memory: 25.3 GB\n",
      "✔ Whisper model 'base.en' loaded\n",
      "✔ Tokenizer loaded:\n",
      "  Type: English-only\n",
      "  EOT: 50256, SOT: 50257\n",
      "  Disease tokens: {'normal': 50358, 'dysphonia': 50359, 'dysarthria': 50360}\n",
      "✔ Disease token mapping: {'normal': 50358, 'dysphonia': 50359, 'dysarthria': 50360}\n",
      "✔ Disease token position in dataset: 1\n",
      "Vocabulary expansion:\n",
      "  Original size: 51864\n",
      "  New size needed: 51868\n",
      "  Disease tokens: 3\n",
      "Resized embedding layer device: cpu\n",
      "✔ Vocabulary expanded: 51864 → 51868\n",
      "✔ Disease classifier created: 512 → 256 → 3\n",
      "  Group 1 (encoder): 19,822,592 params, LR: 1.00e-06\n",
      "  Group 2 (decoder_layers): 25,448,448 params, LR: 3.00e-06\n",
      "  Group 3 (embeddings): 26,556,416 params, LR: 1.00e-05\n",
      "  Group 4 (disease_classifier): 132,099 params, LR: 1.00e-05\n",
      "✔ Optimizer setup: 4 groups, 71,959,555 total params\n",
      "✔ Trainer initialized successfully\n",
      "  Disease classes: {0: 'normal', 1: 'dysphonia', 2: 'dysarthria'}\n",
      "  Architecture: Shared Encoder + Disease Classifier + Transcription Decoder\n",
      "✓ Trainer initialized:\n",
      "  Model parameters: 71,827,456\n",
      "  Trainable parameters: 71,827,456\n",
      "  Disease classification: Embedded in sequence (no separate classifier)\n",
      "  Optimizer: AdamW\n",
      "  Loss functions: CrossEntropyLoss (both tasks)\n",
      "\n",
      "================================================================================\n",
      "                          STARTING MULTI-TASK TRAINING                          \n",
      "================================================================================\n",
      "\n",
      "=== Multi-Task Training Started ===\n",
      "Architecture: Shared Encoder + Disease Classifier + Transcription Decoder\n",
      "Disease classes: ['normal', 'dysphonia', 'dysarthria']\n",
      "\n",
      "============================================================\n",
      "EPOCH 1/50\n",
      "============================================================\n"
     ]
    },
    {
     "name": "stderr",
     "output_type": "stream",
     "text": [
      "Training Epoch 1: 100%|███████████████████████████████████████████████████████████████████████████████████████████████████████████████████████████| 109/109 [01:59<00:00,  1.10s/it]\n"
     ]
    },
    {
     "name": "stdout",
     "output_type": "stream",
     "text": [
      "\n",
      "📈 TRAINING EPOCH 1 SUMMARY:\n",
      "   Loss: 1.2230 (α·Cls: 1.0779, β·Trans: 1.5424)\n",
      "   Weights: α=0.6876, β=0.3124\n",
      "   Disease: Acc=0.4485, W-P=0.4950, W-R=0.4485, W-F1=0.3925\n",
      "   Speech: WER=0.1689, CER=0.1102\n"
     ]
    },
    {
     "name": "stderr",
     "output_type": "stream",
     "text": [
      "Evaluating: 100%|███████████████████████████████████████████████████████████████████████████████████████████████████████████████████████████████████| 27/27 [00:04<00:00,  6.11it/s]\n"
     ]
    },
    {
     "name": "stdout",
     "output_type": "stream",
     "text": [
      "\n",
      "📊 VALIDATION SUMMARY:\n",
      "\n",
      "📊 VALIDATION DETAILED METRICS:\n",
      "   🏥 Disease Classification:\n",
      "      Overall Accuracy: 0.6338\n",
      "      Weighted Precision: 0.7893\n",
      "      Weighted Recall: 0.6338\n",
      "      Weighted F1: 0.6175\n",
      "      Macro Precision: 0.7893\n",
      "      Macro Recall: 0.6338\n",
      "      Macro F1: 0.6175\n",
      "   🎯 Transcription:\n",
      "      Overall WER: 0.1277\n",
      "      Overall CER: 0.0874\n",
      "   📈 Per-Class Disease Classification:\n",
      "      Class        Prec   Rec    F1     Support \n",
      "      ----------------------------------------\n",
      "      Normal       0.493 0.986 0.657 71      \n",
      "      Dysphonia    0.875 0.592 0.706 71      \n",
      "      Dysarthria   1.000 0.324 0.489 71      \n",
      "   📝 Per-Class Transcription:\n",
      "      Class        WER    CER    Samples  Valid   \n",
      "      ------------------------------------------------\n",
      "      Normal       0.050 0.031 71       71      \n",
      "      Dysphonia    0.108 0.076 71       71      \n",
      "      Dysarthria   0.258 0.181 71       71      \n",
      "✅ Best model saved: ../checkpoints_exp/checkpoints_base.en_encoder_learning_new_ffmpeg/best_multitask_model_base.en.pt\n",
      "\n",
      "============================================================\n",
      "EPOCH 2/50\n",
      "============================================================\n"
     ]
    },
    {
     "name": "stderr",
     "output_type": "stream",
     "text": [
      "Training Epoch 2: 100%|███████████████████████████████████████████████████████████████████████████████████████████████████████████████████████████| 109/109 [02:01<00:00,  1.11s/it]\n"
     ]
    },
    {
     "name": "stdout",
     "output_type": "stream",
     "text": [
      "\n",
      "📈 TRAINING EPOCH 2 SUMMARY:\n",
      "   Loss: 0.8728 (α·Cls: 0.9733, β·Trans: 0.6515)\n",
      "   Weights: α=0.6876, β=0.3124\n",
      "   Disease: Acc=0.7260, W-P=0.7326, W-R=0.7260, W-F1=0.7262\n",
      "   Speech: WER=0.0974, CER=0.0648\n"
     ]
    },
    {
     "name": "stderr",
     "output_type": "stream",
     "text": [
      "Evaluating: 100%|███████████████████████████████████████████████████████████████████████████████████████████████████████████████████████████████████| 27/27 [00:06<00:00,  4.24it/s]\n"
     ]
    },
    {
     "name": "stdout",
     "output_type": "stream",
     "text": [
      "\n",
      "📊 VALIDATION SUMMARY:\n",
      "\n",
      "📊 VALIDATION DETAILED METRICS:\n",
      "   🏥 Disease Classification:\n",
      "      Overall Accuracy: 0.7981\n",
      "      Weighted Precision: 0.8127\n",
      "      Weighted Recall: 0.7981\n",
      "      Weighted F1: 0.7998\n",
      "      Macro Precision: 0.8127\n",
      "      Macro Recall: 0.7981\n",
      "      Macro F1: 0.7998\n",
      "   🎯 Transcription:\n",
      "      Overall WER: 0.0935\n",
      "      Overall CER: 0.0618\n",
      "   📈 Per-Class Disease Classification:\n",
      "      Class        Prec   Rec    F1     Support \n",
      "      ----------------------------------------\n",
      "      Normal       0.693 0.859 0.767 71      \n",
      "      Dysphonia    0.864 0.803 0.832 71      \n",
      "      Dysarthria   0.881 0.732 0.800 71      \n",
      "   📝 Per-Class Transcription:\n",
      "      Class        WER    CER    Samples  Valid   \n",
      "      ------------------------------------------------\n",
      "      Normal       0.038 0.020 71       71      \n",
      "      Dysphonia    0.083 0.056 71       71      \n",
      "      Dysarthria   0.181 0.127 71       71      \n",
      "✅ Best model saved: ../checkpoints_exp/checkpoints_base.en_encoder_learning_new_ffmpeg/best_multitask_model_base.en.pt\n",
      "\n",
      "============================================================\n",
      "EPOCH 3/50\n",
      "============================================================\n"
     ]
    },
    {
     "name": "stderr",
     "output_type": "stream",
     "text": [
      "Training Epoch 3: 100%|███████████████████████████████████████████████████████████████████████████████████████████████████████████████████████████| 109/109 [01:54<00:00,  1.05s/it]\n"
     ]
    },
    {
     "name": "stdout",
     "output_type": "stream",
     "text": [
      "\n",
      "📈 TRAINING EPOCH 3 SUMMARY:\n",
      "   Loss: 0.6202 (α·Cls: 0.7597, β·Trans: 0.3132)\n",
      "   Weights: α=0.6876, β=0.3124\n",
      "   Disease: Acc=0.8267, W-P=0.8257, W-R=0.8267, W-F1=0.8241\n",
      "   Speech: WER=0.0629, CER=0.0418\n"
     ]
    },
    {
     "name": "stderr",
     "output_type": "stream",
     "text": [
      "Evaluating: 100%|███████████████████████████████████████████████████████████████████████████████████████████████████████████████████████████████████| 27/27 [00:05<00:00,  5.24it/s]\n"
     ]
    },
    {
     "name": "stdout",
     "output_type": "stream",
     "text": [
      "\n",
      "📊 VALIDATION SUMMARY:\n",
      "\n",
      "📊 VALIDATION DETAILED METRICS:\n",
      "   🏥 Disease Classification:\n",
      "      Overall Accuracy: 0.8779\n",
      "      Weighted Precision: 0.8845\n",
      "      Weighted Recall: 0.8779\n",
      "      Weighted F1: 0.8796\n",
      "      Macro Precision: 0.8845\n",
      "      Macro Recall: 0.8779\n",
      "      Macro F1: 0.8796\n",
      "   🎯 Transcription:\n",
      "      Overall WER: 0.0859\n",
      "      Overall CER: 0.0589\n",
      "   📈 Per-Class Disease Classification:\n",
      "      Class        Prec   Rec    F1     Support \n",
      "      ----------------------------------------\n",
      "      Normal       0.785 0.873 0.827 71      \n",
      "      Dysphonia    0.900 0.887 0.894 71      \n",
      "      Dysarthria   0.969 0.873 0.919 71      \n",
      "   📝 Per-Class Transcription:\n",
      "      Class        WER    CER    Samples  Valid   \n",
      "      ------------------------------------------------\n",
      "      Normal       0.031 0.018 71       71      \n",
      "      Dysphonia    0.074 0.052 71       71      \n",
      "      Dysarthria   0.176 0.126 71       71      \n",
      "✅ Best model saved: ../checkpoints_exp/checkpoints_base.en_encoder_learning_new_ffmpeg/best_multitask_model_base.en.pt\n",
      "\n",
      "============================================================\n",
      "EPOCH 4/50\n",
      "============================================================\n"
     ]
    },
    {
     "name": "stderr",
     "output_type": "stream",
     "text": [
      "Training Epoch 4: 100%|███████████████████████████████████████████████████████████████████████████████████████████████████████████████████████████| 109/109 [02:00<00:00,  1.10s/it]\n"
     ]
    },
    {
     "name": "stdout",
     "output_type": "stream",
     "text": [
      "\n",
      "📈 TRAINING EPOCH 4 SUMMARY:\n",
      "   Loss: 0.3977 (α·Cls: 0.4853, β·Trans: 0.2050)\n",
      "   Weights: α=0.6876, β=0.3124\n",
      "   Disease: Acc=0.9027, W-P=0.9030, W-R=0.9027, W-F1=0.9027\n",
      "   Speech: WER=0.0433, CER=0.0298\n"
     ]
    },
    {
     "name": "stderr",
     "output_type": "stream",
     "text": [
      "Evaluating: 100%|███████████████████████████████████████████████████████████████████████████████████████████████████████████████████████████████████| 27/27 [00:04<00:00,  5.73it/s]\n"
     ]
    },
    {
     "name": "stdout",
     "output_type": "stream",
     "text": [
      "\n",
      "📊 VALIDATION SUMMARY:\n",
      "\n",
      "📊 VALIDATION DETAILED METRICS:\n",
      "   🏥 Disease Classification:\n",
      "      Overall Accuracy: 0.9249\n",
      "      Weighted Precision: 0.9314\n",
      "      Weighted Recall: 0.9249\n",
      "      Weighted F1: 0.9260\n",
      "      Macro Precision: 0.9314\n",
      "      Macro Recall: 0.9249\n",
      "      Macro F1: 0.9260\n",
      "   🎯 Transcription:\n",
      "      Overall WER: 0.0793\n",
      "      Overall CER: 0.0546\n",
      "   📈 Per-Class Disease Classification:\n",
      "      Class        Prec   Rec    F1     Support \n",
      "      ----------------------------------------\n",
      "      Normal       0.840 0.958 0.895 71      \n",
      "      Dysphonia    0.985 0.901 0.941 71      \n",
      "      Dysarthria   0.970 0.915 0.942 71      \n",
      "   📝 Per-Class Transcription:\n",
      "      Class        WER    CER    Samples  Valid   \n",
      "      ------------------------------------------------\n",
      "      Normal       0.028 0.019 71       71      \n",
      "      Dysphonia    0.069 0.048 71       71      \n",
      "      Dysarthria   0.162 0.114 71       71      \n",
      "✅ Best model saved: ../checkpoints_exp/checkpoints_base.en_encoder_learning_new_ffmpeg/best_multitask_model_base.en.pt\n",
      "\n",
      "============================================================\n",
      "EPOCH 5/50\n",
      "============================================================\n"
     ]
    },
    {
     "name": "stderr",
     "output_type": "stream",
     "text": [
      "Training Epoch 5: 100%|███████████████████████████████████████████████████████████████████████████████████████████████████████████████████████████| 109/109 [01:57<00:00,  1.08s/it]\n"
     ]
    },
    {
     "name": "stdout",
     "output_type": "stream",
     "text": [
      "\n",
      "📈 TRAINING EPOCH 5 SUMMARY:\n",
      "   Loss: 0.2280 (α·Cls: 0.2613, β·Trans: 0.1548)\n",
      "   Weights: α=0.6876, β=0.3124\n",
      "   Disease: Acc=0.9499, W-P=0.9501, W-R=0.9499, W-F1=0.9500\n",
      "   Speech: WER=0.0307, CER=0.0219\n"
     ]
    },
    {
     "name": "stderr",
     "output_type": "stream",
     "text": [
      "Evaluating: 100%|███████████████████████████████████████████████████████████████████████████████████████████████████████████████████████████████████| 27/27 [00:04<00:00,  5.79it/s]\n"
     ]
    },
    {
     "name": "stdout",
     "output_type": "stream",
     "text": [
      "\n",
      "📊 VALIDATION SUMMARY:\n",
      "\n",
      "📊 VALIDATION DETAILED METRICS:\n",
      "   🏥 Disease Classification:\n",
      "      Overall Accuracy: 0.9484\n",
      "      Weighted Precision: 0.9504\n",
      "      Weighted Recall: 0.9484\n",
      "      Weighted F1: 0.9487\n",
      "      Macro Precision: 0.9504\n",
      "      Macro Recall: 0.9484\n",
      "      Macro F1: 0.9487\n",
      "   🎯 Transcription:\n",
      "      Overall WER: 0.0731\n",
      "      Overall CER: 0.0517\n",
      "   📈 Per-Class Disease Classification:\n",
      "      Class        Prec   Rec    F1     Support \n",
      "      ----------------------------------------\n",
      "      Normal       0.895 0.958 0.925 71      \n",
      "      Dysphonia    0.985 0.930 0.957 71      \n",
      "      Dysarthria   0.971 0.958 0.965 71      \n",
      "   📝 Per-Class Transcription:\n",
      "      Class        WER    CER    Samples  Valid   \n",
      "      ------------------------------------------------\n",
      "      Normal       0.027 0.019 71       71      \n",
      "      Dysphonia    0.073 0.050 71       71      \n",
      "      Dysarthria   0.134 0.099 71       71      \n",
      "✅ Best model saved: ../checkpoints_exp/checkpoints_base.en_encoder_learning_new_ffmpeg/best_multitask_model_base.en.pt\n",
      "\n",
      "============================================================\n",
      "EPOCH 6/50\n",
      "============================================================\n"
     ]
    },
    {
     "name": "stderr",
     "output_type": "stream",
     "text": [
      "Training Epoch 6: 100%|███████████████████████████████████████████████████████████████████████████████████████████████████████████████████████████| 109/109 [01:57<00:00,  1.08s/it]\n"
     ]
    },
    {
     "name": "stdout",
     "output_type": "stream",
     "text": [
      "\n",
      "📈 TRAINING EPOCH 6 SUMMARY:\n",
      "   Loss: 0.1283 (α·Cls: 0.1330, β·Trans: 0.1181)\n",
      "   Weights: α=0.6876, β=0.3124\n",
      "   Disease: Acc=0.9724, W-P=0.9726, W-R=0.9724, W-F1=0.9724\n",
      "   Speech: WER=0.0242, CER=0.0174\n"
     ]
    },
    {
     "name": "stderr",
     "output_type": "stream",
     "text": [
      "Evaluating: 100%|███████████████████████████████████████████████████████████████████████████████████████████████████████████████████████████████████| 27/27 [00:04<00:00,  6.19it/s]\n"
     ]
    },
    {
     "name": "stdout",
     "output_type": "stream",
     "text": [
      "\n",
      "📊 VALIDATION SUMMARY:\n",
      "\n",
      "📊 VALIDATION DETAILED METRICS:\n",
      "   🏥 Disease Classification:\n",
      "      Overall Accuracy: 0.9765\n",
      "      Weighted Precision: 0.9765\n",
      "      Weighted Recall: 0.9765\n",
      "      Weighted F1: 0.9765\n",
      "      Macro Precision: 0.9765\n",
      "      Macro Recall: 0.9765\n",
      "      Macro F1: 0.9765\n",
      "   🎯 Transcription:\n",
      "      Overall WER: 0.0636\n",
      "      Overall CER: 0.0458\n",
      "   📈 Per-Class Disease Classification:\n",
      "      Class        Prec   Rec    F1     Support \n",
      "      ----------------------------------------\n",
      "      Normal       0.971 0.958 0.965 71      \n",
      "      Dysphonia    0.986 1.000 0.993 71      \n",
      "      Dysarthria   0.972 0.972 0.972 71      \n",
      "   📝 Per-Class Transcription:\n",
      "      Class        WER    CER    Samples  Valid   \n",
      "      ------------------------------------------------\n",
      "      Normal       0.027 0.018 71       71      \n",
      "      Dysphonia    0.065 0.046 71       71      \n",
      "      Dysarthria   0.109 0.083 71       71      \n",
      "✅ Best model saved: ../checkpoints_exp/checkpoints_base.en_encoder_learning_new_ffmpeg/best_multitask_model_base.en.pt\n",
      "\n",
      "============================================================\n",
      "EPOCH 7/50\n",
      "============================================================\n"
     ]
    },
    {
     "name": "stderr",
     "output_type": "stream",
     "text": [
      "Training Epoch 7: 100%|███████████████████████████████████████████████████████████████████████████████████████████████████████████████████████████| 109/109 [02:01<00:00,  1.12s/it]\n"
     ]
    },
    {
     "name": "stdout",
     "output_type": "stream",
     "text": [
      "\n",
      "📈 TRAINING EPOCH 7 SUMMARY:\n",
      "   Loss: 0.0735 (α·Cls: 0.0687, β·Trans: 0.0840)\n",
      "   Weights: α=0.6876, β=0.3124\n",
      "   Disease: Acc=0.9868, W-P=0.9868, W-R=0.9868, W-F1=0.9868\n",
      "   Speech: WER=0.0195, CER=0.0141\n"
     ]
    },
    {
     "name": "stderr",
     "output_type": "stream",
     "text": [
      "Evaluating: 100%|███████████████████████████████████████████████████████████████████████████████████████████████████████████████████████████████████| 27/27 [00:04<00:00,  5.67it/s]\n"
     ]
    },
    {
     "name": "stdout",
     "output_type": "stream",
     "text": [
      "\n",
      "📊 VALIDATION SUMMARY:\n",
      "\n",
      "📊 VALIDATION DETAILED METRICS:\n",
      "   🏥 Disease Classification:\n",
      "      Overall Accuracy: 0.9812\n",
      "      Weighted Precision: 0.9812\n",
      "      Weighted Recall: 0.9812\n",
      "      Weighted F1: 0.9812\n",
      "      Macro Precision: 0.9812\n",
      "      Macro Recall: 0.9812\n",
      "      Macro F1: 0.9812\n",
      "   🎯 Transcription:\n",
      "      Overall WER: 0.0613\n",
      "      Overall CER: 0.0437\n",
      "   📈 Per-Class Disease Classification:\n",
      "      Class        Prec   Rec    F1     Support \n",
      "      ----------------------------------------\n",
      "      Normal       0.972 0.972 0.972 71      \n",
      "      Dysphonia    1.000 1.000 1.000 71      \n",
      "      Dysarthria   0.972 0.972 0.972 71      \n",
      "   📝 Per-Class Transcription:\n",
      "      Class        WER    CER    Samples  Valid   \n",
      "      ------------------------------------------------\n",
      "      Normal       0.027 0.019 71       71      \n",
      "      Dysphonia    0.067 0.048 71       71      \n",
      "      Dysarthria   0.098 0.071 71       71      \n",
      "✅ Best model saved: ../checkpoints_exp/checkpoints_base.en_encoder_learning_new_ffmpeg/best_multitask_model_base.en.pt\n",
      "\n",
      "============================================================\n",
      "EPOCH 8/50\n",
      "============================================================\n"
     ]
    },
    {
     "name": "stderr",
     "output_type": "stream",
     "text": [
      "Training Epoch 8: 100%|███████████████████████████████████████████████████████████████████████████████████████████████████████████████████████████| 109/109 [01:54<00:00,  1.05s/it]\n"
     ]
    },
    {
     "name": "stdout",
     "output_type": "stream",
     "text": [
      "\n",
      "📈 TRAINING EPOCH 8 SUMMARY:\n",
      "   Loss: 0.0448 (α·Cls: 0.0409, β·Trans: 0.0533)\n",
      "   Weights: α=0.6876, β=0.3124\n",
      "   Disease: Acc=0.9908, W-P=0.9908, W-R=0.9908, W-F1=0.9908\n",
      "   Speech: WER=0.0125, CER=0.0088\n"
     ]
    },
    {
     "name": "stderr",
     "output_type": "stream",
     "text": [
      "Evaluating: 100%|███████████████████████████████████████████████████████████████████████████████████████████████████████████████████████████████████| 27/27 [00:04<00:00,  6.29it/s]\n"
     ]
    },
    {
     "name": "stdout",
     "output_type": "stream",
     "text": [
      "\n",
      "📊 VALIDATION SUMMARY:\n",
      "\n",
      "📊 VALIDATION DETAILED METRICS:\n",
      "   🏥 Disease Classification:\n",
      "      Overall Accuracy: 0.9812\n",
      "      Weighted Precision: 0.9812\n",
      "      Weighted Recall: 0.9812\n",
      "      Weighted F1: 0.9812\n",
      "      Macro Precision: 0.9812\n",
      "      Macro Recall: 0.9812\n",
      "      Macro F1: 0.9812\n",
      "   🎯 Transcription:\n",
      "      Overall WER: 0.0551\n",
      "      Overall CER: 0.0395\n",
      "   📈 Per-Class Disease Classification:\n",
      "      Class        Prec   Rec    F1     Support \n",
      "      ----------------------------------------\n",
      "      Normal       0.972 0.972 0.972 71      \n",
      "      Dysphonia    1.000 1.000 1.000 71      \n",
      "      Dysarthria   0.972 0.972 0.972 71      \n",
      "   📝 Per-Class Transcription:\n",
      "      Class        WER    CER    Samples  Valid   \n",
      "      ------------------------------------------------\n",
      "      Normal       0.027 0.018 71       71      \n",
      "      Dysphonia    0.055 0.040 71       71      \n",
      "      Dysarthria   0.093 0.068 71       71      \n",
      "✅ Best model saved: ../checkpoints_exp/checkpoints_base.en_encoder_learning_new_ffmpeg/best_multitask_model_base.en.pt\n",
      "\n",
      "============================================================\n",
      "EPOCH 9/50\n",
      "============================================================\n"
     ]
    },
    {
     "name": "stderr",
     "output_type": "stream",
     "text": [
      "Training Epoch 9: 100%|███████████████████████████████████████████████████████████████████████████████████████████████████████████████████████████| 109/109 [01:57<00:00,  1.08s/it]\n"
     ]
    },
    {
     "name": "stdout",
     "output_type": "stream",
     "text": [
      "\n",
      "📈 TRAINING EPOCH 9 SUMMARY:\n",
      "   Loss: 0.0264 (α·Cls: 0.0238, β·Trans: 0.0322)\n",
      "   Weights: α=0.6876, β=0.3124\n",
      "   Disease: Acc=0.9960, W-P=0.9960, W-R=0.9960, W-F1=0.9960\n",
      "   Speech: WER=0.0100, CER=0.0071\n"
     ]
    },
    {
     "name": "stderr",
     "output_type": "stream",
     "text": [
      "Evaluating: 100%|███████████████████████████████████████████████████████████████████████████████████████████████████████████████████████████████████| 27/27 [00:05<00:00,  4.54it/s]\n"
     ]
    },
    {
     "name": "stdout",
     "output_type": "stream",
     "text": [
      "\n",
      "📊 VALIDATION SUMMARY:\n",
      "\n",
      "📊 VALIDATION DETAILED METRICS:\n",
      "   🏥 Disease Classification:\n",
      "      Overall Accuracy: 0.9906\n",
      "      Weighted Precision: 0.9909\n",
      "      Weighted Recall: 0.9906\n",
      "      Weighted F1: 0.9906\n",
      "      Macro Precision: 0.9909\n",
      "      Macro Recall: 0.9906\n",
      "      Macro F1: 0.9906\n",
      "   🎯 Transcription:\n",
      "      Overall WER: 0.0522\n",
      "      Overall CER: 0.0375\n",
      "   📈 Per-Class Disease Classification:\n",
      "      Class        Prec   Rec    F1     Support \n",
      "      ----------------------------------------\n",
      "      Normal       0.973 1.000 0.986 71      \n",
      "      Dysphonia    1.000 1.000 1.000 71      \n",
      "      Dysarthria   1.000 0.972 0.986 71      \n",
      "   📝 Per-Class Transcription:\n",
      "      Class        WER    CER    Samples  Valid   \n",
      "      ------------------------------------------------\n",
      "      Normal       0.028 0.020 71       71      \n",
      "      Dysphonia    0.048 0.034 71       71      \n",
      "      Dysarthria   0.091 0.068 71       71      \n",
      "✅ Best model saved: ../checkpoints_exp/checkpoints_base.en_encoder_learning_new_ffmpeg/best_multitask_model_base.en.pt\n",
      "\n",
      "============================================================\n",
      "EPOCH 10/50\n",
      "============================================================\n"
     ]
    },
    {
     "name": "stderr",
     "output_type": "stream",
     "text": [
      "Training Epoch 10: 100%|██████████████████████████████████████████████████████████████████████████████████████████████████████████████████████████| 109/109 [01:57<00:00,  1.08s/it]\n"
     ]
    },
    {
     "name": "stdout",
     "output_type": "stream",
     "text": [
      "\n",
      "📈 TRAINING EPOCH 10 SUMMARY:\n",
      "   Loss: 0.0181 (α·Cls: 0.0177, β·Trans: 0.0191)\n",
      "   Weights: α=0.6876, β=0.3124\n",
      "   Disease: Acc=0.9942, W-P=0.9943, W-R=0.9942, W-F1=0.9942\n",
      "   Speech: WER=0.0085, CER=0.0059\n"
     ]
    },
    {
     "name": "stderr",
     "output_type": "stream",
     "text": [
      "Evaluating: 100%|███████████████████████████████████████████████████████████████████████████████████████████████████████████████████████████████████| 27/27 [00:04<00:00,  6.09it/s]\n"
     ]
    },
    {
     "name": "stdout",
     "output_type": "stream",
     "text": [
      "\n",
      "📊 VALIDATION SUMMARY:\n",
      "\n",
      "📊 VALIDATION DETAILED METRICS:\n",
      "   🏥 Disease Classification:\n",
      "      Overall Accuracy: 0.9906\n",
      "      Weighted Precision: 0.9906\n",
      "      Weighted Recall: 0.9906\n",
      "      Weighted F1: 0.9906\n",
      "      Macro Precision: 0.9906\n",
      "      Macro Recall: 0.9906\n",
      "      Macro F1: 0.9906\n",
      "   🎯 Transcription:\n",
      "      Overall WER: 0.0484\n",
      "      Overall CER: 0.0347\n",
      "   📈 Per-Class Disease Classification:\n",
      "      Class        Prec   Rec    F1     Support \n",
      "      ----------------------------------------\n",
      "      Normal       0.986 0.986 0.986 71      \n",
      "      Dysphonia    1.000 1.000 1.000 71      \n",
      "      Dysarthria   0.986 0.986 0.986 71      \n",
      "   📝 Per-Class Transcription:\n",
      "      Class        WER    CER    Samples  Valid   \n",
      "      ------------------------------------------------\n",
      "      Normal       0.031 0.022 71       71      \n",
      "      Dysphonia    0.043 0.030 71       71      \n",
      "      Dysarthria   0.080 0.059 71       71      \n",
      "✅ Best model saved: ../checkpoints_exp/checkpoints_base.en_encoder_learning_new_ffmpeg/best_multitask_model_base.en.pt\n",
      "\n",
      "============================================================\n",
      "EPOCH 11/50\n",
      "============================================================\n"
     ]
    },
    {
     "name": "stderr",
     "output_type": "stream",
     "text": [
      "Training Epoch 11: 100%|██████████████████████████████████████████████████████████████████████████████████████████████████████████████████████████| 109/109 [01:57<00:00,  1.08s/it]\n"
     ]
    },
    {
     "name": "stdout",
     "output_type": "stream",
     "text": [
      "\n",
      "📈 TRAINING EPOCH 11 SUMMARY:\n",
      "   Loss: 0.0118 (α·Cls: 0.0115, β·Trans: 0.0123)\n",
      "   Weights: α=0.6876, β=0.3124\n",
      "   Disease: Acc=0.9977, W-P=0.9977, W-R=0.9977, W-F1=0.9977\n",
      "   Speech: WER=0.0096, CER=0.0067\n"
     ]
    },
    {
     "name": "stderr",
     "output_type": "stream",
     "text": [
      "Evaluating: 100%|███████████████████████████████████████████████████████████████████████████████████████████████████████████████████████████████████| 27/27 [00:04<00:00,  5.75it/s]\n"
     ]
    },
    {
     "name": "stdout",
     "output_type": "stream",
     "text": [
      "\n",
      "📊 VALIDATION SUMMARY:\n",
      "\n",
      "📊 VALIDATION DETAILED METRICS:\n",
      "   🏥 Disease Classification:\n",
      "      Overall Accuracy: 0.9906\n",
      "      Weighted Precision: 0.9906\n",
      "      Weighted Recall: 0.9906\n",
      "      Weighted F1: 0.9906\n",
      "      Macro Precision: 0.9906\n",
      "      Macro Recall: 0.9906\n",
      "      Macro F1: 0.9906\n",
      "   🎯 Transcription:\n",
      "      Overall WER: 0.0489\n",
      "      Overall CER: 0.0345\n",
      "   📈 Per-Class Disease Classification:\n",
      "      Class        Prec   Rec    F1     Support \n",
      "      ----------------------------------------\n",
      "      Normal       0.986 0.986 0.986 71      \n",
      "      Dysphonia    1.000 1.000 1.000 71      \n",
      "      Dysarthria   0.986 0.986 0.986 71      \n",
      "   📝 Per-Class Transcription:\n",
      "      Class        WER    CER    Samples  Valid   \n",
      "      ------------------------------------------------\n",
      "      Normal       0.032 0.021 71       71      \n",
      "      Dysphonia    0.040 0.029 71       71      \n",
      "      Dysarthria   0.083 0.062 71       71      \n",
      "✅ Best model saved: ../checkpoints_exp/checkpoints_base.en_encoder_learning_new_ffmpeg/best_multitask_model_base.en.pt\n",
      "\n",
      "============================================================\n",
      "EPOCH 12/50\n",
      "============================================================\n"
     ]
    },
    {
     "name": "stderr",
     "output_type": "stream",
     "text": [
      "Training Epoch 12: 100%|██████████████████████████████████████████████████████████████████████████████████████████████████████████████████████████| 109/109 [01:57<00:00,  1.08s/it]\n"
     ]
    },
    {
     "name": "stdout",
     "output_type": "stream",
     "text": [
      "\n",
      "📈 TRAINING EPOCH 12 SUMMARY:\n",
      "   Loss: 0.0076 (α·Cls: 0.0074, β·Trans: 0.0080)\n",
      "   Weights: α=0.6876, β=0.3124\n",
      "   Disease: Acc=0.9977, W-P=0.9977, W-R=0.9977, W-F1=0.9977\n",
      "   Speech: WER=0.0123, CER=0.0084\n"
     ]
    },
    {
     "name": "stderr",
     "output_type": "stream",
     "text": [
      "Evaluating: 100%|███████████████████████████████████████████████████████████████████████████████████████████████████████████████████████████████████| 27/27 [00:04<00:00,  5.63it/s]\n"
     ]
    },
    {
     "name": "stdout",
     "output_type": "stream",
     "text": [
      "\n",
      "📊 VALIDATION SUMMARY:\n",
      "\n",
      "📊 VALIDATION DETAILED METRICS:\n",
      "   🏥 Disease Classification:\n",
      "      Overall Accuracy: 0.9859\n",
      "      Weighted Precision: 0.9860\n",
      "      Weighted Recall: 0.9859\n",
      "      Weighted F1: 0.9859\n",
      "      Macro Precision: 0.9860\n",
      "      Macro Recall: 0.9859\n",
      "      Macro F1: 0.9859\n",
      "   🎯 Transcription:\n",
      "      Overall WER: 0.0494\n",
      "      Overall CER: 0.0345\n",
      "   📈 Per-Class Disease Classification:\n",
      "      Class        Prec   Rec    F1     Support \n",
      "      ----------------------------------------\n",
      "      Normal       0.986 0.972 0.979 71      \n",
      "      Dysphonia    1.000 1.000 1.000 71      \n",
      "      Dysarthria   0.972 0.986 0.979 71      \n",
      "   📝 Per-Class Transcription:\n",
      "      Class        WER    CER    Samples  Valid   \n",
      "      ------------------------------------------------\n",
      "      Normal       0.039 0.025 71       71      \n",
      "      Dysphonia    0.042 0.031 71       71      \n",
      "      Dysarthria   0.074 0.054 71       71      \n",
      "⏳ No improvement. Patience: 1/10\n",
      "\n",
      "============================================================\n",
      "EPOCH 13/50\n",
      "============================================================\n"
     ]
    },
    {
     "name": "stderr",
     "output_type": "stream",
     "text": [
      "Training Epoch 13: 100%|██████████████████████████████████████████████████████████████████████████████████████████████████████████████████████████| 109/109 [01:57<00:00,  1.08s/it]\n"
     ]
    },
    {
     "name": "stdout",
     "output_type": "stream",
     "text": [
      "\n",
      "📈 TRAINING EPOCH 13 SUMMARY:\n",
      "   Loss: 0.0050 (α·Cls: 0.0048, β·Trans: 0.0055)\n",
      "   Weights: α=0.6876, β=0.3124\n",
      "   Disease: Acc=0.9983, W-P=0.9983, W-R=0.9983, W-F1=0.9983\n",
      "   Speech: WER=0.0113, CER=0.0075\n"
     ]
    },
    {
     "name": "stderr",
     "output_type": "stream",
     "text": [
      "Evaluating: 100%|███████████████████████████████████████████████████████████████████████████████████████████████████████████████████████████████████| 27/27 [00:04<00:00,  5.62it/s]\n"
     ]
    },
    {
     "name": "stdout",
     "output_type": "stream",
     "text": [
      "\n",
      "📊 VALIDATION SUMMARY:\n",
      "\n",
      "📊 VALIDATION DETAILED METRICS:\n",
      "   🏥 Disease Classification:\n",
      "      Overall Accuracy: 0.9906\n",
      "      Weighted Precision: 0.9906\n",
      "      Weighted Recall: 0.9906\n",
      "      Weighted F1: 0.9906\n",
      "      Macro Precision: 0.9906\n",
      "      Macro Recall: 0.9906\n",
      "      Macro F1: 0.9906\n",
      "   🎯 Transcription:\n",
      "      Overall WER: 0.0489\n",
      "      Overall CER: 0.0335\n",
      "   📈 Per-Class Disease Classification:\n",
      "      Class        Prec   Rec    F1     Support \n",
      "      ----------------------------------------\n",
      "      Normal       0.986 0.986 0.986 71      \n",
      "      Dysphonia    1.000 1.000 1.000 71      \n",
      "      Dysarthria   0.986 0.986 0.986 71      \n",
      "   📝 Per-Class Transcription:\n",
      "      Class        WER    CER    Samples  Valid   \n",
      "      ------------------------------------------------\n",
      "      Normal       0.041 0.025 71       71      \n",
      "      Dysphonia    0.038 0.027 71       71      \n",
      "      Dysarthria   0.076 0.055 71       71      \n",
      "✅ Best model saved: ../checkpoints_exp/checkpoints_base.en_encoder_learning_new_ffmpeg/best_multitask_model_base.en.pt\n",
      "\n",
      "============================================================\n",
      "EPOCH 14/50\n",
      "============================================================\n"
     ]
    },
    {
     "name": "stderr",
     "output_type": "stream",
     "text": [
      "Training Epoch 14: 100%|██████████████████████████████████████████████████████████████████████████████████████████████████████████████████████████| 109/109 [01:57<00:00,  1.08s/it]\n"
     ]
    },
    {
     "name": "stdout",
     "output_type": "stream",
     "text": [
      "\n",
      "📈 TRAINING EPOCH 14 SUMMARY:\n",
      "   Loss: 0.0037 (α·Cls: 0.0036, β·Trans: 0.0039)\n",
      "   Weights: α=0.6876, β=0.3124\n",
      "   Disease: Acc=0.9988, W-P=0.9988, W-R=0.9988, W-F1=0.9988\n",
      "   Speech: WER=0.0126, CER=0.0091\n"
     ]
    },
    {
     "name": "stderr",
     "output_type": "stream",
     "text": [
      "Evaluating: 100%|███████████████████████████████████████████████████████████████████████████████████████████████████████████████████████████████████| 27/27 [00:04<00:00,  5.77it/s]\n"
     ]
    },
    {
     "name": "stdout",
     "output_type": "stream",
     "text": [
      "\n",
      "📊 VALIDATION SUMMARY:\n",
      "\n",
      "📊 VALIDATION DETAILED METRICS:\n",
      "   🏥 Disease Classification:\n",
      "      Overall Accuracy: 0.9906\n",
      "      Weighted Precision: 0.9906\n",
      "      Weighted Recall: 0.9906\n",
      "      Weighted F1: 0.9906\n",
      "      Macro Precision: 0.9906\n",
      "      Macro Recall: 0.9906\n",
      "      Macro F1: 0.9906\n",
      "   🎯 Transcription:\n",
      "      Overall WER: 0.0489\n",
      "      Overall CER: 0.0336\n",
      "   📈 Per-Class Disease Classification:\n",
      "      Class        Prec   Rec    F1     Support \n",
      "      ----------------------------------------\n",
      "      Normal       0.986 0.986 0.986 71      \n",
      "      Dysphonia    1.000 1.000 1.000 71      \n",
      "      Dysarthria   0.986 0.986 0.986 71      \n",
      "   📝 Per-Class Transcription:\n",
      "      Class        WER    CER    Samples  Valid   \n",
      "      ------------------------------------------------\n",
      "      Normal       0.045 0.028 71       71      \n",
      "      Dysphonia    0.037 0.026 71       71      \n",
      "      Dysarthria   0.073 0.053 71       71      \n",
      "✅ Best model saved: ../checkpoints_exp/checkpoints_base.en_encoder_learning_new_ffmpeg/best_multitask_model_base.en.pt\n",
      "\n",
      "============================================================\n",
      "EPOCH 15/50\n",
      "============================================================\n"
     ]
    },
    {
     "name": "stderr",
     "output_type": "stream",
     "text": [
      "Training Epoch 15: 100%|██████████████████████████████████████████████████████████████████████████████████████████████████████████████████████████| 109/109 [01:58<00:00,  1.08s/it]\n"
     ]
    },
    {
     "name": "stdout",
     "output_type": "stream",
     "text": [
      "\n",
      "📈 TRAINING EPOCH 15 SUMMARY:\n",
      "   Loss: 0.0018 (α·Cls: 0.0013, β·Trans: 0.0030)\n",
      "   Weights: α=0.6876, β=0.3124\n",
      "   Disease: Acc=1.0000, W-P=1.0000, W-R=1.0000, W-F1=1.0000\n",
      "   Speech: WER=0.0140, CER=0.0098\n"
     ]
    },
    {
     "name": "stderr",
     "output_type": "stream",
     "text": [
      "Evaluating: 100%|███████████████████████████████████████████████████████████████████████████████████████████████████████████████████████████████████| 27/27 [00:04<00:00,  5.56it/s]\n"
     ]
    },
    {
     "name": "stdout",
     "output_type": "stream",
     "text": [
      "\n",
      "📊 VALIDATION SUMMARY:\n",
      "\n",
      "📊 VALIDATION DETAILED METRICS:\n",
      "   🏥 Disease Classification:\n",
      "      Overall Accuracy: 0.9906\n",
      "      Weighted Precision: 0.9906\n",
      "      Weighted Recall: 0.9906\n",
      "      Weighted F1: 0.9906\n",
      "      Macro Precision: 0.9906\n",
      "      Macro Recall: 0.9906\n",
      "      Macro F1: 0.9906\n",
      "   🎯 Transcription:\n",
      "      Overall WER: 0.0499\n",
      "      Overall CER: 0.0350\n",
      "   📈 Per-Class Disease Classification:\n",
      "      Class        Prec   Rec    F1     Support \n",
      "      ----------------------------------------\n",
      "      Normal       0.986 0.986 0.986 71      \n",
      "      Dysphonia    1.000 1.000 1.000 71      \n",
      "      Dysarthria   0.986 0.986 0.986 71      \n",
      "   📝 Per-Class Transcription:\n",
      "      Class        WER    CER    Samples  Valid   \n",
      "      ------------------------------------------------\n",
      "      Normal       0.045 0.028 71       71      \n",
      "      Dysphonia    0.036 0.026 71       71      \n",
      "      Dysarthria   0.078 0.059 71       71      \n",
      "⏳ No improvement. Patience: 1/10\n",
      "\n",
      "============================================================\n",
      "EPOCH 16/50\n",
      "============================================================\n"
     ]
    },
    {
     "name": "stderr",
     "output_type": "stream",
     "text": [
      "Training Epoch 16: 100%|██████████████████████████████████████████████████████████████████████████████████████████████████████████████████████████| 109/109 [01:56<00:00,  1.07s/it]\n"
     ]
    },
    {
     "name": "stdout",
     "output_type": "stream",
     "text": [
      "\n",
      "📈 TRAINING EPOCH 16 SUMMARY:\n",
      "   Loss: 0.0015 (α·Cls: 0.0011, β·Trans: 0.0025)\n",
      "   Weights: α=0.6876, β=0.3124\n",
      "   Disease: Acc=1.0000, W-P=1.0000, W-R=1.0000, W-F1=1.0000\n",
      "   Speech: WER=0.0150, CER=0.0100\n"
     ]
    },
    {
     "name": "stderr",
     "output_type": "stream",
     "text": [
      "Evaluating: 100%|███████████████████████████████████████████████████████████████████████████████████████████████████████████████████████████████████| 27/27 [00:04<00:00,  5.86it/s]\n"
     ]
    },
    {
     "name": "stdout",
     "output_type": "stream",
     "text": [
      "\n",
      "📊 VALIDATION SUMMARY:\n",
      "\n",
      "📊 VALIDATION DETAILED METRICS:\n",
      "   🏥 Disease Classification:\n",
      "      Overall Accuracy: 0.9859\n",
      "      Weighted Precision: 0.9860\n",
      "      Weighted Recall: 0.9859\n",
      "      Weighted F1: 0.9859\n",
      "      Macro Precision: 0.9860\n",
      "      Macro Recall: 0.9859\n",
      "      Macro F1: 0.9859\n",
      "   🎯 Transcription:\n",
      "      Overall WER: 0.0546\n",
      "      Overall CER: 0.0387\n",
      "   📈 Per-Class Disease Classification:\n",
      "      Class        Prec   Rec    F1     Support \n",
      "      ----------------------------------------\n",
      "      Normal       0.972 0.986 0.979 71      \n",
      "      Dysphonia    1.000 1.000 1.000 71      \n",
      "      Dysarthria   0.986 0.972 0.979 71      \n",
      "   📝 Per-Class Transcription:\n",
      "      Class        WER    CER    Samples  Valid   \n",
      "      ------------------------------------------------\n",
      "      Normal       0.055 0.035 71       71      \n",
      "      Dysphonia    0.036 0.026 71       71      \n",
      "      Dysarthria   0.083 0.064 71       71      \n",
      "⏳ No improvement. Patience: 2/10\n",
      "\n",
      "============================================================\n",
      "EPOCH 17/50\n",
      "============================================================\n"
     ]
    },
    {
     "name": "stderr",
     "output_type": "stream",
     "text": [
      "Training Epoch 17: 100%|██████████████████████████████████████████████████████████████████████████████████████████████████████████████████████████| 109/109 [01:41<00:00,  1.07it/s]\n"
     ]
    },
    {
     "name": "stdout",
     "output_type": "stream",
     "text": [
      "\n",
      "📈 TRAINING EPOCH 17 SUMMARY:\n",
      "   Loss: 0.0011 (α·Cls: 0.0006, β·Trans: 0.0020)\n",
      "   Weights: α=0.6876, β=0.3124\n",
      "   Disease: Acc=1.0000, W-P=1.0000, W-R=1.0000, W-F1=1.0000\n",
      "   Speech: WER=0.0151, CER=0.0103\n"
     ]
    },
    {
     "name": "stderr",
     "output_type": "stream",
     "text": [
      "Evaluating: 100%|███████████████████████████████████████████████████████████████████████████████████████████████████████████████████████████████████| 27/27 [00:02<00:00, 11.85it/s]\n"
     ]
    },
    {
     "name": "stdout",
     "output_type": "stream",
     "text": [
      "\n",
      "📊 VALIDATION SUMMARY:\n",
      "\n",
      "📊 VALIDATION DETAILED METRICS:\n",
      "   🏥 Disease Classification:\n",
      "      Overall Accuracy: 0.9906\n",
      "      Weighted Precision: 0.9906\n",
      "      Weighted Recall: 0.9906\n",
      "      Weighted F1: 0.9906\n",
      "      Macro Precision: 0.9906\n",
      "      Macro Recall: 0.9906\n",
      "      Macro F1: 0.9906\n",
      "   🎯 Transcription:\n",
      "      Overall WER: 0.0503\n",
      "      Overall CER: 0.0346\n",
      "   📈 Per-Class Disease Classification:\n",
      "      Class        Prec   Rec    F1     Support \n",
      "      ----------------------------------------\n",
      "      Normal       0.986 0.986 0.986 71      \n",
      "      Dysphonia    1.000 1.000 1.000 71      \n",
      "      Dysarthria   0.986 0.986 0.986 71      \n",
      "   📝 Per-Class Transcription:\n",
      "      Class        WER    CER    Samples  Valid   \n",
      "      ------------------------------------------------\n",
      "      Normal       0.043 0.026 71       71      \n",
      "      Dysphonia    0.036 0.026 71       71      \n",
      "      Dysarthria   0.082 0.060 71       71      \n",
      "✅ Best model saved: ../checkpoints_exp/checkpoints_base.en_encoder_learning_new_ffmpeg/best_multitask_model_base.en.pt\n",
      "\n",
      "============================================================\n",
      "EPOCH 18/50\n",
      "============================================================\n"
     ]
    },
    {
     "name": "stderr",
     "output_type": "stream",
     "text": [
      "Training Epoch 18: 100%|██████████████████████████████████████████████████████████████████████████████████████████████████████████████████████████| 109/109 [00:57<00:00,  1.89it/s]\n"
     ]
    },
    {
     "name": "stdout",
     "output_type": "stream",
     "text": [
      "\n",
      "📈 TRAINING EPOCH 18 SUMMARY:\n",
      "   Loss: 0.0009 (α·Cls: 0.0005, β·Trans: 0.0017)\n",
      "   Weights: α=0.6876, β=0.3124\n",
      "   Disease: Acc=1.0000, W-P=1.0000, W-R=1.0000, W-F1=1.0000\n",
      "   Speech: WER=0.0156, CER=0.0108\n"
     ]
    },
    {
     "name": "stderr",
     "output_type": "stream",
     "text": [
      "Evaluating: 100%|███████████████████████████████████████████████████████████████████████████████████████████████████████████████████████████████████| 27/27 [00:07<00:00,  3.64it/s]\n"
     ]
    },
    {
     "name": "stdout",
     "output_type": "stream",
     "text": [
      "\n",
      "📊 VALIDATION SUMMARY:\n",
      "\n",
      "📊 VALIDATION DETAILED METRICS:\n",
      "   🏥 Disease Classification:\n",
      "      Overall Accuracy: 0.9859\n",
      "      Weighted Precision: 0.9860\n",
      "      Weighted Recall: 0.9859\n",
      "      Weighted F1: 0.9859\n",
      "      Macro Precision: 0.9860\n",
      "      Macro Recall: 0.9859\n",
      "      Macro F1: 0.9859\n",
      "   🎯 Transcription:\n",
      "      Overall WER: 0.0527\n",
      "      Overall CER: 0.0366\n",
      "   📈 Per-Class Disease Classification:\n",
      "      Class        Prec   Rec    F1     Support \n",
      "      ----------------------------------------\n",
      "      Normal       0.972 0.986 0.979 71      \n",
      "      Dysphonia    1.000 1.000 1.000 71      \n",
      "      Dysarthria   0.986 0.972 0.979 71      \n",
      "   📝 Per-Class Transcription:\n",
      "      Class        WER    CER    Samples  Valid   \n",
      "      ------------------------------------------------\n",
      "      Normal       0.052 0.033 71       71      \n",
      "      Dysphonia    0.037 0.026 71       71      \n",
      "      Dysarthria   0.078 0.058 71       71      \n",
      "⏳ No improvement. Patience: 1/10\n",
      "\n",
      "============================================================\n",
      "EPOCH 19/50\n",
      "============================================================\n"
     ]
    },
    {
     "name": "stderr",
     "output_type": "stream",
     "text": [
      "Training Epoch 19: 100%|██████████████████████████████████████████████████████████████████████████████████████████████████████████████████████████| 109/109 [00:58<00:00,  1.88it/s]\n"
     ]
    },
    {
     "name": "stdout",
     "output_type": "stream",
     "text": [
      "\n",
      "📈 TRAINING EPOCH 19 SUMMARY:\n",
      "   Loss: 0.0008 (α·Cls: 0.0004, β·Trans: 0.0015)\n",
      "   Weights: α=0.6876, β=0.3124\n",
      "   Disease: Acc=1.0000, W-P=1.0000, W-R=1.0000, W-F1=1.0000\n",
      "   Speech: WER=0.0150, CER=0.0106\n"
     ]
    },
    {
     "name": "stderr",
     "output_type": "stream",
     "text": [
      "Evaluating: 100%|███████████████████████████████████████████████████████████████████████████████████████████████████████████████████████████████████| 27/27 [00:02<00:00, 11.92it/s]\n"
     ]
    },
    {
     "name": "stdout",
     "output_type": "stream",
     "text": [
      "\n",
      "📊 VALIDATION SUMMARY:\n",
      "\n",
      "📊 VALIDATION DETAILED METRICS:\n",
      "   🏥 Disease Classification:\n",
      "      Overall Accuracy: 0.9906\n",
      "      Weighted Precision: 0.9906\n",
      "      Weighted Recall: 0.9906\n",
      "      Weighted F1: 0.9906\n",
      "      Macro Precision: 0.9906\n",
      "      Macro Recall: 0.9906\n",
      "      Macro F1: 0.9906\n",
      "   🎯 Transcription:\n",
      "      Overall WER: 0.0518\n",
      "      Overall CER: 0.0363\n",
      "   📈 Per-Class Disease Classification:\n",
      "      Class        Prec   Rec    F1     Support \n",
      "      ----------------------------------------\n",
      "      Normal       0.986 0.986 0.986 71      \n",
      "      Dysphonia    1.000 1.000 1.000 71      \n",
      "      Dysarthria   0.986 0.986 0.986 71      \n",
      "   📝 Per-Class Transcription:\n",
      "      Class        WER    CER    Samples  Valid   \n",
      "      ------------------------------------------------\n",
      "      Normal       0.050 0.032 71       71      \n",
      "      Dysphonia    0.036 0.026 71       71      \n",
      "      Dysarthria   0.078 0.058 71       71      \n",
      "⏳ No improvement. Patience: 2/10\n",
      "\n",
      "============================================================\n",
      "EPOCH 20/50\n",
      "============================================================\n"
     ]
    },
    {
     "name": "stderr",
     "output_type": "stream",
     "text": [
      "Training Epoch 20: 100%|██████████████████████████████████████████████████████████████████████████████████████████████████████████████████████████| 109/109 [01:01<00:00,  1.78it/s]\n"
     ]
    },
    {
     "name": "stdout",
     "output_type": "stream",
     "text": [
      "\n",
      "📈 TRAINING EPOCH 20 SUMMARY:\n",
      "   Loss: 0.0007 (α·Cls: 0.0004, β·Trans: 0.0013)\n",
      "   Weights: α=0.6876, β=0.3124\n",
      "   Disease: Acc=1.0000, W-P=1.0000, W-R=1.0000, W-F1=1.0000\n",
      "   Speech: WER=0.0164, CER=0.0113\n"
     ]
    },
    {
     "name": "stderr",
     "output_type": "stream",
     "text": [
      "Evaluating: 100%|███████████████████████████████████████████████████████████████████████████████████████████████████████████████████████████████████| 27/27 [00:02<00:00, 11.88it/s]\n"
     ]
    },
    {
     "name": "stdout",
     "output_type": "stream",
     "text": [
      "\n",
      "📊 VALIDATION SUMMARY:\n",
      "\n",
      "📊 VALIDATION DETAILED METRICS:\n",
      "   🏥 Disease Classification:\n",
      "      Overall Accuracy: 0.9906\n",
      "      Weighted Precision: 0.9906\n",
      "      Weighted Recall: 0.9906\n",
      "      Weighted F1: 0.9906\n",
      "      Macro Precision: 0.9906\n",
      "      Macro Recall: 0.9906\n",
      "      Macro F1: 0.9906\n",
      "   🎯 Transcription:\n",
      "      Overall WER: 0.0508\n",
      "      Overall CER: 0.0357\n",
      "   📈 Per-Class Disease Classification:\n",
      "      Class        Prec   Rec    F1     Support \n",
      "      ----------------------------------------\n",
      "      Normal       0.986 0.986 0.986 71      \n",
      "      Dysphonia    1.000 1.000 1.000 71      \n",
      "      Dysarthria   0.986 0.986 0.986 71      \n",
      "   📝 Per-Class Transcription:\n",
      "      Class        WER    CER    Samples  Valid   \n",
      "      ------------------------------------------------\n",
      "      Normal       0.048 0.031 71       71      \n",
      "      Dysphonia    0.036 0.026 71       71      \n",
      "      Dysarthria   0.078 0.058 71       71      \n",
      "⏳ No improvement. Patience: 3/10\n",
      "\n",
      "============================================================\n",
      "EPOCH 21/50\n",
      "============================================================\n"
     ]
    },
    {
     "name": "stderr",
     "output_type": "stream",
     "text": [
      "Training Epoch 21: 100%|██████████████████████████████████████████████████████████████████████████████████████████████████████████████████████████| 109/109 [00:59<00:00,  1.84it/s]\n"
     ]
    },
    {
     "name": "stdout",
     "output_type": "stream",
     "text": [
      "\n",
      "📈 TRAINING EPOCH 21 SUMMARY:\n",
      "   Loss: 0.0006 (α·Cls: 0.0003, β·Trans: 0.0011)\n",
      "   Weights: α=0.6876, β=0.3124\n",
      "   Disease: Acc=1.0000, W-P=1.0000, W-R=1.0000, W-F1=1.0000\n",
      "   Speech: WER=0.0159, CER=0.0114\n"
     ]
    },
    {
     "name": "stderr",
     "output_type": "stream",
     "text": [
      "Evaluating: 100%|███████████████████████████████████████████████████████████████████████████████████████████████████████████████████████████████████| 27/27 [00:05<00:00,  4.89it/s]\n"
     ]
    },
    {
     "name": "stdout",
     "output_type": "stream",
     "text": [
      "\n",
      "📊 VALIDATION SUMMARY:\n",
      "\n",
      "📊 VALIDATION DETAILED METRICS:\n",
      "   🏥 Disease Classification:\n",
      "      Overall Accuracy: 0.9906\n",
      "      Weighted Precision: 0.9906\n",
      "      Weighted Recall: 0.9906\n",
      "      Weighted F1: 0.9906\n",
      "      Macro Precision: 0.9906\n",
      "      Macro Recall: 0.9906\n",
      "      Macro F1: 0.9906\n",
      "   🎯 Transcription:\n",
      "      Overall WER: 0.0522\n",
      "      Overall CER: 0.0362\n",
      "   📈 Per-Class Disease Classification:\n",
      "      Class        Prec   Rec    F1     Support \n",
      "      ----------------------------------------\n",
      "      Normal       0.986 0.986 0.986 71      \n",
      "      Dysphonia    1.000 1.000 1.000 71      \n",
      "      Dysarthria   0.986 0.986 0.986 71      \n",
      "   📝 Per-Class Transcription:\n",
      "      Class        WER    CER    Samples  Valid   \n",
      "      ------------------------------------------------\n",
      "      Normal       0.053 0.034 71       71      \n",
      "      Dysphonia    0.034 0.025 71       71      \n",
      "      Dysarthria   0.078 0.058 71       71      \n",
      "⏳ No improvement. Patience: 4/10\n",
      "\n",
      "============================================================\n",
      "EPOCH 22/50\n",
      "============================================================\n"
     ]
    },
    {
     "name": "stderr",
     "output_type": "stream",
     "text": [
      "Training Epoch 22: 100%|██████████████████████████████████████████████████████████████████████████████████████████████████████████████████████████| 109/109 [00:58<00:00,  1.87it/s]\n"
     ]
    },
    {
     "name": "stdout",
     "output_type": "stream",
     "text": [
      "\n",
      "📈 TRAINING EPOCH 22 SUMMARY:\n",
      "   Loss: 0.0005 (α·Cls: 0.0003, β·Trans: 0.0010)\n",
      "   Weights: α=0.6876, β=0.3124\n",
      "   Disease: Acc=1.0000, W-P=1.0000, W-R=1.0000, W-F1=1.0000\n",
      "   Speech: WER=0.0157, CER=0.0110\n"
     ]
    },
    {
     "name": "stderr",
     "output_type": "stream",
     "text": [
      "Evaluating: 100%|███████████████████████████████████████████████████████████████████████████████████████████████████████████████████████████████████| 27/27 [00:02<00:00, 11.80it/s]\n"
     ]
    },
    {
     "name": "stdout",
     "output_type": "stream",
     "text": [
      "\n",
      "📊 VALIDATION SUMMARY:\n",
      "\n",
      "📊 VALIDATION DETAILED METRICS:\n",
      "   🏥 Disease Classification:\n",
      "      Overall Accuracy: 0.9859\n",
      "      Weighted Precision: 0.9860\n",
      "      Weighted Recall: 0.9859\n",
      "      Weighted F1: 0.9859\n",
      "      Macro Precision: 0.9860\n",
      "      Macro Recall: 0.9859\n",
      "      Macro F1: 0.9859\n",
      "   🎯 Transcription:\n",
      "      Overall WER: 0.0532\n",
      "      Overall CER: 0.0370\n",
      "   📈 Per-Class Disease Classification:\n",
      "      Class        Prec   Rec    F1     Support \n",
      "      ----------------------------------------\n",
      "      Normal       0.972 0.986 0.979 71      \n",
      "      Dysphonia    1.000 1.000 1.000 71      \n",
      "      Dysarthria   0.986 0.972 0.979 71      \n",
      "   📝 Per-Class Transcription:\n",
      "      Class        WER    CER    Samples  Valid   \n",
      "      ------------------------------------------------\n",
      "      Normal       0.053 0.034 71       71      \n",
      "      Dysphonia    0.034 0.025 71       71      \n",
      "      Dysarthria   0.082 0.060 71       71      \n",
      "⏳ No improvement. Patience: 5/10\n",
      "\n",
      "============================================================\n",
      "EPOCH 23/50\n",
      "============================================================\n"
     ]
    },
    {
     "name": "stderr",
     "output_type": "stream",
     "text": [
      "Training Epoch 23: 100%|██████████████████████████████████████████████████████████████████████████████████████████████████████████████████████████| 109/109 [01:00<00:00,  1.80it/s]\n"
     ]
    },
    {
     "name": "stdout",
     "output_type": "stream",
     "text": [
      "\n",
      "📈 TRAINING EPOCH 23 SUMMARY:\n",
      "   Loss: 0.0005 (α·Cls: 0.0002, β·Trans: 0.0009)\n",
      "   Weights: α=0.6876, β=0.3124\n",
      "   Disease: Acc=1.0000, W-P=1.0000, W-R=1.0000, W-F1=1.0000\n",
      "   Speech: WER=0.0168, CER=0.0118\n"
     ]
    },
    {
     "name": "stderr",
     "output_type": "stream",
     "text": [
      "Evaluating: 100%|███████████████████████████████████████████████████████████████████████████████████████████████████████████████████████████████████| 27/27 [00:02<00:00, 11.79it/s]\n"
     ]
    },
    {
     "name": "stdout",
     "output_type": "stream",
     "text": [
      "\n",
      "📊 VALIDATION SUMMARY:\n",
      "\n",
      "📊 VALIDATION DETAILED METRICS:\n",
      "   🏥 Disease Classification:\n",
      "      Overall Accuracy: 0.9906\n",
      "      Weighted Precision: 0.9906\n",
      "      Weighted Recall: 0.9906\n",
      "      Weighted F1: 0.9906\n",
      "      Macro Precision: 0.9906\n",
      "      Macro Recall: 0.9906\n",
      "      Macro F1: 0.9906\n",
      "   🎯 Transcription:\n",
      "      Overall WER: 0.0522\n",
      "      Overall CER: 0.0364\n",
      "   📈 Per-Class Disease Classification:\n",
      "      Class        Prec   Rec    F1     Support \n",
      "      ----------------------------------------\n",
      "      Normal       0.986 0.986 0.986 71      \n",
      "      Dysphonia    1.000 1.000 1.000 71      \n",
      "      Dysarthria   0.986 0.986 0.986 71      \n",
      "   📝 Per-Class Transcription:\n",
      "      Class        WER    CER    Samples  Valid   \n",
      "      ------------------------------------------------\n",
      "      Normal       0.050 0.033 71       71      \n",
      "      Dysphonia    0.034 0.025 71       71      \n",
      "      Dysarthria   0.082 0.060 71       71      \n",
      "⏳ No improvement. Patience: 6/10\n",
      "\n",
      "============================================================\n",
      "EPOCH 24/50\n",
      "============================================================\n"
     ]
    },
    {
     "name": "stderr",
     "output_type": "stream",
     "text": [
      "Training Epoch 24: 100%|██████████████████████████████████████████████████████████████████████████████████████████████████████████████████████████| 109/109 [01:00<00:00,  1.81it/s]\n"
     ]
    },
    {
     "name": "stdout",
     "output_type": "stream",
     "text": [
      "\n",
      "📈 TRAINING EPOCH 24 SUMMARY:\n",
      "   Loss: 0.0004 (α·Cls: 0.0002, β·Trans: 0.0008)\n",
      "   Weights: α=0.6876, β=0.3124\n",
      "   Disease: Acc=1.0000, W-P=1.0000, W-R=1.0000, W-F1=1.0000\n",
      "   Speech: WER=0.0157, CER=0.0112\n"
     ]
    },
    {
     "name": "stderr",
     "output_type": "stream",
     "text": [
      "Evaluating: 100%|███████████████████████████████████████████████████████████████████████████████████████████████████████████████████████████████████| 27/27 [00:03<00:00,  7.35it/s]\n"
     ]
    },
    {
     "name": "stdout",
     "output_type": "stream",
     "text": [
      "\n",
      "📊 VALIDATION SUMMARY:\n",
      "\n",
      "📊 VALIDATION DETAILED METRICS:\n",
      "   🏥 Disease Classification:\n",
      "      Overall Accuracy: 0.9859\n",
      "      Weighted Precision: 0.9860\n",
      "      Weighted Recall: 0.9859\n",
      "      Weighted F1: 0.9859\n",
      "      Macro Precision: 0.9860\n",
      "      Macro Recall: 0.9859\n",
      "      Macro F1: 0.9859\n",
      "   🎯 Transcription:\n",
      "      Overall WER: 0.0513\n",
      "      Overall CER: 0.0353\n",
      "   📈 Per-Class Disease Classification:\n",
      "      Class        Prec   Rec    F1     Support \n",
      "      ----------------------------------------\n",
      "      Normal       0.972 0.986 0.979 71      \n",
      "      Dysphonia    1.000 1.000 1.000 71      \n",
      "      Dysarthria   0.986 0.972 0.979 71      \n",
      "   📝 Per-Class Transcription:\n",
      "      Class        WER    CER    Samples  Valid   \n",
      "      ------------------------------------------------\n",
      "      Normal       0.048 0.030 71       71      \n",
      "      Dysphonia    0.034 0.024 71       71      \n",
      "      Dysarthria   0.082 0.060 71       71      \n",
      "⏳ No improvement. Patience: 7/10\n",
      "\n",
      "============================================================\n",
      "EPOCH 25/50\n",
      "============================================================\n"
     ]
    },
    {
     "name": "stderr",
     "output_type": "stream",
     "text": [
      "Training Epoch 25: 100%|██████████████████████████████████████████████████████████████████████████████████████████████████████████████████████████| 109/109 [00:59<00:00,  1.85it/s]\n"
     ]
    },
    {
     "name": "stdout",
     "output_type": "stream",
     "text": [
      "\n",
      "📈 TRAINING EPOCH 25 SUMMARY:\n",
      "   Loss: 0.0004 (α·Cls: 0.0002, β·Trans: 0.0007)\n",
      "   Weights: α=0.6876, β=0.3124\n",
      "   Disease: Acc=1.0000, W-P=1.0000, W-R=1.0000, W-F1=1.0000\n",
      "   Speech: WER=0.0174, CER=0.0123\n"
     ]
    },
    {
     "name": "stderr",
     "output_type": "stream",
     "text": [
      "Evaluating: 100%|███████████████████████████████████████████████████████████████████████████████████████████████████████████████████████████████████| 27/27 [00:02<00:00, 12.15it/s]\n"
     ]
    },
    {
     "name": "stdout",
     "output_type": "stream",
     "text": [
      "\n",
      "📊 VALIDATION SUMMARY:\n",
      "\n",
      "📊 VALIDATION DETAILED METRICS:\n",
      "   🏥 Disease Classification:\n",
      "      Overall Accuracy: 0.9859\n",
      "      Weighted Precision: 0.9860\n",
      "      Weighted Recall: 0.9859\n",
      "      Weighted F1: 0.9859\n",
      "      Macro Precision: 0.9860\n",
      "      Macro Recall: 0.9859\n",
      "      Macro F1: 0.9859\n",
      "   🎯 Transcription:\n",
      "      Overall WER: 0.0522\n",
      "      Overall CER: 0.0358\n",
      "   📈 Per-Class Disease Classification:\n",
      "      Class        Prec   Rec    F1     Support \n",
      "      ----------------------------------------\n",
      "      Normal       0.972 0.986 0.979 71      \n",
      "      Dysphonia    1.000 1.000 1.000 71      \n",
      "      Dysarthria   0.986 0.972 0.979 71      \n",
      "   📝 Per-Class Transcription:\n",
      "      Class        WER    CER    Samples  Valid   \n",
      "      ------------------------------------------------\n",
      "      Normal       0.050 0.033 71       71      \n",
      "      Dysphonia    0.034 0.023 71       71      \n",
      "      Dysarthria   0.082 0.060 71       71      \n",
      "⏳ No improvement. Patience: 8/10\n",
      "\n",
      "============================================================\n",
      "EPOCH 26/50\n",
      "============================================================\n"
     ]
    },
    {
     "name": "stderr",
     "output_type": "stream",
     "text": [
      "Training Epoch 26: 100%|██████████████████████████████████████████████████████████████████████████████████████████████████████████████████████████| 109/109 [01:00<00:00,  1.79it/s]\n"
     ]
    },
    {
     "name": "stdout",
     "output_type": "stream",
     "text": [
      "\n",
      "📈 TRAINING EPOCH 26 SUMMARY:\n",
      "   Loss: 0.0003 (α·Cls: 0.0002, β·Trans: 0.0007)\n",
      "   Weights: α=0.6876, β=0.3124\n",
      "   Disease: Acc=1.0000, W-P=1.0000, W-R=1.0000, W-F1=1.0000\n",
      "   Speech: WER=0.0165, CER=0.0113\n"
     ]
    },
    {
     "name": "stderr",
     "output_type": "stream",
     "text": [
      "Evaluating: 100%|███████████████████████████████████████████████████████████████████████████████████████████████████████████████████████████████████| 27/27 [00:02<00:00, 11.83it/s]\n"
     ]
    },
    {
     "name": "stdout",
     "output_type": "stream",
     "text": [
      "\n",
      "📊 VALIDATION SUMMARY:\n",
      "\n",
      "📊 VALIDATION DETAILED METRICS:\n",
      "   🏥 Disease Classification:\n",
      "      Overall Accuracy: 0.9859\n",
      "      Weighted Precision: 0.9860\n",
      "      Weighted Recall: 0.9859\n",
      "      Weighted F1: 0.9859\n",
      "      Macro Precision: 0.9860\n",
      "      Macro Recall: 0.9859\n",
      "      Macro F1: 0.9859\n",
      "   🎯 Transcription:\n",
      "      Overall WER: 0.0522\n",
      "      Overall CER: 0.0356\n",
      "   📈 Per-Class Disease Classification:\n",
      "      Class        Prec   Rec    F1     Support \n",
      "      ----------------------------------------\n",
      "      Normal       0.972 0.986 0.979 71      \n",
      "      Dysphonia    1.000 1.000 1.000 71      \n",
      "      Dysarthria   0.986 0.972 0.979 71      \n",
      "   📝 Per-Class Transcription:\n",
      "      Class        WER    CER    Samples  Valid   \n",
      "      ------------------------------------------------\n",
      "      Normal       0.049 0.031 71       71      \n",
      "      Dysphonia    0.034 0.023 71       71      \n",
      "      Dysarthria   0.083 0.061 71       71      \n",
      "⏳ No improvement. Patience: 9/10\n",
      "\n",
      "============================================================\n",
      "EPOCH 27/50\n",
      "============================================================\n"
     ]
    },
    {
     "name": "stderr",
     "output_type": "stream",
     "text": [
      "Training Epoch 27: 100%|██████████████████████████████████████████████████████████████████████████████████████████████████████████████████████████| 109/109 [00:59<00:00,  1.82it/s]\n"
     ]
    },
    {
     "name": "stdout",
     "output_type": "stream",
     "text": [
      "\n",
      "📈 TRAINING EPOCH 27 SUMMARY:\n",
      "   Loss: 0.0003 (α·Cls: 0.0002, β·Trans: 0.0006)\n",
      "   Weights: α=0.6876, β=0.3124\n",
      "   Disease: Acc=1.0000, W-P=1.0000, W-R=1.0000, W-F1=1.0000\n",
      "   Speech: WER=0.0174, CER=0.0123\n"
     ]
    },
    {
     "name": "stderr",
     "output_type": "stream",
     "text": [
      "Evaluating: 100%|███████████████████████████████████████████████████████████████████████████████████████████████████████████████████████████████████| 27/27 [00:03<00:00,  6.95it/s]\n"
     ]
    },
    {
     "name": "stdout",
     "output_type": "stream",
     "text": [
      "\n",
      "📊 VALIDATION SUMMARY:\n",
      "\n",
      "📊 VALIDATION DETAILED METRICS:\n",
      "   🏥 Disease Classification:\n",
      "      Overall Accuracy: 0.9859\n",
      "      Weighted Precision: 0.9860\n",
      "      Weighted Recall: 0.9859\n",
      "      Weighted F1: 0.9859\n",
      "      Macro Precision: 0.9860\n",
      "      Macro Recall: 0.9859\n",
      "      Macro F1: 0.9859\n",
      "   🎯 Transcription:\n",
      "      Overall WER: 0.0532\n",
      "      Overall CER: 0.0362\n",
      "   📈 Per-Class Disease Classification:\n",
      "      Class        Prec   Rec    F1     Support \n",
      "      ----------------------------------------\n",
      "      Normal       0.972 0.986 0.979 71      \n",
      "      Dysphonia    1.000 1.000 1.000 71      \n",
      "      Dysarthria   0.986 0.972 0.979 71      \n",
      "   📝 Per-Class Transcription:\n",
      "      Class        WER    CER    Samples  Valid   \n",
      "      ------------------------------------------------\n",
      "      Normal       0.050 0.033 71       71      \n",
      "      Dysphonia    0.034 0.023 71       71      \n",
      "      Dysarthria   0.085 0.062 71       71      \n",
      "⏳ No improvement. Patience: 10/10\n",
      "🛑 Early stopping triggered!\n",
      "\n",
      "🎯 Training completed!\n",
      "Best validation loss: 0.0651\n",
      "\n",
      "================================================================================\n",
      "                        TRAINING COMPLETED SUCCESSFULLY                         \n",
      "================================================================================\n",
      "Best validation loss: 0.0651\n",
      "Best model saved at: ../checkpoints_exp/checkpoints_base.en_encoder_learning_new_ffmpeg/best_multitask_model_base.en.pt\n",
      "Training history saved at: ../checkpoints_exp/checkpoints_base.en_encoder_learning_new_ffmpeg/comprehensive_training_history_base.en.json\n",
      "\n",
      "Final Training Summary:\n",
      "  Total epochs trained: 26\n",
      "  Best validation loss: 0.0651\n",
      "  Model architecture: Multi-task Whisper with disease classification\n",
      "  Save directory: ../checkpoints_exp/checkpoints_base.en_encoder_learning_new_ffmpeg/\n",
      "Training configuration saved: ../checkpoints_exp/checkpoints_base.en_encoder_learning_new_ffmpeg/training_config_base.en.json\n",
      "\n",
      "================================================================================\n",
      "                          MULTI-TASK TRAINING FINISHED                          \n",
      "================================================================================\n"
     ]
    }
   ],
   "source": [
    "%run train_disease.py --model_size base.en --epochs 50 --save_dir ../checkpoints_exp/checkpoints_base.en_encoder_learning_new_ffmpeg/"
   ]
  },
  {
   "cell_type": "code",
   "execution_count": 6,
   "id": "cc47f8be-f9ec-48aa-9cf3-a31b6f4f38be",
   "metadata": {},
   "outputs": [
    {
     "name": "stdout",
     "output_type": "stream",
     "text": [
      "=== MULTI-TASK MODEL COMPREHENSIVE INFERENCE ===\n",
      "Model: ../checkpoints_exp/checkpoints_base.en_encoder_learning_new_ffmpeg/best_multitask_model_base.en.pt\n",
      "Test data: /home/is/lathifgalih-k/research_naist/ast-tts/data/custom_test.csv\n",
      "Device: cuda\n",
      "Loading trained model...\n",
      "=== Multi-Task Learning Trainer (Proper Architecture) ===\n",
      "Device: cuda\n",
      "CUDA device: NVIDIA GeForce RTX 3090\n",
      "CUDA memory: 25.3 GB\n",
      "✔ Whisper model 'base.en' loaded\n",
      "✔ Tokenizer loaded:\n",
      "  Type: English-only\n",
      "  EOT: 50256, SOT: 50257\n",
      "  Disease tokens: {'normal': 50358, 'dysphonia': 50359, 'dysarthria': 50360}\n",
      "✔ Disease token mapping: {'normal': 50358, 'dysphonia': 50359, 'dysarthria': 50360}\n",
      "✔ Disease token position in dataset: 1\n",
      "Vocabulary expansion:\n",
      "  Original size: 51864\n",
      "  New size needed: 51868\n",
      "  Disease tokens: 3\n",
      "Resized embedding layer device: cpu\n",
      "✔ Vocabulary expanded: 51864 → 51868\n",
      "✔ Disease classifier created: 512 → 256 → 3\n",
      "  Group 1 (encoder): 19,822,592 params, LR: 1.00e-06\n",
      "  Group 2 (decoder_layers): 25,448,448 params, LR: 3.00e-06\n",
      "  Group 3 (embeddings): 26,556,416 params, LR: 1.00e-05\n",
      "  Group 4 (disease_classifier): 132,099 params, LR: 1.00e-05\n",
      "✔ Optimizer setup: 4 groups, 71,959,555 total params\n",
      "✔ Trainer initialized successfully\n",
      "  Disease classes: {0: 'normal', 1: 'dysphonia', 2: 'dysarthria'}\n",
      "  Architecture: Shared Encoder + Disease Classifier + Transcription Decoder\n",
      "✔ Model loaded from: ../checkpoints_exp/checkpoints_base.en_encoder_learning_new_ffmpeg/best_multitask_model_base.en.pt\n",
      "✔ Architecture: Shared Encoder + Disease Classifier + Transcription Decoder\n",
      "Loading test dataset...\n",
      "Dataset using English-only tokenizer\n",
      "✓ Multi-task Dataset loaded: 207 samples\n",
      "✓ Model type: English-only\n",
      "✓ EOT token: 50256\n",
      "✓ SOT token: 50257\n",
      "✓ Disease tokens available: ['normal', 'dysphonia', 'dysarthria']\n",
      "✓ Class distribution:\n",
      "   normal (class 0): 69 samples (33.3%)\n",
      "   dysphonia (class 1): 69 samples (33.3%)\n",
      "   dysarthria (class 2): 69 samples (33.3%)\n",
      "Test dataset: 207 samples\n",
      "Running comprehensive model inference...\n",
      "\n",
      "================================================================================\n",
      "                        COMPREHENSIVE INFERENCE RESULTS                         \n",
      "================================================================================\n",
      "\n",
      "📊 OVERALL PERFORMANCE SUMMARY:\n",
      "   Total Samples: 207\n",
      "   ==================================================\n",
      "   🎯 TRANSCRIPTION METRICS:\n",
      "      Overall WER: 0.0836\n",
      "      Overall CER: 0.0552\n",
      "   ==================================================\n",
      "   🏥 DISEASE CLASSIFICATION METRICS:\n",
      "      Accuracy: 0.9903 (205/207)\n",
      "      Weighted Precision: 0.9905\n",
      "      Weighted Recall: 0.9903\n",
      "      Weighted F1-Score: 0.9903\n",
      "   --------------------------------------------------\n",
      "      Macro Precision: 0.9905\n",
      "      Macro Recall: 0.9903\n",
      "      Macro F1-Score: 0.9903\n",
      "\n",
      "📋 SAMPLE PREDICTIONS (First 10):\n",
      "File            True       Pred       WER    CER    Conf   Text                                    \n",
      "----------------------------------------------------------------------------------------------------\n",
      "0054.wav...     normal     normal     0.000 0.000 1.000 You wished to know all about my grand...\n",
      "0055.wav...     normal     normal     0.182 0.056 1.000 He really crucified him he he nailed ...\n",
      "FC45_T2_si10... normal     normal     0.000 0.000 0.999 beer generally fermented from barley ...\n",
      "0170.wav...     normal     normal     0.000 0.000 1.000 We experience distress and frustratio...\n",
      "FC45_T2_si19... normal     normal     0.000 0.000 0.999 if any of us miss they can pick up th...\n",
      "FC41_T2_si46... normal     normal     0.000 0.000 1.000 the prospect of cutting back spending...\n",
      "0755.wav...     normal     normal     0.625 0.488 1.000 When you are through write write a cl...\n",
      "0011.wav...     normal     normal     0.000 0.000 0.997 It's fun to roast marshmallows on a g...\n",
      "0028.wav...     normal     normal     0.000 0.000 1.000 The wait for work can be very long.     \n",
      "0011.wav...     normal     dysarthria 0.000 0.000 0.997 The wait for work can be very long.     \n",
      "\n",
      "📈 PER-CLASS DETAILED METRICS:\n",
      "Class        Samples  Acc    Prec   Rec    F1     WER    CER   \n",
      "----------------------------------------------------------------------\n",
      "Dysarthria   69       1.000 0.986 1.000 0.993 0.152 0.085\n",
      "Dysphonia    69       1.000 0.986 1.000 0.993 0.029 0.022\n",
      "Normal       69       0.971 1.000 0.971 0.985 0.070 0.059\n",
      "\n",
      "📊 CONFUSION MATRIX:\n",
      "Actual // Predicted Dysarthria  Dysphonia   Normal      \n",
      "---------------------------------------------------\n",
      "Dysarthria      69          0           0           \n",
      "Dysphonia       0           69          0           \n",
      "Normal          1           1           67          \n",
      "\n",
      "📋 DETAILED CLASSIFICATION REPORT:\n",
      "              precision    recall  f1-score   support\n",
      "\n",
      "  Dysarthria     0.9857    1.0000    0.9928        69\n",
      "   Dysphonia     0.9857    1.0000    0.9928        69\n",
      "      Normal     1.0000    0.9710    0.9853        69\n",
      "\n",
      "    accuracy                         0.9903       207\n",
      "   macro avg     0.9905    0.9903    0.9903       207\n",
      "weighted avg     0.9905    0.9903    0.9903       207\n",
      "\n",
      "\n",
      "📊 TRANSCRIPTION QUALITY DISTRIBUTION:\n",
      "   WER Statistics:\n",
      "      Min: 0.0000, Max: 0.8889\n",
      "      Mean: 0.0836\n",
      "      Median: 0.0000\n",
      "   CER Statistics:\n",
      "      Min: 0.0000, Max: 1.5400\n",
      "      Mean: 0.0552\n",
      "      Median: 0.0000\n",
      "\n",
      "   Transcription Quality Buckets:\n",
      "      Perfect (WER=0.0): 144 (69.6%)\n",
      "      Good (0.0<WER≤0.2): 32 (15.5%)\n",
      "      Fair (0.2<WER≤0.5): 24 (11.6%)\n",
      "      Poor (WER>0.5): 7 (3.4%)\n",
      "\n",
      "❌ ERROR ANALYSIS:\n",
      "   Disease Classification Errors: 2 (1.0%)\n",
      "   Disease Misclassifications:\n",
      "      normal → dysarthria: 1 cases (50.0%)\n",
      "      normal → dysphonia: 1 cases (50.0%)\n",
      "\n",
      "🏆 BEST PERFORMING SAMPLES (Lowest WER + Correct Disease):\n",
      "   1. 0054.wav - WER: 0.000, Disease: normal\n",
      "      Original: You wished to know all about my grandfather....\n",
      "      Predicted: You wished to know all about my grandfather....\n",
      "   2. FC45_T2_si1014_NA.wav - WER: 0.000, Disease: normal\n",
      "      Original: beer generally fermented from barley is an old alcoholic bev...\n",
      "      Predicted: beer generally fermented from barley is an old alcoholic bev...\n",
      "   3. 0170.wav - WER: 0.000, Disease: normal\n",
      "      Original: We experience distress and frustration obtaining our degrees...\n",
      "      Predicted: We experience distress and frustration obtaining our degrees...\n",
      "\n",
      "💥 WORST PERFORMING SAMPLES (Highest WER or Wrong Disease):\n",
      "   1. FC45_T2_si1074_NA.wav - WER: 0.125, Disease: ✗\n",
      "      True: normal | Pred: dysphonia (conf: 1.000)\n",
      "      Original: he gazed away from us as we approached...\n",
      "      Predicted: it gazed away from us as we approached...\n",
      "   2. 0011.wav - WER: 0.000, Disease: ✗\n",
      "      True: normal | Pred: dysarthria (conf: 0.997)\n",
      "      Original: The wait for work can be very long....\n",
      "      Predicted: The wait for work can be very long....\n",
      "   3. 0867.wav - WER: 0.889, Disease: ✓\n",
      "      True: normal | Pred: normal (conf: 1.000)\n",
      "      Original: Chocolate and roses never fail as a romantic gift....\n",
      "      Predicted: Chocolate and roses never fail as romantic romantic gift. Ch...\n",
      "✓ Detailed results saved: ../checkpoints_exp/checkpoints_base.en_encoder_learning_new_ffmpeg/inference_results_detailed.json\n",
      "✓ Comprehensive CSV saved: ../checkpoints_exp/checkpoints_base.en_encoder_learning_new_ffmpeg/inference_results.csv\n",
      "✓ Metrics summary saved: ../checkpoints_exp/checkpoints_base.en_encoder_learning_new_ffmpeg/inference_results_metrics_summary.txt\n",
      "\n",
      "================================================================================\n",
      "                       COMPREHENSIVE INFERENCE COMPLETED                        \n",
      "================================================================================\n"
     ]
    },
    {
     "name": "stderr",
     "output_type": "stream",
     "text": [
      "\n"
     ]
    }
   ],
   "source": [
    "%run inference_disease.py --model_path ../checkpoints_exp/checkpoints_base.en_encoder_learning_new_ffmpeg/best_multitask_model_base.en.pt --save_results ../checkpoints_exp/checkpoints_base.en_encoder_learning_new_ffmpeg/inference_results.csv"
   ]
  }
 ],
 "metadata": {
  "kernelspec": {
   "display_name": "Python 3 (ipykernel)",
   "language": "python",
   "name": "python3"
  },
  "language_info": {
   "codemirror_mode": {
    "name": "ipython",
    "version": 3
   },
   "file_extension": ".py",
   "mimetype": "text/x-python",
   "name": "python",
   "nbconvert_exporter": "python",
   "pygments_lexer": "ipython3",
   "version": "3.10.12"
  }
 },
 "nbformat": 4,
 "nbformat_minor": 5
}
