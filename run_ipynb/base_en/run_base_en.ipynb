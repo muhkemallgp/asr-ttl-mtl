{
 "cells": [
  {
   "cell_type": "code",
   "execution_count": 2,
   "id": "896f9eb8-068c-4b5b-bd9a-f09b42e6d6ca",
   "metadata": {},
   "outputs": [
    {
     "name": "stdout",
     "output_type": "stream",
     "text": [
      "/home/cluster-dgxa100/slp03/whisper/whisper_multitaskB/.whisperB/bin/python3\n",
      "/usr/lib/python312.zip\n"
     ]
    }
   ],
   "source": [
    "import sys\n",
    "print(sys.executable)\n",
    "print(sys.path[0])"
   ]
  },
  {
   "cell_type": "code",
   "execution_count": 3,
   "id": "d445fd5b-a179-4a0c-84c2-ae0dd0924349",
   "metadata": {},
   "outputs": [
    {
     "name": "stdout",
     "output_type": "stream",
     "text": [
      "/home/cluster-dgxa100/slp03/whisper/whisper_multitaskB/scripts\n"
     ]
    }
   ],
   "source": [
    "%cd scripts"
   ]
  },
  {
   "cell_type": "code",
   "execution_count": 5,
   "id": "c8379adf-dce0-4c13-89a9-44d839b5de6f",
   "metadata": {},
   "outputs": [
    {
     "name": "stdout",
     "output_type": "stream",
     "text": [
      "Multi-task Training Configuration:\n",
      "  Model: Whisper-base.en\n",
      "  Mode: multi_task\n",
      "  Device: cuda\n",
      "  Batch sizes: Train=16, Val=8\n",
      "  Loss weights: α=0.7, β=0.3\n",
      "  Audio: librosa (sr=16000, n_mels=80)\n",
      "  Save directory: ../checkpoints/checkpoints_base.en\n",
      "  Disease tokens: ['normal', 'dysarthria', 'dysphonia']\n",
      "\n",
      "=== Multi-Task Learning Configuration ===\n",
      "Model: Whisper-base.en\n",
      "Device: cuda\n",
      "Batch sizes: Train=16, Val=8\n",
      "Epochs: 30\n",
      "Learning rate: 5e-05\n",
      "Freeze encoder: True\n",
      "Audio processing: librosa\n",
      "\n",
      "Loading datasets...\n",
      "Dataset using English-only tokenizer\n",
      "Multi-task Dataset loaded: 1737 samples\n",
      "Disease tokens available: ['normal', 'dysarthria', 'dysphonia']\n",
      "Class distribution:\n",
      "  normal: 579 samples (33.3%)\n",
      "  dysarthria: 579 samples (33.3%)\n",
      "  dysphonia: 579 samples (33.3%)\n",
      "Dataset using English-only tokenizer\n",
      "Multi-task Dataset loaded: 213 samples\n",
      "Disease tokens available: ['normal', 'dysarthria', 'dysphonia']\n",
      "Class distribution:\n",
      "  normal: 71 samples (33.3%)\n",
      "  dysarthria: 71 samples (33.3%)\n",
      "  dysphonia: 71 samples (33.3%)\n",
      "Dataset sizes: Train=1737, Val=213\n",
      "Batches: Train=109, Val=27\n",
      "\n",
      "Initializing multi-task trainer...\n",
      "=== Multi-Task Learning Trainer ===\n",
      "Device: cuda\n",
      "CUDA device: NVIDIA A100-SXM4-40GB\n",
      "CUDA memory: 42.4 GB\n"
     ]
    },
    {
     "name": "stderr",
     "output_type": "stream",
     "text": [
      "100%|███████████████████████████████████████| 139M/139M [00:01<00:00, 74.1MiB/s]\n"
     ]
    },
    {
     "name": "stdout",
     "output_type": "stream",
     "text": [
      "✓ Whisper model loaded on cuda\n",
      "Vocabulary sizes: Original=51864, New=51868\n",
      "Expanding vocabulary: 51864 -> 51868\n",
      "Resized embedding layer device: cuda:0\n",
      "✓ Vocabulary expanded\n",
      "✓ Disease classifier created on cuda\n",
      "✓ Encoder frozen\n",
      "✓ New embeddings added to training: 4 tokens\n",
      "Trainable parameters: 52,139,011\n",
      "✓ Trainer initialized successfully\n",
      "\n",
      "Starting multi-task training...\n",
      "\n",
      "=== Multi-Task Training Started ===\n",
      "Model: Whisper-base.en\n",
      "Device: cuda\n",
      "Epochs: 30\n",
      "Architecture: Audio → [Encoder] → Features → [Disease Classifier + Decoder]\n",
      "Format: [SOT][EN][DISEASE][TRANSCRIBE][TEXT][EOT]\n",
      "Disease tokens: ['normal', 'dysarthria', 'dysphonia']\n",
      "\n",
      "==================================================\n",
      "EPOCH 1/30\n",
      "==================================================\n",
      "Epoch 1: Updated loss weights α=0.80, β=0.20\n"
     ]
    },
    {
     "name": "stderr",
     "output_type": "stream",
     "text": [
      "Training Epoch 1:   1%|▊                                                                                         | 1/109 [00:01<03:27,  1.92s/it]"
     ]
    },
    {
     "name": "stdout",
     "output_type": "stream",
     "text": [
      "\n",
      "=== METRICS COMPUTATION DEBUG (Batch 1) ===\n",
      "Input shapes:\n",
      "  Transcription logits: torch.Size([16, 18, 51868])\n",
      "  Target tokens: torch.Size([16, 18])\n",
      "  Disease logits: torch.Size([16, 3])\n",
      "  Disease labels: torch.Size([16])\n",
      "  Texts count: 16\n",
      "\n",
      "Sample 0 processing:\n",
      "  Pred tokens (first 15): [51864, 51864, 5798, 783, 51864, 51864, 1042, 761, 407, 307, 12395, 13, 50713, 50362, 50362]\n",
      "  Target tokens (first 15): [32538, 2260, 5798, 783, 257, 45768, 1042, 761, 407, 307, 12395, 50256, 50257, 50257, 50257]\n",
      "  Original text: 'internal national responsibility now a truism need...'\n",
      "  Special tokens to remove: [50257, 50256, 50358, 50359, 50360]\n",
      "  Text tokens extracted (18): [51864, 51864, 5798, 783, 51864, 51864, 1042, 761, 407, 307]...\n",
      "  Final prediction: 'responsibility nowism need not...'\n",
      "  Final reference:  'internal national responsibili...'\n",
      "\n",
      "Sample 1 processing:\n",
      "  Pred tokens (first 15): [51864, 51864, 44543, 422, 38877, 318, 281, 1468, 26016, 24968, 13, 51864, 50362, 50362, 50362]\n",
      "  Target tokens (first 15): [42428, 4143, 44543, 422, 38877, 318, 281, 1468, 26016, 24968, 50256, 50257, 50257, 50257, 50257]\n",
      "  Original text: 'beer generally fermented from barley is an old alc...'\n",
      "  Special tokens to remove: [50257, 50256, 50358, 50359, 50360]\n",
      "  Text tokens extracted (17): [51864, 51864, 44543, 422, 38877, 318, 281, 1468, 26016, 24968]...\n",
      "  Final prediction: 'fermented from barley is an ol...'\n",
      "  Final reference:  'beer generally fermented from ...'\n",
      "\n",
      "Text pairs summary:\n",
      "  Total pairs created: 16\n",
      "  Non-empty predictions: 16\n",
      "  Sample pairs:\n",
      "    0: 'responsibility nowis...' vs 'internal national re...'\n",
      "    1: 'fermented from barle...' vs 'beer generally ferme...'\n",
      "    2: 'functionally...' vs 'usually minus severa...'\n",
      "\n",
      "WER/CER calculation:\n",
      "  Raw WER: 0.440252\n",
      "  Raw CER: 0.340285\n",
      "\n",
      "Classification metrics:\n",
      "  Accuracy: 0.3125\n",
      "  Precision: 0.1339\n",
      "  Recall: 0.3125\n",
      "  F1: 0.1875\n",
      "============================================================\n"
     ]
    },
    {
     "name": "stderr",
     "output_type": "stream",
     "text": [
      "Training Epoch 1:   2%|█▋                                                                                        | 2/109 [00:03<02:44,  1.54s/it]"
     ]
    },
    {
     "name": "stdout",
     "output_type": "stream",
     "text": [
      "\n",
      "=== METRICS COMPUTATION DEBUG (Batch 2) ===\n",
      "Input shapes:\n",
      "  Transcription logits: torch.Size([16, 18, 51868])\n",
      "  Target tokens: torch.Size([16, 18])\n",
      "  Disease logits: torch.Size([16, 3])\n",
      "  Disease labels: torch.Size([16])\n",
      "  Texts count: 16\n",
      "\n",
      "Sample 0 processing:\n",
      "  Pred tokens (first 15): [48410, 373, 6921, 286, 287, 640, 50257, 50257, 50257, 50362, 50362, 50361, 50361, 50256, 50256]\n",
      "  Target tokens (first 15): [40, 373, 6921, 477, 262, 640, 13, 50256, 50257, 50257, 50257, 50257, 50257, 50257, 50257]\n",
      "  Original text: 'I was conscious all the time....'\n",
      "  Special tokens to remove: [50257, 50256, 50358, 50359, 50360]\n",
      "  Text tokens extracted (10): [48410, 373, 6921, 286, 287, 640, 50362, 50362, 50361, 50361]...\n",
      "  Final prediction: 'functionally was conscious of ...'\n",
      "  Final reference:  'i was conscious all the time....'\n",
      "\n",
      "Sample 1 processing:\n",
      "  Pred tokens (first 15): [50362, 1808, 374, 1648, 829, 683, 393, 5640, 683, 284, 22898, 13, 50257, 51864, 50362]\n",
      "  Target tokens (first 15): [3919, 1808, 374, 1648, 829, 683, 393, 5640, 683, 284, 22898, 50256, 50257, 50257, 50257]\n",
      "  Original text: 'no question ruffles him or causes him to hesitate...'\n",
      "  Special tokens to remove: [50257, 50256, 50358, 50359, 50360]\n",
      "  Text tokens extracted (14): [50362, 1808, 374, 1648, 829, 683, 393, 5640, 683, 284]...\n",
      "  Final prediction: 'question ruffles him or causes...'\n",
      "  Final reference:  'no question ruffles him or cau...'\n",
      "\n",
      "Text pairs summary:\n",
      "  Total pairs created: 16\n",
      "  Non-empty predictions: 16\n",
      "  Sample pairs:\n",
      "    0: 'functionally was con...' vs 'i was conscious all ...'\n",
      "    1: 'question ruffles him...' vs 'no question ruffles ...'\n",
      "    2: 'is not a program of ...' vs 'this is not a progra...'\n",
      "\n",
      "WER/CER calculation:\n",
      "  Raw WER: 0.339080\n",
      "  Raw CER: 0.224385\n",
      "\n",
      "Classification metrics:\n",
      "  Accuracy: 0.3750\n",
      "  Precision: 0.4583\n",
      "  Recall: 0.3750\n",
      "  F1: 0.3479\n",
      "============================================================\n",
      "\n",
      "=== METRICS COMPUTATION DEBUG (Batch 3) ===\n",
      "Input shapes:\n",
      "  Transcription logits: torch.Size([16, 18, 51868])\n",
      "  Target tokens: torch.Size([16, 18])\n",
      "  Disease logits: torch.Size([16, 3])\n",
      "  Disease labels: torch.Size([16])\n",
      "  Texts count: 16\n"
     ]
    },
    {
     "name": "stderr",
     "output_type": "stream",
     "text": [
      "Training Epoch 1:   3%|██▍                                                                                       | 3/109 [00:03<01:35,  1.11it/s]"
     ]
    },
    {
     "name": "stdout",
     "output_type": "stream",
     "text": [
      "\n",
      "Sample 0 processing:\n",
      "  Pred tokens (first 15): [48410, 73, 9408, 11, 51864, 50257, 50257, 50257, 50257, 50361, 50361, 50256, 50256, 50256, 50256]\n",
      "  Target tokens (first 15): [32, 922, 9408, 318, 36499, 540, 13, 50256, 50257, 50257, 50257, 50257, 50257, 50257, 50257]\n",
      "  Original text: 'A good attitude is unbeatable....'\n",
      "  Special tokens to remove: [50257, 50256, 50358, 50359, 50360]\n",
      "  Text tokens extracted (7): [48410, 73, 9408, 11, 51864, 50361, 50361]...\n",
      "  Final prediction: 'functionallyj attitude,...'\n",
      "  Final reference:  'a good attitude is unbeatable....'\n",
      "\n",
      "Sample 1 processing:\n",
      "  Pred tokens (first 15): [48410, 338, 50257, 50257, 50257, 50257, 50257, 50257, 50257, 50257, 50257, 50257, 50257, 50361, 50361]\n",
      "  Target tokens (first 15): [258, 27309, 2241, 287, 281, 6156, 2042, 8400, 694, 13209, 220, 50256, 50257, 50257, 50257]\n",
      "  Original text: 'he dresses himself in an ancient black frock coat ...'\n",
      "  Special tokens to remove: [50257, 50256, 50358, 50359, 50360]\n",
      "  Text tokens extracted (7): [48410, 338, 50361, 50361, 50361, 5089, 5089]...\n",
      "  Final prediction: 'functionally's fuck fuck...'\n",
      "  Final reference:  'he dresses himself in an ancie...'\n",
      "\n",
      "Text pairs summary:\n",
      "  Total pairs created: 16\n",
      "  Non-empty predictions: 16\n",
      "  Sample pairs:\n",
      "    0: 'functionallyj attitu...' vs 'a good attitude is u...'\n",
      "    1: 'functionally's fuck ...' vs 'he dresses himself i...'\n",
      "    2: 'functionally is in-t...' vs 'well he is nearly ni...'\n",
      "\n",
      "WER/CER calculation:\n",
      "  Raw WER: 0.411765\n",
      "  Raw CER: 0.268519\n",
      "\n",
      "Classification metrics:\n",
      "  Accuracy: 0.2500\n",
      "  Precision: 0.2098\n",
      "  Recall: 0.2500\n",
      "  F1: 0.1726\n",
      "============================================================\n"
     ]
    },
    {
     "name": "stderr",
     "output_type": "stream",
     "text": [
      "Training Epoch 1: 100%|████████████████████████████████████████████████████████████████████████████████████████| 109/109 [00:54<00:00,  2.02it/s]\n"
     ]
    },
    {
     "name": "stdout",
     "output_type": "stream",
     "text": [
      "\n",
      "📈 TRAINING METRICS:\n",
      "   Loss: 1.0033 (Cls: 1.0422, Trans: 0.8480)\n",
      "   Disease - Acc: 0.5293, F1: 0.5122\n",
      "   Disease - Prec: 0.6129, Rec: 0.5293\n",
      "   Speech  - WER: 0.2334, CER: 0.1400\n",
      "   Weights - α: 0.80, β: 0.20\n"
     ]
    },
    {
     "name": "stderr",
     "output_type": "stream",
     "text": [
      "Evaluating: 100%|████████████████████████████████████████████████████████████████████████████████████████████████| 27/27 [00:08<00:00,  3.17it/s]\n"
     ]
    },
    {
     "name": "stdout",
     "output_type": "stream",
     "text": [
      "\n",
      "📊 VALIDATION METRICS:\n",
      "   Loss: 0.8649\n",
      "   Disease - Acc: 0.7796, F1: 0.8606\n",
      "   Disease - Prec: 0.9877, Rec: 0.7796\n",
      "   Speech  - WER: 0.1698, CER: 0.0974\n",
      "✅ Best model saved: ../checkpoints/checkpoints_base.en/best_multitask_model_base.en.pt\n",
      "\n",
      "==================================================\n",
      "EPOCH 2/30\n",
      "==================================================\n",
      "Epoch 2: Updated loss weights α=0.80, β=0.20\n"
     ]
    },
    {
     "name": "stderr",
     "output_type": "stream",
     "text": [
      "Training Epoch 2: 100%|████████████████████████████████████████████████████████████████████████████████████████| 109/109 [00:48<00:00,  2.24it/s]\n"
     ]
    },
    {
     "name": "stdout",
     "output_type": "stream",
     "text": [
      "\n",
      "📈 TRAINING METRICS:\n",
      "   Loss: 0.7728 (Cls: 0.9149, Trans: 0.2046)\n",
      "   Disease - Acc: 0.7279, F1: 0.7299\n",
      "   Disease - Prec: 0.7846, Rec: 0.7279\n",
      "   Speech  - WER: 0.1134, CER: 0.0554\n",
      "   Weights - α: 0.80, β: 0.20\n"
     ]
    },
    {
     "name": "stderr",
     "output_type": "stream",
     "text": [
      "Evaluating: 100%|████████████████████████████████████████████████████████████████████████████████████████████████| 27/27 [00:07<00:00,  3.71it/s]\n"
     ]
    },
    {
     "name": "stdout",
     "output_type": "stream",
     "text": [
      "\n",
      "📊 VALIDATION METRICS:\n",
      "   Loss: 0.7464\n",
      "   Disease - Acc: 0.8009, F1: 0.8777\n",
      "   Disease - Prec: 0.9938, Rec: 0.8009\n",
      "   Speech  - WER: 0.1338, CER: 0.0727\n",
      "✅ Best model saved: ../checkpoints/checkpoints_base.en/best_multitask_model_base.en.pt\n",
      "\n",
      "==================================================\n",
      "EPOCH 3/30\n",
      "==================================================\n",
      "Epoch 3: Updated loss weights α=0.80, β=0.20\n"
     ]
    },
    {
     "name": "stderr",
     "output_type": "stream",
     "text": [
      "Training Epoch 3: 100%|████████████████████████████████████████████████████████████████████████████████████████| 109/109 [00:43<00:00,  2.53it/s]\n"
     ]
    },
    {
     "name": "stdout",
     "output_type": "stream",
     "text": [
      "\n",
      "📈 TRAINING METRICS:\n",
      "   Loss: 0.6616 (Cls: 0.8053, Trans: 0.0869)\n",
      "   Disease - Acc: 0.7770, F1: 0.7753\n",
      "   Disease - Prec: 0.8198, Rec: 0.7770\n",
      "   Speech  - WER: 0.0747, CER: 0.0268\n",
      "   Weights - α: 0.80, β: 0.20\n"
     ]
    },
    {
     "name": "stderr",
     "output_type": "stream",
     "text": [
      "Evaluating: 100%|████████████████████████████████████████████████████████████████████████████████████████████████| 27/27 [00:07<00:00,  3.76it/s]\n"
     ]
    },
    {
     "name": "stdout",
     "output_type": "stream",
     "text": [
      "\n",
      "📊 VALIDATION METRICS:\n",
      "   Loss: 0.6555\n",
      "   Disease - Acc: 0.7889, F1: 0.8692\n",
      "   Disease - Prec: 0.9877, Rec: 0.7889\n",
      "   Speech  - WER: 0.1186, CER: 0.0617\n",
      "⏳ No improvement. Patience: 1/7\n",
      "\n",
      "==================================================\n",
      "EPOCH 4/30\n",
      "==================================================\n",
      "Epoch 4: Updated loss weights α=0.80, β=0.20\n"
     ]
    },
    {
     "name": "stderr",
     "output_type": "stream",
     "text": [
      "Training Epoch 4: 100%|████████████████████████████████████████████████████████████████████████████████████████| 109/109 [01:10<00:00,  1.55it/s]\n"
     ]
    },
    {
     "name": "stdout",
     "output_type": "stream",
     "text": [
      "\n",
      "📈 TRAINING METRICS:\n",
      "   Loss: 0.5797 (Cls: 0.7144, Trans: 0.0411)\n",
      "   Disease - Acc: 0.7897, F1: 0.7915\n",
      "   Disease - Prec: 0.8314, Rec: 0.7897\n",
      "   Speech  - WER: 0.0614, CER: 0.0168\n",
      "   Weights - α: 0.80, β: 0.20\n"
     ]
    },
    {
     "name": "stderr",
     "output_type": "stream",
     "text": [
      "Evaluating: 100%|████████████████████████████████████████████████████████████████████████████████████████████████| 27/27 [00:10<00:00,  2.69it/s]\n"
     ]
    },
    {
     "name": "stdout",
     "output_type": "stream",
     "text": [
      "\n",
      "📊 VALIDATION METRICS:\n",
      "   Loss: 0.5873\n",
      "   Disease - Acc: 0.8148, F1: 0.8894\n",
      "   Disease - Prec: 0.9946, Rec: 0.8148\n",
      "   Speech  - WER: 0.1074, CER: 0.0532\n",
      "✅ Best model saved: ../checkpoints/checkpoints_base.en/best_multitask_model_base.en.pt\n",
      "\n",
      "==================================================\n",
      "EPOCH 5/30\n",
      "==================================================\n",
      "Epoch 5: Updated loss weights α=0.80, β=0.20\n"
     ]
    },
    {
     "name": "stderr",
     "output_type": "stream",
     "text": [
      "Training Epoch 5: 100%|████████████████████████████████████████████████████████████████████████████████████████| 109/109 [01:16<00:00,  1.43it/s]\n"
     ]
    },
    {
     "name": "stdout",
     "output_type": "stream",
     "text": [
      "\n",
      "📈 TRAINING METRICS:\n",
      "   Loss: 0.5196 (Cls: 0.6435, Trans: 0.0243)\n",
      "   Disease - Acc: 0.7998, F1: 0.8010\n",
      "   Disease - Prec: 0.8371, Rec: 0.7998\n",
      "   Speech  - WER: 0.0571, CER: 0.0144\n",
      "   Weights - α: 0.80, β: 0.20\n"
     ]
    },
    {
     "name": "stderr",
     "output_type": "stream",
     "text": [
      "Evaluating: 100%|████████████████████████████████████████████████████████████████████████████████████████████████| 27/27 [00:09<00:00,  2.71it/s]\n"
     ]
    },
    {
     "name": "stdout",
     "output_type": "stream",
     "text": [
      "\n",
      "📊 VALIDATION METRICS:\n",
      "   Loss: 0.5324\n",
      "   Disease - Acc: 0.8148, F1: 0.8908\n",
      "   Disease - Prec: 0.9969, Rec: 0.8148\n",
      "   Speech  - WER: 0.1067, CER: 0.0518\n",
      "✅ Best model saved: ../checkpoints/checkpoints_base.en/best_multitask_model_base.en.pt\n",
      "\n",
      "==================================================\n",
      "EPOCH 6/30\n",
      "==================================================\n",
      "Epoch 6: Updated loss weights α=0.80, β=0.20\n"
     ]
    },
    {
     "name": "stderr",
     "output_type": "stream",
     "text": [
      "Training Epoch 6: 100%|████████████████████████████████████████████████████████████████████████████████████████| 109/109 [01:19<00:00,  1.38it/s]\n"
     ]
    },
    {
     "name": "stdout",
     "output_type": "stream",
     "text": [
      "\n",
      "📈 TRAINING METRICS:\n",
      "   Loss: 0.4693 (Cls: 0.5834, Trans: 0.0129)\n",
      "   Disease - Acc: 0.8139, F1: 0.8159\n",
      "   Disease - Prec: 0.8473, Rec: 0.8139\n",
      "   Speech  - WER: 0.0547, CER: 0.0120\n",
      "   Weights - α: 0.80, β: 0.20\n"
     ]
    },
    {
     "name": "stderr",
     "output_type": "stream",
     "text": [
      "Evaluating: 100%|████████████████████████████████████████████████████████████████████████████████████████████████| 27/27 [00:11<00:00,  2.40it/s]\n"
     ]
    },
    {
     "name": "stdout",
     "output_type": "stream",
     "text": [
      "\n",
      "📊 VALIDATION METRICS:\n",
      "   Loss: 0.4950\n",
      "   Disease - Acc: 0.8194, F1: 0.8914\n",
      "   Disease - Prec: 0.9946, Rec: 0.8194\n",
      "   Speech  - WER: 0.1041, CER: 0.0514\n",
      "✅ Best model saved: ../checkpoints/checkpoints_base.en/best_multitask_model_base.en.pt\n",
      "\n",
      "==================================================\n",
      "EPOCH 7/30\n",
      "==================================================\n",
      "Epoch 7: Updated loss weights α=0.80, β=0.20\n"
     ]
    },
    {
     "name": "stderr",
     "output_type": "stream",
     "text": [
      "Training Epoch 7: 100%|████████████████████████████████████████████████████████████████████████████████████████| 109/109 [01:17<00:00,  1.41it/s]\n"
     ]
    },
    {
     "name": "stdout",
     "output_type": "stream",
     "text": [
      "\n",
      "📈 TRAINING METRICS:\n",
      "   Loss: 0.4350 (Cls: 0.5420, Trans: 0.0070)\n",
      "   Disease - Acc: 0.8191, F1: 0.8201\n",
      "   Disease - Prec: 0.8474, Rec: 0.8191\n",
      "   Speech  - WER: 0.0530, CER: 0.0109\n",
      "   Weights - α: 0.80, β: 0.20\n"
     ]
    },
    {
     "name": "stderr",
     "output_type": "stream",
     "text": [
      "Evaluating: 100%|████████████████████████████████████████████████████████████████████████████████████████████████| 27/27 [00:10<00:00,  2.46it/s]\n"
     ]
    },
    {
     "name": "stdout",
     "output_type": "stream",
     "text": [
      "\n",
      "📊 VALIDATION METRICS:\n",
      "   Loss: 0.4682\n",
      "   Disease - Acc: 0.8241, F1: 0.8981\n",
      "   Disease - Prec: 1.0000, Rec: 0.8241\n",
      "   Speech  - WER: 0.1002, CER: 0.0485\n",
      "✅ Best model saved: ../checkpoints/checkpoints_base.en/best_multitask_model_base.en.pt\n",
      "\n",
      "==================================================\n",
      "EPOCH 8/30\n",
      "==================================================\n",
      "Epoch 8: Updated loss weights α=0.80, β=0.20\n"
     ]
    },
    {
     "name": "stderr",
     "output_type": "stream",
     "text": [
      "Training Epoch 8: 100%|████████████████████████████████████████████████████████████████████████████████████████| 109/109 [01:31<00:00,  1.20it/s]\n"
     ]
    },
    {
     "name": "stdout",
     "output_type": "stream",
     "text": [
      "\n",
      "📈 TRAINING METRICS:\n",
      "   Loss: 0.4065 (Cls: 0.5071, Trans: 0.0039)\n",
      "   Disease - Acc: 0.8286, F1: 0.8309\n",
      "   Disease - Prec: 0.8638, Rec: 0.8286\n",
      "   Speech  - WER: 0.0526, CER: 0.0106\n",
      "   Weights - α: 0.80, β: 0.20\n"
     ]
    },
    {
     "name": "stderr",
     "output_type": "stream",
     "text": [
      "Evaluating: 100%|████████████████████████████████████████████████████████████████████████████████████████████████| 27/27 [00:09<00:00,  2.72it/s]\n"
     ]
    },
    {
     "name": "stdout",
     "output_type": "stream",
     "text": [
      "\n",
      "📊 VALIDATION METRICS:\n",
      "   Loss: 0.4378\n",
      "   Disease - Acc: 0.8380, F1: 0.9080\n",
      "   Disease - Prec: 1.0000, Rec: 0.8380\n",
      "   Speech  - WER: 0.0979, CER: 0.0473\n",
      "✅ Best model saved: ../checkpoints/checkpoints_base.en/best_multitask_model_base.en.pt\n",
      "\n",
      "==================================================\n",
      "EPOCH 9/30\n",
      "==================================================\n",
      "Epoch 9: Updated loss weights α=0.80, β=0.20\n"
     ]
    },
    {
     "name": "stderr",
     "output_type": "stream",
     "text": [
      "Training Epoch 9: 100%|████████████████████████████████████████████████████████████████████████████████████████| 109/109 [01:26<00:00,  1.26it/s]\n"
     ]
    },
    {
     "name": "stdout",
     "output_type": "stream",
     "text": [
      "\n",
      "📈 TRAINING METRICS:\n",
      "   Loss: 0.3821 (Cls: 0.4770, Trans: 0.0028)\n",
      "   Disease - Acc: 0.8328, F1: 0.8349\n",
      "   Disease - Prec: 0.8609, Rec: 0.8328\n",
      "   Speech  - WER: 0.0524, CER: 0.0106\n",
      "   Weights - α: 0.80, β: 0.20\n"
     ]
    },
    {
     "name": "stderr",
     "output_type": "stream",
     "text": [
      "Evaluating: 100%|████████████████████████████████████████████████████████████████████████████████████████████████| 27/27 [00:10<00:00,  2.67it/s]\n"
     ]
    },
    {
     "name": "stdout",
     "output_type": "stream",
     "text": [
      "\n",
      "📊 VALIDATION METRICS:\n",
      "   Loss: 0.4172\n",
      "   Disease - Acc: 0.8426, F1: 0.9103\n",
      "   Disease - Prec: 1.0000, Rec: 0.8426\n",
      "   Speech  - WER: 0.0954, CER: 0.0460\n",
      "✅ Best model saved: ../checkpoints/checkpoints_base.en/best_multitask_model_base.en.pt\n",
      "\n",
      "==================================================\n",
      "EPOCH 10/30\n",
      "==================================================\n",
      "Epoch 10: Updated loss weights α=0.60, β=0.40\n"
     ]
    },
    {
     "name": "stderr",
     "output_type": "stream",
     "text": [
      "Training Epoch 10: 100%|███████████████████████████████████████████████████████████████████████████████████████| 109/109 [01:25<00:00,  1.27it/s]\n"
     ]
    },
    {
     "name": "stdout",
     "output_type": "stream",
     "text": [
      "\n",
      "📈 TRAINING METRICS:\n",
      "   Loss: 0.2725 (Cls: 0.4521, Trans: 0.0031)\n",
      "   Disease - Acc: 0.8449, F1: 0.8451\n",
      "   Disease - Prec: 0.8708, Rec: 0.8449\n",
      "   Speech  - WER: 0.0522, CER: 0.0104\n",
      "   Weights - α: 0.60, β: 0.40\n"
     ]
    },
    {
     "name": "stderr",
     "output_type": "stream",
     "text": [
      "Evaluating: 100%|██████████████████████████████████████████████████████████████████████████████████████████████████| 27/27 [00:09<00:00,  2.87it/s]\n"
     ]
    },
    {
     "name": "stdout",
     "output_type": "stream",
     "text": [
      "\n",
      "📊 VALIDATION METRICS:\n",
      "   Loss: 0.3459\n",
      "   Disease - Acc: 0.8472, F1: 0.9116\n",
      "   Disease - Prec: 0.9977, Rec: 0.8472\n",
      "   Speech  - WER: 0.0956, CER: 0.0468\n",
      "✅ Best model saved: ../checkpoints/checkpoints_base.en/best_multitask_model_base.en.pt\n",
      "\n",
      "==================================================\n",
      "EPOCH 11/30\n",
      "==================================================\n",
      "Epoch 11: Updated loss weights α=0.60, β=0.40\n"
     ]
    },
    {
     "name": "stderr",
     "output_type": "stream",
     "text": [
      "Training Epoch 11: 100%|█████████████████████████████████████████████████████████████████████████████████████████| 109/109 [01:19<00:00,  1.37it/s]\n"
     ]
    },
    {
     "name": "stdout",
     "output_type": "stream",
     "text": [
      "\n",
      "📈 TRAINING METRICS:\n",
      "   Loss: 0.2622 (Cls: 0.4346, Trans: 0.0036)\n",
      "   Disease - Acc: 0.8492, F1: 0.8512\n",
      "   Disease - Prec: 0.8794, Rec: 0.8492\n",
      "   Speech  - WER: 0.0522, CER: 0.0104\n",
      "   Weights - α: 0.60, β: 0.40\n"
     ]
    },
    {
     "name": "stderr",
     "output_type": "stream",
     "text": [
      "Evaluating: 100%|██████████████████████████████████████████████████████████████████████████████████████████████████| 27/27 [00:09<00:00,  2.78it/s]\n"
     ]
    },
    {
     "name": "stdout",
     "output_type": "stream",
     "text": [
      "\n",
      "📊 VALIDATION METRICS:\n",
      "   Loss: 0.3338\n",
      "   Disease - Acc: 0.8565, F1: 0.9194\n",
      "   Disease - Prec: 1.0000, Rec: 0.8565\n",
      "   Speech  - WER: 0.0936, CER: 0.0449\n",
      "✅ Best model saved: ../checkpoints/checkpoints_base.en/best_multitask_model_base.en.pt\n",
      "\n",
      "==================================================\n",
      "EPOCH 12/30\n",
      "==================================================\n",
      "Epoch 12: Updated loss weights α=0.60, β=0.40\n"
     ]
    },
    {
     "name": "stderr",
     "output_type": "stream",
     "text": [
      "Training Epoch 12: 100%|█████████████████████████████████████████████████████████████████████████████████████████| 109/109 [01:22<00:00,  1.32it/s]\n"
     ]
    },
    {
     "name": "stdout",
     "output_type": "stream",
     "text": [
      "\n",
      "📈 TRAINING METRICS:\n",
      "   Loss: 0.2507 (Cls: 0.4166, Trans: 0.0017)\n",
      "   Disease - Acc: 0.8563, F1: 0.8571\n",
      "   Disease - Prec: 0.8805, Rec: 0.8563\n",
      "   Speech  - WER: 0.0517, CER: 0.0104\n",
      "   Weights - α: 0.60, β: 0.40\n"
     ]
    },
    {
     "name": "stderr",
     "output_type": "stream",
     "text": [
      "Evaluating: 100%|████████████████████████████████████████████████████████████████████████████████████████████████| 27/27 [00:11<00:00,  2.32it/s]\n"
     ]
    },
    {
     "name": "stdout",
     "output_type": "stream",
     "text": [
      "\n",
      "📊 VALIDATION METRICS:\n",
      "   Loss: 0.3242\n",
      "   Disease - Acc: 0.8611, F1: 0.9197\n",
      "   Disease - Prec: 0.9977, Rec: 0.8611\n",
      "   Speech  - WER: 0.0914, CER: 0.0434\n",
      "✅ Best model saved: ../checkpoints/checkpoints_base.en/best_multitask_model_base.en.pt\n",
      "\n",
      "==================================================\n",
      "EPOCH 13/30\n",
      "==================================================\n",
      "Epoch 13: Updated loss weights α=0.60, β=0.40\n"
     ]
    },
    {
     "name": "stderr",
     "output_type": "stream",
     "text": [
      "Training Epoch 13: 100%|███████████████████████████████████████████████████████████████████████████████████████| 109/109 [01:28<00:00,  1.24it/s]\n"
     ]
    },
    {
     "name": "stdout",
     "output_type": "stream",
     "text": [
      "\n",
      "📈 TRAINING METRICS:\n",
      "   Loss: 0.2413 (Cls: 0.4015, Trans: 0.0010)\n",
      "   Disease - Acc: 0.8562, F1: 0.8562\n",
      "   Disease - Prec: 0.8805, Rec: 0.8562\n",
      "   Speech  - WER: 0.0517, CER: 0.0103\n",
      "   Weights - α: 0.60, β: 0.40\n"
     ]
    },
    {
     "name": "stderr",
     "output_type": "stream",
     "text": [
      "Evaluating: 100%|████████████████████████████████████████████████████████████████████████████████████████████████| 27/27 [00:09<00:00,  2.77it/s]\n"
     ]
    },
    {
     "name": "stdout",
     "output_type": "stream",
     "text": [
      "\n",
      "📊 VALIDATION METRICS:\n",
      "   Loss: 0.3142\n",
      "   Disease - Acc: 0.8750, F1: 0.9300\n",
      "   Disease - Prec: 1.0000, Rec: 0.8750\n",
      "   Speech  - WER: 0.0901, CER: 0.0425\n",
      "✅ Best model saved: ../checkpoints/checkpoints_base.en/best_multitask_model_base.en.pt\n",
      "\n",
      "==================================================\n",
      "EPOCH 14/30\n",
      "==================================================\n",
      "Epoch 14: Updated loss weights α=0.60, β=0.40\n"
     ]
    },
    {
     "name": "stderr",
     "output_type": "stream",
     "text": [
      "Training Epoch 14: 100%|███████████████████████████████████████████████████████████████████████████████████████| 109/109 [01:17<00:00,  1.40it/s]\n"
     ]
    },
    {
     "name": "stdout",
     "output_type": "stream",
     "text": [
      "\n",
      "📈 TRAINING METRICS:\n",
      "   Loss: 0.2315 (Cls: 0.3853, Trans: 0.0008)\n",
      "   Disease - Acc: 0.8707, F1: 0.8712\n",
      "   Disease - Prec: 0.8927, Rec: 0.8707\n",
      "   Speech  - WER: 0.0515, CER: 0.0102\n",
      "   Weights - α: 0.60, β: 0.40\n"
     ]
    },
    {
     "name": "stderr",
     "output_type": "stream",
     "text": [
      "Evaluating: 100%|████████████████████████████████████████████████████████████████████████████████████████████████| 27/27 [00:10<00:00,  2.66it/s]\n"
     ]
    },
    {
     "name": "stdout",
     "output_type": "stream",
     "text": [
      "\n",
      "📊 VALIDATION METRICS:\n",
      "   Loss: 0.3053\n",
      "   Disease - Acc: 0.8657, F1: 0.9250\n",
      "   Disease - Prec: 1.0000, Rec: 0.8657\n",
      "   Speech  - WER: 0.0902, CER: 0.0425\n",
      "⏳ No improvement. Patience: 1/7\n",
      "\n",
      "==================================================\n",
      "EPOCH 15/30\n",
      "==================================================\n",
      "Epoch 15: Updated loss weights α=0.60, β=0.40\n"
     ]
    },
    {
     "name": "stderr",
     "output_type": "stream",
     "text": [
      "Training Epoch 15: 100%|███████████████████████████████████████████████████████████████████████████████████████| 109/109 [01:27<00:00,  1.25it/s]\n"
     ]
    },
    {
     "name": "stdout",
     "output_type": "stream",
     "text": [
      "\n",
      "📈 TRAINING METRICS:\n",
      "   Loss: 0.2229 (Cls: 0.3711, Trans: 0.0006)\n",
      "   Disease - Acc: 0.8756, F1: 0.8758\n",
      "   Disease - Prec: 0.8988, Rec: 0.8756\n",
      "   Speech  - WER: 0.0516, CER: 0.0103\n",
      "   Weights - α: 0.60, β: 0.40\n"
     ]
    },
    {
     "name": "stderr",
     "output_type": "stream",
     "text": [
      "Evaluating: 100%|████████████████████████████████████████████████████████████████████████████████████████████████| 27/27 [00:12<00:00,  2.22it/s]\n"
     ]
    },
    {
     "name": "stdout",
     "output_type": "stream",
     "text": [
      "\n",
      "📊 VALIDATION METRICS:\n",
      "   Loss: 0.2993\n",
      "   Disease - Acc: 0.8843, F1: 0.9361\n",
      "   Disease - Prec: 1.0000, Rec: 0.8843\n",
      "   Speech  - WER: 0.0909, CER: 0.0432\n",
      "✅ Best model saved: ../checkpoints/checkpoints_base.en/best_multitask_model_base.en.pt\n",
      "\n",
      "==================================================\n",
      "EPOCH 16/30\n",
      "==================================================\n",
      "Epoch 16: Updated loss weights α=0.60, β=0.40\n"
     ]
    },
    {
     "name": "stderr",
     "output_type": "stream",
     "text": [
      "Training Epoch 16: 100%|███████████████████████████████████████████████████████████████████████████████████████| 109/109 [01:21<00:00,  1.33it/s]\n"
     ]
    },
    {
     "name": "stdout",
     "output_type": "stream",
     "text": [
      "\n",
      "📈 TRAINING METRICS:\n",
      "   Loss: 0.2161 (Cls: 0.3597, Trans: 0.0005)\n",
      "   Disease - Acc: 0.8787, F1: 0.8792\n",
      "   Disease - Prec: 0.8978, Rec: 0.8787\n",
      "   Speech  - WER: 0.0517, CER: 0.0103\n",
      "   Weights - α: 0.60, β: 0.40\n"
     ]
    },
    {
     "name": "stderr",
     "output_type": "stream",
     "text": [
      "Evaluating: 100%|████████████████████████████████████████████████████████████████████████████████████████████████| 27/27 [00:09<00:00,  2.76it/s]\n"
     ]
    },
    {
     "name": "stdout",
     "output_type": "stream",
     "text": [
      "\n",
      "📊 VALIDATION METRICS:\n",
      "   Loss: 0.2912\n",
      "   Disease - Acc: 0.8889, F1: 0.9389\n",
      "   Disease - Prec: 1.0000, Rec: 0.8889\n",
      "   Speech  - WER: 0.0887, CER: 0.0419\n",
      "✅ Best model saved: ../checkpoints/checkpoints_base.en/best_multitask_model_base.en.pt\n",
      "\n",
      "==================================================\n",
      "EPOCH 17/30\n",
      "==================================================\n",
      "Epoch 17: Updated loss weights α=0.60, β=0.40\n"
     ]
    },
    {
     "name": "stderr",
     "output_type": "stream",
     "text": [
      "Training Epoch 17: 100%|███████████████████████████████████████████████████████████████████████████████████████| 109/109 [01:17<00:00,  1.40it/s]\n"
     ]
    },
    {
     "name": "stdout",
     "output_type": "stream",
     "text": [
      "\n",
      "📈 TRAINING METRICS:\n",
      "   Loss: 0.2098 (Cls: 0.3493, Trans: 0.0005)\n",
      "   Disease - Acc: 0.8780, F1: 0.8783\n",
      "   Disease - Prec: 0.8974, Rec: 0.8780\n",
      "   Speech  - WER: 0.0513, CER: 0.0102\n",
      "   Weights - α: 0.60, β: 0.40\n"
     ]
    },
    {
     "name": "stderr",
     "output_type": "stream",
     "text": [
      "Evaluating: 100%|████████████████████████████████████████████████████████████████████████████████████████████████| 27/27 [00:09<00:00,  2.93it/s]\n"
     ]
    },
    {
     "name": "stdout",
     "output_type": "stream",
     "text": [
      "\n",
      "📊 VALIDATION METRICS:\n",
      "   Loss: 0.2884\n",
      "   Disease - Acc: 0.8843, F1: 0.9350\n",
      "   Disease - Prec: 1.0000, Rec: 0.8843\n",
      "   Speech  - WER: 0.0888, CER: 0.0418\n",
      "⏳ No improvement. Patience: 1/7\n",
      "\n",
      "==================================================\n",
      "EPOCH 18/30\n",
      "==================================================\n",
      "Epoch 18: Updated loss weights α=0.60, β=0.40\n"
     ]
    },
    {
     "name": "stderr",
     "output_type": "stream",
     "text": [
      "Training Epoch 18: 100%|███████████████████████████████████████████████████████████████████████████████████████| 109/109 [01:17<00:00,  1.40it/s]\n"
     ]
    },
    {
     "name": "stdout",
     "output_type": "stream",
     "text": [
      "\n",
      "📈 TRAINING METRICS:\n",
      "   Loss: 0.2054 (Cls: 0.3420, Trans: 0.0004)\n",
      "   Disease - Acc: 0.8807, F1: 0.8810\n",
      "   Disease - Prec: 0.9032, Rec: 0.8807\n",
      "   Speech  - WER: 0.0516, CER: 0.0104\n",
      "   Weights - α: 0.60, β: 0.40\n"
     ]
    },
    {
     "name": "stderr",
     "output_type": "stream",
     "text": [
      "Evaluating: 100%|████████████████████████████████████████████████████████████████████████████████████████████████| 27/27 [00:10<00:00,  2.61it/s]\n"
     ]
    },
    {
     "name": "stdout",
     "output_type": "stream",
     "text": [
      "\n",
      "📊 VALIDATION METRICS:\n",
      "   Loss: 0.2787\n",
      "   Disease - Acc: 0.8935, F1: 0.9418\n",
      "   Disease - Prec: 1.0000, Rec: 0.8935\n",
      "   Speech  - WER: 0.0884, CER: 0.0415\n",
      "✅ Best model saved: ../checkpoints/checkpoints_base.en/best_multitask_model_base.en.pt\n",
      "\n",
      "==================================================\n",
      "EPOCH 19/30\n",
      "==================================================\n",
      "Epoch 19: Updated loss weights α=0.60, β=0.40\n"
     ]
    },
    {
     "name": "stderr",
     "output_type": "stream",
     "text": [
      "Training Epoch 19: 100%|███████████████████████████████████████████████████████████████████████████████████████| 109/109 [01:25<00:00,  1.27it/s]\n"
     ]
    },
    {
     "name": "stdout",
     "output_type": "stream",
     "text": [
      "\n",
      "📈 TRAINING METRICS:\n",
      "   Loss: 0.1988 (Cls: 0.3311, Trans: 0.0004)\n",
      "   Disease - Acc: 0.8893, F1: 0.8898\n",
      "   Disease - Prec: 0.9089, Rec: 0.8893\n",
      "   Speech  - WER: 0.0517, CER: 0.0103\n",
      "   Weights - α: 0.60, β: 0.40\n"
     ]
    },
    {
     "name": "stderr",
     "output_type": "stream",
     "text": [
      "Evaluating: 100%|████████████████████████████████████████████████████████████████████████████████████████████████| 27/27 [00:10<00:00,  2.54it/s]\n"
     ]
    },
    {
     "name": "stdout",
     "output_type": "stream",
     "text": [
      "\n",
      "📊 VALIDATION METRICS:\n",
      "   Loss: 0.2735\n",
      "   Disease - Acc: 0.9074, F1: 0.9495\n",
      "   Disease - Prec: 1.0000, Rec: 0.9074\n",
      "   Speech  - WER: 0.0878, CER: 0.0414\n",
      "✅ Best model saved: ../checkpoints/checkpoints_base.en/best_multitask_model_base.en.pt\n",
      "\n",
      "==================================================\n",
      "EPOCH 20/30\n",
      "==================================================\n",
      "Epoch 20: Updated loss weights α=0.60, β=0.40\n"
     ]
    },
    {
     "name": "stderr",
     "output_type": "stream",
     "text": [
      "Training Epoch 20: 100%|███████████████████████████████████████████████████████████████████████████████████████| 109/109 [01:26<00:00,  1.27it/s]\n"
     ]
    },
    {
     "name": "stdout",
     "output_type": "stream",
     "text": [
      "\n",
      "📈 TRAINING METRICS:\n",
      "   Loss: 0.1908 (Cls: 0.3177, Trans: 0.0003)\n",
      "   Disease - Acc: 0.8922, F1: 0.8938\n",
      "   Disease - Prec: 0.9118, Rec: 0.8922\n",
      "   Speech  - WER: 0.0518, CER: 0.0104\n",
      "   Weights - α: 0.60, β: 0.40\n"
     ]
    },
    {
     "name": "stderr",
     "output_type": "stream",
     "text": [
      "Evaluating: 100%|████████████████████████████████████████████████████████████████████████████████████████████████| 27/27 [00:09<00:00,  2.87it/s]\n"
     ]
    },
    {
     "name": "stdout",
     "output_type": "stream",
     "text": [
      "\n",
      "📊 VALIDATION METRICS:\n",
      "   Loss: 0.2670\n",
      "   Disease - Acc: 0.9028, F1: 0.9471\n",
      "   Disease - Prec: 1.0000, Rec: 0.9028\n",
      "   Speech  - WER: 0.0888, CER: 0.0422\n",
      "⏳ No improvement. Patience: 1/7\n",
      "\n",
      "==================================================\n",
      "EPOCH 21/30\n",
      "==================================================\n",
      "Epoch 21: Updated loss weights α=0.60, β=0.40\n"
     ]
    },
    {
     "name": "stderr",
     "output_type": "stream",
     "text": [
      "Training Epoch 21: 100%|███████████████████████████████████████████████████████████████████████████████████████| 109/109 [01:24<00:00,  1.29it/s]\n"
     ]
    },
    {
     "name": "stdout",
     "output_type": "stream",
     "text": [
      "\n",
      "📈 TRAINING METRICS:\n",
      "   Loss: 0.1852 (Cls: 0.3085, Trans: 0.0003)\n",
      "   Disease - Acc: 0.8958, F1: 0.8966\n",
      "   Disease - Prec: 0.9143, Rec: 0.8958\n",
      "   Speech  - WER: 0.0517, CER: 0.0103\n",
      "   Weights - α: 0.60, β: 0.40\n"
     ]
    },
    {
     "name": "stderr",
     "output_type": "stream",
     "text": [
      "Evaluating: 100%|████████████████████████████████████████████████████████████████████████████████████████████████| 27/27 [00:09<00:00,  2.72it/s]\n"
     ]
    },
    {
     "name": "stdout",
     "output_type": "stream",
     "text": [
      "\n",
      "📊 VALIDATION METRICS:\n",
      "   Loss: 0.2611\n",
      "   Disease - Acc: 0.9167, F1: 0.9545\n",
      "   Disease - Prec: 1.0000, Rec: 0.9167\n",
      "   Speech  - WER: 0.0875, CER: 0.0411\n",
      "✅ Best model saved: ../checkpoints/checkpoints_base.en/best_multitask_model_base.en.pt\n",
      "\n",
      "==================================================\n",
      "EPOCH 22/30\n",
      "==================================================\n",
      "Epoch 22: Updated loss weights α=0.50, β=0.50\n"
     ]
    },
    {
     "name": "stderr",
     "output_type": "stream",
     "text": [
      "Training Epoch 22: 100%|███████████████████████████████████████████████████████████████████████████████████████| 109/109 [01:18<00:00,  1.38it/s]\n"
     ]
    },
    {
     "name": "stdout",
     "output_type": "stream",
     "text": [
      "\n",
      "📈 TRAINING METRICS:\n",
      "   Loss: 0.1524 (Cls: 0.3046, Trans: 0.0003)\n",
      "   Disease - Acc: 0.8945, F1: 0.8965\n",
      "   Disease - Prec: 0.9167, Rec: 0.8945\n",
      "   Speech  - WER: 0.0516, CER: 0.0104\n",
      "   Weights - α: 0.50, β: 0.50\n"
     ]
    },
    {
     "name": "stderr",
     "output_type": "stream",
     "text": [
      "Evaluating: 100%|████████████████████████████████████████████████████████████████████████████████████████████████| 27/27 [00:09<00:00,  2.74it/s]\n"
     ]
    },
    {
     "name": "stdout",
     "output_type": "stream",
     "text": [
      "\n",
      "📊 VALIDATION METRICS:\n",
      "   Loss: 0.2442\n",
      "   Disease - Acc: 0.9028, F1: 0.9467\n",
      "   Disease - Prec: 1.0000, Rec: 0.9028\n",
      "   Speech  - WER: 0.0888, CER: 0.0418\n",
      "⏳ No improvement. Patience: 1/7\n",
      "\n",
      "==================================================\n",
      "EPOCH 23/30\n",
      "==================================================\n",
      "Epoch 23: Updated loss weights α=0.50, β=0.50\n"
     ]
    },
    {
     "name": "stderr",
     "output_type": "stream",
     "text": [
      "Training Epoch 23: 100%|███████████████████████████████████████████████████████████████████████████████████████| 109/109 [01:20<00:00,  1.36it/s]\n"
     ]
    },
    {
     "name": "stdout",
     "output_type": "stream",
     "text": [
      "\n",
      "📈 TRAINING METRICS:\n",
      "   Loss: 0.1488 (Cls: 0.2973, Trans: 0.0003)\n",
      "   Disease - Acc: 0.8935, F1: 0.8951\n",
      "   Disease - Prec: 0.9144, Rec: 0.8935\n",
      "   Speech  - WER: 0.0516, CER: 0.0104\n",
      "   Weights - α: 0.50, β: 0.50\n"
     ]
    },
    {
     "name": "stderr",
     "output_type": "stream",
     "text": [
      "Evaluating: 100%|████████████████████████████████████████████████████████████████████████████████████████████████| 27/27 [00:10<00:00,  2.57it/s]\n"
     ]
    },
    {
     "name": "stdout",
     "output_type": "stream",
     "text": [
      "\n",
      "📊 VALIDATION METRICS:\n",
      "   Loss: 0.2393\n",
      "   Disease - Acc: 0.9074, F1: 0.9492\n",
      "   Disease - Prec: 1.0000, Rec: 0.9074\n",
      "   Speech  - WER: 0.0878, CER: 0.0412\n",
      "⏳ No improvement. Patience: 2/7\n",
      "\n",
      "==================================================\n",
      "EPOCH 24/30\n",
      "==================================================\n",
      "Epoch 24: Updated loss weights α=0.50, β=0.50\n"
     ]
    },
    {
     "name": "stderr",
     "output_type": "stream",
     "text": [
      "Training Epoch 24: 100%|███████████████████████████████████████████████████████████████████████████████████████| 109/109 [01:24<00:00,  1.30it/s]\n"
     ]
    },
    {
     "name": "stdout",
     "output_type": "stream",
     "text": [
      "\n",
      "📈 TRAINING METRICS:\n",
      "   Loss: 0.1444 (Cls: 0.2886, Trans: 0.0002)\n",
      "   Disease - Acc: 0.8997, F1: 0.8990\n",
      "   Disease - Prec: 0.9174, Rec: 0.8997\n",
      "   Speech  - WER: 0.0515, CER: 0.0104\n",
      "   Weights - α: 0.50, β: 0.50\n"
     ]
    },
    {
     "name": "stderr",
     "output_type": "stream",
     "text": [
      "Evaluating: 100%|████████████████████████████████████████████████████████████████████████████████████████████████| 27/27 [00:09<00:00,  2.80it/s]\n"
     ]
    },
    {
     "name": "stdout",
     "output_type": "stream",
     "text": [
      "\n",
      "📊 VALIDATION METRICS:\n",
      "   Loss: 0.2357\n",
      "   Disease - Acc: 0.9167, F1: 0.9545\n",
      "   Disease - Prec: 1.0000, Rec: 0.9167\n",
      "   Speech  - WER: 0.0871, CER: 0.0407\n",
      "✅ Best model saved: ../checkpoints/checkpoints_base.en/best_multitask_model_base.en.pt\n",
      "\n",
      "==================================================\n",
      "EPOCH 25/30\n",
      "==================================================\n",
      "Epoch 25: Updated loss weights α=0.50, β=0.50\n"
     ]
    },
    {
     "name": "stderr",
     "output_type": "stream",
     "text": [
      "Training Epoch 25: 100%|███████████████████████████████████████████████████████████████████████████████████████| 109/109 [01:14<00:00,  1.45it/s]\n"
     ]
    },
    {
     "name": "stdout",
     "output_type": "stream",
     "text": [
      "\n",
      "📈 TRAINING METRICS:\n",
      "   Loss: 0.1422 (Cls: 0.2842, Trans: 0.0002)\n",
      "   Disease - Acc: 0.9021, F1: 0.9023\n",
      "   Disease - Prec: 0.9185, Rec: 0.9021\n",
      "   Speech  - WER: 0.0515, CER: 0.0103\n",
      "   Weights - α: 0.50, β: 0.50\n"
     ]
    },
    {
     "name": "stderr",
     "output_type": "stream",
     "text": [
      "Evaluating: 100%|████████████████████████████████████████████████████████████████████████████████████████████████| 27/27 [00:11<00:00,  2.43it/s]\n"
     ]
    },
    {
     "name": "stdout",
     "output_type": "stream",
     "text": [
      "\n",
      "📊 VALIDATION METRICS:\n",
      "   Loss: 0.2319\n",
      "   Disease - Acc: 0.9074, F1: 0.9492\n",
      "   Disease - Prec: 1.0000, Rec: 0.9074\n",
      "   Speech  - WER: 0.0892, CER: 0.0417\n",
      "⏳ No improvement. Patience: 1/7\n",
      "\n",
      "==================================================\n",
      "EPOCH 26/30\n",
      "==================================================\n",
      "Epoch 26: Updated loss weights α=0.50, β=0.50\n"
     ]
    },
    {
     "name": "stderr",
     "output_type": "stream",
     "text": [
      "Training Epoch 26: 100%|███████████████████████████████████████████████████████████████████████████████████████| 109/109 [01:39<00:00,  1.09it/s]\n"
     ]
    },
    {
     "name": "stdout",
     "output_type": "stream",
     "text": [
      "\n",
      "📈 TRAINING METRICS:\n",
      "   Loss: 0.1383 (Cls: 0.2764, Trans: 0.0002)\n",
      "   Disease - Acc: 0.9049, F1: 0.9047\n",
      "   Disease - Prec: 0.9212, Rec: 0.9049\n",
      "   Speech  - WER: 0.0514, CER: 0.0104\n",
      "   Weights - α: 0.50, β: 0.50\n"
     ]
    },
    {
     "name": "stderr",
     "output_type": "stream",
     "text": [
      "Evaluating: 100%|████████████████████████████████████████████████████████████████████████████████████████████████| 27/27 [00:12<00:00,  2.18it/s]\n"
     ]
    },
    {
     "name": "stdout",
     "output_type": "stream",
     "text": [
      "\n",
      "📊 VALIDATION METRICS:\n",
      "   Loss: 0.2292\n",
      "   Disease - Acc: 0.9074, F1: 0.9492\n",
      "   Disease - Prec: 1.0000, Rec: 0.9074\n",
      "   Speech  - WER: 0.0881, CER: 0.0408\n",
      "⏳ No improvement. Patience: 2/7\n",
      "\n",
      "==================================================\n",
      "EPOCH 27/30\n",
      "==================================================\n",
      "Epoch 27: Updated loss weights α=0.50, β=0.50\n"
     ]
    },
    {
     "name": "stderr",
     "output_type": "stream",
     "text": [
      "Training Epoch 27: 100%|███████████████████████████████████████████████████████████████████████████████████████| 109/109 [01:18<00:00,  1.38it/s]\n"
     ]
    },
    {
     "name": "stdout",
     "output_type": "stream",
     "text": [
      "\n",
      "📈 TRAINING METRICS:\n",
      "   Loss: 0.1370 (Cls: 0.2739, Trans: 0.0002)\n",
      "   Disease - Acc: 0.9048, F1: 0.9056\n",
      "   Disease - Prec: 0.9230, Rec: 0.9048\n",
      "   Speech  - WER: 0.0516, CER: 0.0104\n",
      "   Weights - α: 0.50, β: 0.50\n"
     ]
    },
    {
     "name": "stderr",
     "output_type": "stream",
     "text": [
      "Evaluating: 100%|████████████████████████████████████████████████████████████████████████████████████████████████| 27/27 [00:10<00:00,  2.48it/s]\n"
     ]
    },
    {
     "name": "stdout",
     "output_type": "stream",
     "text": [
      "\n",
      "📊 VALIDATION METRICS:\n",
      "   Loss: 0.2267\n",
      "   Disease - Acc: 0.9167, F1: 0.9541\n",
      "   Disease - Prec: 1.0000, Rec: 0.9167\n",
      "   Speech  - WER: 0.0886, CER: 0.0412\n",
      "⏳ No improvement. Patience: 3/7\n",
      "\n",
      "==================================================\n",
      "EPOCH 28/30\n",
      "==================================================\n",
      "Epoch 28: Updated loss weights α=0.50, β=0.50\n"
     ]
    },
    {
     "name": "stderr",
     "output_type": "stream",
     "text": [
      "Training Epoch 28: 100%|███████████████████████████████████████████████████████████████████████████████████████| 109/109 [01:25<00:00,  1.28it/s]\n"
     ]
    },
    {
     "name": "stdout",
     "output_type": "stream",
     "text": [
      "\n",
      "📈 TRAINING METRICS:\n",
      "   Loss: 0.1347 (Cls: 0.2693, Trans: 0.0002)\n",
      "   Disease - Acc: 0.9058, F1: 0.9068\n",
      "   Disease - Prec: 0.9231, Rec: 0.9058\n",
      "   Speech  - WER: 0.0513, CER: 0.0103\n",
      "   Weights - α: 0.50, β: 0.50\n"
     ]
    },
    {
     "name": "stderr",
     "output_type": "stream",
     "text": [
      "Evaluating: 100%|████████████████████████████████████████████████████████████████████████████████████████████████| 27/27 [00:11<00:00,  2.34it/s]\n"
     ]
    },
    {
     "name": "stdout",
     "output_type": "stream",
     "text": [
      "\n",
      "📊 VALIDATION METRICS:\n",
      "   Loss: 0.2224\n",
      "   Disease - Acc: 0.9074, F1: 0.9492\n",
      "   Disease - Prec: 1.0000, Rec: 0.9074\n",
      "   Speech  - WER: 0.0870, CER: 0.0396\n",
      "⏳ No improvement. Patience: 4/7\n",
      "\n",
      "==================================================\n",
      "EPOCH 29/30\n",
      "==================================================\n",
      "Epoch 29: Updated loss weights α=0.50, β=0.50\n"
     ]
    },
    {
     "name": "stderr",
     "output_type": "stream",
     "text": [
      "Training Epoch 29: 100%|███████████████████████████████████████████████████████████████████████████████████████| 109/109 [01:21<00:00,  1.33it/s]\n"
     ]
    },
    {
     "name": "stdout",
     "output_type": "stream",
     "text": [
      "\n",
      "📈 TRAINING METRICS:\n",
      "   Loss: 0.1312 (Cls: 0.2622, Trans: 0.0001)\n",
      "   Disease - Acc: 0.9091, F1: 0.9089\n",
      "   Disease - Prec: 0.9244, Rec: 0.9091\n",
      "   Speech  - WER: 0.0512, CER: 0.0103\n",
      "   Weights - α: 0.50, β: 0.50\n"
     ]
    },
    {
     "name": "stderr",
     "output_type": "stream",
     "text": [
      "Evaluating: 100%|████████████████████████████████████████████████████████████████████████████████████████████████| 27/27 [00:12<00:00,  2.18it/s]\n"
     ]
    },
    {
     "name": "stdout",
     "output_type": "stream",
     "text": [
      "\n",
      "📊 VALIDATION METRICS:\n",
      "   Loss: 0.2180\n",
      "   Disease - Acc: 0.9167, F1: 0.9545\n",
      "   Disease - Prec: 1.0000, Rec: 0.9167\n",
      "   Speech  - WER: 0.0870, CER: 0.0396\n",
      "✅ Best model saved: ../checkpoints/checkpoints_base.en/best_multitask_model_base.en.pt\n",
      "\n",
      "==================================================\n",
      "EPOCH 30/30\n",
      "==================================================\n",
      "Epoch 30: Updated loss weights α=0.50, β=0.50\n"
     ]
    },
    {
     "name": "stderr",
     "output_type": "stream",
     "text": [
      "Training Epoch 30: 100%|███████████████████████████████████████████████████████████████████████████████████████| 109/109 [01:15<00:00,  1.45it/s]\n"
     ]
    },
    {
     "name": "stdout",
     "output_type": "stream",
     "text": [
      "\n",
      "📈 TRAINING METRICS:\n",
      "   Loss: 0.1275 (Cls: 0.2549, Trans: 0.0001)\n",
      "   Disease - Acc: 0.9088, F1: 0.9082\n",
      "   Disease - Prec: 0.9240, Rec: 0.9088\n",
      "   Speech  - WER: 0.0514, CER: 0.0104\n",
      "   Weights - α: 0.50, β: 0.50\n"
     ]
    },
    {
     "name": "stderr",
     "output_type": "stream",
     "text": [
      "Evaluating: 100%|████████████████████████████████████████████████████████████████████████████████████████████████| 27/27 [00:11<00:00,  2.39it/s]\n"
     ]
    },
    {
     "name": "stdout",
     "output_type": "stream",
     "text": [
      "\n",
      "📊 VALIDATION METRICS:\n",
      "   Loss: 0.2186\n",
      "   Disease - Acc: 0.9398, F1: 0.9668\n",
      "   Disease - Prec: 1.0000, Rec: 0.9398\n",
      "   Speech  - WER: 0.0870, CER: 0.0398\n",
      "✅ Best model saved: ../checkpoints/checkpoints_base.en/best_multitask_model_base.en.pt\n",
      "\n",
      "==================================================\n",
      "TRAINING COMPLETE\n",
      "==================================================\n",
      "Best metric: 0.9291\n",
      "Training history saved: ../checkpoints/checkpoints_base.en/training_history_base.en.json\n",
      "\n",
      "=== Training Results ===\n",
      "Best metric: 0.9291\n"
     ]
    }
   ],
   "source": [
    "%run train_disease.py --model_size base.en --epochs 30"
   ]
  },
  {
   "cell_type": "code",
   "execution_count": 4,
   "id": "0e197704-3167-4504-b61e-6ecfab1bd558",
   "metadata": {},
   "outputs": [
    {
     "name": "stdout",
     "output_type": "stream",
     "text": [
      "=== COMPREHENSIVE MULTI-TASK EVALUATION ===\n",
      "Model: ../checkpoints/checkpoints_base.en/best_multitask_model_base.en.pt\n",
      "Test data: /home/cluster-dgxa100/slp03/whisper/whisper_multitaskB/data/custom_test.csv\n",
      "Device: cuda\n",
      "Loading trained model...\n",
      "=== Multi-Task Learning Trainer ===\n",
      "Device: cuda\n",
      "CUDA device: NVIDIA A100-SXM4-40GB\n",
      "CUDA memory: 42.4 GB\n",
      "✓ Whisper model loaded on cuda\n",
      "Vocabulary sizes: Original=51864, New=51868\n",
      "Expanding vocabulary: 51864 -> 51868\n",
      "Resized embedding layer device: cuda:0\n",
      "✓ Vocabulary expanded\n",
      "✓ Disease classifier created on cuda\n",
      "✓ Encoder frozen\n",
      "✓ New embeddings added to training: 4 tokens\n",
      "Trainable parameters: 52,139,011\n",
      "✓ Trainer initialized successfully\n",
      "✓ Multi-task model loaded from: ../checkpoints/checkpoints_base.en/best_multitask_model_base.en.pt\n",
      "✓ Model moved to: cuda\n",
      "Loading test dataset...\n",
      "Dataset using English-only tokenizer\n",
      "Multi-task Dataset loaded: 207 samples\n",
      "Disease tokens available: ['normal', 'dysarthria', 'dysphonia']\n",
      "Class distribution:\n",
      "  normal: 69 samples (33.3%)\n",
      "  dysarthria: 69 samples (33.3%)\n",
      "  dysphonia: 69 samples (33.3%)\n",
      "Test dataset: 207 samples\n",
      "Running comprehensive evaluation...\n",
      "\n",
      "=== DETAILED EVALUATION STARTED ===\n"
     ]
    },
    {
     "name": "stderr",
     "output_type": "stream",
     "text": [
      "Detailed Evaluation: 100%|█████████████████████████████████████████████████████████████████████████████| 26/26 [00:14<00:00,  1.77it/s]"
     ]
    },
    {
     "name": "stdout",
     "output_type": "stream",
     "text": [
      "\n",
      "=== CALCULATING DETAILED METRICS ===\n",
      "\n",
      "============================================================\n",
      "              COMPREHENSIVE EVALUATION RESULTS              \n",
      "============================================================\n",
      "\n",
      "📊 OVERALL PERFORMANCE:\n",
      "   Total Samples: 207\n",
      "   WER:          10.24%\n",
      "   CER:          4.32%\n",
      "   Accuracy:     89.37%\n",
      "   Precision:    89.58%\n",
      "   Recall:       89.37%\n",
      "   F1-Score:     89.44%\n",
      "\n",
      "📋 PER-CLASS PERFORMANCE:\n",
      "Class        Samples  WER      CER      Acc      Prec     Rec      F1      \n",
      "--------------------------------------------------------------------------------\n",
      "Normal       69       7.4    % 2.1    % 87.0   % 82.2   % 87.0   % 84.5   %\n",
      "Dysarthria   69       9.4    % 2.7    % 92.8   % 94.1   % 92.8   % 93.4   %\n",
      "Dysphonia    69       15.6   % 10.3   % 88.4   % 92.4   % 88.4   % 90.4   %\n",
      "\n",
      "🔄 CONFUSION MATRIX:\n",
      "Predicted → Normal      Dysarthria  Dysphonia   \n",
      "Normal      60          4           5           \n",
      "Dysarthria  5           64          0           \n",
      "Dysphonia   8           0           61          \n",
      "\n",
      "📈 DETAILED CLASSIFICATION REPORT:\n",
      "\n",
      "Saving results to: evaluation_results_base_en.json\n",
      "✓ Results saved successfully\n"
     ]
    },
    {
     "name": "stderr",
     "output_type": "stream",
     "text": [
      "\n"
     ]
    }
   ],
   "source": [
    "%run evaluate_disease.py --model_path ../checkpoints/checkpoints_base.en/best_multitask_model_base.en.pt --save_results evaluation_results_base_en.json"
   ]
  },
  {
   "cell_type": "code",
   "execution_count": 3,
   "id": "46edd8f1-0972-4274-95c3-4b8869a3fd79",
   "metadata": {},
   "outputs": [
    {
     "data": {
      "text/plain": [
       "'/home/cluster-dgxa100/slp03/whisper/whisper_multitaskB/scripts'"
      ]
     },
     "execution_count": 3,
     "metadata": {},
     "output_type": "execute_result"
    }
   ],
   "source": [
    "import os\n",
    "os.getcwd()"
   ]
  }
 ],
 "metadata": {
  "kernelspec": {
   "display_name": "Python 3 (ipykernel)",
   "language": "python",
   "name": "python3"
  },
  "language_info": {
   "codemirror_mode": {
    "name": "ipython",
    "version": 3
   },
   "file_extension": ".py",
   "mimetype": "text/x-python",
   "name": "python",
   "nbconvert_exporter": "python",
   "pygments_lexer": "ipython3",
   "version": "3.12.3"
  }
 },
 "nbformat": 4,
 "nbformat_minor": 5
}
