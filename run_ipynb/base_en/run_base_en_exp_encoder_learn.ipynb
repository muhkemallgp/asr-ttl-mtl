{
 "cells": [
  {
   "cell_type": "code",
   "execution_count": 1,
   "id": "f5dbdee4-9a52-40a5-872e-8c74ef7b1fc9",
   "metadata": {},
   "outputs": [
    {
     "name": "stdout",
     "output_type": "stream",
     "text": [
      "/home/is/lathifgalih-k/research_naist/ast-tts/.mtl-venv/bin/python\n",
      "/usr/lib/python310.zip\n"
     ]
    }
   ],
   "source": [
    "import sys\n",
    "print(sys.executable)\n",
    "print(sys.path[0])"
   ]
  },
  {
   "cell_type": "code",
   "execution_count": 2,
   "id": "ec554240-e960-4532-9b39-12ee07b00890",
   "metadata": {},
   "outputs": [
    {
     "data": {
      "text/plain": [
       "'/home/is/lathifgalih-k/research_naist/ast-tts/run_ipynb/base_en'"
      ]
     },
     "execution_count": 2,
     "metadata": {},
     "output_type": "execute_result"
    }
   ],
   "source": [
    "import os\n",
    "os.getcwd()"
   ]
  },
  {
   "cell_type": "code",
   "execution_count": 3,
   "id": "80ea00f0-dc63-48be-8c3e-cc2ddfaef451",
   "metadata": {},
   "outputs": [
    {
     "name": "stdout",
     "output_type": "stream",
     "text": [
      "/home/is/lathifgalih-k/research_naist/ast-tts/scripts\n"
     ]
    },
    {
     "name": "stderr",
     "output_type": "stream",
     "text": [
      "/home/is/lathifgalih-k/research_naist/ast-tts/.mtl-venv/lib/python3.10/site-packages/IPython/core/magics/osm.py:417: UserWarning: This is now an optional IPython functionality, setting dhist requires you to install the `pickleshare` library.\n",
      "  self.shell.db['dhist'] = compress_dhist(dhist)[-100:]\n"
     ]
    }
   ],
   "source": [
    "%cd ../../scripts"
   ]
  },
  {
   "cell_type": "code",
   "execution_count": null,
   "id": "e4c63a6a-2e84-4d6a-b97f-db1e35d699c6",
   "metadata": {},
   "outputs": [
    {
     "name": "stdout",
     "output_type": "stream",
     "text": [
      "Multi-task Training Configuration:\n",
      "  Model: Whisper-base.en\n",
      "  Mode: multi_task\n",
      "  Device: cuda\n",
      "  Batch sizes: Train=16, Val=8\n",
      "  Loss weights: α=0.0, β=0.0\n",
      "  Audio: librosa (sr=16000, n_mels=80)\n",
      "  Save directory: ../checkpoints_exp/checkpoints_base.en_encoder_learning/\n",
      "  Disease tokens: ['normal', 'dysphonia', 'dysarthria']\n",
      "\n",
      "=== Multi-Task Learning Configuration ===\n",
      "Model: Whisper-base.en\n",
      "Device: cuda\n",
      "Batch sizes: Train=16, Val=8\n",
      "Epochs: 50\n",
      "Learning rate: 1e-05\n",
      "Freeze encoder: False\n",
      "Audio processing: librosa\n",
      "\n",
      "Loading datasets...\n",
      "Dataset using English-only tokenizer\n",
      "Multi-task Dataset loaded: 1737 samples\n",
      "Model type: English-only\n",
      "EOT token: 50256\n",
      "SOT token: 50257\n",
      "Disease tokens available: ['normal', 'dysarthria', 'dysphonia']\n",
      "Class distribution:\n",
      "  normal: 579 samples (33.3%)\n",
      "  dysphonia: 579 samples (33.3%)\n",
      "  dysarthria: 579 samples (33.3%)\n",
      "Dataset using English-only tokenizer\n",
      "Multi-task Dataset loaded: 213 samples\n",
      "Model type: English-only\n",
      "EOT token: 50256\n",
      "SOT token: 50257\n",
      "Disease tokens available: ['normal', 'dysarthria', 'dysphonia']\n",
      "Class distribution:\n",
      "  normal: 71 samples (33.3%)\n",
      "  dysphonia: 71 samples (33.3%)\n",
      "  dysarthria: 71 samples (33.3%)\n",
      "Using English-only tokenizer\n",
      "Dataset sizes: Train=1737, Val=213\n",
      "Batches: Train=109, Val=27\n",
      "\n",
      "Initializing multi-task trainer...\n",
      "=== Multi-Task Learning Trainer ===\n",
      "Device: cuda\n",
      "CUDA device: NVIDIA H100 NVL\n",
      "CUDA memory: 100.0 GB\n",
      "✔ Whisper model loaded on cuda\n",
      "✔ Tokenizer loaded with disease support\n",
      "  EOT token: 50256\n",
      "  SOT token: 50257\n",
      "  Transcribe token: 50362\n",
      "  Disease tokens: ['normal', 'dysarthria', 'dysphonia']\n",
      "Vocabulary sizes: Original=51864, New=51868\n",
      "Expanding vocabulary: 51864 -> 51868\n",
      "Resized embedding layer device: cuda:0\n",
      "✔ Vocabulary expanded\n",
      "✔ Disease classifier created on cuda\n",
      "Encoder is trainable\n",
      "✔ New embeddings added to training: 4 tokens\n",
      "Trainable parameters: 52,139,011\n",
      "✔ Encoder parameters added to training: 19,822,592\n",
      "✔ Trainer initialized successfully\n",
      "\n",
      "Starting multi-task training...\n",
      "\n",
      "=== Multi-Task Training Started ===\n",
      "Model: Whisper-base.en\n",
      "Device: cuda\n",
      "Epochs: 50\n",
      "Architecture: Audio → [Encoder] → Features → [Disease Classifier + Decoder]\n",
      "Format: [SOT][EN][DISEASE][TRANSCRIBE][TEXT][EOT]\n",
      "Disease tokens: ['normal', 'dysarthria', 'dysphonia']\n",
      "\n",
      "==================================================\n",
      "EPOCH 1/50\n",
      "==================================================\n"
     ]
    },
    {
     "name": "stderr",
     "output_type": "stream",
     "text": [
      "Training Epoch 1:   1%|          | 1/109 [00:18<32:30, 18.06s/it]"
     ]
    },
    {
     "name": "stdout",
     "output_type": "stream",
     "text": [
      "\n",
      "=== METRICS DEBUG (Using EOT: 50256) ===\n",
      "Processing 16 samples...\n",
      "Sample 0:\n",
      "  Pred: 'you're losing water replace it immediately...'\n",
      "  Ref:  'if you are losing water replace it immediately....'\n",
      "Sample 1:\n",
      "  Pred: 'able to dance can help too...'\n",
      "  Ref:  'being able to dance can help too....'\n",
      "Sample 2:\n",
      "  Pred: 'would the of day time....'\n",
      "  Ref:  'i was conscious all the time....'\n",
      "\n",
      "Metrics computed (using proper Whisper tokens):\n",
      "  WER: 0.3542, CER: 0.2226\n",
      "  Disease Acc: 0.3750\n",
      "  Precision: 0.3438, Recall: 0.3750, F1: 0.3021\n",
      "==================================================\n"
     ]
    },
    {
     "name": "stderr",
     "output_type": "stream",
     "text": [
      "Training Epoch 1:   2%|▏         | 2/109 [00:18<13:33,  7.61s/it]"
     ]
    },
    {
     "name": "stdout",
     "output_type": "stream",
     "text": [
      "\n",
      "=== METRICS DEBUG (Using EOT: 50256) ===\n",
      "Processing 16 samples...\n",
      "Sample 0:\n",
      "  Pred: ''s a than i am....'\n",
      "  Ref:  'she is thinner than i am....'\n",
      "Sample 1:\n",
      "  Pred: '1 as he got up....'\n",
      "  Ref:  'students watched as he got out....'\n",
      "Sample 2:\n",
      "  Pred: 'jane may earn more money by working hard....'\n",
      "  Ref:  'jane may earn more money by working hard....'\n",
      "\n",
      "Metrics computed (using proper Whisper tokens):\n",
      "  WER: 0.3643, CER: 0.2467\n",
      "  Disease Acc: 0.3125\n",
      "  Precision: 0.3601, Recall: 0.3125, F1: 0.3346\n",
      "==================================================\n"
     ]
    },
    {
     "name": "stderr",
     "output_type": "stream",
     "text": [
      "Training Epoch 1: 100%|██████████| 109/109 [01:38<00:00,  1.11it/s]\n"
     ]
    },
    {
     "name": "stdout",
     "output_type": "stream",
     "text": [
      "\n",
      "======================================================================\n",
      "📝 TRAINING EPOCH 1 - TEXT EXAMPLES:\n",
      "======================================================================\n",
      "\n",
      "Example 1:\n",
      "  Reference: 'if you are losing water replace it immediately.'\n",
      "  Predicted: 'you're losing water replace it immediately'\n",
      "  Disease: Normal → Dysphonia ✗\n",
      "\n",
      "Example 2:\n",
      "  Reference: 'being able to dance can help too.'\n",
      "  Predicted: 'able to dance can help too'\n",
      "  Disease: Dysphonia → Dysphonia ✓\n",
      "\n",
      "Example 3:\n",
      "  Reference: 'i was conscious all the time.'\n",
      "  Predicted: 'would the of day time.'\n",
      "  Disease: Dysphonia → Dysphonia ✓\n",
      "\n",
      "Example 4:\n",
      "  Reference: 'the museum hires musicians every evening.'\n",
      "  Predicted: 'movie fires every evening.'\n",
      "  Disease: Dysphonia → Dysphonia ✓\n",
      "\n",
      "Example 5:\n",
      "  Reference: 'she had your dark suit in greasy wash water all year'\n",
      "  Predicted: 'had your dark suit in greasy wash water all year'\n",
      "  Disease: Normal → Dysarthria ✗\n",
      "======================================================================\n",
      "\n",
      "📈 TRAINING METRICS:\n",
      "   Loss: 1.0103 (Cls: 0.8530, Trans: 1.6566)\n",
      "   Disease - Acc: 0.6981, F1: 0.6698\n",
      "   Disease - Prec: 0.7322, Rec: 0.6981\n",
      "   Speech  - WER: 0.1847, CER: 0.1164\n",
      "   Weights - α: 0.1957, β: 0.8043\n"
     ]
    },
    {
     "name": "stderr",
     "output_type": "stream",
     "text": [
      "Evaluating:   4%|▎         | 1/27 [00:02<01:08,  2.63s/it]"
     ]
    },
    {
     "name": "stdout",
     "output_type": "stream",
     "text": [
      "\n",
      "=== METRICS DEBUG (Using EOT: 50256) ===\n",
      "Processing 8 samples...\n",
      "Sample 0:\n",
      "  Pred: 'he slowly takes a short walk in the open air each ...'\n",
      "  Ref:  'he slowly takes a short walk in the open air each ...'\n",
      "Sample 1:\n",
      "  Pred: 'this is not a program of socialized medicine...'\n",
      "  Ref:  'this is not a program of socialized medicine...'\n",
      "Sample 2:\n",
      "  Pred: 'the view spot is on the key again....'\n",
      "  Ref:  'the blue spot is on the key again....'\n",
      "\n",
      "Metrics computed (using proper Whisper tokens):\n",
      "  WER: 0.1067, CER: 0.0613\n",
      "  Disease Acc: 0.8750\n",
      "  Precision: 1.0000, Recall: 0.8750, F1: 0.9333\n",
      "==================================================\n",
      "\n",
      "=== METRICS DEBUG (Using EOT: 50256) ===\n",
      "Processing 8 samples...\n",
      "Sample 0:\n",
      "  Pred: 'it also provides for funds to clear slums and help...'\n",
      "  Ref:  'it also provides for funds to clear slums and help...'\n",
      "Sample 1:\n",
      "  Pred: 'there's definitely some ligament damage in his kne...'\n",
      "  Ref:  'there is definitely some ligament damage in his kn...'\n",
      "Sample 2:\n",
      "  Pred: 'un occupiedoccupied roadway the bottle shattered i...'\n",
      "  Ref:  'on unoccupied roadway the bottle shattered into a ...'\n",
      "\n",
      "Metrics computed (using proper Whisper tokens):\n",
      "  WER: 0.1067, CER: 0.0457\n",
      "  Disease Acc: 0.7500\n",
      "  Precision: 1.0000, Recall: 0.7500, F1: 0.8571\n",
      "==================================================\n"
     ]
    },
    {
     "name": "stderr",
     "output_type": "stream",
     "text": [
      "Evaluating: 100%|██████████| 27/27 [00:12<00:00,  2.20it/s]\n"
     ]
    },
    {
     "name": "stdout",
     "output_type": "stream",
     "text": [
      "\n",
      "======================================================================\n",
      "📝 VALIDATION - TEXT EXAMPLES:\n",
      "======================================================================\n",
      "\n",
      "Example 1:\n",
      "  Reference: 'he slowly takes a short walk in the open air each day.'\n",
      "  Predicted: 'he slowly takes a short walk in the open air each day'\n",
      "  Disease: Normal → Normal ✓\n",
      "\n",
      "Example 2:\n",
      "  Reference: 'this is not a program of socialized medicine'\n",
      "  Predicted: 'this is not a program of socialized medicine'\n",
      "  Disease: Normal → Normal ✓\n",
      "\n",
      "Example 3:\n",
      "  Reference: 'the blue spot is on the key again.'\n",
      "  Predicted: 'the view spot is on the key again.'\n",
      "  Disease: Normal → Dysphonia ✗\n",
      "\n",
      "Example 4:\n",
      "  Reference: 'they used an aggressive policeman to flag thoughtless motorists'\n",
      "  Predicted: 'the used an aggressive policeman to flag thless motorists'\n",
      "  Disease: Normal → Normal ✓\n",
      "\n",
      "Example 5:\n",
      "  Reference: 'when you are through write a clean report.'\n",
      "  Predicted: 'when you are through write a clean report.'\n",
      "  Disease: Normal → Normal ✓\n",
      "======================================================================\n",
      "\n",
      "📊 VALIDATION METRICS:\n",
      "   Loss: 0.6159\n",
      "   Disease - Acc: 0.9120, F1: 0.9517\n",
      "   Disease - Prec: 1.0000, Rec: 0.9120\n",
      "   Speech  - WER: 0.1689, CER: 0.1050\n",
      "✅ Best model saved: ../checkpoints_exp/checkpoints_base.en_encoder_learning/best_multitask_model_base.en.pt\n",
      "\n",
      "==================================================\n",
      "EPOCH 2/50\n",
      "==================================================\n"
     ]
    },
    {
     "name": "stderr",
     "output_type": "stream",
     "text": [
      "Training Epoch 2:   0%|          | 0/109 [00:00<?, ?it/s]"
     ]
    },
    {
     "name": "stdout",
     "output_type": "stream",
     "text": [
      "\n",
      "=== METRICS DEBUG (Using EOT: 50256) ===\n",
      "Processing 16 samples...\n"
     ]
    },
    {
     "name": "stderr",
     "output_type": "stream",
     "text": [
      "Training Epoch 2:   1%|          | 1/109 [00:01<03:35,  2.00s/it]"
     ]
    },
    {
     "name": "stdout",
     "output_type": "stream",
     "text": [
      "Sample 0:\n",
      "  Pred: 'you whisk you all all about my grandfather....'\n",
      "  Ref:  'you wished to know all about my grandfather....'\n",
      "Sample 1:\n",
      "  Pred: 'we have often urged him to walk more in smoke less...'\n",
      "  Ref:  'we have often urged him to walk more and smoke les...'\n",
      "Sample 2:\n",
      "  Pred: 'he took his mask from his forehead and threw it un...'\n",
      "  Ref:  'he took his mask from his forehead and threw it un...'\n",
      "\n",
      "Metrics computed (using proper Whisper tokens):\n",
      "  WER: 0.1553, CER: 0.0939\n",
      "  Disease Acc: 1.0000\n",
      "  Precision: 1.0000, Recall: 1.0000, F1: 1.0000\n",
      "==================================================\n",
      "\n",
      "=== METRICS DEBUG (Using EOT: 50256) ===\n",
      "Processing 16 samples...\n"
     ]
    },
    {
     "name": "stderr",
     "output_type": "stream",
     "text": [
      "Training Epoch 2:   2%|▏         | 2/109 [00:02<01:45,  1.02it/s]"
     ]
    },
    {
     "name": "stdout",
     "output_type": "stream",
     "text": [
      "Sample 0:\n",
      "  Pred: 'i can read....'\n",
      "  Ref:  'i can read...'\n",
      "Sample 1:\n",
      "  Pred: 'her position covers a number of daily tasks common...'\n",
      "  Ref:  'her position covers a number of daily tasks common...'\n",
      "Sample 2:\n",
      "  Pred: 'the hotel almost said....'\n",
      "  Ref:  'the hotel owner shrugged....'\n",
      "\n",
      "Metrics computed (using proper Whisper tokens):\n",
      "  WER: 0.1090, CER: 0.0851\n",
      "  Disease Acc: 0.9375\n",
      "  Precision: 0.9531, Recall: 0.9375, F1: 0.9385\n",
      "==================================================\n"
     ]
    },
    {
     "name": "stderr",
     "output_type": "stream",
     "text": [
      "Training Epoch 2: 100%|██████████| 109/109 [01:25<00:00,  1.27it/s]\n"
     ]
    },
    {
     "name": "stdout",
     "output_type": "stream",
     "text": [
      "\n",
      "======================================================================\n",
      "📝 TRAINING EPOCH 2 - TEXT EXAMPLES:\n",
      "======================================================================\n",
      "\n",
      "Example 1:\n",
      "  Reference: 'you wished to know all about my grandfather.'\n",
      "  Predicted: 'you whisk you all all about my grandfather.'\n",
      "  Disease: Dysphonia → Dysphonia ✓\n",
      "\n",
      "Example 2:\n",
      "  Reference: 'we have often urged him to walk more and smoke less'\n",
      "  Predicted: 'we have often urged him to walk more in smoke less.'\n",
      "  Disease: Normal → Normal ✓\n",
      "\n",
      "Example 3:\n",
      "  Reference: 'he took his mask from his forehead and threw it unexpectedly across the deck'\n",
      "  Predicted: 'he took his mask from his forehead and threw it unexpectedly across the deck'\n",
      "  Disease: Dysarthria → Dysarthria ✓\n",
      "\n",
      "Example 4:\n",
      "  Reference: 'he wrapped the package hastily.'\n",
      "  Predicted: 'you had the package his.'\n",
      "  Disease: Dysphonia → Dysphonia ✓\n",
      "\n",
      "Example 5:\n",
      "  Reference: 'on unoccupied roadway the bottle shattered into a small amber flash'\n",
      "  Predicted: 'on aoccupied roadway the bottle shattered into a small amber flash'\n",
      "  Disease: Dysarthria → Dysarthria ✓\n",
      "======================================================================\n",
      "\n",
      "📈 TRAINING METRICS:\n",
      "   Loss: 0.4121 (Cls: 0.2789, Trans: 0.9596)\n",
      "   Disease - Acc: 0.9409, F1: 0.9412\n",
      "   Disease - Prec: 0.9546, Rec: 0.9409\n",
      "   Speech  - WER: 0.1571, CER: 0.1659\n",
      "   Weights - α: 0.1957, β: 0.8043\n"
     ]
    },
    {
     "name": "stderr",
     "output_type": "stream",
     "text": [
      "Evaluating:   4%|▎         | 1/27 [00:01<00:26,  1.01s/it]"
     ]
    },
    {
     "name": "stdout",
     "output_type": "stream",
     "text": [
      "\n",
      "=== METRICS DEBUG (Using EOT: 50256) ===\n",
      "Processing 8 samples...\n",
      "Sample 0:\n",
      "  Pred: 'functionallyhe slowly takes a short walk in the op...'\n",
      "  Ref:  'he slowly takes a short walk in the open air each ...'\n",
      "Sample 1:\n",
      "  Pred: 'functionallythis is not a program of socialized me...'\n",
      "  Ref:  'this is not a program of socialized medicine...'\n",
      "Sample 2:\n",
      "  Pred: 'functionallythe beauty spot is on the key again....'\n",
      "  Ref:  'the blue spot is on the key again....'\n",
      "\n",
      "Metrics computed (using proper Whisper tokens):\n",
      "  WER: 0.1200, CER: 0.2108\n",
      "  Disease Acc: 1.0000\n",
      "  Precision: 1.0000, Recall: 1.0000, F1: 1.0000\n",
      "==================================================\n",
      "\n",
      "=== METRICS DEBUG (Using EOT: 50256) ===\n",
      "Processing 8 samples...\n",
      "Sample 0:\n",
      "  Pred: 'it also provides for funds to clear slums and help...'\n",
      "  Ref:  'it also provides for funds to clear slums and help...'\n",
      "Sample 1:\n",
      "  Pred: 'functionallythere's definitely some ligament damag...'\n",
      "  Ref:  'there is definitely some ligament damage in his kn...'\n",
      "Sample 2:\n",
      "  Pred: 'distinctlyun occupiedoccupied roadway the bottle s...'\n",
      "  Ref:  'on unoccupied roadway the bottle shattered into a ...'\n",
      "\n",
      "Metrics computed (using proper Whisper tokens):\n",
      "  WER: 0.1600, CER: 0.2428\n",
      "  Disease Acc: 0.8750\n",
      "  Precision: 1.0000, Recall: 0.8750, F1: 0.9333\n",
      "==================================================\n"
     ]
    },
    {
     "name": "stderr",
     "output_type": "stream",
     "text": [
      "Evaluating: 100%|██████████| 27/27 [00:10<00:00,  2.49it/s]\n"
     ]
    },
    {
     "name": "stdout",
     "output_type": "stream",
     "text": [
      "\n",
      "======================================================================\n",
      "📝 VALIDATION - TEXT EXAMPLES:\n",
      "======================================================================\n",
      "\n",
      "Example 1:\n",
      "  Reference: 'he slowly takes a short walk in the open air each day.'\n",
      "  Predicted: 'functionallyhe slowly takes a short walk in the open air each day.'\n",
      "  Disease: Normal → Normal ✓\n",
      "\n",
      "Example 2:\n",
      "  Reference: 'this is not a program of socialized medicine'\n",
      "  Predicted: 'functionallythis is not a program of socialized medicine'\n",
      "  Disease: Normal → Normal ✓\n",
      "\n",
      "Example 3:\n",
      "  Reference: 'the blue spot is on the key again.'\n",
      "  Predicted: 'functionallythe beauty spot is on the key again.'\n",
      "  Disease: Normal → Normal ✓\n",
      "\n",
      "Example 4:\n",
      "  Reference: 'they used an aggressive policeman to flag thoughtless motorists'\n",
      "  Predicted: 'succeedsthe used an aggressive policeman to flag thoughtless motorists'\n",
      "  Disease: Normal → Normal ✓\n",
      "\n",
      "Example 5:\n",
      "  Reference: 'when you are through write a clean report.'\n",
      "  Predicted: 'functionallywhen you are through write a clean report.'\n",
      "  Disease: Normal → Normal ✓\n",
      "======================================================================\n",
      "\n",
      "📊 VALIDATION METRICS:\n",
      "   Loss: 0.3114\n",
      "   Disease - Acc: 0.9815, F1: 0.9901\n",
      "   Disease - Prec: 1.0000, Rec: 0.9815\n",
      "   Speech  - WER: 0.2109, CER: 0.2419\n",
      "✅ Best model saved: ../checkpoints_exp/checkpoints_base.en_encoder_learning/best_multitask_model_base.en.pt\n",
      "\n",
      "==================================================\n",
      "EPOCH 3/50\n",
      "==================================================\n"
     ]
    },
    {
     "name": "stderr",
     "output_type": "stream",
     "text": [
      "Training Epoch 3:   0%|          | 0/109 [00:00<?, ?it/s]"
     ]
    },
    {
     "name": "stdout",
     "output_type": "stream",
     "text": [
      "\n",
      "=== METRICS DEBUG (Using EOT: 50256) ===\n",
      "Processing 16 samples...\n"
     ]
    },
    {
     "name": "stderr",
     "output_type": "stream",
     "text": [
      "Training Epoch 3:   1%|          | 1/109 [00:02<03:57,  2.20s/it]"
     ]
    },
    {
     "name": "stdout",
     "output_type": "stream",
     "text": [
      "Sample 0:\n",
      "  Pred: 'on unoccupied slowly the bottle shattered into a s...'\n",
      "  Ref:  'on unoccupied roadway the bottle shattered into a ...'\n",
      "Sample 1:\n",
      "  Pred: 'this he added brought about petty jealousies and p...'\n",
      "  Ref:  'this he added brought about petty jealousies and p...'\n",
      "Sample 2:\n",
      "  Pred: 'customaryi am willing to experiment for the first ...'\n",
      "  Ref:  'i'm willing to experiment for the first time....'\n",
      "\n",
      "Metrics computed (using proper Whisper tokens):\n",
      "  WER: 0.2690, CER: 0.2814\n",
      "  Disease Acc: 1.0000\n",
      "  Precision: 1.0000, Recall: 1.0000, F1: 1.0000\n",
      "==================================================\n",
      "\n",
      "=== METRICS DEBUG (Using EOT: 50256) ===\n",
      "Processing 16 samples...\n"
     ]
    },
    {
     "name": "stderr",
     "output_type": "stream",
     "text": [
      "Training Epoch 3:   2%|▏         | 2/109 [00:02<01:54,  1.07s/it]"
     ]
    },
    {
     "name": "stdout",
     "output_type": "stream",
     "text": [
      "Sample 0:\n",
      "  Pred: 'functionallym'sws his gings'sons....'\n",
      "  Ref:  'mother sews yellow gingham aprons....'\n",
      "Sample 1:\n",
      "  Pred: 'functionallywhen he speaks his voice is just a bit...'\n",
      "  Ref:  'when he speaks his voice is just a bit cracked and...'\n",
      "Sample 2:\n",
      "  Pred: 'functionallych is about the only feature we have....'\n",
      "  Ref:  'travel is about the only leisure we have....'\n",
      "\n",
      "Metrics computed (using proper Whisper tokens):\n",
      "  WER: 0.2039, CER: 0.2342\n",
      "  Disease Acc: 1.0000\n",
      "  Precision: 1.0000, Recall: 1.0000, F1: 1.0000\n",
      "==================================================\n"
     ]
    },
    {
     "name": "stderr",
     "output_type": "stream",
     "text": [
      "Training Epoch 3: 100%|██████████| 109/109 [01:35<00:00,  1.14it/s]\n"
     ]
    },
    {
     "name": "stdout",
     "output_type": "stream",
     "text": [
      "\n",
      "======================================================================\n",
      "📝 TRAINING EPOCH 3 - TEXT EXAMPLES:\n",
      "======================================================================\n",
      "\n",
      "Example 1:\n",
      "  Reference: 'on unoccupied roadway the bottle shattered into a small amber flash'\n",
      "  Predicted: 'on unoccupied slowly the bottle shattered into a small river flesh'\n",
      "  Disease: Dysarthria → Dysarthria ✓\n",
      "\n",
      "Example 2:\n",
      "  Reference: 'this he added brought about petty jealousies and petty personal grievances'\n",
      "  Predicted: 'this he added brought about petty jealousies and petty personal grievances'\n",
      "  Disease: Dysarthria → Dysarthria ✓\n",
      "\n",
      "Example 3:\n",
      "  Reference: 'i'm willing to experiment for the first time.'\n",
      "  Predicted: 'customaryi am willing to experiment for the first time.'\n",
      "  Disease: Dysphonia → Dysphonia ✓\n",
      "\n",
      "Example 4:\n",
      "  Reference: 'if you destroy confidence in banks you do something to the economy he said.'\n",
      "  Predicted: 'functionallyif you destroy confidence in banks you do something to the economy h...'\n",
      "  Disease: Dysphonia → Dysphonia ✓\n",
      "\n",
      "Example 5:\n",
      "  Reference: 'the job provides many benefits.'\n",
      "  Predicted: 'functionallythe job provides many better.'\n",
      "  Disease: Dysphonia → Dysphonia ✓\n",
      "======================================================================\n",
      "\n",
      "📈 TRAINING METRICS:\n",
      "   Loss: 0.2277 (Cls: 0.0866, Trans: 0.8074)\n",
      "   Disease - Acc: 0.9839, F1: 0.9833\n",
      "   Disease - Prec: 0.9857, Rec: 0.9839\n",
      "   Speech  - WER: 0.1484, CER: 0.1968\n",
      "   Weights - α: 0.1957, β: 0.8043\n"
     ]
    },
    {
     "name": "stderr",
     "output_type": "stream",
     "text": [
      "Evaluating:   4%|▎         | 1/27 [00:01<00:37,  1.44s/it]"
     ]
    },
    {
     "name": "stdout",
     "output_type": "stream",
     "text": [
      "\n",
      "=== METRICS DEBUG (Using EOT: 50256) ===\n",
      "Processing 8 samples...\n",
      "Sample 0:\n",
      "  Pred: 'functionallyhe slowly takes a short walk in the op...'\n",
      "  Ref:  'he slowly takes a short walk in the open air each ...'\n",
      "Sample 1:\n",
      "  Pred: 'functionallythis is not a program of socialized me...'\n",
      "  Ref:  'this is not a program of socialized medicine...'\n",
      "Sample 2:\n",
      "  Pred: 'functionallythe view spot is on the key again....'\n",
      "  Ref:  'the blue spot is on the key again....'\n",
      "\n",
      "Metrics computed (using proper Whisper tokens):\n",
      "  WER: 0.1200, CER: 0.2475\n",
      "  Disease Acc: 1.0000\n",
      "  Precision: 1.0000, Recall: 1.0000, F1: 1.0000\n",
      "==================================================\n",
      "\n",
      "=== METRICS DEBUG (Using EOT: 50256) ===\n",
      "Processing 8 samples...\n",
      "Sample 0:\n",
      "  Pred: 'functionallyit also provides for funds to clear sl...'\n",
      "  Ref:  'it also provides for funds to clear slums and help...'\n",
      "Sample 1:\n",
      "  Pred: 'functionallythere is definitely some ligament dama...'\n",
      "  Ref:  'there is definitely some ligament damage in his kn...'\n",
      "Sample 2:\n",
      "  Pred: 'functionallyun unoccupied roadway the bottle shatt...'\n",
      "  Ref:  'on unoccupied roadway the bottle shattered into a ...'\n",
      "\n",
      "Metrics computed (using proper Whisper tokens):\n",
      "  WER: 0.1333, CER: 0.2476\n",
      "  Disease Acc: 0.8750\n",
      "  Precision: 1.0000, Recall: 0.8750, F1: 0.9333\n",
      "==================================================\n"
     ]
    },
    {
     "name": "stderr",
     "output_type": "stream",
     "text": [
      "Evaluating: 100%|██████████| 27/27 [00:13<00:00,  1.99it/s]\n"
     ]
    },
    {
     "name": "stdout",
     "output_type": "stream",
     "text": [
      "\n",
      "======================================================================\n",
      "📝 VALIDATION - TEXT EXAMPLES:\n",
      "======================================================================\n",
      "\n",
      "Example 1:\n",
      "  Reference: 'he slowly takes a short walk in the open air each day.'\n",
      "  Predicted: 'functionallyhe slowly takes a short walk in the open air each day.'\n",
      "  Disease: Normal → Normal ✓\n",
      "\n",
      "Example 2:\n",
      "  Reference: 'this is not a program of socialized medicine'\n",
      "  Predicted: 'functionallythis is not a program of socialized medicine'\n",
      "  Disease: Normal → Normal ✓\n",
      "\n",
      "Example 3:\n",
      "  Reference: 'the blue spot is on the key again.'\n",
      "  Predicted: 'functionallythe view spot is on the key again.'\n",
      "  Disease: Normal → Normal ✓\n",
      "\n",
      "Example 4:\n",
      "  Reference: 'they used an aggressive policeman to flag thoughtless motorists'\n",
      "  Predicted: 'functionallythe used an aggressive policeman to flag thoughtless motorists'\n",
      "  Disease: Normal → Normal ✓\n",
      "\n",
      "Example 5:\n",
      "  Reference: 'when you are through write a clean report.'\n",
      "  Predicted: 'functionallywhen you are through write a clean report.'\n",
      "  Disease: Normal → Normal ✓\n",
      "======================================================================\n",
      "\n",
      "📊 VALIDATION METRICS:\n",
      "   Loss: 0.2534\n",
      "   Disease - Acc: 0.9769, F1: 0.9873\n",
      "   Disease - Prec: 1.0000, Rec: 0.9769\n",
      "   Speech  - WER: 0.1958, CER: 0.2420\n",
      "✅ Best model saved: ../checkpoints_exp/checkpoints_base.en_encoder_learning/best_multitask_model_base.en.pt\n",
      "\n",
      "==================================================\n",
      "EPOCH 4/50\n",
      "==================================================\n"
     ]
    },
    {
     "name": "stderr",
     "output_type": "stream",
     "text": [
      "Training Epoch 4:   0%|          | 0/109 [00:00<?, ?it/s]"
     ]
    },
    {
     "name": "stdout",
     "output_type": "stream",
     "text": [
      "\n",
      "=== METRICS DEBUG (Using EOT: 50256) ===\n",
      "Processing 16 samples...\n"
     ]
    },
    {
     "name": "stderr",
     "output_type": "stream",
     "text": [
      "Training Epoch 4:   1%|          | 1/109 [00:02<03:58,  2.21s/it]"
     ]
    },
    {
     "name": "stdout",
     "output_type": "stream",
     "text": [
      "Sample 0:\n",
      "  Pred: 'functionallythere is a treehouse up above....'\n",
      "  Ref:  'there is a treehouse up above....'\n",
      "Sample 1:\n",
      "  Pred: 'functionallywe did not accept the diagnosis at onc...'\n",
      "  Ref:  'we did not accept the diagnosis at once but gradua...'\n",
      "Sample 2:\n",
      "  Pred: 'customaryhe is even than i am....'\n",
      "  Ref:  'she is thinner than i am....'\n",
      "\n",
      "Metrics computed (using proper Whisper tokens):\n",
      "  WER: 0.1189, CER: 0.1864\n",
      "  Disease Acc: 1.0000\n",
      "  Precision: 1.0000, Recall: 1.0000, F1: 1.0000\n",
      "==================================================\n",
      "\n",
      "=== METRICS DEBUG (Using EOT: 50256) ===\n",
      "Processing 16 samples...\n"
     ]
    },
    {
     "name": "stderr",
     "output_type": "stream",
     "text": [
      "Training Epoch 4:   2%|▏         | 2/109 [00:02<01:56,  1.09s/it]"
     ]
    },
    {
     "name": "stdout",
     "output_type": "stream",
     "text": [
      "Sample 0:\n",
      "  Pred: 'palm will protects the surface of steel sheets bef...'\n",
      "  Ref:  'palm oil protects the surfaces of steel sheets bef...'\n",
      "Sample 1:\n",
      "  Pred: 'functionallywhen he speaks his voice is just a bit...'\n",
      "  Ref:  'when he speaks his voice is just a bit cracked and...'\n",
      "Sample 2:\n",
      "  Pred: 'functionallythe legislature met to judge the state...'\n",
      "  Ref:  'the legislature met to judge the state of public e...'\n",
      "\n",
      "Metrics computed (using proper Whisper tokens):\n",
      "  WER: 0.1203, CER: 0.1701\n",
      "  Disease Acc: 0.9375\n",
      "  Precision: 0.9479, Recall: 0.9375, F1: 0.9369\n",
      "==================================================\n"
     ]
    },
    {
     "name": "stderr",
     "output_type": "stream",
     "text": [
      "Training Epoch 4: 100%|██████████| 109/109 [01:29<00:00,  1.22it/s]\n"
     ]
    },
    {
     "name": "stdout",
     "output_type": "stream",
     "text": [
      "\n",
      "======================================================================\n",
      "📝 TRAINING EPOCH 4 - TEXT EXAMPLES:\n",
      "======================================================================\n",
      "\n",
      "Example 1:\n",
      "  Reference: 'there is a treehouse up above.'\n",
      "  Predicted: 'functionallythere is a treehouse up above.'\n",
      "  Disease: Dysphonia → Dysphonia ✓\n",
      "\n",
      "Example 2:\n",
      "  Reference: 'we did not accept the diagnosis at once but gradually we are coming to'\n",
      "  Predicted: 'functionallywe did not accept the diagnosis at once but gradually we are coming ...'\n",
      "  Disease: Normal → Normal ✓\n",
      "\n",
      "Example 3:\n",
      "  Reference: 'she is thinner than i am.'\n",
      "  Predicted: 'customaryhe is even than i am.'\n",
      "  Disease: Dysphonia → Dysphonia ✓\n",
      "\n",
      "Example 4:\n",
      "  Reference: 'within a system however the autonomy of each member library is preserved'\n",
      "  Predicted: 'is a system however the autonomy of each member library is preserved'\n",
      "  Disease: Dysarthria → Dysarthria ✓\n",
      "\n",
      "Example 5:\n",
      "  Reference: 'the revised procedure was acclaimed as a long overdue reform'\n",
      "  Predicted: 'the revised procedure was acclaimed as a long overdue reform'\n",
      "  Disease: Dysarthria → Dysarthria ✓\n",
      "======================================================================\n",
      "\n",
      "📈 TRAINING METRICS:\n",
      "   Loss: 0.1636 (Cls: 0.0452, Trans: 0.6500)\n",
      "   Disease - Acc: 0.9920, F1: 0.9922\n",
      "   Disease - Prec: 0.9940, Rec: 0.9920\n",
      "   Speech  - WER: 0.1171, CER: 0.1604\n",
      "   Weights - α: 0.1957, β: 0.8043\n"
     ]
    },
    {
     "name": "stderr",
     "output_type": "stream",
     "text": [
      "Evaluating:   4%|▎         | 1/27 [00:01<00:30,  1.19s/it]"
     ]
    },
    {
     "name": "stdout",
     "output_type": "stream",
     "text": [
      "\n",
      "=== METRICS DEBUG (Using EOT: 50256) ===\n",
      "Processing 8 samples...\n",
      "Sample 0:\n",
      "  Pred: 'accessedhe slowly takes a short walk in the open a...'\n",
      "  Ref:  'he slowly takes a short walk in the open air each ...'\n",
      "Sample 1:\n",
      "  Pred: 'accessedthis is not a program of socialized medici...'\n",
      "  Ref:  'this is not a program of socialized medicine...'\n",
      "Sample 2:\n",
      "  Pred: 'accessedthe view spot is on the key again....'\n",
      "  Ref:  'the blue spot is on the key again....'\n",
      "\n",
      "Metrics computed (using proper Whisper tokens):\n",
      "  WER: 0.1067, CER: 0.1471\n",
      "  Disease Acc: 1.0000\n",
      "  Precision: 1.0000, Recall: 1.0000, F1: 1.0000\n",
      "==================================================\n",
      "\n",
      "=== METRICS DEBUG (Using EOT: 50256) ===\n",
      "Processing 8 samples...\n",
      "Sample 0:\n",
      "  Pred: 'it also provides for funds to clear slums and help...'\n",
      "  Ref:  'it also provides for funds to clear slums and help...'\n",
      "Sample 1:\n",
      "  Pred: 'accessedthere is definitely some ligament damage i...'\n",
      "  Ref:  'there is definitely some ligament damage in his kn...'\n",
      "Sample 2:\n",
      "  Pred: 'un unoccupied roadway the bottle shattered into a ...'\n",
      "  Ref:  'on unoccupied roadway the bottle shattered into a ...'\n",
      "\n",
      "Metrics computed (using proper Whisper tokens):\n",
      "  WER: 0.1067, CER: 0.1370\n",
      "  Disease Acc: 1.0000\n",
      "  Precision: 1.0000, Recall: 1.0000, F1: 1.0000\n",
      "==================================================\n"
     ]
    },
    {
     "name": "stderr",
     "output_type": "stream",
     "text": [
      "Evaluating: 100%|██████████| 27/27 [00:13<00:00,  1.98it/s]\n"
     ]
    },
    {
     "name": "stdout",
     "output_type": "stream",
     "text": [
      "\n",
      "======================================================================\n",
      "📝 VALIDATION - TEXT EXAMPLES:\n",
      "======================================================================\n",
      "\n",
      "Example 1:\n",
      "  Reference: 'he slowly takes a short walk in the open air each day.'\n",
      "  Predicted: 'accessedhe slowly takes a short walk in the open air each day.'\n",
      "  Disease: Normal → Normal ✓\n",
      "\n",
      "Example 2:\n",
      "  Reference: 'this is not a program of socialized medicine'\n",
      "  Predicted: 'accessedthis is not a program of socialized medicine'\n",
      "  Disease: Normal → Normal ✓\n",
      "\n",
      "Example 3:\n",
      "  Reference: 'the blue spot is on the key again.'\n",
      "  Predicted: 'accessedthe view spot is on the key again.'\n",
      "  Disease: Normal → Normal ✓\n",
      "\n",
      "Example 4:\n",
      "  Reference: 'they used an aggressive policeman to flag thoughtless motorists'\n",
      "  Predicted: 'accessedthe used an aggressive policeman to flag thoughtless motorists'\n",
      "  Disease: Normal → Normal ✓\n",
      "\n",
      "Example 5:\n",
      "  Reference: 'when you are through write a clean report.'\n",
      "  Predicted: 'accessedwhen you are through write a clean report.'\n",
      "  Disease: Normal → Normal ✓\n",
      "======================================================================\n",
      "\n",
      "📊 VALIDATION METRICS:\n",
      "   Loss: 0.1925\n",
      "   Disease - Acc: 0.9954, F1: 0.9975\n",
      "   Disease - Prec: 1.0000, Rec: 0.9954\n",
      "   Speech  - WER: 0.1637, CER: 0.1708\n",
      "✅ Best model saved: ../checkpoints_exp/checkpoints_base.en_encoder_learning/best_multitask_model_base.en.pt\n",
      "\n",
      "==================================================\n",
      "EPOCH 5/50\n",
      "==================================================\n"
     ]
    },
    {
     "name": "stderr",
     "output_type": "stream",
     "text": [
      "Training Epoch 5:   0%|          | 0/109 [00:00<?, ?it/s]"
     ]
    },
    {
     "name": "stdout",
     "output_type": "stream",
     "text": [
      "\n",
      "=== METRICS DEBUG (Using EOT: 50256) ===\n",
      "Processing 16 samples...\n"
     ]
    },
    {
     "name": "stderr",
     "output_type": "stream",
     "text": [
      "Training Epoch 5:   1%|          | 1/109 [00:03<05:49,  3.24s/it]"
     ]
    },
    {
     "name": "stdout",
     "output_type": "stream",
     "text": [
      "Sample 0:\n",
      "  Pred: 'the revised procedure was acclaimed as a long over...'\n",
      "  Ref:  'the revised procedure was acclaimed as a long over...'\n",
      "Sample 1:\n",
      "  Pred: 'speculatedit also provides for funds to clear slum...'\n",
      "  Ref:  'it also provides for funds to clear slums and help...'\n",
      "Sample 2:\n",
      "  Pred: 'the water contained too much chlorine and stung hi...'\n",
      "  Ref:  'the water contained too much chlorine and stung hi...'\n",
      "\n",
      "Metrics computed (using proper Whisper tokens):\n",
      "  WER: 0.0723, CER: 0.0996\n",
      "  Disease Acc: 1.0000\n",
      "  Precision: 1.0000, Recall: 1.0000, F1: 1.0000\n",
      "==================================================\n",
      "\n",
      "=== METRICS DEBUG (Using EOT: 50256) ===\n",
      "Processing 16 samples...\n"
     ]
    },
    {
     "name": "stderr",
     "output_type": "stream",
     "text": [
      "Training Epoch 5:   2%|▏         | 2/109 [00:03<02:39,  1.49s/it]"
     ]
    },
    {
     "name": "stdout",
     "output_type": "stream",
     "text": [
      "Sample 0:\n",
      "  Pred: 'shell shock caused by shrapnel is sometimes cured ...'\n",
      "  Ref:  'shell shock caused by shrapnel is sometimes cured ...'\n",
      "Sample 1:\n",
      "  Pred: 'accessedmost precincts had a third of the votes co...'\n",
      "  Ref:  'most precincts had a third of the votes counted...'\n",
      "Sample 2:\n",
      "  Pred: 'customaryb sunshine trimmers on the o....'\n",
      "  Ref:  'bright sunshine shimmers on the ocean....'\n",
      "\n",
      "Metrics computed (using proper Whisper tokens):\n",
      "  WER: 0.0813, CER: 0.0859\n",
      "  Disease Acc: 1.0000\n",
      "  Precision: 1.0000, Recall: 1.0000, F1: 1.0000\n",
      "==================================================\n"
     ]
    },
    {
     "name": "stderr",
     "output_type": "stream",
     "text": [
      "Training Epoch 5: 100%|██████████| 109/109 [01:27<00:00,  1.24it/s]\n"
     ]
    },
    {
     "name": "stdout",
     "output_type": "stream",
     "text": [
      "\n",
      "======================================================================\n",
      "📝 TRAINING EPOCH 5 - TEXT EXAMPLES:\n",
      "======================================================================\n",
      "\n",
      "Example 1:\n",
      "  Reference: 'the revised procedure was acclaimed as a long overdue reform'\n",
      "  Predicted: 'the revised procedure was acclaimed as a long overdue reform'\n",
      "  Disease: Dysarthria → Dysarthria ✓\n",
      "\n",
      "Example 2:\n",
      "  Reference: 'it also provides for funds to clear slums and help colleges build dormitories.'\n",
      "  Predicted: 'speculatedit also provides for funds to clear slums and help colleges build dorm...'\n",
      "  Disease: Dysphonia → Dysphonia ✓\n",
      "\n",
      "Example 3:\n",
      "  Reference: 'the water contained too much chlorine and stung his eyes'\n",
      "  Predicted: 'the water contained too much chlorine and stung his eyes'\n",
      "  Disease: Dysarthria → Dysarthria ✓\n",
      "\n",
      "Example 4:\n",
      "  Reference: 'if you destroy confidence in banks you do something to the economy he said.'\n",
      "  Predicted: 'customaryif you destroy confidence in banks you do something to the economy he s...'\n",
      "  Disease: Dysphonia → Dysphonia ✓\n",
      "\n",
      "Example 5:\n",
      "  Reference: 'clapping spurs to the bronc he set off at a sharp canter with growing alarm'\n",
      "  Predicted: 'clapping spurs to the bronc he set off at a sharp canter with growing alarm'\n",
      "  Disease: Normal → Normal ✓\n",
      "======================================================================\n",
      "\n",
      "📈 TRAINING METRICS:\n",
      "   Loss: 0.1093 (Cls: 0.0194, Trans: 0.4790)\n",
      "   Disease - Acc: 0.9966, F1: 0.9967\n",
      "   Disease - Prec: 0.9974, Rec: 0.9966\n",
      "   Speech  - WER: 0.0456, CER: 0.0405\n",
      "   Weights - α: 0.1957, β: 0.8043\n"
     ]
    },
    {
     "name": "stderr",
     "output_type": "stream",
     "text": [
      "Evaluating:   4%|▎         | 1/27 [00:00<00:21,  1.20it/s]"
     ]
    },
    {
     "name": "stdout",
     "output_type": "stream",
     "text": [
      "\n",
      "=== METRICS DEBUG (Using EOT: 50256) ===\n",
      "Processing 8 samples...\n",
      "Sample 0:\n",
      "  Pred: 'he slowly takes a short walk in the open air each ...'\n",
      "  Ref:  'he slowly takes a short walk in the open air each ...'\n",
      "Sample 1:\n",
      "  Pred: 'this is not a program of socialized medicine...'\n",
      "  Ref:  'this is not a program of socialized medicine...'\n",
      "Sample 2:\n",
      "  Pred: 'the beauty spot is on the key again....'\n",
      "  Ref:  'the blue spot is on the key again....'\n",
      "\n",
      "Metrics computed (using proper Whisper tokens):\n",
      "  WER: 0.0133, CER: 0.0098\n",
      "  Disease Acc: 1.0000\n",
      "  Precision: 1.0000, Recall: 1.0000, F1: 1.0000\n",
      "==================================================\n",
      "\n",
      "=== METRICS DEBUG (Using EOT: 50256) ===\n",
      "Processing 8 samples...\n",
      "Sample 0:\n",
      "  Pred: 'it also provides for funds to clear slums and help...'\n",
      "  Ref:  'it also provides for funds to clear slums and help...'\n",
      "Sample 1:\n",
      "  Pred: 'there is definitely some ligament damage in his kn...'\n",
      "  Ref:  'there is definitely some ligament damage in his kn...'\n",
      "Sample 2:\n",
      "  Pred: 'un occupiedoccupied roadway the bottle shattered i...'\n",
      "  Ref:  'on unoccupied roadway the bottle shattered into a ...'\n",
      "\n",
      "Metrics computed (using proper Whisper tokens):\n",
      "  WER: 0.0667, CER: 0.0361\n",
      "  Disease Acc: 0.8750\n",
      "  Precision: 1.0000, Recall: 0.8750, F1: 0.9333\n",
      "==================================================\n"
     ]
    },
    {
     "name": "stderr",
     "output_type": "stream",
     "text": [
      "Evaluating: 100%|██████████| 27/27 [00:10<00:00,  2.55it/s]\n"
     ]
    },
    {
     "name": "stdout",
     "output_type": "stream",
     "text": [
      "\n",
      "======================================================================\n",
      "📝 VALIDATION - TEXT EXAMPLES:\n",
      "======================================================================\n",
      "\n",
      "Example 1:\n",
      "  Reference: 'he slowly takes a short walk in the open air each day.'\n",
      "  Predicted: 'he slowly takes a short walk in the open air each day.'\n",
      "  Disease: Normal → Normal ✓\n",
      "\n",
      "Example 2:\n",
      "  Reference: 'this is not a program of socialized medicine'\n",
      "  Predicted: 'this is not a program of socialized medicine'\n",
      "  Disease: Normal → Normal ✓\n",
      "\n",
      "Example 3:\n",
      "  Reference: 'the blue spot is on the key again.'\n",
      "  Predicted: 'the beauty spot is on the key again.'\n",
      "  Disease: Normal → Normal ✓\n",
      "\n",
      "Example 4:\n",
      "  Reference: 'they used an aggressive policeman to flag thoughtless motorists'\n",
      "  Predicted: 'they used an aggressive policeman to flag thoughtless motorists'\n",
      "  Disease: Normal → Normal ✓\n",
      "\n",
      "Example 5:\n",
      "  Reference: 'when you are through write a clean report.'\n",
      "  Predicted: 'when you are through write a clean report.'\n",
      "  Disease: Normal → Normal ✓\n",
      "======================================================================\n",
      "\n",
      "📊 VALIDATION METRICS:\n",
      "   Loss: 0.1525\n",
      "   Disease - Acc: 0.9907, F1: 0.9951\n",
      "   Disease - Prec: 1.0000, Rec: 0.9907\n",
      "   Speech  - WER: 0.1036, CER: 0.0724\n",
      "✅ Best model saved: ../checkpoints_exp/checkpoints_base.en_encoder_learning/best_multitask_model_base.en.pt\n",
      "\n",
      "==================================================\n",
      "EPOCH 6/50\n",
      "==================================================\n"
     ]
    },
    {
     "name": "stderr",
     "output_type": "stream",
     "text": [
      "Training Epoch 6:   0%|          | 0/109 [00:00<?, ?it/s]"
     ]
    },
    {
     "name": "stdout",
     "output_type": "stream",
     "text": [
      "\n",
      "=== METRICS DEBUG (Using EOT: 50256) ===\n",
      "Processing 16 samples...\n"
     ]
    },
    {
     "name": "stderr",
     "output_type": "stream",
     "text": [
      "Training Epoch 6:   1%|          | 1/109 [00:02<03:40,  2.04s/it]"
     ]
    },
    {
     "name": "stdout",
     "output_type": "stream",
     "text": [
      "Sample 0:\n",
      "  Pred: 'most precincts had a third of the votes counted...'\n",
      "  Ref:  'most precincts had a third of the votes counted...'\n",
      "Sample 1:\n",
      "  Pred: 'when he speaks his voice is just a bit cracked and...'\n",
      "  Ref:  'when he speaks his voice is just a bit cracked and...'\n",
      "Sample 2:\n",
      "  Pred: 'like enough we'll all be up on top by sundown...'\n",
      "  Ref:  'like enough we'll all be up on top by sundown...'\n",
      "\n",
      "Metrics computed (using proper Whisper tokens):\n",
      "  WER: 0.0345, CER: 0.0169\n",
      "  Disease Acc: 1.0000\n",
      "  Precision: 1.0000, Recall: 1.0000, F1: 1.0000\n",
      "==================================================\n",
      "\n",
      "=== METRICS DEBUG (Using EOT: 50256) ===\n",
      "Processing 16 samples...\n"
     ]
    },
    {
     "name": "stderr",
     "output_type": "stream",
     "text": [
      "Training Epoch 6:   2%|▏         | 2/109 [00:02<01:54,  1.07s/it]"
     ]
    },
    {
     "name": "stdout",
     "output_type": "stream",
     "text": [
      "Sample 0:\n",
      "  Pred: 'he took his mask from his forehead and threw it un...'\n",
      "  Ref:  'he took his mask from his forehead and threw it un...'\n",
      "Sample 1:\n",
      "  Pred: 'she doesn't like to have it hanging around....'\n",
      "  Ref:  'she doesn't like to have it hanging around....'\n",
      "Sample 2:\n",
      "  Pred: 'this he added brought about petty jealousies and p...'\n",
      "  Ref:  'this he added brought about petty jealousies and p...'\n",
      "\n",
      "Metrics computed (using proper Whisper tokens):\n",
      "  WER: 0.0000, CER: 0.0000\n",
      "  Disease Acc: 1.0000\n",
      "  Precision: 1.0000, Recall: 1.0000, F1: 1.0000\n",
      "==================================================\n"
     ]
    },
    {
     "name": "stderr",
     "output_type": "stream",
     "text": [
      "Training Epoch 6: 100%|██████████| 109/109 [01:24<00:00,  1.29it/s]\n"
     ]
    },
    {
     "name": "stdout",
     "output_type": "stream",
     "text": [
      "\n",
      "======================================================================\n",
      "📝 TRAINING EPOCH 6 - TEXT EXAMPLES:\n",
      "======================================================================\n",
      "\n",
      "Example 1:\n",
      "  Reference: 'most precincts had a third of the votes counted'\n",
      "  Predicted: 'most precincts had a third of the votes counted'\n",
      "  Disease: Normal → Normal ✓\n",
      "\n",
      "Example 2:\n",
      "  Reference: 'when he speaks his voice is just a bit cracked and quivers a trifle.'\n",
      "  Predicted: 'when he speaks his voice is just a bit cracked and quivers a trifle.'\n",
      "  Disease: Normal → Normal ✓\n",
      "\n",
      "Example 3:\n",
      "  Reference: 'like enough we'll all be up on top by sundown'\n",
      "  Predicted: 'like enough we'll all be up on top by sundown'\n",
      "  Disease: Normal → Normal ✓\n",
      "\n",
      "Example 4:\n",
      "  Reference: 'i just try to do my best.'\n",
      "  Predicted: 'i just try to do my best.'\n",
      "  Disease: Dysphonia → Dysphonia ✓\n",
      "\n",
      "Example 5:\n",
      "  Reference: 'yet he still thinks as swiftly as ever.'\n",
      "  Predicted: 'yet he still thinks as swiftly as ever.'\n",
      "  Disease: Dysphonia → Dysphonia ✓\n",
      "======================================================================\n",
      "\n",
      "📈 TRAINING METRICS:\n",
      "   Loss: 0.0733 (Cls: 0.0119, Trans: 0.3259)\n",
      "   Disease - Acc: 0.9977, F1: 0.9977\n",
      "   Disease - Prec: 0.9982, Rec: 0.9977\n",
      "   Speech  - WER: 0.0196, CER: 0.0135\n",
      "   Weights - α: 0.1957, β: 0.8043\n"
     ]
    },
    {
     "name": "stderr",
     "output_type": "stream",
     "text": [
      "Evaluating:   7%|▋         | 2/27 [00:00<00:10,  2.50it/s]"
     ]
    },
    {
     "name": "stdout",
     "output_type": "stream",
     "text": [
      "\n",
      "=== METRICS DEBUG (Using EOT: 50256) ===\n",
      "Processing 8 samples...\n",
      "Sample 0:\n",
      "  Pred: 'he slowly takes a short walk in the open air each ...'\n",
      "  Ref:  'he slowly takes a short walk in the open air each ...'\n",
      "Sample 1:\n",
      "  Pred: 'this is not a program of socialized medicine...'\n",
      "  Ref:  'this is not a program of socialized medicine...'\n",
      "Sample 2:\n",
      "  Pred: 'the beauty spot is on the key again....'\n",
      "  Ref:  'the blue spot is on the key again....'\n",
      "\n",
      "Metrics computed (using proper Whisper tokens):\n",
      "  WER: 0.0133, CER: 0.0098\n",
      "  Disease Acc: 1.0000\n",
      "  Precision: 1.0000, Recall: 1.0000, F1: 1.0000\n",
      "==================================================\n",
      "\n",
      "=== METRICS DEBUG (Using EOT: 50256) ===\n",
      "Processing 8 samples...\n",
      "Sample 0:\n",
      "  Pred: 'it also provides for funds to clear slums and help...'\n",
      "  Ref:  'it also provides for funds to clear slums and help...'\n",
      "Sample 1:\n",
      "  Pred: 'there is definitely some ligament damage in his kn...'\n",
      "  Ref:  'there is definitely some ligament damage in his kn...'\n",
      "Sample 2:\n",
      "  Pred: 'un unoccupied roadway the bottle shattered into a ...'\n",
      "  Ref:  'on unoccupied roadway the bottle shattered into a ...'\n",
      "\n",
      "Metrics computed (using proper Whisper tokens):\n",
      "  WER: 0.0533, CER: 0.0192\n",
      "  Disease Acc: 1.0000\n",
      "  Precision: 1.0000, Recall: 1.0000, F1: 1.0000\n",
      "==================================================\n"
     ]
    },
    {
     "name": "stderr",
     "output_type": "stream",
     "text": [
      "Evaluating: 100%|██████████| 27/27 [00:10<00:00,  2.53it/s]\n"
     ]
    },
    {
     "name": "stdout",
     "output_type": "stream",
     "text": [
      "\n",
      "======================================================================\n",
      "📝 VALIDATION - TEXT EXAMPLES:\n",
      "======================================================================\n",
      "\n",
      "Example 1:\n",
      "  Reference: 'he slowly takes a short walk in the open air each day.'\n",
      "  Predicted: 'he slowly takes a short walk in the open air each day.'\n",
      "  Disease: Normal → Normal ✓\n",
      "\n",
      "Example 2:\n",
      "  Reference: 'this is not a program of socialized medicine'\n",
      "  Predicted: 'this is not a program of socialized medicine'\n",
      "  Disease: Normal → Normal ✓\n",
      "\n",
      "Example 3:\n",
      "  Reference: 'the blue spot is on the key again.'\n",
      "  Predicted: 'the beauty spot is on the key again.'\n",
      "  Disease: Normal → Normal ✓\n",
      "\n",
      "Example 4:\n",
      "  Reference: 'they used an aggressive policeman to flag thoughtless motorists'\n",
      "  Predicted: 'they used an aggressive policeman to flag thoughtless motorists'\n",
      "  Disease: Normal → Normal ✓\n",
      "\n",
      "Example 5:\n",
      "  Reference: 'when you are through write a clean report.'\n",
      "  Predicted: 'when you are through write a clean report.'\n",
      "  Disease: Normal → Normal ✓\n",
      "======================================================================\n",
      "\n",
      "📊 VALIDATION METRICS:\n",
      "   Loss: 0.1156\n",
      "   Disease - Acc: 1.0000, F1: 1.0000\n",
      "   Disease - Prec: 1.0000, Rec: 1.0000\n",
      "   Speech  - WER: 0.0938, CER: 0.0659\n",
      "✅ Best model saved: ../checkpoints_exp/checkpoints_base.en_encoder_learning/best_multitask_model_base.en.pt\n",
      "\n",
      "==================================================\n",
      "EPOCH 7/50\n",
      "==================================================\n"
     ]
    },
    {
     "name": "stderr",
     "output_type": "stream",
     "text": [
      "Training Epoch 7:   0%|          | 0/109 [00:00<?, ?it/s]"
     ]
    },
    {
     "name": "stdout",
     "output_type": "stream",
     "text": [
      "\n",
      "=== METRICS DEBUG (Using EOT: 50256) ===\n",
      "Processing 16 samples...\n"
     ]
    },
    {
     "name": "stderr",
     "output_type": "stream",
     "text": [
      "Training Epoch 7:   1%|          | 1/109 [00:02<03:59,  2.22s/it]"
     ]
    },
    {
     "name": "stdout",
     "output_type": "stream",
     "text": [
      "Sample 0:\n",
      "  Pred: 'alimony harms a divorced man's wealth....'\n",
      "  Ref:  'alimony harms a divorced man's wealth....'\n",
      "Sample 1:\n",
      "  Pred: 'if any of us miss they can pick up the pieces...'\n",
      "  Ref:  'if any of us miss they can pick up the pieces...'\n",
      "Sample 2:\n",
      "  Pred: 'you wished to know all about my grandfather....'\n",
      "  Ref:  'you wished to know all about my grandfather....'\n",
      "\n",
      "Metrics computed (using proper Whisper tokens):\n",
      "  WER: 0.0130, CER: 0.0068\n",
      "  Disease Acc: 1.0000\n",
      "  Precision: 1.0000, Recall: 1.0000, F1: 1.0000\n",
      "==================================================\n",
      "\n",
      "=== METRICS DEBUG (Using EOT: 50256) ===\n",
      "Processing 16 samples...\n"
     ]
    },
    {
     "name": "stderr",
     "output_type": "stream",
     "text": [
      "Training Epoch 7:   2%|▏         | 2/109 [00:02<01:54,  1.07s/it]"
     ]
    },
    {
     "name": "stdout",
     "output_type": "stream",
     "text": [
      "Sample 0:\n",
      "  Pred: 'if any of us miss they can pick up the pieces...'\n",
      "  Ref:  'if any of us miss they can pick up the pieces...'\n",
      "Sample 1:\n",
      "  Pred: 'his election on the other hand would unquestionabl...'\n",
      "  Ref:  'his election on the other hand would unquestionabl...'\n",
      "Sample 2:\n",
      "  Pred: 'yet he still thinks as swiftly as ever....'\n",
      "  Ref:  'yet he still thinks as swiftly as ever....'\n",
      "\n",
      "Metrics computed (using proper Whisper tokens):\n",
      "  WER: 0.0059, CER: 0.0011\n",
      "  Disease Acc: 1.0000\n",
      "  Precision: 1.0000, Recall: 1.0000, F1: 1.0000\n",
      "==================================================\n"
     ]
    },
    {
     "name": "stderr",
     "output_type": "stream",
     "text": [
      "Training Epoch 7: 100%|██████████| 109/109 [01:25<00:00,  1.28it/s]\n"
     ]
    },
    {
     "name": "stdout",
     "output_type": "stream",
     "text": [
      "\n",
      "======================================================================\n",
      "📝 TRAINING EPOCH 7 - TEXT EXAMPLES:\n",
      "======================================================================\n",
      "\n",
      "Example 1:\n",
      "  Reference: 'alimony harms a divorced man's wealth.'\n",
      "  Predicted: 'alimony harms a divorced man's wealth.'\n",
      "  Disease: Dysphonia → Dysphonia ✓\n",
      "\n",
      "Example 2:\n",
      "  Reference: 'if any of us miss they can pick up the pieces'\n",
      "  Predicted: 'if any of us miss they can pick up the pieces'\n",
      "  Disease: Normal → Normal ✓\n",
      "\n",
      "Example 3:\n",
      "  Reference: 'you wished to know all about my grandfather.'\n",
      "  Predicted: 'you wished to know all about my grandfather.'\n",
      "  Disease: Dysphonia → Dysphonia ✓\n",
      "\n",
      "Example 4:\n",
      "  Reference: 'if you destroy confidence in banks you do something to the economy he said.'\n",
      "  Predicted: 'if you destroy confidence in banks you do something to the economy he said.'\n",
      "  Disease: Dysphonia → Dysphonia ✓\n",
      "\n",
      "Example 5:\n",
      "  Reference: 'except in the winter when the ooze or snow or ice prevents'\n",
      "  Predicted: 'except in the winter when the ooze or snow or ice prevents'\n",
      "  Disease: Normal → Normal ✓\n",
      "======================================================================\n",
      "\n",
      "📈 TRAINING METRICS:\n",
      "   Loss: 0.0526 (Cls: 0.0104, Trans: 0.2259)\n",
      "   Disease - Acc: 0.9983, F1: 0.9983\n",
      "   Disease - Prec: 0.9987, Rec: 0.9983\n",
      "   Speech  - WER: 0.0107, CER: 0.0073\n",
      "   Weights - α: 0.1957, β: 0.8043\n"
     ]
    },
    {
     "name": "stderr",
     "output_type": "stream",
     "text": [
      "Evaluating:   4%|▎         | 1/27 [00:01<00:27,  1.05s/it]"
     ]
    },
    {
     "name": "stdout",
     "output_type": "stream",
     "text": [
      "\n",
      "=== METRICS DEBUG (Using EOT: 50256) ===\n",
      "Processing 8 samples...\n",
      "Sample 0:\n",
      "  Pred: 'he slowly takes a short walk in the open air each ...'\n",
      "  Ref:  'he slowly takes a short walk in the open air each ...'\n",
      "Sample 1:\n",
      "  Pred: 'this is not a program of socialized medicine...'\n",
      "  Ref:  'this is not a program of socialized medicine...'\n",
      "Sample 2:\n",
      "  Pred: 'the view spot is on the key again....'\n",
      "  Ref:  'the blue spot is on the key again....'\n",
      "\n",
      "Metrics computed (using proper Whisper tokens):\n",
      "  WER: 0.0133, CER: 0.0098\n",
      "  Disease Acc: 1.0000\n",
      "  Precision: 1.0000, Recall: 1.0000, F1: 1.0000\n",
      "==================================================\n",
      "\n",
      "=== METRICS DEBUG (Using EOT: 50256) ===\n",
      "Processing 8 samples...\n",
      "Sample 0:\n",
      "  Pred: 'it also provides for funds to clear slums and help...'\n",
      "  Ref:  'it also provides for funds to clear slums and help...'\n",
      "Sample 1:\n",
      "  Pred: 'there is definitely some ligament damage in his kn...'\n",
      "  Ref:  'there is definitely some ligament damage in his kn...'\n",
      "Sample 2:\n",
      "  Pred: 'un unoccupied roadway the bottle shattered into a ...'\n",
      "  Ref:  'on unoccupied roadway the bottle shattered into a ...'\n",
      "\n",
      "Metrics computed (using proper Whisper tokens):\n",
      "  WER: 0.0267, CER: 0.0048\n",
      "  Disease Acc: 1.0000\n",
      "  Precision: 1.0000, Recall: 1.0000, F1: 1.0000\n",
      "==================================================\n"
     ]
    },
    {
     "name": "stderr",
     "output_type": "stream",
     "text": [
      "Evaluating: 100%|██████████| 27/27 [00:11<00:00,  2.43it/s]\n"
     ]
    },
    {
     "name": "stdout",
     "output_type": "stream",
     "text": [
      "\n",
      "======================================================================\n",
      "📝 VALIDATION - TEXT EXAMPLES:\n",
      "======================================================================\n",
      "\n",
      "Example 1:\n",
      "  Reference: 'he slowly takes a short walk in the open air each day.'\n",
      "  Predicted: 'he slowly takes a short walk in the open air each day.'\n",
      "  Disease: Normal → Normal ✓\n",
      "\n",
      "Example 2:\n",
      "  Reference: 'this is not a program of socialized medicine'\n",
      "  Predicted: 'this is not a program of socialized medicine'\n",
      "  Disease: Normal → Normal ✓\n",
      "\n",
      "Example 3:\n",
      "  Reference: 'the blue spot is on the key again.'\n",
      "  Predicted: 'the view spot is on the key again.'\n",
      "  Disease: Normal → Normal ✓\n",
      "\n",
      "Example 4:\n",
      "  Reference: 'they used an aggressive policeman to flag thoughtless motorists'\n",
      "  Predicted: 'they used an aggressive policeman to flag thoughtless motorists'\n",
      "  Disease: Normal → Normal ✓\n",
      "\n",
      "Example 5:\n",
      "  Reference: 'when you are through write a clean report.'\n",
      "  Predicted: 'when you are through write a clean report.'\n",
      "  Disease: Normal → Normal ✓\n",
      "======================================================================\n",
      "\n",
      "📊 VALIDATION METRICS:\n",
      "   Loss: 0.1135\n",
      "   Disease - Acc: 0.9907, F1: 0.9951\n",
      "   Disease - Prec: 1.0000, Rec: 0.9907\n",
      "   Speech  - WER: 0.0927, CER: 0.0648\n",
      "✅ Best model saved: ../checkpoints_exp/checkpoints_base.en_encoder_learning/best_multitask_model_base.en.pt\n",
      "\n",
      "==================================================\n",
      "EPOCH 8/50\n",
      "==================================================\n"
     ]
    },
    {
     "name": "stderr",
     "output_type": "stream",
     "text": [
      "Training Epoch 8:   0%|          | 0/109 [00:00<?, ?it/s]"
     ]
    },
    {
     "name": "stdout",
     "output_type": "stream",
     "text": [
      "\n",
      "=== METRICS DEBUG (Using EOT: 50256) ===\n",
      "Processing 16 samples...\n"
     ]
    },
    {
     "name": "stderr",
     "output_type": "stream",
     "text": [
      "Training Epoch 8:   1%|          | 1/109 [00:02<03:40,  2.04s/it]"
     ]
    },
    {
     "name": "stdout",
     "output_type": "stream",
     "text": [
      "Sample 0:\n",
      "  Pred: 'a moth zig zagged along the path through otto's ga...'\n",
      "  Ref:  'a moth zig zagged along the path through otto's ga...'\n",
      "Sample 1:\n",
      "  Pred: 'the islands are sparsely populated....'\n",
      "  Ref:  'the islands are sparsely populated....'\n",
      "Sample 2:\n",
      "  Pred: 'the legislature met to judge the state of public e...'\n",
      "  Ref:  'the legislature met to judge the state of public e...'\n",
      "\n",
      "Metrics computed (using proper Whisper tokens):\n",
      "  WER: 0.0072, CER: 0.0039\n",
      "  Disease Acc: 1.0000\n",
      "  Precision: 1.0000, Recall: 1.0000, F1: 1.0000\n",
      "==================================================\n",
      "\n",
      "=== METRICS DEBUG (Using EOT: 50256) ===\n",
      "Processing 16 samples...\n"
     ]
    },
    {
     "name": "stderr",
     "output_type": "stream",
     "text": [
      "Training Epoch 8:   2%|▏         | 2/109 [00:02<01:49,  1.02s/it]"
     ]
    },
    {
     "name": "stdout",
     "output_type": "stream",
     "text": [
      "Sample 0:\n",
      "  Pred: 'the revised procedure was acclaimed as a long over...'\n",
      "  Ref:  'the revised procedure was acclaimed as a long over...'\n",
      "Sample 1:\n",
      "  Pred: 'the diagnosis was discouraging however he was not ...'\n",
      "  Ref:  'the diagnosis was discouraging however he was not ...'\n",
      "Sample 2:\n",
      "  Pred: 'high so it only bounce harmlessly but loudly off a...'\n",
      "  Ref:  'high so it only bounce harmlessly but loudly off a...'\n",
      "\n",
      "Metrics computed (using proper Whisper tokens):\n",
      "  WER: 0.0000, CER: 0.0000\n",
      "  Disease Acc: 1.0000\n",
      "  Precision: 1.0000, Recall: 1.0000, F1: 1.0000\n",
      "==================================================\n"
     ]
    },
    {
     "name": "stderr",
     "output_type": "stream",
     "text": [
      "Training Epoch 8: 100%|██████████| 109/109 [01:25<00:00,  1.27it/s]\n"
     ]
    },
    {
     "name": "stdout",
     "output_type": "stream",
     "text": [
      "\n",
      "======================================================================\n",
      "📝 TRAINING EPOCH 8 - TEXT EXAMPLES:\n",
      "======================================================================\n",
      "\n",
      "Example 1:\n",
      "  Reference: 'a moth zig zagged along the path through otto's garden'\n",
      "  Predicted: 'a moth zig zagged along the path through otto's garden'\n",
      "  Disease: Normal → Normal ✓\n",
      "\n",
      "Example 2:\n",
      "  Reference: 'the islands are sparsely populated.'\n",
      "  Predicted: 'the islands are sparsely populated.'\n",
      "  Disease: Dysphonia → Dysphonia ✓\n",
      "\n",
      "Example 3:\n",
      "  Reference: 'the legislature met to judge the state of public education.'\n",
      "  Predicted: 'the legislature met to judge the state of public education.'\n",
      "  Disease: Normal → Normal ✓\n",
      "\n",
      "Example 4:\n",
      "  Reference: 'a moth zig zagged along the path through otto's garden'\n",
      "  Predicted: 'a moth zig zagged along the path through otto's garden'\n",
      "  Disease: Normal → Normal ✓\n",
      "\n",
      "Example 5:\n",
      "  Reference: 'a long flowing beard clings to his chin'\n",
      "  Predicted: 'a long flowing beard clings to his chin'\n",
      "  Disease: Dysphonia → Dysphonia ✓\n",
      "======================================================================\n",
      "\n",
      "📈 TRAINING METRICS:\n",
      "   Loss: 0.0356 (Cls: 0.0069, Trans: 0.1533)\n",
      "   Disease - Acc: 0.9983, F1: 0.9983\n",
      "   Disease - Prec: 0.9986, Rec: 0.9983\n",
      "   Speech  - WER: 0.0062, CER: 0.0041\n",
      "   Weights - α: 0.1957, β: 0.8043\n"
     ]
    },
    {
     "name": "stderr",
     "output_type": "stream",
     "text": [
      "Evaluating:   7%|▋         | 2/27 [00:01<00:10,  2.30it/s]"
     ]
    },
    {
     "name": "stdout",
     "output_type": "stream",
     "text": [
      "\n",
      "=== METRICS DEBUG (Using EOT: 50256) ===\n",
      "Processing 8 samples...\n",
      "Sample 0:\n",
      "  Pred: 'he slowly takes a short walk in the open air each ...'\n",
      "  Ref:  'he slowly takes a short walk in the open air each ...'\n",
      "Sample 1:\n",
      "  Pred: 'this is not a program of socialized medicine...'\n",
      "  Ref:  'this is not a program of socialized medicine...'\n",
      "Sample 2:\n",
      "  Pred: 'the view spot is on the key again....'\n",
      "  Ref:  'the blue spot is on the key again....'\n",
      "\n",
      "Metrics computed (using proper Whisper tokens):\n",
      "  WER: 0.0133, CER: 0.0098\n",
      "  Disease Acc: 1.0000\n",
      "  Precision: 1.0000, Recall: 1.0000, F1: 1.0000\n",
      "==================================================\n",
      "\n",
      "=== METRICS DEBUG (Using EOT: 50256) ===\n",
      "Processing 8 samples...\n",
      "Sample 0:\n",
      "  Pred: 'it also provides for funds to clear slums and help...'\n",
      "  Ref:  'it also provides for funds to clear slums and help...'\n",
      "Sample 1:\n",
      "  Pred: 'there is definitely some ligament damage in his kn...'\n",
      "  Ref:  'there is definitely some ligament damage in his kn...'\n",
      "Sample 2:\n",
      "  Pred: 'un unoccupied roadway the bottle shattered into a ...'\n",
      "  Ref:  'on unoccupied roadway the bottle shattered into a ...'\n",
      "\n",
      "Metrics computed (using proper Whisper tokens):\n",
      "  WER: 0.0400, CER: 0.0096\n",
      "  Disease Acc: 1.0000\n",
      "  Precision: 1.0000, Recall: 1.0000, F1: 1.0000\n",
      "==================================================\n"
     ]
    },
    {
     "name": "stderr",
     "output_type": "stream",
     "text": [
      "Evaluating: 100%|██████████| 27/27 [00:10<00:00,  2.53it/s]\n"
     ]
    },
    {
     "name": "stdout",
     "output_type": "stream",
     "text": [
      "\n",
      "======================================================================\n",
      "📝 VALIDATION - TEXT EXAMPLES:\n",
      "======================================================================\n",
      "\n",
      "Example 1:\n",
      "  Reference: 'he slowly takes a short walk in the open air each day.'\n",
      "  Predicted: 'he slowly takes a short walk in the open air each day.'\n",
      "  Disease: Normal → Normal ✓\n",
      "\n",
      "Example 2:\n",
      "  Reference: 'this is not a program of socialized medicine'\n",
      "  Predicted: 'this is not a program of socialized medicine'\n",
      "  Disease: Normal → Normal ✓\n",
      "\n",
      "Example 3:\n",
      "  Reference: 'the blue spot is on the key again.'\n",
      "  Predicted: 'the view spot is on the key again.'\n",
      "  Disease: Normal → Normal ✓\n",
      "\n",
      "Example 4:\n",
      "  Reference: 'they used an aggressive policeman to flag thoughtless motorists'\n",
      "  Predicted: 'they used an aggressive policeman to flag thoughtless motorists'\n",
      "  Disease: Normal → Normal ✓\n",
      "\n",
      "Example 5:\n",
      "  Reference: 'when you are through write a clean report.'\n",
      "  Predicted: 'when you are through write a clean report.'\n",
      "  Disease: Normal → Normal ✓\n",
      "======================================================================\n",
      "\n",
      "📊 VALIDATION METRICS:\n",
      "   Loss: 0.1159\n",
      "   Disease - Acc: 0.9907, F1: 0.9951\n",
      "   Disease - Prec: 1.0000, Rec: 0.9907\n",
      "   Speech  - WER: 0.0919, CER: 0.0641\n",
      "⏳ No improvement. Patience: 1/7\n",
      "\n",
      "==================================================\n",
      "EPOCH 9/50\n",
      "==================================================\n"
     ]
    },
    {
     "name": "stderr",
     "output_type": "stream",
     "text": [
      "Training Epoch 9:   0%|          | 0/109 [00:00<?, ?it/s]"
     ]
    },
    {
     "name": "stdout",
     "output_type": "stream",
     "text": [
      "\n",
      "=== METRICS DEBUG (Using EOT: 50256) ===\n",
      "Processing 16 samples...\n"
     ]
    },
    {
     "name": "stderr",
     "output_type": "stream",
     "text": [
      "Training Epoch 9:   1%|          | 1/109 [00:01<03:16,  1.82s/it]"
     ]
    },
    {
     "name": "stdout",
     "output_type": "stream",
     "text": [
      "Sample 0:\n",
      "  Pred: 'within a system however the autonomy of each membe...'\n",
      "  Ref:  'within a system however the autonomy of each membe...'\n",
      "Sample 1:\n",
      "  Pred: 'suburban housewives often suffer from the gab habi...'\n",
      "  Ref:  'suburban housewives often suffer from the gab habi...'\n",
      "Sample 2:\n",
      "  Pred: 'we bought a brown chair....'\n",
      "  Ref:  'we bought a brown chair....'\n",
      "\n",
      "Metrics computed (using proper Whisper tokens):\n",
      "  WER: 0.0000, CER: 0.0000\n",
      "  Disease Acc: 1.0000\n",
      "  Precision: 1.0000, Recall: 1.0000, F1: 1.0000\n",
      "==================================================\n",
      "\n",
      "=== METRICS DEBUG (Using EOT: 50256) ===\n",
      "Processing 16 samples...\n"
     ]
    },
    {
     "name": "stderr",
     "output_type": "stream",
     "text": [
      "Training Epoch 9:   2%|▏         | 2/109 [00:02<01:50,  1.04s/it]"
     ]
    },
    {
     "name": "stdout",
     "output_type": "stream",
     "text": [
      "Sample 0:\n",
      "  Pred: 'don't ask me to carry an oily rag like that...'\n",
      "  Ref:  'don't ask me to carry an oily rag like that...'\n",
      "Sample 1:\n",
      "  Pred: 'people who value themselves are life's winners....'\n",
      "  Ref:  'people who value themselves are life's winners....'\n",
      "Sample 2:\n",
      "  Pred: 'internal national responsibility now a truism need...'\n",
      "  Ref:  'internal national responsibility now a truism need...'\n",
      "\n",
      "Metrics computed (using proper Whisper tokens):\n",
      "  WER: 0.0000, CER: 0.0000\n",
      "  Disease Acc: 1.0000\n",
      "  Precision: 1.0000, Recall: 1.0000, F1: 1.0000\n",
      "==================================================\n"
     ]
    },
    {
     "name": "stderr",
     "output_type": "stream",
     "text": [
      "Training Epoch 9: 100%|██████████| 109/109 [01:23<00:00,  1.30it/s]\n"
     ]
    },
    {
     "name": "stdout",
     "output_type": "stream",
     "text": [
      "\n",
      "======================================================================\n",
      "📝 TRAINING EPOCH 9 - TEXT EXAMPLES:\n",
      "======================================================================\n",
      "\n",
      "Example 1:\n",
      "  Reference: 'within a system however the autonomy of each member library is preserved'\n",
      "  Predicted: 'within a system however the autonomy of each member library is preserved'\n",
      "  Disease: Normal → Normal ✓\n",
      "\n",
      "Example 2:\n",
      "  Reference: 'suburban housewives often suffer from the gab habit'\n",
      "  Predicted: 'suburban housewives often suffer from the gab habit'\n",
      "  Disease: Normal → Normal ✓\n",
      "\n",
      "Example 3:\n",
      "  Reference: 'we bought a brown chair.'\n",
      "  Predicted: 'we bought a brown chair.'\n",
      "  Disease: Dysphonia → Dysphonia ✓\n",
      "\n",
      "Example 4:\n",
      "  Reference: 'the train approached the depot slowly.'\n",
      "  Predicted: 'the train approached the depot slowly.'\n",
      "  Disease: Dysphonia → Dysphonia ✓\n",
      "\n",
      "Example 5:\n",
      "  Reference: 'giving those who observe him a pronounced feeling of the utmost respect.'\n",
      "  Predicted: 'giving those who observe him a pronounced feeling of the utmost respect.'\n",
      "  Disease: Dysphonia → Dysphonia ✓\n",
      "======================================================================\n",
      "\n",
      "📈 TRAINING METRICS:\n",
      "   Loss: 0.0232 (Cls: 0.0030, Trans: 0.1062)\n",
      "   Disease - Acc: 1.0000, F1: 1.0000\n",
      "   Disease - Prec: 1.0000, Rec: 1.0000\n",
      "   Speech  - WER: 0.0043, CER: 0.0031\n",
      "   Weights - α: 0.1957, β: 0.8043\n"
     ]
    },
    {
     "name": "stderr",
     "output_type": "stream",
     "text": [
      "Evaluating:   4%|▎         | 1/27 [00:00<00:23,  1.11it/s]"
     ]
    },
    {
     "name": "stdout",
     "output_type": "stream",
     "text": [
      "\n",
      "=== METRICS DEBUG (Using EOT: 50256) ===\n",
      "Processing 8 samples...\n",
      "Sample 0:\n",
      "  Pred: 'he slowly takes a short walk in the open air each ...'\n",
      "  Ref:  'he slowly takes a short walk in the open air each ...'\n",
      "Sample 1:\n",
      "  Pred: 'this is not a program of socialized medicine...'\n",
      "  Ref:  'this is not a program of socialized medicine...'\n",
      "Sample 2:\n",
      "  Pred: 'the view spot is on the key again....'\n",
      "  Ref:  'the blue spot is on the key again....'\n",
      "\n",
      "Metrics computed (using proper Whisper tokens):\n",
      "  WER: 0.0133, CER: 0.0098\n",
      "  Disease Acc: 1.0000\n",
      "  Precision: 1.0000, Recall: 1.0000, F1: 1.0000\n",
      "==================================================\n"
     ]
    },
    {
     "name": "stderr",
     "output_type": "stream",
     "text": [
      "Evaluating:   7%|▋         | 2/27 [00:01<00:11,  2.15it/s]"
     ]
    },
    {
     "name": "stdout",
     "output_type": "stream",
     "text": [
      "\n",
      "=== METRICS DEBUG (Using EOT: 50256) ===\n",
      "Processing 8 samples...\n",
      "Sample 0:\n",
      "  Pred: 'it also provides for funds to clear slums and help...'\n",
      "  Ref:  'it also provides for funds to clear slums and help...'\n",
      "Sample 1:\n",
      "  Pred: 'there is definitely some ligament damage in his kn...'\n",
      "  Ref:  'there is definitely some ligament damage in his kn...'\n",
      "Sample 2:\n",
      "  Pred: 'un unoccupied roadway the bottle shattered into a ...'\n",
      "  Ref:  'on unoccupied roadway the bottle shattered into a ...'\n",
      "\n",
      "Metrics computed (using proper Whisper tokens):\n",
      "  WER: 0.0267, CER: 0.0048\n",
      "  Disease Acc: 1.0000\n",
      "  Precision: 1.0000, Recall: 1.0000, F1: 1.0000\n",
      "==================================================\n"
     ]
    },
    {
     "name": "stderr",
     "output_type": "stream",
     "text": [
      "Evaluating: 100%|██████████| 27/27 [00:10<00:00,  2.49it/s]\n"
     ]
    },
    {
     "name": "stdout",
     "output_type": "stream",
     "text": [
      "\n",
      "======================================================================\n",
      "📝 VALIDATION - TEXT EXAMPLES:\n",
      "======================================================================\n",
      "\n",
      "Example 1:\n",
      "  Reference: 'he slowly takes a short walk in the open air each day.'\n",
      "  Predicted: 'he slowly takes a short walk in the open air each day.'\n",
      "  Disease: Normal → Normal ✓\n",
      "\n",
      "Example 2:\n",
      "  Reference: 'this is not a program of socialized medicine'\n",
      "  Predicted: 'this is not a program of socialized medicine'\n",
      "  Disease: Normal → Normal ✓\n",
      "\n",
      "Example 3:\n",
      "  Reference: 'the blue spot is on the key again.'\n",
      "  Predicted: 'the view spot is on the key again.'\n",
      "  Disease: Normal → Normal ✓\n",
      "\n",
      "Example 4:\n",
      "  Reference: 'they used an aggressive policeman to flag thoughtless motorists'\n",
      "  Predicted: 'they used an aggressive policeman to flag thoughtless motorists'\n",
      "  Disease: Normal → Normal ✓\n",
      "\n",
      "Example 5:\n",
      "  Reference: 'when you are through write a clean report.'\n",
      "  Predicted: 'when you are through write a clean report.'\n",
      "  Disease: Normal → Normal ✓\n",
      "======================================================================\n",
      "\n",
      "📊 VALIDATION METRICS:\n",
      "   Loss: 0.0830\n",
      "   Disease - Acc: 0.9954, F1: 0.9975\n",
      "   Disease - Prec: 1.0000, Rec: 0.9954\n",
      "   Speech  - WER: 0.0869, CER: 0.0606\n",
      "✅ Best model saved: ../checkpoints_exp/checkpoints_base.en_encoder_learning/best_multitask_model_base.en.pt\n",
      "\n",
      "==================================================\n",
      "EPOCH 10/50\n",
      "==================================================\n"
     ]
    },
    {
     "name": "stderr",
     "output_type": "stream",
     "text": [
      "Training Epoch 10:   0%|          | 0/109 [00:00<?, ?it/s]"
     ]
    },
    {
     "name": "stdout",
     "output_type": "stream",
     "text": [
      "\n",
      "=== METRICS DEBUG (Using EOT: 50256) ===\n",
      "Processing 16 samples...\n"
     ]
    },
    {
     "name": "stderr",
     "output_type": "stream",
     "text": [
      "Training Epoch 10:   1%|          | 1/109 [00:02<03:54,  2.18s/it]"
     ]
    },
    {
     "name": "stdout",
     "output_type": "stream",
     "text": [
      "Sample 0:\n",
      "  Pred: 'don't ask me to carry an oily rag like that....'\n",
      "  Ref:  'don't ask me to carry an oily rag like that....'\n",
      "Sample 1:\n",
      "  Pred: 'palm oil protects the surfaces of steel sheets bef...'\n",
      "  Ref:  'palm oil protects the surfaces of steel sheets bef...'\n",
      "Sample 2:\n",
      "  Pred: 'i just try to do my best....'\n",
      "  Ref:  'i just try to do my best....'\n",
      "\n",
      "Metrics computed (using proper Whisper tokens):\n",
      "  WER: 0.0065, CER: 0.0012\n",
      "  Disease Acc: 1.0000\n",
      "  Precision: 1.0000, Recall: 1.0000, F1: 1.0000\n",
      "==================================================\n",
      "\n",
      "=== METRICS DEBUG (Using EOT: 50256) ===\n",
      "Processing 16 samples...\n"
     ]
    },
    {
     "name": "stderr",
     "output_type": "stream",
     "text": [
      "Training Epoch 10:   2%|▏         | 2/109 [00:02<01:54,  1.07s/it]"
     ]
    },
    {
     "name": "stdout",
     "output_type": "stream",
     "text": [
      "Sample 0:\n",
      "  Pred: 'when he speaks his voice is just a bit cracked and...'\n",
      "  Ref:  'when he speaks his voice is just a bit cracked and...'\n",
      "Sample 1:\n",
      "  Pred: 'yet he still thinks as swiftly as ever....'\n",
      "  Ref:  'yet he still thinks as swiftly as ever....'\n",
      "Sample 2:\n",
      "  Pred: 'she had your dark suit in greasy wash water all ye...'\n",
      "  Ref:  'she had your dark suit in greasy wash water all ye...'\n",
      "\n",
      "Metrics computed (using proper Whisper tokens):\n",
      "  WER: 0.0000, CER: 0.0000\n",
      "  Disease Acc: 1.0000\n",
      "  Precision: 1.0000, Recall: 1.0000, F1: 1.0000\n",
      "==================================================\n"
     ]
    },
    {
     "name": "stderr",
     "output_type": "stream",
     "text": [
      "Training Epoch 10: 100%|██████████| 109/109 [01:24<00:00,  1.29it/s]\n"
     ]
    },
    {
     "name": "stdout",
     "output_type": "stream",
     "text": [
      "\n",
      "======================================================================\n",
      "📝 TRAINING EPOCH 10 - TEXT EXAMPLES:\n",
      "======================================================================\n",
      "\n",
      "Example 1:\n",
      "  Reference: 'don't ask me to carry an oily rag like that.'\n",
      "  Predicted: 'don't ask me to carry an oily rag like that.'\n",
      "  Disease: Dysphonia → Dysphonia ✓\n",
      "\n",
      "Example 2:\n",
      "  Reference: 'palm oil protects the surfaces of steel sheets before they are plated with tin'\n",
      "  Predicted: 'palm oil protects the surfaces of steel sheets before they are plated with tin'\n",
      "  Disease: Dysarthria → Dysarthria ✓\n",
      "\n",
      "Example 3:\n",
      "  Reference: 'i just try to do my best.'\n",
      "  Predicted: 'i just try to do my best.'\n",
      "  Disease: Dysphonia → Dysphonia ✓\n",
      "\n",
      "Example 4:\n",
      "  Reference: 'it also provides for funds to clear slums and help colleges build dormitories'\n",
      "  Predicted: 'it also provides for funds to clear slums and help colleges build dormitories'\n",
      "  Disease: Dysarthria → Dysarthria ✓\n",
      "\n",
      "Example 5:\n",
      "  Reference: 'don't ask me to carry an oily rag like that.'\n",
      "  Predicted: 'don't ask me to carry an oily rag like that.'\n",
      "  Disease: Normal → Normal ✓\n",
      "======================================================================\n",
      "\n",
      "📈 TRAINING METRICS:\n",
      "   Loss: 0.0168 (Cls: 0.0023, Trans: 0.0765)\n",
      "   Disease - Acc: 1.0000, F1: 1.0000\n",
      "   Disease - Prec: 1.0000, Rec: 1.0000\n",
      "   Speech  - WER: 0.0029, CER: 0.0021\n",
      "   Weights - α: 0.1957, β: 0.8043\n"
     ]
    },
    {
     "name": "stderr",
     "output_type": "stream",
     "text": [
      "Evaluating:   4%|▎         | 1/27 [00:00<00:23,  1.10it/s]"
     ]
    },
    {
     "name": "stdout",
     "output_type": "stream",
     "text": [
      "\n",
      "=== METRICS DEBUG (Using EOT: 50256) ===\n",
      "Processing 8 samples...\n",
      "Sample 0:\n",
      "  Pred: 'he slowly takes a short walk in the open air each ...'\n",
      "  Ref:  'he slowly takes a short walk in the open air each ...'\n",
      "Sample 1:\n",
      "  Pred: 'this is not a program of socialized medicine...'\n",
      "  Ref:  'this is not a program of socialized medicine...'\n",
      "Sample 2:\n",
      "  Pred: 'the view spot is on the key again....'\n",
      "  Ref:  'the blue spot is on the key again....'\n",
      "\n",
      "Metrics computed (using proper Whisper tokens):\n",
      "  WER: 0.0133, CER: 0.0098\n",
      "  Disease Acc: 1.0000\n",
      "  Precision: 1.0000, Recall: 1.0000, F1: 1.0000\n",
      "==================================================\n"
     ]
    },
    {
     "name": "stderr",
     "output_type": "stream",
     "text": [
      "Evaluating:   7%|▋         | 2/27 [00:01<00:13,  1.92it/s]"
     ]
    },
    {
     "name": "stdout",
     "output_type": "stream",
     "text": [
      "\n",
      "=== METRICS DEBUG (Using EOT: 50256) ===\n",
      "Processing 8 samples...\n",
      "Sample 0:\n",
      "  Pred: 'it also provides for funds to clear slums and help...'\n",
      "  Ref:  'it also provides for funds to clear slums and help...'\n",
      "Sample 1:\n",
      "  Pred: 'there is definitely some ligament damage in his kn...'\n",
      "  Ref:  'there is definitely some ligament damage in his kn...'\n",
      "Sample 2:\n",
      "  Pred: 'un unoccupied roadway the bottle shattered into a ...'\n",
      "  Ref:  'on unoccupied roadway the bottle shattered into a ...'\n",
      "\n",
      "Metrics computed (using proper Whisper tokens):\n",
      "  WER: 0.0267, CER: 0.0048\n",
      "  Disease Acc: 1.0000\n",
      "  Precision: 1.0000, Recall: 1.0000, F1: 1.0000\n",
      "==================================================\n"
     ]
    },
    {
     "name": "stderr",
     "output_type": "stream",
     "text": [
      "Evaluating: 100%|██████████| 27/27 [00:10<00:00,  2.53it/s]\n"
     ]
    },
    {
     "name": "stdout",
     "output_type": "stream",
     "text": [
      "\n",
      "======================================================================\n",
      "📝 VALIDATION - TEXT EXAMPLES:\n",
      "======================================================================\n",
      "\n",
      "Example 1:\n",
      "  Reference: 'he slowly takes a short walk in the open air each day.'\n",
      "  Predicted: 'he slowly takes a short walk in the open air each day.'\n",
      "  Disease: Normal → Normal ✓\n",
      "\n",
      "Example 2:\n",
      "  Reference: 'this is not a program of socialized medicine'\n",
      "  Predicted: 'this is not a program of socialized medicine'\n",
      "  Disease: Normal → Normal ✓\n",
      "\n",
      "Example 3:\n",
      "  Reference: 'the blue spot is on the key again.'\n",
      "  Predicted: 'the view spot is on the key again.'\n",
      "  Disease: Normal → Normal ✓\n",
      "\n",
      "Example 4:\n",
      "  Reference: 'they used an aggressive policeman to flag thoughtless motorists'\n",
      "  Predicted: 'they used an aggressive policeman to flag thoughtless motorists'\n",
      "  Disease: Normal → Normal ✓\n",
      "\n",
      "Example 5:\n",
      "  Reference: 'when you are through write a clean report.'\n",
      "  Predicted: 'when you are through write a clean report.'\n",
      "  Disease: Normal → Normal ✓\n",
      "======================================================================\n",
      "\n",
      "📊 VALIDATION METRICS:\n",
      "   Loss: 0.0746\n",
      "   Disease - Acc: 1.0000, F1: 1.0000\n",
      "   Disease - Prec: 1.0000, Rec: 1.0000\n",
      "   Speech  - WER: 0.0848, CER: 0.0585\n",
      "✅ Best model saved: ../checkpoints_exp/checkpoints_base.en_encoder_learning/best_multitask_model_base.en.pt\n",
      "\n",
      "==================================================\n",
      "EPOCH 11/50\n",
      "==================================================\n"
     ]
    },
    {
     "name": "stderr",
     "output_type": "stream",
     "text": [
      "Training Epoch 11:   0%|          | 0/109 [00:00<?, ?it/s]"
     ]
    },
    {
     "name": "stdout",
     "output_type": "stream",
     "text": [
      "\n",
      "=== METRICS DEBUG (Using EOT: 50256) ===\n",
      "Processing 16 samples...\n"
     ]
    },
    {
     "name": "stderr",
     "output_type": "stream",
     "text": [
      "Training Epoch 11:   1%|          | 1/109 [00:02<03:48,  2.11s/it]"
     ]
    },
    {
     "name": "stdout",
     "output_type": "stream",
     "text": [
      "Sample 0:\n",
      "  Pred: 'when he speaks his voice is just a bit cracked and...'\n",
      "  Ref:  'when he speaks his voice is just a bit cracked and...'\n",
      "Sample 1:\n",
      "  Pred: 'day after day some new episode is reported....'\n",
      "  Ref:  'day after day some new episode is reported....'\n",
      "Sample 2:\n",
      "  Pred: 'high so it only bounce harmlessly but loudly off a...'\n",
      "  Ref:  'high so it only bounce harmlessly but loudly off a...'\n",
      "\n",
      "Metrics computed (using proper Whisper tokens):\n",
      "  WER: 0.0000, CER: 0.0000\n",
      "  Disease Acc: 1.0000\n",
      "  Precision: 1.0000, Recall: 1.0000, F1: 1.0000\n",
      "==================================================\n",
      "\n",
      "=== METRICS DEBUG (Using EOT: 50256) ===\n",
      "Processing 16 samples...\n"
     ]
    },
    {
     "name": "stderr",
     "output_type": "stream",
     "text": [
      "Training Epoch 11:   2%|▏         | 2/109 [00:02<01:55,  1.08s/it]"
     ]
    },
    {
     "name": "stdout",
     "output_type": "stream",
     "text": [
      "Sample 0:\n",
      "  Pred: 'soon the office work claimed all her time...'\n",
      "  Ref:  'soon the office work claimed all her time...'\n",
      "Sample 1:\n",
      "  Pred: 'both figures would go higher in later years....'\n",
      "  Ref:  'both figures would go higher in later years....'\n",
      "Sample 2:\n",
      "  Pred: 'internal national responsibility now a truism need...'\n",
      "  Ref:  'internal national responsibility now a truism need...'\n",
      "\n",
      "Metrics computed (using proper Whisper tokens):\n",
      "  WER: 0.0000, CER: 0.0000\n",
      "  Disease Acc: 1.0000\n",
      "  Precision: 1.0000, Recall: 1.0000, F1: 1.0000\n",
      "==================================================\n"
     ]
    },
    {
     "name": "stderr",
     "output_type": "stream",
     "text": [
      "Training Epoch 11: 100%|██████████| 109/109 [01:26<00:00,  1.26it/s]\n"
     ]
    },
    {
     "name": "stdout",
     "output_type": "stream",
     "text": [
      "\n",
      "======================================================================\n",
      "📝 TRAINING EPOCH 11 - TEXT EXAMPLES:\n",
      "======================================================================\n",
      "\n",
      "Example 1:\n",
      "  Reference: 'when he speaks his voice is just a bit cracked and quivers a trifle.'\n",
      "  Predicted: 'when he speaks his voice is just a bit cracked and quivers a trifle.'\n",
      "  Disease: Dysphonia → Dysphonia ✓\n",
      "\n",
      "Example 2:\n",
      "  Reference: 'day after day some new episode is reported.'\n",
      "  Predicted: 'day after day some new episode is reported.'\n",
      "  Disease: Dysphonia → Dysphonia ✓\n",
      "\n",
      "Example 3:\n",
      "  Reference: 'high so it only bounce harmlessly but loudly off a car's steel roof'\n",
      "  Predicted: 'high so it only bounce harmlessly but loudly off a car's steel roof'\n",
      "  Disease: Dysarthria → Dysarthria ✓\n",
      "\n",
      "Example 4:\n",
      "  Reference: 'to keep 'em scattered somewhat and yet herd 'em was called loose herdin''\n",
      "  Predicted: 'to keep 'em scattered somewhat and yet herd 'em was called loose herdin''\n",
      "  Disease: Dysarthria → Dysarthria ✓\n",
      "\n",
      "Example 5:\n",
      "  Reference: 'nothing is as offensive as innocence.'\n",
      "  Predicted: 'nothing is as offensive as innocence.'\n",
      "  Disease: Dysphonia → Dysphonia ✓\n",
      "======================================================================\n",
      "\n",
      "📈 TRAINING METRICS:\n",
      "   Loss: 0.0128 (Cls: 0.0015, Trans: 0.0588)\n",
      "   Disease - Acc: 1.0000, F1: 1.0000\n",
      "   Disease - Prec: 1.0000, Rec: 1.0000\n",
      "   Speech  - WER: 0.0025, CER: 0.0019\n",
      "   Weights - α: 0.1957, β: 0.8043\n"
     ]
    },
    {
     "name": "stderr",
     "output_type": "stream",
     "text": [
      "Evaluating:   4%|▎         | 1/27 [00:01<00:28,  1.08s/it]"
     ]
    },
    {
     "name": "stdout",
     "output_type": "stream",
     "text": [
      "\n",
      "=== METRICS DEBUG (Using EOT: 50256) ===\n",
      "Processing 8 samples...\n",
      "Sample 0:\n",
      "  Pred: 'he slowly takes a short walk in the open air each ...'\n",
      "  Ref:  'he slowly takes a short walk in the open air each ...'\n",
      "Sample 1:\n",
      "  Pred: 'this is not a program of socialized medicine...'\n",
      "  Ref:  'this is not a program of socialized medicine...'\n",
      "Sample 2:\n",
      "  Pred: 'the view spot is on the key again....'\n",
      "  Ref:  'the blue spot is on the key again....'\n",
      "\n",
      "Metrics computed (using proper Whisper tokens):\n",
      "  WER: 0.0133, CER: 0.0098\n",
      "  Disease Acc: 1.0000\n",
      "  Precision: 1.0000, Recall: 1.0000, F1: 1.0000\n",
      "==================================================\n",
      "\n",
      "=== METRICS DEBUG (Using EOT: 50256) ===\n",
      "Processing 8 samples...\n",
      "Sample 0:\n",
      "  Pred: 'it also provides for funds to clear slums and help...'\n",
      "  Ref:  'it also provides for funds to clear slums and help...'\n",
      "Sample 1:\n",
      "  Pred: 'there is definitely some ligament damage in his kn...'\n",
      "  Ref:  'there is definitely some ligament damage in his kn...'\n",
      "Sample 2:\n",
      "  Pred: 'un unoccupied roadway the bottle shattered into a ...'\n",
      "  Ref:  'on unoccupied roadway the bottle shattered into a ...'\n",
      "\n",
      "Metrics computed (using proper Whisper tokens):\n",
      "  WER: 0.0400, CER: 0.0096\n",
      "  Disease Acc: 1.0000\n",
      "  Precision: 1.0000, Recall: 1.0000, F1: 1.0000\n",
      "==================================================\n"
     ]
    },
    {
     "name": "stderr",
     "output_type": "stream",
     "text": [
      "Evaluating: 100%|██████████| 27/27 [00:10<00:00,  2.51it/s]\n"
     ]
    },
    {
     "name": "stdout",
     "output_type": "stream",
     "text": [
      "\n",
      "======================================================================\n",
      "📝 VALIDATION - TEXT EXAMPLES:\n",
      "======================================================================\n",
      "\n",
      "Example 1:\n",
      "  Reference: 'he slowly takes a short walk in the open air each day.'\n",
      "  Predicted: 'he slowly takes a short walk in the open air each day.'\n",
      "  Disease: Normal → Normal ✓\n",
      "\n",
      "Example 2:\n",
      "  Reference: 'this is not a program of socialized medicine'\n",
      "  Predicted: 'this is not a program of socialized medicine'\n",
      "  Disease: Normal → Normal ✓\n",
      "\n",
      "Example 3:\n",
      "  Reference: 'the blue spot is on the key again.'\n",
      "  Predicted: 'the view spot is on the key again.'\n",
      "  Disease: Normal → Normal ✓\n",
      "\n",
      "Example 4:\n",
      "  Reference: 'they used an aggressive policeman to flag thoughtless motorists'\n",
      "  Predicted: 'they used an aggressive policeman to flag thoughtless motorists'\n",
      "  Disease: Normal → Normal ✓\n",
      "\n",
      "Example 5:\n",
      "  Reference: 'when you are through write a clean report.'\n",
      "  Predicted: 'when you are through write a clean report.'\n",
      "  Disease: Normal → Normal ✓\n",
      "======================================================================\n",
      "\n",
      "📊 VALIDATION METRICS:\n",
      "   Loss: 0.0738\n",
      "   Disease - Acc: 1.0000, F1: 1.0000\n",
      "   Disease - Prec: 1.0000, Rec: 1.0000\n",
      "   Speech  - WER: 0.0857, CER: 0.0600\n",
      "✅ Best model saved: ../checkpoints_exp/checkpoints_base.en_encoder_learning/best_multitask_model_base.en.pt\n",
      "\n",
      "==================================================\n",
      "EPOCH 12/50\n",
      "==================================================\n"
     ]
    },
    {
     "name": "stderr",
     "output_type": "stream",
     "text": [
      "Training Epoch 12:   0%|          | 0/109 [00:00<?, ?it/s]"
     ]
    },
    {
     "name": "stdout",
     "output_type": "stream",
     "text": [
      "\n",
      "=== METRICS DEBUG (Using EOT: 50256) ===\n",
      "Processing 16 samples...\n"
     ]
    },
    {
     "name": "stderr",
     "output_type": "stream",
     "text": [
      "Training Epoch 12:   1%|          | 1/109 [00:02<03:49,  2.12s/it]"
     ]
    },
    {
     "name": "stdout",
     "output_type": "stream",
     "text": [
      "Sample 0:\n",
      "  Pred: 'i have had my bell rung....'\n",
      "  Ref:  'i have had my bell rung....'\n",
      "Sample 1:\n",
      "  Pred: 'the train approached the depot slowly....'\n",
      "  Ref:  'the train approached the depot slowly....'\n",
      "Sample 2:\n",
      "  Pred: 'shell shock caused by shrapnel is sometimes cured ...'\n",
      "  Ref:  'shell shock caused by shrapnel is sometimes cured ...'\n",
      "\n",
      "Metrics computed (using proper Whisper tokens):\n",
      "  WER: 0.0000, CER: 0.0000\n",
      "  Disease Acc: 1.0000\n",
      "  Precision: 1.0000, Recall: 1.0000, F1: 1.0000\n",
      "==================================================\n",
      "\n",
      "=== METRICS DEBUG (Using EOT: 50256) ===\n",
      "Processing 16 samples...\n"
     ]
    },
    {
     "name": "stderr",
     "output_type": "stream",
     "text": [
      "Training Epoch 12:   2%|▏         | 2/109 [00:02<01:50,  1.03s/it]"
     ]
    },
    {
     "name": "stdout",
     "output_type": "stream",
     "text": [
      "Sample 0:\n",
      "  Pred: 'this he added brought about petty jealousies and p...'\n",
      "  Ref:  'this he added brought about petty jealousies and p...'\n",
      "Sample 1:\n",
      "  Pred: 'she is thinner than i am....'\n",
      "  Ref:  'she is thinner than i am....'\n",
      "Sample 2:\n",
      "  Pred: 'the diagnosis was discouraging however he was not ...'\n",
      "  Ref:  'the diagnosis was discouraging however he was not ...'\n",
      "\n",
      "Metrics computed (using proper Whisper tokens):\n",
      "  WER: 0.0000, CER: 0.0000\n",
      "  Disease Acc: 1.0000\n",
      "  Precision: 1.0000, Recall: 1.0000, F1: 1.0000\n",
      "==================================================\n"
     ]
    },
    {
     "name": "stderr",
     "output_type": "stream",
     "text": [
      "Training Epoch 12: 100%|██████████| 109/109 [01:24<00:00,  1.29it/s]\n"
     ]
    },
    {
     "name": "stdout",
     "output_type": "stream",
     "text": [
      "\n",
      "======================================================================\n",
      "📝 TRAINING EPOCH 12 - TEXT EXAMPLES:\n",
      "======================================================================\n",
      "\n",
      "Example 1:\n",
      "  Reference: 'i have had my bell rung.'\n",
      "  Predicted: 'i have had my bell rung.'\n",
      "  Disease: Dysphonia → Dysphonia ✓\n",
      "\n",
      "Example 2:\n",
      "  Reference: 'the train approached the depot slowly.'\n",
      "  Predicted: 'the train approached the depot slowly.'\n",
      "  Disease: Dysphonia → Dysphonia ✓\n",
      "\n",
      "Example 3:\n",
      "  Reference: 'shell shock caused by shrapnel is sometimes cured through group therapy'\n",
      "  Predicted: 'shell shock caused by shrapnel is sometimes cured through group therapy'\n",
      "  Disease: Dysarthria → Dysarthria ✓\n",
      "\n",
      "Example 4:\n",
      "  Reference: 'soon the office work claimed all her time'\n",
      "  Predicted: 'soon the office work claimed all her time'\n",
      "  Disease: Normal → Normal ✓\n",
      "\n",
      "Example 5:\n",
      "  Reference: 'she had your dark suit in greasy wash water all year.'\n",
      "  Predicted: 'she had your dark suit in greasy wash water all year.'\n",
      "  Disease: Normal → Normal ✓\n",
      "======================================================================\n",
      "\n",
      "📈 TRAINING METRICS:\n",
      "   Loss: 0.0100 (Cls: 0.0012, Trans: 0.0460)\n",
      "   Disease - Acc: 1.0000, F1: 1.0000\n",
      "   Disease - Prec: 1.0000, Rec: 1.0000\n",
      "   Speech  - WER: 0.0025, CER: 0.0021\n",
      "   Weights - α: 0.1957, β: 0.8043\n"
     ]
    },
    {
     "name": "stderr",
     "output_type": "stream",
     "text": [
      "Evaluating:   7%|▋         | 2/27 [00:00<00:10,  2.33it/s]"
     ]
    },
    {
     "name": "stdout",
     "output_type": "stream",
     "text": [
      "\n",
      "=== METRICS DEBUG (Using EOT: 50256) ===\n",
      "Processing 8 samples...\n",
      "Sample 0:\n",
      "  Pred: 'he slowly takes a short walk in the open air each ...'\n",
      "  Ref:  'he slowly takes a short walk in the open air each ...'\n",
      "Sample 1:\n",
      "  Pred: 'this is not a program of socialized medicine...'\n",
      "  Ref:  'this is not a program of socialized medicine...'\n",
      "Sample 2:\n",
      "  Pred: 'the view spot is on the key again....'\n",
      "  Ref:  'the blue spot is on the key again....'\n",
      "\n",
      "Metrics computed (using proper Whisper tokens):\n",
      "  WER: 0.0133, CER: 0.0098\n",
      "  Disease Acc: 1.0000\n",
      "  Precision: 1.0000, Recall: 1.0000, F1: 1.0000\n",
      "==================================================\n",
      "\n",
      "=== METRICS DEBUG (Using EOT: 50256) ===\n",
      "Processing 8 samples...\n",
      "Sample 0:\n",
      "  Pred: 'it also provides for funds to clear slums and help...'\n",
      "  Ref:  'it also provides for funds to clear slums and help...'\n",
      "Sample 1:\n",
      "  Pred: 'there is definitely some ligament damage in his kn...'\n",
      "  Ref:  'there is definitely some ligament damage in his kn...'\n",
      "Sample 2:\n",
      "  Pred: 'un unoccupied roadway the bottle shattered into a ...'\n",
      "  Ref:  'on unoccupied roadway the bottle shattered into a ...'\n",
      "\n",
      "Metrics computed (using proper Whisper tokens):\n",
      "  WER: 0.0400, CER: 0.0096\n",
      "  Disease Acc: 1.0000\n",
      "  Precision: 1.0000, Recall: 1.0000, F1: 1.0000\n",
      "==================================================\n"
     ]
    },
    {
     "name": "stderr",
     "output_type": "stream",
     "text": [
      "Evaluating: 100%|██████████| 27/27 [00:10<00:00,  2.53it/s]\n"
     ]
    },
    {
     "name": "stdout",
     "output_type": "stream",
     "text": [
      "\n",
      "======================================================================\n",
      "📝 VALIDATION - TEXT EXAMPLES:\n",
      "======================================================================\n",
      "\n",
      "Example 1:\n",
      "  Reference: 'he slowly takes a short walk in the open air each day.'\n",
      "  Predicted: 'he slowly takes a short walk in the open air each day.'\n",
      "  Disease: Normal → Normal ✓\n",
      "\n",
      "Example 2:\n",
      "  Reference: 'this is not a program of socialized medicine'\n",
      "  Predicted: 'this is not a program of socialized medicine'\n",
      "  Disease: Normal → Normal ✓\n",
      "\n",
      "Example 3:\n",
      "  Reference: 'the blue spot is on the key again.'\n",
      "  Predicted: 'the view spot is on the key again.'\n",
      "  Disease: Normal → Normal ✓\n",
      "\n",
      "Example 4:\n",
      "  Reference: 'they used an aggressive policeman to flag thoughtless motorists'\n",
      "  Predicted: 'they used an aggressive policeman to flag thoughtless motorists'\n",
      "  Disease: Normal → Normal ✓\n",
      "\n",
      "Example 5:\n",
      "  Reference: 'when you are through write a clean report.'\n",
      "  Predicted: 'when you are through write a clean report.'\n",
      "  Disease: Normal → Normal ✓\n",
      "======================================================================\n",
      "\n",
      "📊 VALIDATION METRICS:\n",
      "   Loss: 0.0699\n",
      "   Disease - Acc: 1.0000, F1: 1.0000\n",
      "   Disease - Prec: 1.0000, Rec: 1.0000\n",
      "   Speech  - WER: 0.0824, CER: 0.0575\n",
      "✅ Best model saved: ../checkpoints_exp/checkpoints_base.en_encoder_learning/best_multitask_model_base.en.pt\n",
      "\n",
      "==================================================\n",
      "EPOCH 13/50\n",
      "==================================================\n"
     ]
    },
    {
     "name": "stderr",
     "output_type": "stream",
     "text": [
      "Training Epoch 13:   0%|          | 0/109 [00:00<?, ?it/s]"
     ]
    },
    {
     "name": "stdout",
     "output_type": "stream",
     "text": [
      "\n",
      "=== METRICS DEBUG (Using EOT: 50256) ===\n",
      "Processing 16 samples...\n"
     ]
    },
    {
     "name": "stderr",
     "output_type": "stream",
     "text": [
      "Training Epoch 13:   1%|          | 1/109 [00:02<03:46,  2.10s/it]"
     ]
    },
    {
     "name": "stdout",
     "output_type": "stream",
     "text": [
      "Sample 0:\n",
      "  Pred: 'when he speaks his voice is just a bit cracked and...'\n",
      "  Ref:  'when he speaks his voice is just a bit cracked and...'\n",
      "Sample 1:\n",
      "  Pred: 'we bought a brown chair....'\n",
      "  Ref:  'we bought a brown chair....'\n",
      "Sample 2:\n",
      "  Pred: 'even then if she took one step forward he could ca...'\n",
      "  Ref:  'even then if she took one step forward he could ca...'\n",
      "\n",
      "Metrics computed (using proper Whisper tokens):\n",
      "  WER: 0.0000, CER: 0.0000\n",
      "  Disease Acc: 1.0000\n",
      "  Precision: 1.0000, Recall: 1.0000, F1: 1.0000\n",
      "==================================================\n",
      "\n",
      "=== METRICS DEBUG (Using EOT: 50256) ===\n",
      "Processing 16 samples...\n"
     ]
    },
    {
     "name": "stderr",
     "output_type": "stream",
     "text": [
      "Training Epoch 13:   2%|▏         | 2/109 [00:02<01:50,  1.03s/it]"
     ]
    },
    {
     "name": "stdout",
     "output_type": "stream",
     "text": [
      "Sample 0:\n",
      "  Pred: 'the museum hires musicians every evening....'\n",
      "  Ref:  'the museum hires musicians every evening....'\n",
      "Sample 1:\n",
      "  Pred: 'you do that or take you out a permit right now...'\n",
      "  Ref:  'you do that or take you out a permit right now...'\n",
      "Sample 2:\n",
      "  Pred: 'clapping spurs to the bronc he set off at a sharp ...'\n",
      "  Ref:  'clapping spurs to the bronc he set off at a sharp ...'\n",
      "\n",
      "Metrics computed (using proper Whisper tokens):\n",
      "  WER: 0.0000, CER: 0.0000\n",
      "  Disease Acc: 1.0000\n",
      "  Precision: 1.0000, Recall: 1.0000, F1: 1.0000\n",
      "==================================================\n"
     ]
    },
    {
     "name": "stderr",
     "output_type": "stream",
     "text": [
      "Training Epoch 13: 100%|██████████| 109/109 [01:30<00:00,  1.21it/s]\n"
     ]
    },
    {
     "name": "stdout",
     "output_type": "stream",
     "text": [
      "\n",
      "======================================================================\n",
      "📝 TRAINING EPOCH 13 - TEXT EXAMPLES:\n",
      "======================================================================\n",
      "\n",
      "Example 1:\n",
      "  Reference: 'when he speaks his voice is just a bit cracked and quivers a trifle.'\n",
      "  Predicted: 'when he speaks his voice is just a bit cracked and quivers a trifle.'\n",
      "  Disease: Dysphonia → Dysphonia ✓\n",
      "\n",
      "Example 2:\n",
      "  Reference: 'we bought a brown chair.'\n",
      "  Predicted: 'we bought a brown chair.'\n",
      "  Disease: Dysphonia → Dysphonia ✓\n",
      "\n",
      "Example 3:\n",
      "  Reference: 'even then if she took one step forward he could catch her'\n",
      "  Predicted: 'even then if she took one step forward he could catch her'\n",
      "  Disease: Dysarthria → Dysarthria ✓\n",
      "\n",
      "Example 4:\n",
      "  Reference: 'two cars came over a crest their chrome and glass flashing'\n",
      "  Predicted: 'two cars came over a crest their chrome and glass flashing'\n",
      "  Disease: Dysarthria → Dysarthria ✓\n",
      "\n",
      "Example 5:\n",
      "  Reference: 'this is not a program of socialized medicine'\n",
      "  Predicted: 'this is not a program of socialized medicine'\n",
      "  Disease: Normal → Normal ✓\n",
      "======================================================================\n",
      "\n",
      "📈 TRAINING METRICS:\n",
      "   Loss: 0.0081 (Cls: 0.0010, Trans: 0.0371)\n",
      "   Disease - Acc: 1.0000, F1: 1.0000\n",
      "   Disease - Prec: 1.0000, Rec: 1.0000\n",
      "   Speech  - WER: 0.0022, CER: 0.0020\n",
      "   Weights - α: 0.1957, β: 0.8043\n"
     ]
    },
    {
     "name": "stderr",
     "output_type": "stream",
     "text": [
      "Evaluating:   4%|▎         | 1/27 [00:00<00:22,  1.17it/s]"
     ]
    },
    {
     "name": "stdout",
     "output_type": "stream",
     "text": [
      "\n",
      "=== METRICS DEBUG (Using EOT: 50256) ===\n",
      "Processing 8 samples...\n",
      "Sample 0:\n",
      "  Pred: 'he slowly takes a short walk in the open air each ...'\n",
      "  Ref:  'he slowly takes a short walk in the open air each ...'\n",
      "Sample 1:\n",
      "  Pred: 'this is not a program of socialized medicine...'\n",
      "  Ref:  'this is not a program of socialized medicine...'\n",
      "Sample 2:\n",
      "  Pred: 'the view spot is on the key again....'\n",
      "  Ref:  'the blue spot is on the key again....'\n",
      "\n",
      "Metrics computed (using proper Whisper tokens):\n",
      "  WER: 0.0133, CER: 0.0098\n",
      "  Disease Acc: 1.0000\n",
      "  Precision: 1.0000, Recall: 1.0000, F1: 1.0000\n",
      "==================================================\n"
     ]
    },
    {
     "name": "stderr",
     "output_type": "stream",
     "text": [
      "Evaluating:   7%|▋         | 2/27 [00:01<00:14,  1.72it/s]"
     ]
    },
    {
     "name": "stdout",
     "output_type": "stream",
     "text": [
      "\n",
      "=== METRICS DEBUG (Using EOT: 50256) ===\n",
      "Processing 8 samples...\n",
      "Sample 0:\n",
      "  Pred: 'it also provides for funds to clear slums and help...'\n",
      "  Ref:  'it also provides for funds to clear slums and help...'\n",
      "Sample 1:\n",
      "  Pred: 'there is definitely some ligament damage in his kn...'\n",
      "  Ref:  'there is definitely some ligament damage in his kn...'\n",
      "Sample 2:\n",
      "  Pred: 'un unoccupied roadway the bottle shattered into a ...'\n",
      "  Ref:  'on unoccupied roadway the bottle shattered into a ...'\n",
      "\n",
      "Metrics computed (using proper Whisper tokens):\n",
      "  WER: 0.0267, CER: 0.0048\n",
      "  Disease Acc: 1.0000\n",
      "  Precision: 1.0000, Recall: 1.0000, F1: 1.0000\n",
      "==================================================\n"
     ]
    },
    {
     "name": "stderr",
     "output_type": "stream",
     "text": [
      "Evaluating: 100%|██████████| 27/27 [00:11<00:00,  2.39it/s]\n"
     ]
    },
    {
     "name": "stdout",
     "output_type": "stream",
     "text": [
      "\n",
      "======================================================================\n",
      "📝 VALIDATION - TEXT EXAMPLES:\n",
      "======================================================================\n",
      "\n",
      "Example 1:\n",
      "  Reference: 'he slowly takes a short walk in the open air each day.'\n",
      "  Predicted: 'he slowly takes a short walk in the open air each day.'\n",
      "  Disease: Normal → Normal ✓\n",
      "\n",
      "Example 2:\n",
      "  Reference: 'this is not a program of socialized medicine'\n",
      "  Predicted: 'this is not a program of socialized medicine'\n",
      "  Disease: Normal → Normal ✓\n",
      "\n",
      "Example 3:\n",
      "  Reference: 'the blue spot is on the key again.'\n",
      "  Predicted: 'the view spot is on the key again.'\n",
      "  Disease: Normal → Normal ✓\n",
      "\n",
      "Example 4:\n",
      "  Reference: 'they used an aggressive policeman to flag thoughtless motorists'\n",
      "  Predicted: 'they used an aggressive policeman to flag thoughtless motorists'\n",
      "  Disease: Normal → Normal ✓\n",
      "\n",
      "Example 5:\n",
      "  Reference: 'when you are through write a clean report.'\n",
      "  Predicted: 'when you are through write a clean report.'\n",
      "  Disease: Normal → Normal ✓\n",
      "======================================================================\n",
      "\n",
      "📊 VALIDATION METRICS:\n",
      "   Loss: 0.0667\n",
      "   Disease - Acc: 1.0000, F1: 1.0000\n",
      "   Disease - Prec: 1.0000, Rec: 1.0000\n",
      "   Speech  - WER: 0.0819, CER: 0.0568\n",
      "✅ Best model saved: ../checkpoints_exp/checkpoints_base.en_encoder_learning/best_multitask_model_base.en.pt\n",
      "\n",
      "==================================================\n",
      "EPOCH 14/50\n",
      "==================================================\n"
     ]
    },
    {
     "name": "stderr",
     "output_type": "stream",
     "text": [
      "Training Epoch 14:   0%|          | 0/109 [00:00<?, ?it/s]"
     ]
    },
    {
     "name": "stdout",
     "output_type": "stream",
     "text": [
      "\n",
      "=== METRICS DEBUG (Using EOT: 50256) ===\n",
      "Processing 16 samples...\n"
     ]
    },
    {
     "name": "stderr",
     "output_type": "stream",
     "text": [
      "Training Epoch 14:   1%|          | 1/109 [00:01<03:27,  1.92s/it]"
     ]
    },
    {
     "name": "stdout",
     "output_type": "stream",
     "text": [
      "Sample 0:\n",
      "  Pred: 'the water contained too much chlorine and stung hi...'\n",
      "  Ref:  'the water contained too much chlorine and stung hi...'\n",
      "Sample 1:\n",
      "  Pred: 'don't ask me to carry an oily rag like that....'\n",
      "  Ref:  'don't ask me to carry an oily rag like that....'\n",
      "Sample 2:\n",
      "  Pred: 'everything went real smooth the sheriff said....'\n",
      "  Ref:  'everything went real smooth the sheriff said....'\n",
      "\n",
      "Metrics computed (using proper Whisper tokens):\n",
      "  WER: 0.0000, CER: 0.0000\n",
      "  Disease Acc: 1.0000\n",
      "  Precision: 1.0000, Recall: 1.0000, F1: 1.0000\n",
      "==================================================\n",
      "\n",
      "=== METRICS DEBUG (Using EOT: 50256) ===\n",
      "Processing 16 samples...\n"
     ]
    },
    {
     "name": "stderr",
     "output_type": "stream",
     "text": [
      "Training Epoch 14:   2%|▏         | 2/109 [00:02<01:41,  1.05it/s]"
     ]
    },
    {
     "name": "stdout",
     "output_type": "stream",
     "text": [
      "Sample 0:\n",
      "  Pred: 'the revised procedure was acclaimed as a long over...'\n",
      "  Ref:  'the revised procedure was acclaimed as a long over...'\n",
      "Sample 1:\n",
      "  Pred: 'there is a treehouse up above....'\n",
      "  Ref:  'there is a treehouse up above....'\n",
      "Sample 2:\n",
      "  Pred: 'you do that or take you out a permit right now...'\n",
      "  Ref:  'you do that or take you out a permit right now...'\n",
      "\n",
      "Metrics computed (using proper Whisper tokens):\n",
      "  WER: 0.0000, CER: 0.0000\n",
      "  Disease Acc: 1.0000\n",
      "  Precision: 1.0000, Recall: 1.0000, F1: 1.0000\n",
      "==================================================\n"
     ]
    },
    {
     "name": "stderr",
     "output_type": "stream",
     "text": [
      "Training Epoch 14: 100%|██████████| 109/109 [01:23<00:00,  1.31it/s]\n"
     ]
    },
    {
     "name": "stdout",
     "output_type": "stream",
     "text": [
      "\n",
      "======================================================================\n",
      "📝 TRAINING EPOCH 14 - TEXT EXAMPLES:\n",
      "======================================================================\n",
      "\n",
      "Example 1:\n",
      "  Reference: 'the water contained too much chlorine and stung his eyes'\n",
      "  Predicted: 'the water contained too much chlorine and stung his eyes'\n",
      "  Disease: Normal → Normal ✓\n",
      "\n",
      "Example 2:\n",
      "  Reference: 'don't ask me to carry an oily rag like that.'\n",
      "  Predicted: 'don't ask me to carry an oily rag like that.'\n",
      "  Disease: Normal → Normal ✓\n",
      "\n",
      "Example 3:\n",
      "  Reference: 'everything went real smooth the sheriff said.'\n",
      "  Predicted: 'everything went real smooth the sheriff said.'\n",
      "  Disease: Dysphonia → Dysphonia ✓\n",
      "\n",
      "Example 4:\n",
      "  Reference: 'we did not accept the diagnosis at once but gradually we are coming to'\n",
      "  Predicted: 'we did not accept the diagnosis at once but gradually we are coming to'\n",
      "  Disease: Normal → Normal ✓\n",
      "\n",
      "Example 5:\n",
      "  Reference: 'mother sews yellow gingham aprons.'\n",
      "  Predicted: 'mother sews yellow gingham aprons.'\n",
      "  Disease: Dysphonia → Dysphonia ✓\n",
      "======================================================================\n",
      "\n",
      "📈 TRAINING METRICS:\n",
      "   Loss: 0.0062 (Cls: 0.0009, Trans: 0.0284)\n",
      "   Disease - Acc: 1.0000, F1: 1.0000\n",
      "   Disease - Prec: 1.0000, Rec: 1.0000\n",
      "   Speech  - WER: 0.0014, CER: 0.0013\n",
      "   Weights - α: 0.1957, β: 0.8043\n"
     ]
    },
    {
     "name": "stderr",
     "output_type": "stream",
     "text": [
      "Evaluating:   4%|▎         | 1/27 [00:00<00:22,  1.13it/s]"
     ]
    },
    {
     "name": "stdout",
     "output_type": "stream",
     "text": [
      "\n",
      "=== METRICS DEBUG (Using EOT: 50256) ===\n",
      "Processing 8 samples...\n",
      "Sample 0:\n",
      "  Pred: 'he slowly takes a short walk in the open air each ...'\n",
      "  Ref:  'he slowly takes a short walk in the open air each ...'\n",
      "Sample 1:\n",
      "  Pred: 'this is not a program of socialized medicine...'\n",
      "  Ref:  'this is not a program of socialized medicine...'\n",
      "Sample 2:\n",
      "  Pred: 'the view spot is on the key again....'\n",
      "  Ref:  'the blue spot is on the key again....'\n",
      "\n",
      "Metrics computed (using proper Whisper tokens):\n",
      "  WER: 0.0133, CER: 0.0098\n",
      "  Disease Acc: 1.0000\n",
      "  Precision: 1.0000, Recall: 1.0000, F1: 1.0000\n",
      "==================================================\n",
      "\n",
      "=== METRICS DEBUG (Using EOT: 50256) ===\n",
      "Processing 8 samples...\n",
      "Sample 0:\n",
      "  Pred: 'it also provides for funds to clear slums and help...'\n",
      "  Ref:  'it also provides for funds to clear slums and help...'\n",
      "Sample 1:\n",
      "  Pred: 'there is definitely some ligament damage in his kn...'\n",
      "  Ref:  'there is definitely some ligament damage in his kn...'\n",
      "Sample 2:\n",
      "  Pred: 'un unoccupied roadway the bottle shattered into a ...'\n",
      "  Ref:  'on unoccupied roadway the bottle shattered into a ...'\n",
      "\n",
      "Metrics computed (using proper Whisper tokens):\n",
      "  WER: 0.0400, CER: 0.0096\n",
      "  Disease Acc: 1.0000\n",
      "  Precision: 1.0000, Recall: 1.0000, F1: 1.0000\n",
      "==================================================\n"
     ]
    },
    {
     "name": "stderr",
     "output_type": "stream",
     "text": [
      "Evaluating: 100%|██████████| 27/27 [00:10<00:00,  2.48it/s]\n"
     ]
    },
    {
     "name": "stdout",
     "output_type": "stream",
     "text": [
      "\n",
      "======================================================================\n",
      "📝 VALIDATION - TEXT EXAMPLES:\n",
      "======================================================================\n",
      "\n",
      "Example 1:\n",
      "  Reference: 'he slowly takes a short walk in the open air each day.'\n",
      "  Predicted: 'he slowly takes a short walk in the open air each day.'\n",
      "  Disease: Normal → Normal ✓\n",
      "\n",
      "Example 2:\n",
      "  Reference: 'this is not a program of socialized medicine'\n",
      "  Predicted: 'this is not a program of socialized medicine'\n",
      "  Disease: Normal → Normal ✓\n",
      "\n",
      "Example 3:\n",
      "  Reference: 'the blue spot is on the key again.'\n",
      "  Predicted: 'the view spot is on the key again.'\n",
      "  Disease: Normal → Normal ✓\n",
      "\n",
      "Example 4:\n",
      "  Reference: 'they used an aggressive policeman to flag thoughtless motorists'\n",
      "  Predicted: 'they used an aggressive policeman to flag thoughtless motorists'\n",
      "  Disease: Normal → Normal ✓\n",
      "\n",
      "Example 5:\n",
      "  Reference: 'when you are through write a clean report.'\n",
      "  Predicted: 'when you are through write a clean report.'\n",
      "  Disease: Normal → Normal ✓\n",
      "======================================================================\n",
      "\n",
      "📊 VALIDATION METRICS:\n",
      "   Loss: 0.0690\n",
      "   Disease - Acc: 0.9954, F1: 0.9975\n",
      "   Disease - Prec: 1.0000, Rec: 0.9954\n",
      "   Speech  - WER: 0.0816, CER: 0.0584\n",
      "⏳ No improvement. Patience: 1/7\n",
      "\n",
      "==================================================\n",
      "EPOCH 15/50\n",
      "==================================================\n"
     ]
    },
    {
     "name": "stderr",
     "output_type": "stream",
     "text": [
      "Training Epoch 15:   0%|          | 0/109 [00:00<?, ?it/s]"
     ]
    },
    {
     "name": "stdout",
     "output_type": "stream",
     "text": [
      "\n",
      "=== METRICS DEBUG (Using EOT: 50256) ===\n",
      "Processing 16 samples...\n"
     ]
    },
    {
     "name": "stderr",
     "output_type": "stream",
     "text": [
      "Training Epoch 15:   1%|          | 1/109 [00:02<03:39,  2.03s/it]"
     ]
    },
    {
     "name": "stdout",
     "output_type": "stream",
     "text": [
      "Sample 0:\n",
      "  Pred: 'this is not a program of socialized medicine....'\n",
      "  Ref:  'this is not a program of socialized medicine....'\n",
      "Sample 1:\n",
      "  Pred: 'you do that or take you out a permit right now...'\n",
      "  Ref:  'you do that or take you out a permit right now...'\n",
      "Sample 2:\n",
      "  Pred: 'if any of us miss they can pick up the pieces...'\n",
      "  Ref:  'if any of us miss they can pick up the pieces...'\n",
      "\n",
      "Metrics computed (using proper Whisper tokens):\n",
      "  WER: 0.0000, CER: 0.0000\n",
      "  Disease Acc: 1.0000\n",
      "  Precision: 1.0000, Recall: 1.0000, F1: 1.0000\n",
      "==================================================\n",
      "\n",
      "=== METRICS DEBUG (Using EOT: 50256) ===\n",
      "Processing 16 samples...\n"
     ]
    },
    {
     "name": "stderr",
     "output_type": "stream",
     "text": [
      "Training Epoch 15:   2%|▏         | 2/109 [00:02<01:52,  1.05s/it]"
     ]
    },
    {
     "name": "stdout",
     "output_type": "stream",
     "text": [
      "Sample 0:\n",
      "  Pred: 'don't ask me to carry an oily rag like that....'\n",
      "  Ref:  'don't ask me to carry an oily rag like that....'\n",
      "Sample 1:\n",
      "  Pred: 'the haunted house was a hit due to outstanding aud...'\n",
      "  Ref:  'the haunted house was a hit due to outstanding aud...'\n",
      "Sample 2:\n",
      "  Pred: 'he took his mask from his forehead and threw it un...'\n",
      "  Ref:  'he took his mask from his forehead and threw it un...'\n",
      "\n",
      "Metrics computed (using proper Whisper tokens):\n",
      "  WER: 0.0000, CER: 0.0000\n",
      "  Disease Acc: 1.0000\n",
      "  Precision: 1.0000, Recall: 1.0000, F1: 1.0000\n",
      "==================================================\n"
     ]
    },
    {
     "name": "stderr",
     "output_type": "stream",
     "text": [
      "Training Epoch 15: 100%|██████████| 109/109 [01:24<00:00,  1.30it/s]\n"
     ]
    },
    {
     "name": "stdout",
     "output_type": "stream",
     "text": [
      "\n",
      "======================================================================\n",
      "📝 TRAINING EPOCH 15 - TEXT EXAMPLES:\n",
      "======================================================================\n",
      "\n",
      "Example 1:\n",
      "  Reference: 'this is not a program of socialized medicine.'\n",
      "  Predicted: 'this is not a program of socialized medicine.'\n",
      "  Disease: Dysphonia → Dysphonia ✓\n",
      "\n",
      "Example 2:\n",
      "  Reference: 'you do that or take you out a permit right now'\n",
      "  Predicted: 'you do that or take you out a permit right now'\n",
      "  Disease: Dysarthria → Dysarthria ✓\n",
      "\n",
      "Example 3:\n",
      "  Reference: 'if any of us miss they can pick up the pieces'\n",
      "  Predicted: 'if any of us miss they can pick up the pieces'\n",
      "  Disease: Dysarthria → Dysarthria ✓\n",
      "\n",
      "Example 4:\n",
      "  Reference: 'we experience distress and frustration obtaining our degrees.'\n",
      "  Predicted: 'we experience distress and frustration obtaining our degrees.'\n",
      "  Disease: Normal → Normal ✓\n",
      "\n",
      "Example 5:\n",
      "  Reference: 'his election on the other hand would unquestionably strengthen the regulars'\n",
      "  Predicted: 'his election on the other hand would unquestionably strengthen the regulars'\n",
      "  Disease: Dysarthria → Dysarthria ✓\n",
      "======================================================================\n",
      "\n",
      "📈 TRAINING METRICS:\n",
      "   Loss: 0.0050 (Cls: 0.0007, Trans: 0.0228)\n",
      "   Disease - Acc: 1.0000, F1: 1.0000\n",
      "   Disease - Prec: 1.0000, Rec: 1.0000\n",
      "   Speech  - WER: 0.0015, CER: 0.0013\n",
      "   Weights - α: 0.1957, β: 0.8043\n"
     ]
    },
    {
     "name": "stderr",
     "output_type": "stream",
     "text": [
      "Evaluating:   4%|▎         | 1/27 [00:01<00:30,  1.17s/it]"
     ]
    },
    {
     "name": "stdout",
     "output_type": "stream",
     "text": [
      "\n",
      "=== METRICS DEBUG (Using EOT: 50256) ===\n",
      "Processing 8 samples...\n",
      "Sample 0:\n",
      "  Pred: 'he slowly takes a short walk in the open air each ...'\n",
      "  Ref:  'he slowly takes a short walk in the open air each ...'\n",
      "Sample 1:\n",
      "  Pred: 'this is not a program of socialized medicine...'\n",
      "  Ref:  'this is not a program of socialized medicine...'\n",
      "Sample 2:\n",
      "  Pred: 'the view spot is on the key again....'\n",
      "  Ref:  'the blue spot is on the key again....'\n",
      "\n",
      "Metrics computed (using proper Whisper tokens):\n",
      "  WER: 0.0133, CER: 0.0098\n",
      "  Disease Acc: 1.0000\n",
      "  Precision: 1.0000, Recall: 1.0000, F1: 1.0000\n",
      "==================================================\n",
      "\n",
      "=== METRICS DEBUG (Using EOT: 50256) ===\n",
      "Processing 8 samples...\n",
      "Sample 0:\n",
      "  Pred: 'it also provides for funds to clear slums and help...'\n",
      "  Ref:  'it also provides for funds to clear slums and help...'\n",
      "Sample 1:\n",
      "  Pred: 'there is definitely some ligament damage in his kn...'\n",
      "  Ref:  'there is definitely some ligament damage in his kn...'\n",
      "Sample 2:\n",
      "  Pred: 'un unoccupied roadway the bottle shattered into a ...'\n",
      "  Ref:  'on unoccupied roadway the bottle shattered into a ...'\n",
      "\n",
      "Metrics computed (using proper Whisper tokens):\n",
      "  WER: 0.0400, CER: 0.0096\n",
      "  Disease Acc: 1.0000\n",
      "  Precision: 1.0000, Recall: 1.0000, F1: 1.0000\n",
      "==================================================\n"
     ]
    },
    {
     "name": "stderr",
     "output_type": "stream",
     "text": [
      "Evaluating: 100%|██████████| 27/27 [00:11<00:00,  2.37it/s]\n"
     ]
    },
    {
     "name": "stdout",
     "output_type": "stream",
     "text": [
      "\n",
      "======================================================================\n",
      "📝 VALIDATION - TEXT EXAMPLES:\n",
      "======================================================================\n",
      "\n",
      "Example 1:\n",
      "  Reference: 'he slowly takes a short walk in the open air each day.'\n",
      "  Predicted: 'he slowly takes a short walk in the open air each day.'\n",
      "  Disease: Normal → Normal ✓\n",
      "\n",
      "Example 2:\n",
      "  Reference: 'this is not a program of socialized medicine'\n",
      "  Predicted: 'this is not a program of socialized medicine'\n",
      "  Disease: Normal → Normal ✓\n",
      "\n",
      "Example 3:\n",
      "  Reference: 'the blue spot is on the key again.'\n",
      "  Predicted: 'the view spot is on the key again.'\n",
      "  Disease: Normal → Normal ✓\n",
      "\n",
      "Example 4:\n",
      "  Reference: 'they used an aggressive policeman to flag thoughtless motorists'\n",
      "  Predicted: 'they used an aggressive policeman to flag thoughtless motorists'\n",
      "  Disease: Normal → Normal ✓\n",
      "\n",
      "Example 5:\n",
      "  Reference: 'when you are through write a clean report.'\n",
      "  Predicted: 'when you are through write a clean report.'\n",
      "  Disease: Normal → Normal ✓\n",
      "======================================================================\n",
      "\n",
      "📊 VALIDATION METRICS:\n",
      "   Loss: 0.0642\n",
      "   Disease - Acc: 1.0000, F1: 1.0000\n",
      "   Disease - Prec: 1.0000, Rec: 1.0000\n",
      "   Speech  - WER: 0.0787, CER: 0.0567\n",
      "✅ Best model saved: ../checkpoints_exp/checkpoints_base.en_encoder_learning/best_multitask_model_base.en.pt\n",
      "\n",
      "==================================================\n",
      "EPOCH 16/50\n",
      "==================================================\n"
     ]
    },
    {
     "name": "stderr",
     "output_type": "stream",
     "text": [
      "Training Epoch 16:   0%|          | 0/109 [00:00<?, ?it/s]"
     ]
    },
    {
     "name": "stdout",
     "output_type": "stream",
     "text": [
      "\n",
      "=== METRICS DEBUG (Using EOT: 50256) ===\n",
      "Processing 16 samples...\n"
     ]
    },
    {
     "name": "stderr",
     "output_type": "stream",
     "text": [
      "Training Epoch 16:   1%|          | 1/109 [00:02<03:45,  2.08s/it]"
     ]
    },
    {
     "name": "stdout",
     "output_type": "stream",
     "text": [
      "Sample 0:\n",
      "  Pred: 'you're used to being on the field....'\n",
      "  Ref:  'you're used to being on the field....'\n",
      "Sample 1:\n",
      "  Pred: 'the quick brown fox jumps over the lazy dog....'\n",
      "  Ref:  'the quick brown fox jumps over the lazy dog....'\n",
      "Sample 2:\n",
      "  Pred: 'if you destroy confidence in banks you do somethin...'\n",
      "  Ref:  'if you destroy confidence in banks you do somethin...'\n",
      "\n",
      "Metrics computed (using proper Whisper tokens):\n",
      "  WER: 0.0000, CER: 0.0000\n",
      "  Disease Acc: 1.0000\n",
      "  Precision: 1.0000, Recall: 1.0000, F1: 1.0000\n",
      "==================================================\n",
      "\n",
      "=== METRICS DEBUG (Using EOT: 50256) ===\n",
      "Processing 16 samples...\n"
     ]
    },
    {
     "name": "stderr",
     "output_type": "stream",
     "text": [
      "Training Epoch 16:   2%|▏         | 2/109 [00:02<01:56,  1.09s/it]"
     ]
    },
    {
     "name": "stdout",
     "output_type": "stream",
     "text": [
      "Sample 0:\n",
      "  Pred: 'help celebrate your brother's success...'\n",
      "  Ref:  'help celebrate your brother's success...'\n",
      "Sample 1:\n",
      "  Pred: 'if you destroy confidence in banks you do somethin...'\n",
      "  Ref:  'if you destroy confidence in banks you do somethin...'\n",
      "Sample 2:\n",
      "  Pred: 'a good attitude is unbeatable....'\n",
      "  Ref:  'a good attitude is unbeatable....'\n",
      "\n",
      "Metrics computed (using proper Whisper tokens):\n",
      "  WER: 0.0000, CER: 0.0000\n",
      "  Disease Acc: 1.0000\n",
      "  Precision: 1.0000, Recall: 1.0000, F1: 1.0000\n",
      "==================================================\n"
     ]
    },
    {
     "name": "stderr",
     "output_type": "stream",
     "text": [
      "Training Epoch 16: 100%|██████████| 109/109 [01:24<00:00,  1.29it/s]\n"
     ]
    },
    {
     "name": "stdout",
     "output_type": "stream",
     "text": [
      "\n",
      "======================================================================\n",
      "📝 TRAINING EPOCH 16 - TEXT EXAMPLES:\n",
      "======================================================================\n",
      "\n",
      "Example 1:\n",
      "  Reference: 'you're used to being on the field.'\n",
      "  Predicted: 'you're used to being on the field.'\n",
      "  Disease: Dysphonia → Dysphonia ✓\n",
      "\n",
      "Example 2:\n",
      "  Reference: 'the quick brown fox jumps over the lazy dog.'\n",
      "  Predicted: 'the quick brown fox jumps over the lazy dog.'\n",
      "  Disease: Normal → Normal ✓\n",
      "\n",
      "Example 3:\n",
      "  Reference: 'if you destroy confidence in banks you do something to the economy he said.'\n",
      "  Predicted: 'if you destroy confidence in banks you do something to the economy he said.'\n",
      "  Disease: Dysphonia → Dysphonia ✓\n",
      "\n",
      "Example 4:\n",
      "  Reference: 'i have had my bell rung.'\n",
      "  Predicted: 'i have had my bell rung.'\n",
      "  Disease: Dysphonia → Dysphonia ✓\n",
      "\n",
      "Example 5:\n",
      "  Reference: 'the islands are sparsely populated.'\n",
      "  Predicted: 'the islands are sparsely populated.'\n",
      "  Disease: Dysphonia → Dysphonia ✓\n",
      "======================================================================\n",
      "\n",
      "📈 TRAINING METRICS:\n",
      "   Loss: 0.0040 (Cls: 0.0006, Trans: 0.0179)\n",
      "   Disease - Acc: 1.0000, F1: 1.0000\n",
      "   Disease - Prec: 1.0000, Rec: 1.0000\n",
      "   Speech  - WER: 0.0011, CER: 0.0009\n",
      "   Weights - α: 0.1957, β: 0.8043\n"
     ]
    },
    {
     "name": "stderr",
     "output_type": "stream",
     "text": [
      "Evaluating:   4%|▎         | 1/27 [00:01<00:30,  1.19s/it]"
     ]
    },
    {
     "name": "stdout",
     "output_type": "stream",
     "text": [
      "\n",
      "=== METRICS DEBUG (Using EOT: 50256) ===\n",
      "Processing 8 samples...\n",
      "Sample 0:\n",
      "  Pred: 'he slowly takes a short walk in the open air each ...'\n",
      "  Ref:  'he slowly takes a short walk in the open air each ...'\n",
      "Sample 1:\n",
      "  Pred: 'this is not a program of socialized medicine...'\n",
      "  Ref:  'this is not a program of socialized medicine...'\n",
      "Sample 2:\n",
      "  Pred: 'the view spot is on the key again....'\n",
      "  Ref:  'the blue spot is on the key again....'\n",
      "\n",
      "Metrics computed (using proper Whisper tokens):\n",
      "  WER: 0.0133, CER: 0.0098\n",
      "  Disease Acc: 1.0000\n",
      "  Precision: 1.0000, Recall: 1.0000, F1: 1.0000\n",
      "==================================================\n",
      "\n",
      "=== METRICS DEBUG (Using EOT: 50256) ===\n",
      "Processing 8 samples...\n",
      "Sample 0:\n",
      "  Pred: 'it also provides for funds to clear slums and help...'\n",
      "  Ref:  'it also provides for funds to clear slums and help...'\n",
      "Sample 1:\n",
      "  Pred: 'there is definitely some ligament damage in his kn...'\n",
      "  Ref:  'there is definitely some ligament damage in his kn...'\n",
      "Sample 2:\n",
      "  Pred: 'un unoccupied roadway the bottle shattered into a ...'\n",
      "  Ref:  'on unoccupied roadway the bottle shattered into a ...'\n",
      "\n",
      "Metrics computed (using proper Whisper tokens):\n",
      "  WER: 0.0400, CER: 0.0096\n",
      "  Disease Acc: 1.0000\n",
      "  Precision: 1.0000, Recall: 1.0000, F1: 1.0000\n",
      "==================================================\n"
     ]
    },
    {
     "name": "stderr",
     "output_type": "stream",
     "text": [
      "Evaluating: 100%|██████████| 27/27 [00:11<00:00,  2.39it/s]\n"
     ]
    },
    {
     "name": "stdout",
     "output_type": "stream",
     "text": [
      "\n",
      "======================================================================\n",
      "📝 VALIDATION - TEXT EXAMPLES:\n",
      "======================================================================\n",
      "\n",
      "Example 1:\n",
      "  Reference: 'he slowly takes a short walk in the open air each day.'\n",
      "  Predicted: 'he slowly takes a short walk in the open air each day.'\n",
      "  Disease: Normal → Normal ✓\n",
      "\n",
      "Example 2:\n",
      "  Reference: 'this is not a program of socialized medicine'\n",
      "  Predicted: 'this is not a program of socialized medicine'\n",
      "  Disease: Normal → Normal ✓\n",
      "\n",
      "Example 3:\n",
      "  Reference: 'the blue spot is on the key again.'\n",
      "  Predicted: 'the view spot is on the key again.'\n",
      "  Disease: Normal → Normal ✓\n",
      "\n",
      "Example 4:\n",
      "  Reference: 'they used an aggressive policeman to flag thoughtless motorists'\n",
      "  Predicted: 'they used an aggressive policeman to flag thoughtless motorists'\n",
      "  Disease: Normal → Normal ✓\n",
      "\n",
      "Example 5:\n",
      "  Reference: 'when you are through write a clean report.'\n",
      "  Predicted: 'when you are through write a clean report.'\n",
      "  Disease: Normal → Normal ✓\n",
      "======================================================================\n",
      "\n",
      "📊 VALIDATION METRICS:\n",
      "   Loss: 0.0639\n",
      "   Disease - Acc: 1.0000, F1: 1.0000\n",
      "   Disease - Prec: 1.0000, Rec: 1.0000\n",
      "   Speech  - WER: 0.0787, CER: 0.0561\n",
      "✅ Best model saved: ../checkpoints_exp/checkpoints_base.en_encoder_learning/best_multitask_model_base.en.pt\n",
      "\n",
      "==================================================\n",
      "EPOCH 17/50\n",
      "==================================================\n"
     ]
    },
    {
     "name": "stderr",
     "output_type": "stream",
     "text": [
      "Training Epoch 17:   0%|          | 0/109 [00:00<?, ?it/s]"
     ]
    },
    {
     "name": "stdout",
     "output_type": "stream",
     "text": [
      "\n",
      "=== METRICS DEBUG (Using EOT: 50256) ===\n",
      "Processing 16 samples...\n"
     ]
    },
    {
     "name": "stderr",
     "output_type": "stream",
     "text": [
      "Training Epoch 17:   1%|          | 1/109 [00:02<03:53,  2.16s/it]"
     ]
    },
    {
     "name": "stdout",
     "output_type": "stream",
     "text": [
      "Sample 0:\n",
      "  Pred: 'yet he still thinks as swiftly as ever....'\n",
      "  Ref:  'yet he still thinks as swiftly as ever....'\n",
      "Sample 1:\n",
      "  Pred: 'most precincts had a third of the votes counted...'\n",
      "  Ref:  'most precincts had a third of the votes counted...'\n",
      "Sample 2:\n",
      "  Pred: 'grandfather likes to be modern in his language....'\n",
      "  Ref:  'grandfather likes to be modern in his language....'\n",
      "\n",
      "Metrics computed (using proper Whisper tokens):\n",
      "  WER: 0.0000, CER: 0.0000\n",
      "  Disease Acc: 1.0000\n",
      "  Precision: 1.0000, Recall: 1.0000, F1: 1.0000\n",
      "==================================================\n",
      "\n",
      "=== METRICS DEBUG (Using EOT: 50256) ===\n",
      "Processing 16 samples...\n"
     ]
    },
    {
     "name": "stderr",
     "output_type": "stream",
     "text": [
      "Training Epoch 17:   2%|▏         | 2/109 [00:02<01:51,  1.05s/it]"
     ]
    },
    {
     "name": "stdout",
     "output_type": "stream",
     "text": [
      "Sample 0:\n",
      "  Pred: 'are your grades higher or lower than nancy's?...'\n",
      "  Ref:  'are your grades higher or lower than nancy's?...'\n",
      "Sample 1:\n",
      "  Pred: 'twice each day he plays skillfully and with zest u...'\n",
      "  Ref:  'twice each day he plays skillfully and with zest u...'\n",
      "Sample 2:\n",
      "  Pred: 'i soon found myself muttering to the walls....'\n",
      "  Ref:  'i soon found myself muttering to the walls....'\n",
      "\n",
      "Metrics computed (using proper Whisper tokens):\n",
      "  WER: 0.0000, CER: 0.0000\n",
      "  Disease Acc: 1.0000\n",
      "  Precision: 1.0000, Recall: 1.0000, F1: 1.0000\n",
      "==================================================\n"
     ]
    },
    {
     "name": "stderr",
     "output_type": "stream",
     "text": [
      "Training Epoch 17: 100%|██████████| 109/109 [01:23<00:00,  1.30it/s]\n"
     ]
    },
    {
     "name": "stdout",
     "output_type": "stream",
     "text": [
      "\n",
      "======================================================================\n",
      "📝 TRAINING EPOCH 17 - TEXT EXAMPLES:\n",
      "======================================================================\n",
      "\n",
      "Example 1:\n",
      "  Reference: 'yet he still thinks as swiftly as ever.'\n",
      "  Predicted: 'yet he still thinks as swiftly as ever.'\n",
      "  Disease: Dysphonia → Dysphonia ✓\n",
      "\n",
      "Example 2:\n",
      "  Reference: 'most precincts had a third of the votes counted'\n",
      "  Predicted: 'most precincts had a third of the votes counted'\n",
      "  Disease: Normal → Normal ✓\n",
      "\n",
      "Example 3:\n",
      "  Reference: 'grandfather likes to be modern in his language.'\n",
      "  Predicted: 'grandfather likes to be modern in his language.'\n",
      "  Disease: Dysphonia → Dysphonia ✓\n",
      "\n",
      "Example 4:\n",
      "  Reference: 'the haunted house was a hit due to outstanding audio visual effects'\n",
      "  Predicted: 'the haunted house was a hit due to outstanding audio visual effects'\n",
      "  Disease: Dysarthria → Dysarthria ✓\n",
      "\n",
      "Example 5:\n",
      "  Reference: 'the diagnosis was discouraging however he was not overly worried'\n",
      "  Predicted: 'the diagnosis was discouraging however he was not overly worried'\n",
      "  Disease: Dysarthria → Dysarthria ✓\n",
      "======================================================================\n",
      "\n",
      "📈 TRAINING METRICS:\n",
      "   Loss: 0.0033 (Cls: 0.0005, Trans: 0.0147)\n",
      "   Disease - Acc: 1.0000, F1: 1.0000\n",
      "   Disease - Prec: 1.0000, Rec: 1.0000\n",
      "   Speech  - WER: 0.0009, CER: 0.0006\n",
      "   Weights - α: 0.1957, β: 0.8043\n"
     ]
    },
    {
     "name": "stderr",
     "output_type": "stream",
     "text": [
      "Evaluating:   7%|▋         | 2/27 [00:00<00:10,  2.42it/s]"
     ]
    },
    {
     "name": "stdout",
     "output_type": "stream",
     "text": [
      "\n",
      "=== METRICS DEBUG (Using EOT: 50256) ===\n",
      "Processing 8 samples...\n",
      "Sample 0:\n",
      "  Pred: 'he slowly takes a short walk in the open air each ...'\n",
      "  Ref:  'he slowly takes a short walk in the open air each ...'\n",
      "Sample 1:\n",
      "  Pred: 'this is not a program of socialized medicine...'\n",
      "  Ref:  'this is not a program of socialized medicine...'\n",
      "Sample 2:\n",
      "  Pred: 'the view spot is on the key again....'\n",
      "  Ref:  'the blue spot is on the key again....'\n",
      "\n",
      "Metrics computed (using proper Whisper tokens):\n",
      "  WER: 0.0133, CER: 0.0098\n",
      "  Disease Acc: 1.0000\n",
      "  Precision: 1.0000, Recall: 1.0000, F1: 1.0000\n",
      "==================================================\n",
      "\n",
      "=== METRICS DEBUG (Using EOT: 50256) ===\n",
      "Processing 8 samples...\n",
      "Sample 0:\n",
      "  Pred: 'it also provides for funds to clear slums and help...'\n",
      "  Ref:  'it also provides for funds to clear slums and help...'\n",
      "Sample 1:\n",
      "  Pred: 'there is definitely some ligament damage in his kn...'\n",
      "  Ref:  'there is definitely some ligament damage in his kn...'\n",
      "Sample 2:\n",
      "  Pred: 'un unoccupied roadway the bottle shattered into a ...'\n",
      "  Ref:  'on unoccupied roadway the bottle shattered into a ...'\n",
      "\n",
      "Metrics computed (using proper Whisper tokens):\n",
      "  WER: 0.0267, CER: 0.0048\n",
      "  Disease Acc: 1.0000\n",
      "  Precision: 1.0000, Recall: 1.0000, F1: 1.0000\n",
      "==================================================\n"
     ]
    },
    {
     "name": "stderr",
     "output_type": "stream",
     "text": [
      "Evaluating: 100%|██████████| 27/27 [00:10<00:00,  2.52it/s]\n"
     ]
    },
    {
     "name": "stdout",
     "output_type": "stream",
     "text": [
      "\n",
      "======================================================================\n",
      "📝 VALIDATION - TEXT EXAMPLES:\n",
      "======================================================================\n",
      "\n",
      "Example 1:\n",
      "  Reference: 'he slowly takes a short walk in the open air each day.'\n",
      "  Predicted: 'he slowly takes a short walk in the open air each day.'\n",
      "  Disease: Normal → Normal ✓\n",
      "\n",
      "Example 2:\n",
      "  Reference: 'this is not a program of socialized medicine'\n",
      "  Predicted: 'this is not a program of socialized medicine'\n",
      "  Disease: Normal → Normal ✓\n",
      "\n",
      "Example 3:\n",
      "  Reference: 'the blue spot is on the key again.'\n",
      "  Predicted: 'the view spot is on the key again.'\n",
      "  Disease: Normal → Normal ✓\n",
      "\n",
      "Example 4:\n",
      "  Reference: 'they used an aggressive policeman to flag thoughtless motorists'\n",
      "  Predicted: 'they used an aggressive policeman to flag thoughtless motorists'\n",
      "  Disease: Normal → Normal ✓\n",
      "\n",
      "Example 5:\n",
      "  Reference: 'when you are through write a clean report.'\n",
      "  Predicted: 'when you are through write a clean report.'\n",
      "  Disease: Normal → Normal ✓\n",
      "======================================================================\n",
      "\n",
      "📊 VALIDATION METRICS:\n",
      "   Loss: 0.0642\n",
      "   Disease - Acc: 1.0000, F1: 1.0000\n",
      "   Disease - Prec: 1.0000, Rec: 1.0000\n",
      "   Speech  - WER: 0.0786, CER: 0.0562\n",
      "⏳ No improvement. Patience: 1/7\n",
      "\n",
      "==================================================\n",
      "EPOCH 18/50\n",
      "==================================================\n"
     ]
    },
    {
     "name": "stderr",
     "output_type": "stream",
     "text": [
      "Training Epoch 18:   0%|          | 0/109 [00:00<?, ?it/s]"
     ]
    },
    {
     "name": "stdout",
     "output_type": "stream",
     "text": [
      "\n",
      "=== METRICS DEBUG (Using EOT: 50256) ===\n",
      "Processing 16 samples...\n"
     ]
    },
    {
     "name": "stderr",
     "output_type": "stream",
     "text": [
      "Training Epoch 18:   1%|          | 1/109 [00:01<03:20,  1.86s/it]"
     ]
    },
    {
     "name": "stdout",
     "output_type": "stream",
     "text": [
      "Sample 0:\n",
      "  Pred: 'don't ask me to carry an oily rag like that...'\n",
      "  Ref:  'don't ask me to carry an oily rag like that...'\n",
      "Sample 1:\n",
      "  Pred: 'both figures would go higher in later years....'\n",
      "  Ref:  'both figures would go higher in later years....'\n",
      "Sample 2:\n",
      "  Pred: 'he played basketball there while working toward a ...'\n",
      "  Ref:  'he played basketball there while working toward a ...'\n",
      "\n",
      "Metrics computed (using proper Whisper tokens):\n",
      "  WER: 0.0000, CER: 0.0000\n",
      "  Disease Acc: 1.0000\n",
      "  Precision: 1.0000, Recall: 1.0000, F1: 1.0000\n",
      "==================================================\n",
      "\n",
      "=== METRICS DEBUG (Using EOT: 50256) ===\n",
      "Processing 16 samples...\n"
     ]
    },
    {
     "name": "stderr",
     "output_type": "stream",
     "text": [
      "Training Epoch 18:   2%|▏         | 2/109 [00:02<01:46,  1.01it/s]"
     ]
    },
    {
     "name": "stdout",
     "output_type": "stream",
     "text": [
      "Sample 0:\n",
      "  Pred: 'her position covers a number of daily tasks common...'\n",
      "  Ref:  'her position covers a number of daily tasks common...'\n",
      "Sample 1:\n",
      "  Pred: 'my sister made the flowered curtains....'\n",
      "  Ref:  'my sister made the flowered curtains....'\n",
      "Sample 2:\n",
      "  Pred: 'i was conscious all the time....'\n",
      "  Ref:  'i was conscious all the time....'\n",
      "\n",
      "Metrics computed (using proper Whisper tokens):\n",
      "  WER: 0.0000, CER: 0.0000\n",
      "  Disease Acc: 1.0000\n",
      "  Precision: 1.0000, Recall: 1.0000, F1: 1.0000\n",
      "==================================================\n"
     ]
    },
    {
     "name": "stderr",
     "output_type": "stream",
     "text": [
      "Training Epoch 18: 100%|██████████| 109/109 [01:23<00:00,  1.30it/s]\n"
     ]
    },
    {
     "name": "stdout",
     "output_type": "stream",
     "text": [
      "\n",
      "======================================================================\n",
      "📝 TRAINING EPOCH 18 - TEXT EXAMPLES:\n",
      "======================================================================\n",
      "\n",
      "Example 1:\n",
      "  Reference: 'don't ask me to carry an oily rag like that'\n",
      "  Predicted: 'don't ask me to carry an oily rag like that'\n",
      "  Disease: Dysarthria → Dysarthria ✓\n",
      "\n",
      "Example 2:\n",
      "  Reference: 'both figures would go higher in later years.'\n",
      "  Predicted: 'both figures would go higher in later years.'\n",
      "  Disease: Dysphonia → Dysphonia ✓\n",
      "\n",
      "Example 3:\n",
      "  Reference: 'he played basketball there while working toward a law degree.'\n",
      "  Predicted: 'he played basketball there while working toward a law degree.'\n",
      "  Disease: Normal → Normal ✓\n",
      "\n",
      "Example 4:\n",
      "  Reference: 'i looked up and noticed two old men.'\n",
      "  Predicted: 'i looked up and noticed two old men.'\n",
      "  Disease: Normal → Normal ✓\n",
      "\n",
      "Example 5:\n",
      "  Reference: 'if any of us miss they can pick up the pieces'\n",
      "  Predicted: 'if any of us miss they can pick up the pieces'\n",
      "  Disease: Normal → Normal ✓\n",
      "======================================================================\n",
      "\n",
      "📈 TRAINING METRICS:\n",
      "   Loss: 0.0028 (Cls: 0.0005, Trans: 0.0123)\n",
      "   Disease - Acc: 1.0000, F1: 1.0000\n",
      "   Disease - Prec: 1.0000, Rec: 1.0000\n",
      "   Speech  - WER: 0.0004, CER: 0.0004\n",
      "   Weights - α: 0.1957, β: 0.8043\n"
     ]
    },
    {
     "name": "stderr",
     "output_type": "stream",
     "text": [
      "Evaluating:   4%|▎         | 1/27 [00:01<00:28,  1.11s/it]"
     ]
    },
    {
     "name": "stdout",
     "output_type": "stream",
     "text": [
      "\n",
      "=== METRICS DEBUG (Using EOT: 50256) ===\n",
      "Processing 8 samples...\n",
      "Sample 0:\n",
      "  Pred: 'he slowly takes a short walk in the open air each ...'\n",
      "  Ref:  'he slowly takes a short walk in the open air each ...'\n",
      "Sample 1:\n",
      "  Pred: 'this is not a program of socialized medicine...'\n",
      "  Ref:  'this is not a program of socialized medicine...'\n",
      "Sample 2:\n",
      "  Pred: 'the view spot is on the key again....'\n",
      "  Ref:  'the blue spot is on the key again....'\n",
      "\n",
      "Metrics computed (using proper Whisper tokens):\n",
      "  WER: 0.0133, CER: 0.0098\n",
      "  Disease Acc: 1.0000\n",
      "  Precision: 1.0000, Recall: 1.0000, F1: 1.0000\n",
      "==================================================\n",
      "\n",
      "=== METRICS DEBUG (Using EOT: 50256) ===\n",
      "Processing 8 samples...\n",
      "Sample 0:\n",
      "  Pred: 'it also provides for funds to clear slums and help...'\n",
      "  Ref:  'it also provides for funds to clear slums and help...'\n",
      "Sample 1:\n",
      "  Pred: 'there is definitely some ligament damage in his kn...'\n",
      "  Ref:  'there is definitely some ligament damage in his kn...'\n",
      "Sample 2:\n",
      "  Pred: 'un unoccupied roadway the bottle shattered into a ...'\n",
      "  Ref:  'on unoccupied roadway the bottle shattered into a ...'\n",
      "\n",
      "Metrics computed (using proper Whisper tokens):\n",
      "  WER: 0.0400, CER: 0.0096\n",
      "  Disease Acc: 1.0000\n",
      "  Precision: 1.0000, Recall: 1.0000, F1: 1.0000\n",
      "==================================================\n"
     ]
    },
    {
     "name": "stderr",
     "output_type": "stream",
     "text": [
      "Evaluating: 100%|██████████| 27/27 [00:10<00:00,  2.48it/s]\n"
     ]
    },
    {
     "name": "stdout",
     "output_type": "stream",
     "text": [
      "\n",
      "======================================================================\n",
      "📝 VALIDATION - TEXT EXAMPLES:\n",
      "======================================================================\n",
      "\n",
      "Example 1:\n",
      "  Reference: 'he slowly takes a short walk in the open air each day.'\n",
      "  Predicted: 'he slowly takes a short walk in the open air each day.'\n",
      "  Disease: Normal → Normal ✓\n",
      "\n",
      "Example 2:\n",
      "  Reference: 'this is not a program of socialized medicine'\n",
      "  Predicted: 'this is not a program of socialized medicine'\n",
      "  Disease: Normal → Normal ✓\n",
      "\n",
      "Example 3:\n",
      "  Reference: 'the blue spot is on the key again.'\n",
      "  Predicted: 'the view spot is on the key again.'\n",
      "  Disease: Normal → Normal ✓\n",
      "\n",
      "Example 4:\n",
      "  Reference: 'they used an aggressive policeman to flag thoughtless motorists'\n",
      "  Predicted: 'they used an aggressive policeman to flag thoughtless motorists'\n",
      "  Disease: Normal → Normal ✓\n",
      "\n",
      "Example 5:\n",
      "  Reference: 'when you are through write a clean report.'\n",
      "  Predicted: 'when you are through write a clean report.'\n",
      "  Disease: Normal → Normal ✓\n",
      "======================================================================\n",
      "\n",
      "📊 VALIDATION METRICS:\n",
      "   Loss: 0.0621\n",
      "   Disease - Acc: 1.0000, F1: 1.0000\n",
      "   Disease - Prec: 1.0000, Rec: 1.0000\n",
      "   Speech  - WER: 0.0782, CER: 0.0562\n",
      "✅ Best model saved: ../checkpoints_exp/checkpoints_base.en_encoder_learning/best_multitask_model_base.en.pt\n",
      "\n",
      "==================================================\n",
      "EPOCH 19/50\n",
      "==================================================\n"
     ]
    },
    {
     "name": "stderr",
     "output_type": "stream",
     "text": [
      "Training Epoch 19:   0%|          | 0/109 [00:00<?, ?it/s]"
     ]
    },
    {
     "name": "stdout",
     "output_type": "stream",
     "text": [
      "\n",
      "=== METRICS DEBUG (Using EOT: 50256) ===\n",
      "Processing 16 samples...\n"
     ]
    },
    {
     "name": "stderr",
     "output_type": "stream",
     "text": [
      "Training Epoch 19:   1%|          | 1/109 [00:01<03:34,  1.99s/it]"
     ]
    },
    {
     "name": "stdout",
     "output_type": "stream",
     "text": [
      "Sample 0:\n",
      "  Pred: 'we gathered shells on the beach....'\n",
      "  Ref:  'we gathered shells on the beach....'\n",
      "Sample 1:\n",
      "  Pred: 'the little schoolhouse stood empty....'\n",
      "  Ref:  'the little schoolhouse stood empty....'\n",
      "Sample 2:\n",
      "  Pred: 'to keep 'em scattered somewhat and yet herd 'em wa...'\n",
      "  Ref:  'to keep 'em scattered somewhat and yet herd 'em wa...'\n",
      "\n",
      "Metrics computed (using proper Whisper tokens):\n",
      "  WER: 0.0000, CER: 0.0000\n",
      "  Disease Acc: 1.0000\n",
      "  Precision: 1.0000, Recall: 1.0000, F1: 1.0000\n",
      "==================================================\n",
      "\n",
      "=== METRICS DEBUG (Using EOT: 50256) ===\n",
      "Processing 16 samples...\n"
     ]
    },
    {
     "name": "stderr",
     "output_type": "stream",
     "text": [
      "Training Epoch 19:   2%|▏         | 2/109 [00:02<01:46,  1.01it/s]"
     ]
    },
    {
     "name": "stdout",
     "output_type": "stream",
     "text": [
      "Sample 0:\n",
      "  Pred: 'she had your dark suit in greasy wash water all ye...'\n",
      "  Ref:  'she had your dark suit in greasy wash water all ye...'\n",
      "Sample 1:\n",
      "  Pred: 'you wished to know all about my grandfather....'\n",
      "  Ref:  'you wished to know all about my grandfather....'\n",
      "Sample 2:\n",
      "  Pred: 'i tried to tell people in the community....'\n",
      "  Ref:  'i tried to tell people in the community....'\n",
      "\n",
      "Metrics computed (using proper Whisper tokens):\n",
      "  WER: 0.0000, CER: 0.0000\n",
      "  Disease Acc: 1.0000\n",
      "  Precision: 1.0000, Recall: 1.0000, F1: 1.0000\n",
      "==================================================\n"
     ]
    },
    {
     "name": "stderr",
     "output_type": "stream",
     "text": [
      "Training Epoch 19: 100%|██████████| 109/109 [01:23<00:00,  1.31it/s]\n"
     ]
    },
    {
     "name": "stdout",
     "output_type": "stream",
     "text": [
      "\n",
      "======================================================================\n",
      "📝 TRAINING EPOCH 19 - TEXT EXAMPLES:\n",
      "======================================================================\n",
      "\n",
      "Example 1:\n",
      "  Reference: 'we gathered shells on the beach.'\n",
      "  Predicted: 'we gathered shells on the beach.'\n",
      "  Disease: Dysphonia → Dysphonia ✓\n",
      "\n",
      "Example 2:\n",
      "  Reference: 'the little schoolhouse stood empty.'\n",
      "  Predicted: 'the little schoolhouse stood empty.'\n",
      "  Disease: Dysphonia → Dysphonia ✓\n",
      "\n",
      "Example 3:\n",
      "  Reference: 'to keep 'em scattered somewhat and yet herd 'em was called loose herdin''\n",
      "  Predicted: 'to keep 'em scattered somewhat and yet herd 'em was called loose herdin''\n",
      "  Disease: Normal → Normal ✓\n",
      "\n",
      "Example 4:\n",
      "  Reference: 'the dolphins swam around our boat.'\n",
      "  Predicted: 'the dolphins swam around our boat.'\n",
      "  Disease: Dysphonia → Dysphonia ✓\n",
      "\n",
      "Example 5:\n",
      "  Reference: 'within a system however the autonomy of each member library is preserved'\n",
      "  Predicted: 'within a system however the autonomy of each member library is preserved'\n",
      "  Disease: Dysarthria → Dysarthria ✓\n",
      "======================================================================\n",
      "\n",
      "📈 TRAINING METRICS:\n",
      "   Loss: 0.0024 (Cls: 0.0004, Trans: 0.0104)\n",
      "   Disease - Acc: 1.0000, F1: 1.0000\n",
      "   Disease - Prec: 1.0000, Rec: 1.0000\n",
      "   Speech  - WER: 0.0005, CER: 0.0004\n",
      "   Weights - α: 0.1957, β: 0.8043\n"
     ]
    },
    {
     "name": "stderr",
     "output_type": "stream",
     "text": [
      "Evaluating:   4%|▎         | 1/27 [00:00<00:24,  1.05it/s]"
     ]
    },
    {
     "name": "stdout",
     "output_type": "stream",
     "text": [
      "\n",
      "=== METRICS DEBUG (Using EOT: 50256) ===\n",
      "Processing 8 samples...\n",
      "Sample 0:\n",
      "  Pred: 'he slowly takes a short walk in the open air each ...'\n",
      "  Ref:  'he slowly takes a short walk in the open air each ...'\n",
      "Sample 1:\n",
      "  Pred: 'this is not a program of socialized medicine...'\n",
      "  Ref:  'this is not a program of socialized medicine...'\n",
      "Sample 2:\n",
      "  Pred: 'the view spot is on the key again....'\n",
      "  Ref:  'the blue spot is on the key again....'\n",
      "\n",
      "Metrics computed (using proper Whisper tokens):\n",
      "  WER: 0.0133, CER: 0.0098\n",
      "  Disease Acc: 1.0000\n",
      "  Precision: 1.0000, Recall: 1.0000, F1: 1.0000\n",
      "==================================================\n",
      "\n",
      "=== METRICS DEBUG (Using EOT: 50256) ===\n",
      "Processing 8 samples...\n",
      "Sample 0:\n",
      "  Pred: 'it also provides for funds to clear slums and help...'\n",
      "  Ref:  'it also provides for funds to clear slums and help...'\n",
      "Sample 1:\n",
      "  Pred: 'there is definitely some ligament damage in his kn...'\n",
      "  Ref:  'there is definitely some ligament damage in his kn...'\n",
      "Sample 2:\n",
      "  Pred: 'un unoccupied roadway the bottle shattered into a ...'\n",
      "  Ref:  'on unoccupied roadway the bottle shattered into a ...'\n",
      "\n",
      "Metrics computed (using proper Whisper tokens):\n",
      "  WER: 0.0267, CER: 0.0048\n",
      "  Disease Acc: 1.0000\n",
      "  Precision: 1.0000, Recall: 1.0000, F1: 1.0000\n",
      "==================================================\n"
     ]
    },
    {
     "name": "stderr",
     "output_type": "stream",
     "text": [
      "Evaluating: 100%|██████████| 27/27 [00:10<00:00,  2.51it/s]\n"
     ]
    },
    {
     "name": "stdout",
     "output_type": "stream",
     "text": [
      "\n",
      "======================================================================\n",
      "📝 VALIDATION - TEXT EXAMPLES:\n",
      "======================================================================\n",
      "\n",
      "Example 1:\n",
      "  Reference: 'he slowly takes a short walk in the open air each day.'\n",
      "  Predicted: 'he slowly takes a short walk in the open air each day.'\n",
      "  Disease: Normal → Normal ✓\n",
      "\n",
      "Example 2:\n",
      "  Reference: 'this is not a program of socialized medicine'\n",
      "  Predicted: 'this is not a program of socialized medicine'\n",
      "  Disease: Normal → Normal ✓\n",
      "\n",
      "Example 3:\n",
      "  Reference: 'the blue spot is on the key again.'\n",
      "  Predicted: 'the view spot is on the key again.'\n",
      "  Disease: Normal → Normal ✓\n",
      "\n",
      "Example 4:\n",
      "  Reference: 'they used an aggressive policeman to flag thoughtless motorists'\n",
      "  Predicted: 'they used an aggressive policeman to flag thoughtless motorists'\n",
      "  Disease: Normal → Normal ✓\n",
      "\n",
      "Example 5:\n",
      "  Reference: 'when you are through write a clean report.'\n",
      "  Predicted: 'when you are through write a clean report.'\n",
      "  Disease: Normal → Normal ✓\n",
      "======================================================================\n",
      "\n",
      "📊 VALIDATION METRICS:\n",
      "   Loss: 0.0617\n",
      "   Disease - Acc: 1.0000, F1: 1.0000\n",
      "   Disease - Prec: 1.0000, Rec: 1.0000\n",
      "   Speech  - WER: 0.0792, CER: 0.0573\n",
      "✅ Best model saved: ../checkpoints_exp/checkpoints_base.en_encoder_learning/best_multitask_model_base.en.pt\n",
      "\n",
      "==================================================\n",
      "EPOCH 20/50\n",
      "==================================================\n"
     ]
    },
    {
     "name": "stderr",
     "output_type": "stream",
     "text": [
      "Training Epoch 20:   0%|          | 0/109 [00:00<?, ?it/s]"
     ]
    },
    {
     "name": "stdout",
     "output_type": "stream",
     "text": [
      "\n",
      "=== METRICS DEBUG (Using EOT: 50256) ===\n",
      "Processing 16 samples...\n",
      "Sample 0:\n",
      "  Pred: 'those people are much quicker than i am....'\n",
      "  Ref:  'those people are much quicker than i am....'\n",
      "Sample 1:\n",
      "  Pred: 'she had your dark suit in greasy wash water all ye...'\n",
      "  Ref:  'she had your dark suit in greasy wash water all ye...'\n",
      "Sample 2:\n",
      "  Pred: 'chocolate and roses never fail as a romantic gift....'\n",
      "  Ref:  'chocolate and roses never fail as a romantic gift....'\n"
     ]
    },
    {
     "name": "stderr",
     "output_type": "stream",
     "text": [
      "Training Epoch 20:   1%|          | 1/109 [00:01<03:28,  1.93s/it]"
     ]
    },
    {
     "name": "stdout",
     "output_type": "stream",
     "text": [
      "\n",
      "Metrics computed (using proper Whisper tokens):\n",
      "  WER: 0.0000, CER: 0.0000\n",
      "  Disease Acc: 1.0000\n",
      "  Precision: 1.0000, Recall: 1.0000, F1: 1.0000\n",
      "==================================================\n",
      "\n",
      "=== METRICS DEBUG (Using EOT: 50256) ===\n",
      "Processing 16 samples...\n"
     ]
    },
    {
     "name": "stderr",
     "output_type": "stream",
     "text": [
      "Training Epoch 20:   2%|▏         | 2/109 [00:02<01:49,  1.03s/it]"
     ]
    },
    {
     "name": "stdout",
     "output_type": "stream",
     "text": [
      "Sample 0:\n",
      "  Pred: 'his election on the other hand would unquestionabl...'\n",
      "  Ref:  'his election on the other hand would unquestionabl...'\n",
      "Sample 1:\n",
      "  Pred: 'the dolphins swam around our boat....'\n",
      "  Ref:  'the dolphins swam around our boat....'\n",
      "Sample 2:\n",
      "  Pred: 'she is thinner than i am....'\n",
      "  Ref:  'she is thinner than i am....'\n",
      "\n",
      "Metrics computed (using proper Whisper tokens):\n",
      "  WER: 0.0000, CER: 0.0000\n",
      "  Disease Acc: 1.0000\n",
      "  Precision: 1.0000, Recall: 1.0000, F1: 1.0000\n",
      "==================================================\n"
     ]
    },
    {
     "name": "stderr",
     "output_type": "stream",
     "text": [
      "Training Epoch 20: 100%|██████████| 109/109 [01:24<00:00,  1.30it/s]\n"
     ]
    },
    {
     "name": "stdout",
     "output_type": "stream",
     "text": [
      "\n",
      "======================================================================\n",
      "📝 TRAINING EPOCH 20 - TEXT EXAMPLES:\n",
      "======================================================================\n",
      "\n",
      "Example 1:\n",
      "  Reference: 'those people are much quicker than i am.'\n",
      "  Predicted: 'those people are much quicker than i am.'\n",
      "  Disease: Normal → Normal ✓\n",
      "\n",
      "Example 2:\n",
      "  Reference: 'she had your dark suit in greasy wash water all year'\n",
      "  Predicted: 'she had your dark suit in greasy wash water all year'\n",
      "  Disease: Dysarthria → Dysarthria ✓\n",
      "\n",
      "Example 3:\n",
      "  Reference: 'chocolate and roses never fail as a romantic gift.'\n",
      "  Predicted: 'chocolate and roses never fail as a romantic gift.'\n",
      "  Disease: Normal → Normal ✓\n",
      "\n",
      "Example 4:\n",
      "  Reference: 'day after day some new episode is reported.'\n",
      "  Predicted: 'day after day some new episode is reported.'\n",
      "  Disease: Normal → Normal ✓\n",
      "\n",
      "Example 5:\n",
      "  Reference: 'he took his mask from his forehead and threw it unexpectedly across the deck'\n",
      "  Predicted: 'he took his mask from his forehead and threw it unexpectedly across the deck'\n",
      "  Disease: Dysarthria → Dysarthria ✓\n",
      "======================================================================\n",
      "\n",
      "📈 TRAINING METRICS:\n",
      "   Loss: 0.0020 (Cls: 0.0004, Trans: 0.0089)\n",
      "   Disease - Acc: 1.0000, F1: 1.0000\n",
      "   Disease - Prec: 1.0000, Rec: 1.0000\n",
      "   Speech  - WER: 0.0004, CER: 0.0003\n",
      "   Weights - α: 0.1957, β: 0.8043\n"
     ]
    },
    {
     "name": "stderr",
     "output_type": "stream",
     "text": [
      "Evaluating:   7%|▋         | 2/27 [00:01<00:12,  2.08it/s]"
     ]
    },
    {
     "name": "stdout",
     "output_type": "stream",
     "text": [
      "\n",
      "=== METRICS DEBUG (Using EOT: 50256) ===\n",
      "Processing 8 samples...\n",
      "Sample 0:\n",
      "  Pred: 'he slowly takes a short walk in the open air each ...'\n",
      "  Ref:  'he slowly takes a short walk in the open air each ...'\n",
      "Sample 1:\n",
      "  Pred: 'this is not a program of socialized medicine...'\n",
      "  Ref:  'this is not a program of socialized medicine...'\n",
      "Sample 2:\n",
      "  Pred: 'the view spot is on the key again....'\n",
      "  Ref:  'the blue spot is on the key again....'\n",
      "\n",
      "Metrics computed (using proper Whisper tokens):\n",
      "  WER: 0.0133, CER: 0.0098\n",
      "  Disease Acc: 1.0000\n",
      "  Precision: 1.0000, Recall: 1.0000, F1: 1.0000\n",
      "==================================================\n",
      "\n",
      "=== METRICS DEBUG (Using EOT: 50256) ===\n",
      "Processing 8 samples...\n",
      "Sample 0:\n",
      "  Pred: 'it also provides for funds to clear slums and help...'\n",
      "  Ref:  'it also provides for funds to clear slums and help...'\n",
      "Sample 1:\n",
      "  Pred: 'there is definitely some ligament damage in his kn...'\n",
      "  Ref:  'there is definitely some ligament damage in his kn...'\n",
      "Sample 2:\n",
      "  Pred: 'un unoccupied roadway the bottle shattered into a ...'\n",
      "  Ref:  'on unoccupied roadway the bottle shattered into a ...'\n",
      "\n",
      "Metrics computed (using proper Whisper tokens):\n",
      "  WER: 0.0267, CER: 0.0048\n",
      "  Disease Acc: 1.0000\n",
      "  Precision: 1.0000, Recall: 1.0000, F1: 1.0000\n",
      "==================================================\n"
     ]
    },
    {
     "name": "stderr",
     "output_type": "stream",
     "text": [
      "Evaluating: 100%|██████████| 27/27 [00:10<00:00,  2.52it/s]\n"
     ]
    },
    {
     "name": "stdout",
     "output_type": "stream",
     "text": [
      "\n",
      "======================================================================\n",
      "📝 VALIDATION - TEXT EXAMPLES:\n",
      "======================================================================\n",
      "\n",
      "Example 1:\n",
      "  Reference: 'he slowly takes a short walk in the open air each day.'\n",
      "  Predicted: 'he slowly takes a short walk in the open air each day.'\n",
      "  Disease: Normal → Normal ✓\n",
      "\n",
      "Example 2:\n",
      "  Reference: 'this is not a program of socialized medicine'\n",
      "  Predicted: 'this is not a program of socialized medicine'\n",
      "  Disease: Normal → Normal ✓\n",
      "\n",
      "Example 3:\n",
      "  Reference: 'the blue spot is on the key again.'\n",
      "  Predicted: 'the view spot is on the key again.'\n",
      "  Disease: Normal → Normal ✓\n",
      "\n",
      "Example 4:\n",
      "  Reference: 'they used an aggressive policeman to flag thoughtless motorists'\n",
      "  Predicted: 'they used an aggressive policeman to flag thoughtless motorists'\n",
      "  Disease: Normal → Normal ✓\n",
      "\n",
      "Example 5:\n",
      "  Reference: 'when you are through write a clean report.'\n",
      "  Predicted: 'when you are through write a clean report.'\n",
      "  Disease: Normal → Normal ✓\n",
      "======================================================================\n",
      "\n",
      "📊 VALIDATION METRICS:\n",
      "   Loss: 0.0610\n",
      "   Disease - Acc: 1.0000, F1: 1.0000\n",
      "   Disease - Prec: 1.0000, Rec: 1.0000\n",
      "   Speech  - WER: 0.0792, CER: 0.0570\n",
      "✅ Best model saved: ../checkpoints_exp/checkpoints_base.en_encoder_learning/best_multitask_model_base.en.pt\n",
      "\n",
      "==================================================\n",
      "EPOCH 21/50\n",
      "==================================================\n"
     ]
    },
    {
     "name": "stderr",
     "output_type": "stream",
     "text": [
      "Training Epoch 21:   0%|          | 0/109 [00:00<?, ?it/s]"
     ]
    },
    {
     "name": "stdout",
     "output_type": "stream",
     "text": [
      "\n",
      "=== METRICS DEBUG (Using EOT: 50256) ===\n",
      "Processing 16 samples...\n"
     ]
    },
    {
     "name": "stderr",
     "output_type": "stream",
     "text": [
      "Training Epoch 21:   1%|          | 1/109 [00:02<03:38,  2.02s/it]"
     ]
    },
    {
     "name": "stdout",
     "output_type": "stream",
     "text": [
      "Sample 0:\n",
      "  Pred: 'soon the office work claimed all her time...'\n",
      "  Ref:  'soon the office work claimed all her time...'\n",
      "Sample 1:\n",
      "  Pred: 'if you destroy confidence in banks you do somethin...'\n",
      "  Ref:  'if you destroy confidence in banks you do somethin...'\n",
      "Sample 2:\n",
      "  Pred: 'high so it only bounce harmlessly but loudly off a...'\n",
      "  Ref:  'high so it only bounce harmlessly but loudly off a...'\n",
      "\n",
      "Metrics computed (using proper Whisper tokens):\n",
      "  WER: 0.0000, CER: 0.0000\n",
      "  Disease Acc: 1.0000\n",
      "  Precision: 1.0000, Recall: 1.0000, F1: 1.0000\n",
      "==================================================\n",
      "\n",
      "=== METRICS DEBUG (Using EOT: 50256) ===\n",
      "Processing 16 samples...\n"
     ]
    },
    {
     "name": "stderr",
     "output_type": "stream",
     "text": [
      "Training Epoch 21:   2%|▏         | 2/109 [00:02<01:45,  1.01it/s]"
     ]
    },
    {
     "name": "stdout",
     "output_type": "stream",
     "text": [
      "Sample 0:\n",
      "  Pred: 'carl lives in a lively home....'\n",
      "  Ref:  'carl lives in a lively home....'\n",
      "Sample 1:\n",
      "  Pred: 'grandfather likes to be modern in his language....'\n",
      "  Ref:  'grandfather likes to be modern in his language....'\n",
      "Sample 2:\n",
      "  Pred: 'it's hard to tell an original from a forgery....'\n",
      "  Ref:  'it's hard to tell an original from a forgery....'\n",
      "\n",
      "Metrics computed (using proper Whisper tokens):\n",
      "  WER: 0.0000, CER: 0.0000\n",
      "  Disease Acc: 1.0000\n",
      "  Precision: 1.0000, Recall: 1.0000, F1: 1.0000\n",
      "==================================================\n"
     ]
    },
    {
     "name": "stderr",
     "output_type": "stream",
     "text": [
      "Training Epoch 21: 100%|██████████| 109/109 [01:25<00:00,  1.28it/s]\n"
     ]
    },
    {
     "name": "stdout",
     "output_type": "stream",
     "text": [
      "\n",
      "======================================================================\n",
      "📝 TRAINING EPOCH 21 - TEXT EXAMPLES:\n",
      "======================================================================\n",
      "\n",
      "Example 1:\n",
      "  Reference: 'soon the office work claimed all her time'\n",
      "  Predicted: 'soon the office work claimed all her time'\n",
      "  Disease: Normal → Normal ✓\n",
      "\n",
      "Example 2:\n",
      "  Reference: 'if you destroy confidence in banks you do something to the economy he said.'\n",
      "  Predicted: 'if you destroy confidence in banks you do something to the economy he said.'\n",
      "  Disease: Normal → Normal ✓\n",
      "\n",
      "Example 3:\n",
      "  Reference: 'high so it only bounce harmlessly but loudly off a car's steel roof'\n",
      "  Predicted: 'high so it only bounce harmlessly but loudly off a car's steel roof'\n",
      "  Disease: Dysarthria → Dysarthria ✓\n",
      "\n",
      "Example 4:\n",
      "  Reference: 'the job provides many benefits.'\n",
      "  Predicted: 'the job provides many benefits.'\n",
      "  Disease: Dysphonia → Dysphonia ✓\n",
      "\n",
      "Example 5:\n",
      "  Reference: 'internal national responsibility now a truism need not be documented'\n",
      "  Predicted: 'internal national responsibility now a truism need not be documented'\n",
      "  Disease: Dysarthria → Dysarthria ✓\n",
      "======================================================================\n",
      "\n",
      "📈 TRAINING METRICS:\n",
      "   Loss: 0.0018 (Cls: 0.0003, Trans: 0.0078)\n",
      "   Disease - Acc: 1.0000, F1: 1.0000\n",
      "   Disease - Prec: 1.0000, Rec: 1.0000\n",
      "   Speech  - WER: 0.0003, CER: 0.0002\n",
      "   Weights - α: 0.1957, β: 0.8043\n"
     ]
    },
    {
     "name": "stderr",
     "output_type": "stream",
     "text": [
      "Evaluating:   4%|▎         | 1/27 [00:00<00:24,  1.07it/s]"
     ]
    },
    {
     "name": "stdout",
     "output_type": "stream",
     "text": [
      "\n",
      "=== METRICS DEBUG (Using EOT: 50256) ===\n",
      "Processing 8 samples...\n",
      "Sample 0:\n",
      "  Pred: 'he slowly takes a short walk in the open air each ...'\n",
      "  Ref:  'he slowly takes a short walk in the open air each ...'\n",
      "Sample 1:\n",
      "  Pred: 'this is not a program of socialized medicine...'\n",
      "  Ref:  'this is not a program of socialized medicine...'\n",
      "Sample 2:\n",
      "  Pred: 'the view spot is on the key again....'\n",
      "  Ref:  'the blue spot is on the key again....'\n",
      "\n",
      "Metrics computed (using proper Whisper tokens):\n",
      "  WER: 0.0133, CER: 0.0098\n",
      "  Disease Acc: 1.0000\n",
      "  Precision: 1.0000, Recall: 1.0000, F1: 1.0000\n",
      "==================================================\n",
      "\n",
      "=== METRICS DEBUG (Using EOT: 50256) ===\n",
      "Processing 8 samples...\n",
      "Sample 0:\n",
      "  Pred: 'it also provides for funds to clear slums and help...'\n",
      "  Ref:  'it also provides for funds to clear slums and help...'\n",
      "Sample 1:\n",
      "  Pred: 'there is definitely some ligament damage in his kn...'\n",
      "  Ref:  'there is definitely some ligament damage in his kn...'\n",
      "Sample 2:\n",
      "  Pred: 'un unoccupied roadway the bottle shattered into a ...'\n",
      "  Ref:  'on unoccupied roadway the bottle shattered into a ...'\n",
      "\n",
      "Metrics computed (using proper Whisper tokens):\n",
      "  WER: 0.0267, CER: 0.0048\n",
      "  Disease Acc: 1.0000\n",
      "  Precision: 1.0000, Recall: 1.0000, F1: 1.0000\n",
      "==================================================\n"
     ]
    },
    {
     "name": "stderr",
     "output_type": "stream",
     "text": [
      "Evaluating: 100%|██████████| 27/27 [00:10<00:00,  2.48it/s]\n"
     ]
    },
    {
     "name": "stdout",
     "output_type": "stream",
     "text": [
      "\n",
      "======================================================================\n",
      "📝 VALIDATION - TEXT EXAMPLES:\n",
      "======================================================================\n",
      "\n",
      "Example 1:\n",
      "  Reference: 'he slowly takes a short walk in the open air each day.'\n",
      "  Predicted: 'he slowly takes a short walk in the open air each day.'\n",
      "  Disease: Normal → Normal ✓\n",
      "\n",
      "Example 2:\n",
      "  Reference: 'this is not a program of socialized medicine'\n",
      "  Predicted: 'this is not a program of socialized medicine'\n",
      "  Disease: Normal → Normal ✓\n",
      "\n",
      "Example 3:\n",
      "  Reference: 'the blue spot is on the key again.'\n",
      "  Predicted: 'the view spot is on the key again.'\n",
      "  Disease: Normal → Normal ✓\n",
      "\n",
      "Example 4:\n",
      "  Reference: 'they used an aggressive policeman to flag thoughtless motorists'\n",
      "  Predicted: 'they used an aggressive policeman to flag thoughtless motorists'\n",
      "  Disease: Normal → Normal ✓\n",
      "\n",
      "Example 5:\n",
      "  Reference: 'when you are through write a clean report.'\n",
      "  Predicted: 'when you are through write a clean report.'\n",
      "  Disease: Normal → Normal ✓\n",
      "======================================================================\n",
      "\n",
      "📊 VALIDATION METRICS:\n",
      "   Loss: 0.0605\n",
      "   Disease - Acc: 1.0000, F1: 1.0000\n",
      "   Disease - Prec: 1.0000, Rec: 1.0000\n",
      "   Speech  - WER: 0.0770, CER: 0.0552\n",
      "✅ Best model saved: ../checkpoints_exp/checkpoints_base.en_encoder_learning/best_multitask_model_base.en.pt\n",
      "\n",
      "==================================================\n",
      "EPOCH 22/50\n",
      "==================================================\n"
     ]
    },
    {
     "name": "stderr",
     "output_type": "stream",
     "text": [
      "Training Epoch 22:   0%|          | 0/109 [00:00<?, ?it/s]"
     ]
    },
    {
     "name": "stdout",
     "output_type": "stream",
     "text": [
      "\n",
      "=== METRICS DEBUG (Using EOT: 50256) ===\n",
      "Processing 16 samples...\n"
     ]
    },
    {
     "name": "stderr",
     "output_type": "stream",
     "text": [
      "Training Epoch 22:   1%|          | 1/109 [00:02<03:45,  2.08s/it]"
     ]
    },
    {
     "name": "stdout",
     "output_type": "stream",
     "text": [
      "Sample 0:\n",
      "  Pred: 'nothing is as offensive as innocence....'\n",
      "  Ref:  'nothing is as offensive as innocence....'\n",
      "Sample 1:\n",
      "  Pred: 'you do that or take you out a permit right now...'\n",
      "  Ref:  'you do that or take you out a permit right now...'\n",
      "Sample 2:\n",
      "  Pred: 'the overweight charmer could slip poison into anyo...'\n",
      "  Ref:  'the overweight charmer could slip poison into anyo...'\n",
      "\n",
      "Metrics computed (using proper Whisper tokens):\n",
      "  WER: 0.0000, CER: 0.0000\n",
      "  Disease Acc: 1.0000\n",
      "  Precision: 1.0000, Recall: 1.0000, F1: 1.0000\n",
      "==================================================\n",
      "\n",
      "=== METRICS DEBUG (Using EOT: 50256) ===\n",
      "Processing 16 samples...\n"
     ]
    },
    {
     "name": "stderr",
     "output_type": "stream",
     "text": [
      "Training Epoch 22:   2%|▏         | 2/109 [00:02<01:47,  1.00s/it]"
     ]
    },
    {
     "name": "stdout",
     "output_type": "stream",
     "text": [
      "Sample 0:\n",
      "  Pred: 'just one side got wet....'\n",
      "  Ref:  'just one side got wet....'\n",
      "Sample 1:\n",
      "  Pred: 'we have often urged him to walk more and smoke les...'\n",
      "  Ref:  'we have often urged him to walk more and smoke les...'\n",
      "Sample 2:\n",
      "  Pred: 'you do that or take you out a permit right now...'\n",
      "  Ref:  'you do that or take you out a permit right now...'\n",
      "\n",
      "Metrics computed (using proper Whisper tokens):\n",
      "  WER: 0.0000, CER: 0.0000\n",
      "  Disease Acc: 1.0000\n",
      "  Precision: 1.0000, Recall: 1.0000, F1: 1.0000\n",
      "==================================================\n"
     ]
    },
    {
     "name": "stderr",
     "output_type": "stream",
     "text": [
      "Training Epoch 22: 100%|██████████| 109/109 [01:22<00:00,  1.32it/s]\n"
     ]
    },
    {
     "name": "stdout",
     "output_type": "stream",
     "text": [
      "\n",
      "======================================================================\n",
      "📝 TRAINING EPOCH 22 - TEXT EXAMPLES:\n",
      "======================================================================\n",
      "\n",
      "Example 1:\n",
      "  Reference: 'nothing is as offensive as innocence.'\n",
      "  Predicted: 'nothing is as offensive as innocence.'\n",
      "  Disease: Dysphonia → Dysphonia ✓\n",
      "\n",
      "Example 2:\n",
      "  Reference: 'you do that or take you out a permit right now'\n",
      "  Predicted: 'you do that or take you out a permit right now'\n",
      "  Disease: Dysarthria → Dysarthria ✓\n",
      "\n",
      "Example 3:\n",
      "  Reference: 'the overweight charmer could slip poison into anyone's tea'\n",
      "  Predicted: 'the overweight charmer could slip poison into anyone's tea'\n",
      "  Disease: Normal → Normal ✓\n",
      "\n",
      "Example 4:\n",
      "  Reference: 'high so it only bounce harmlessly but loudly off a car's steel roof'\n",
      "  Predicted: 'high so it only bounce harmlessly but loudly off a car's steel roof'\n",
      "  Disease: Dysarthria → Dysarthria ✓\n",
      "\n",
      "Example 5:\n",
      "  Reference: 'you do that or take you out a permit right now'\n",
      "  Predicted: 'you do that or take you out a permit right now'\n",
      "  Disease: Dysarthria → Dysarthria ✓\n",
      "======================================================================\n",
      "\n",
      "📈 TRAINING METRICS:\n",
      "   Loss: 0.0016 (Cls: 0.0003, Trans: 0.0068)\n",
      "   Disease - Acc: 1.0000, F1: 1.0000\n",
      "   Disease - Prec: 1.0000, Rec: 1.0000\n",
      "   Speech  - WER: 0.0004, CER: 0.0003\n",
      "   Weights - α: 0.1957, β: 0.8043\n"
     ]
    },
    {
     "name": "stderr",
     "output_type": "stream",
     "text": [
      "Evaluating:   4%|▎         | 1/27 [00:00<00:24,  1.05it/s]"
     ]
    },
    {
     "name": "stdout",
     "output_type": "stream",
     "text": [
      "\n",
      "=== METRICS DEBUG (Using EOT: 50256) ===\n",
      "Processing 8 samples...\n",
      "Sample 0:\n",
      "  Pred: 'he slowly takes a short walk in the open air each ...'\n",
      "  Ref:  'he slowly takes a short walk in the open air each ...'\n",
      "Sample 1:\n",
      "  Pred: 'this is not a program of socialized medicine...'\n",
      "  Ref:  'this is not a program of socialized medicine...'\n",
      "Sample 2:\n",
      "  Pred: 'the view spot is on the key again....'\n",
      "  Ref:  'the blue spot is on the key again....'\n",
      "\n",
      "Metrics computed (using proper Whisper tokens):\n",
      "  WER: 0.0133, CER: 0.0098\n",
      "  Disease Acc: 1.0000\n",
      "  Precision: 1.0000, Recall: 1.0000, F1: 1.0000\n",
      "==================================================\n",
      "\n",
      "=== METRICS DEBUG (Using EOT: 50256) ===\n",
      "Processing 8 samples...\n",
      "Sample 0:\n",
      "  Pred: 'it also provides for funds to clear slums and help...'\n",
      "  Ref:  'it also provides for funds to clear slums and help...'\n",
      "Sample 1:\n",
      "  Pred: 'there is definitely some ligament damage in his kn...'\n",
      "  Ref:  'there is definitely some ligament damage in his kn...'\n",
      "Sample 2:\n",
      "  Pred: 'un unoccupied roadway the bottle shattered into a ...'\n",
      "  Ref:  'on unoccupied roadway the bottle shattered into a ...'\n",
      "\n",
      "Metrics computed (using proper Whisper tokens):\n",
      "  WER: 0.0267, CER: 0.0048\n",
      "  Disease Acc: 1.0000\n",
      "  Precision: 1.0000, Recall: 1.0000, F1: 1.0000\n",
      "==================================================\n"
     ]
    },
    {
     "name": "stderr",
     "output_type": "stream",
     "text": [
      "Evaluating: 100%|██████████| 27/27 [00:10<00:00,  2.49it/s]\n"
     ]
    },
    {
     "name": "stdout",
     "output_type": "stream",
     "text": [
      "\n",
      "======================================================================\n",
      "📝 VALIDATION - TEXT EXAMPLES:\n",
      "======================================================================\n",
      "\n",
      "Example 1:\n",
      "  Reference: 'he slowly takes a short walk in the open air each day.'\n",
      "  Predicted: 'he slowly takes a short walk in the open air each day.'\n",
      "  Disease: Normal → Normal ✓\n",
      "\n",
      "Example 2:\n",
      "  Reference: 'this is not a program of socialized medicine'\n",
      "  Predicted: 'this is not a program of socialized medicine'\n",
      "  Disease: Normal → Normal ✓\n",
      "\n",
      "Example 3:\n",
      "  Reference: 'the blue spot is on the key again.'\n",
      "  Predicted: 'the view spot is on the key again.'\n",
      "  Disease: Normal → Normal ✓\n",
      "\n",
      "Example 4:\n",
      "  Reference: 'they used an aggressive policeman to flag thoughtless motorists'\n",
      "  Predicted: 'they used an aggressive policeman to flag thoughtless motorists'\n",
      "  Disease: Normal → Normal ✓\n",
      "\n",
      "Example 5:\n",
      "  Reference: 'when you are through write a clean report.'\n",
      "  Predicted: 'when you are through write a clean report.'\n",
      "  Disease: Normal → Normal ✓\n",
      "======================================================================\n",
      "\n",
      "📊 VALIDATION METRICS:\n",
      "   Loss: 0.0601\n",
      "   Disease - Acc: 1.0000, F1: 1.0000\n",
      "   Disease - Prec: 1.0000, Rec: 1.0000\n",
      "   Speech  - WER: 0.0758, CER: 0.0543\n",
      "✅ Best model saved: ../checkpoints_exp/checkpoints_base.en_encoder_learning/best_multitask_model_base.en.pt\n",
      "\n",
      "==================================================\n",
      "EPOCH 23/50\n",
      "==================================================\n"
     ]
    },
    {
     "name": "stderr",
     "output_type": "stream",
     "text": [
      "Training Epoch 23:   0%|          | 0/109 [00:00<?, ?it/s]"
     ]
    },
    {
     "name": "stdout",
     "output_type": "stream",
     "text": [
      "\n",
      "=== METRICS DEBUG (Using EOT: 50256) ===\n",
      "Processing 16 samples...\n"
     ]
    },
    {
     "name": "stderr",
     "output_type": "stream",
     "text": [
      "Training Epoch 23:   1%|          | 1/109 [00:01<03:35,  2.00s/it]"
     ]
    },
    {
     "name": "stdout",
     "output_type": "stream",
     "text": [
      "Sample 0:\n",
      "  Pred: 'two cars came over a crest their chrome and glass ...'\n",
      "  Ref:  'two cars came over a crest their chrome and glass ...'\n",
      "Sample 1:\n",
      "  Pred: 'this he added brought about petty jealousies and p...'\n",
      "  Ref:  'this he added brought about petty jealousies and p...'\n",
      "Sample 2:\n",
      "  Pred: 'the haunted house was a hit due to outstanding aud...'\n",
      "  Ref:  'the haunted house was a hit due to outstanding aud...'\n",
      "\n",
      "Metrics computed (using proper Whisper tokens):\n",
      "  WER: 0.0000, CER: 0.0000\n",
      "  Disease Acc: 1.0000\n",
      "  Precision: 1.0000, Recall: 1.0000, F1: 1.0000\n",
      "==================================================\n",
      "\n",
      "=== METRICS DEBUG (Using EOT: 50256) ===\n",
      "Processing 16 samples...\n"
     ]
    },
    {
     "name": "stderr",
     "output_type": "stream",
     "text": [
      "Training Epoch 23:   2%|▏         | 2/109 [00:02<01:50,  1.03s/it]"
     ]
    },
    {
     "name": "stdout",
     "output_type": "stream",
     "text": [
      "Sample 0:\n",
      "  Pred: 'the wait for work can be very long....'\n",
      "  Ref:  'the wait for work can be very long....'\n",
      "Sample 1:\n",
      "  Pred: 'some observers speculated that this might be his r...'\n",
      "  Ref:  'some observers speculated that this might be his r...'\n",
      "Sample 2:\n",
      "  Pred: 'he will allow a rare lie....'\n",
      "  Ref:  'he will allow a rare lie....'\n",
      "\n",
      "Metrics computed (using proper Whisper tokens):\n",
      "  WER: 0.0000, CER: 0.0000\n",
      "  Disease Acc: 1.0000\n",
      "  Precision: 1.0000, Recall: 1.0000, F1: 1.0000\n",
      "==================================================\n"
     ]
    },
    {
     "name": "stderr",
     "output_type": "stream",
     "text": [
      "Training Epoch 23: 100%|██████████| 109/109 [01:23<00:00,  1.31it/s]\n"
     ]
    },
    {
     "name": "stdout",
     "output_type": "stream",
     "text": [
      "\n",
      "======================================================================\n",
      "📝 TRAINING EPOCH 23 - TEXT EXAMPLES:\n",
      "======================================================================\n",
      "\n",
      "Example 1:\n",
      "  Reference: 'two cars came over a crest their chrome and glass flashing'\n",
      "  Predicted: 'two cars came over a crest their chrome and glass flashing'\n",
      "  Disease: Normal → Normal ✓\n",
      "\n",
      "Example 2:\n",
      "  Reference: 'this he added brought about petty jealousies and petty personal grievances.'\n",
      "  Predicted: 'this he added brought about petty jealousies and petty personal grievances.'\n",
      "  Disease: Normal → Normal ✓\n",
      "\n",
      "Example 3:\n",
      "  Reference: 'the haunted house was a hit due to outstanding audio visual effects'\n",
      "  Predicted: 'the haunted house was a hit due to outstanding audio visual effects'\n",
      "  Disease: Normal → Normal ✓\n",
      "\n",
      "Example 4:\n",
      "  Reference: 'the wait for work can be very long.'\n",
      "  Predicted: 'the wait for work can be very long.'\n",
      "  Disease: Normal → Normal ✓\n",
      "\n",
      "Example 5:\n",
      "  Reference: 'bright sunshine shimmers on the ocean.'\n",
      "  Predicted: 'bright sunshine shimmers on the ocean.'\n",
      "  Disease: Dysphonia → Dysphonia ✓\n",
      "======================================================================\n",
      "\n",
      "📈 TRAINING METRICS:\n",
      "   Loss: 0.0014 (Cls: 0.0003, Trans: 0.0060)\n",
      "   Disease - Acc: 1.0000, F1: 1.0000\n",
      "   Disease - Prec: 1.0000, Rec: 1.0000\n",
      "   Speech  - WER: 0.0004, CER: 0.0003\n",
      "   Weights - α: 0.1957, β: 0.8043\n"
     ]
    },
    {
     "name": "stderr",
     "output_type": "stream",
     "text": [
      "Evaluating:   4%|▎         | 1/27 [00:00<00:20,  1.24it/s]"
     ]
    },
    {
     "name": "stdout",
     "output_type": "stream",
     "text": [
      "\n",
      "=== METRICS DEBUG (Using EOT: 50256) ===\n",
      "Processing 8 samples...\n",
      "Sample 0:\n",
      "  Pred: 'he slowly takes a short walk in the open air each ...'\n",
      "  Ref:  'he slowly takes a short walk in the open air each ...'\n",
      "Sample 1:\n",
      "  Pred: 'this is not a program of socialized medicine...'\n",
      "  Ref:  'this is not a program of socialized medicine...'\n",
      "Sample 2:\n",
      "  Pred: 'the view spot is on the key again....'\n",
      "  Ref:  'the blue spot is on the key again....'\n",
      "\n",
      "Metrics computed (using proper Whisper tokens):\n",
      "  WER: 0.0133, CER: 0.0098\n",
      "  Disease Acc: 1.0000\n",
      "  Precision: 1.0000, Recall: 1.0000, F1: 1.0000\n",
      "==================================================\n"
     ]
    },
    {
     "name": "stderr",
     "output_type": "stream",
     "text": [
      "Evaluating:   7%|▋         | 2/27 [00:01<00:11,  2.09it/s]"
     ]
    },
    {
     "name": "stdout",
     "output_type": "stream",
     "text": [
      "\n",
      "=== METRICS DEBUG (Using EOT: 50256) ===\n",
      "Processing 8 samples...\n",
      "Sample 0:\n",
      "  Pred: 'it also provides for funds to clear slums and help...'\n",
      "  Ref:  'it also provides for funds to clear slums and help...'\n",
      "Sample 1:\n",
      "  Pred: 'there is definitely some ligament damage in his kn...'\n",
      "  Ref:  'there is definitely some ligament damage in his kn...'\n",
      "Sample 2:\n",
      "  Pred: 'un unoccupied roadway the bottle shattered into a ...'\n",
      "  Ref:  'on unoccupied roadway the bottle shattered into a ...'\n",
      "\n",
      "Metrics computed (using proper Whisper tokens):\n",
      "  WER: 0.0267, CER: 0.0048\n",
      "  Disease Acc: 1.0000\n",
      "  Precision: 1.0000, Recall: 1.0000, F1: 1.0000\n",
      "==================================================\n"
     ]
    },
    {
     "name": "stderr",
     "output_type": "stream",
     "text": [
      "Evaluating: 100%|██████████| 27/27 [00:11<00:00,  2.41it/s]\n"
     ]
    },
    {
     "name": "stdout",
     "output_type": "stream",
     "text": [
      "\n",
      "======================================================================\n",
      "📝 VALIDATION - TEXT EXAMPLES:\n",
      "======================================================================\n",
      "\n",
      "Example 1:\n",
      "  Reference: 'he slowly takes a short walk in the open air each day.'\n",
      "  Predicted: 'he slowly takes a short walk in the open air each day.'\n",
      "  Disease: Normal → Normal ✓\n",
      "\n",
      "Example 2:\n",
      "  Reference: 'this is not a program of socialized medicine'\n",
      "  Predicted: 'this is not a program of socialized medicine'\n",
      "  Disease: Normal → Normal ✓\n",
      "\n",
      "Example 3:\n",
      "  Reference: 'the blue spot is on the key again.'\n",
      "  Predicted: 'the view spot is on the key again.'\n",
      "  Disease: Normal → Normal ✓\n",
      "\n",
      "Example 4:\n",
      "  Reference: 'they used an aggressive policeman to flag thoughtless motorists'\n",
      "  Predicted: 'they used an aggressive policeman to flag thoughtless motorists'\n",
      "  Disease: Normal → Normal ✓\n",
      "\n",
      "Example 5:\n",
      "  Reference: 'when you are through write a clean report.'\n",
      "  Predicted: 'when you are through write a clean report.'\n",
      "  Disease: Normal → Normal ✓\n",
      "======================================================================\n",
      "\n",
      "📊 VALIDATION METRICS:\n",
      "   Loss: 0.0597\n",
      "   Disease - Acc: 1.0000, F1: 1.0000\n",
      "   Disease - Prec: 1.0000, Rec: 1.0000\n",
      "   Speech  - WER: 0.0770, CER: 0.0553\n",
      "✅ Best model saved: ../checkpoints_exp/checkpoints_base.en_encoder_learning/best_multitask_model_base.en.pt\n",
      "\n",
      "==================================================\n",
      "EPOCH 24/50\n",
      "==================================================\n"
     ]
    },
    {
     "name": "stderr",
     "output_type": "stream",
     "text": [
      "Training Epoch 24:   0%|          | 0/109 [00:00<?, ?it/s]"
     ]
    },
    {
     "name": "stdout",
     "output_type": "stream",
     "text": [
      "\n",
      "=== METRICS DEBUG (Using EOT: 50256) ===\n",
      "Processing 16 samples...\n"
     ]
    },
    {
     "name": "stderr",
     "output_type": "stream",
     "text": [
      "Training Epoch 24:   1%|          | 1/109 [00:01<03:32,  1.97s/it]"
     ]
    },
    {
     "name": "stdout",
     "output_type": "stream",
     "text": [
      "Sample 0:\n",
      "  Pred: 'it also provides for funds to clear slums and help...'\n",
      "  Ref:  'it also provides for funds to clear slums and help...'\n",
      "Sample 1:\n",
      "  Pred: 'usually minus several buttons....'\n",
      "  Ref:  'usually minus several buttons....'\n",
      "Sample 2:\n",
      "  Pred: 'there was no confirmation of such massive assaults...'\n",
      "  Ref:  'there was no confirmation of such massive assaults...'\n",
      "\n",
      "Metrics computed (using proper Whisper tokens):\n",
      "  WER: 0.0000, CER: 0.0000\n",
      "  Disease Acc: 1.0000\n",
      "  Precision: 1.0000, Recall: 1.0000, F1: 1.0000\n",
      "==================================================\n",
      "\n",
      "=== METRICS DEBUG (Using EOT: 50256) ===\n",
      "Processing 16 samples...\n"
     ]
    },
    {
     "name": "stderr",
     "output_type": "stream",
     "text": [
      "Training Epoch 24:   2%|▏         | 2/109 [00:02<01:50,  1.04s/it]"
     ]
    },
    {
     "name": "stdout",
     "output_type": "stream",
     "text": [
      "Sample 0:\n",
      "  Pred: 'his election on the other hand would unquestionabl...'\n",
      "  Ref:  'his election on the other hand would unquestionabl...'\n",
      "Sample 1:\n",
      "  Pred: 'the haunted house was a hit due to outstanding aud...'\n",
      "  Ref:  'the haunted house was a hit due to outstanding aud...'\n",
      "Sample 2:\n",
      "  Pred: 'she had your dark suit in greasy wash water all ye...'\n",
      "  Ref:  'she had your dark suit in greasy wash water all ye...'\n",
      "\n",
      "Metrics computed (using proper Whisper tokens):\n",
      "  WER: 0.0000, CER: 0.0000\n",
      "  Disease Acc: 1.0000\n",
      "  Precision: 1.0000, Recall: 1.0000, F1: 1.0000\n",
      "==================================================\n"
     ]
    },
    {
     "name": "stderr",
     "output_type": "stream",
     "text": [
      "Training Epoch 24: 100%|██████████| 109/109 [01:24<00:00,  1.29it/s]\n"
     ]
    },
    {
     "name": "stdout",
     "output_type": "stream",
     "text": [
      "\n",
      "======================================================================\n",
      "📝 TRAINING EPOCH 24 - TEXT EXAMPLES:\n",
      "======================================================================\n",
      "\n",
      "Example 1:\n",
      "  Reference: 'it also provides for funds to clear slums and help colleges build dormitories'\n",
      "  Predicted: 'it also provides for funds to clear slums and help colleges build dormitories'\n",
      "  Disease: Dysarthria → Dysarthria ✓\n",
      "\n",
      "Example 2:\n",
      "  Reference: 'usually minus several buttons.'\n",
      "  Predicted: 'usually minus several buttons.'\n",
      "  Disease: Dysphonia → Dysphonia ✓\n",
      "\n",
      "Example 3:\n",
      "  Reference: 'there was no confirmation of such massive assaults from independent sources.'\n",
      "  Predicted: 'there was no confirmation of such massive assaults from independent sources.'\n",
      "  Disease: Normal → Normal ✓\n",
      "\n",
      "Example 4:\n",
      "  Reference: 'it also provides for funds to clear slums and help colleges build dormitories'\n",
      "  Predicted: 'it also provides for funds to clear slums and help colleges build dormitories'\n",
      "  Disease: Dysarthria → Dysarthria ✓\n",
      "\n",
      "Example 5:\n",
      "  Reference: 'i tried to tell people in the community.'\n",
      "  Predicted: 'i tried to tell people in the community.'\n",
      "  Disease: Dysphonia → Dysphonia ✓\n",
      "======================================================================\n",
      "\n",
      "📈 TRAINING METRICS:\n",
      "   Loss: 0.0012 (Cls: 0.0002, Trans: 0.0053)\n",
      "   Disease - Acc: 1.0000, F1: 1.0000\n",
      "   Disease - Prec: 1.0000, Rec: 1.0000\n",
      "   Speech  - WER: 0.0004, CER: 0.0004\n",
      "   Weights - α: 0.1957, β: 0.8043\n"
     ]
    },
    {
     "name": "stderr",
     "output_type": "stream",
     "text": [
      "Evaluating:   7%|▋         | 2/27 [00:01<00:11,  2.10it/s]"
     ]
    },
    {
     "name": "stdout",
     "output_type": "stream",
     "text": [
      "\n",
      "=== METRICS DEBUG (Using EOT: 50256) ===\n",
      "Processing 8 samples...\n",
      "Sample 0:\n",
      "  Pred: 'he slowly takes a short walk in the open air each ...'\n",
      "  Ref:  'he slowly takes a short walk in the open air each ...'\n",
      "Sample 1:\n",
      "  Pred: 'this is not a program of socialized medicine...'\n",
      "  Ref:  'this is not a program of socialized medicine...'\n",
      "Sample 2:\n",
      "  Pred: 'the view spot is on the key again....'\n",
      "  Ref:  'the blue spot is on the key again....'\n",
      "\n",
      "Metrics computed (using proper Whisper tokens):\n",
      "  WER: 0.0133, CER: 0.0098\n",
      "  Disease Acc: 1.0000\n",
      "  Precision: 1.0000, Recall: 1.0000, F1: 1.0000\n",
      "==================================================\n",
      "\n",
      "=== METRICS DEBUG (Using EOT: 50256) ===\n",
      "Processing 8 samples...\n",
      "Sample 0:\n",
      "  Pred: 'it also provides for funds to clear slums and help...'\n",
      "  Ref:  'it also provides for funds to clear slums and help...'\n",
      "Sample 1:\n",
      "  Pred: 'there is definitely some ligament damage in his kn...'\n",
      "  Ref:  'there is definitely some ligament damage in his kn...'\n",
      "Sample 2:\n",
      "  Pred: 'un unoccupied roadway the bottle shattered into a ...'\n",
      "  Ref:  'on unoccupied roadway the bottle shattered into a ...'\n",
      "\n",
      "Metrics computed (using proper Whisper tokens):\n",
      "  WER: 0.0267, CER: 0.0048\n",
      "  Disease Acc: 1.0000\n",
      "  Precision: 1.0000, Recall: 1.0000, F1: 1.0000\n",
      "==================================================\n"
     ]
    },
    {
     "name": "stderr",
     "output_type": "stream",
     "text": [
      "Evaluating: 100%|██████████| 27/27 [00:10<00:00,  2.49it/s]\n"
     ]
    },
    {
     "name": "stdout",
     "output_type": "stream",
     "text": [
      "\n",
      "======================================================================\n",
      "📝 VALIDATION - TEXT EXAMPLES:\n",
      "======================================================================\n",
      "\n",
      "Example 1:\n",
      "  Reference: 'he slowly takes a short walk in the open air each day.'\n",
      "  Predicted: 'he slowly takes a short walk in the open air each day.'\n",
      "  Disease: Normal → Normal ✓\n",
      "\n",
      "Example 2:\n",
      "  Reference: 'this is not a program of socialized medicine'\n",
      "  Predicted: 'this is not a program of socialized medicine'\n",
      "  Disease: Normal → Normal ✓\n",
      "\n",
      "Example 3:\n",
      "  Reference: 'the blue spot is on the key again.'\n",
      "  Predicted: 'the view spot is on the key again.'\n",
      "  Disease: Normal → Normal ✓\n",
      "\n",
      "Example 4:\n",
      "  Reference: 'they used an aggressive policeman to flag thoughtless motorists'\n",
      "  Predicted: 'they used an aggressive policeman to flag thoughtless motorists'\n",
      "  Disease: Normal → Normal ✓\n",
      "\n",
      "Example 5:\n",
      "  Reference: 'when you are through write a clean report.'\n",
      "  Predicted: 'when you are through write a clean report.'\n",
      "  Disease: Normal → Normal ✓\n",
      "======================================================================\n",
      "\n",
      "📊 VALIDATION METRICS:\n",
      "   Loss: 0.0593\n",
      "   Disease - Acc: 1.0000, F1: 1.0000\n",
      "   Disease - Prec: 1.0000, Rec: 1.0000\n",
      "   Speech  - WER: 0.0774, CER: 0.0546\n",
      "✅ Best model saved: ../checkpoints_exp/checkpoints_base.en_encoder_learning/best_multitask_model_base.en.pt\n",
      "\n",
      "==================================================\n",
      "EPOCH 25/50\n",
      "==================================================\n"
     ]
    },
    {
     "name": "stderr",
     "output_type": "stream",
     "text": [
      "Training Epoch 25:   0%|          | 0/109 [00:00<?, ?it/s]"
     ]
    },
    {
     "name": "stdout",
     "output_type": "stream",
     "text": [
      "\n",
      "=== METRICS DEBUG (Using EOT: 50256) ===\n",
      "Processing 16 samples...\n"
     ]
    },
    {
     "name": "stderr",
     "output_type": "stream",
     "text": [
      "Training Epoch 25:   1%|          | 1/109 [00:02<03:38,  2.03s/it]"
     ]
    },
    {
     "name": "stdout",
     "output_type": "stream",
     "text": [
      "Sample 0:\n",
      "  Pred: 'carl lives in a lovely home....'\n",
      "  Ref:  'carl lives in a lovely home....'\n",
      "Sample 1:\n",
      "  Pred: 'usually minus several buttons....'\n",
      "  Ref:  'usually minus several buttons....'\n",
      "Sample 2:\n",
      "  Pred: 'he dresses himself in an ancient black frock coat...'\n",
      "  Ref:  'he dresses himself in an ancient black frock coat...'\n",
      "\n",
      "Metrics computed (using proper Whisper tokens):\n",
      "  WER: 0.0000, CER: 0.0000\n",
      "  Disease Acc: 1.0000\n",
      "  Precision: 1.0000, Recall: 1.0000, F1: 1.0000\n",
      "==================================================\n",
      "\n",
      "=== METRICS DEBUG (Using EOT: 50256) ===\n",
      "Processing 16 samples...\n"
     ]
    },
    {
     "name": "stderr",
     "output_type": "stream",
     "text": [
      "Training Epoch 25:   2%|▏         | 2/109 [00:02<01:48,  1.01s/it]"
     ]
    },
    {
     "name": "stdout",
     "output_type": "stream",
     "text": [
      "Sample 0:\n",
      "  Pred: 'i looked up and noticed two old men....'\n",
      "  Ref:  'i looked up and noticed two old men....'\n",
      "Sample 1:\n",
      "  Pred: 'the toddler found a clamshell near the camp site...'\n",
      "  Ref:  'the toddler found a clamshell near the camp site...'\n",
      "Sample 2:\n",
      "  Pred: 'she wore warm fleecy woolen overalls....'\n",
      "  Ref:  'she wore warm fleecy woolen overalls....'\n",
      "\n",
      "Metrics computed (using proper Whisper tokens):\n",
      "  WER: 0.0000, CER: 0.0000\n",
      "  Disease Acc: 1.0000\n",
      "  Precision: 1.0000, Recall: 1.0000, F1: 1.0000\n",
      "==================================================\n"
     ]
    },
    {
     "name": "stderr",
     "output_type": "stream",
     "text": [
      "Training Epoch 25: 100%|██████████| 109/109 [01:24<00:00,  1.29it/s]\n"
     ]
    },
    {
     "name": "stdout",
     "output_type": "stream",
     "text": [
      "\n",
      "======================================================================\n",
      "📝 TRAINING EPOCH 25 - TEXT EXAMPLES:\n",
      "======================================================================\n",
      "\n",
      "Example 1:\n",
      "  Reference: 'carl lives in a lovely home.'\n",
      "  Predicted: 'carl lives in a lovely home.'\n",
      "  Disease: Dysphonia → Dysphonia ✓\n",
      "\n",
      "Example 2:\n",
      "  Reference: 'usually minus several buttons.'\n",
      "  Predicted: 'usually minus several buttons.'\n",
      "  Disease: Dysphonia → Dysphonia ✓\n",
      "\n",
      "Example 3:\n",
      "  Reference: 'he dresses himself in an ancient black frock coat'\n",
      "  Predicted: 'he dresses himself in an ancient black frock coat'\n",
      "  Disease: Dysphonia → Dysphonia ✓\n",
      "\n",
      "Example 4:\n",
      "  Reference: 'we have often urged him to walk more and smoke less'\n",
      "  Predicted: 'we have often urged him to walk more and smoke less'\n",
      "  Disease: Dysphonia → Dysphonia ✓\n",
      "\n",
      "Example 5:\n",
      "  Reference: 'eat your raisins outdoors on the porch steps.'\n",
      "  Predicted: 'eat your raisins outdoors on the porch steps.'\n",
      "  Disease: Normal → Normal ✓\n",
      "======================================================================\n",
      "\n",
      "📈 TRAINING METRICS:\n",
      "   Loss: 0.0011 (Cls: 0.0002, Trans: 0.0048)\n",
      "   Disease - Acc: 1.0000, F1: 1.0000\n",
      "   Disease - Prec: 1.0000, Rec: 1.0000\n",
      "   Speech  - WER: 0.0004, CER: 0.0003\n",
      "   Weights - α: 0.1957, β: 0.8043\n"
     ]
    },
    {
     "name": "stderr",
     "output_type": "stream",
     "text": [
      "Evaluating:   4%|▎         | 1/27 [00:00<00:25,  1.01it/s]"
     ]
    },
    {
     "name": "stdout",
     "output_type": "stream",
     "text": [
      "\n",
      "=== METRICS DEBUG (Using EOT: 50256) ===\n",
      "Processing 8 samples...\n",
      "Sample 0:\n",
      "  Pred: 'he slowly takes a short walk in the open air each ...'\n",
      "  Ref:  'he slowly takes a short walk in the open air each ...'\n",
      "Sample 1:\n",
      "  Pred: 'this is not a program of socialized medicine...'\n",
      "  Ref:  'this is not a program of socialized medicine...'\n",
      "Sample 2:\n",
      "  Pred: 'the view spot is on the key again....'\n",
      "  Ref:  'the blue spot is on the key again....'\n",
      "\n",
      "Metrics computed (using proper Whisper tokens):\n",
      "  WER: 0.0133, CER: 0.0098\n",
      "  Disease Acc: 1.0000\n",
      "  Precision: 1.0000, Recall: 1.0000, F1: 1.0000\n",
      "==================================================\n",
      "\n",
      "=== METRICS DEBUG (Using EOT: 50256) ===\n",
      "Processing 8 samples...\n",
      "Sample 0:\n",
      "  Pred: 'it also provides for funds to clear slums and help...'\n",
      "  Ref:  'it also provides for funds to clear slums and help...'\n",
      "Sample 1:\n",
      "  Pred: 'there is definitely some ligament damage in his kn...'\n",
      "  Ref:  'there is definitely some ligament damage in his kn...'\n",
      "Sample 2:\n",
      "  Pred: 'un unoccupied roadway the bottle shattered into a ...'\n",
      "  Ref:  'on unoccupied roadway the bottle shattered into a ...'\n",
      "\n",
      "Metrics computed (using proper Whisper tokens):\n",
      "  WER: 0.0267, CER: 0.0048\n",
      "  Disease Acc: 1.0000\n",
      "  Precision: 1.0000, Recall: 1.0000, F1: 1.0000\n",
      "==================================================\n"
     ]
    },
    {
     "name": "stderr",
     "output_type": "stream",
     "text": [
      "Evaluating: 100%|██████████| 27/27 [00:10<00:00,  2.50it/s]\n"
     ]
    },
    {
     "name": "stdout",
     "output_type": "stream",
     "text": [
      "\n",
      "======================================================================\n",
      "📝 VALIDATION - TEXT EXAMPLES:\n",
      "======================================================================\n",
      "\n",
      "Example 1:\n",
      "  Reference: 'he slowly takes a short walk in the open air each day.'\n",
      "  Predicted: 'he slowly takes a short walk in the open air each day.'\n",
      "  Disease: Normal → Normal ✓\n",
      "\n",
      "Example 2:\n",
      "  Reference: 'this is not a program of socialized medicine'\n",
      "  Predicted: 'this is not a program of socialized medicine'\n",
      "  Disease: Normal → Normal ✓\n",
      "\n",
      "Example 3:\n",
      "  Reference: 'the blue spot is on the key again.'\n",
      "  Predicted: 'the view spot is on the key again.'\n",
      "  Disease: Normal → Normal ✓\n",
      "\n",
      "Example 4:\n",
      "  Reference: 'they used an aggressive policeman to flag thoughtless motorists'\n",
      "  Predicted: 'they used an aggressive policeman to flag thoughtless motorists'\n",
      "  Disease: Normal → Normal ✓\n",
      "\n",
      "Example 5:\n",
      "  Reference: 'when you are through write a clean report.'\n",
      "  Predicted: 'when you are through write a clean report.'\n",
      "  Disease: Normal → Normal ✓\n",
      "======================================================================\n",
      "\n",
      "📊 VALIDATION METRICS:\n",
      "   Loss: 0.0590\n",
      "   Disease - Acc: 1.0000, F1: 1.0000\n",
      "   Disease - Prec: 1.0000, Rec: 1.0000\n",
      "   Speech  - WER: 0.0766, CER: 0.0543\n",
      "✅ Best model saved: ../checkpoints_exp/checkpoints_base.en_encoder_learning/best_multitask_model_base.en.pt\n",
      "\n",
      "==================================================\n",
      "EPOCH 26/50\n",
      "==================================================\n"
     ]
    },
    {
     "name": "stderr",
     "output_type": "stream",
     "text": [
      "Training Epoch 26:   0%|          | 0/109 [00:00<?, ?it/s]"
     ]
    },
    {
     "name": "stdout",
     "output_type": "stream",
     "text": [
      "\n",
      "=== METRICS DEBUG (Using EOT: 50256) ===\n",
      "Processing 16 samples...\n"
     ]
    },
    {
     "name": "stderr",
     "output_type": "stream",
     "text": [
      "Training Epoch 26:   1%|          | 1/109 [00:02<03:48,  2.12s/it]"
     ]
    },
    {
     "name": "stdout",
     "output_type": "stream",
     "text": [
      "Sample 0:\n",
      "  Pred: 'it also provides for funds to clear slums and help...'\n",
      "  Ref:  'it also provides for funds to clear slums and help...'\n",
      "Sample 1:\n",
      "  Pred: 'in fact our whole defensive unit did a good job....'\n",
      "  Ref:  'in fact our whole defensive unit did a good job....'\n",
      "Sample 2:\n",
      "  Pred: 'people who value themselves are life's winners....'\n",
      "  Ref:  'people who value themselves are life's winners....'\n",
      "\n",
      "Metrics computed (using proper Whisper tokens):\n",
      "  WER: 0.0000, CER: 0.0000\n",
      "  Disease Acc: 1.0000\n",
      "  Precision: 1.0000, Recall: 1.0000, F1: 1.0000\n",
      "==================================================\n",
      "\n",
      "=== METRICS DEBUG (Using EOT: 50256) ===\n",
      "Processing 16 samples...\n"
     ]
    },
    {
     "name": "stderr",
     "output_type": "stream",
     "text": [
      "Training Epoch 26:   2%|▏         | 2/109 [00:02<01:53,  1.07s/it]"
     ]
    },
    {
     "name": "stdout",
     "output_type": "stream",
     "text": [
      "Sample 0:\n",
      "  Pred: 'the haunted house was a hit due to outstanding aud...'\n",
      "  Ref:  'the haunted house was a hit due to outstanding aud...'\n",
      "Sample 1:\n",
      "  Pred: 'we rode horseback to the farm....'\n",
      "  Ref:  'we rode horseback to the farm....'\n",
      "Sample 2:\n",
      "  Pred: 'high so it only bounce harmlessly but loudly off a...'\n",
      "  Ref:  'high so it only bounce harmlessly but loudly off a...'\n",
      "\n",
      "Metrics computed (using proper Whisper tokens):\n",
      "  WER: 0.0000, CER: 0.0000\n",
      "  Disease Acc: 1.0000\n",
      "  Precision: 1.0000, Recall: 1.0000, F1: 1.0000\n",
      "==================================================\n"
     ]
    },
    {
     "name": "stderr",
     "output_type": "stream",
     "text": [
      "Training Epoch 26: 100%|██████████| 109/109 [01:24<00:00,  1.29it/s]\n"
     ]
    },
    {
     "name": "stdout",
     "output_type": "stream",
     "text": [
      "\n",
      "======================================================================\n",
      "📝 TRAINING EPOCH 26 - TEXT EXAMPLES:\n",
      "======================================================================\n",
      "\n",
      "Example 1:\n",
      "  Reference: 'it also provides for funds to clear slums and help colleges build dormitories'\n",
      "  Predicted: 'it also provides for funds to clear slums and help colleges build dormitories'\n",
      "  Disease: Dysarthria → Dysarthria ✓\n",
      "\n",
      "Example 2:\n",
      "  Reference: 'in fact our whole defensive unit did a good job.'\n",
      "  Predicted: 'in fact our whole defensive unit did a good job.'\n",
      "  Disease: Normal → Normal ✓\n",
      "\n",
      "Example 3:\n",
      "  Reference: 'people who value themselves are life's winners.'\n",
      "  Predicted: 'people who value themselves are life's winners.'\n",
      "  Disease: Dysphonia → Dysphonia ✓\n",
      "\n",
      "Example 4:\n",
      "  Reference: 'to keep 'em scattered somewhat and yet herd 'em was called loose herdin''\n",
      "  Predicted: 'to keep 'em scattered somewhat and yet herd 'em was called loose herdin''\n",
      "  Disease: Dysarthria → Dysarthria ✓\n",
      "\n",
      "Example 5:\n",
      "  Reference: 'i'm willing to experiment for the first time.'\n",
      "  Predicted: 'i'm willing to experiment for the first time.'\n",
      "  Disease: Normal → Normal ✓\n",
      "======================================================================\n",
      "\n",
      "📈 TRAINING METRICS:\n",
      "   Loss: 0.0010 (Cls: 0.0002, Trans: 0.0043)\n",
      "   Disease - Acc: 1.0000, F1: 1.0000\n",
      "   Disease - Prec: 1.0000, Rec: 1.0000\n",
      "   Speech  - WER: 0.0003, CER: 0.0003\n",
      "   Weights - α: 0.1957, β: 0.8043\n"
     ]
    },
    {
     "name": "stderr",
     "output_type": "stream",
     "text": [
      "Evaluating:   4%|▎         | 1/27 [00:00<00:24,  1.04it/s]"
     ]
    },
    {
     "name": "stdout",
     "output_type": "stream",
     "text": [
      "\n",
      "=== METRICS DEBUG (Using EOT: 50256) ===\n",
      "Processing 8 samples...\n",
      "Sample 0:\n",
      "  Pred: 'he slowly takes a short walk in the open air each ...'\n",
      "  Ref:  'he slowly takes a short walk in the open air each ...'\n",
      "Sample 1:\n",
      "  Pred: 'this is not a program of socialized medicine...'\n",
      "  Ref:  'this is not a program of socialized medicine...'\n",
      "Sample 2:\n",
      "  Pred: 'the view spot is on the key again....'\n",
      "  Ref:  'the blue spot is on the key again....'\n",
      "\n",
      "Metrics computed (using proper Whisper tokens):\n",
      "  WER: 0.0133, CER: 0.0098\n",
      "  Disease Acc: 1.0000\n",
      "  Precision: 1.0000, Recall: 1.0000, F1: 1.0000\n",
      "==================================================\n",
      "\n",
      "=== METRICS DEBUG (Using EOT: 50256) ===\n",
      "Processing 8 samples...\n",
      "Sample 0:\n",
      "  Pred: 'it also provides for funds to clear slums and help...'\n",
      "  Ref:  'it also provides for funds to clear slums and help...'\n",
      "Sample 1:\n",
      "  Pred: 'there is definitely some ligament damage in his kn...'\n",
      "  Ref:  'there is definitely some ligament damage in his kn...'\n",
      "Sample 2:\n",
      "  Pred: 'un unoccupied roadway the bottle shattered into a ...'\n",
      "  Ref:  'on unoccupied roadway the bottle shattered into a ...'\n",
      "\n",
      "Metrics computed (using proper Whisper tokens):\n",
      "  WER: 0.0267, CER: 0.0048\n",
      "  Disease Acc: 1.0000\n",
      "  Precision: 1.0000, Recall: 1.0000, F1: 1.0000\n",
      "==================================================\n"
     ]
    },
    {
     "name": "stderr",
     "output_type": "stream",
     "text": [
      "Evaluating: 100%|██████████| 27/27 [00:10<00:00,  2.50it/s]\n"
     ]
    },
    {
     "name": "stdout",
     "output_type": "stream",
     "text": [
      "\n",
      "======================================================================\n",
      "📝 VALIDATION - TEXT EXAMPLES:\n",
      "======================================================================\n",
      "\n",
      "Example 1:\n",
      "  Reference: 'he slowly takes a short walk in the open air each day.'\n",
      "  Predicted: 'he slowly takes a short walk in the open air each day.'\n",
      "  Disease: Normal → Normal ✓\n",
      "\n",
      "Example 2:\n",
      "  Reference: 'this is not a program of socialized medicine'\n",
      "  Predicted: 'this is not a program of socialized medicine'\n",
      "  Disease: Normal → Normal ✓\n",
      "\n",
      "Example 3:\n",
      "  Reference: 'the blue spot is on the key again.'\n",
      "  Predicted: 'the view spot is on the key again.'\n",
      "  Disease: Normal → Normal ✓\n",
      "\n",
      "Example 4:\n",
      "  Reference: 'they used an aggressive policeman to flag thoughtless motorists'\n",
      "  Predicted: 'they used an aggressive policeman to flag thoughtless motorists'\n",
      "  Disease: Normal → Normal ✓\n",
      "\n",
      "Example 5:\n",
      "  Reference: 'when you are through write a clean report.'\n",
      "  Predicted: 'when you are through write a clean report.'\n",
      "  Disease: Normal → Normal ✓\n",
      "======================================================================\n",
      "\n",
      "📊 VALIDATION METRICS:\n",
      "   Loss: 0.0587\n",
      "   Disease - Acc: 1.0000, F1: 1.0000\n",
      "   Disease - Prec: 1.0000, Rec: 1.0000\n",
      "   Speech  - WER: 0.0766, CER: 0.0544\n",
      "✅ Best model saved: ../checkpoints_exp/checkpoints_base.en_encoder_learning/best_multitask_model_base.en.pt\n",
      "\n",
      "==================================================\n",
      "EPOCH 27/50\n",
      "==================================================\n"
     ]
    },
    {
     "name": "stderr",
     "output_type": "stream",
     "text": [
      "Training Epoch 27:   0%|          | 0/109 [00:00<?, ?it/s]"
     ]
    },
    {
     "name": "stdout",
     "output_type": "stream",
     "text": [
      "\n",
      "=== METRICS DEBUG (Using EOT: 50256) ===\n",
      "Processing 16 samples...\n"
     ]
    },
    {
     "name": "stderr",
     "output_type": "stream",
     "text": [
      "Training Epoch 27:   1%|          | 1/109 [00:01<03:26,  1.91s/it]"
     ]
    },
    {
     "name": "stdout",
     "output_type": "stream",
     "text": [
      "Sample 0:\n",
      "  Pred: 'you're used to being on the field....'\n",
      "  Ref:  'you're used to being on the field....'\n",
      "Sample 1:\n",
      "  Pred: 'he took his mask from his forehead and threw it un...'\n",
      "  Ref:  'he took his mask from his forehead and threw it un...'\n",
      "Sample 2:\n",
      "  Pred: 'the quick brown fox jumps over the lazy dog....'\n",
      "  Ref:  'the quick brown fox jumps over the lazy dog....'\n",
      "\n",
      "Metrics computed (using proper Whisper tokens):\n",
      "  WER: 0.0000, CER: 0.0000\n",
      "  Disease Acc: 1.0000\n",
      "  Precision: 1.0000, Recall: 1.0000, F1: 1.0000\n",
      "==================================================\n",
      "\n",
      "=== METRICS DEBUG (Using EOT: 50256) ===\n",
      "Processing 16 samples...\n"
     ]
    },
    {
     "name": "stderr",
     "output_type": "stream",
     "text": [
      "Training Epoch 27:   2%|▏         | 2/109 [00:02<01:40,  1.06it/s]"
     ]
    },
    {
     "name": "stdout",
     "output_type": "stream",
     "text": [
      "Sample 0:\n",
      "  Pred: 'etiquette mandates compliance with existing regula...'\n",
      "  Ref:  'etiquette mandates compliance with existing regula...'\n",
      "Sample 1:\n",
      "  Pred: 'some observers speculated that this might be his r...'\n",
      "  Ref:  'some observers speculated that this might be his r...'\n",
      "Sample 2:\n",
      "  Pred: 'we have often urged him to walk more and smoke les...'\n",
      "  Ref:  'we have often urged him to walk more and smoke les...'\n",
      "\n",
      "Metrics computed (using proper Whisper tokens):\n",
      "  WER: 0.0000, CER: 0.0000\n",
      "  Disease Acc: 1.0000\n",
      "  Precision: 1.0000, Recall: 1.0000, F1: 1.0000\n",
      "==================================================\n"
     ]
    },
    {
     "name": "stderr",
     "output_type": "stream",
     "text": [
      "Training Epoch 27: 100%|██████████| 109/109 [01:24<00:00,  1.29it/s]\n"
     ]
    },
    {
     "name": "stdout",
     "output_type": "stream",
     "text": [
      "\n",
      "======================================================================\n",
      "📝 TRAINING EPOCH 27 - TEXT EXAMPLES:\n",
      "======================================================================\n",
      "\n",
      "Example 1:\n",
      "  Reference: 'you're used to being on the field.'\n",
      "  Predicted: 'you're used to being on the field.'\n",
      "  Disease: Dysphonia → Dysphonia ✓\n",
      "\n",
      "Example 2:\n",
      "  Reference: 'he took his mask from his forehead and threw it unexpectedly across the deck'\n",
      "  Predicted: 'he took his mask from his forehead and threw it unexpectedly across the deck'\n",
      "  Disease: Dysarthria → Dysarthria ✓\n",
      "\n",
      "Example 3:\n",
      "  Reference: 'the quick brown fox jumps over the lazy dog.'\n",
      "  Predicted: 'the quick brown fox jumps over the lazy dog.'\n",
      "  Disease: Dysphonia → Dysphonia ✓\n",
      "\n",
      "Example 4:\n",
      "  Reference: 'before thursday's exam review every formula.'\n",
      "  Predicted: 'before thursday's exam review every formula.'\n",
      "  Disease: Dysphonia → Dysphonia ✓\n",
      "\n",
      "Example 5:\n",
      "  Reference: 'he took his mask from his forehead and threw it unexpectedly across the deck'\n",
      "  Predicted: 'he took his mask from his forehead and threw it unexpectedly across the deck'\n",
      "  Disease: Dysarthria → Dysarthria ✓\n",
      "======================================================================\n",
      "\n",
      "📈 TRAINING METRICS:\n",
      "   Loss: 0.0009 (Cls: 0.0002, Trans: 0.0039)\n",
      "   Disease - Acc: 1.0000, F1: 1.0000\n",
      "   Disease - Prec: 1.0000, Rec: 1.0000\n",
      "   Speech  - WER: 0.0003, CER: 0.0003\n",
      "   Weights - α: 0.1957, β: 0.8043\n"
     ]
    },
    {
     "name": "stderr",
     "output_type": "stream",
     "text": [
      "Evaluating:   7%|▋         | 2/27 [00:01<00:11,  2.20it/s]"
     ]
    },
    {
     "name": "stdout",
     "output_type": "stream",
     "text": [
      "\n",
      "=== METRICS DEBUG (Using EOT: 50256) ===\n",
      "Processing 8 samples...\n",
      "Sample 0:\n",
      "  Pred: 'he slowly takes a short walk in the open air each ...'\n",
      "  Ref:  'he slowly takes a short walk in the open air each ...'\n",
      "Sample 1:\n",
      "  Pred: 'this is not a program of socialized medicine...'\n",
      "  Ref:  'this is not a program of socialized medicine...'\n",
      "Sample 2:\n",
      "  Pred: 'the view spot is on the key again....'\n",
      "  Ref:  'the blue spot is on the key again....'\n",
      "\n",
      "Metrics computed (using proper Whisper tokens):\n",
      "  WER: 0.0133, CER: 0.0098\n",
      "  Disease Acc: 1.0000\n",
      "  Precision: 1.0000, Recall: 1.0000, F1: 1.0000\n",
      "==================================================\n",
      "\n",
      "=== METRICS DEBUG (Using EOT: 50256) ===\n",
      "Processing 8 samples...\n",
      "Sample 0:\n",
      "  Pred: 'it also provides for funds to clear slums and help...'\n",
      "  Ref:  'it also provides for funds to clear slums and help...'\n",
      "Sample 1:\n",
      "  Pred: 'there is definitely some ligament damage in his kn...'\n",
      "  Ref:  'there is definitely some ligament damage in his kn...'\n",
      "Sample 2:\n",
      "  Pred: 'un unoccupied roadway the bottle shattered into a ...'\n",
      "  Ref:  'on unoccupied roadway the bottle shattered into a ...'\n",
      "\n",
      "Metrics computed (using proper Whisper tokens):\n",
      "  WER: 0.0267, CER: 0.0048\n",
      "  Disease Acc: 1.0000\n",
      "  Precision: 1.0000, Recall: 1.0000, F1: 1.0000\n",
      "==================================================\n"
     ]
    },
    {
     "name": "stderr",
     "output_type": "stream",
     "text": [
      "Evaluating: 100%|██████████| 27/27 [00:11<00:00,  2.37it/s]\n"
     ]
    },
    {
     "name": "stdout",
     "output_type": "stream",
     "text": [
      "\n",
      "======================================================================\n",
      "📝 VALIDATION - TEXT EXAMPLES:\n",
      "======================================================================\n",
      "\n",
      "Example 1:\n",
      "  Reference: 'he slowly takes a short walk in the open air each day.'\n",
      "  Predicted: 'he slowly takes a short walk in the open air each day.'\n",
      "  Disease: Normal → Normal ✓\n",
      "\n",
      "Example 2:\n",
      "  Reference: 'this is not a program of socialized medicine'\n",
      "  Predicted: 'this is not a program of socialized medicine'\n",
      "  Disease: Normal → Normal ✓\n",
      "\n",
      "Example 3:\n",
      "  Reference: 'the blue spot is on the key again.'\n",
      "  Predicted: 'the view spot is on the key again.'\n",
      "  Disease: Normal → Normal ✓\n",
      "\n",
      "Example 4:\n",
      "  Reference: 'they used an aggressive policeman to flag thoughtless motorists'\n",
      "  Predicted: 'they used an aggressive policeman to flag thoughtless motorists'\n",
      "  Disease: Normal → Normal ✓\n",
      "\n",
      "Example 5:\n",
      "  Reference: 'when you are through write a clean report.'\n",
      "  Predicted: 'when you are through write a clean report.'\n",
      "  Disease: Normal → Normal ✓\n",
      "======================================================================\n",
      "\n",
      "📊 VALIDATION METRICS:\n",
      "   Loss: 0.0586\n",
      "   Disease - Acc: 1.0000, F1: 1.0000\n",
      "   Disease - Prec: 1.0000, Rec: 1.0000\n",
      "   Speech  - WER: 0.0762, CER: 0.0544\n",
      "✅ Best model saved: ../checkpoints_exp/checkpoints_base.en_encoder_learning/best_multitask_model_base.en.pt\n",
      "\n",
      "==================================================\n",
      "EPOCH 28/50\n",
      "==================================================\n"
     ]
    },
    {
     "name": "stderr",
     "output_type": "stream",
     "text": [
      "Training Epoch 28:   0%|          | 0/109 [00:00<?, ?it/s]"
     ]
    },
    {
     "name": "stdout",
     "output_type": "stream",
     "text": [
      "\n",
      "=== METRICS DEBUG (Using EOT: 50256) ===\n",
      "Processing 16 samples...\n"
     ]
    },
    {
     "name": "stderr",
     "output_type": "stream",
     "text": [
      "Training Epoch 28:   1%|          | 1/109 [00:01<03:15,  1.81s/it]"
     ]
    },
    {
     "name": "stdout",
     "output_type": "stream",
     "text": [
      "Sample 0:\n",
      "  Pred: 'bright sunshine shimmers on the ocean....'\n",
      "  Ref:  'bright sunshine shimmers on the ocean....'\n",
      "Sample 1:\n",
      "  Pred: 'eat your raisins outdoors on the porch steps....'\n",
      "  Ref:  'eat your raisins outdoors on the porch steps....'\n",
      "Sample 2:\n",
      "  Pred: 'a long flowing beard clings to his chin...'\n",
      "  Ref:  'a long flowing beard clings to his chin...'\n",
      "\n",
      "Metrics computed (using proper Whisper tokens):\n",
      "  WER: 0.0000, CER: 0.0000\n",
      "  Disease Acc: 1.0000\n",
      "  Precision: 1.0000, Recall: 1.0000, F1: 1.0000\n",
      "==================================================\n",
      "\n",
      "=== METRICS DEBUG (Using EOT: 50256) ===\n",
      "Processing 16 samples...\n"
     ]
    },
    {
     "name": "stderr",
     "output_type": "stream",
     "text": [
      "Training Epoch 28:   2%|▏         | 2/109 [00:02<01:41,  1.05it/s]"
     ]
    },
    {
     "name": "stdout",
     "output_type": "stream",
     "text": [
      "Sample 0:\n",
      "  Pred: 'i'm willing to experiment for the first time....'\n",
      "  Ref:  'i'm willing to experiment for the first time....'\n",
      "Sample 1:\n",
      "  Pred: 'the books are very expensive....'\n",
      "  Ref:  'the books are very expensive....'\n",
      "Sample 2:\n",
      "  Pred: 'we are the largest of the four states....'\n",
      "  Ref:  'we are the largest of the four states....'\n",
      "\n",
      "Metrics computed (using proper Whisper tokens):\n",
      "  WER: 0.0000, CER: 0.0000\n",
      "  Disease Acc: 1.0000\n",
      "  Precision: 1.0000, Recall: 1.0000, F1: 1.0000\n",
      "==================================================\n"
     ]
    },
    {
     "name": "stderr",
     "output_type": "stream",
     "text": [
      "Training Epoch 28: 100%|██████████| 109/109 [01:26<00:00,  1.27it/s]\n"
     ]
    },
    {
     "name": "stdout",
     "output_type": "stream",
     "text": [
      "\n",
      "======================================================================\n",
      "📝 TRAINING EPOCH 28 - TEXT EXAMPLES:\n",
      "======================================================================\n",
      "\n",
      "Example 1:\n",
      "  Reference: 'bright sunshine shimmers on the ocean.'\n",
      "  Predicted: 'bright sunshine shimmers on the ocean.'\n",
      "  Disease: Dysphonia → Dysphonia ✓\n",
      "\n",
      "Example 2:\n",
      "  Reference: 'eat your raisins outdoors on the porch steps.'\n",
      "  Predicted: 'eat your raisins outdoors on the porch steps.'\n",
      "  Disease: Normal → Normal ✓\n",
      "\n",
      "Example 3:\n",
      "  Reference: 'a long flowing beard clings to his chin'\n",
      "  Predicted: 'a long flowing beard clings to his chin'\n",
      "  Disease: Dysphonia → Dysphonia ✓\n",
      "\n",
      "Example 4:\n",
      "  Reference: 'we are the largest of the four states.'\n",
      "  Predicted: 'we are the largest of the four states.'\n",
      "  Disease: Normal → Normal ✓\n",
      "\n",
      "Example 5:\n",
      "  Reference: 'he dresses himself in an ancient black frock coat'\n",
      "  Predicted: 'he dresses himself in an ancient black frock coat'\n",
      "  Disease: Dysphonia → Dysphonia ✓\n",
      "======================================================================\n",
      "\n",
      "📈 TRAINING METRICS:\n",
      "   Loss: 0.0008 (Cls: 0.0002, Trans: 0.0035)\n",
      "   Disease - Acc: 1.0000, F1: 1.0000\n",
      "   Disease - Prec: 1.0000, Rec: 1.0000\n",
      "   Speech  - WER: 0.0002, CER: 0.0001\n",
      "   Weights - α: 0.1957, β: 0.8043\n"
     ]
    },
    {
     "name": "stderr",
     "output_type": "stream",
     "text": [
      "Evaluating:   4%|▎         | 1/27 [00:00<00:23,  1.11it/s]"
     ]
    },
    {
     "name": "stdout",
     "output_type": "stream",
     "text": [
      "\n",
      "=== METRICS DEBUG (Using EOT: 50256) ===\n",
      "Processing 8 samples...\n",
      "Sample 0:\n",
      "  Pred: 'he slowly takes a short walk in the open air each ...'\n",
      "  Ref:  'he slowly takes a short walk in the open air each ...'\n",
      "Sample 1:\n",
      "  Pred: 'this is not a program of socialized medicine...'\n",
      "  Ref:  'this is not a program of socialized medicine...'\n",
      "Sample 2:\n",
      "  Pred: 'the view spot is on the key again....'\n",
      "  Ref:  'the blue spot is on the key again....'\n",
      "\n",
      "Metrics computed (using proper Whisper tokens):\n",
      "  WER: 0.0133, CER: 0.0098\n",
      "  Disease Acc: 1.0000\n",
      "  Precision: 1.0000, Recall: 1.0000, F1: 1.0000\n",
      "==================================================\n",
      "\n",
      "=== METRICS DEBUG (Using EOT: 50256) ===\n",
      "Processing 8 samples...\n",
      "Sample 0:\n",
      "  Pred: 'it also provides for funds to clear slums and help...'\n",
      "  Ref:  'it also provides for funds to clear slums and help...'\n",
      "Sample 1:\n",
      "  Pred: 'there is definitely some ligament damage in his kn...'\n",
      "  Ref:  'there is definitely some ligament damage in his kn...'\n",
      "Sample 2:\n",
      "  Pred: 'un unoccupied roadway the bottle shattered into a ...'\n",
      "  Ref:  'on unoccupied roadway the bottle shattered into a ...'\n",
      "\n",
      "Metrics computed (using proper Whisper tokens):\n",
      "  WER: 0.0267, CER: 0.0048\n",
      "  Disease Acc: 1.0000\n",
      "  Precision: 1.0000, Recall: 1.0000, F1: 1.0000\n",
      "==================================================\n"
     ]
    },
    {
     "name": "stderr",
     "output_type": "stream",
     "text": [
      "Evaluating: 100%|██████████| 27/27 [00:10<00:00,  2.48it/s]\n"
     ]
    },
    {
     "name": "stdout",
     "output_type": "stream",
     "text": [
      "\n",
      "======================================================================\n",
      "📝 VALIDATION - TEXT EXAMPLES:\n",
      "======================================================================\n",
      "\n",
      "Example 1:\n",
      "  Reference: 'he slowly takes a short walk in the open air each day.'\n",
      "  Predicted: 'he slowly takes a short walk in the open air each day.'\n",
      "  Disease: Normal → Normal ✓\n",
      "\n",
      "Example 2:\n",
      "  Reference: 'this is not a program of socialized medicine'\n",
      "  Predicted: 'this is not a program of socialized medicine'\n",
      "  Disease: Normal → Normal ✓\n",
      "\n",
      "Example 3:\n",
      "  Reference: 'the blue spot is on the key again.'\n",
      "  Predicted: 'the view spot is on the key again.'\n",
      "  Disease: Normal → Normal ✓\n",
      "\n",
      "Example 4:\n",
      "  Reference: 'they used an aggressive policeman to flag thoughtless motorists'\n",
      "  Predicted: 'they used an aggressive policeman to flag thoughtless motorists'\n",
      "  Disease: Normal → Normal ✓\n",
      "\n",
      "Example 5:\n",
      "  Reference: 'when you are through write a clean report.'\n",
      "  Predicted: 'when you are through write a clean report.'\n",
      "  Disease: Normal → Normal ✓\n",
      "======================================================================\n",
      "\n",
      "📊 VALIDATION METRICS:\n",
      "   Loss: 0.0585\n",
      "   Disease - Acc: 1.0000, F1: 1.0000\n",
      "   Disease - Prec: 1.0000, Rec: 1.0000\n",
      "   Speech  - WER: 0.0763, CER: 0.0541\n",
      "✅ Best model saved: ../checkpoints_exp/checkpoints_base.en_encoder_learning/best_multitask_model_base.en.pt\n",
      "\n",
      "==================================================\n",
      "EPOCH 29/50\n",
      "==================================================\n"
     ]
    },
    {
     "name": "stderr",
     "output_type": "stream",
     "text": [
      "Training Epoch 29:   0%|          | 0/109 [00:00<?, ?it/s]"
     ]
    },
    {
     "name": "stdout",
     "output_type": "stream",
     "text": [
      "\n",
      "=== METRICS DEBUG (Using EOT: 50256) ===\n",
      "Processing 16 samples...\n",
      "Sample 0:\n",
      "  Pred: 'it also provides for funds to clear slums and help...'\n",
      "  Ref:  'it also provides for funds to clear slums and help...'\n",
      "Sample 1:\n",
      "  Pred: 'this is a period of transition for me....'\n",
      "  Ref:  'this is a period of transition for me....'\n",
      "Sample 2:\n",
      "  Pred: 'i have had my bell rung....'\n",
      "  Ref:  'i have had my bell rung....'\n",
      "\n",
      "Metrics computed (using proper Whisper tokens):\n",
      "  WER: 0.0000, CER: 0.0000\n",
      "  Disease Acc: 1.0000\n",
      "  Precision: 1.0000, Recall: 1.0000, F1: 1.0000\n",
      "==================================================\n"
     ]
    },
    {
     "name": "stderr",
     "output_type": "stream",
     "text": [
      "Training Epoch 29:   1%|          | 1/109 [00:02<03:51,  2.15s/it]"
     ]
    },
    {
     "name": "stdout",
     "output_type": "stream",
     "text": [
      "\n",
      "=== METRICS DEBUG (Using EOT: 50256) ===\n",
      "Processing 16 samples...\n"
     ]
    },
    {
     "name": "stderr",
     "output_type": "stream",
     "text": [
      "Training Epoch 29:   2%|▏         | 2/109 [00:02<01:53,  1.06s/it]"
     ]
    },
    {
     "name": "stdout",
     "output_type": "stream",
     "text": [
      "Sample 0:\n",
      "  Pred: 'i didn't know where they were coming from....'\n",
      "  Ref:  'i didn't know where they were coming from....'\n",
      "Sample 1:\n",
      "  Pred: 'two cars came over a crest their chrome and glass ...'\n",
      "  Ref:  'two cars came over a crest their chrome and glass ...'\n",
      "Sample 2:\n",
      "  Pred: 'while waiting for chipper she crisscrossed the squ...'\n",
      "  Ref:  'while waiting for chipper she crisscrossed the squ...'\n",
      "\n",
      "Metrics computed (using proper Whisper tokens):\n",
      "  WER: 0.0000, CER: 0.0000\n",
      "  Disease Acc: 1.0000\n",
      "  Precision: 1.0000, Recall: 1.0000, F1: 1.0000\n",
      "==================================================\n"
     ]
    },
    {
     "name": "stderr",
     "output_type": "stream",
     "text": [
      "Training Epoch 29: 100%|██████████| 109/109 [01:25<00:00,  1.27it/s]\n"
     ]
    },
    {
     "name": "stdout",
     "output_type": "stream",
     "text": [
      "\n",
      "======================================================================\n",
      "📝 TRAINING EPOCH 29 - TEXT EXAMPLES:\n",
      "======================================================================\n",
      "\n",
      "Example 1:\n",
      "  Reference: 'it also provides for funds to clear slums and help colleges build dormitories.'\n",
      "  Predicted: 'it also provides for funds to clear slums and help colleges build dormitories.'\n",
      "  Disease: Normal → Normal ✓\n",
      "\n",
      "Example 2:\n",
      "  Reference: 'this is a period of transition for me.'\n",
      "  Predicted: 'this is a period of transition for me.'\n",
      "  Disease: Normal → Normal ✓\n",
      "\n",
      "Example 3:\n",
      "  Reference: 'i have had my bell rung.'\n",
      "  Predicted: 'i have had my bell rung.'\n",
      "  Disease: Dysphonia → Dysphonia ✓\n",
      "\n",
      "Example 4:\n",
      "  Reference: 'palm oil protects the surfaces of steel sheets before they are plated with tin'\n",
      "  Predicted: 'palm oil protects the surfaces of steel sheets before they are plated with tin'\n",
      "  Disease: Dysarthria → Dysarthria ✓\n",
      "\n",
      "Example 5:\n",
      "  Reference: 'nothing has been done yet to take advantage of the enabling legislation.'\n",
      "  Predicted: 'nothing has been done yet to take advantage of the enabling legislation.'\n",
      "  Disease: Normal → Normal ✓\n",
      "======================================================================\n",
      "\n",
      "📈 TRAINING METRICS:\n",
      "   Loss: 0.0007 (Cls: 0.0001, Trans: 0.0032)\n",
      "   Disease - Acc: 1.0000, F1: 1.0000\n",
      "   Disease - Prec: 1.0000, Rec: 1.0000\n",
      "   Speech  - WER: 0.0003, CER: 0.0003\n",
      "   Weights - α: 0.1957, β: 0.8043\n"
     ]
    },
    {
     "name": "stderr",
     "output_type": "stream",
     "text": [
      "Evaluating:   4%|▎         | 1/27 [00:00<00:22,  1.17it/s]"
     ]
    },
    {
     "name": "stdout",
     "output_type": "stream",
     "text": [
      "\n",
      "=== METRICS DEBUG (Using EOT: 50256) ===\n",
      "Processing 8 samples...\n",
      "Sample 0:\n",
      "  Pred: 'he slowly takes a short walk in the open air each ...'\n",
      "  Ref:  'he slowly takes a short walk in the open air each ...'\n",
      "Sample 1:\n",
      "  Pred: 'this is not a program of socialized medicine...'\n",
      "  Ref:  'this is not a program of socialized medicine...'\n",
      "Sample 2:\n",
      "  Pred: 'the view spot is on the key again....'\n",
      "  Ref:  'the blue spot is on the key again....'\n",
      "\n",
      "Metrics computed (using proper Whisper tokens):\n",
      "  WER: 0.0133, CER: 0.0098\n",
      "  Disease Acc: 1.0000\n",
      "  Precision: 1.0000, Recall: 1.0000, F1: 1.0000\n",
      "==================================================\n",
      "\n",
      "=== METRICS DEBUG (Using EOT: 50256) ===\n",
      "Processing 8 samples...\n"
     ]
    },
    {
     "name": "stderr",
     "output_type": "stream",
     "text": [
      "Evaluating:   7%|▋         | 2/27 [00:01<00:11,  2.13it/s]"
     ]
    },
    {
     "name": "stdout",
     "output_type": "stream",
     "text": [
      "Sample 0:\n",
      "  Pred: 'it also provides for funds to clear slums and help...'\n",
      "  Ref:  'it also provides for funds to clear slums and help...'\n",
      "Sample 1:\n",
      "  Pred: 'there is definitely some ligament damage in his kn...'\n",
      "  Ref:  'there is definitely some ligament damage in his kn...'\n",
      "Sample 2:\n",
      "  Pred: 'un unoccupied roadway the bottle shattered into a ...'\n",
      "  Ref:  'on unoccupied roadway the bottle shattered into a ...'\n",
      "\n",
      "Metrics computed (using proper Whisper tokens):\n",
      "  WER: 0.0267, CER: 0.0048\n",
      "  Disease Acc: 1.0000\n",
      "  Precision: 1.0000, Recall: 1.0000, F1: 1.0000\n",
      "==================================================\n"
     ]
    },
    {
     "name": "stderr",
     "output_type": "stream",
     "text": [
      "Evaluating: 100%|██████████| 27/27 [00:10<00:00,  2.61it/s]\n"
     ]
    },
    {
     "name": "stdout",
     "output_type": "stream",
     "text": [
      "\n",
      "======================================================================\n",
      "📝 VALIDATION - TEXT EXAMPLES:\n",
      "======================================================================\n",
      "\n",
      "Example 1:\n",
      "  Reference: 'he slowly takes a short walk in the open air each day.'\n",
      "  Predicted: 'he slowly takes a short walk in the open air each day.'\n",
      "  Disease: Normal → Normal ✓\n",
      "\n",
      "Example 2:\n",
      "  Reference: 'this is not a program of socialized medicine'\n",
      "  Predicted: 'this is not a program of socialized medicine'\n",
      "  Disease: Normal → Normal ✓\n",
      "\n",
      "Example 3:\n",
      "  Reference: 'the blue spot is on the key again.'\n",
      "  Predicted: 'the view spot is on the key again.'\n",
      "  Disease: Normal → Normal ✓\n",
      "\n",
      "Example 4:\n",
      "  Reference: 'they used an aggressive policeman to flag thoughtless motorists'\n",
      "  Predicted: 'they used an aggressive policeman to flag thoughtless motorists'\n",
      "  Disease: Normal → Normal ✓\n",
      "\n",
      "Example 5:\n",
      "  Reference: 'when you are through write a clean report.'\n",
      "  Predicted: 'when you are through write a clean report.'\n",
      "  Disease: Normal → Normal ✓\n",
      "======================================================================\n",
      "\n",
      "📊 VALIDATION METRICS:\n",
      "   Loss: 0.0582\n",
      "   Disease - Acc: 1.0000, F1: 1.0000\n",
      "   Disease - Prec: 1.0000, Rec: 1.0000\n",
      "   Speech  - WER: 0.0758, CER: 0.0536\n",
      "✅ Best model saved: ../checkpoints_exp/checkpoints_base.en_encoder_learning/best_multitask_model_base.en.pt\n",
      "\n",
      "==================================================\n",
      "EPOCH 30/50\n",
      "==================================================\n"
     ]
    },
    {
     "name": "stderr",
     "output_type": "stream",
     "text": [
      "Training Epoch 30:   0%|          | 0/109 [00:00<?, ?it/s]"
     ]
    },
    {
     "name": "stdout",
     "output_type": "stream",
     "text": [
      "\n",
      "=== METRICS DEBUG (Using EOT: 50256) ===\n",
      "Processing 16 samples...\n"
     ]
    },
    {
     "name": "stderr",
     "output_type": "stream",
     "text": [
      "Training Epoch 30:   1%|          | 1/109 [00:01<03:23,  1.88s/it]"
     ]
    },
    {
     "name": "stdout",
     "output_type": "stream",
     "text": [
      "Sample 0:\n",
      "  Pred: 'a long flowing beard clings to his chin...'\n",
      "  Ref:  'a long flowing beard clings to his chin...'\n",
      "Sample 1:\n",
      "  Pred: 'he gazed away from us as we approached...'\n",
      "  Ref:  'he gazed away from us as we approached...'\n",
      "Sample 2:\n",
      "  Pred: 'the prowler wore a ski mask for disguise....'\n",
      "  Ref:  'the prowler wore a ski mask for disguise....'\n",
      "\n",
      "Metrics computed (using proper Whisper tokens):\n",
      "  WER: 0.0000, CER: 0.0000\n",
      "  Disease Acc: 1.0000\n",
      "  Precision: 1.0000, Recall: 1.0000, F1: 1.0000\n",
      "==================================================\n",
      "\n",
      "=== METRICS DEBUG (Using EOT: 50256) ===\n",
      "Processing 16 samples...\n"
     ]
    },
    {
     "name": "stderr",
     "output_type": "stream",
     "text": [
      "Training Epoch 30:   2%|▏         | 2/109 [00:02<01:41,  1.05it/s]"
     ]
    },
    {
     "name": "stdout",
     "output_type": "stream",
     "text": [
      "Sample 0:\n",
      "  Pred: 'he played basketball there while working toward a ...'\n",
      "  Ref:  'he played basketball there while working toward a ...'\n",
      "Sample 1:\n",
      "  Pred: 'while waiting for chipper she crisscrossed the squ...'\n",
      "  Ref:  'while waiting for chipper she crisscrossed the squ...'\n",
      "Sample 2:\n",
      "  Pred: 'but he always answers banana oil!...'\n",
      "  Ref:  'but he always answers banana oil!...'\n",
      "\n",
      "Metrics computed (using proper Whisper tokens):\n",
      "  WER: 0.0000, CER: 0.0000\n",
      "  Disease Acc: 1.0000\n",
      "  Precision: 1.0000, Recall: 1.0000, F1: 1.0000\n",
      "==================================================\n"
     ]
    },
    {
     "name": "stderr",
     "output_type": "stream",
     "text": [
      "Training Epoch 30: 100%|██████████| 109/109 [01:25<00:00,  1.28it/s]\n"
     ]
    },
    {
     "name": "stdout",
     "output_type": "stream",
     "text": [
      "\n",
      "======================================================================\n",
      "📝 TRAINING EPOCH 30 - TEXT EXAMPLES:\n",
      "======================================================================\n",
      "\n",
      "Example 1:\n",
      "  Reference: 'a long flowing beard clings to his chin'\n",
      "  Predicted: 'a long flowing beard clings to his chin'\n",
      "  Disease: Dysphonia → Dysphonia ✓\n",
      "\n",
      "Example 2:\n",
      "  Reference: 'he gazed away from us as we approached'\n",
      "  Predicted: 'he gazed away from us as we approached'\n",
      "  Disease: Normal → Normal ✓\n",
      "\n",
      "Example 3:\n",
      "  Reference: 'the prowler wore a ski mask for disguise.'\n",
      "  Predicted: 'the prowler wore a ski mask for disguise.'\n",
      "  Disease: Normal → Normal ✓\n",
      "\n",
      "Example 4:\n",
      "  Reference: 'all the big baseball players get traded.'\n",
      "  Predicted: 'all the big baseball players get traded.'\n",
      "  Disease: Dysphonia → Dysphonia ✓\n",
      "\n",
      "Example 5:\n",
      "  Reference: 'internal national responsibility now a truism need not be documented'\n",
      "  Predicted: 'internal national responsibility now a truism need not be documented'\n",
      "  Disease: Normal → Normal ✓\n",
      "======================================================================\n",
      "\n",
      "📈 TRAINING METRICS:\n",
      "   Loss: 0.0007 (Cls: 0.0001, Trans: 0.0029)\n",
      "   Disease - Acc: 1.0000, F1: 1.0000\n",
      "   Disease - Prec: 1.0000, Rec: 1.0000\n",
      "   Speech  - WER: 0.0002, CER: 0.0001\n",
      "   Weights - α: 0.1957, β: 0.8043\n"
     ]
    },
    {
     "name": "stderr",
     "output_type": "stream",
     "text": [
      "Evaluating:   4%|▎         | 1/27 [00:00<00:22,  1.17it/s]"
     ]
    },
    {
     "name": "stdout",
     "output_type": "stream",
     "text": [
      "\n",
      "=== METRICS DEBUG (Using EOT: 50256) ===\n",
      "Processing 8 samples...\n",
      "Sample 0:\n",
      "  Pred: 'he slowly takes a short walk in the open air each ...'\n",
      "  Ref:  'he slowly takes a short walk in the open air each ...'\n",
      "Sample 1:\n",
      "  Pred: 'this is not a program of socialized medicine...'\n",
      "  Ref:  'this is not a program of socialized medicine...'\n",
      "Sample 2:\n",
      "  Pred: 'the view spot is on the key again....'\n",
      "  Ref:  'the blue spot is on the key again....'\n",
      "\n",
      "Metrics computed (using proper Whisper tokens):\n",
      "  WER: 0.0133, CER: 0.0098\n",
      "  Disease Acc: 1.0000\n",
      "  Precision: 1.0000, Recall: 1.0000, F1: 1.0000\n",
      "==================================================\n"
     ]
    },
    {
     "name": "stderr",
     "output_type": "stream",
     "text": [
      "Evaluating:   7%|▋         | 2/27 [00:01<00:14,  1.76it/s]"
     ]
    },
    {
     "name": "stdout",
     "output_type": "stream",
     "text": [
      "\n",
      "=== METRICS DEBUG (Using EOT: 50256) ===\n",
      "Processing 8 samples...\n",
      "Sample 0:\n",
      "  Pred: 'it also provides for funds to clear slums and help...'\n",
      "  Ref:  'it also provides for funds to clear slums and help...'\n",
      "Sample 1:\n",
      "  Pred: 'there is definitely some ligament damage in his kn...'\n",
      "  Ref:  'there is definitely some ligament damage in his kn...'\n",
      "Sample 2:\n",
      "  Pred: 'un unoccupied roadway the bottle shattered into a ...'\n",
      "  Ref:  'on unoccupied roadway the bottle shattered into a ...'\n",
      "\n",
      "Metrics computed (using proper Whisper tokens):\n",
      "  WER: 0.0267, CER: 0.0048\n",
      "  Disease Acc: 1.0000\n",
      "  Precision: 1.0000, Recall: 1.0000, F1: 1.0000\n",
      "==================================================\n"
     ]
    },
    {
     "name": "stderr",
     "output_type": "stream",
     "text": [
      "Evaluating: 100%|██████████| 27/27 [00:11<00:00,  2.39it/s]\n"
     ]
    },
    {
     "name": "stdout",
     "output_type": "stream",
     "text": [
      "\n",
      "======================================================================\n",
      "📝 VALIDATION - TEXT EXAMPLES:\n",
      "======================================================================\n",
      "\n",
      "Example 1:\n",
      "  Reference: 'he slowly takes a short walk in the open air each day.'\n",
      "  Predicted: 'he slowly takes a short walk in the open air each day.'\n",
      "  Disease: Normal → Normal ✓\n",
      "\n",
      "Example 2:\n",
      "  Reference: 'this is not a program of socialized medicine'\n",
      "  Predicted: 'this is not a program of socialized medicine'\n",
      "  Disease: Normal → Normal ✓\n",
      "\n",
      "Example 3:\n",
      "  Reference: 'the blue spot is on the key again.'\n",
      "  Predicted: 'the view spot is on the key again.'\n",
      "  Disease: Normal → Normal ✓\n",
      "\n",
      "Example 4:\n",
      "  Reference: 'they used an aggressive policeman to flag thoughtless motorists'\n",
      "  Predicted: 'they used an aggressive policeman to flag thoughtless motorists'\n",
      "  Disease: Normal → Normal ✓\n",
      "\n",
      "Example 5:\n",
      "  Reference: 'when you are through write a clean report.'\n",
      "  Predicted: 'when you are through write a clean report.'\n",
      "  Disease: Normal → Normal ✓\n",
      "======================================================================\n",
      "\n",
      "📊 VALIDATION METRICS:\n",
      "   Loss: 0.0581\n",
      "   Disease - Acc: 1.0000, F1: 1.0000\n",
      "   Disease - Prec: 1.0000, Rec: 1.0000\n",
      "   Speech  - WER: 0.0764, CER: 0.0542\n",
      "✅ Best model saved: ../checkpoints_exp/checkpoints_base.en_encoder_learning/best_multitask_model_base.en.pt\n",
      "\n",
      "==================================================\n",
      "EPOCH 31/50\n",
      "==================================================\n"
     ]
    },
    {
     "name": "stderr",
     "output_type": "stream",
     "text": [
      "Training Epoch 31:   0%|          | 0/109 [00:00<?, ?it/s]"
     ]
    },
    {
     "name": "stdout",
     "output_type": "stream",
     "text": [
      "\n",
      "=== METRICS DEBUG (Using EOT: 50256) ===\n",
      "Processing 16 samples...\n"
     ]
    },
    {
     "name": "stderr",
     "output_type": "stream",
     "text": [
      "Training Epoch 31:   1%|          | 1/109 [00:01<03:19,  1.84s/it]"
     ]
    },
    {
     "name": "stdout",
     "output_type": "stream",
     "text": [
      "Sample 0:\n",
      "  Pred: 'soon the office work claimed all her time...'\n",
      "  Ref:  'soon the office work claimed all her time...'\n",
      "Sample 1:\n",
      "  Pred: 'carl lives in a lively home....'\n",
      "  Ref:  'carl lives in a lively home....'\n",
      "Sample 2:\n",
      "  Pred: 'he took his mask from his forehead and threw it un...'\n",
      "  Ref:  'he took his mask from his forehead and threw it un...'\n",
      "\n",
      "Metrics computed (using proper Whisper tokens):\n",
      "  WER: 0.0000, CER: 0.0000\n",
      "  Disease Acc: 1.0000\n",
      "  Precision: 1.0000, Recall: 1.0000, F1: 1.0000\n",
      "==================================================\n",
      "\n",
      "=== METRICS DEBUG (Using EOT: 50256) ===\n",
      "Processing 16 samples...\n"
     ]
    },
    {
     "name": "stderr",
     "output_type": "stream",
     "text": [
      "Training Epoch 31:   2%|▏         | 2/109 [00:02<01:38,  1.09it/s]"
     ]
    },
    {
     "name": "stdout",
     "output_type": "stream",
     "text": [
      "Sample 0:\n",
      "  Pred: 'the haunted house was a hit due to outstanding aud...'\n",
      "  Ref:  'the haunted house was a hit due to outstanding aud...'\n",
      "Sample 1:\n",
      "  Pred: 'you're used to being on the field....'\n",
      "  Ref:  'you're used to being on the field....'\n",
      "Sample 2:\n",
      "  Pred: 'grandfather likes to be modern in his language....'\n",
      "  Ref:  'grandfather likes to be modern in his language....'\n",
      "\n",
      "Metrics computed (using proper Whisper tokens):\n",
      "  WER: 0.0000, CER: 0.0000\n",
      "  Disease Acc: 1.0000\n",
      "  Precision: 1.0000, Recall: 1.0000, F1: 1.0000\n",
      "==================================================\n"
     ]
    },
    {
     "name": "stderr",
     "output_type": "stream",
     "text": [
      "Training Epoch 31: 100%|██████████| 109/109 [01:24<00:00,  1.29it/s]\n"
     ]
    },
    {
     "name": "stdout",
     "output_type": "stream",
     "text": [
      "\n",
      "======================================================================\n",
      "📝 TRAINING EPOCH 31 - TEXT EXAMPLES:\n",
      "======================================================================\n",
      "\n",
      "Example 1:\n",
      "  Reference: 'soon the office work claimed all her time'\n",
      "  Predicted: 'soon the office work claimed all her time'\n",
      "  Disease: Normal → Normal ✓\n",
      "\n",
      "Example 2:\n",
      "  Reference: 'carl lives in a lively home.'\n",
      "  Predicted: 'carl lives in a lively home.'\n",
      "  Disease: Dysphonia → Dysphonia ✓\n",
      "\n",
      "Example 3:\n",
      "  Reference: 'he took his mask from his forehead and threw it unexpectedly across the deck'\n",
      "  Predicted: 'he took his mask from his forehead and threw it unexpectedly across the deck'\n",
      "  Disease: Normal → Normal ✓\n",
      "\n",
      "Example 4:\n",
      "  Reference: 'when he speaks his voice is just a bit cracked and quivers a trifle.'\n",
      "  Predicted: 'when he speaks his voice is just a bit cracked and quivers a trifle.'\n",
      "  Disease: Normal → Normal ✓\n",
      "\n",
      "Example 5:\n",
      "  Reference: 'i tried to tell people in the community.'\n",
      "  Predicted: 'i tried to tell people in the community.'\n",
      "  Disease: Dysphonia → Dysphonia ✓\n",
      "======================================================================\n",
      "\n",
      "📈 TRAINING METRICS:\n",
      "   Loss: 0.0006 (Cls: 0.0001, Trans: 0.0026)\n",
      "   Disease - Acc: 1.0000, F1: 1.0000\n",
      "   Disease - Prec: 1.0000, Rec: 1.0000\n",
      "   Speech  - WER: 0.0004, CER: 0.0004\n",
      "   Weights - α: 0.1957, β: 0.8043\n"
     ]
    },
    {
     "name": "stderr",
     "output_type": "stream",
     "text": [
      "Evaluating:   4%|▎         | 1/27 [00:00<00:23,  1.11it/s]"
     ]
    },
    {
     "name": "stdout",
     "output_type": "stream",
     "text": [
      "\n",
      "=== METRICS DEBUG (Using EOT: 50256) ===\n",
      "Processing 8 samples...\n",
      "Sample 0:\n",
      "  Pred: 'he slowly takes a short walk in the open air each ...'\n",
      "  Ref:  'he slowly takes a short walk in the open air each ...'\n",
      "Sample 1:\n",
      "  Pred: 'this is not a program of socialized medicine...'\n",
      "  Ref:  'this is not a program of socialized medicine...'\n",
      "Sample 2:\n",
      "  Pred: 'the view spot is on the key again....'\n",
      "  Ref:  'the blue spot is on the key again....'\n",
      "\n",
      "Metrics computed (using proper Whisper tokens):\n",
      "  WER: 0.0133, CER: 0.0098\n",
      "  Disease Acc: 1.0000\n",
      "  Precision: 1.0000, Recall: 1.0000, F1: 1.0000\n",
      "==================================================\n",
      "\n",
      "=== METRICS DEBUG (Using EOT: 50256) ===\n",
      "Processing 8 samples...\n",
      "Sample 0:\n",
      "  Pred: 'it also provides for funds to clear slums and help...'\n",
      "  Ref:  'it also provides for funds to clear slums and help...'\n",
      "Sample 1:\n",
      "  Pred: 'there is definitely some ligament damage in his kn...'\n",
      "  Ref:  'there is definitely some ligament damage in his kn...'\n",
      "Sample 2:\n",
      "  Pred: 'un unoccupied roadway the bottle shattered into a ...'\n",
      "  Ref:  'on unoccupied roadway the bottle shattered into a ...'\n",
      "\n",
      "Metrics computed (using proper Whisper tokens):\n",
      "  WER: 0.0267, CER: 0.0048\n",
      "  Disease Acc: 1.0000\n",
      "  Precision: 1.0000, Recall: 1.0000, F1: 1.0000\n",
      "==================================================\n"
     ]
    },
    {
     "name": "stderr",
     "output_type": "stream",
     "text": [
      "Evaluating: 100%|██████████| 27/27 [00:10<00:00,  2.51it/s]\n"
     ]
    },
    {
     "name": "stdout",
     "output_type": "stream",
     "text": [
      "\n",
      "======================================================================\n",
      "📝 VALIDATION - TEXT EXAMPLES:\n",
      "======================================================================\n",
      "\n",
      "Example 1:\n",
      "  Reference: 'he slowly takes a short walk in the open air each day.'\n",
      "  Predicted: 'he slowly takes a short walk in the open air each day.'\n",
      "  Disease: Normal → Normal ✓\n",
      "\n",
      "Example 2:\n",
      "  Reference: 'this is not a program of socialized medicine'\n",
      "  Predicted: 'this is not a program of socialized medicine'\n",
      "  Disease: Normal → Normal ✓\n",
      "\n",
      "Example 3:\n",
      "  Reference: 'the blue spot is on the key again.'\n",
      "  Predicted: 'the view spot is on the key again.'\n",
      "  Disease: Normal → Normal ✓\n",
      "\n",
      "Example 4:\n",
      "  Reference: 'they used an aggressive policeman to flag thoughtless motorists'\n",
      "  Predicted: 'they used an aggressive policeman to flag thoughtless motorists'\n",
      "  Disease: Normal → Normal ✓\n",
      "\n",
      "Example 5:\n",
      "  Reference: 'when you are through write a clean report.'\n",
      "  Predicted: 'when you are through write a clean report.'\n",
      "  Disease: Normal → Normal ✓\n",
      "======================================================================\n",
      "\n",
      "📊 VALIDATION METRICS:\n",
      "   Loss: 0.0579\n",
      "   Disease - Acc: 1.0000, F1: 1.0000\n",
      "   Disease - Prec: 1.0000, Rec: 1.0000\n",
      "   Speech  - WER: 0.0771, CER: 0.0542\n",
      "✅ Best model saved: ../checkpoints_exp/checkpoints_base.en_encoder_learning/best_multitask_model_base.en.pt\n",
      "\n",
      "==================================================\n",
      "EPOCH 32/50\n",
      "==================================================\n"
     ]
    },
    {
     "name": "stderr",
     "output_type": "stream",
     "text": [
      "Training Epoch 32:   0%|          | 0/109 [00:00<?, ?it/s]"
     ]
    },
    {
     "name": "stdout",
     "output_type": "stream",
     "text": [
      "\n",
      "=== METRICS DEBUG (Using EOT: 50256) ===\n",
      "Processing 16 samples...\n"
     ]
    },
    {
     "name": "stderr",
     "output_type": "stream",
     "text": [
      "Training Epoch 32:   1%|          | 1/109 [00:01<03:27,  1.92s/it]"
     ]
    },
    {
     "name": "stdout",
     "output_type": "stream",
     "text": [
      "Sample 0:\n",
      "  Pred: 'he has never himself done anything for which to be...'\n",
      "  Ref:  'he has never himself done anything for which to be...'\n",
      "Sample 1:\n",
      "  Pred: 'coffee is grown on steep jungle like slopes in tem...'\n",
      "  Ref:  'coffee is grown on steep jungle like slopes in tem...'\n",
      "Sample 2:\n",
      "  Pred: 'palm oil protects the surfaces of steel sheets bef...'\n",
      "  Ref:  'palm oil protects the surfaces of steel sheets bef...'\n",
      "\n",
      "Metrics computed (using proper Whisper tokens):\n",
      "  WER: 0.0113, CER: 0.0041\n",
      "  Disease Acc: 1.0000\n",
      "  Precision: 1.0000, Recall: 1.0000, F1: 1.0000\n",
      "==================================================\n",
      "\n",
      "=== METRICS DEBUG (Using EOT: 50256) ===\n",
      "Processing 16 samples...\n"
     ]
    },
    {
     "name": "stderr",
     "output_type": "stream",
     "text": [
      "Training Epoch 32:   2%|▏         | 2/109 [00:02<01:48,  1.01s/it]"
     ]
    },
    {
     "name": "stdout",
     "output_type": "stream",
     "text": [
      "Sample 0:\n",
      "  Pred: 'even then if she took one step forward he could ca...'\n",
      "  Ref:  'even then if she took one step forward he could ca...'\n",
      "Sample 1:\n",
      "  Pred: 'high so it only bounce harmlessly but loudly off a...'\n",
      "  Ref:  'high so it only bounce harmlessly but loudly off a...'\n",
      "Sample 2:\n",
      "  Pred: 'shell shock caused by shrapnel is sometimes cured ...'\n",
      "  Ref:  'shell shock caused by shrapnel is sometimes cured ...'\n",
      "\n",
      "Metrics computed (using proper Whisper tokens):\n",
      "  WER: 0.0000, CER: 0.0000\n",
      "  Disease Acc: 1.0000\n",
      "  Precision: 1.0000, Recall: 1.0000, F1: 1.0000\n",
      "==================================================\n"
     ]
    },
    {
     "name": "stderr",
     "output_type": "stream",
     "text": [
      "Training Epoch 32: 100%|██████████| 109/109 [01:25<00:00,  1.28it/s]\n"
     ]
    },
    {
     "name": "stdout",
     "output_type": "stream",
     "text": [
      "\n",
      "======================================================================\n",
      "📝 TRAINING EPOCH 32 - TEXT EXAMPLES:\n",
      "======================================================================\n",
      "\n",
      "Example 1:\n",
      "  Reference: 'he has never himself done anything for which to be hated which of us has'\n",
      "  Predicted: 'he has never himself done anything for which to be hated which of us has'\n",
      "  Disease: Dysarthria → Dysarthria ✓\n",
      "\n",
      "Example 2:\n",
      "  Reference: 'coffee is grown on steep jungle like slopes in temperate zones'\n",
      "  Predicted: 'coffee is grown on steep jungle like slopes in temperate zones'\n",
      "  Disease: Dysarthria → Dysarthria ✓\n",
      "\n",
      "Example 3:\n",
      "  Reference: 'palm oil protects the surfaces of steel sheets before they are plated with tin'\n",
      "  Predicted: 'palm oil protects the surfaces of steel sheets before they are plated with tin'\n",
      "  Disease: Dysarthria → Dysarthria ✓\n",
      "\n",
      "Example 4:\n",
      "  Reference: 'day after day some new episode is reported.'\n",
      "  Predicted: 'day after day some new episode is reported.'\n",
      "  Disease: Dysphonia → Dysphonia ✓\n",
      "\n",
      "Example 5:\n",
      "  Reference: 'the prospect of cutting back spending is an unpleasant one for any governor'\n",
      "  Predicted: 'the prospect of cutting back spending is an unpleasant one for any governor'\n",
      "  Disease: Dysarthria → Dysarthria ✓\n",
      "======================================================================\n",
      "\n",
      "📈 TRAINING METRICS:\n",
      "   Loss: 0.0006 (Cls: 0.0001, Trans: 0.0024)\n",
      "   Disease - Acc: 1.0000, F1: 1.0000\n",
      "   Disease - Prec: 1.0000, Rec: 1.0000\n",
      "   Speech  - WER: 0.0004, CER: 0.0004\n",
      "   Weights - α: 0.1957, β: 0.8043\n"
     ]
    },
    {
     "name": "stderr",
     "output_type": "stream",
     "text": [
      "Evaluating:   4%|▎         | 1/27 [00:00<00:25,  1.03it/s]"
     ]
    },
    {
     "name": "stdout",
     "output_type": "stream",
     "text": [
      "\n",
      "=== METRICS DEBUG (Using EOT: 50256) ===\n",
      "Processing 8 samples...\n",
      "Sample 0:\n",
      "  Pred: 'he slowly takes a short walk in the open air each ...'\n",
      "  Ref:  'he slowly takes a short walk in the open air each ...'\n",
      "Sample 1:\n",
      "  Pred: 'this is not a program of socialized medicine...'\n",
      "  Ref:  'this is not a program of socialized medicine...'\n",
      "Sample 2:\n",
      "  Pred: 'the view spot is on the key again....'\n",
      "  Ref:  'the blue spot is on the key again....'\n",
      "\n",
      "Metrics computed (using proper Whisper tokens):\n",
      "  WER: 0.0133, CER: 0.0098\n",
      "  Disease Acc: 1.0000\n",
      "  Precision: 1.0000, Recall: 1.0000, F1: 1.0000\n",
      "==================================================\n",
      "\n",
      "=== METRICS DEBUG (Using EOT: 50256) ===\n",
      "Processing 8 samples...\n",
      "Sample 0:\n",
      "  Pred: 'it also provides for funds to clear slums and help...'\n",
      "  Ref:  'it also provides for funds to clear slums and help...'\n",
      "Sample 1:\n",
      "  Pred: 'there is definitely some ligament damage in his kn...'\n",
      "  Ref:  'there is definitely some ligament damage in his kn...'\n",
      "Sample 2:\n",
      "  Pred: 'un unoccupied roadway the bottle shattered into a ...'\n",
      "  Ref:  'on unoccupied roadway the bottle shattered into a ...'\n",
      "\n",
      "Metrics computed (using proper Whisper tokens):\n",
      "  WER: 0.0267, CER: 0.0048\n",
      "  Disease Acc: 1.0000\n",
      "  Precision: 1.0000, Recall: 1.0000, F1: 1.0000\n",
      "==================================================\n"
     ]
    },
    {
     "name": "stderr",
     "output_type": "stream",
     "text": [
      "Evaluating: 100%|██████████| 27/27 [00:10<00:00,  2.50it/s]\n"
     ]
    },
    {
     "name": "stdout",
     "output_type": "stream",
     "text": [
      "\n",
      "======================================================================\n",
      "📝 VALIDATION - TEXT EXAMPLES:\n",
      "======================================================================\n",
      "\n",
      "Example 1:\n",
      "  Reference: 'he slowly takes a short walk in the open air each day.'\n",
      "  Predicted: 'he slowly takes a short walk in the open air each day.'\n",
      "  Disease: Normal → Normal ✓\n",
      "\n",
      "Example 2:\n",
      "  Reference: 'this is not a program of socialized medicine'\n",
      "  Predicted: 'this is not a program of socialized medicine'\n",
      "  Disease: Normal → Normal ✓\n",
      "\n",
      "Example 3:\n",
      "  Reference: 'the blue spot is on the key again.'\n",
      "  Predicted: 'the view spot is on the key again.'\n",
      "  Disease: Normal → Normal ✓\n",
      "\n",
      "Example 4:\n",
      "  Reference: 'they used an aggressive policeman to flag thoughtless motorists'\n",
      "  Predicted: 'they used an aggressive policeman to flag thoughtless motorists'\n",
      "  Disease: Normal → Normal ✓\n",
      "\n",
      "Example 5:\n",
      "  Reference: 'when you are through write a clean report.'\n",
      "  Predicted: 'when you are through write a clean report.'\n",
      "  Disease: Normal → Normal ✓\n",
      "======================================================================\n",
      "\n",
      "📊 VALIDATION METRICS:\n",
      "   Loss: 0.0579\n",
      "   Disease - Acc: 1.0000, F1: 1.0000\n",
      "   Disease - Prec: 1.0000, Rec: 1.0000\n",
      "   Speech  - WER: 0.0778, CER: 0.0554\n",
      "⏳ No improvement. Patience: 1/7\n",
      "\n",
      "==================================================\n",
      "EPOCH 33/50\n",
      "==================================================\n"
     ]
    },
    {
     "name": "stderr",
     "output_type": "stream",
     "text": [
      "Training Epoch 33:   0%|          | 0/109 [00:00<?, ?it/s]"
     ]
    },
    {
     "name": "stdout",
     "output_type": "stream",
     "text": [
      "\n",
      "=== METRICS DEBUG (Using EOT: 50256) ===\n",
      "Processing 16 samples...\n"
     ]
    },
    {
     "name": "stderr",
     "output_type": "stream",
     "text": [
      "Training Epoch 33:   1%|          | 1/109 [00:02<03:42,  2.06s/it]"
     ]
    },
    {
     "name": "stdout",
     "output_type": "stream",
     "text": [
      "Sample 0:\n",
      "  Pred: 'i feel i can play this weekend....'\n",
      "  Ref:  'i feel i can play this weekend....'\n",
      "Sample 1:\n",
      "  Pred: 'this he added brought about petty jealousies and p...'\n",
      "  Ref:  'this he added brought about petty jealousies and p...'\n",
      "Sample 2:\n",
      "  Pred: 'most young rise early every morning....'\n",
      "  Ref:  'most young rise early every morning....'\n",
      "\n",
      "Metrics computed (using proper Whisper tokens):\n",
      "  WER: 0.0000, CER: 0.0000\n",
      "  Disease Acc: 1.0000\n",
      "  Precision: 1.0000, Recall: 1.0000, F1: 1.0000\n",
      "==================================================\n",
      "\n",
      "=== METRICS DEBUG (Using EOT: 50256) ===\n",
      "Processing 16 samples...\n"
     ]
    },
    {
     "name": "stderr",
     "output_type": "stream",
     "text": [
      "Training Epoch 33:   2%|▏         | 2/109 [00:02<01:47,  1.00s/it]"
     ]
    },
    {
     "name": "stdout",
     "output_type": "stream",
     "text": [
      "Sample 0:\n",
      "  Pred: 'to keep 'em scattered somewhat and yet herd 'em wa...'\n",
      "  Ref:  'to keep 'em scattered somewhat and yet herd 'em wa...'\n",
      "Sample 1:\n",
      "  Pred: 'the eastern coast is a place for pure pleasure and...'\n",
      "  Ref:  'the eastern coast is a place for pure pleasure and...'\n",
      "Sample 2:\n",
      "  Pred: 'he played basketball there while working toward a ...'\n",
      "  Ref:  'he played basketball there while working toward a ...'\n",
      "\n",
      "Metrics computed (using proper Whisper tokens):\n",
      "  WER: 0.0000, CER: 0.0000\n",
      "  Disease Acc: 1.0000\n",
      "  Precision: 1.0000, Recall: 1.0000, F1: 1.0000\n",
      "==================================================\n"
     ]
    },
    {
     "name": "stderr",
     "output_type": "stream",
     "text": [
      "Training Epoch 33: 100%|██████████| 109/109 [01:22<00:00,  1.32it/s]\n"
     ]
    },
    {
     "name": "stdout",
     "output_type": "stream",
     "text": [
      "\n",
      "======================================================================\n",
      "📝 TRAINING EPOCH 33 - TEXT EXAMPLES:\n",
      "======================================================================\n",
      "\n",
      "Example 1:\n",
      "  Reference: 'i feel i can play this weekend.'\n",
      "  Predicted: 'i feel i can play this weekend.'\n",
      "  Disease: Dysphonia → Dysphonia ✓\n",
      "\n",
      "Example 2:\n",
      "  Reference: 'this he added brought about petty jealousies and petty personal grievances'\n",
      "  Predicted: 'this he added brought about petty jealousies and petty personal grievances'\n",
      "  Disease: Normal → Normal ✓\n",
      "\n",
      "Example 3:\n",
      "  Reference: 'most young rise early every morning.'\n",
      "  Predicted: 'most young rise early every morning.'\n",
      "  Disease: Dysphonia → Dysphonia ✓\n",
      "\n",
      "Example 4:\n",
      "  Reference: 'we have often urged him to walk more and smoke less'\n",
      "  Predicted: 'we have often urged him to walk more and smoke less'\n",
      "  Disease: Normal → Normal ✓\n",
      "\n",
      "Example 5:\n",
      "  Reference: 'the revised procedure was acclaimed as a long overdue reform'\n",
      "  Predicted: 'the revised procedure was acclaimed as a long overdue reform'\n",
      "  Disease: Normal → Normal ✓\n",
      "======================================================================\n",
      "\n",
      "📈 TRAINING METRICS:\n",
      "   Loss: 0.0005 (Cls: 0.0001, Trans: 0.0022)\n",
      "   Disease - Acc: 1.0000, F1: 1.0000\n",
      "   Disease - Prec: 1.0000, Rec: 1.0000\n",
      "   Speech  - WER: 0.0003, CER: 0.0002\n",
      "   Weights - α: 0.1957, β: 0.8043\n"
     ]
    },
    {
     "name": "stderr",
     "output_type": "stream",
     "text": [
      "Evaluating:   4%|▎         | 1/27 [00:01<00:27,  1.07s/it]"
     ]
    },
    {
     "name": "stdout",
     "output_type": "stream",
     "text": [
      "\n",
      "=== METRICS DEBUG (Using EOT: 50256) ===\n",
      "Processing 8 samples...\n",
      "Sample 0:\n",
      "  Pred: 'he slowly takes a short walk in the open air each ...'\n",
      "  Ref:  'he slowly takes a short walk in the open air each ...'\n",
      "Sample 1:\n",
      "  Pred: 'this is not a program of socialized medicine...'\n",
      "  Ref:  'this is not a program of socialized medicine...'\n",
      "Sample 2:\n",
      "  Pred: 'the view spot is on the key again....'\n",
      "  Ref:  'the blue spot is on the key again....'\n",
      "\n",
      "Metrics computed (using proper Whisper tokens):\n",
      "  WER: 0.0133, CER: 0.0098\n",
      "  Disease Acc: 1.0000\n",
      "  Precision: 1.0000, Recall: 1.0000, F1: 1.0000\n",
      "==================================================\n",
      "\n",
      "=== METRICS DEBUG (Using EOT: 50256) ===\n",
      "Processing 8 samples...\n",
      "Sample 0:\n",
      "  Pred: 'it also provides for funds to clear slums and help...'\n",
      "  Ref:  'it also provides for funds to clear slums and help...'\n",
      "Sample 1:\n",
      "  Pred: 'there is definitely some ligament damage in his kn...'\n",
      "  Ref:  'there is definitely some ligament damage in his kn...'\n",
      "Sample 2:\n",
      "  Pred: 'un unoccupied roadway the bottle shattered into a ...'\n",
      "  Ref:  'on unoccupied roadway the bottle shattered into a ...'\n",
      "\n",
      "Metrics computed (using proper Whisper tokens):\n",
      "  WER: 0.0267, CER: 0.0048\n",
      "  Disease Acc: 1.0000\n",
      "  Precision: 1.0000, Recall: 1.0000, F1: 1.0000\n",
      "==================================================\n"
     ]
    },
    {
     "name": "stderr",
     "output_type": "stream",
     "text": [
      "Evaluating: 100%|██████████| 27/27 [00:10<00:00,  2.56it/s]\n"
     ]
    },
    {
     "name": "stdout",
     "output_type": "stream",
     "text": [
      "\n",
      "======================================================================\n",
      "📝 VALIDATION - TEXT EXAMPLES:\n",
      "======================================================================\n",
      "\n",
      "Example 1:\n",
      "  Reference: 'he slowly takes a short walk in the open air each day.'\n",
      "  Predicted: 'he slowly takes a short walk in the open air each day.'\n",
      "  Disease: Normal → Normal ✓\n",
      "\n",
      "Example 2:\n",
      "  Reference: 'this is not a program of socialized medicine'\n",
      "  Predicted: 'this is not a program of socialized medicine'\n",
      "  Disease: Normal → Normal ✓\n",
      "\n",
      "Example 3:\n",
      "  Reference: 'the blue spot is on the key again.'\n",
      "  Predicted: 'the view spot is on the key again.'\n",
      "  Disease: Normal → Normal ✓\n",
      "\n",
      "Example 4:\n",
      "  Reference: 'they used an aggressive policeman to flag thoughtless motorists'\n",
      "  Predicted: 'they used an aggressive policeman to flag thoughtless motorists'\n",
      "  Disease: Normal → Normal ✓\n",
      "\n",
      "Example 5:\n",
      "  Reference: 'when you are through write a clean report.'\n",
      "  Predicted: 'when you are through write a clean report.'\n",
      "  Disease: Normal → Normal ✓\n",
      "======================================================================\n",
      "\n",
      "📊 VALIDATION METRICS:\n",
      "   Loss: 0.0577\n",
      "   Disease - Acc: 1.0000, F1: 1.0000\n",
      "   Disease - Prec: 1.0000, Rec: 1.0000\n",
      "   Speech  - WER: 0.0762, CER: 0.0538\n",
      "✅ Best model saved: ../checkpoints_exp/checkpoints_base.en_encoder_learning/best_multitask_model_base.en.pt\n",
      "\n",
      "==================================================\n",
      "EPOCH 34/50\n",
      "==================================================\n"
     ]
    },
    {
     "name": "stderr",
     "output_type": "stream",
     "text": [
      "Training Epoch 34:   0%|          | 0/109 [00:00<?, ?it/s]"
     ]
    },
    {
     "name": "stdout",
     "output_type": "stream",
     "text": [
      "\n",
      "=== METRICS DEBUG (Using EOT: 50256) ===\n",
      "Processing 16 samples...\n"
     ]
    },
    {
     "name": "stderr",
     "output_type": "stream",
     "text": [
      "Training Epoch 34:   1%|          | 1/109 [00:01<03:12,  1.78s/it]"
     ]
    },
    {
     "name": "stdout",
     "output_type": "stream",
     "text": [
      "Sample 0:\n",
      "  Pred: 'the blue spot is on the key again....'\n",
      "  Ref:  'the blue spot is on the key again....'\n",
      "Sample 1:\n",
      "  Pred: 'this he added brought about petty jealousies and p...'\n",
      "  Ref:  'this he added brought about petty jealousies and p...'\n",
      "Sample 2:\n",
      "  Pred: 'you have to expect a few bad calls....'\n",
      "  Ref:  'you have to expect a few bad calls....'\n",
      "\n",
      "Metrics computed (using proper Whisper tokens):\n",
      "  WER: 0.0000, CER: 0.0000\n",
      "  Disease Acc: 1.0000\n",
      "  Precision: 1.0000, Recall: 1.0000, F1: 1.0000\n",
      "==================================================\n",
      "\n",
      "=== METRICS DEBUG (Using EOT: 50256) ===\n",
      "Processing 16 samples...\n"
     ]
    },
    {
     "name": "stderr",
     "output_type": "stream",
     "text": [
      "Training Epoch 34:   2%|▏         | 2/109 [00:02<01:46,  1.01it/s]"
     ]
    },
    {
     "name": "stdout",
     "output_type": "stream",
     "text": [
      "Sample 0:\n",
      "  Pred: 'a moth zig zagged along the path through otto's ga...'\n",
      "  Ref:  'a moth zig zagged along the path through otto's ga...'\n",
      "Sample 1:\n",
      "  Pred: 'don't ask me to carry an oily rag like that...'\n",
      "  Ref:  'don't ask me to carry an oily rag like that...'\n",
      "Sample 2:\n",
      "  Pred: 'he took his mask from his forehead and threw it un...'\n",
      "  Ref:  'he took his mask from his forehead and threw it un...'\n",
      "\n",
      "Metrics computed (using proper Whisper tokens):\n",
      "  WER: 0.0000, CER: 0.0000\n",
      "  Disease Acc: 1.0000\n",
      "  Precision: 1.0000, Recall: 1.0000, F1: 1.0000\n",
      "==================================================\n"
     ]
    },
    {
     "name": "stderr",
     "output_type": "stream",
     "text": [
      "Training Epoch 34: 100%|██████████| 109/109 [01:24<00:00,  1.30it/s]\n"
     ]
    },
    {
     "name": "stdout",
     "output_type": "stream",
     "text": [
      "\n",
      "======================================================================\n",
      "📝 TRAINING EPOCH 34 - TEXT EXAMPLES:\n",
      "======================================================================\n",
      "\n",
      "Example 1:\n",
      "  Reference: 'the blue spot is on the key again.'\n",
      "  Predicted: 'the blue spot is on the key again.'\n",
      "  Disease: Normal → Normal ✓\n",
      "\n",
      "Example 2:\n",
      "  Reference: 'this he added brought about petty jealousies and petty personal grievances'\n",
      "  Predicted: 'this he added brought about petty jealousies and petty personal grievances'\n",
      "  Disease: Dysarthria → Dysarthria ✓\n",
      "\n",
      "Example 3:\n",
      "  Reference: 'you have to expect a few bad calls.'\n",
      "  Predicted: 'you have to expect a few bad calls.'\n",
      "  Disease: Normal → Normal ✓\n",
      "\n",
      "Example 4:\n",
      "  Reference: 'night after night they received annoying phone calls.'\n",
      "  Predicted: 'night after night they received annoying phone calls.'\n",
      "  Disease: Dysphonia → Dysphonia ✓\n",
      "\n",
      "Example 5:\n",
      "  Reference: 'the blue spot is on the key again.'\n",
      "  Predicted: 'the blue spot is on the key again.'\n",
      "  Disease: Normal → Normal ✓\n",
      "======================================================================\n",
      "\n",
      "📈 TRAINING METRICS:\n",
      "   Loss: 0.0005 (Cls: 0.0001, Trans: 0.0021)\n",
      "   Disease - Acc: 1.0000, F1: 1.0000\n",
      "   Disease - Prec: 1.0000, Rec: 1.0000\n",
      "   Speech  - WER: 0.0003, CER: 0.0003\n",
      "   Weights - α: 0.1957, β: 0.8043\n"
     ]
    },
    {
     "name": "stderr",
     "output_type": "stream",
     "text": [
      "Evaluating:   4%|▎         | 1/27 [00:00<00:23,  1.08it/s]"
     ]
    },
    {
     "name": "stdout",
     "output_type": "stream",
     "text": [
      "\n",
      "=== METRICS DEBUG (Using EOT: 50256) ===\n",
      "Processing 8 samples...\n",
      "Sample 0:\n",
      "  Pred: 'he slowly takes a short walk in the open air each ...'\n",
      "  Ref:  'he slowly takes a short walk in the open air each ...'\n",
      "Sample 1:\n",
      "  Pred: 'this is not a program of socialized medicine...'\n",
      "  Ref:  'this is not a program of socialized medicine...'\n",
      "Sample 2:\n",
      "  Pred: 'the view spot is on the key again....'\n",
      "  Ref:  'the blue spot is on the key again....'\n",
      "\n",
      "Metrics computed (using proper Whisper tokens):\n",
      "  WER: 0.0133, CER: 0.0098\n",
      "  Disease Acc: 1.0000\n",
      "  Precision: 1.0000, Recall: 1.0000, F1: 1.0000\n",
      "==================================================\n"
     ]
    },
    {
     "name": "stderr",
     "output_type": "stream",
     "text": [
      "Evaluating:   7%|▋         | 2/27 [00:01<00:12,  2.00it/s]"
     ]
    },
    {
     "name": "stdout",
     "output_type": "stream",
     "text": [
      "\n",
      "=== METRICS DEBUG (Using EOT: 50256) ===\n",
      "Processing 8 samples...\n",
      "Sample 0:\n",
      "  Pred: 'it also provides for funds to clear slums and help...'\n",
      "  Ref:  'it also provides for funds to clear slums and help...'\n",
      "Sample 1:\n",
      "  Pred: 'there is definitely some ligament damage in his kn...'\n",
      "  Ref:  'there is definitely some ligament damage in his kn...'\n",
      "Sample 2:\n",
      "  Pred: 'un unoccupied roadway the bottle shattered into a ...'\n",
      "  Ref:  'on unoccupied roadway the bottle shattered into a ...'\n",
      "\n",
      "Metrics computed (using proper Whisper tokens):\n",
      "  WER: 0.0267, CER: 0.0048\n",
      "  Disease Acc: 1.0000\n",
      "  Precision: 1.0000, Recall: 1.0000, F1: 1.0000\n",
      "==================================================\n"
     ]
    },
    {
     "name": "stderr",
     "output_type": "stream",
     "text": [
      "Evaluating: 100%|██████████| 27/27 [00:11<00:00,  2.43it/s]\n"
     ]
    },
    {
     "name": "stdout",
     "output_type": "stream",
     "text": [
      "\n",
      "======================================================================\n",
      "📝 VALIDATION - TEXT EXAMPLES:\n",
      "======================================================================\n",
      "\n",
      "Example 1:\n",
      "  Reference: 'he slowly takes a short walk in the open air each day.'\n",
      "  Predicted: 'he slowly takes a short walk in the open air each day.'\n",
      "  Disease: Normal → Normal ✓\n",
      "\n",
      "Example 2:\n",
      "  Reference: 'this is not a program of socialized medicine'\n",
      "  Predicted: 'this is not a program of socialized medicine'\n",
      "  Disease: Normal → Normal ✓\n",
      "\n",
      "Example 3:\n",
      "  Reference: 'the blue spot is on the key again.'\n",
      "  Predicted: 'the view spot is on the key again.'\n",
      "  Disease: Normal → Normal ✓\n",
      "\n",
      "Example 4:\n",
      "  Reference: 'they used an aggressive policeman to flag thoughtless motorists'\n",
      "  Predicted: 'they used an aggressive policeman to flag thoughtless motorists'\n",
      "  Disease: Normal → Normal ✓\n",
      "\n",
      "Example 5:\n",
      "  Reference: 'when you are through write a clean report.'\n",
      "  Predicted: 'when you are through write a clean report.'\n",
      "  Disease: Normal → Normal ✓\n",
      "======================================================================\n",
      "\n",
      "📊 VALIDATION METRICS:\n",
      "   Loss: 0.0576\n",
      "   Disease - Acc: 1.0000, F1: 1.0000\n",
      "   Disease - Prec: 1.0000, Rec: 1.0000\n",
      "   Speech  - WER: 0.0768, CER: 0.0540\n",
      "✅ Best model saved: ../checkpoints_exp/checkpoints_base.en_encoder_learning/best_multitask_model_base.en.pt\n",
      "\n",
      "==================================================\n",
      "EPOCH 35/50\n",
      "==================================================\n"
     ]
    },
    {
     "name": "stderr",
     "output_type": "stream",
     "text": [
      "Training Epoch 35:   0%|          | 0/109 [00:00<?, ?it/s]"
     ]
    },
    {
     "name": "stdout",
     "output_type": "stream",
     "text": [
      "\n",
      "=== METRICS DEBUG (Using EOT: 50256) ===\n",
      "Processing 16 samples...\n"
     ]
    },
    {
     "name": "stderr",
     "output_type": "stream",
     "text": [
      "Training Epoch 35:   1%|          | 1/109 [00:02<03:48,  2.12s/it]"
     ]
    },
    {
     "name": "stdout",
     "output_type": "stream",
     "text": [
      "Sample 0:\n",
      "  Pred: 'beer generally fermented from barley is an old alc...'\n",
      "  Ref:  'beer generally fermented from barley is an old alc...'\n",
      "Sample 1:\n",
      "  Pred: 'it was a huge part of my life....'\n",
      "  Ref:  'it was a huge part of my life....'\n",
      "Sample 2:\n",
      "  Pred: 'everything went real smooth the sheriff said....'\n",
      "  Ref:  'everything went real smooth the sheriff said....'\n",
      "\n",
      "Metrics computed (using proper Whisper tokens):\n",
      "  WER: 0.0000, CER: 0.0000\n",
      "  Disease Acc: 1.0000\n",
      "  Precision: 1.0000, Recall: 1.0000, F1: 1.0000\n",
      "==================================================\n",
      "\n",
      "=== METRICS DEBUG (Using EOT: 50256) ===\n",
      "Processing 16 samples...\n"
     ]
    },
    {
     "name": "stderr",
     "output_type": "stream",
     "text": [
      "Training Epoch 35:   2%|▏         | 2/109 [00:02<01:53,  1.06s/it]"
     ]
    },
    {
     "name": "stdout",
     "output_type": "stream",
     "text": [
      "Sample 0:\n",
      "  Pred: 'the haunted house was a hit due to outstanding aud...'\n",
      "  Ref:  'the haunted house was a hit due to outstanding aud...'\n",
      "Sample 1:\n",
      "  Pred: 'the water contained too much chlorine and stung hi...'\n",
      "  Ref:  'the water contained too much chlorine and stung hi...'\n",
      "Sample 2:\n",
      "  Pred: 'shell shock caused by shrapnel is sometimes cured ...'\n",
      "  Ref:  'shell shock caused by shrapnel is sometimes cured ...'\n",
      "\n",
      "Metrics computed (using proper Whisper tokens):\n",
      "  WER: 0.0000, CER: 0.0000\n",
      "  Disease Acc: 1.0000\n",
      "  Precision: 1.0000, Recall: 1.0000, F1: 1.0000\n",
      "==================================================\n"
     ]
    },
    {
     "name": "stderr",
     "output_type": "stream",
     "text": [
      "Training Epoch 35: 100%|██████████| 109/109 [01:24<00:00,  1.29it/s]\n"
     ]
    },
    {
     "name": "stdout",
     "output_type": "stream",
     "text": [
      "\n",
      "======================================================================\n",
      "📝 TRAINING EPOCH 35 - TEXT EXAMPLES:\n",
      "======================================================================\n",
      "\n",
      "Example 1:\n",
      "  Reference: 'beer generally fermented from barley is an old alcoholic beverage'\n",
      "  Predicted: 'beer generally fermented from barley is an old alcoholic beverage'\n",
      "  Disease: Dysarthria → Dysarthria ✓\n",
      "\n",
      "Example 2:\n",
      "  Reference: 'it was a huge part of my life.'\n",
      "  Predicted: 'it was a huge part of my life.'\n",
      "  Disease: Normal → Normal ✓\n",
      "\n",
      "Example 3:\n",
      "  Reference: 'everything went real smooth the sheriff said.'\n",
      "  Predicted: 'everything went real smooth the sheriff said.'\n",
      "  Disease: Dysphonia → Dysphonia ✓\n",
      "\n",
      "Example 4:\n",
      "  Reference: 'if you are losing water replace it immediately.'\n",
      "  Predicted: 'if you are losing water replace it immediately.'\n",
      "  Disease: Normal → Normal ✓\n",
      "\n",
      "Example 5:\n",
      "  Reference: 'but he always answers banana oil!'\n",
      "  Predicted: 'but he always answers banana oil!'\n",
      "  Disease: Dysphonia → Dysphonia ✓\n",
      "======================================================================\n",
      "\n",
      "📈 TRAINING METRICS:\n",
      "   Loss: 0.0004 (Cls: 0.0001, Trans: 0.0019)\n",
      "   Disease - Acc: 1.0000, F1: 1.0000\n",
      "   Disease - Prec: 1.0000, Rec: 1.0000\n",
      "   Speech  - WER: 0.0004, CER: 0.0003\n",
      "   Weights - α: 0.1957, β: 0.8043\n"
     ]
    },
    {
     "name": "stderr",
     "output_type": "stream",
     "text": [
      "Evaluating:   4%|▎         | 1/27 [00:00<00:22,  1.13it/s]"
     ]
    },
    {
     "name": "stdout",
     "output_type": "stream",
     "text": [
      "\n",
      "=== METRICS DEBUG (Using EOT: 50256) ===\n",
      "Processing 8 samples...\n",
      "Sample 0:\n",
      "  Pred: 'he slowly takes a short walk in the open air each ...'\n",
      "  Ref:  'he slowly takes a short walk in the open air each ...'\n",
      "Sample 1:\n",
      "  Pred: 'this is not a program of socialized medicine...'\n",
      "  Ref:  'this is not a program of socialized medicine...'\n",
      "Sample 2:\n",
      "  Pred: 'the view spot is on the key again....'\n",
      "  Ref:  'the blue spot is on the key again....'\n",
      "\n",
      "Metrics computed (using proper Whisper tokens):\n",
      "  WER: 0.0133, CER: 0.0098\n",
      "  Disease Acc: 1.0000\n",
      "  Precision: 1.0000, Recall: 1.0000, F1: 1.0000\n",
      "==================================================\n",
      "\n",
      "=== METRICS DEBUG (Using EOT: 50256) ===\n",
      "Processing 8 samples...\n",
      "Sample 0:\n",
      "  Pred: 'it also provides for funds to clear slums and help...'\n",
      "  Ref:  'it also provides for funds to clear slums and help...'\n",
      "Sample 1:\n",
      "  Pred: 'there is definitely some ligament damage in his kn...'\n",
      "  Ref:  'there is definitely some ligament damage in his kn...'\n",
      "Sample 2:\n",
      "  Pred: 'un unoccupied roadway the bottle shattered into a ...'\n",
      "  Ref:  'on unoccupied roadway the bottle shattered into a ...'\n",
      "\n",
      "Metrics computed (using proper Whisper tokens):\n",
      "  WER: 0.0267, CER: 0.0048\n",
      "  Disease Acc: 1.0000\n",
      "  Precision: 1.0000, Recall: 1.0000, F1: 1.0000\n",
      "==================================================\n"
     ]
    },
    {
     "name": "stderr",
     "output_type": "stream",
     "text": [
      "Evaluating: 100%|██████████| 27/27 [00:11<00:00,  2.43it/s]\n"
     ]
    },
    {
     "name": "stdout",
     "output_type": "stream",
     "text": [
      "\n",
      "======================================================================\n",
      "📝 VALIDATION - TEXT EXAMPLES:\n",
      "======================================================================\n",
      "\n",
      "Example 1:\n",
      "  Reference: 'he slowly takes a short walk in the open air each day.'\n",
      "  Predicted: 'he slowly takes a short walk in the open air each day.'\n",
      "  Disease: Normal → Normal ✓\n",
      "\n",
      "Example 2:\n",
      "  Reference: 'this is not a program of socialized medicine'\n",
      "  Predicted: 'this is not a program of socialized medicine'\n",
      "  Disease: Normal → Normal ✓\n",
      "\n",
      "Example 3:\n",
      "  Reference: 'the blue spot is on the key again.'\n",
      "  Predicted: 'the view spot is on the key again.'\n",
      "  Disease: Normal → Normal ✓\n",
      "\n",
      "Example 4:\n",
      "  Reference: 'they used an aggressive policeman to flag thoughtless motorists'\n",
      "  Predicted: 'they used an aggressive policeman to flag thoughtless motorists'\n",
      "  Disease: Normal → Normal ✓\n",
      "\n",
      "Example 5:\n",
      "  Reference: 'when you are through write a clean report.'\n",
      "  Predicted: 'when you are through write a clean report.'\n",
      "  Disease: Normal → Normal ✓\n",
      "======================================================================\n",
      "\n",
      "📊 VALIDATION METRICS:\n",
      "   Loss: 0.0576\n",
      "   Disease - Acc: 1.0000, F1: 1.0000\n",
      "   Disease - Prec: 1.0000, Rec: 1.0000\n",
      "   Speech  - WER: 0.0768, CER: 0.0538\n",
      "⏳ No improvement. Patience: 1/7\n",
      "\n",
      "==================================================\n",
      "EPOCH 36/50\n",
      "==================================================\n"
     ]
    },
    {
     "name": "stderr",
     "output_type": "stream",
     "text": [
      "Training Epoch 36:   0%|          | 0/109 [00:00<?, ?it/s]"
     ]
    },
    {
     "name": "stdout",
     "output_type": "stream",
     "text": [
      "\n",
      "=== METRICS DEBUG (Using EOT: 50256) ===\n",
      "Processing 16 samples...\n"
     ]
    },
    {
     "name": "stderr",
     "output_type": "stream",
     "text": [
      "Training Epoch 36:   1%|          | 1/109 [00:01<03:24,  1.89s/it]"
     ]
    },
    {
     "name": "stdout",
     "output_type": "stream",
     "text": [
      "Sample 0:\n",
      "  Pred: 'both figures would go higher in later years....'\n",
      "  Ref:  'both figures would go higher in later years....'\n",
      "Sample 1:\n",
      "  Pred: 'the overweight charmer could slip poison into anyo...'\n",
      "  Ref:  'the overweight charmer could slip poison into anyo...'\n",
      "Sample 2:\n",
      "  Pred: 'even then if she took one step forward he could ca...'\n",
      "  Ref:  'even then if she took one step forward he could ca...'\n",
      "\n",
      "Metrics computed (using proper Whisper tokens):\n",
      "  WER: 0.0000, CER: 0.0000\n",
      "  Disease Acc: 1.0000\n",
      "  Precision: 1.0000, Recall: 1.0000, F1: 1.0000\n",
      "==================================================\n",
      "\n",
      "=== METRICS DEBUG (Using EOT: 50256) ===\n",
      "Processing 16 samples...\n"
     ]
    },
    {
     "name": "stderr",
     "output_type": "stream",
     "text": [
      "Training Epoch 36:   2%|▏         | 2/109 [00:02<01:45,  1.02it/s]"
     ]
    },
    {
     "name": "stdout",
     "output_type": "stream",
     "text": [
      "Sample 0:\n",
      "  Pred: 'some observers speculated that this might be his r...'\n",
      "  Ref:  'some observers speculated that this might be his r...'\n",
      "Sample 1:\n",
      "  Pred: 'the prospect of cutting back spending is an unplea...'\n",
      "  Ref:  'the prospect of cutting back spending is an unplea...'\n",
      "Sample 2:\n",
      "  Pred: 'the owners regularly look for plumbing leaks....'\n",
      "  Ref:  'the owners regularly look for plumbing leaks....'\n",
      "\n",
      "Metrics computed (using proper Whisper tokens):\n",
      "  WER: 0.0000, CER: 0.0000\n",
      "  Disease Acc: 1.0000\n",
      "  Precision: 1.0000, Recall: 1.0000, F1: 1.0000\n",
      "==================================================\n"
     ]
    },
    {
     "name": "stderr",
     "output_type": "stream",
     "text": [
      "Training Epoch 36: 100%|██████████| 109/109 [01:23<00:00,  1.30it/s]\n"
     ]
    },
    {
     "name": "stdout",
     "output_type": "stream",
     "text": [
      "\n",
      "======================================================================\n",
      "📝 TRAINING EPOCH 36 - TEXT EXAMPLES:\n",
      "======================================================================\n",
      "\n",
      "Example 1:\n",
      "  Reference: 'both figures would go higher in later years.'\n",
      "  Predicted: 'both figures would go higher in later years.'\n",
      "  Disease: Dysphonia → Dysphonia ✓\n",
      "\n",
      "Example 2:\n",
      "  Reference: 'the overweight charmer could slip poison into anyone's tea'\n",
      "  Predicted: 'the overweight charmer could slip poison into anyone's tea'\n",
      "  Disease: Normal → Normal ✓\n",
      "\n",
      "Example 3:\n",
      "  Reference: 'even then if she took one step forward he could catch her'\n",
      "  Predicted: 'even then if she took one step forward he could catch her'\n",
      "  Disease: Dysarthria → Dysarthria ✓\n",
      "\n",
      "Example 4:\n",
      "  Reference: 'the revised procedure was acclaimed as a long overdue reform'\n",
      "  Predicted: 'the revised procedure was acclaimed as a long overdue reform'\n",
      "  Disease: Dysarthria → Dysarthria ✓\n",
      "\n",
      "Example 5:\n",
      "  Reference: 'to keep 'em scattered somewhat and yet herd 'em was called loose herdin''\n",
      "  Predicted: 'to keep 'em scattered somewhat and yet herd 'em was called loose herdin''\n",
      "  Disease: Dysarthria → Dysarthria ✓\n",
      "======================================================================\n",
      "\n",
      "📈 TRAINING METRICS:\n",
      "   Loss: 0.0004 (Cls: 0.0001, Trans: 0.0018)\n",
      "   Disease - Acc: 1.0000, F1: 1.0000\n",
      "   Disease - Prec: 1.0000, Rec: 1.0000\n",
      "   Speech  - WER: 0.0005, CER: 0.0004\n",
      "   Weights - α: 0.1957, β: 0.8043\n"
     ]
    },
    {
     "name": "stderr",
     "output_type": "stream",
     "text": [
      "Evaluating:   4%|▎         | 1/27 [00:00<00:20,  1.28it/s]"
     ]
    },
    {
     "name": "stdout",
     "output_type": "stream",
     "text": [
      "\n",
      "=== METRICS DEBUG (Using EOT: 50256) ===\n",
      "Processing 8 samples...\n",
      "Sample 0:\n",
      "  Pred: 'he slowly takes a short walk in the open air each ...'\n",
      "  Ref:  'he slowly takes a short walk in the open air each ...'\n",
      "Sample 1:\n",
      "  Pred: 'this is not a program of socialized medicine...'\n",
      "  Ref:  'this is not a program of socialized medicine...'\n",
      "Sample 2:\n",
      "  Pred: 'the view spot is on the key again....'\n",
      "  Ref:  'the blue spot is on the key again....'\n",
      "\n",
      "Metrics computed (using proper Whisper tokens):\n",
      "  WER: 0.0133, CER: 0.0098\n",
      "  Disease Acc: 1.0000\n",
      "  Precision: 1.0000, Recall: 1.0000, F1: 1.0000\n",
      "==================================================\n"
     ]
    },
    {
     "name": "stderr",
     "output_type": "stream",
     "text": [
      "Evaluating:   7%|▋         | 2/27 [00:00<00:11,  2.25it/s]"
     ]
    },
    {
     "name": "stdout",
     "output_type": "stream",
     "text": [
      "\n",
      "=== METRICS DEBUG (Using EOT: 50256) ===\n",
      "Processing 8 samples...\n",
      "Sample 0:\n",
      "  Pred: 'it also provides for funds to clear slums and help...'\n",
      "  Ref:  'it also provides for funds to clear slums and help...'\n",
      "Sample 1:\n",
      "  Pred: 'there is definitely some ligament damage in his kn...'\n",
      "  Ref:  'there is definitely some ligament damage in his kn...'\n",
      "Sample 2:\n",
      "  Pred: 'un unoccupied roadway the bottle shattered into a ...'\n",
      "  Ref:  'on unoccupied roadway the bottle shattered into a ...'\n",
      "\n",
      "Metrics computed (using proper Whisper tokens):\n",
      "  WER: 0.0267, CER: 0.0048\n",
      "  Disease Acc: 1.0000\n",
      "  Precision: 1.0000, Recall: 1.0000, F1: 1.0000\n",
      "==================================================\n"
     ]
    },
    {
     "name": "stderr",
     "output_type": "stream",
     "text": [
      "Evaluating: 100%|██████████| 27/27 [00:10<00:00,  2.57it/s]\n"
     ]
    },
    {
     "name": "stdout",
     "output_type": "stream",
     "text": [
      "\n",
      "======================================================================\n",
      "📝 VALIDATION - TEXT EXAMPLES:\n",
      "======================================================================\n",
      "\n",
      "Example 1:\n",
      "  Reference: 'he slowly takes a short walk in the open air each day.'\n",
      "  Predicted: 'he slowly takes a short walk in the open air each day.'\n",
      "  Disease: Normal → Normal ✓\n",
      "\n",
      "Example 2:\n",
      "  Reference: 'this is not a program of socialized medicine'\n",
      "  Predicted: 'this is not a program of socialized medicine'\n",
      "  Disease: Normal → Normal ✓\n",
      "\n",
      "Example 3:\n",
      "  Reference: 'the blue spot is on the key again.'\n",
      "  Predicted: 'the view spot is on the key again.'\n",
      "  Disease: Normal → Normal ✓\n",
      "\n",
      "Example 4:\n",
      "  Reference: 'they used an aggressive policeman to flag thoughtless motorists'\n",
      "  Predicted: 'they used an aggressive policeman to flag thoughtless motorists'\n",
      "  Disease: Normal → Normal ✓\n",
      "\n",
      "Example 5:\n",
      "  Reference: 'when you are through write a clean report.'\n",
      "  Predicted: 'when you are through write a clean report.'\n",
      "  Disease: Normal → Normal ✓\n",
      "======================================================================\n",
      "\n",
      "📊 VALIDATION METRICS:\n",
      "   Loss: 0.0574\n",
      "   Disease - Acc: 1.0000, F1: 1.0000\n",
      "   Disease - Prec: 1.0000, Rec: 1.0000\n",
      "   Speech  - WER: 0.0753, CER: 0.0529\n",
      "✅ Best model saved: ../checkpoints_exp/checkpoints_base.en_encoder_learning/best_multitask_model_base.en.pt\n",
      "\n",
      "==================================================\n",
      "EPOCH 37/50\n",
      "==================================================\n"
     ]
    },
    {
     "name": "stderr",
     "output_type": "stream",
     "text": [
      "Training Epoch 37:   0%|          | 0/109 [00:00<?, ?it/s]"
     ]
    },
    {
     "name": "stdout",
     "output_type": "stream",
     "text": [
      "\n",
      "=== METRICS DEBUG (Using EOT: 50256) ===\n",
      "Processing 16 samples...\n"
     ]
    },
    {
     "name": "stderr",
     "output_type": "stream",
     "text": [
      "Training Epoch 37:   1%|          | 1/109 [00:01<03:23,  1.88s/it]"
     ]
    },
    {
     "name": "stdout",
     "output_type": "stream",
     "text": [
      "Sample 0:\n",
      "  Pred: 'it also provides for funds to clear slums and help...'\n",
      "  Ref:  'it also provides for funds to clear slums and help...'\n",
      "Sample 1:\n",
      "  Pred: 'i just try to do my best....'\n",
      "  Ref:  'i just try to do my best....'\n",
      "Sample 2:\n",
      "  Pred: 'usually minus several buttons....'\n",
      "  Ref:  'usually minus several buttons....'\n",
      "\n",
      "Metrics computed (using proper Whisper tokens):\n",
      "  WER: 0.0000, CER: 0.0000\n",
      "  Disease Acc: 1.0000\n",
      "  Precision: 1.0000, Recall: 1.0000, F1: 1.0000\n",
      "==================================================\n",
      "\n",
      "=== METRICS DEBUG (Using EOT: 50256) ===\n",
      "Processing 16 samples...\n"
     ]
    },
    {
     "name": "stderr",
     "output_type": "stream",
     "text": [
      "Training Epoch 37:   2%|▏         | 2/109 [00:02<01:47,  1.01s/it]"
     ]
    },
    {
     "name": "stdout",
     "output_type": "stream",
     "text": [
      "Sample 0:\n",
      "  Pred: 'nothing has been done yet to take advantage of the...'\n",
      "  Ref:  'nothing has been done yet to take advantage of the...'\n",
      "Sample 1:\n",
      "  Pred: 'if you are losing water replace it immediately....'\n",
      "  Ref:  'if you are losing water replace it immediately....'\n",
      "Sample 2:\n",
      "  Pred: 'the train approached the depot slowly....'\n",
      "  Ref:  'the train approached the depot slowly....'\n",
      "\n",
      "Metrics computed (using proper Whisper tokens):\n",
      "  WER: 0.0000, CER: 0.0000\n",
      "  Disease Acc: 1.0000\n",
      "  Precision: 1.0000, Recall: 1.0000, F1: 1.0000\n",
      "==================================================\n"
     ]
    },
    {
     "name": "stderr",
     "output_type": "stream",
     "text": [
      "Training Epoch 37: 100%|██████████| 109/109 [01:24<00:00,  1.29it/s]\n"
     ]
    },
    {
     "name": "stdout",
     "output_type": "stream",
     "text": [
      "\n",
      "======================================================================\n",
      "📝 TRAINING EPOCH 37 - TEXT EXAMPLES:\n",
      "======================================================================\n",
      "\n",
      "Example 1:\n",
      "  Reference: 'it also provides for funds to clear slums and help colleges build dormitories'\n",
      "  Predicted: 'it also provides for funds to clear slums and help colleges build dormitories'\n",
      "  Disease: Dysarthria → Dysarthria ✓\n",
      "\n",
      "Example 2:\n",
      "  Reference: 'i just try to do my best.'\n",
      "  Predicted: 'i just try to do my best.'\n",
      "  Disease: Dysphonia → Dysphonia ✓\n",
      "\n",
      "Example 3:\n",
      "  Reference: 'usually minus several buttons.'\n",
      "  Predicted: 'usually minus several buttons.'\n",
      "  Disease: Dysphonia → Dysphonia ✓\n",
      "\n",
      "Example 4:\n",
      "  Reference: 'two cars came over a crest their chrome and glass flashing'\n",
      "  Predicted: 'two cars came over a crest their chrome and glass flashing'\n",
      "  Disease: Dysarthria → Dysarthria ✓\n",
      "\n",
      "Example 5:\n",
      "  Reference: 'you have to expect a few bad calls.'\n",
      "  Predicted: 'you have to expect a few bad calls.'\n",
      "  Disease: Normal → Normal ✓\n",
      "======================================================================\n",
      "\n",
      "📈 TRAINING METRICS:\n",
      "   Loss: 0.0004 (Cls: 0.0001, Trans: 0.0016)\n",
      "   Disease - Acc: 1.0000, F1: 1.0000\n",
      "   Disease - Prec: 1.0000, Rec: 1.0000\n",
      "   Speech  - WER: 0.0004, CER: 0.0004\n",
      "   Weights - α: 0.1957, β: 0.8043\n"
     ]
    },
    {
     "name": "stderr",
     "output_type": "stream",
     "text": [
      "Evaluating:   4%|▎         | 1/27 [00:00<00:19,  1.32it/s]"
     ]
    },
    {
     "name": "stdout",
     "output_type": "stream",
     "text": [
      "\n",
      "=== METRICS DEBUG (Using EOT: 50256) ===\n",
      "Processing 8 samples...\n",
      "Sample 0:\n",
      "  Pred: 'he slowly takes a short walk in the open air each ...'\n",
      "  Ref:  'he slowly takes a short walk in the open air each ...'\n",
      "Sample 1:\n",
      "  Pred: 'this is not a program of socialized medicine...'\n",
      "  Ref:  'this is not a program of socialized medicine...'\n",
      "Sample 2:\n",
      "  Pred: 'the view spot is on the key again....'\n",
      "  Ref:  'the blue spot is on the key again....'\n",
      "\n",
      "Metrics computed (using proper Whisper tokens):\n",
      "  WER: 0.0133, CER: 0.0098\n",
      "  Disease Acc: 1.0000\n",
      "  Precision: 1.0000, Recall: 1.0000, F1: 1.0000\n",
      "==================================================\n"
     ]
    },
    {
     "name": "stderr",
     "output_type": "stream",
     "text": [
      "Evaluating:   7%|▋         | 2/27 [00:01<00:11,  2.19it/s]"
     ]
    },
    {
     "name": "stdout",
     "output_type": "stream",
     "text": [
      "\n",
      "=== METRICS DEBUG (Using EOT: 50256) ===\n",
      "Processing 8 samples...\n",
      "Sample 0:\n",
      "  Pred: 'it also provides for funds to clear slums and help...'\n",
      "  Ref:  'it also provides for funds to clear slums and help...'\n",
      "Sample 1:\n",
      "  Pred: 'there is definitely some ligament damage in his kn...'\n",
      "  Ref:  'there is definitely some ligament damage in his kn...'\n",
      "Sample 2:\n",
      "  Pred: 'un unoccupied roadway the bottle shattered into a ...'\n",
      "  Ref:  'on unoccupied roadway the bottle shattered into a ...'\n",
      "\n",
      "Metrics computed (using proper Whisper tokens):\n",
      "  WER: 0.0267, CER: 0.0048\n",
      "  Disease Acc: 1.0000\n",
      "  Precision: 1.0000, Recall: 1.0000, F1: 1.0000\n",
      "==================================================\n"
     ]
    },
    {
     "name": "stderr",
     "output_type": "stream",
     "text": [
      "Evaluating: 100%|██████████| 27/27 [00:10<00:00,  2.56it/s]\n"
     ]
    },
    {
     "name": "stdout",
     "output_type": "stream",
     "text": [
      "\n",
      "======================================================================\n",
      "📝 VALIDATION - TEXT EXAMPLES:\n",
      "======================================================================\n",
      "\n",
      "Example 1:\n",
      "  Reference: 'he slowly takes a short walk in the open air each day.'\n",
      "  Predicted: 'he slowly takes a short walk in the open air each day.'\n",
      "  Disease: Normal → Normal ✓\n",
      "\n",
      "Example 2:\n",
      "  Reference: 'this is not a program of socialized medicine'\n",
      "  Predicted: 'this is not a program of socialized medicine'\n",
      "  Disease: Normal → Normal ✓\n",
      "\n",
      "Example 3:\n",
      "  Reference: 'the blue spot is on the key again.'\n",
      "  Predicted: 'the view spot is on the key again.'\n",
      "  Disease: Normal → Normal ✓\n",
      "\n",
      "Example 4:\n",
      "  Reference: 'they used an aggressive policeman to flag thoughtless motorists'\n",
      "  Predicted: 'they used an aggressive policeman to flag thoughtless motorists'\n",
      "  Disease: Normal → Normal ✓\n",
      "\n",
      "Example 5:\n",
      "  Reference: 'when you are through write a clean report.'\n",
      "  Predicted: 'when you are through write a clean report.'\n",
      "  Disease: Normal → Normal ✓\n",
      "======================================================================\n",
      "\n",
      "📊 VALIDATION METRICS:\n",
      "   Loss: 0.0573\n",
      "   Disease - Acc: 1.0000, F1: 1.0000\n",
      "   Disease - Prec: 1.0000, Rec: 1.0000\n",
      "   Speech  - WER: 0.0749, CER: 0.0527\n",
      "✅ Best model saved: ../checkpoints_exp/checkpoints_base.en_encoder_learning/best_multitask_model_base.en.pt\n",
      "\n",
      "==================================================\n",
      "EPOCH 38/50\n",
      "==================================================\n"
     ]
    },
    {
     "name": "stderr",
     "output_type": "stream",
     "text": [
      "Training Epoch 38:   0%|          | 0/109 [00:00<?, ?it/s]"
     ]
    },
    {
     "name": "stdout",
     "output_type": "stream",
     "text": [
      "\n",
      "=== METRICS DEBUG (Using EOT: 50256) ===\n",
      "Processing 16 samples...\n"
     ]
    },
    {
     "name": "stderr",
     "output_type": "stream",
     "text": [
      "Training Epoch 38:   1%|          | 1/109 [00:01<03:35,  2.00s/it]"
     ]
    },
    {
     "name": "stdout",
     "output_type": "stream",
     "text": [
      "Sample 0:\n",
      "  Pred: 'shell shock caused by shrapnel is sometimes cured ...'\n",
      "  Ref:  'shell shock caused by shrapnel is sometimes cured ...'\n",
      "Sample 1:\n",
      "  Pred: 'twice each day he plays skillfully and with zest u...'\n",
      "  Ref:  'twice each day he plays skillfully and with zest u...'\n",
      "Sample 2:\n",
      "  Pred: 'you'd be better off taking a cold shower....'\n",
      "  Ref:  'you'd be better off taking a cold shower....'\n",
      "\n",
      "Metrics computed (using proper Whisper tokens):\n",
      "  WER: 0.0000, CER: 0.0000\n",
      "  Disease Acc: 1.0000\n",
      "  Precision: 1.0000, Recall: 1.0000, F1: 1.0000\n",
      "==================================================\n",
      "\n",
      "=== METRICS DEBUG (Using EOT: 50256) ===\n",
      "Processing 16 samples...\n"
     ]
    },
    {
     "name": "stderr",
     "output_type": "stream",
     "text": [
      "Training Epoch 38:   2%|▏         | 2/109 [00:02<01:44,  1.02it/s]"
     ]
    },
    {
     "name": "stdout",
     "output_type": "stream",
     "text": [
      "Sample 0:\n",
      "  Pred: 'the overweight charmer could slip poison into anyo...'\n",
      "  Ref:  'the overweight charmer could slip poison into anyo...'\n",
      "Sample 1:\n",
      "  Pred: 'the quick brown fox jumps over the lazy dog....'\n",
      "  Ref:  'the quick brown fox jumps over the lazy dog....'\n",
      "Sample 2:\n",
      "  Pred: 'a good attitude is unbeatable....'\n",
      "  Ref:  'a good attitude is unbeatable....'\n",
      "\n",
      "Metrics computed (using proper Whisper tokens):\n",
      "  WER: 0.0000, CER: 0.0000\n",
      "  Disease Acc: 1.0000\n",
      "  Precision: 1.0000, Recall: 1.0000, F1: 1.0000\n",
      "==================================================\n"
     ]
    },
    {
     "name": "stderr",
     "output_type": "stream",
     "text": [
      "Training Epoch 38: 100%|██████████| 109/109 [01:22<00:00,  1.32it/s]\n"
     ]
    },
    {
     "name": "stdout",
     "output_type": "stream",
     "text": [
      "\n",
      "======================================================================\n",
      "📝 TRAINING EPOCH 38 - TEXT EXAMPLES:\n",
      "======================================================================\n",
      "\n",
      "Example 1:\n",
      "  Reference: 'shell shock caused by shrapnel is sometimes cured through group therapy'\n",
      "  Predicted: 'shell shock caused by shrapnel is sometimes cured through group therapy'\n",
      "  Disease: Normal → Normal ✓\n",
      "\n",
      "Example 2:\n",
      "  Reference: 'twice each day he plays skillfully and with zest upon our small organ.'\n",
      "  Predicted: 'twice each day he plays skillfully and with zest upon our small organ.'\n",
      "  Disease: Normal → Normal ✓\n",
      "\n",
      "Example 3:\n",
      "  Reference: 'you'd be better off taking a cold shower.'\n",
      "  Predicted: 'you'd be better off taking a cold shower.'\n",
      "  Disease: Dysphonia → Dysphonia ✓\n",
      "\n",
      "Example 4:\n",
      "  Reference: 'a crab challenged me but a quick stab vanquished him'\n",
      "  Predicted: 'a crab challenged me but a quick stab vanquished him'\n",
      "  Disease: Normal → Normal ✓\n",
      "\n",
      "Example 5:\n",
      "  Reference: 'he took his mask from his forehead and threw it unexpectedly across the deck'\n",
      "  Predicted: 'he took his mask from his forehead and threw it unexpectedly across the deck'\n",
      "  Disease: Dysarthria → Dysarthria ✓\n",
      "======================================================================\n",
      "\n",
      "📈 TRAINING METRICS:\n",
      "   Loss: 0.0004 (Cls: 0.0001, Trans: 0.0015)\n",
      "   Disease - Acc: 1.0000, F1: 1.0000\n",
      "   Disease - Prec: 1.0000, Rec: 1.0000\n",
      "   Speech  - WER: 0.0003, CER: 0.0003\n",
      "   Weights - α: 0.1957, β: 0.8043\n"
     ]
    },
    {
     "name": "stderr",
     "output_type": "stream",
     "text": [
      "Evaluating:   4%|▎         | 1/27 [00:01<00:26,  1.03s/it]"
     ]
    },
    {
     "name": "stdout",
     "output_type": "stream",
     "text": [
      "\n",
      "=== METRICS DEBUG (Using EOT: 50256) ===\n",
      "Processing 8 samples...\n",
      "Sample 0:\n",
      "  Pred: 'he slowly takes a short walk in the open air each ...'\n",
      "  Ref:  'he slowly takes a short walk in the open air each ...'\n",
      "Sample 1:\n",
      "  Pred: 'this is not a program of socialized medicine...'\n",
      "  Ref:  'this is not a program of socialized medicine...'\n",
      "Sample 2:\n",
      "  Pred: 'the view spot is on the key again....'\n",
      "  Ref:  'the blue spot is on the key again....'\n",
      "\n",
      "Metrics computed (using proper Whisper tokens):\n",
      "  WER: 0.0133, CER: 0.0098\n",
      "  Disease Acc: 1.0000\n",
      "  Precision: 1.0000, Recall: 1.0000, F1: 1.0000\n",
      "==================================================\n",
      "\n",
      "=== METRICS DEBUG (Using EOT: 50256) ===\n",
      "Processing 8 samples...\n",
      "Sample 0:\n",
      "  Pred: 'it also provides for funds to clear slums and help...'\n",
      "  Ref:  'it also provides for funds to clear slums and help...'\n",
      "Sample 1:\n",
      "  Pred: 'there is definitely some ligament damage in his kn...'\n",
      "  Ref:  'there is definitely some ligament damage in his kn...'\n",
      "Sample 2:\n",
      "  Pred: 'un unoccupied roadway the bottle shattered into a ...'\n",
      "  Ref:  'on unoccupied roadway the bottle shattered into a ...'\n",
      "\n",
      "Metrics computed (using proper Whisper tokens):\n",
      "  WER: 0.0267, CER: 0.0048\n",
      "  Disease Acc: 1.0000\n",
      "  Precision: 1.0000, Recall: 1.0000, F1: 1.0000\n",
      "==================================================\n"
     ]
    },
    {
     "name": "stderr",
     "output_type": "stream",
     "text": [
      "Evaluating: 100%|██████████| 27/27 [00:11<00:00,  2.39it/s]\n"
     ]
    },
    {
     "name": "stdout",
     "output_type": "stream",
     "text": [
      "\n",
      "======================================================================\n",
      "📝 VALIDATION - TEXT EXAMPLES:\n",
      "======================================================================\n",
      "\n",
      "Example 1:\n",
      "  Reference: 'he slowly takes a short walk in the open air each day.'\n",
      "  Predicted: 'he slowly takes a short walk in the open air each day.'\n",
      "  Disease: Normal → Normal ✓\n",
      "\n",
      "Example 2:\n",
      "  Reference: 'this is not a program of socialized medicine'\n",
      "  Predicted: 'this is not a program of socialized medicine'\n",
      "  Disease: Normal → Normal ✓\n",
      "\n",
      "Example 3:\n",
      "  Reference: 'the blue spot is on the key again.'\n",
      "  Predicted: 'the view spot is on the key again.'\n",
      "  Disease: Normal → Normal ✓\n",
      "\n",
      "Example 4:\n",
      "  Reference: 'they used an aggressive policeman to flag thoughtless motorists'\n",
      "  Predicted: 'they used an aggressive policeman to flag thoughtless motorists'\n",
      "  Disease: Normal → Normal ✓\n",
      "\n",
      "Example 5:\n",
      "  Reference: 'when you are through write a clean report.'\n",
      "  Predicted: 'when you are through write a clean report.'\n",
      "  Disease: Normal → Normal ✓\n",
      "======================================================================\n",
      "\n",
      "📊 VALIDATION METRICS:\n",
      "   Loss: 0.0572\n",
      "   Disease - Acc: 1.0000, F1: 1.0000\n",
      "   Disease - Prec: 1.0000, Rec: 1.0000\n",
      "   Speech  - WER: 0.0749, CER: 0.0529\n",
      "✅ Best model saved: ../checkpoints_exp/checkpoints_base.en_encoder_learning/best_multitask_model_base.en.pt\n",
      "\n",
      "==================================================\n",
      "EPOCH 39/50\n",
      "==================================================\n"
     ]
    },
    {
     "name": "stderr",
     "output_type": "stream",
     "text": [
      "Training Epoch 39:   0%|          | 0/109 [00:00<?, ?it/s]"
     ]
    },
    {
     "name": "stdout",
     "output_type": "stream",
     "text": [
      "\n",
      "=== METRICS DEBUG (Using EOT: 50256) ===\n",
      "Processing 16 samples...\n"
     ]
    },
    {
     "name": "stderr",
     "output_type": "stream",
     "text": [
      "Training Epoch 39:   1%|          | 1/109 [00:01<03:35,  1.99s/it]"
     ]
    },
    {
     "name": "stdout",
     "output_type": "stream",
     "text": [
      "Sample 0:\n",
      "  Pred: 'we have often urged him to walk more and smoke les...'\n",
      "  Ref:  'we have often urged him to walk more and smoke les...'\n",
      "Sample 1:\n",
      "  Pred: 'but he always answers banana oil!...'\n",
      "  Ref:  'but he always answers banana oil!...'\n",
      "Sample 2:\n",
      "  Pred: 'jane may earn more money by working hard....'\n",
      "  Ref:  'jane may earn more money by working hard....'\n",
      "\n",
      "Metrics computed (using proper Whisper tokens):\n",
      "  WER: 0.0000, CER: 0.0000\n",
      "  Disease Acc: 1.0000\n",
      "  Precision: 1.0000, Recall: 1.0000, F1: 1.0000\n",
      "==================================================\n",
      "\n",
      "=== METRICS DEBUG (Using EOT: 50256) ===\n",
      "Processing 16 samples...\n"
     ]
    },
    {
     "name": "stderr",
     "output_type": "stream",
     "text": [
      "Training Epoch 39:   2%|▏         | 2/109 [00:02<01:46,  1.00it/s]"
     ]
    },
    {
     "name": "stdout",
     "output_type": "stream",
     "text": [
      "Sample 0:\n",
      "  Pred: 'this is a period of transition for me....'\n",
      "  Ref:  'this is a period of transition for me....'\n",
      "Sample 1:\n",
      "  Pred: 'you do that or take you out a permit right now...'\n",
      "  Ref:  'you do that or take you out a permit right now...'\n",
      "Sample 2:\n",
      "  Pred: 'you can ride stagecoach....'\n",
      "  Ref:  'you can ride stagecoach....'\n",
      "\n",
      "Metrics computed (using proper Whisper tokens):\n",
      "  WER: 0.0000, CER: 0.0000\n",
      "  Disease Acc: 1.0000\n",
      "  Precision: 1.0000, Recall: 1.0000, F1: 1.0000\n",
      "==================================================\n"
     ]
    },
    {
     "name": "stderr",
     "output_type": "stream",
     "text": [
      "Training Epoch 39: 100%|██████████| 109/109 [01:23<00:00,  1.30it/s]\n"
     ]
    },
    {
     "name": "stdout",
     "output_type": "stream",
     "text": [
      "\n",
      "======================================================================\n",
      "📝 TRAINING EPOCH 39 - TEXT EXAMPLES:\n",
      "======================================================================\n",
      "\n",
      "Example 1:\n",
      "  Reference: 'we have often urged him to walk more and smoke less'\n",
      "  Predicted: 'we have often urged him to walk more and smoke less'\n",
      "  Disease: Dysphonia → Dysphonia ✓\n",
      "\n",
      "Example 2:\n",
      "  Reference: 'but he always answers banana oil!'\n",
      "  Predicted: 'but he always answers banana oil!'\n",
      "  Disease: Dysphonia → Dysphonia ✓\n",
      "\n",
      "Example 3:\n",
      "  Reference: 'jane may earn more money by working hard.'\n",
      "  Predicted: 'jane may earn more money by working hard.'\n",
      "  Disease: Dysphonia → Dysphonia ✓\n",
      "\n",
      "Example 4:\n",
      "  Reference: 'she doesn't like to have it hanging around.'\n",
      "  Predicted: 'she doesn't like to have it hanging around.'\n",
      "  Disease: Normal → Normal ✓\n",
      "\n",
      "Example 5:\n",
      "  Reference: 'her position covers a number of daily tasks common to any social director.'\n",
      "  Predicted: 'her position covers a number of daily tasks common to any social director.'\n",
      "  Disease: Normal → Normal ✓\n",
      "======================================================================\n",
      "\n",
      "📈 TRAINING METRICS:\n",
      "   Loss: 0.0003 (Cls: 0.0001, Trans: 0.0014)\n",
      "   Disease - Acc: 1.0000, F1: 1.0000\n",
      "   Disease - Prec: 1.0000, Rec: 1.0000\n",
      "   Speech  - WER: 0.0003, CER: 0.0002\n",
      "   Weights - α: 0.1957, β: 0.8043\n"
     ]
    },
    {
     "name": "stderr",
     "output_type": "stream",
     "text": [
      "Evaluating:   7%|▋         | 2/27 [00:01<00:12,  1.95it/s]"
     ]
    },
    {
     "name": "stdout",
     "output_type": "stream",
     "text": [
      "\n",
      "=== METRICS DEBUG (Using EOT: 50256) ===\n",
      "Processing 8 samples...\n",
      "Sample 0:\n",
      "  Pred: 'he slowly takes a short walk in the open air each ...'\n",
      "  Ref:  'he slowly takes a short walk in the open air each ...'\n",
      "Sample 1:\n",
      "  Pred: 'this is not a program of socialized medicine...'\n",
      "  Ref:  'this is not a program of socialized medicine...'\n",
      "Sample 2:\n",
      "  Pred: 'the view spot is on the key again....'\n",
      "  Ref:  'the blue spot is on the key again....'\n",
      "\n",
      "Metrics computed (using proper Whisper tokens):\n",
      "  WER: 0.0133, CER: 0.0098\n",
      "  Disease Acc: 1.0000\n",
      "  Precision: 1.0000, Recall: 1.0000, F1: 1.0000\n",
      "==================================================\n",
      "\n",
      "=== METRICS DEBUG (Using EOT: 50256) ===\n",
      "Processing 8 samples...\n",
      "Sample 0:\n",
      "  Pred: 'it also provides for funds to clear slums and help...'\n",
      "  Ref:  'it also provides for funds to clear slums and help...'\n",
      "Sample 1:\n",
      "  Pred: 'there is definitely some ligament damage in his kn...'\n",
      "  Ref:  'there is definitely some ligament damage in his kn...'\n",
      "Sample 2:\n",
      "  Pred: 'un unoccupied roadway the bottle shattered into a ...'\n",
      "  Ref:  'on unoccupied roadway the bottle shattered into a ...'\n",
      "\n",
      "Metrics computed (using proper Whisper tokens):\n",
      "  WER: 0.0267, CER: 0.0048\n",
      "  Disease Acc: 1.0000\n",
      "  Precision: 1.0000, Recall: 1.0000, F1: 1.0000\n",
      "==================================================\n"
     ]
    },
    {
     "name": "stderr",
     "output_type": "stream",
     "text": [
      "Evaluating: 100%|██████████| 27/27 [00:10<00:00,  2.60it/s]\n"
     ]
    },
    {
     "name": "stdout",
     "output_type": "stream",
     "text": [
      "\n",
      "======================================================================\n",
      "📝 VALIDATION - TEXT EXAMPLES:\n",
      "======================================================================\n",
      "\n",
      "Example 1:\n",
      "  Reference: 'he slowly takes a short walk in the open air each day.'\n",
      "  Predicted: 'he slowly takes a short walk in the open air each day.'\n",
      "  Disease: Normal → Normal ✓\n",
      "\n",
      "Example 2:\n",
      "  Reference: 'this is not a program of socialized medicine'\n",
      "  Predicted: 'this is not a program of socialized medicine'\n",
      "  Disease: Normal → Normal ✓\n",
      "\n",
      "Example 3:\n",
      "  Reference: 'the blue spot is on the key again.'\n",
      "  Predicted: 'the view spot is on the key again.'\n",
      "  Disease: Normal → Normal ✓\n",
      "\n",
      "Example 4:\n",
      "  Reference: 'they used an aggressive policeman to flag thoughtless motorists'\n",
      "  Predicted: 'they used an aggressive policeman to flag thoughtless motorists'\n",
      "  Disease: Normal → Normal ✓\n",
      "\n",
      "Example 5:\n",
      "  Reference: 'when you are through write a clean report.'\n",
      "  Predicted: 'when you are through write a clean report.'\n",
      "  Disease: Normal → Normal ✓\n",
      "======================================================================\n",
      "\n",
      "📊 VALIDATION METRICS:\n",
      "   Loss: 0.0572\n",
      "   Disease - Acc: 1.0000, F1: 1.0000\n",
      "   Disease - Prec: 1.0000, Rec: 1.0000\n",
      "   Speech  - WER: 0.0742, CER: 0.0520\n",
      "⏳ No improvement. Patience: 1/7\n",
      "\n",
      "==================================================\n",
      "EPOCH 40/50\n",
      "==================================================\n"
     ]
    },
    {
     "name": "stderr",
     "output_type": "stream",
     "text": [
      "Training Epoch 40:   0%|          | 0/109 [00:00<?, ?it/s]"
     ]
    },
    {
     "name": "stdout",
     "output_type": "stream",
     "text": [
      "\n",
      "=== METRICS DEBUG (Using EOT: 50256) ===\n",
      "Processing 16 samples...\n"
     ]
    },
    {
     "name": "stderr",
     "output_type": "stream",
     "text": [
      "Training Epoch 40:   1%|          | 1/109 [00:01<03:11,  1.77s/it]"
     ]
    },
    {
     "name": "stdout",
     "output_type": "stream",
     "text": [
      "Sample 0:\n",
      "  Pred: 'when he speaks his voice is just a bit cracked and...'\n",
      "  Ref:  'when he speaks his voice is just a bit cracked and...'\n",
      "Sample 1:\n",
      "  Pred: 'she had your dark suit in greasy wash water all ye...'\n",
      "  Ref:  'she had your dark suit in greasy wash water all ye...'\n",
      "Sample 2:\n",
      "  Pred: 'just one side got wet....'\n",
      "  Ref:  'just one side got wet....'\n",
      "\n",
      "Metrics computed (using proper Whisper tokens):\n",
      "  WER: 0.0000, CER: 0.0000\n",
      "  Disease Acc: 1.0000\n",
      "  Precision: 1.0000, Recall: 1.0000, F1: 1.0000\n",
      "==================================================\n",
      "\n",
      "=== METRICS DEBUG (Using EOT: 50256) ===\n",
      "Processing 16 samples...\n"
     ]
    },
    {
     "name": "stderr",
     "output_type": "stream",
     "text": [
      "Training Epoch 40:   2%|▏         | 2/109 [00:02<01:39,  1.08it/s]"
     ]
    },
    {
     "name": "stdout",
     "output_type": "stream",
     "text": [
      "Sample 0:\n",
      "  Pred: 'they carried me off on the stretcher....'\n",
      "  Ref:  'they carried me off on the stretcher....'\n",
      "Sample 1:\n",
      "  Pred: 'you do that or take you out a permit right now...'\n",
      "  Ref:  'you do that or take you out a permit right now...'\n",
      "Sample 2:\n",
      "  Pred: 'the prospect of cutting back spending is an unplea...'\n",
      "  Ref:  'the prospect of cutting back spending is an unplea...'\n",
      "\n",
      "Metrics computed (using proper Whisper tokens):\n",
      "  WER: 0.0000, CER: 0.0000\n",
      "  Disease Acc: 1.0000\n",
      "  Precision: 1.0000, Recall: 1.0000, F1: 1.0000\n",
      "==================================================\n"
     ]
    },
    {
     "name": "stderr",
     "output_type": "stream",
     "text": [
      "Training Epoch 40: 100%|██████████| 109/109 [01:22<00:00,  1.33it/s]\n"
     ]
    },
    {
     "name": "stdout",
     "output_type": "stream",
     "text": [
      "\n",
      "======================================================================\n",
      "📝 TRAINING EPOCH 40 - TEXT EXAMPLES:\n",
      "======================================================================\n",
      "\n",
      "Example 1:\n",
      "  Reference: 'when he speaks his voice is just a bit cracked and quivers a trifle.'\n",
      "  Predicted: 'when he speaks his voice is just a bit cracked and quivers a trifle.'\n",
      "  Disease: Dysphonia → Dysphonia ✓\n",
      "\n",
      "Example 2:\n",
      "  Reference: 'she had your dark suit in greasy wash water all year'\n",
      "  Predicted: 'she had your dark suit in greasy wash water all year'\n",
      "  Disease: Dysarthria → Dysarthria ✓\n",
      "\n",
      "Example 3:\n",
      "  Reference: 'just one side got wet.'\n",
      "  Predicted: 'just one side got wet.'\n",
      "  Disease: Dysphonia → Dysphonia ✓\n",
      "\n",
      "Example 4:\n",
      "  Reference: 'aluminum silverware can often be flimsy.'\n",
      "  Predicted: 'aluminum silverware can often be flimsy.'\n",
      "  Disease: Dysphonia → Dysphonia ✓\n",
      "\n",
      "Example 5:\n",
      "  Reference: 'the humidity is overwhelming there.'\n",
      "  Predicted: 'the humidity is overwhelming there.'\n",
      "  Disease: Dysphonia → Dysphonia ✓\n",
      "======================================================================\n",
      "\n",
      "📈 TRAINING METRICS:\n",
      "   Loss: 0.0003 (Cls: 0.0001, Trans: 0.0013)\n",
      "   Disease - Acc: 1.0000, F1: 1.0000\n",
      "   Disease - Prec: 1.0000, Rec: 1.0000\n",
      "   Speech  - WER: 0.0004, CER: 0.0003\n",
      "   Weights - α: 0.1957, β: 0.8043\n"
     ]
    },
    {
     "name": "stderr",
     "output_type": "stream",
     "text": [
      "Evaluating:   4%|▎         | 1/27 [00:00<00:25,  1.00it/s]"
     ]
    },
    {
     "name": "stdout",
     "output_type": "stream",
     "text": [
      "\n",
      "=== METRICS DEBUG (Using EOT: 50256) ===\n",
      "Processing 8 samples...\n",
      "Sample 0:\n",
      "  Pred: 'he slowly takes a short walk in the open air each ...'\n",
      "  Ref:  'he slowly takes a short walk in the open air each ...'\n",
      "Sample 1:\n",
      "  Pred: 'this is not a program of socialized medicine...'\n",
      "  Ref:  'this is not a program of socialized medicine...'\n",
      "Sample 2:\n",
      "  Pred: 'the view spot is on the key again....'\n",
      "  Ref:  'the blue spot is on the key again....'\n",
      "\n",
      "Metrics computed (using proper Whisper tokens):\n",
      "  WER: 0.0133, CER: 0.0098\n",
      "  Disease Acc: 1.0000\n",
      "  Precision: 1.0000, Recall: 1.0000, F1: 1.0000\n",
      "==================================================\n",
      "\n",
      "=== METRICS DEBUG (Using EOT: 50256) ===\n",
      "Processing 8 samples...\n",
      "Sample 0:\n",
      "  Pred: 'it also provides for funds to clear slums and help...'\n",
      "  Ref:  'it also provides for funds to clear slums and help...'\n",
      "Sample 1:\n",
      "  Pred: 'there is definitely some ligament damage in his kn...'\n",
      "  Ref:  'there is definitely some ligament damage in his kn...'\n",
      "Sample 2:\n",
      "  Pred: 'un unoccupied roadway the bottle shattered into a ...'\n",
      "  Ref:  'on unoccupied roadway the bottle shattered into a ...'\n",
      "\n",
      "Metrics computed (using proper Whisper tokens):\n",
      "  WER: 0.0267, CER: 0.0048\n",
      "  Disease Acc: 1.0000\n",
      "  Precision: 1.0000, Recall: 1.0000, F1: 1.0000\n",
      "==================================================\n"
     ]
    },
    {
     "name": "stderr",
     "output_type": "stream",
     "text": [
      "Evaluating: 100%|██████████| 27/27 [00:10<00:00,  2.50it/s]\n"
     ]
    },
    {
     "name": "stdout",
     "output_type": "stream",
     "text": [
      "\n",
      "======================================================================\n",
      "📝 VALIDATION - TEXT EXAMPLES:\n",
      "======================================================================\n",
      "\n",
      "Example 1:\n",
      "  Reference: 'he slowly takes a short walk in the open air each day.'\n",
      "  Predicted: 'he slowly takes a short walk in the open air each day.'\n",
      "  Disease: Normal → Normal ✓\n",
      "\n",
      "Example 2:\n",
      "  Reference: 'this is not a program of socialized medicine'\n",
      "  Predicted: 'this is not a program of socialized medicine'\n",
      "  Disease: Normal → Normal ✓\n",
      "\n",
      "Example 3:\n",
      "  Reference: 'the blue spot is on the key again.'\n",
      "  Predicted: 'the view spot is on the key again.'\n",
      "  Disease: Normal → Normal ✓\n",
      "\n",
      "Example 4:\n",
      "  Reference: 'they used an aggressive policeman to flag thoughtless motorists'\n",
      "  Predicted: 'they used an aggressive policeman to flag thoughtless motorists'\n",
      "  Disease: Normal → Normal ✓\n",
      "\n",
      "Example 5:\n",
      "  Reference: 'when you are through write a clean report.'\n",
      "  Predicted: 'when you are through write a clean report.'\n",
      "  Disease: Normal → Normal ✓\n",
      "======================================================================\n",
      "\n",
      "📊 VALIDATION METRICS:\n",
      "   Loss: 0.0571\n",
      "   Disease - Acc: 1.0000, F1: 1.0000\n",
      "   Disease - Prec: 1.0000, Rec: 1.0000\n",
      "   Speech  - WER: 0.0752, CER: 0.0525\n",
      "✅ Best model saved: ../checkpoints_exp/checkpoints_base.en_encoder_learning/best_multitask_model_base.en.pt\n",
      "\n",
      "==================================================\n",
      "EPOCH 41/50\n",
      "==================================================\n"
     ]
    },
    {
     "name": "stderr",
     "output_type": "stream",
     "text": [
      "Training Epoch 41:   0%|          | 0/109 [00:00<?, ?it/s]"
     ]
    },
    {
     "name": "stdout",
     "output_type": "stream",
     "text": [
      "\n",
      "=== METRICS DEBUG (Using EOT: 50256) ===\n",
      "Processing 16 samples...\n"
     ]
    },
    {
     "name": "stderr",
     "output_type": "stream",
     "text": [
      "Training Epoch 41:   1%|          | 1/109 [00:02<03:50,  2.13s/it]"
     ]
    },
    {
     "name": "stdout",
     "output_type": "stream",
     "text": [
      "Sample 0:\n",
      "  Pred: 'to keep 'em scattered somewhat and yet herd 'em wa...'\n",
      "  Ref:  'to keep 'em scattered somewhat and yet herd 'em wa...'\n",
      "Sample 1:\n",
      "  Pred: 'people who value themselves are life's winners....'\n",
      "  Ref:  'people who value themselves are life's winners....'\n",
      "Sample 2:\n",
      "  Pred: 'it's hard to tell an original from a forgery....'\n",
      "  Ref:  'it's hard to tell an original from a forgery....'\n",
      "\n",
      "Metrics computed (using proper Whisper tokens):\n",
      "  WER: 0.0000, CER: 0.0000\n",
      "  Disease Acc: 1.0000\n",
      "  Precision: 1.0000, Recall: 1.0000, F1: 1.0000\n",
      "==================================================\n",
      "\n",
      "=== METRICS DEBUG (Using EOT: 50256) ===\n",
      "Processing 16 samples...\n"
     ]
    },
    {
     "name": "stderr",
     "output_type": "stream",
     "text": [
      "Training Epoch 41:   2%|▏         | 2/109 [00:02<01:55,  1.08s/it]"
     ]
    },
    {
     "name": "stdout",
     "output_type": "stream",
     "text": [
      "Sample 0:\n",
      "  Pred: 'the prospect of cutting back spending is an unplea...'\n",
      "  Ref:  'the prospect of cutting back spending is an unplea...'\n",
      "Sample 1:\n",
      "  Pred: 'some observers speculated that this might be his r...'\n",
      "  Ref:  'some observers speculated that this might be his r...'\n",
      "Sample 2:\n",
      "  Pred: 'at twilight on the twelfth day we'll have chablis....'\n",
      "  Ref:  'at twilight on the twelfth day we'll have chablis....'\n",
      "\n",
      "Metrics computed (using proper Whisper tokens):\n",
      "  WER: 0.0000, CER: 0.0000\n",
      "  Disease Acc: 1.0000\n",
      "  Precision: 1.0000, Recall: 1.0000, F1: 1.0000\n",
      "==================================================\n"
     ]
    },
    {
     "name": "stderr",
     "output_type": "stream",
     "text": [
      "Training Epoch 41: 100%|██████████| 109/109 [01:23<00:00,  1.31it/s]\n"
     ]
    },
    {
     "name": "stdout",
     "output_type": "stream",
     "text": [
      "\n",
      "======================================================================\n",
      "📝 TRAINING EPOCH 41 - TEXT EXAMPLES:\n",
      "======================================================================\n",
      "\n",
      "Example 1:\n",
      "  Reference: 'to keep 'em scattered somewhat and yet herd 'em was called loose herdin''\n",
      "  Predicted: 'to keep 'em scattered somewhat and yet herd 'em was called loose herdin''\n",
      "  Disease: Dysarthria → Dysarthria ✓\n",
      "\n",
      "Example 2:\n",
      "  Reference: 'people who value themselves are life's winners.'\n",
      "  Predicted: 'people who value themselves are life's winners.'\n",
      "  Disease: Dysphonia → Dysphonia ✓\n",
      "\n",
      "Example 3:\n",
      "  Reference: 'it's hard to tell an original from a forgery.'\n",
      "  Predicted: 'it's hard to tell an original from a forgery.'\n",
      "  Disease: Normal → Normal ✓\n",
      "\n",
      "Example 4:\n",
      "  Reference: 'within a system however the autonomy of each member library is preserved'\n",
      "  Predicted: 'within a system however the autonomy of each member library is preserved'\n",
      "  Disease: Normal → Normal ✓\n",
      "\n",
      "Example 5:\n",
      "  Reference: 'we have often urged him to walk more and smoke less'\n",
      "  Predicted: 'we have often urged him to walk more and smoke less'\n",
      "  Disease: Normal → Normal ✓\n",
      "======================================================================\n",
      "\n",
      "📈 TRAINING METRICS:\n",
      "   Loss: 0.0003 (Cls: 0.0001, Trans: 0.0012)\n",
      "   Disease - Acc: 1.0000, F1: 1.0000\n",
      "   Disease - Prec: 1.0000, Rec: 1.0000\n",
      "   Speech  - WER: 0.0002, CER: 0.0002\n",
      "   Weights - α: 0.1957, β: 0.8043\n"
     ]
    },
    {
     "name": "stderr",
     "output_type": "stream",
     "text": [
      "Evaluating:   4%|▎         | 1/27 [00:00<00:21,  1.24it/s]"
     ]
    },
    {
     "name": "stdout",
     "output_type": "stream",
     "text": [
      "\n",
      "=== METRICS DEBUG (Using EOT: 50256) ===\n",
      "Processing 8 samples...\n",
      "Sample 0:\n",
      "  Pred: 'he slowly takes a short walk in the open air each ...'\n",
      "  Ref:  'he slowly takes a short walk in the open air each ...'\n",
      "Sample 1:\n",
      "  Pred: 'this is not a program of socialized medicine...'\n",
      "  Ref:  'this is not a program of socialized medicine...'\n",
      "Sample 2:\n",
      "  Pred: 'the view spot is on the key again....'\n",
      "  Ref:  'the blue spot is on the key again....'\n",
      "\n",
      "Metrics computed (using proper Whisper tokens):\n",
      "  WER: 0.0133, CER: 0.0098\n",
      "  Disease Acc: 1.0000\n",
      "  Precision: 1.0000, Recall: 1.0000, F1: 1.0000\n",
      "==================================================\n",
      "\n",
      "=== METRICS DEBUG (Using EOT: 50256) ===\n",
      "Processing 8 samples...\n"
     ]
    },
    {
     "name": "stderr",
     "output_type": "stream",
     "text": [
      "Evaluating:   7%|▋         | 2/27 [00:01<00:11,  2.18it/s]"
     ]
    },
    {
     "name": "stdout",
     "output_type": "stream",
     "text": [
      "Sample 0:\n",
      "  Pred: 'it also provides for funds to clear slums and help...'\n",
      "  Ref:  'it also provides for funds to clear slums and help...'\n",
      "Sample 1:\n",
      "  Pred: 'there is definitely some ligament damage in his kn...'\n",
      "  Ref:  'there is definitely some ligament damage in his kn...'\n",
      "Sample 2:\n",
      "  Pred: 'un unoccupied roadway the bottle shattered into a ...'\n",
      "  Ref:  'on unoccupied roadway the bottle shattered into a ...'\n",
      "\n",
      "Metrics computed (using proper Whisper tokens):\n",
      "  WER: 0.0267, CER: 0.0048\n",
      "  Disease Acc: 1.0000\n",
      "  Precision: 1.0000, Recall: 1.0000, F1: 1.0000\n",
      "==================================================\n"
     ]
    },
    {
     "name": "stderr",
     "output_type": "stream",
     "text": [
      "Evaluating: 100%|██████████| 27/27 [00:11<00:00,  2.43it/s]\n"
     ]
    },
    {
     "name": "stdout",
     "output_type": "stream",
     "text": [
      "\n",
      "======================================================================\n",
      "📝 VALIDATION - TEXT EXAMPLES:\n",
      "======================================================================\n",
      "\n",
      "Example 1:\n",
      "  Reference: 'he slowly takes a short walk in the open air each day.'\n",
      "  Predicted: 'he slowly takes a short walk in the open air each day.'\n",
      "  Disease: Normal → Normal ✓\n",
      "\n",
      "Example 2:\n",
      "  Reference: 'this is not a program of socialized medicine'\n",
      "  Predicted: 'this is not a program of socialized medicine'\n",
      "  Disease: Normal → Normal ✓\n",
      "\n",
      "Example 3:\n",
      "  Reference: 'the blue spot is on the key again.'\n",
      "  Predicted: 'the view spot is on the key again.'\n",
      "  Disease: Normal → Normal ✓\n",
      "\n",
      "Example 4:\n",
      "  Reference: 'they used an aggressive policeman to flag thoughtless motorists'\n",
      "  Predicted: 'they used an aggressive policeman to flag thoughtless motorists'\n",
      "  Disease: Normal → Normal ✓\n",
      "\n",
      "Example 5:\n",
      "  Reference: 'when you are through write a clean report.'\n",
      "  Predicted: 'when you are through write a clean report.'\n",
      "  Disease: Normal → Normal ✓\n",
      "======================================================================\n",
      "\n",
      "📊 VALIDATION METRICS:\n",
      "   Loss: 0.0569\n",
      "   Disease - Acc: 1.0000, F1: 1.0000\n",
      "   Disease - Prec: 1.0000, Rec: 1.0000\n",
      "   Speech  - WER: 0.0766, CER: 0.0539\n",
      "✅ Best model saved: ../checkpoints_exp/checkpoints_base.en_encoder_learning/best_multitask_model_base.en.pt\n",
      "\n",
      "==================================================\n",
      "EPOCH 42/50\n",
      "==================================================\n"
     ]
    },
    {
     "name": "stderr",
     "output_type": "stream",
     "text": [
      "Training Epoch 42:   0%|          | 0/109 [00:00<?, ?it/s]"
     ]
    },
    {
     "name": "stdout",
     "output_type": "stream",
     "text": [
      "\n",
      "=== METRICS DEBUG (Using EOT: 50256) ===\n",
      "Processing 16 samples...\n"
     ]
    },
    {
     "name": "stderr",
     "output_type": "stream",
     "text": [
      "Training Epoch 42:   1%|          | 1/109 [00:02<03:41,  2.05s/it]"
     ]
    },
    {
     "name": "stdout",
     "output_type": "stream",
     "text": [
      "Sample 0:\n",
      "  Pred: 'to keep 'em scattered somewhat and yet herd 'em wa...'\n",
      "  Ref:  'to keep 'em scattered somewhat and yet herd 'em wa...'\n",
      "Sample 1:\n",
      "  Pred: 'most precincts had a third of the votes counted...'\n",
      "  Ref:  'most precincts had a third of the votes counted...'\n",
      "Sample 2:\n",
      "  Pred: 'like enough we'll all be up on top by sundown...'\n",
      "  Ref:  'like enough we'll all be up on top by sundown...'\n",
      "\n",
      "Metrics computed (using proper Whisper tokens):\n",
      "  WER: 0.0000, CER: 0.0000\n",
      "  Disease Acc: 1.0000\n",
      "  Precision: 1.0000, Recall: 1.0000, F1: 1.0000\n",
      "==================================================\n",
      "\n",
      "=== METRICS DEBUG (Using EOT: 50256) ===\n",
      "Processing 16 samples...\n"
     ]
    },
    {
     "name": "stderr",
     "output_type": "stream",
     "text": [
      "Training Epoch 42:   2%|▏         | 2/109 [00:02<01:50,  1.03s/it]"
     ]
    },
    {
     "name": "stdout",
     "output_type": "stream",
     "text": [
      "Sample 0:\n",
      "  Pred: 'it also provides for funds to clear slums and help...'\n",
      "  Ref:  'it also provides for funds to clear slums and help...'\n",
      "Sample 1:\n",
      "  Pred: 'she had your dark suit in greasy wash water all ye...'\n",
      "  Ref:  'she had your dark suit in greasy wash water all ye...'\n",
      "Sample 2:\n",
      "  Pred: 'all the big baseball players get traded....'\n",
      "  Ref:  'all the big baseball players get traded....'\n",
      "\n",
      "Metrics computed (using proper Whisper tokens):\n",
      "  WER: 0.0000, CER: 0.0000\n",
      "  Disease Acc: 1.0000\n",
      "  Precision: 1.0000, Recall: 1.0000, F1: 1.0000\n",
      "==================================================\n"
     ]
    },
    {
     "name": "stderr",
     "output_type": "stream",
     "text": [
      "Training Epoch 42: 100%|██████████| 109/109 [01:24<00:00,  1.29it/s]\n"
     ]
    },
    {
     "name": "stdout",
     "output_type": "stream",
     "text": [
      "\n",
      "======================================================================\n",
      "📝 TRAINING EPOCH 42 - TEXT EXAMPLES:\n",
      "======================================================================\n",
      "\n",
      "Example 1:\n",
      "  Reference: 'to keep 'em scattered somewhat and yet herd 'em was called loose herdin''\n",
      "  Predicted: 'to keep 'em scattered somewhat and yet herd 'em was called loose herdin''\n",
      "  Disease: Dysarthria → Dysarthria ✓\n",
      "\n",
      "Example 2:\n",
      "  Reference: 'most precincts had a third of the votes counted'\n",
      "  Predicted: 'most precincts had a third of the votes counted'\n",
      "  Disease: Normal → Normal ✓\n",
      "\n",
      "Example 3:\n",
      "  Reference: 'like enough we'll all be up on top by sundown'\n",
      "  Predicted: 'like enough we'll all be up on top by sundown'\n",
      "  Disease: Normal → Normal ✓\n",
      "\n",
      "Example 4:\n",
      "  Reference: 'you'd be better off taking a cold shower.'\n",
      "  Predicted: 'you'd be better off taking a cold shower.'\n",
      "  Disease: Dysphonia → Dysphonia ✓\n",
      "\n",
      "Example 5:\n",
      "  Reference: 'even then if she took one step forward he could catch her'\n",
      "  Predicted: 'even then if she took one step forward he could catch her'\n",
      "  Disease: Dysarthria → Dysarthria ✓\n",
      "======================================================================\n",
      "\n",
      "📈 TRAINING METRICS:\n",
      "   Loss: 0.0003 (Cls: 0.0001, Trans: 0.0011)\n",
      "   Disease - Acc: 1.0000, F1: 1.0000\n",
      "   Disease - Prec: 1.0000, Rec: 1.0000\n",
      "   Speech  - WER: 0.0004, CER: 0.0003\n",
      "   Weights - α: 0.1957, β: 0.8043\n"
     ]
    },
    {
     "name": "stderr",
     "output_type": "stream",
     "text": [
      "Evaluating:   4%|▎         | 1/27 [00:01<00:29,  1.12s/it]"
     ]
    },
    {
     "name": "stdout",
     "output_type": "stream",
     "text": [
      "\n",
      "=== METRICS DEBUG (Using EOT: 50256) ===\n",
      "Processing 8 samples...\n",
      "Sample 0:\n",
      "  Pred: 'he slowly takes a short walk in the open air each ...'\n",
      "  Ref:  'he slowly takes a short walk in the open air each ...'\n",
      "Sample 1:\n",
      "  Pred: 'this is not a program of socialized medicine...'\n",
      "  Ref:  'this is not a program of socialized medicine...'\n",
      "Sample 2:\n",
      "  Pred: 'the view spot is on the key again....'\n",
      "  Ref:  'the blue spot is on the key again....'\n",
      "\n",
      "Metrics computed (using proper Whisper tokens):\n",
      "  WER: 0.0133, CER: 0.0098\n",
      "  Disease Acc: 1.0000\n",
      "  Precision: 1.0000, Recall: 1.0000, F1: 1.0000\n",
      "==================================================\n",
      "\n",
      "=== METRICS DEBUG (Using EOT: 50256) ===\n",
      "Processing 8 samples...\n",
      "Sample 0:\n",
      "  Pred: 'it also provides for funds to clear slums and help...'\n",
      "  Ref:  'it also provides for funds to clear slums and help...'\n",
      "Sample 1:\n",
      "  Pred: 'there is definitely some ligament damage in his kn...'\n",
      "  Ref:  'there is definitely some ligament damage in his kn...'\n",
      "Sample 2:\n",
      "  Pred: 'un unoccupied roadway the bottle shattered into a ...'\n",
      "  Ref:  'on unoccupied roadway the bottle shattered into a ...'\n",
      "\n",
      "Metrics computed (using proper Whisper tokens):\n",
      "  WER: 0.0267, CER: 0.0048\n",
      "  Disease Acc: 1.0000\n",
      "  Precision: 1.0000, Recall: 1.0000, F1: 1.0000\n",
      "==================================================\n"
     ]
    },
    {
     "name": "stderr",
     "output_type": "stream",
     "text": [
      "Evaluating: 100%|██████████| 27/27 [00:10<00:00,  2.54it/s]\n"
     ]
    },
    {
     "name": "stdout",
     "output_type": "stream",
     "text": [
      "\n",
      "======================================================================\n",
      "📝 VALIDATION - TEXT EXAMPLES:\n",
      "======================================================================\n",
      "\n",
      "Example 1:\n",
      "  Reference: 'he slowly takes a short walk in the open air each day.'\n",
      "  Predicted: 'he slowly takes a short walk in the open air each day.'\n",
      "  Disease: Normal → Normal ✓\n",
      "\n",
      "Example 2:\n",
      "  Reference: 'this is not a program of socialized medicine'\n",
      "  Predicted: 'this is not a program of socialized medicine'\n",
      "  Disease: Normal → Normal ✓\n",
      "\n",
      "Example 3:\n",
      "  Reference: 'the blue spot is on the key again.'\n",
      "  Predicted: 'the view spot is on the key again.'\n",
      "  Disease: Normal → Normal ✓\n",
      "\n",
      "Example 4:\n",
      "  Reference: 'they used an aggressive policeman to flag thoughtless motorists'\n",
      "  Predicted: 'they used an aggressive policeman to flag thoughtless motorists'\n",
      "  Disease: Normal → Normal ✓\n",
      "\n",
      "Example 5:\n",
      "  Reference: 'when you are through write a clean report.'\n",
      "  Predicted: 'when you are through write a clean report.'\n",
      "  Disease: Normal → Normal ✓\n",
      "======================================================================\n",
      "\n",
      "📊 VALIDATION METRICS:\n",
      "   Loss: 0.0568\n",
      "   Disease - Acc: 1.0000, F1: 1.0000\n",
      "   Disease - Prec: 1.0000, Rec: 1.0000\n",
      "   Speech  - WER: 0.0761, CER: 0.0532\n",
      "✅ Best model saved: ../checkpoints_exp/checkpoints_base.en_encoder_learning/best_multitask_model_base.en.pt\n",
      "\n",
      "==================================================\n",
      "EPOCH 43/50\n",
      "==================================================\n"
     ]
    },
    {
     "name": "stderr",
     "output_type": "stream",
     "text": [
      "Training Epoch 43:   0%|          | 0/109 [00:00<?, ?it/s]"
     ]
    },
    {
     "name": "stdout",
     "output_type": "stream",
     "text": [
      "\n",
      "=== METRICS DEBUG (Using EOT: 50256) ===\n",
      "Processing 16 samples...\n"
     ]
    },
    {
     "name": "stderr",
     "output_type": "stream",
     "text": [
      "Training Epoch 43:   1%|          | 1/109 [00:01<03:12,  1.79s/it]"
     ]
    },
    {
     "name": "stdout",
     "output_type": "stream",
     "text": [
      "Sample 0:\n",
      "  Pred: 'there is definitely some ligament damage in his kn...'\n",
      "  Ref:  'there is definitely some ligament damage in his kn...'\n",
      "Sample 1:\n",
      "  Pred: 'to keep 'em scattered somewhat and yet herd 'em wa...'\n",
      "  Ref:  'to keep 'em scattered somewhat and yet herd 'em wa...'\n",
      "Sample 2:\n",
      "  Pred: 'so if anybody solicits by phone make sure you mail...'\n",
      "  Ref:  'so if anybody solicits by phone make sure you mail...'\n",
      "\n",
      "Metrics computed (using proper Whisper tokens):\n",
      "  WER: 0.0000, CER: 0.0000\n",
      "  Disease Acc: 1.0000\n",
      "  Precision: 1.0000, Recall: 1.0000, F1: 1.0000\n",
      "==================================================\n",
      "\n",
      "=== METRICS DEBUG (Using EOT: 50256) ===\n",
      "Processing 16 samples...\n"
     ]
    },
    {
     "name": "stderr",
     "output_type": "stream",
     "text": [
      "Training Epoch 43:   2%|▏         | 2/109 [00:02<01:40,  1.06it/s]"
     ]
    },
    {
     "name": "stdout",
     "output_type": "stream",
     "text": [
      "Sample 0:\n",
      "  Pred: 'clapping spurs to the bronc he set off at a sharp ...'\n",
      "  Ref:  'clapping spurs to the bronc he set off at a sharp ...'\n",
      "Sample 1:\n",
      "  Pred: 'swing your arm as high as you can....'\n",
      "  Ref:  'swing your arm as high as you can....'\n",
      "Sample 2:\n",
      "  Pred: 'if any of us miss they can pick up the pieces...'\n",
      "  Ref:  'if any of us miss they can pick up the pieces...'\n",
      "\n",
      "Metrics computed (using proper Whisper tokens):\n",
      "  WER: 0.0000, CER: 0.0000\n",
      "  Disease Acc: 1.0000\n",
      "  Precision: 1.0000, Recall: 1.0000, F1: 1.0000\n",
      "==================================================\n"
     ]
    },
    {
     "name": "stderr",
     "output_type": "stream",
     "text": [
      "Training Epoch 43: 100%|██████████| 109/109 [01:23<00:00,  1.30it/s]\n"
     ]
    },
    {
     "name": "stdout",
     "output_type": "stream",
     "text": [
      "\n",
      "======================================================================\n",
      "📝 TRAINING EPOCH 43 - TEXT EXAMPLES:\n",
      "======================================================================\n",
      "\n",
      "Example 1:\n",
      "  Reference: 'there is definitely some ligament damage in his knee.'\n",
      "  Predicted: 'there is definitely some ligament damage in his knee.'\n",
      "  Disease: Normal → Normal ✓\n",
      "\n",
      "Example 2:\n",
      "  Reference: 'to keep 'em scattered somewhat and yet herd 'em was called loose herdin''\n",
      "  Predicted: 'to keep 'em scattered somewhat and yet herd 'em was called loose herdin''\n",
      "  Disease: Normal → Normal ✓\n",
      "\n",
      "Example 3:\n",
      "  Reference: 'so if anybody solicits by phone make sure you mail the dough to the above.'\n",
      "  Predicted: 'so if anybody solicits by phone make sure you mail the dough to the above.'\n",
      "  Disease: Normal → Normal ✓\n",
      "\n",
      "Example 4:\n",
      "  Reference: 'the quick brown fox jumps over the lazy dog.'\n",
      "  Predicted: 'the quick brown fox jumps over the lazy dog.'\n",
      "  Disease: Dysphonia → Dysphonia ✓\n",
      "\n",
      "Example 5:\n",
      "  Reference: 'two cars came over a crest their chrome and glass flashing'\n",
      "  Predicted: 'two cars came over a crest their chrome and glass flashing'\n",
      "  Disease: Dysarthria → Dysarthria ✓\n",
      "======================================================================\n",
      "\n",
      "📈 TRAINING METRICS:\n",
      "   Loss: 0.0002 (Cls: 0.0001, Trans: 0.0011)\n",
      "   Disease - Acc: 1.0000, F1: 1.0000\n",
      "   Disease - Prec: 1.0000, Rec: 1.0000\n",
      "   Speech  - WER: 0.0003, CER: 0.0002\n",
      "   Weights - α: 0.1957, β: 0.8043\n"
     ]
    },
    {
     "name": "stderr",
     "output_type": "stream",
     "text": [
      "Evaluating:   4%|▎         | 1/27 [00:01<00:27,  1.07s/it]"
     ]
    },
    {
     "name": "stdout",
     "output_type": "stream",
     "text": [
      "\n",
      "=== METRICS DEBUG (Using EOT: 50256) ===\n",
      "Processing 8 samples...\n",
      "Sample 0:\n",
      "  Pred: 'he slowly takes a short walk in the open air each ...'\n",
      "  Ref:  'he slowly takes a short walk in the open air each ...'\n",
      "Sample 1:\n",
      "  Pred: 'this is not a program of socialized medicine...'\n",
      "  Ref:  'this is not a program of socialized medicine...'\n",
      "Sample 2:\n",
      "  Pred: 'the view spot is on the key again....'\n",
      "  Ref:  'the blue spot is on the key again....'\n",
      "\n",
      "Metrics computed (using proper Whisper tokens):\n",
      "  WER: 0.0133, CER: 0.0098\n",
      "  Disease Acc: 1.0000\n",
      "  Precision: 1.0000, Recall: 1.0000, F1: 1.0000\n",
      "==================================================\n",
      "\n",
      "=== METRICS DEBUG (Using EOT: 50256) ===\n",
      "Processing 8 samples...\n",
      "Sample 0:\n",
      "  Pred: 'it also provides for funds to clear slums and help...'\n",
      "  Ref:  'it also provides for funds to clear slums and help...'\n",
      "Sample 1:\n",
      "  Pred: 'there is definitely some ligament damage in his kn...'\n",
      "  Ref:  'there is definitely some ligament damage in his kn...'\n",
      "Sample 2:\n",
      "  Pred: 'un unoccupied roadway the bottle shattered into a ...'\n",
      "  Ref:  'on unoccupied roadway the bottle shattered into a ...'\n",
      "\n",
      "Metrics computed (using proper Whisper tokens):\n",
      "  WER: 0.0267, CER: 0.0048\n",
      "  Disease Acc: 1.0000\n",
      "  Precision: 1.0000, Recall: 1.0000, F1: 1.0000\n",
      "==================================================\n"
     ]
    },
    {
     "name": "stderr",
     "output_type": "stream",
     "text": [
      "Evaluating: 100%|██████████| 27/27 [00:10<00:00,  2.53it/s]\n"
     ]
    },
    {
     "name": "stdout",
     "output_type": "stream",
     "text": [
      "\n",
      "======================================================================\n",
      "📝 VALIDATION - TEXT EXAMPLES:\n",
      "======================================================================\n",
      "\n",
      "Example 1:\n",
      "  Reference: 'he slowly takes a short walk in the open air each day.'\n",
      "  Predicted: 'he slowly takes a short walk in the open air each day.'\n",
      "  Disease: Normal → Normal ✓\n",
      "\n",
      "Example 2:\n",
      "  Reference: 'this is not a program of socialized medicine'\n",
      "  Predicted: 'this is not a program of socialized medicine'\n",
      "  Disease: Normal → Normal ✓\n",
      "\n",
      "Example 3:\n",
      "  Reference: 'the blue spot is on the key again.'\n",
      "  Predicted: 'the view spot is on the key again.'\n",
      "  Disease: Normal → Normal ✓\n",
      "\n",
      "Example 4:\n",
      "  Reference: 'they used an aggressive policeman to flag thoughtless motorists'\n",
      "  Predicted: 'they used an aggressive policeman to flag thoughtless motorists'\n",
      "  Disease: Normal → Normal ✓\n",
      "\n",
      "Example 5:\n",
      "  Reference: 'when you are through write a clean report.'\n",
      "  Predicted: 'when you are through write a clean report.'\n",
      "  Disease: Normal → Normal ✓\n",
      "======================================================================\n",
      "\n",
      "📊 VALIDATION METRICS:\n",
      "   Loss: 0.0568\n",
      "   Disease - Acc: 1.0000, F1: 1.0000\n",
      "   Disease - Prec: 1.0000, Rec: 1.0000\n",
      "   Speech  - WER: 0.0769, CER: 0.0534\n",
      "✅ Best model saved: ../checkpoints_exp/checkpoints_base.en_encoder_learning/best_multitask_model_base.en.pt\n",
      "\n",
      "==================================================\n",
      "EPOCH 44/50\n",
      "==================================================\n"
     ]
    },
    {
     "name": "stderr",
     "output_type": "stream",
     "text": [
      "Training Epoch 44:   0%|          | 0/109 [00:00<?, ?it/s]"
     ]
    },
    {
     "name": "stdout",
     "output_type": "stream",
     "text": [
      "\n",
      "=== METRICS DEBUG (Using EOT: 50256) ===\n",
      "Processing 16 samples...\n"
     ]
    },
    {
     "name": "stderr",
     "output_type": "stream",
     "text": [
      "Training Epoch 44:   1%|          | 1/109 [00:01<03:26,  1.91s/it]"
     ]
    },
    {
     "name": "stdout",
     "output_type": "stream",
     "text": [
      "Sample 0:\n",
      "  Pred: 'the blue spot is on the key again....'\n",
      "  Ref:  'the blue spot is on the key again....'\n",
      "Sample 1:\n",
      "  Pred: 'no question ruffles him or causes him to hesitate...'\n",
      "  Ref:  'no question ruffles him or causes him to hesitate...'\n",
      "Sample 2:\n",
      "  Pred: 'you wished to know all about my grandfather....'\n",
      "  Ref:  'you wished to know all about my grandfather....'\n",
      "\n",
      "Metrics computed (using proper Whisper tokens):\n",
      "  WER: 0.0000, CER: 0.0000\n",
      "  Disease Acc: 1.0000\n",
      "  Precision: 1.0000, Recall: 1.0000, F1: 1.0000\n",
      "==================================================\n",
      "\n",
      "=== METRICS DEBUG (Using EOT: 50256) ===\n",
      "Processing 16 samples...\n"
     ]
    },
    {
     "name": "stderr",
     "output_type": "stream",
     "text": [
      "Training Epoch 44:   2%|▏         | 2/109 [00:02<01:44,  1.03it/s]"
     ]
    },
    {
     "name": "stdout",
     "output_type": "stream",
     "text": [
      "Sample 0:\n",
      "  Pred: 'the haunted house was a hit due to outstanding aud...'\n",
      "  Ref:  'the haunted house was a hit due to outstanding aud...'\n",
      "Sample 1:\n",
      "  Pred: 'a moth zig zagged along the path through otto's ga...'\n",
      "  Ref:  'a moth zig zagged along the path through otto's ga...'\n",
      "Sample 2:\n",
      "  Pred: 'shell shock caused by shrapnel is sometimes cured ...'\n",
      "  Ref:  'shell shock caused by shrapnel is sometimes cured ...'\n",
      "\n",
      "Metrics computed (using proper Whisper tokens):\n",
      "  WER: 0.0000, CER: 0.0000\n",
      "  Disease Acc: 1.0000\n",
      "  Precision: 1.0000, Recall: 1.0000, F1: 1.0000\n",
      "==================================================\n"
     ]
    },
    {
     "name": "stderr",
     "output_type": "stream",
     "text": [
      "Training Epoch 44: 100%|██████████| 109/109 [01:23<00:00,  1.30it/s]\n"
     ]
    },
    {
     "name": "stdout",
     "output_type": "stream",
     "text": [
      "\n",
      "======================================================================\n",
      "📝 TRAINING EPOCH 44 - TEXT EXAMPLES:\n",
      "======================================================================\n",
      "\n",
      "Example 1:\n",
      "  Reference: 'the blue spot is on the key again.'\n",
      "  Predicted: 'the blue spot is on the key again.'\n",
      "  Disease: Normal → Normal ✓\n",
      "\n",
      "Example 2:\n",
      "  Reference: 'no question ruffles him or causes him to hesitate'\n",
      "  Predicted: 'no question ruffles him or causes him to hesitate'\n",
      "  Disease: Normal → Normal ✓\n",
      "\n",
      "Example 3:\n",
      "  Reference: 'you wished to know all about my grandfather.'\n",
      "  Predicted: 'you wished to know all about my grandfather.'\n",
      "  Disease: Dysphonia → Dysphonia ✓\n",
      "\n",
      "Example 4:\n",
      "  Reference: 'the humidity is overwhelming there.'\n",
      "  Predicted: 'the humidity is overwhelming there.'\n",
      "  Disease: Dysphonia → Dysphonia ✓\n",
      "\n",
      "Example 5:\n",
      "  Reference: 'coffee is grown on steep jungle like slopes in temperate zones'\n",
      "  Predicted: 'coffee is grown on steep jungle like slopes in temperate zones'\n",
      "  Disease: Dysarthria → Dysarthria ✓\n",
      "======================================================================\n",
      "\n",
      "📈 TRAINING METRICS:\n",
      "   Loss: 0.0002 (Cls: 0.0000, Trans: 0.0010)\n",
      "   Disease - Acc: 1.0000, F1: 1.0000\n",
      "   Disease - Prec: 1.0000, Rec: 1.0000\n",
      "   Speech  - WER: 0.0004, CER: 0.0004\n",
      "   Weights - α: 0.1957, β: 0.8043\n"
     ]
    },
    {
     "name": "stderr",
     "output_type": "stream",
     "text": [
      "Evaluating:   4%|▎         | 1/27 [00:00<00:24,  1.05it/s]"
     ]
    },
    {
     "name": "stdout",
     "output_type": "stream",
     "text": [
      "\n",
      "=== METRICS DEBUG (Using EOT: 50256) ===\n",
      "Processing 8 samples...\n",
      "Sample 0:\n",
      "  Pred: 'he slowly takes a short walk in the open air each ...'\n",
      "  Ref:  'he slowly takes a short walk in the open air each ...'\n",
      "Sample 1:\n",
      "  Pred: 'this is not a program of socialized medicine...'\n",
      "  Ref:  'this is not a program of socialized medicine...'\n",
      "Sample 2:\n",
      "  Pred: 'the view spot is on the key again....'\n",
      "  Ref:  'the blue spot is on the key again....'\n",
      "\n",
      "Metrics computed (using proper Whisper tokens):\n",
      "  WER: 0.0133, CER: 0.0098\n",
      "  Disease Acc: 1.0000\n",
      "  Precision: 1.0000, Recall: 1.0000, F1: 1.0000\n",
      "==================================================\n",
      "\n",
      "=== METRICS DEBUG (Using EOT: 50256) ===\n",
      "Processing 8 samples...\n",
      "Sample 0:\n",
      "  Pred: 'it also provides for funds to clear slums and help...'\n",
      "  Ref:  'it also provides for funds to clear slums and help...'\n",
      "Sample 1:\n",
      "  Pred: 'there is definitely some ligament damage in his kn...'\n",
      "  Ref:  'there is definitely some ligament damage in his kn...'\n",
      "Sample 2:\n",
      "  Pred: 'un unoccupied roadway the bottle shattered into a ...'\n",
      "  Ref:  'on unoccupied roadway the bottle shattered into a ...'\n",
      "\n",
      "Metrics computed (using proper Whisper tokens):\n",
      "  WER: 0.0267, CER: 0.0048\n",
      "  Disease Acc: 1.0000\n",
      "  Precision: 1.0000, Recall: 1.0000, F1: 1.0000\n",
      "==================================================\n"
     ]
    },
    {
     "name": "stderr",
     "output_type": "stream",
     "text": [
      "Evaluating: 100%|██████████| 27/27 [00:11<00:00,  2.44it/s]\n"
     ]
    },
    {
     "name": "stdout",
     "output_type": "stream",
     "text": [
      "\n",
      "======================================================================\n",
      "📝 VALIDATION - TEXT EXAMPLES:\n",
      "======================================================================\n",
      "\n",
      "Example 1:\n",
      "  Reference: 'he slowly takes a short walk in the open air each day.'\n",
      "  Predicted: 'he slowly takes a short walk in the open air each day.'\n",
      "  Disease: Normal → Normal ✓\n",
      "\n",
      "Example 2:\n",
      "  Reference: 'this is not a program of socialized medicine'\n",
      "  Predicted: 'this is not a program of socialized medicine'\n",
      "  Disease: Normal → Normal ✓\n",
      "\n",
      "Example 3:\n",
      "  Reference: 'the blue spot is on the key again.'\n",
      "  Predicted: 'the view spot is on the key again.'\n",
      "  Disease: Normal → Normal ✓\n",
      "\n",
      "Example 4:\n",
      "  Reference: 'they used an aggressive policeman to flag thoughtless motorists'\n",
      "  Predicted: 'they used an aggressive policeman to flag thoughtless motorists'\n",
      "  Disease: Normal → Normal ✓\n",
      "\n",
      "Example 5:\n",
      "  Reference: 'when you are through write a clean report.'\n",
      "  Predicted: 'when you are through write a clean report.'\n",
      "  Disease: Normal → Normal ✓\n",
      "======================================================================\n",
      "\n",
      "📊 VALIDATION METRICS:\n",
      "   Loss: 0.0569\n",
      "   Disease - Acc: 1.0000, F1: 1.0000\n",
      "   Disease - Prec: 1.0000, Rec: 1.0000\n",
      "   Speech  - WER: 0.0775, CER: 0.0544\n",
      "⏳ No improvement. Patience: 1/7\n",
      "\n",
      "==================================================\n",
      "EPOCH 45/50\n",
      "==================================================\n"
     ]
    },
    {
     "name": "stderr",
     "output_type": "stream",
     "text": [
      "Training Epoch 45:   0%|          | 0/109 [00:00<?, ?it/s]"
     ]
    },
    {
     "name": "stdout",
     "output_type": "stream",
     "text": [
      "\n",
      "=== METRICS DEBUG (Using EOT: 50256) ===\n",
      "Processing 16 samples...\n"
     ]
    },
    {
     "name": "stderr",
     "output_type": "stream",
     "text": [
      "Training Epoch 45:   1%|          | 1/109 [00:01<03:06,  1.72s/it]"
     ]
    },
    {
     "name": "stdout",
     "output_type": "stream",
     "text": [
      "Sample 0:\n",
      "  Pred: 'displayed as lamps the puppets delight the childre...'\n",
      "  Ref:  'displayed as lamps the puppets delight the childre...'\n",
      "Sample 1:\n",
      "  Pred: 'we did not accept the diagnosis at once but gradua...'\n",
      "  Ref:  'we did not accept the diagnosis at once but gradua...'\n",
      "Sample 2:\n",
      "  Pred: 'beer generally fermented from barley is an old alc...'\n",
      "  Ref:  'beer generally fermented from barley is an old alc...'\n",
      "\n",
      "Metrics computed (using proper Whisper tokens):\n",
      "  WER: 0.0000, CER: 0.0000\n",
      "  Disease Acc: 1.0000\n",
      "  Precision: 1.0000, Recall: 1.0000, F1: 1.0000\n",
      "==================================================\n",
      "\n",
      "=== METRICS DEBUG (Using EOT: 50256) ===\n",
      "Processing 16 samples...\n"
     ]
    },
    {
     "name": "stderr",
     "output_type": "stream",
     "text": [
      "Training Epoch 45:   2%|▏         | 2/109 [00:02<01:39,  1.08it/s]"
     ]
    },
    {
     "name": "stdout",
     "output_type": "stream",
     "text": [
      "Sample 0:\n",
      "  Pred: 'the blue spot is on the key again....'\n",
      "  Ref:  'the blue spot is on the key again....'\n",
      "Sample 1:\n",
      "  Pred: 'on unoccupied roadway the bottle shattered into a ...'\n",
      "  Ref:  'on unoccupied roadway the bottle shattered into a ...'\n",
      "Sample 2:\n",
      "  Pred: 'that stinging vapor was caused by chloride vaporiz...'\n",
      "  Ref:  'that stinging vapor was caused by chloride vaporiz...'\n",
      "\n",
      "Metrics computed (using proper Whisper tokens):\n",
      "  WER: 0.0000, CER: 0.0000\n",
      "  Disease Acc: 1.0000\n",
      "  Precision: 1.0000, Recall: 1.0000, F1: 1.0000\n",
      "==================================================\n"
     ]
    },
    {
     "name": "stderr",
     "output_type": "stream",
     "text": [
      "Training Epoch 45: 100%|██████████| 109/109 [01:24<00:00,  1.29it/s]\n"
     ]
    },
    {
     "name": "stdout",
     "output_type": "stream",
     "text": [
      "\n",
      "======================================================================\n",
      "📝 TRAINING EPOCH 45 - TEXT EXAMPLES:\n",
      "======================================================================\n",
      "\n",
      "Example 1:\n",
      "  Reference: 'displayed as lamps the puppets delight the children and are decorative accent.'\n",
      "  Predicted: 'displayed as lamps the puppets delight the children and are decorative accent.'\n",
      "  Disease: Normal → Normal ✓\n",
      "\n",
      "Example 2:\n",
      "  Reference: 'we did not accept the diagnosis at once but gradually we are coming to'\n",
      "  Predicted: 'we did not accept the diagnosis at once but gradually we are coming to'\n",
      "  Disease: Dysarthria → Dysarthria ✓\n",
      "\n",
      "Example 3:\n",
      "  Reference: 'beer generally fermented from barley is an old alcoholic beverage'\n",
      "  Predicted: 'beer generally fermented from barley is an old alcoholic beverage'\n",
      "  Disease: Normal → Normal ✓\n",
      "\n",
      "Example 4:\n",
      "  Reference: 'don't ask me to carry an oily rag like that.'\n",
      "  Predicted: 'don't ask me to carry an oily rag like that.'\n",
      "  Disease: Normal → Normal ✓\n",
      "\n",
      "Example 5:\n",
      "  Reference: 'on unoccupied roadway the bottle shattered into a small amber flash'\n",
      "  Predicted: 'on unoccupied roadway the bottle shattered into a small amber flash'\n",
      "  Disease: Dysarthria → Dysarthria ✓\n",
      "======================================================================\n",
      "\n",
      "📈 TRAINING METRICS:\n",
      "   Loss: 0.0002 (Cls: 0.0000, Trans: 0.0009)\n",
      "   Disease - Acc: 1.0000, F1: 1.0000\n",
      "   Disease - Prec: 1.0000, Rec: 1.0000\n",
      "   Speech  - WER: 0.0004, CER: 0.0004\n",
      "   Weights - α: 0.1957, β: 0.8043\n"
     ]
    },
    {
     "name": "stderr",
     "output_type": "stream",
     "text": [
      "Evaluating:   4%|▎         | 1/27 [00:00<00:25,  1.01it/s]"
     ]
    },
    {
     "name": "stdout",
     "output_type": "stream",
     "text": [
      "\n",
      "=== METRICS DEBUG (Using EOT: 50256) ===\n",
      "Processing 8 samples...\n",
      "Sample 0:\n",
      "  Pred: 'he slowly takes a short walk in the open air each ...'\n",
      "  Ref:  'he slowly takes a short walk in the open air each ...'\n",
      "Sample 1:\n",
      "  Pred: 'this is not a program of socialized medicine...'\n",
      "  Ref:  'this is not a program of socialized medicine...'\n",
      "Sample 2:\n",
      "  Pred: 'the view spot is on the key again....'\n",
      "  Ref:  'the blue spot is on the key again....'\n",
      "\n",
      "Metrics computed (using proper Whisper tokens):\n",
      "  WER: 0.0133, CER: 0.0098\n",
      "  Disease Acc: 1.0000\n",
      "  Precision: 1.0000, Recall: 1.0000, F1: 1.0000\n",
      "==================================================\n",
      "\n",
      "=== METRICS DEBUG (Using EOT: 50256) ===\n",
      "Processing 8 samples...\n",
      "Sample 0:\n",
      "  Pred: 'it also provides for funds to clear slums and help...'\n",
      "  Ref:  'it also provides for funds to clear slums and help...'\n",
      "Sample 1:\n",
      "  Pred: 'there is definitely some ligament damage in his kn...'\n",
      "  Ref:  'there is definitely some ligament damage in his kn...'\n",
      "Sample 2:\n",
      "  Pred: 'un unoccupied roadway the bottle shattered into a ...'\n",
      "  Ref:  'on unoccupied roadway the bottle shattered into a ...'\n",
      "\n",
      "Metrics computed (using proper Whisper tokens):\n",
      "  WER: 0.0267, CER: 0.0048\n",
      "  Disease Acc: 1.0000\n",
      "  Precision: 1.0000, Recall: 1.0000, F1: 1.0000\n",
      "==================================================\n"
     ]
    },
    {
     "name": "stderr",
     "output_type": "stream",
     "text": [
      "Evaluating: 100%|██████████| 27/27 [00:10<00:00,  2.48it/s]\n"
     ]
    },
    {
     "name": "stdout",
     "output_type": "stream",
     "text": [
      "\n",
      "======================================================================\n",
      "📝 VALIDATION - TEXT EXAMPLES:\n",
      "======================================================================\n",
      "\n",
      "Example 1:\n",
      "  Reference: 'he slowly takes a short walk in the open air each day.'\n",
      "  Predicted: 'he slowly takes a short walk in the open air each day.'\n",
      "  Disease: Normal → Normal ✓\n",
      "\n",
      "Example 2:\n",
      "  Reference: 'this is not a program of socialized medicine'\n",
      "  Predicted: 'this is not a program of socialized medicine'\n",
      "  Disease: Normal → Normal ✓\n",
      "\n",
      "Example 3:\n",
      "  Reference: 'the blue spot is on the key again.'\n",
      "  Predicted: 'the view spot is on the key again.'\n",
      "  Disease: Normal → Normal ✓\n",
      "\n",
      "Example 4:\n",
      "  Reference: 'they used an aggressive policeman to flag thoughtless motorists'\n",
      "  Predicted: 'they used an aggressive policeman to flag thoughtless motorists'\n",
      "  Disease: Normal → Normal ✓\n",
      "\n",
      "Example 5:\n",
      "  Reference: 'when you are through write a clean report.'\n",
      "  Predicted: 'when you are through write a clean report.'\n",
      "  Disease: Normal → Normal ✓\n",
      "======================================================================\n",
      "\n",
      "📊 VALIDATION METRICS:\n",
      "   Loss: 0.0567\n",
      "   Disease - Acc: 1.0000, F1: 1.0000\n",
      "   Disease - Prec: 1.0000, Rec: 1.0000\n",
      "   Speech  - WER: 0.0765, CER: 0.0533\n",
      "✅ Best model saved: ../checkpoints_exp/checkpoints_base.en_encoder_learning/best_multitask_model_base.en.pt\n",
      "\n",
      "==================================================\n",
      "EPOCH 46/50\n",
      "==================================================\n"
     ]
    },
    {
     "name": "stderr",
     "output_type": "stream",
     "text": [
      "Training Epoch 46:   0%|          | 0/109 [00:00<?, ?it/s]"
     ]
    },
    {
     "name": "stdout",
     "output_type": "stream",
     "text": [
      "\n",
      "=== METRICS DEBUG (Using EOT: 50256) ===\n",
      "Processing 16 samples...\n"
     ]
    },
    {
     "name": "stderr",
     "output_type": "stream",
     "text": [
      "Training Epoch 46:   1%|          | 1/109 [00:01<03:34,  1.98s/it]"
     ]
    },
    {
     "name": "stdout",
     "output_type": "stream",
     "text": [
      "Sample 0:\n",
      "  Pred: 'we have often urged him to walk more and smoke les...'\n",
      "  Ref:  'we have often urged him to walk more and smoke les...'\n",
      "Sample 1:\n",
      "  Pred: 'he took his mask from his forehead and threw it un...'\n",
      "  Ref:  'he took his mask from his forehead and threw it un...'\n",
      "Sample 2:\n",
      "  Pred: 'before thursday's exam review every formula....'\n",
      "  Ref:  'before thursday's exam review every formula....'\n",
      "\n",
      "Metrics computed (using proper Whisper tokens):\n",
      "  WER: 0.0000, CER: 0.0000\n",
      "  Disease Acc: 1.0000\n",
      "  Precision: 1.0000, Recall: 1.0000, F1: 1.0000\n",
      "==================================================\n",
      "\n",
      "=== METRICS DEBUG (Using EOT: 50256) ===\n",
      "Processing 16 samples...\n"
     ]
    },
    {
     "name": "stderr",
     "output_type": "stream",
     "text": [
      "Training Epoch 46:   2%|▏         | 2/109 [00:02<01:48,  1.01s/it]"
     ]
    },
    {
     "name": "stdout",
     "output_type": "stream",
     "text": [
      "Sample 0:\n",
      "  Pred: 'to keep 'em scattered somewhat and yet herd 'em wa...'\n",
      "  Ref:  'to keep 'em scattered somewhat and yet herd 'em wa...'\n",
      "Sample 1:\n",
      "  Pred: 'nothing has been done yet to take advantage of the...'\n",
      "  Ref:  'nothing has been done yet to take advantage of the...'\n",
      "Sample 2:\n",
      "  Pred: 'he has never himself done anything for which to be...'\n",
      "  Ref:  'he has never himself done anything for which to be...'\n",
      "\n",
      "Metrics computed (using proper Whisper tokens):\n",
      "  WER: 0.0000, CER: 0.0000\n",
      "  Disease Acc: 1.0000\n",
      "  Precision: 1.0000, Recall: 1.0000, F1: 1.0000\n",
      "==================================================\n"
     ]
    },
    {
     "name": "stderr",
     "output_type": "stream",
     "text": [
      "Training Epoch 46: 100%|██████████| 109/109 [01:23<00:00,  1.30it/s]\n"
     ]
    },
    {
     "name": "stdout",
     "output_type": "stream",
     "text": [
      "\n",
      "======================================================================\n",
      "📝 TRAINING EPOCH 46 - TEXT EXAMPLES:\n",
      "======================================================================\n",
      "\n",
      "Example 1:\n",
      "  Reference: 'we have often urged him to walk more and smoke less'\n",
      "  Predicted: 'we have often urged him to walk more and smoke less'\n",
      "  Disease: Dysphonia → Dysphonia ✓\n",
      "\n",
      "Example 2:\n",
      "  Reference: 'he took his mask from his forehead and threw it unexpectedly across the deck'\n",
      "  Predicted: 'he took his mask from his forehead and threw it unexpectedly across the deck'\n",
      "  Disease: Dysarthria → Dysarthria ✓\n",
      "\n",
      "Example 3:\n",
      "  Reference: 'before thursday's exam review every formula.'\n",
      "  Predicted: 'before thursday's exam review every formula.'\n",
      "  Disease: Dysphonia → Dysphonia ✓\n",
      "\n",
      "Example 4:\n",
      "  Reference: 'giving those who observe him a pronounced feeling of the utmost respect.'\n",
      "  Predicted: 'giving those who observe him a pronounced feeling of the utmost respect.'\n",
      "  Disease: Normal → Normal ✓\n",
      "\n",
      "Example 5:\n",
      "  Reference: 'like enough we'll all be up on top by sundown'\n",
      "  Predicted: 'like enough we'll all be up on top by sundown'\n",
      "  Disease: Dysarthria → Dysarthria ✓\n",
      "======================================================================\n",
      "\n",
      "📈 TRAINING METRICS:\n",
      "   Loss: 0.0002 (Cls: 0.0000, Trans: 0.0009)\n",
      "   Disease - Acc: 1.0000, F1: 1.0000\n",
      "   Disease - Prec: 1.0000, Rec: 1.0000\n",
      "   Speech  - WER: 0.0004, CER: 0.0004\n",
      "   Weights - α: 0.1957, β: 0.8043\n"
     ]
    },
    {
     "name": "stderr",
     "output_type": "stream",
     "text": [
      "Evaluating:   4%|▎         | 1/27 [00:01<00:31,  1.21s/it]"
     ]
    },
    {
     "name": "stdout",
     "output_type": "stream",
     "text": [
      "\n",
      "=== METRICS DEBUG (Using EOT: 50256) ===\n",
      "Processing 8 samples...\n",
      "Sample 0:\n",
      "  Pred: 'he slowly takes a short walk in the open air each ...'\n",
      "  Ref:  'he slowly takes a short walk in the open air each ...'\n",
      "Sample 1:\n",
      "  Pred: 'this is not a program of socialized medicine...'\n",
      "  Ref:  'this is not a program of socialized medicine...'\n",
      "Sample 2:\n",
      "  Pred: 'the view spot is on the key again....'\n",
      "  Ref:  'the blue spot is on the key again....'\n",
      "\n",
      "Metrics computed (using proper Whisper tokens):\n",
      "  WER: 0.0133, CER: 0.0098\n",
      "  Disease Acc: 1.0000\n",
      "  Precision: 1.0000, Recall: 1.0000, F1: 1.0000\n",
      "==================================================\n",
      "\n",
      "=== METRICS DEBUG (Using EOT: 50256) ===\n",
      "Processing 8 samples...\n",
      "Sample 0:\n",
      "  Pred: 'it also provides for funds to clear slums and help...'\n",
      "  Ref:  'it also provides for funds to clear slums and help...'\n",
      "Sample 1:\n",
      "  Pred: 'there is definitely some ligament damage in his kn...'\n",
      "  Ref:  'there is definitely some ligament damage in his kn...'\n",
      "Sample 2:\n",
      "  Pred: 'un unoccupied roadway the bottle shattered into a ...'\n",
      "  Ref:  'on unoccupied roadway the bottle shattered into a ...'\n",
      "\n",
      "Metrics computed (using proper Whisper tokens):\n",
      "  WER: 0.0267, CER: 0.0048\n",
      "  Disease Acc: 1.0000\n",
      "  Precision: 1.0000, Recall: 1.0000, F1: 1.0000\n",
      "==================================================\n"
     ]
    },
    {
     "name": "stderr",
     "output_type": "stream",
     "text": [
      "Evaluating: 100%|██████████| 27/27 [00:11<00:00,  2.43it/s]\n"
     ]
    },
    {
     "name": "stdout",
     "output_type": "stream",
     "text": [
      "\n",
      "======================================================================\n",
      "📝 VALIDATION - TEXT EXAMPLES:\n",
      "======================================================================\n",
      "\n",
      "Example 1:\n",
      "  Reference: 'he slowly takes a short walk in the open air each day.'\n",
      "  Predicted: 'he slowly takes a short walk in the open air each day.'\n",
      "  Disease: Normal → Normal ✓\n",
      "\n",
      "Example 2:\n",
      "  Reference: 'this is not a program of socialized medicine'\n",
      "  Predicted: 'this is not a program of socialized medicine'\n",
      "  Disease: Normal → Normal ✓\n",
      "\n",
      "Example 3:\n",
      "  Reference: 'the blue spot is on the key again.'\n",
      "  Predicted: 'the view spot is on the key again.'\n",
      "  Disease: Normal → Normal ✓\n",
      "\n",
      "Example 4:\n",
      "  Reference: 'they used an aggressive policeman to flag thoughtless motorists'\n",
      "  Predicted: 'they used an aggressive policeman to flag thoughtless motorists'\n",
      "  Disease: Normal → Normal ✓\n",
      "\n",
      "Example 5:\n",
      "  Reference: 'when you are through write a clean report.'\n",
      "  Predicted: 'when you are through write a clean report.'\n",
      "  Disease: Normal → Normal ✓\n",
      "======================================================================\n",
      "\n",
      "📊 VALIDATION METRICS:\n",
      "   Loss: 0.0567\n",
      "   Disease - Acc: 1.0000, F1: 1.0000\n",
      "   Disease - Prec: 1.0000, Rec: 1.0000\n",
      "   Speech  - WER: 0.0768, CER: 0.0542\n",
      "✅ Best model saved: ../checkpoints_exp/checkpoints_base.en_encoder_learning/best_multitask_model_base.en.pt\n",
      "\n",
      "==================================================\n",
      "EPOCH 47/50\n",
      "==================================================\n"
     ]
    },
    {
     "name": "stderr",
     "output_type": "stream",
     "text": [
      "Training Epoch 47:   0%|          | 0/109 [00:00<?, ?it/s]"
     ]
    },
    {
     "name": "stdout",
     "output_type": "stream",
     "text": [
      "\n",
      "=== METRICS DEBUG (Using EOT: 50256) ===\n",
      "Processing 16 samples...\n"
     ]
    },
    {
     "name": "stderr",
     "output_type": "stream",
     "text": [
      "Training Epoch 47:   1%|          | 1/109 [00:02<03:59,  2.22s/it]"
     ]
    },
    {
     "name": "stdout",
     "output_type": "stream",
     "text": [
      "Sample 0:\n",
      "  Pred: 'maybe it's taking longer to get things squared awa...'\n",
      "  Ref:  'maybe it's taking longer to get things squared awa...'\n",
      "Sample 1:\n",
      "  Pred: 'clapping spurs to the bronc he set off at a sharp ...'\n",
      "  Ref:  'clapping spurs to the bronc he set off at a sharp ...'\n",
      "Sample 2:\n",
      "  Pred: 'the books are very expensive....'\n",
      "  Ref:  'the books are very expensive....'\n",
      "\n",
      "Metrics computed (using proper Whisper tokens):\n",
      "  WER: 0.0000, CER: 0.0000\n",
      "  Disease Acc: 1.0000\n",
      "  Precision: 1.0000, Recall: 1.0000, F1: 1.0000\n",
      "==================================================\n",
      "\n",
      "=== METRICS DEBUG (Using EOT: 50256) ===\n",
      "Processing 16 samples...\n"
     ]
    },
    {
     "name": "stderr",
     "output_type": "stream",
     "text": [
      "Training Epoch 47:   2%|▏         | 2/109 [00:02<02:02,  1.14s/it]"
     ]
    },
    {
     "name": "stdout",
     "output_type": "stream",
     "text": [
      "Sample 0:\n",
      "  Pred: 'high so it only bounce harmlessly but loudly off a...'\n",
      "  Ref:  'high so it only bounce harmlessly but loudly off a...'\n",
      "Sample 1:\n",
      "  Pred: 'well he is nearly ninety-three years old0...'\n",
      "  Ref:  'well he is nearly ninety-three years old0...'\n",
      "Sample 2:\n",
      "  Pred: 'his election on the other hand would unquestionabl...'\n",
      "  Ref:  'his election on the other hand would unquestionabl...'\n",
      "\n",
      "Metrics computed (using proper Whisper tokens):\n",
      "  WER: 0.0000, CER: 0.0000\n",
      "  Disease Acc: 1.0000\n",
      "  Precision: 1.0000, Recall: 1.0000, F1: 1.0000\n",
      "==================================================\n"
     ]
    },
    {
     "name": "stderr",
     "output_type": "stream",
     "text": [
      "Training Epoch 47: 100%|██████████| 109/109 [01:23<00:00,  1.31it/s]\n"
     ]
    },
    {
     "name": "stdout",
     "output_type": "stream",
     "text": [
      "\n",
      "======================================================================\n",
      "📝 TRAINING EPOCH 47 - TEXT EXAMPLES:\n",
      "======================================================================\n",
      "\n",
      "Example 1:\n",
      "  Reference: 'maybe it's taking longer to get things squared away than the bankers expected.'\n",
      "  Predicted: 'maybe it's taking longer to get things squared away than the bankers expected.'\n",
      "  Disease: Normal → Normal ✓\n",
      "\n",
      "Example 2:\n",
      "  Reference: 'clapping spurs to the bronc he set off at a sharp canter with growing alarm'\n",
      "  Predicted: 'clapping spurs to the bronc he set off at a sharp canter with growing alarm'\n",
      "  Disease: Dysarthria → Dysarthria ✓\n",
      "\n",
      "Example 3:\n",
      "  Reference: 'the books are very expensive.'\n",
      "  Predicted: 'the books are very expensive.'\n",
      "  Disease: Dysphonia → Dysphonia ✓\n",
      "\n",
      "Example 4:\n",
      "  Reference: 'this he added brought about petty jealousies and petty personal grievances'\n",
      "  Predicted: 'this he added brought about petty jealousies and petty personal grievances'\n",
      "  Disease: Dysarthria → Dysarthria ✓\n",
      "\n",
      "Example 5:\n",
      "  Reference: 'like enough we'll all be up on top by sundown'\n",
      "  Predicted: 'like enough we'll all be up on top by sundown'\n",
      "  Disease: Dysarthria → Dysarthria ✓\n",
      "======================================================================\n",
      "\n",
      "📈 TRAINING METRICS:\n",
      "   Loss: 0.0002 (Cls: 0.0000, Trans: 0.0008)\n",
      "   Disease - Acc: 1.0000, F1: 1.0000\n",
      "   Disease - Prec: 1.0000, Rec: 1.0000\n",
      "   Speech  - WER: 0.0003, CER: 0.0003\n",
      "   Weights - α: 0.1957, β: 0.8043\n"
     ]
    },
    {
     "name": "stderr",
     "output_type": "stream",
     "text": [
      "Evaluating:   4%|▎         | 1/27 [00:01<00:29,  1.13s/it]"
     ]
    },
    {
     "name": "stdout",
     "output_type": "stream",
     "text": [
      "\n",
      "=== METRICS DEBUG (Using EOT: 50256) ===\n",
      "Processing 8 samples...\n",
      "Sample 0:\n",
      "  Pred: 'he slowly takes a short walk in the open air each ...'\n",
      "  Ref:  'he slowly takes a short walk in the open air each ...'\n",
      "Sample 1:\n",
      "  Pred: 'this is not a program of socialized medicine...'\n",
      "  Ref:  'this is not a program of socialized medicine...'\n",
      "Sample 2:\n",
      "  Pred: 'the view spot is on the key again....'\n",
      "  Ref:  'the blue spot is on the key again....'\n",
      "\n",
      "Metrics computed (using proper Whisper tokens):\n",
      "  WER: 0.0133, CER: 0.0098\n",
      "  Disease Acc: 1.0000\n",
      "  Precision: 1.0000, Recall: 1.0000, F1: 1.0000\n",
      "==================================================\n",
      "\n",
      "=== METRICS DEBUG (Using EOT: 50256) ===\n",
      "Processing 8 samples...\n",
      "Sample 0:\n",
      "  Pred: 'it also provides for funds to clear slums and help...'\n",
      "  Ref:  'it also provides for funds to clear slums and help...'\n",
      "Sample 1:\n",
      "  Pred: 'there is definitely some ligament damage in his kn...'\n",
      "  Ref:  'there is definitely some ligament damage in his kn...'\n",
      "Sample 2:\n",
      "  Pred: 'un unoccupied roadway the bottle shattered into a ...'\n",
      "  Ref:  'on unoccupied roadway the bottle shattered into a ...'\n",
      "\n",
      "Metrics computed (using proper Whisper tokens):\n",
      "  WER: 0.0267, CER: 0.0048\n",
      "  Disease Acc: 1.0000\n",
      "  Precision: 1.0000, Recall: 1.0000, F1: 1.0000\n",
      "==================================================\n"
     ]
    },
    {
     "name": "stderr",
     "output_type": "stream",
     "text": [
      "Evaluating: 100%|██████████| 27/27 [00:11<00:00,  2.36it/s]\n"
     ]
    },
    {
     "name": "stdout",
     "output_type": "stream",
     "text": [
      "\n",
      "======================================================================\n",
      "📝 VALIDATION - TEXT EXAMPLES:\n",
      "======================================================================\n",
      "\n",
      "Example 1:\n",
      "  Reference: 'he slowly takes a short walk in the open air each day.'\n",
      "  Predicted: 'he slowly takes a short walk in the open air each day.'\n",
      "  Disease: Normal → Normal ✓\n",
      "\n",
      "Example 2:\n",
      "  Reference: 'this is not a program of socialized medicine'\n",
      "  Predicted: 'this is not a program of socialized medicine'\n",
      "  Disease: Normal → Normal ✓\n",
      "\n",
      "Example 3:\n",
      "  Reference: 'the blue spot is on the key again.'\n",
      "  Predicted: 'the view spot is on the key again.'\n",
      "  Disease: Normal → Normal ✓\n",
      "\n",
      "Example 4:\n",
      "  Reference: 'they used an aggressive policeman to flag thoughtless motorists'\n",
      "  Predicted: 'they used an aggressive policeman to flag thoughtless motorists'\n",
      "  Disease: Normal → Normal ✓\n",
      "\n",
      "Example 5:\n",
      "  Reference: 'when you are through write a clean report.'\n",
      "  Predicted: 'when you are through write a clean report.'\n",
      "  Disease: Normal → Normal ✓\n",
      "======================================================================\n",
      "\n",
      "📊 VALIDATION METRICS:\n",
      "   Loss: 0.0565\n",
      "   Disease - Acc: 1.0000, F1: 1.0000\n",
      "   Disease - Prec: 1.0000, Rec: 1.0000\n",
      "   Speech  - WER: 0.0755, CER: 0.0526\n",
      "✅ Best model saved: ../checkpoints_exp/checkpoints_base.en_encoder_learning/best_multitask_model_base.en.pt\n",
      "\n",
      "==================================================\n",
      "EPOCH 48/50\n",
      "==================================================\n"
     ]
    },
    {
     "name": "stderr",
     "output_type": "stream",
     "text": [
      "Training Epoch 48:   0%|          | 0/109 [00:00<?, ?it/s]"
     ]
    },
    {
     "name": "stdout",
     "output_type": "stream",
     "text": [
      "\n",
      "=== METRICS DEBUG (Using EOT: 50256) ===\n",
      "Processing 16 samples...\n"
     ]
    },
    {
     "name": "stderr",
     "output_type": "stream",
     "text": [
      "Training Epoch 48:   1%|          | 1/109 [00:02<03:40,  2.04s/it]"
     ]
    },
    {
     "name": "stdout",
     "output_type": "stream",
     "text": [
      "Sample 0:\n",
      "  Pred: 'although always again again...'\n",
      "  Ref:  'although always again again...'\n",
      "Sample 1:\n",
      "  Pred: 'you'd be better off taking a cold shower....'\n",
      "  Ref:  'you'd be better off taking a cold shower....'\n",
      "Sample 2:\n",
      "  Pred: 'yet he still thinks as swiftly as ever....'\n",
      "  Ref:  'yet he still thinks as swiftly as ever....'\n",
      "\n",
      "Metrics computed (using proper Whisper tokens):\n",
      "  WER: 0.0000, CER: 0.0000\n",
      "  Disease Acc: 1.0000\n",
      "  Precision: 1.0000, Recall: 1.0000, F1: 1.0000\n",
      "==================================================\n",
      "\n",
      "=== METRICS DEBUG (Using EOT: 50256) ===\n",
      "Processing 16 samples...\n"
     ]
    },
    {
     "name": "stderr",
     "output_type": "stream",
     "text": [
      "Training Epoch 48:   2%|▏         | 2/109 [00:02<01:48,  1.01s/it]"
     ]
    },
    {
     "name": "stdout",
     "output_type": "stream",
     "text": [
      "Sample 0:\n",
      "  Pred: 'the job provides many benefits....'\n",
      "  Ref:  'the job provides many benefits....'\n",
      "Sample 1:\n",
      "  Pred: 'some hotels are available nearby....'\n",
      "  Ref:  'some hotels are available nearby....'\n",
      "Sample 2:\n",
      "  Pred: 'she wore warm fleecy woolen overalls....'\n",
      "  Ref:  'she wore warm fleecy woolen overalls....'\n",
      "\n",
      "Metrics computed (using proper Whisper tokens):\n",
      "  WER: 0.0000, CER: 0.0000\n",
      "  Disease Acc: 1.0000\n",
      "  Precision: 1.0000, Recall: 1.0000, F1: 1.0000\n",
      "==================================================\n"
     ]
    },
    {
     "name": "stderr",
     "output_type": "stream",
     "text": [
      "Training Epoch 48: 100%|██████████| 109/109 [01:24<00:00,  1.29it/s]\n"
     ]
    },
    {
     "name": "stdout",
     "output_type": "stream",
     "text": [
      "\n",
      "======================================================================\n",
      "📝 TRAINING EPOCH 48 - TEXT EXAMPLES:\n",
      "======================================================================\n",
      "\n",
      "Example 1:\n",
      "  Reference: 'although always again again'\n",
      "  Predicted: 'although always again again'\n",
      "  Disease: Dysphonia → Dysphonia ✓\n",
      "\n",
      "Example 2:\n",
      "  Reference: 'you'd be better off taking a cold shower.'\n",
      "  Predicted: 'you'd be better off taking a cold shower.'\n",
      "  Disease: Dysphonia → Dysphonia ✓\n",
      "\n",
      "Example 3:\n",
      "  Reference: 'yet he still thinks as swiftly as ever.'\n",
      "  Predicted: 'yet he still thinks as swiftly as ever.'\n",
      "  Disease: Dysphonia → Dysphonia ✓\n",
      "\n",
      "Example 4:\n",
      "  Reference: 'all the big baseball players get traded.'\n",
      "  Predicted: 'all the big baseball players get traded.'\n",
      "  Disease: Dysphonia → Dysphonia ✓\n",
      "\n",
      "Example 5:\n",
      "  Reference: 'this he added brought about petty jealousies and petty personal grievances'\n",
      "  Predicted: 'this he added brought about petty jealousies and petty personal grievances'\n",
      "  Disease: Dysarthria → Dysarthria ✓\n",
      "======================================================================\n",
      "\n",
      "📈 TRAINING METRICS:\n",
      "   Loss: 0.0002 (Cls: 0.0000, Trans: 0.0008)\n",
      "   Disease - Acc: 1.0000, F1: 1.0000\n",
      "   Disease - Prec: 1.0000, Rec: 1.0000\n",
      "   Speech  - WER: 0.0005, CER: 0.0003\n",
      "   Weights - α: 0.1957, β: 0.8043\n"
     ]
    },
    {
     "name": "stderr",
     "output_type": "stream",
     "text": [
      "Evaluating:   4%|▎         | 1/27 [00:00<00:25,  1.04it/s]"
     ]
    },
    {
     "name": "stdout",
     "output_type": "stream",
     "text": [
      "\n",
      "=== METRICS DEBUG (Using EOT: 50256) ===\n",
      "Processing 8 samples...\n",
      "Sample 0:\n",
      "  Pred: 'he slowly takes a short walk in the open air each ...'\n",
      "  Ref:  'he slowly takes a short walk in the open air each ...'\n",
      "Sample 1:\n",
      "  Pred: 'this is not a program of socialized medicine...'\n",
      "  Ref:  'this is not a program of socialized medicine...'\n",
      "Sample 2:\n",
      "  Pred: 'the view spot is on the key again....'\n",
      "  Ref:  'the blue spot is on the key again....'\n",
      "\n",
      "Metrics computed (using proper Whisper tokens):\n",
      "  WER: 0.0133, CER: 0.0098\n",
      "  Disease Acc: 1.0000\n",
      "  Precision: 1.0000, Recall: 1.0000, F1: 1.0000\n",
      "==================================================\n",
      "\n",
      "=== METRICS DEBUG (Using EOT: 50256) ===\n",
      "Processing 8 samples...\n",
      "Sample 0:\n",
      "  Pred: 'it also provides for funds to clear slums and help...'\n",
      "  Ref:  'it also provides for funds to clear slums and help...'\n",
      "Sample 1:\n",
      "  Pred: 'there is definitely some ligament damage in his kn...'\n",
      "  Ref:  'there is definitely some ligament damage in his kn...'\n",
      "Sample 2:\n",
      "  Pred: 'un unoccupied roadway the bottle shattered into a ...'\n",
      "  Ref:  'on unoccupied roadway the bottle shattered into a ...'\n",
      "\n",
      "Metrics computed (using proper Whisper tokens):\n",
      "  WER: 0.0267, CER: 0.0048\n",
      "  Disease Acc: 1.0000\n",
      "  Precision: 1.0000, Recall: 1.0000, F1: 1.0000\n",
      "==================================================\n"
     ]
    },
    {
     "name": "stderr",
     "output_type": "stream",
     "text": [
      "Evaluating: 100%|██████████| 27/27 [00:10<00:00,  2.49it/s]\n"
     ]
    },
    {
     "name": "stdout",
     "output_type": "stream",
     "text": [
      "\n",
      "======================================================================\n",
      "📝 VALIDATION - TEXT EXAMPLES:\n",
      "======================================================================\n",
      "\n",
      "Example 1:\n",
      "  Reference: 'he slowly takes a short walk in the open air each day.'\n",
      "  Predicted: 'he slowly takes a short walk in the open air each day.'\n",
      "  Disease: Normal → Normal ✓\n",
      "\n",
      "Example 2:\n",
      "  Reference: 'this is not a program of socialized medicine'\n",
      "  Predicted: 'this is not a program of socialized medicine'\n",
      "  Disease: Normal → Normal ✓\n",
      "\n",
      "Example 3:\n",
      "  Reference: 'the blue spot is on the key again.'\n",
      "  Predicted: 'the view spot is on the key again.'\n",
      "  Disease: Normal → Normal ✓\n",
      "\n",
      "Example 4:\n",
      "  Reference: 'they used an aggressive policeman to flag thoughtless motorists'\n",
      "  Predicted: 'they used an aggressive policeman to flag thoughtless motorists'\n",
      "  Disease: Normal → Normal ✓\n",
      "\n",
      "Example 5:\n",
      "  Reference: 'when you are through write a clean report.'\n",
      "  Predicted: 'when you are through write a clean report.'\n",
      "  Disease: Normal → Normal ✓\n",
      "======================================================================\n",
      "\n",
      "📊 VALIDATION METRICS:\n",
      "   Loss: 0.0567\n",
      "   Disease - Acc: 1.0000, F1: 1.0000\n",
      "   Disease - Prec: 1.0000, Rec: 1.0000\n",
      "   Speech  - WER: 0.0759, CER: 0.0530\n",
      "⏳ No improvement. Patience: 1/7\n",
      "\n",
      "==================================================\n",
      "EPOCH 49/50\n",
      "==================================================\n"
     ]
    },
    {
     "name": "stderr",
     "output_type": "stream",
     "text": [
      "Training Epoch 49:   0%|          | 0/109 [00:00<?, ?it/s]"
     ]
    },
    {
     "name": "stdout",
     "output_type": "stream",
     "text": [
      "\n",
      "=== METRICS DEBUG (Using EOT: 50256) ===\n",
      "Processing 16 samples...\n"
     ]
    },
    {
     "name": "stderr",
     "output_type": "stream",
     "text": [
      "Training Epoch 49:   1%|          | 1/109 [00:01<03:24,  1.90s/it]"
     ]
    },
    {
     "name": "stdout",
     "output_type": "stream",
     "text": [
      "Sample 0:\n",
      "  Pred: 'it was a huge part of my life....'\n",
      "  Ref:  'it was a huge part of my life....'\n",
      "Sample 1:\n",
      "  Pred: 'the quick brown fox jumps over the lazy dog....'\n",
      "  Ref:  'the quick brown fox jumps over the lazy dog....'\n",
      "Sample 2:\n",
      "  Pred: 'he dresses himself in an ancient black frock coat...'\n",
      "  Ref:  'he dresses himself in an ancient black frock coat...'\n",
      "\n",
      "Metrics computed (using proper Whisper tokens):\n",
      "  WER: 0.0000, CER: 0.0000\n",
      "  Disease Acc: 1.0000\n",
      "  Precision: 1.0000, Recall: 1.0000, F1: 1.0000\n",
      "==================================================\n",
      "\n",
      "=== METRICS DEBUG (Using EOT: 50256) ===\n",
      "Processing 16 samples...\n"
     ]
    },
    {
     "name": "stderr",
     "output_type": "stream",
     "text": [
      "Training Epoch 49:   2%|▏         | 2/109 [00:02<01:48,  1.02s/it]"
     ]
    },
    {
     "name": "stdout",
     "output_type": "stream",
     "text": [
      "Sample 0:\n",
      "  Pred: 'the structures housing the apartments are of mason...'\n",
      "  Ref:  'the structures housing the apartments are of mason...'\n",
      "Sample 1:\n",
      "  Pred: 'clapping spurs to the bronc he set off at a sharp ...'\n",
      "  Ref:  'clapping spurs to the bronc he set off at a sharp ...'\n",
      "Sample 2:\n",
      "  Pred: 'palm oil protects the surfaces of steel sheets bef...'\n",
      "  Ref:  'palm oil protects the surfaces of steel sheets bef...'\n",
      "\n",
      "Metrics computed (using proper Whisper tokens):\n",
      "  WER: 0.0000, CER: 0.0000\n",
      "  Disease Acc: 1.0000\n",
      "  Precision: 1.0000, Recall: 1.0000, F1: 1.0000\n",
      "==================================================\n"
     ]
    },
    {
     "name": "stderr",
     "output_type": "stream",
     "text": [
      "Training Epoch 49: 100%|██████████| 109/109 [01:23<00:00,  1.30it/s]\n"
     ]
    },
    {
     "name": "stdout",
     "output_type": "stream",
     "text": [
      "\n",
      "======================================================================\n",
      "📝 TRAINING EPOCH 49 - TEXT EXAMPLES:\n",
      "======================================================================\n",
      "\n",
      "Example 1:\n",
      "  Reference: 'it was a huge part of my life.'\n",
      "  Predicted: 'it was a huge part of my life.'\n",
      "  Disease: Normal → Normal ✓\n",
      "\n",
      "Example 2:\n",
      "  Reference: 'the quick brown fox jumps over the lazy dog.'\n",
      "  Predicted: 'the quick brown fox jumps over the lazy dog.'\n",
      "  Disease: Normal → Normal ✓\n",
      "\n",
      "Example 3:\n",
      "  Reference: 'he dresses himself in an ancient black frock coat'\n",
      "  Predicted: 'he dresses himself in an ancient black frock coat'\n",
      "  Disease: Dysphonia → Dysphonia ✓\n",
      "\n",
      "Example 4:\n",
      "  Reference: 'internal national responsibility now a truism need not be documented'\n",
      "  Predicted: 'internal national responsibility now a truism need not be documented'\n",
      "  Disease: Dysarthria → Dysarthria ✓\n",
      "\n",
      "Example 5:\n",
      "  Reference: 'some observers speculated that this might be his revenge on his home town'\n",
      "  Predicted: 'some observers speculated that this might be his revenge on his home town'\n",
      "  Disease: Dysarthria → Dysarthria ✓\n",
      "======================================================================\n",
      "\n",
      "📈 TRAINING METRICS:\n",
      "   Loss: 0.0002 (Cls: 0.0000, Trans: 0.0007)\n",
      "   Disease - Acc: 1.0000, F1: 1.0000\n",
      "   Disease - Prec: 1.0000, Rec: 1.0000\n",
      "   Speech  - WER: 0.0004, CER: 0.0004\n",
      "   Weights - α: 0.1957, β: 0.8043\n"
     ]
    },
    {
     "name": "stderr",
     "output_type": "stream",
     "text": [
      "Evaluating:   4%|▎         | 1/27 [00:00<00:21,  1.22it/s]"
     ]
    },
    {
     "name": "stdout",
     "output_type": "stream",
     "text": [
      "\n",
      "=== METRICS DEBUG (Using EOT: 50256) ===\n",
      "Processing 8 samples...\n",
      "Sample 0:\n",
      "  Pred: 'he slowly takes a short walk in the open air each ...'\n",
      "  Ref:  'he slowly takes a short walk in the open air each ...'\n",
      "Sample 1:\n",
      "  Pred: 'this is not a program of socialized medicine...'\n",
      "  Ref:  'this is not a program of socialized medicine...'\n",
      "Sample 2:\n",
      "  Pred: 'the view spot is on the key again....'\n",
      "  Ref:  'the blue spot is on the key again....'\n",
      "\n",
      "Metrics computed (using proper Whisper tokens):\n",
      "  WER: 0.0133, CER: 0.0098\n",
      "  Disease Acc: 1.0000\n",
      "  Precision: 1.0000, Recall: 1.0000, F1: 1.0000\n",
      "==================================================\n",
      "\n",
      "=== METRICS DEBUG (Using EOT: 50256) ===\n",
      "Processing 8 samples...\n"
     ]
    },
    {
     "name": "stderr",
     "output_type": "stream",
     "text": [
      "Evaluating:   7%|▋         | 2/27 [00:00<00:10,  2.31it/s]"
     ]
    },
    {
     "name": "stdout",
     "output_type": "stream",
     "text": [
      "Sample 0:\n",
      "  Pred: 'it also provides for funds to clear slums and help...'\n",
      "  Ref:  'it also provides for funds to clear slums and help...'\n",
      "Sample 1:\n",
      "  Pred: 'there is definitely some ligament damage in his kn...'\n",
      "  Ref:  'there is definitely some ligament damage in his kn...'\n",
      "Sample 2:\n",
      "  Pred: 'un unoccupied roadway the bottle shattered into a ...'\n",
      "  Ref:  'on unoccupied roadway the bottle shattered into a ...'\n",
      "\n",
      "Metrics computed (using proper Whisper tokens):\n",
      "  WER: 0.0267, CER: 0.0048\n",
      "  Disease Acc: 1.0000\n",
      "  Precision: 1.0000, Recall: 1.0000, F1: 1.0000\n",
      "==================================================\n"
     ]
    },
    {
     "name": "stderr",
     "output_type": "stream",
     "text": [
      "Evaluating: 100%|██████████| 27/27 [00:10<00:00,  2.46it/s]\n"
     ]
    },
    {
     "name": "stdout",
     "output_type": "stream",
     "text": [
      "\n",
      "======================================================================\n",
      "📝 VALIDATION - TEXT EXAMPLES:\n",
      "======================================================================\n",
      "\n",
      "Example 1:\n",
      "  Reference: 'he slowly takes a short walk in the open air each day.'\n",
      "  Predicted: 'he slowly takes a short walk in the open air each day.'\n",
      "  Disease: Normal → Normal ✓\n",
      "\n",
      "Example 2:\n",
      "  Reference: 'this is not a program of socialized medicine'\n",
      "  Predicted: 'this is not a program of socialized medicine'\n",
      "  Disease: Normal → Normal ✓\n",
      "\n",
      "Example 3:\n",
      "  Reference: 'the blue spot is on the key again.'\n",
      "  Predicted: 'the view spot is on the key again.'\n",
      "  Disease: Normal → Normal ✓\n",
      "\n",
      "Example 4:\n",
      "  Reference: 'they used an aggressive policeman to flag thoughtless motorists'\n",
      "  Predicted: 'they used an aggressive policeman to flag thoughtless motorists'\n",
      "  Disease: Normal → Normal ✓\n",
      "\n",
      "Example 5:\n",
      "  Reference: 'when you are through write a clean report.'\n",
      "  Predicted: 'when you are through write a clean report.'\n",
      "  Disease: Normal → Normal ✓\n",
      "======================================================================\n",
      "\n",
      "📊 VALIDATION METRICS:\n",
      "   Loss: 0.0565\n",
      "   Disease - Acc: 1.0000, F1: 1.0000\n",
      "   Disease - Prec: 1.0000, Rec: 1.0000\n",
      "   Speech  - WER: 0.0754, CER: 0.0528\n",
      "✅ Best model saved: ../checkpoints_exp/checkpoints_base.en_encoder_learning/best_multitask_model_base.en.pt\n",
      "\n",
      "==================================================\n",
      "EPOCH 50/50\n",
      "==================================================\n"
     ]
    },
    {
     "name": "stderr",
     "output_type": "stream",
     "text": [
      "Training Epoch 50:   0%|          | 0/109 [00:00<?, ?it/s]"
     ]
    },
    {
     "name": "stdout",
     "output_type": "stream",
     "text": [
      "\n",
      "=== METRICS DEBUG (Using EOT: 50256) ===\n",
      "Processing 16 samples...\n"
     ]
    },
    {
     "name": "stderr",
     "output_type": "stream",
     "text": [
      "Training Epoch 50:   1%|          | 1/109 [00:02<03:50,  2.13s/it]"
     ]
    },
    {
     "name": "stdout",
     "output_type": "stream",
     "text": [
      "Sample 0:\n",
      "  Pred: 'the revised procedure was acclaimed as a long over...'\n",
      "  Ref:  'the revised procedure was acclaimed as a long over...'\n",
      "Sample 1:\n",
      "  Pred: 'clapping spurs to the bronc he set off at a sharp ...'\n",
      "  Ref:  'clapping spurs to the bronc he set off at a sharp ...'\n",
      "Sample 2:\n",
      "  Pred: 'i can read...'\n",
      "  Ref:  'i can read...'\n",
      "\n",
      "Metrics computed (using proper Whisper tokens):\n",
      "  WER: 0.0000, CER: 0.0000\n",
      "  Disease Acc: 1.0000\n",
      "  Precision: 1.0000, Recall: 1.0000, F1: 1.0000\n",
      "==================================================\n",
      "\n",
      "=== METRICS DEBUG (Using EOT: 50256) ===\n",
      "Processing 16 samples...\n"
     ]
    },
    {
     "name": "stderr",
     "output_type": "stream",
     "text": [
      "Training Epoch 50:   2%|▏         | 2/109 [00:02<01:52,  1.05s/it]"
     ]
    },
    {
     "name": "stdout",
     "output_type": "stream",
     "text": [
      "Sample 0:\n",
      "  Pred: 'high so it only bounce harmlessly but loudly off a...'\n",
      "  Ref:  'high so it only bounce harmlessly but loudly off a...'\n",
      "Sample 1:\n",
      "  Pred: 'the haunted house was a hit due to outstanding aud...'\n",
      "  Ref:  'the haunted house was a hit due to outstanding aud...'\n",
      "Sample 2:\n",
      "  Pred: 'no question ruffles him or causes him to hesitate...'\n",
      "  Ref:  'no question ruffles him or causes him to hesitate...'\n",
      "\n",
      "Metrics computed (using proper Whisper tokens):\n",
      "  WER: 0.0000, CER: 0.0000\n",
      "  Disease Acc: 1.0000\n",
      "  Precision: 1.0000, Recall: 1.0000, F1: 1.0000\n",
      "==================================================\n"
     ]
    },
    {
     "name": "stderr",
     "output_type": "stream",
     "text": [
      "Training Epoch 50: 100%|██████████| 109/109 [01:24<00:00,  1.28it/s]\n"
     ]
    },
    {
     "name": "stdout",
     "output_type": "stream",
     "text": [
      "\n",
      "======================================================================\n",
      "📝 TRAINING EPOCH 50 - TEXT EXAMPLES:\n",
      "======================================================================\n",
      "\n",
      "Example 1:\n",
      "  Reference: 'the revised procedure was acclaimed as a long overdue reform'\n",
      "  Predicted: 'the revised procedure was acclaimed as a long overdue reform'\n",
      "  Disease: Normal → Normal ✓\n",
      "\n",
      "Example 2:\n",
      "  Reference: 'clapping spurs to the bronc he set off at a sharp canter with growing alarm'\n",
      "  Predicted: 'clapping spurs to the bronc he set off at a sharp canter with growing alarm'\n",
      "  Disease: Dysarthria → Dysarthria ✓\n",
      "\n",
      "Example 3:\n",
      "  Reference: 'i can read'\n",
      "  Predicted: 'i can read'\n",
      "  Disease: Dysphonia → Dysphonia ✓\n",
      "\n",
      "Example 4:\n",
      "  Reference: 'i was conscious all the time.'\n",
      "  Predicted: 'i was conscious all the time.'\n",
      "  Disease: Dysphonia → Dysphonia ✓\n",
      "\n",
      "Example 5:\n",
      "  Reference: 'it also provides for funds to clear slums and help colleges build dormitories'\n",
      "  Predicted: 'it also provides for funds to clear slums and help colleges build dormitories'\n",
      "  Disease: Dysarthria → Dysarthria ✓\n",
      "======================================================================\n",
      "\n",
      "📈 TRAINING METRICS:\n",
      "   Loss: 0.0002 (Cls: 0.0000, Trans: 0.0007)\n",
      "   Disease - Acc: 1.0000, F1: 1.0000\n",
      "   Disease - Prec: 1.0000, Rec: 1.0000\n",
      "   Speech  - WER: 0.0004, CER: 0.0004\n",
      "   Weights - α: 0.1957, β: 0.8043\n"
     ]
    },
    {
     "name": "stderr",
     "output_type": "stream",
     "text": [
      "Evaluating:   4%|▎         | 1/27 [00:01<00:28,  1.08s/it]"
     ]
    },
    {
     "name": "stdout",
     "output_type": "stream",
     "text": [
      "\n",
      "=== METRICS DEBUG (Using EOT: 50256) ===\n",
      "Processing 8 samples...\n",
      "Sample 0:\n",
      "  Pred: 'he slowly takes a short walk in the open air each ...'\n",
      "  Ref:  'he slowly takes a short walk in the open air each ...'\n",
      "Sample 1:\n",
      "  Pred: 'this is not a program of socialized medicine...'\n",
      "  Ref:  'this is not a program of socialized medicine...'\n",
      "Sample 2:\n",
      "  Pred: 'the view spot is on the key again....'\n",
      "  Ref:  'the blue spot is on the key again....'\n",
      "\n",
      "Metrics computed (using proper Whisper tokens):\n",
      "  WER: 0.0133, CER: 0.0098\n",
      "  Disease Acc: 1.0000\n",
      "  Precision: 1.0000, Recall: 1.0000, F1: 1.0000\n",
      "==================================================\n",
      "\n",
      "=== METRICS DEBUG (Using EOT: 50256) ===\n",
      "Processing 8 samples...\n",
      "Sample 0:\n",
      "  Pred: 'it also provides for funds to clear slums and help...'\n",
      "  Ref:  'it also provides for funds to clear slums and help...'\n",
      "Sample 1:\n",
      "  Pred: 'there is definitely some ligament damage in his kn...'\n",
      "  Ref:  'there is definitely some ligament damage in his kn...'\n",
      "Sample 2:\n",
      "  Pred: 'un unoccupied roadway the bottle shattered into a ...'\n",
      "  Ref:  'on unoccupied roadway the bottle shattered into a ...'\n",
      "\n",
      "Metrics computed (using proper Whisper tokens):\n",
      "  WER: 0.0267, CER: 0.0048\n",
      "  Disease Acc: 1.0000\n",
      "  Precision: 1.0000, Recall: 1.0000, F1: 1.0000\n",
      "==================================================\n"
     ]
    },
    {
     "name": "stderr",
     "output_type": "stream",
     "text": [
      "Evaluating: 100%|██████████| 27/27 [00:10<00:00,  2.54it/s]\n"
     ]
    },
    {
     "name": "stdout",
     "output_type": "stream",
     "text": [
      "\n",
      "======================================================================\n",
      "📝 VALIDATION - TEXT EXAMPLES:\n",
      "======================================================================\n",
      "\n",
      "Example 1:\n",
      "  Reference: 'he slowly takes a short walk in the open air each day.'\n",
      "  Predicted: 'he slowly takes a short walk in the open air each day.'\n",
      "  Disease: Normal → Normal ✓\n",
      "\n",
      "Example 2:\n",
      "  Reference: 'this is not a program of socialized medicine'\n",
      "  Predicted: 'this is not a program of socialized medicine'\n",
      "  Disease: Normal → Normal ✓\n",
      "\n",
      "Example 3:\n",
      "  Reference: 'the blue spot is on the key again.'\n",
      "  Predicted: 'the view spot is on the key again.'\n",
      "  Disease: Normal → Normal ✓\n",
      "\n",
      "Example 4:\n",
      "  Reference: 'they used an aggressive policeman to flag thoughtless motorists'\n",
      "  Predicted: 'they used an aggressive policeman to flag thoughtless motorists'\n",
      "  Disease: Normal → Normal ✓\n",
      "\n",
      "Example 5:\n",
      "  Reference: 'when you are through write a clean report.'\n",
      "  Predicted: 'when you are through write a clean report.'\n",
      "  Disease: Normal → Normal ✓\n",
      "======================================================================\n",
      "\n",
      "📊 VALIDATION METRICS:\n",
      "   Loss: 0.0563\n",
      "   Disease - Acc: 1.0000, F1: 1.0000\n",
      "   Disease - Prec: 1.0000, Rec: 1.0000\n",
      "   Speech  - WER: 0.0752, CER: 0.0525\n",
      "✅ Best model saved: ../checkpoints_exp/checkpoints_base.en_encoder_learning/best_multitask_model_base.en.pt\n",
      "\n",
      "==================================================\n",
      "TRAINING COMPLETE\n",
      "==================================================\n",
      "Best metric: 0.9699\n",
      "Training history saved: ../checkpoints_exp/checkpoints_base.en_encoder_learning/training_history_base.en.json\n",
      "\n",
      "=== Training Results ===\n",
      "Best metric: 0.9699\n"
     ]
    }
   ],
   "source": [
    "%run train_disease.py --model_size base.en --epochs 50 --save_dir ../checkpoints_exp/checkpoints_base.en_encoder_learning/"
   ]
  },
  {
   "cell_type": "code",
   "execution_count": null,
   "id": "cc47f8be-f9ec-48aa-9cf3-a31b6f4f38be",
   "metadata": {},
   "outputs": [
    {
     "name": "stdout",
     "output_type": "stream",
     "text": [
      "=== MULTI-TASK MODEL COMPREHENSIVE INFERENCE ===\n",
      "Model: ../checkpoints_exp/checkpoints_base.en_encoder_learning/best_multitask_model_base.en.pt\n",
      "Test data: /home/is/lathifgalih-k/research_naist/ast-tts/data/custom_test.csv\n",
      "Device: cuda\n",
      "Loading trained model...\n",
      "=== Multi-Task Learning Trainer ===\n",
      "Device: cuda\n",
      "CUDA device: NVIDIA H100 NVL\n",
      "CUDA memory: 100.0 GB\n",
      "✔ Whisper model loaded on cuda\n",
      "✔ Tokenizer loaded with disease support\n",
      "  EOT token: 50256\n",
      "  SOT token: 50257\n",
      "  Transcribe token: 50362\n",
      "  Disease tokens: ['normal', 'dysarthria', 'dysphonia']\n",
      "Vocabulary sizes: Original=51864, New=51868\n",
      "Expanding vocabulary: 51864 -> 51868\n",
      "Resized embedding layer device: cuda:0\n",
      "✔ Vocabulary expanded\n",
      "✔ Disease classifier created on cuda\n",
      "Encoder is trainable\n",
      "✔ New embeddings added to training: 4 tokens\n",
      "Trainable parameters: 52,139,011\n",
      "✔ Encoder parameters added to training: 19,822,592\n",
      "✔ Trainer initialized successfully\n",
      "✔ Best loss weights loaded: α=0.1957, β=0.8043\n",
      "✔ Multi-task model loaded from: ../checkpoints_exp/checkpoints_base.en_encoder_learning/best_multitask_model_base.en.pt\n",
      "✔ Model moved to: cuda\n",
      "✔ Using proper Whisper tokens - EOT: 50256\n",
      "Loading test dataset...\n",
      "Dataset using English-only tokenizer\n",
      "Multi-task Dataset loaded: 207 samples\n",
      "Model type: English-only\n",
      "EOT token: 50256\n",
      "SOT token: 50257\n",
      "Disease tokens available: ['normal', 'dysarthria', 'dysphonia']\n",
      "Class distribution:\n",
      "  normal: 69 samples (33.3%)\n",
      "  dysphonia: 69 samples (33.3%)\n",
      "  dysarthria: 69 samples (33.3%)\n",
      "Test dataset: 207 samples\n",
      "Running comprehensive model inference...\n",
      "\n",
      "=== COMPREHENSIVE INFERENCE (EOT: 50256) ===\n"
     ]
    },
    {
     "name": "stderr",
     "output_type": "stream",
     "text": [
      "Running Inference: 100%|██████████| 26/26 [00:24<00:00,  1.07it/s]"
     ]
    },
    {
     "name": "stdout",
     "output_type": "stream",
     "text": [
      "\n",
      "Comprehensive inference completed: 207 samples\n",
      "Overall WER: 0.2009\n",
      "Overall CER: 0.1577\n",
      "Disease classification accuracy: 0.9903\n",
      "Using EOT token: 50256\n",
      "\n",
      "================================================================================\n",
      "                        COMPREHENSIVE INFERENCE RESULTS                         \n",
      "================================================================================\n",
      "\n",
      "📊 OVERALL PERFORMANCE SUMMARY:\n",
      "   Total Samples: 207\n",
      "   ==================================================\n",
      "   🎯 TRANSCRIPTION METRICS:\n",
      "      Overall WER: 0.2009\n",
      "      Overall CER: 0.1577\n",
      "   ==================================================\n",
      "   🏥 DISEASE CLASSIFICATION METRICS:\n",
      "      Accuracy: 0.9903 (205/207)\n",
      "      Weighted Precision: 0.9906\n",
      "      Weighted Recall: 0.9903\n",
      "      Weighted F1-Score: 0.9903\n",
      "   --------------------------------------------------\n",
      "      Macro Precision: 0.9906\n",
      "      Macro Recall: 0.9903\n",
      "      Macro F1-Score: 0.9903\n",
      "\n",
      "📋 SAMPLE PREDICTIONS (First 10):\n",
      "File            True       Pred       WER    CER    Conf   Text                                    \n",
      "----------------------------------------------------------------------------------------------------\n",
      "0054.wav...     Normal     Normal     0.000 0.000 1.000 You wished to know all about my grand...\n",
      "0055.wav...     Normal     Normal     0.364 0.111 1.000 He really crucified him he nailed a f...\n",
      "FC45_T2_si10... Normal     Normal     0.000 0.000 1.000 beer generally fermented from barley ...\n",
      "0170.wav...     Normal     Normal     0.000 0.000 1.000 We experience distress and frustratio...\n",
      "FC45_T2_si19... Normal     Normal     0.000 0.000 1.000 if any of us miss they can pick up th...\n",
      "FC41_T2_si46... Normal     Normal     0.000 0.000 1.000 the prospect of cutting back spending...\n",
      "0755.wav...     Normal     Normal     0.125 0.023 1.000 When you are through write a clean re...\n",
      "0011.wav...     Normal     Normal     0.000 0.000 1.000 It's fun to roast marshmallows on a g...\n",
      "0028.wav...     Normal     Normal     0.000 0.000 1.000 The wait for work can be very long.     \n",
      "0011.wav...     Normal     Normal     0.000 0.000 1.000 The wait for work can be very long.     \n",
      "\n",
      "📈 PER-CLASS DETAILED METRICS:\n",
      "Class        Samples  Acc    Prec   Rec    F1     WER    CER   \n",
      "----------------------------------------------------------------------\n",
      "Normal       69       1.000 0.972 1.000 0.986 0.028 0.010\n",
      "Dysarthria   69       0.971 1.000 0.971 0.985 0.049 0.036\n",
      "Dysphonia    69       1.000 1.000 1.000 1.000 0.542 0.457\n",
      "\n",
      "📊 CONFUSION MATRIX:\n",
      "Actual // Predicted Normal   Dysarthria   Dysphonia \n",
      "--------------------------------------------------\n",
      "Normal          69       0            0         \n",
      "Dysarthria      2        67           0         \n",
      "Dysphonia       0        0            69        \n",
      "\n",
      "📋 DETAILED CLASSIFICATION REPORT:\n",
      "              precision    recall  f1-score   support\n",
      "\n",
      "      Normal     0.9718    1.0000    0.9857        69\n",
      "  Dysarthria     1.0000    0.9710    0.9853        69\n",
      "   Dysphonia     1.0000    1.0000    1.0000        69\n",
      "\n",
      "    accuracy                         0.9903       207\n",
      "   macro avg     0.9906    0.9903    0.9903       207\n",
      "weighted avg     0.9906    0.9903    0.9903       207\n",
      "\n",
      "\n",
      "📊 TRANSCRIPTION QUALITY DISTRIBUTION:\n",
      "   WER Statistics:\n",
      "      Min: 0.0000, Max: 20.0000\n",
      "      Mean: 0.2064\n",
      "      Median: 0.0000\n",
      "   CER Statistics:\n",
      "      Min: 0.0000, Max: 20.3774\n",
      "      Mean: 0.1677\n",
      "      Median: 0.0000\n",
      "\n",
      "   Transcription Quality Buckets:\n",
      "      Perfect (WER=0.0): 145 (70.0%)\n",
      "      Good (0.0<WER≤0.2): 27 (13.0%)\n",
      "      Fair (0.2<WER≤0.5): 17 (8.2%)\n",
      "      Poor (WER>0.5): 18 (8.7%)\n",
      "\n",
      "❌ ERROR ANALYSIS:\n",
      "   Disease Classification Errors: 2 (1.0%)\n",
      "   Disease Misclassifications:\n",
      "      Dysarthria → Normal: 2 cases (100.0%)\n",
      "\n",
      "🏆 BEST PERFORMING SAMPLES (Lowest WER + Correct Disease):\n",
      "   1. 0054.wav - WER: 0.000, Disease: Normal\n",
      "      Original: You wished to know all about my grandfather....\n",
      "      Predicted: You wished to know all about my grandfather....\n",
      "   2. FC45_T2_si1014_NA.wav - WER: 0.000, Disease: Normal\n",
      "      Original: beer generally fermented from barley is an old alcoholic bev...\n",
      "      Predicted: beer generally fermented from barley is an old alcoholic bev...\n",
      "   3. 0170.wav - WER: 0.000, Disease: Normal\n",
      "      Original: We experience distress and frustration obtaining our degrees...\n",
      "      Predicted: We experience distress and frustration obtaining our degrees...\n",
      "\n",
      "💥 WORST PERFORMING SAMPLES (Highest WER or Wrong Disease):\n",
      "   1. FD046_T2_sa1_NA.wav - WER: 0.000, Disease: ✗\n",
      "      True: Dysarthria | Pred: Normal (conf: 0.708)\n",
      "      Original: she had your dark suit in greasy wash water all year...\n",
      "      Predicted: she had your dark suit in greasy wash water all year...\n",
      "   2. FD025_T2_si2028_NA.wav - WER: 0.000, Disease: ✗\n",
      "      True: Dysarthria | Pred: Normal (conf: 0.632)\n",
      "      Original: he took his mask from his forehead and threw it unexpectedly...\n",
      "      Predicted: he took his mask from his forehead and threw it unexpectedly...\n",
      "   3. 0014.wav - WER: 20.000, Disease: ✓\n",
      "      True: Dysphonia | Pred: Dysphonia (conf: 1.000)\n",
      "      Original: She had your dark suit in greasy wash water all year....\n",
      "      Predicted: She acts near dark dark dark dark dark dark dark dark dark d...\n",
      "✓ Detailed results saved: ../checkpoints_exp/checkpoints_base.en_encoder_learning/inference_results_detailed.json\n",
      "✓ Comprehensive CSV saved: ../checkpoints_exp/checkpoints_base.en_encoder_learning/inference_results.csv\n",
      "✓ Metrics summary saved: ../checkpoints_exp/checkpoints_base.en_encoder_learning/inference_results_metrics_summary.txt\n",
      "\n",
      "================================================================================\n",
      "                       COMPREHENSIVE INFERENCE COMPLETED                        \n",
      "================================================================================\n"
     ]
    },
    {
     "name": "stderr",
     "output_type": "stream",
     "text": [
      "\n"
     ]
    }
   ],
   "source": [
    "%run inference_disease.py --model_path ../checkpoints_exp/checkpoints_base.en_encoder_learning/best_multitask_model_base.en.pt --save_results ../checkpoints_exp/checkpoints_base.en_encoder_learning/inference_results.csv"
   ]
  }
 ],
 "metadata": {
  "kernelspec": {
   "display_name": ".mtl-venv",
   "language": "python",
   "name": "python3"
  },
  "language_info": {
   "codemirror_mode": {
    "name": "ipython",
    "version": 3
   },
   "file_extension": ".py",
   "mimetype": "text/x-python",
   "name": "python",
   "nbconvert_exporter": "python",
   "pygments_lexer": "ipython3",
   "version": "3.10.12"
  }
 },
 "nbformat": 4,
 "nbformat_minor": 5
}
