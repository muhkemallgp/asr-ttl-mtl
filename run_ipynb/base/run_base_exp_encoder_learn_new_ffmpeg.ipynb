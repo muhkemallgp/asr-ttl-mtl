{
 "cells": [
  {
   "cell_type": "code",
   "execution_count": 1,
   "id": "53cc217e-33d2-4fba-a3df-f4f741723e56",
   "metadata": {},
   "outputs": [
    {
     "name": "stdout",
     "output_type": "stream",
     "text": [
      "/home/is/lathifgalih-k/musetalk/ffmpeg-4.4-amd64-static/ffmpeg\n",
      "ffmpeg version 7.0.2-static https://johnvansickle.com/ffmpeg/  Copyright (c) 2000-2024 the FFmpeg developers\n",
      "built with gcc 8 (Debian 8.3.0-6)\n"
     ]
    }
   ],
   "source": [
    "import os\n",
    "\n",
    "os.environ[\"PATH\"] = os.path.expanduser(\"~/musetalk/ffmpeg-4.4-amd64-static\") + \":\" + os.environ[\"PATH\"]\n",
    "\n",
    "# tes\n",
    "!which ffmpeg\n",
    "!ffmpeg -version | head -n 2\n",
    "\n",
    "import os\n",
    "os.environ[\"CUDA_VISIBLE_DEVICES\"] = \"1\""
   ]
  },
  {
   "cell_type": "code",
   "execution_count": 2,
   "id": "998b5099-2c22-4e67-82fb-5943f0e4a556",
   "metadata": {},
   "outputs": [
    {
     "name": "stdout",
     "output_type": "stream",
     "text": [
      "/home/is/lathifgalih-k/research_naist/ast-tts/.mtl-venv/bin/python3\n",
      "/usr/lib/python310.zip\n"
     ]
    }
   ],
   "source": [
    "import sys\n",
    "print(sys.executable)\n",
    "print(sys.path[0])"
   ]
  },
  {
   "cell_type": "code",
   "execution_count": 3,
   "id": "a9577df6-891b-4fd7-a589-04c2dabbb6c3",
   "metadata": {},
   "outputs": [
    {
     "data": {
      "text/plain": [
       "'/home/is/lathifgalih-k/research_naist/ast-tts/run_ipynb/base'"
      ]
     },
     "execution_count": 3,
     "metadata": {},
     "output_type": "execute_result"
    }
   ],
   "source": [
    "import os\n",
    "os.getcwd()"
   ]
  },
  {
   "cell_type": "code",
   "execution_count": 4,
   "id": "c747b7e3-9aac-420b-a95a-7217082f6452",
   "metadata": {},
   "outputs": [
    {
     "name": "stdout",
     "output_type": "stream",
     "text": [
      "/home/is/lathifgalih-k/research_naist/ast-tts/scripts\n"
     ]
    },
    {
     "name": "stderr",
     "output_type": "stream",
     "text": [
      "/home/is/lathifgalih-k/research_naist/ast-tts/.mtl-venv/lib/python3.10/site-packages/IPython/core/magics/osm.py:417: UserWarning: This is now an optional IPython functionality, setting dhist requires you to install the `pickleshare` library.\n",
      "  self.shell.db['dhist'] = compress_dhist(dhist)[-100:]\n"
     ]
    }
   ],
   "source": [
    "%cd ../../scripts"
   ]
  },
  {
   "cell_type": "code",
   "execution_count": 5,
   "id": "c06ce97a-2d7e-409e-9280-fbedbbc341af",
   "metadata": {},
   "outputs": [
    {
     "data": {
      "text/plain": [
       "'/home/is/lathifgalih-k/research_naist/ast-tts/scripts'"
      ]
     },
     "execution_count": 5,
     "metadata": {},
     "output_type": "execute_result"
    }
   ],
   "source": [
    "import os\n",
    "os.getcwd()"
   ]
  },
  {
   "cell_type": "code",
   "execution_count": 6,
   "id": "3663c72e-a64e-405f-847c-80ed9594bc5e",
   "metadata": {},
   "outputs": [
    {
     "name": "stdout",
     "output_type": "stream",
     "text": [
      "\n",
      "================================================================================\n",
      "                       MULTI-TASK LEARNING CONFIGURATION                        \n",
      "================================================================================\n",
      "Model: Whisper-base\n",
      "Model Type: Multilingual\n",
      "Device: cuda\n",
      "Architecture: Shared Encoder + Disease Classifier + Transcription Decoder\n",
      "\n",
      "Training Configuration:\n",
      "  Epochs: 50\n",
      "  Batch sizes: Train=16, Val=8\n",
      "  Learning rate: 1e-05\n",
      "  Weight decay: 0.01\n",
      "  Gradient clip norm: 1.0\n",
      "  Early stopping patience: 10\n",
      "  Freeze encoder: False\n",
      "\n",
      "Multi-task Loss Configuration:\n",
      "  Dynamic weights - Adaptive based on loss magnitudes\n",
      "\n",
      "Data Configuration:\n",
      "  Training data: /home/is/lathifgalih-k/research_naist/ast-tts/data/custom_train.csv\n",
      "  Validation data: /home/is/lathifgalih-k/research_naist/ast-tts/data/custom_val.csv\n",
      "  Audio processing: Whisper built-in (librosa backend)\n",
      "  Save directory: ../checkpoints_exp/checkpoints_base_encoder_learning_new_ffmpeg/\n",
      "\n",
      "================================================================================\n",
      "                                LOADING DATASETS                                \n",
      "================================================================================\n",
      "Loading training dataset...\n",
      "Dataset using Multilingual tokenizer\n",
      "✓ Multi-task Dataset loaded: 1737 samples\n",
      "✓ Model type: Multilingual\n",
      "✓ EOT token: 50257\n",
      "✓ SOT token: 50258\n",
      "✓ Disease tokens available: ['normal', 'dysphonia', 'dysarthria']\n",
      "✓ Class distribution:\n",
      "   normal (class 0): 579 samples (33.3%)\n",
      "   dysphonia (class 1): 579 samples (33.3%)\n",
      "   dysarthria (class 2): 579 samples (33.3%)\n",
      "Loading validation dataset...\n",
      "Dataset using Multilingual tokenizer\n",
      "✓ Multi-task Dataset loaded: 213 samples\n",
      "✓ Model type: Multilingual\n",
      "✓ EOT token: 50257\n",
      "✓ SOT token: 50258\n",
      "✓ Disease tokens available: ['normal', 'dysphonia', 'dysarthria']\n",
      "✓ Class distribution:\n",
      "   normal (class 0): 71 samples (33.3%)\n",
      "   dysphonia (class 1): 71 samples (33.3%)\n",
      "   dysarthria (class 2): 71 samples (33.3%)\n",
      "\n",
      "Dataset Summary:\n",
      "  Training samples: 1737\n",
      "  Validation samples: 213\n",
      "Creating data loaders...\n",
      "Data loaders created:\n",
      "  Training batches: 109\n",
      "  Validation batches: 27\n",
      "\n",
      "================================================================================\n",
      "                        INITIALIZING MULTI-TASK TRAINER                         \n",
      "================================================================================\n",
      "=== Multi-Task Learning Trainer (Proper Architecture) ===\n",
      "Device: cuda\n",
      "CUDA device: NVIDIA GeForce RTX 3090\n",
      "CUDA memory: 25.3 GB\n",
      "✔ Whisper model 'base' loaded\n",
      "✔ Tokenizer loaded:\n",
      "  Type: Multilingual\n",
      "  EOT: 50257, SOT: 50258\n",
      "  Disease tokens: {'normal': 50359, 'dysphonia': 50360, 'dysarthria': 50361}\n",
      "✔ Disease token mapping: {'normal': 50359, 'dysphonia': 50360, 'dysarthria': 50361}\n",
      "✔ Disease token position in dataset: 2\n",
      "Vocabulary expansion:\n",
      "  Original size: 51865\n",
      "  New size needed: 51869\n",
      "  Disease tokens: 3\n",
      "Resized embedding layer device: cpu\n",
      "✔ Vocabulary expanded: 51865 → 51869\n",
      "✔ Disease classifier created: 512 → 256 → 3\n",
      "  Group 1 (encoder): 19,822,592 params, LR: 1.00e-06\n",
      "  Group 2 (decoder_layers): 25,448,448 params, LR: 3.00e-06\n",
      "  Group 3 (embeddings): 26,556,928 params, LR: 1.00e-05\n",
      "  Group 4 (disease_classifier): 132,099 params, LR: 1.00e-05\n",
      "✔ Optimizer setup: 4 groups, 71,960,067 total params\n",
      "✔ Trainer initialized successfully\n",
      "  Disease classes: {0: 'normal', 1: 'dysphonia', 2: 'dysarthria'}\n",
      "  Architecture: Shared Encoder + Disease Classifier + Transcription Decoder\n",
      "✓ Trainer initialized:\n",
      "  Model parameters: 71,827,968\n",
      "  Trainable parameters: 71,827,968\n",
      "  Disease classification: Embedded in sequence (no separate classifier)\n",
      "  Optimizer: AdamW\n",
      "  Loss functions: CrossEntropyLoss (both tasks)\n",
      "\n",
      "================================================================================\n",
      "                          STARTING MULTI-TASK TRAINING                          \n",
      "================================================================================\n",
      "\n",
      "=== Multi-Task Training Started ===\n",
      "Architecture: Shared Encoder + Disease Classifier + Transcription Decoder\n",
      "Disease classes: ['normal', 'dysphonia', 'dysarthria']\n",
      "\n",
      "============================================================\n",
      "EPOCH 1/50\n",
      "============================================================\n"
     ]
    },
    {
     "name": "stderr",
     "output_type": "stream",
     "text": [
      "Training Epoch 1: 100%|███████████████████████████████████████████████████████████████████████████████████████████████████████████████████████████| 109/109 [01:03<00:00,  1.73it/s]\n"
     ]
    },
    {
     "name": "stdout",
     "output_type": "stream",
     "text": [
      "\n",
      "📈 TRAINING EPOCH 1 SUMMARY:\n",
      "   Loss: 1.1493 (α·Cls: 1.0886, β·Trans: 1.3281)\n",
      "   Weights: α=0.7465, β=0.2535\n",
      "   Disease: Acc=0.4203, W-P=0.3487, W-R=0.4203, W-F1=0.3300\n",
      "   Speech: WER=0.1882, CER=0.1243\n"
     ]
    },
    {
     "name": "stderr",
     "output_type": "stream",
     "text": [
      "Evaluating: 100%|███████████████████████████████████████████████████████████████████████████████████████████████████████████████████████████████████| 27/27 [00:03<00:00,  8.66it/s]\n"
     ]
    },
    {
     "name": "stdout",
     "output_type": "stream",
     "text": [
      "\n",
      "📊 VALIDATION SUMMARY:\n",
      "\n",
      "📊 VALIDATION DETAILED METRICS:\n",
      "   🏥 Disease Classification:\n",
      "      Overall Accuracy: 0.4601\n",
      "      Weighted Precision: 0.3280\n",
      "      Weighted Recall: 0.4601\n",
      "      Weighted F1: 0.3514\n",
      "      Macro Precision: 0.3280\n",
      "      Macro Recall: 0.4601\n",
      "      Macro F1: 0.3514\n",
      "   🎯 Transcription:\n",
      "      Overall WER: 0.1401\n",
      "      Overall CER: 0.1008\n",
      "   📈 Per-Class Disease Classification:\n",
      "      Class        Prec   Rec    F1     Support \n",
      "      ----------------------------------------\n",
      "      Normal       0.433 1.000 0.604 71      \n",
      "      Dysphonia    0.551 0.380 0.450 71      \n",
      "      Dysarthria   0.000 0.000 0.000 71      \n",
      "   📝 Per-Class Transcription:\n",
      "      Class        WER    CER    Samples  Valid   \n",
      "      ------------------------------------------------\n",
      "      Normal       0.043 0.024 71       71      \n",
      "      Dysphonia    0.109 0.072 71       71      \n",
      "      Dysarthria   0.312 0.249 71       71      \n",
      "✅ Best model saved: ../checkpoints_exp/checkpoints_base_encoder_learning_new_ffmpeg/best_multitask_model_base.pt\n",
      "\n",
      "============================================================\n",
      "EPOCH 2/50\n",
      "============================================================\n"
     ]
    },
    {
     "name": "stderr",
     "output_type": "stream",
     "text": [
      "Training Epoch 2: 100%|███████████████████████████████████████████████████████████████████████████████████████████████████████████████████████████| 109/109 [01:14<00:00,  1.47it/s]\n"
     ]
    },
    {
     "name": "stdout",
     "output_type": "stream",
     "text": [
      "\n",
      "📈 TRAINING EPOCH 2 SUMMARY:\n",
      "   Loss: 0.9295 (α·Cls: 0.9999, β·Trans: 0.7221)\n",
      "   Weights: α=0.7465, β=0.2535\n",
      "   Disease: Acc=0.6321, W-P=0.7049, W-R=0.6321, W-F1=0.5956\n",
      "   Speech: WER=0.1091, CER=0.0801\n"
     ]
    },
    {
     "name": "stderr",
     "output_type": "stream",
     "text": [
      "Evaluating: 100%|███████████████████████████████████████████████████████████████████████████████████████████████████████████████████████████████████| 27/27 [00:03<00:00,  8.36it/s]\n"
     ]
    },
    {
     "name": "stdout",
     "output_type": "stream",
     "text": [
      "\n",
      "📊 VALIDATION SUMMARY:\n",
      "\n",
      "📊 VALIDATION DETAILED METRICS:\n",
      "   🏥 Disease Classification:\n",
      "      Overall Accuracy: 0.7653\n",
      "      Weighted Precision: 0.7917\n",
      "      Weighted Recall: 0.7653\n",
      "      Weighted F1: 0.7602\n",
      "      Macro Precision: 0.7917\n",
      "      Macro Recall: 0.7653\n",
      "      Macro F1: 0.7602\n",
      "   🎯 Transcription:\n",
      "      Overall WER: 0.1092\n",
      "      Overall CER: 0.0863\n",
      "   📈 Per-Class Disease Classification:\n",
      "      Class        Prec   Rec    F1     Support \n",
      "      ----------------------------------------\n",
      "      Normal       0.674 0.873 0.761 71      \n",
      "      Dysphonia    0.792 0.859 0.824 71      \n",
      "      Dysarthria   0.909 0.563 0.696 71      \n",
      "   📝 Per-Class Transcription:\n",
      "      Class        WER    CER    Samples  Valid   \n",
      "      ------------------------------------------------\n",
      "      Normal       0.035 0.019 71       71      \n",
      "      Dysphonia    0.083 0.063 71       71      \n",
      "      Dysarthria   0.245 0.213 71       71      \n",
      "✅ Best model saved: ../checkpoints_exp/checkpoints_base_encoder_learning_new_ffmpeg/best_multitask_model_base.pt\n",
      "\n",
      "============================================================\n",
      "EPOCH 3/50\n",
      "============================================================\n"
     ]
    },
    {
     "name": "stderr",
     "output_type": "stream",
     "text": [
      "Training Epoch 3: 100%|███████████████████████████████████████████████████████████████████████████████████████████████████████████████████████████| 109/109 [01:20<00:00,  1.35it/s]\n"
     ]
    },
    {
     "name": "stdout",
     "output_type": "stream",
     "text": [
      "\n",
      "📈 TRAINING EPOCH 3 SUMMARY:\n",
      "   Loss: 0.6775 (α·Cls: 0.7329, β·Trans: 0.5146)\n",
      "   Weights: α=0.7465, β=0.2535\n",
      "   Disease: Acc=0.8307, W-P=0.8430, W-R=0.8307, W-F1=0.8297\n",
      "   Speech: WER=0.0872, CER=0.0724\n"
     ]
    },
    {
     "name": "stderr",
     "output_type": "stream",
     "text": [
      "Evaluating: 100%|███████████████████████████████████████████████████████████████████████████████████████████████████████████████████████████████████| 27/27 [00:03<00:00,  8.30it/s]\n"
     ]
    },
    {
     "name": "stdout",
     "output_type": "stream",
     "text": [
      "\n",
      "📊 VALIDATION SUMMARY:\n",
      "\n",
      "📊 VALIDATION DETAILED METRICS:\n",
      "   🏥 Disease Classification:\n",
      "      Overall Accuracy: 0.8873\n",
      "      Weighted Precision: 0.8883\n",
      "      Weighted Recall: 0.8873\n",
      "      Weighted F1: 0.8860\n",
      "      Macro Precision: 0.8883\n",
      "      Macro Recall: 0.8873\n",
      "      Macro F1: 0.8860\n",
      "   🎯 Transcription:\n",
      "      Overall WER: 0.1168\n",
      "      Overall CER: 0.1029\n",
      "   📈 Per-Class Disease Classification:\n",
      "      Class        Prec   Rec    F1     Support \n",
      "      ----------------------------------------\n",
      "      Normal       0.903 0.789 0.842 71      \n",
      "      Dysphonia    0.893 0.944 0.918 71      \n",
      "      Dysarthria   0.868 0.930 0.898 71      \n",
      "   📝 Per-Class Transcription:\n",
      "      Class        WER    CER    Samples  Valid   \n",
      "      ------------------------------------------------\n",
      "      Normal       0.029 0.016 71       71      \n",
      "      Dysphonia    0.107 0.098 71       71      \n",
      "      Dysarthria   0.245 0.227 71       71      \n",
      "✅ Best model saved: ../checkpoints_exp/checkpoints_base_encoder_learning_new_ffmpeg/best_multitask_model_base.pt\n",
      "\n",
      "============================================================\n",
      "EPOCH 4/50\n",
      "============================================================\n"
     ]
    },
    {
     "name": "stderr",
     "output_type": "stream",
     "text": [
      "Training Epoch 4: 100%|███████████████████████████████████████████████████████████████████████████████████████████████████████████████████████████| 109/109 [01:21<00:00,  1.34it/s]\n"
     ]
    },
    {
     "name": "stdout",
     "output_type": "stream",
     "text": [
      "\n",
      "📈 TRAINING EPOCH 4 SUMMARY:\n",
      "   Loss: 0.3771 (α·Cls: 0.3761, β·Trans: 0.3804)\n",
      "   Weights: α=0.7465, β=0.2535\n",
      "   Disease: Acc=0.9332, W-P=0.9333, W-R=0.9332, W-F1=0.9332\n",
      "   Speech: WER=0.0829, CER=0.0803\n"
     ]
    },
    {
     "name": "stderr",
     "output_type": "stream",
     "text": [
      "Evaluating: 100%|███████████████████████████████████████████████████████████████████████████████████████████████████████████████████████████████████| 27/27 [00:03<00:00,  8.11it/s]\n"
     ]
    },
    {
     "name": "stdout",
     "output_type": "stream",
     "text": [
      "\n",
      "📊 VALIDATION SUMMARY:\n",
      "\n",
      "📊 VALIDATION DETAILED METRICS:\n",
      "   🏥 Disease Classification:\n",
      "      Overall Accuracy: 0.9624\n",
      "      Weighted Precision: 0.9631\n",
      "      Weighted Recall: 0.9624\n",
      "      Weighted F1: 0.9625\n",
      "      Macro Precision: 0.9631\n",
      "      Macro Recall: 0.9624\n",
      "      Macro F1: 0.9625\n",
      "   🎯 Transcription:\n",
      "      Overall WER: 0.1197\n",
      "      Overall CER: 0.1087\n",
      "   📈 Per-Class Disease Classification:\n",
      "      Class        Prec   Rec    F1     Support \n",
      "      ----------------------------------------\n",
      "      Normal       0.971 0.944 0.957 71      \n",
      "      Dysphonia    0.986 0.972 0.979 71      \n",
      "      Dysarthria   0.932 0.972 0.952 71      \n",
      "   📝 Per-Class Transcription:\n",
      "      Class        WER    CER    Samples  Valid   \n",
      "      ------------------------------------------------\n",
      "      Normal       0.031 0.017 71       71      \n",
      "      Dysphonia    0.105 0.098 71       71      \n",
      "      Dysarthria   0.258 0.250 71       71      \n",
      "✅ Best model saved: ../checkpoints_exp/checkpoints_base_encoder_learning_new_ffmpeg/best_multitask_model_base.pt\n",
      "\n",
      "============================================================\n",
      "EPOCH 5/50\n",
      "============================================================\n"
     ]
    },
    {
     "name": "stderr",
     "output_type": "stream",
     "text": [
      "Training Epoch 5: 100%|███████████████████████████████████████████████████████████████████████████████████████████████████████████████████████████| 109/109 [01:21<00:00,  1.34it/s]\n"
     ]
    },
    {
     "name": "stdout",
     "output_type": "stream",
     "text": [
      "\n",
      "📈 TRAINING EPOCH 5 SUMMARY:\n",
      "   Loss: 0.1946 (α·Cls: 0.1738, β·Trans: 0.2558)\n",
      "   Weights: α=0.7465, β=0.2535\n",
      "   Disease: Acc=0.9706, W-P=0.9710, W-R=0.9706, W-F1=0.9707\n",
      "   Speech: WER=0.0801, CER=0.0848\n"
     ]
    },
    {
     "name": "stderr",
     "output_type": "stream",
     "text": [
      "Evaluating: 100%|███████████████████████████████████████████████████████████████████████████████████████████████████████████████████████████████████| 27/27 [00:03<00:00,  7.58it/s]\n"
     ]
    },
    {
     "name": "stdout",
     "output_type": "stream",
     "text": [
      "\n",
      "📊 VALIDATION SUMMARY:\n",
      "\n",
      "📊 VALIDATION DETAILED METRICS:\n",
      "   🏥 Disease Classification:\n",
      "      Overall Accuracy: 0.9812\n",
      "      Weighted Precision: 0.9814\n",
      "      Weighted Recall: 0.9812\n",
      "      Weighted F1: 0.9813\n",
      "      Macro Precision: 0.9814\n",
      "      Macro Recall: 0.9812\n",
      "      Macro F1: 0.9813\n",
      "   🎯 Transcription:\n",
      "      Overall WER: 0.0845\n",
      "      Overall CER: 0.0665\n",
      "   📈 Per-Class Disease Classification:\n",
      "      Class        Prec   Rec    F1     Support \n",
      "      ----------------------------------------\n",
      "      Normal       0.972 0.972 0.972 71      \n",
      "      Dysphonia    1.000 0.986 0.993 71      \n",
      "      Dysarthria   0.972 0.986 0.979 71      \n",
      "   📝 Per-Class Transcription:\n",
      "      Class        WER    CER    Samples  Valid   \n",
      "      ------------------------------------------------\n",
      "      Normal       0.028 0.016 71       71      \n",
      "      Dysphonia    0.063 0.045 71       71      \n",
      "      Dysarthria   0.191 0.168 71       71      \n",
      "✅ Best model saved: ../checkpoints_exp/checkpoints_base_encoder_learning_new_ffmpeg/best_multitask_model_base.pt\n",
      "\n",
      "============================================================\n",
      "EPOCH 6/50\n",
      "============================================================\n"
     ]
    },
    {
     "name": "stderr",
     "output_type": "stream",
     "text": [
      "Training Epoch 6: 100%|███████████████████████████████████████████████████████████████████████████████████████████████████████████████████████████| 109/109 [01:21<00:00,  1.33it/s]\n"
     ]
    },
    {
     "name": "stdout",
     "output_type": "stream",
     "text": [
      "\n",
      "📈 TRAINING EPOCH 6 SUMMARY:\n",
      "   Loss: 0.0916 (α·Cls: 0.0768, β·Trans: 0.1351)\n",
      "   Weights: α=0.7465, β=0.2535\n",
      "   Disease: Acc=0.9891, W-P=0.9891, W-R=0.9891, W-F1=0.9891\n",
      "   Speech: WER=0.0334, CER=0.0229\n"
     ]
    },
    {
     "name": "stderr",
     "output_type": "stream",
     "text": [
      "Evaluating: 100%|███████████████████████████████████████████████████████████████████████████████████████████████████████████████████████████████████| 27/27 [00:03<00:00,  7.92it/s]\n"
     ]
    },
    {
     "name": "stdout",
     "output_type": "stream",
     "text": [
      "\n",
      "📊 VALIDATION SUMMARY:\n",
      "\n",
      "📊 VALIDATION DETAILED METRICS:\n",
      "   🏥 Disease Classification:\n",
      "      Overall Accuracy: 0.9812\n",
      "      Weighted Precision: 0.9816\n",
      "      Weighted Recall: 0.9812\n",
      "      Weighted F1: 0.9813\n",
      "      Macro Precision: 0.9816\n",
      "      Macro Recall: 0.9812\n",
      "      Macro F1: 0.9813\n",
      "   🎯 Transcription:\n",
      "      Overall WER: 0.0693\n",
      "      Overall CER: 0.0476\n",
      "   📈 Per-Class Disease Classification:\n",
      "      Class        Prec   Rec    F1     Support \n",
      "      ----------------------------------------\n",
      "      Normal       0.959 0.986 0.972 71      \n",
      "      Dysphonia    1.000 0.972 0.986 71      \n",
      "      Dysarthria   0.986 0.986 0.986 71      \n",
      "   📝 Per-Class Transcription:\n",
      "      Class        WER    CER    Samples  Valid   \n",
      "      ------------------------------------------------\n",
      "      Normal       0.029 0.019 71       71      \n",
      "      Dysphonia    0.055 0.040 71       71      \n",
      "      Dysarthria   0.143 0.098 71       71      \n",
      "✅ Best model saved: ../checkpoints_exp/checkpoints_base_encoder_learning_new_ffmpeg/best_multitask_model_base.pt\n",
      "\n",
      "============================================================\n",
      "EPOCH 7/50\n",
      "============================================================\n"
     ]
    },
    {
     "name": "stderr",
     "output_type": "stream",
     "text": [
      "Training Epoch 7: 100%|███████████████████████████████████████████████████████████████████████████████████████████████████████████████████████████| 109/109 [01:21<00:00,  1.33it/s]\n"
     ]
    },
    {
     "name": "stdout",
     "output_type": "stream",
     "text": [
      "\n",
      "📈 TRAINING EPOCH 7 SUMMARY:\n",
      "   Loss: 0.0508 (α·Cls: 0.0422, β·Trans: 0.0761)\n",
      "   Weights: α=0.7465, β=0.2535\n",
      "   Disease: Acc=0.9919, W-P=0.9920, W-R=0.9919, W-F1=0.9919\n",
      "   Speech: WER=0.0239, CER=0.0162\n"
     ]
    },
    {
     "name": "stderr",
     "output_type": "stream",
     "text": [
      "Evaluating: 100%|███████████████████████████████████████████████████████████████████████████████████████████████████████████████████████████████████| 27/27 [00:02<00:00,  9.38it/s]\n"
     ]
    },
    {
     "name": "stdout",
     "output_type": "stream",
     "text": [
      "\n",
      "📊 VALIDATION SUMMARY:\n",
      "\n",
      "📊 VALIDATION DETAILED METRICS:\n",
      "   🏥 Disease Classification:\n",
      "      Overall Accuracy: 0.9906\n",
      "      Weighted Precision: 0.9909\n",
      "      Weighted Recall: 0.9906\n",
      "      Weighted F1: 0.9906\n",
      "      Macro Precision: 0.9909\n",
      "      Macro Recall: 0.9906\n",
      "      Macro F1: 0.9906\n",
      "   🎯 Transcription:\n",
      "      Overall WER: 0.0508\n",
      "      Overall CER: 0.0352\n",
      "   📈 Per-Class Disease Classification:\n",
      "      Class        Prec   Rec    F1     Support \n",
      "      ----------------------------------------\n",
      "      Normal       1.000 0.972 0.986 71      \n",
      "      Dysphonia    1.000 1.000 1.000 71      \n",
      "      Dysarthria   0.973 1.000 0.986 71      \n",
      "   📝 Per-Class Transcription:\n",
      "      Class        WER    CER    Samples  Valid   \n",
      "      ------------------------------------------------\n",
      "      Normal       0.022 0.013 71       71      \n",
      "      Dysphonia    0.043 0.029 71       71      \n",
      "      Dysarthria   0.100 0.074 71       71      \n",
      "✅ Best model saved: ../checkpoints_exp/checkpoints_base_encoder_learning_new_ffmpeg/best_multitask_model_base.pt\n",
      "\n",
      "============================================================\n",
      "EPOCH 8/50\n",
      "============================================================\n"
     ]
    },
    {
     "name": "stderr",
     "output_type": "stream",
     "text": [
      "Training Epoch 8: 100%|███████████████████████████████████████████████████████████████████████████████████████████████████████████████████████████| 109/109 [01:23<00:00,  1.31it/s]\n"
     ]
    },
    {
     "name": "stdout",
     "output_type": "stream",
     "text": [
      "\n",
      "📈 TRAINING EPOCH 8 SUMMARY:\n",
      "   Loss: 0.0281 (α·Cls: 0.0225, β·Trans: 0.0446)\n",
      "   Weights: α=0.7465, β=0.2535\n",
      "   Disease: Acc=0.9960, W-P=0.9960, W-R=0.9960, W-F1=0.9960\n",
      "   Speech: WER=0.0160, CER=0.0109\n"
     ]
    },
    {
     "name": "stderr",
     "output_type": "stream",
     "text": [
      "Evaluating: 100%|███████████████████████████████████████████████████████████████████████████████████████████████████████████████████████████████████| 27/27 [00:03<00:00,  7.77it/s]\n"
     ]
    },
    {
     "name": "stdout",
     "output_type": "stream",
     "text": [
      "\n",
      "📊 VALIDATION SUMMARY:\n",
      "\n",
      "📊 VALIDATION DETAILED METRICS:\n",
      "   🏥 Disease Classification:\n",
      "      Overall Accuracy: 0.9859\n",
      "      Weighted Precision: 0.9865\n",
      "      Weighted Recall: 0.9859\n",
      "      Weighted F1: 0.9860\n",
      "      Macro Precision: 0.9865\n",
      "      Macro Recall: 0.9859\n",
      "      Macro F1: 0.9860\n",
      "   🎯 Transcription:\n",
      "      Overall WER: 0.0584\n",
      "      Overall CER: 0.0409\n",
      "   📈 Per-Class Disease Classification:\n",
      "      Class        Prec   Rec    F1     Support \n",
      "      ----------------------------------------\n",
      "      Normal       0.959 1.000 0.979 71      \n",
      "      Dysphonia    1.000 0.986 0.993 71      \n",
      "      Dysarthria   1.000 0.972 0.986 71      \n",
      "   📝 Per-Class Transcription:\n",
      "      Class        WER    CER    Samples  Valid   \n",
      "      ------------------------------------------------\n",
      "      Normal       0.052 0.035 71       71      \n",
      "      Dysphonia    0.043 0.031 71       71      \n",
      "      Dysarthria   0.091 0.065 71       71      \n",
      "✅ Best model saved: ../checkpoints_exp/checkpoints_base_encoder_learning_new_ffmpeg/best_multitask_model_base.pt\n",
      "\n",
      "============================================================\n",
      "EPOCH 9/50\n",
      "============================================================\n"
     ]
    },
    {
     "name": "stderr",
     "output_type": "stream",
     "text": [
      "Training Epoch 9: 100%|███████████████████████████████████████████████████████████████████████████████████████████████████████████████████████████| 109/109 [01:22<00:00,  1.32it/s]\n"
     ]
    },
    {
     "name": "stdout",
     "output_type": "stream",
     "text": [
      "\n",
      "📈 TRAINING EPOCH 9 SUMMARY:\n",
      "   Loss: 0.0184 (α·Cls: 0.0160, β·Trans: 0.0254)\n",
      "   Weights: α=0.7465, β=0.2535\n",
      "   Disease: Acc=0.9971, W-P=0.9971, W-R=0.9971, W-F1=0.9971\n",
      "   Speech: WER=0.0199, CER=0.0141\n"
     ]
    },
    {
     "name": "stderr",
     "output_type": "stream",
     "text": [
      "Evaluating: 100%|███████████████████████████████████████████████████████████████████████████████████████████████████████████████████████████████████| 27/27 [00:03<00:00,  7.18it/s]\n"
     ]
    },
    {
     "name": "stdout",
     "output_type": "stream",
     "text": [
      "\n",
      "📊 VALIDATION SUMMARY:\n",
      "\n",
      "📊 VALIDATION DETAILED METRICS:\n",
      "   🏥 Disease Classification:\n",
      "      Overall Accuracy: 0.9906\n",
      "      Weighted Precision: 0.9909\n",
      "      Weighted Recall: 0.9906\n",
      "      Weighted F1: 0.9906\n",
      "      Macro Precision: 0.9909\n",
      "      Macro Recall: 0.9906\n",
      "      Macro F1: 0.9906\n",
      "   🎯 Transcription:\n",
      "      Overall WER: 0.0489\n",
      "      Overall CER: 0.0332\n",
      "   📈 Per-Class Disease Classification:\n",
      "      Class        Prec   Rec    F1     Support \n",
      "      ----------------------------------------\n",
      "      Normal       0.973 1.000 0.986 71      \n",
      "      Dysphonia    1.000 0.986 0.993 71      \n",
      "      Dysarthria   1.000 0.986 0.993 71      \n",
      "   📝 Per-Class Transcription:\n",
      "      Class        WER    CER    Samples  Valid   \n",
      "      ------------------------------------------------\n",
      "      Normal       0.039 0.026 71       71      \n",
      "      Dysphonia    0.039 0.027 71       71      \n",
      "      Dysarthria   0.076 0.054 71       71      \n",
      "✅ Best model saved: ../checkpoints_exp/checkpoints_base_encoder_learning_new_ffmpeg/best_multitask_model_base.pt\n",
      "\n",
      "============================================================\n",
      "EPOCH 10/50\n",
      "============================================================\n"
     ]
    },
    {
     "name": "stderr",
     "output_type": "stream",
     "text": [
      "Training Epoch 10: 100%|██████████████████████████████████████████████████████████████████████████████████████████████████████████████████████████| 109/109 [01:23<00:00,  1.31it/s]\n"
     ]
    },
    {
     "name": "stdout",
     "output_type": "stream",
     "text": [
      "\n",
      "📈 TRAINING EPOCH 10 SUMMARY:\n",
      "   Loss: 0.0135 (α·Cls: 0.0127, β·Trans: 0.0158)\n",
      "   Weights: α=0.7465, β=0.2535\n",
      "   Disease: Acc=0.9971, W-P=0.9971, W-R=0.9971, W-F1=0.9971\n",
      "   Speech: WER=0.0178, CER=0.0129\n"
     ]
    },
    {
     "name": "stderr",
     "output_type": "stream",
     "text": [
      "Evaluating: 100%|███████████████████████████████████████████████████████████████████████████████████████████████████████████████████████████████████| 27/27 [00:03<00:00,  7.80it/s]\n"
     ]
    },
    {
     "name": "stdout",
     "output_type": "stream",
     "text": [
      "\n",
      "📊 VALIDATION SUMMARY:\n",
      "\n",
      "📊 VALIDATION DETAILED METRICS:\n",
      "   🏥 Disease Classification:\n",
      "      Overall Accuracy: 0.9906\n",
      "      Weighted Precision: 0.9909\n",
      "      Weighted Recall: 0.9906\n",
      "      Weighted F1: 0.9906\n",
      "      Macro Precision: 0.9909\n",
      "      Macro Recall: 0.9906\n",
      "      Macro F1: 0.9906\n",
      "   🎯 Transcription:\n",
      "      Overall WER: 0.0518\n",
      "      Overall CER: 0.0375\n",
      "   📈 Per-Class Disease Classification:\n",
      "      Class        Prec   Rec    F1     Support \n",
      "      ----------------------------------------\n",
      "      Normal       0.973 1.000 0.986 71      \n",
      "      Dysphonia    1.000 0.986 0.993 71      \n",
      "      Dysarthria   1.000 0.986 0.993 71      \n",
      "   📝 Per-Class Transcription:\n",
      "      Class        WER    CER    Samples  Valid   \n",
      "      ------------------------------------------------\n",
      "      Normal       0.053 0.036 71       71      \n",
      "      Dysphonia    0.036 0.026 71       71      \n",
      "      Dysarthria   0.074 0.057 71       71      \n",
      "✅ Best model saved: ../checkpoints_exp/checkpoints_base_encoder_learning_new_ffmpeg/best_multitask_model_base.pt\n",
      "\n",
      "============================================================\n",
      "EPOCH 11/50\n",
      "============================================================\n"
     ]
    },
    {
     "name": "stderr",
     "output_type": "stream",
     "text": [
      "Training Epoch 11: 100%|██████████████████████████████████████████████████████████████████████████████████████████████████████████████████████████| 109/109 [01:17<00:00,  1.42it/s]\n"
     ]
    },
    {
     "name": "stdout",
     "output_type": "stream",
     "text": [
      "\n",
      "📈 TRAINING EPOCH 11 SUMMARY:\n",
      "   Loss: 0.0081 (α·Cls: 0.0076, β·Trans: 0.0093)\n",
      "   Weights: α=0.7465, β=0.2535\n",
      "   Disease: Acc=0.9983, W-P=0.9983, W-R=0.9983, W-F1=0.9983\n",
      "   Speech: WER=0.0172, CER=0.0128\n"
     ]
    },
    {
     "name": "stderr",
     "output_type": "stream",
     "text": [
      "Evaluating: 100%|███████████████████████████████████████████████████████████████████████████████████████████████████████████████████████████████████| 27/27 [00:02<00:00, 10.37it/s]\n"
     ]
    },
    {
     "name": "stdout",
     "output_type": "stream",
     "text": [
      "\n",
      "📊 VALIDATION SUMMARY:\n",
      "\n",
      "📊 VALIDATION DETAILED METRICS:\n",
      "   🏥 Disease Classification:\n",
      "      Overall Accuracy: 1.0000\n",
      "      Weighted Precision: 1.0000\n",
      "      Weighted Recall: 1.0000\n",
      "      Weighted F1: 1.0000\n",
      "      Macro Precision: 1.0000\n",
      "      Macro Recall: 1.0000\n",
      "      Macro F1: 1.0000\n",
      "   🎯 Transcription:\n",
      "      Overall WER: 0.0494\n",
      "      Overall CER: 0.0347\n",
      "   📈 Per-Class Disease Classification:\n",
      "      Class        Prec   Rec    F1     Support \n",
      "      ----------------------------------------\n",
      "      Normal       1.000 1.000 1.000 71      \n",
      "      Dysphonia    1.000 1.000 1.000 71      \n",
      "      Dysarthria   1.000 1.000 1.000 71      \n",
      "   📝 Per-Class Transcription:\n",
      "      Class        WER    CER    Samples  Valid   \n",
      "      ------------------------------------------------\n",
      "      Normal       0.046 0.031 71       71      \n",
      "      Dysphonia    0.037 0.026 71       71      \n",
      "      Dysarthria   0.073 0.053 71       71      \n",
      "✅ Best model saved: ../checkpoints_exp/checkpoints_base_encoder_learning_new_ffmpeg/best_multitask_model_base.pt\n",
      "\n",
      "============================================================\n",
      "EPOCH 12/50\n",
      "============================================================\n"
     ]
    },
    {
     "name": "stderr",
     "output_type": "stream",
     "text": [
      "Training Epoch 12: 100%|██████████████████████████████████████████████████████████████████████████████████████████████████████████████████████████| 109/109 [00:59<00:00,  1.82it/s]\n"
     ]
    },
    {
     "name": "stdout",
     "output_type": "stream",
     "text": [
      "\n",
      "📈 TRAINING EPOCH 12 SUMMARY:\n",
      "   Loss: 0.0057 (α·Cls: 0.0054, β·Trans: 0.0067)\n",
      "   Weights: α=0.7465, β=0.2535\n",
      "   Disease: Acc=0.9988, W-P=0.9989, W-R=0.9988, W-F1=0.9988\n",
      "   Speech: WER=0.0196, CER=0.0144\n"
     ]
    },
    {
     "name": "stderr",
     "output_type": "stream",
     "text": [
      "Evaluating: 100%|███████████████████████████████████████████████████████████████████████████████████████████████████████████████████████████████████| 27/27 [00:02<00:00, 11.94it/s]\n"
     ]
    },
    {
     "name": "stdout",
     "output_type": "stream",
     "text": [
      "\n",
      "📊 VALIDATION SUMMARY:\n",
      "\n",
      "📊 VALIDATION DETAILED METRICS:\n",
      "   🏥 Disease Classification:\n",
      "      Overall Accuracy: 0.9953\n",
      "      Weighted Precision: 0.9954\n",
      "      Weighted Recall: 0.9953\n",
      "      Weighted F1: 0.9953\n",
      "      Macro Precision: 0.9954\n",
      "      Macro Recall: 0.9953\n",
      "      Macro F1: 0.9953\n",
      "   🎯 Transcription:\n",
      "      Overall WER: 0.0508\n",
      "      Overall CER: 0.0360\n",
      "   📈 Per-Class Disease Classification:\n",
      "      Class        Prec   Rec    F1     Support \n",
      "      ----------------------------------------\n",
      "      Normal       0.986 1.000 0.993 71      \n",
      "      Dysphonia    1.000 1.000 1.000 71      \n",
      "      Dysarthria   1.000 0.986 0.993 71      \n",
      "   📝 Per-Class Transcription:\n",
      "      Class        WER    CER    Samples  Valid   \n",
      "      ------------------------------------------------\n",
      "      Normal       0.055 0.037 71       71      \n",
      "      Dysphonia    0.037 0.026 71       71      \n",
      "      Dysarthria   0.067 0.051 71       71      \n",
      "✅ Best model saved: ../checkpoints_exp/checkpoints_base_encoder_learning_new_ffmpeg/best_multitask_model_base.pt\n",
      "\n",
      "============================================================\n",
      "EPOCH 13/50\n",
      "============================================================\n"
     ]
    },
    {
     "name": "stderr",
     "output_type": "stream",
     "text": [
      "Training Epoch 13: 100%|██████████████████████████████████████████████████████████████████████████████████████████████████████████████████████████| 109/109 [00:56<00:00,  1.92it/s]\n"
     ]
    },
    {
     "name": "stdout",
     "output_type": "stream",
     "text": [
      "\n",
      "📈 TRAINING EPOCH 13 SUMMARY:\n",
      "   Loss: 0.0041 (α·Cls: 0.0037, β·Trans: 0.0053)\n",
      "   Weights: α=0.7465, β=0.2535\n",
      "   Disease: Acc=0.9988, W-P=0.9989, W-R=0.9988, W-F1=0.9988\n",
      "   Speech: WER=0.0229, CER=0.0168\n"
     ]
    },
    {
     "name": "stderr",
     "output_type": "stream",
     "text": [
      "Evaluating: 100%|███████████████████████████████████████████████████████████████████████████████████████████████████████████████████████████████████| 27/27 [00:02<00:00, 12.26it/s]\n"
     ]
    },
    {
     "name": "stdout",
     "output_type": "stream",
     "text": [
      "\n",
      "📊 VALIDATION SUMMARY:\n",
      "\n",
      "📊 VALIDATION DETAILED METRICS:\n",
      "   🏥 Disease Classification:\n",
      "      Overall Accuracy: 1.0000\n",
      "      Weighted Precision: 1.0000\n",
      "      Weighted Recall: 1.0000\n",
      "      Weighted F1: 1.0000\n",
      "      Macro Precision: 1.0000\n",
      "      Macro Recall: 1.0000\n",
      "      Macro F1: 1.0000\n",
      "   🎯 Transcription:\n",
      "      Overall WER: 0.0551\n",
      "      Overall CER: 0.0390\n",
      "   📈 Per-Class Disease Classification:\n",
      "      Class        Prec   Rec    F1     Support \n",
      "      ----------------------------------------\n",
      "      Normal       1.000 1.000 1.000 71      \n",
      "      Dysphonia    1.000 1.000 1.000 71      \n",
      "      Dysarthria   1.000 1.000 1.000 71      \n",
      "   📝 Per-Class Transcription:\n",
      "      Class        WER    CER    Samples  Valid   \n",
      "      ------------------------------------------------\n",
      "      Normal       0.066 0.045 71       71      \n",
      "      Dysphonia    0.038 0.027 71       71      \n",
      "      Dysarthria   0.067 0.051 71       71      \n",
      "✅ Best model saved: ../checkpoints_exp/checkpoints_base_encoder_learning_new_ffmpeg/best_multitask_model_base.pt\n",
      "\n",
      "============================================================\n",
      "EPOCH 14/50\n",
      "============================================================\n"
     ]
    },
    {
     "name": "stderr",
     "output_type": "stream",
     "text": [
      "Training Epoch 14: 100%|██████████████████████████████████████████████████████████████████████████████████████████████████████████████████████████| 109/109 [00:55<00:00,  1.96it/s]\n"
     ]
    },
    {
     "name": "stdout",
     "output_type": "stream",
     "text": [
      "\n",
      "📈 TRAINING EPOCH 14 SUMMARY:\n",
      "   Loss: 0.0026 (α·Cls: 0.0021, β·Trans: 0.0044)\n",
      "   Weights: α=0.7465, β=0.2535\n",
      "   Disease: Acc=0.9994, W-P=0.9994, W-R=0.9994, W-F1=0.9994\n",
      "   Speech: WER=0.0266, CER=0.0196\n"
     ]
    },
    {
     "name": "stderr",
     "output_type": "stream",
     "text": [
      "Evaluating: 100%|███████████████████████████████████████████████████████████████████████████████████████████████████████████████████████████████████| 27/27 [00:02<00:00, 12.45it/s]\n"
     ]
    },
    {
     "name": "stdout",
     "output_type": "stream",
     "text": [
      "\n",
      "📊 VALIDATION SUMMARY:\n",
      "\n",
      "📊 VALIDATION DETAILED METRICS:\n",
      "   🏥 Disease Classification:\n",
      "      Overall Accuracy: 0.9953\n",
      "      Weighted Precision: 0.9954\n",
      "      Weighted Recall: 0.9953\n",
      "      Weighted F1: 0.9953\n",
      "      Macro Precision: 0.9954\n",
      "      Macro Recall: 0.9953\n",
      "      Macro F1: 0.9953\n",
      "   🎯 Transcription:\n",
      "      Overall WER: 0.0551\n",
      "      Overall CER: 0.0387\n",
      "   📈 Per-Class Disease Classification:\n",
      "      Class        Prec   Rec    F1     Support \n",
      "      ----------------------------------------\n",
      "      Normal       0.986 1.000 0.993 71      \n",
      "      Dysphonia    1.000 1.000 1.000 71      \n",
      "      Dysarthria   1.000 0.986 0.993 71      \n",
      "   📝 Per-Class Transcription:\n",
      "      Class        WER    CER    Samples  Valid   \n",
      "      ------------------------------------------------\n",
      "      Normal       0.069 0.047 71       71      \n",
      "      Dysphonia    0.037 0.026 71       71      \n",
      "      Dysarthria   0.065 0.048 71       71      \n",
      "⏳ No improvement. Patience: 1/10\n",
      "\n",
      "============================================================\n",
      "EPOCH 15/50\n",
      "============================================================\n"
     ]
    },
    {
     "name": "stderr",
     "output_type": "stream",
     "text": [
      "Training Epoch 15: 100%|██████████████████████████████████████████████████████████████████████████████████████████████████████████████████████████| 109/109 [00:55<00:00,  1.96it/s]\n"
     ]
    },
    {
     "name": "stdout",
     "output_type": "stream",
     "text": [
      "\n",
      "📈 TRAINING EPOCH 15 SUMMARY:\n",
      "   Loss: 0.0017 (α·Cls: 0.0011, β·Trans: 0.0037)\n",
      "   Weights: α=0.7465, β=0.2535\n",
      "   Disease: Acc=1.0000, W-P=1.0000, W-R=1.0000, W-F1=1.0000\n",
      "   Speech: WER=0.0292, CER=0.0215\n"
     ]
    },
    {
     "name": "stderr",
     "output_type": "stream",
     "text": [
      "Evaluating: 100%|███████████████████████████████████████████████████████████████████████████████████████████████████████████████████████████████████| 27/27 [00:02<00:00, 12.54it/s]\n"
     ]
    },
    {
     "name": "stdout",
     "output_type": "stream",
     "text": [
      "\n",
      "📊 VALIDATION SUMMARY:\n",
      "\n",
      "📊 VALIDATION DETAILED METRICS:\n",
      "   🏥 Disease Classification:\n",
      "      Overall Accuracy: 1.0000\n",
      "      Weighted Precision: 1.0000\n",
      "      Weighted Recall: 1.0000\n",
      "      Weighted F1: 1.0000\n",
      "      Macro Precision: 1.0000\n",
      "      Macro Recall: 1.0000\n",
      "      Macro F1: 1.0000\n",
      "   🎯 Transcription:\n",
      "      Overall WER: 0.0594\n",
      "      Overall CER: 0.0422\n",
      "   📈 Per-Class Disease Classification:\n",
      "      Class        Prec   Rec    F1     Support \n",
      "      ----------------------------------------\n",
      "      Normal       1.000 1.000 1.000 71      \n",
      "      Dysphonia    1.000 1.000 1.000 71      \n",
      "      Dysarthria   1.000 1.000 1.000 71      \n",
      "   📝 Per-Class Transcription:\n",
      "      Class        WER    CER    Samples  Valid   \n",
      "      ------------------------------------------------\n",
      "      Normal       0.081 0.056 71       71      \n",
      "      Dysphonia    0.037 0.026 71       71      \n",
      "      Dysarthria   0.065 0.049 71       71      \n",
      "✅ Best model saved: ../checkpoints_exp/checkpoints_base_encoder_learning_new_ffmpeg/best_multitask_model_base.pt\n",
      "\n",
      "============================================================\n",
      "EPOCH 16/50\n",
      "============================================================\n"
     ]
    },
    {
     "name": "stderr",
     "output_type": "stream",
     "text": [
      "Training Epoch 16: 100%|██████████████████████████████████████████████████████████████████████████████████████████████████████████████████████████| 109/109 [00:54<00:00,  2.01it/s]\n"
     ]
    },
    {
     "name": "stdout",
     "output_type": "stream",
     "text": [
      "\n",
      "📈 TRAINING EPOCH 16 SUMMARY:\n",
      "   Loss: 0.0013 (α·Cls: 0.0008, β·Trans: 0.0029)\n",
      "   Weights: α=0.7465, β=0.2535\n",
      "   Disease: Acc=1.0000, W-P=1.0000, W-R=1.0000, W-F1=1.0000\n",
      "   Speech: WER=0.0265, CER=0.0194\n"
     ]
    },
    {
     "name": "stderr",
     "output_type": "stream",
     "text": [
      "Evaluating: 100%|███████████████████████████████████████████████████████████████████████████████████████████████████████████████████████████████████| 27/27 [00:02<00:00, 12.52it/s]\n"
     ]
    },
    {
     "name": "stdout",
     "output_type": "stream",
     "text": [
      "\n",
      "📊 VALIDATION SUMMARY:\n",
      "\n",
      "📊 VALIDATION DETAILED METRICS:\n",
      "   🏥 Disease Classification:\n",
      "      Overall Accuracy: 1.0000\n",
      "      Weighted Precision: 1.0000\n",
      "      Weighted Recall: 1.0000\n",
      "      Weighted F1: 1.0000\n",
      "      Macro Precision: 1.0000\n",
      "      Macro Recall: 1.0000\n",
      "      Macro F1: 1.0000\n",
      "   🎯 Transcription:\n",
      "      Overall WER: 0.0537\n",
      "      Overall CER: 0.0378\n",
      "   📈 Per-Class Disease Classification:\n",
      "      Class        Prec   Rec    F1     Support \n",
      "      ----------------------------------------\n",
      "      Normal       1.000 1.000 1.000 71      \n",
      "      Dysphonia    1.000 1.000 1.000 71      \n",
      "      Dysarthria   1.000 1.000 1.000 71      \n",
      "   📝 Per-Class Transcription:\n",
      "      Class        WER    CER    Samples  Valid   \n",
      "      ------------------------------------------------\n",
      "      Normal       0.064 0.045 71       71      \n",
      "      Dysphonia    0.037 0.025 71       71      \n",
      "      Dysarthria   0.065 0.048 71       71      \n",
      "✅ Best model saved: ../checkpoints_exp/checkpoints_base_encoder_learning_new_ffmpeg/best_multitask_model_base.pt\n",
      "\n",
      "============================================================\n",
      "EPOCH 17/50\n",
      "============================================================\n"
     ]
    },
    {
     "name": "stderr",
     "output_type": "stream",
     "text": [
      "Training Epoch 17: 100%|██████████████████████████████████████████████████████████████████████████████████████████████████████████████████████████| 109/109 [00:53<00:00,  2.03it/s]\n"
     ]
    },
    {
     "name": "stdout",
     "output_type": "stream",
     "text": [
      "\n",
      "📈 TRAINING EPOCH 17 SUMMARY:\n",
      "   Loss: 0.0009 (α·Cls: 0.0005, β·Trans: 0.0022)\n",
      "   Weights: α=0.7465, β=0.2535\n",
      "   Disease: Acc=1.0000, W-P=1.0000, W-R=1.0000, W-F1=1.0000\n",
      "   Speech: WER=0.0324, CER=0.0235\n"
     ]
    },
    {
     "name": "stderr",
     "output_type": "stream",
     "text": [
      "Evaluating: 100%|███████████████████████████████████████████████████████████████████████████████████████████████████████████████████████████████████| 27/27 [00:02<00:00, 12.63it/s]\n"
     ]
    },
    {
     "name": "stdout",
     "output_type": "stream",
     "text": [
      "\n",
      "📊 VALIDATION SUMMARY:\n",
      "\n",
      "📊 VALIDATION DETAILED METRICS:\n",
      "   🏥 Disease Classification:\n",
      "      Overall Accuracy: 0.9953\n",
      "      Weighted Precision: 0.9954\n",
      "      Weighted Recall: 0.9953\n",
      "      Weighted F1: 0.9953\n",
      "      Macro Precision: 0.9954\n",
      "      Macro Recall: 0.9953\n",
      "      Macro F1: 0.9953\n",
      "   🎯 Transcription:\n",
      "      Overall WER: 0.0636\n",
      "      Overall CER: 0.0450\n",
      "   📈 Per-Class Disease Classification:\n",
      "      Class        Prec   Rec    F1     Support \n",
      "      ----------------------------------------\n",
      "      Normal       0.986 1.000 0.993 71      \n",
      "      Dysphonia    1.000 0.986 0.993 71      \n",
      "      Dysarthria   1.000 1.000 1.000 71      \n",
      "   📝 Per-Class Transcription:\n",
      "      Class        WER    CER    Samples  Valid   \n",
      "      ------------------------------------------------\n",
      "      Normal       0.091 0.063 71       71      \n",
      "      Dysphonia    0.039 0.027 71       71      \n",
      "      Dysarthria   0.065 0.048 71       71      \n",
      "⏳ No improvement. Patience: 1/10\n",
      "\n",
      "============================================================\n",
      "EPOCH 18/50\n",
      "============================================================\n"
     ]
    },
    {
     "name": "stderr",
     "output_type": "stream",
     "text": [
      "Training Epoch 18: 100%|██████████████████████████████████████████████████████████████████████████████████████████████████████████████████████████| 109/109 [00:54<00:00,  2.01it/s]\n"
     ]
    },
    {
     "name": "stdout",
     "output_type": "stream",
     "text": [
      "\n",
      "📈 TRAINING EPOCH 18 SUMMARY:\n",
      "   Loss: 0.0007 (α·Cls: 0.0004, β·Trans: 0.0017)\n",
      "   Weights: α=0.7465, β=0.2535\n",
      "   Disease: Acc=1.0000, W-P=1.0000, W-R=1.0000, W-F1=1.0000\n",
      "   Speech: WER=0.0317, CER=0.0229\n"
     ]
    },
    {
     "name": "stderr",
     "output_type": "stream",
     "text": [
      "Evaluating: 100%|███████████████████████████████████████████████████████████████████████████████████████████████████████████████████████████████████| 27/27 [00:02<00:00, 12.59it/s]\n"
     ]
    },
    {
     "name": "stdout",
     "output_type": "stream",
     "text": [
      "\n",
      "📊 VALIDATION SUMMARY:\n",
      "\n",
      "📊 VALIDATION DETAILED METRICS:\n",
      "   🏥 Disease Classification:\n",
      "      Overall Accuracy: 1.0000\n",
      "      Weighted Precision: 1.0000\n",
      "      Weighted Recall: 1.0000\n",
      "      Weighted F1: 1.0000\n",
      "      Macro Precision: 1.0000\n",
      "      Macro Recall: 1.0000\n",
      "      Macro F1: 1.0000\n",
      "   🎯 Transcription:\n",
      "      Overall WER: 0.0646\n",
      "      Overall CER: 0.0448\n",
      "   📈 Per-Class Disease Classification:\n",
      "      Class        Prec   Rec    F1     Support \n",
      "      ----------------------------------------\n",
      "      Normal       1.000 1.000 1.000 71      \n",
      "      Dysphonia    1.000 1.000 1.000 71      \n",
      "      Dysarthria   1.000 1.000 1.000 71      \n",
      "   📝 Per-Class Transcription:\n",
      "      Class        WER    CER    Samples  Valid   \n",
      "      ------------------------------------------------\n",
      "      Normal       0.095 0.066 71       71      \n",
      "      Dysphonia    0.038 0.024 71       71      \n",
      "      Dysarthria   0.065 0.048 71       71      \n",
      "⏳ No improvement. Patience: 2/10\n",
      "\n",
      "============================================================\n",
      "EPOCH 19/50\n",
      "============================================================\n"
     ]
    },
    {
     "name": "stderr",
     "output_type": "stream",
     "text": [
      "Training Epoch 19: 100%|██████████████████████████████████████████████████████████████████████████████████████████████████████████████████████████| 109/109 [00:54<00:00,  2.01it/s]\n"
     ]
    },
    {
     "name": "stdout",
     "output_type": "stream",
     "text": [
      "\n",
      "📈 TRAINING EPOCH 19 SUMMARY:\n",
      "   Loss: 0.0006 (α·Cls: 0.0003, β·Trans: 0.0013)\n",
      "   Weights: α=0.7465, β=0.2535\n",
      "   Disease: Acc=1.0000, W-P=1.0000, W-R=1.0000, W-F1=1.0000\n",
      "   Speech: WER=0.0346, CER=0.0250\n"
     ]
    },
    {
     "name": "stderr",
     "output_type": "stream",
     "text": [
      "Evaluating: 100%|███████████████████████████████████████████████████████████████████████████████████████████████████████████████████████████████████| 27/27 [00:02<00:00, 12.65it/s]\n"
     ]
    },
    {
     "name": "stdout",
     "output_type": "stream",
     "text": [
      "\n",
      "📊 VALIDATION SUMMARY:\n",
      "\n",
      "📊 VALIDATION DETAILED METRICS:\n",
      "   🏥 Disease Classification:\n",
      "      Overall Accuracy: 1.0000\n",
      "      Weighted Precision: 1.0000\n",
      "      Weighted Recall: 1.0000\n",
      "      Weighted F1: 1.0000\n",
      "      Macro Precision: 1.0000\n",
      "      Macro Recall: 1.0000\n",
      "      Macro F1: 1.0000\n",
      "   🎯 Transcription:\n",
      "      Overall WER: 0.0689\n",
      "      Overall CER: 0.0482\n",
      "   📈 Per-Class Disease Classification:\n",
      "      Class        Prec   Rec    F1     Support \n",
      "      ----------------------------------------\n",
      "      Normal       1.000 1.000 1.000 71      \n",
      "      Dysphonia    1.000 1.000 1.000 71      \n",
      "      Dysarthria   1.000 1.000 1.000 71      \n",
      "   📝 Per-Class Transcription:\n",
      "      Class        WER    CER    Samples  Valid   \n",
      "      ------------------------------------------------\n",
      "      Normal       0.108 0.075 71       71      \n",
      "      Dysphonia    0.038 0.025 71       71      \n",
      "      Dysarthria   0.065 0.048 71       71      \n",
      "✅ Best model saved: ../checkpoints_exp/checkpoints_base_encoder_learning_new_ffmpeg/best_multitask_model_base.pt\n",
      "\n",
      "============================================================\n",
      "EPOCH 20/50\n",
      "============================================================\n"
     ]
    },
    {
     "name": "stderr",
     "output_type": "stream",
     "text": [
      "Training Epoch 20: 100%|██████████████████████████████████████████████████████████████████████████████████████████████████████████████████████████| 109/109 [00:53<00:00,  2.03it/s]\n"
     ]
    },
    {
     "name": "stdout",
     "output_type": "stream",
     "text": [
      "\n",
      "📈 TRAINING EPOCH 20 SUMMARY:\n",
      "   Loss: 0.0005 (α·Cls: 0.0003, β·Trans: 0.0011)\n",
      "   Weights: α=0.7465, β=0.2535\n",
      "   Disease: Acc=1.0000, W-P=1.0000, W-R=1.0000, W-F1=1.0000\n",
      "   Speech: WER=0.0377, CER=0.0272\n"
     ]
    },
    {
     "name": "stderr",
     "output_type": "stream",
     "text": [
      "Evaluating: 100%|███████████████████████████████████████████████████████████████████████████████████████████████████████████████████████████████████| 27/27 [00:02<00:00, 12.73it/s]\n"
     ]
    },
    {
     "name": "stdout",
     "output_type": "stream",
     "text": [
      "\n",
      "📊 VALIDATION SUMMARY:\n",
      "\n",
      "📊 VALIDATION DETAILED METRICS:\n",
      "   🏥 Disease Classification:\n",
      "      Overall Accuracy: 0.9953\n",
      "      Weighted Precision: 0.9954\n",
      "      Weighted Recall: 0.9953\n",
      "      Weighted F1: 0.9953\n",
      "      Macro Precision: 0.9954\n",
      "      Macro Recall: 0.9953\n",
      "      Macro F1: 0.9953\n",
      "   🎯 Transcription:\n",
      "      Overall WER: 0.0646\n",
      "      Overall CER: 0.0450\n",
      "   📈 Per-Class Disease Classification:\n",
      "      Class        Prec   Rec    F1     Support \n",
      "      ----------------------------------------\n",
      "      Normal       0.986 1.000 0.993 71      \n",
      "      Dysphonia    1.000 0.986 0.993 71      \n",
      "      Dysarthria   1.000 1.000 1.000 71      \n",
      "   📝 Per-Class Transcription:\n",
      "      Class        WER    CER    Samples  Valid   \n",
      "      ------------------------------------------------\n",
      "      Normal       0.099 0.069 71       71      \n",
      "      Dysphonia    0.034 0.022 71       71      \n",
      "      Dysarthria   0.065 0.048 71       71      \n",
      "⏳ No improvement. Patience: 1/10\n",
      "\n",
      "============================================================\n",
      "EPOCH 21/50\n",
      "============================================================\n"
     ]
    },
    {
     "name": "stderr",
     "output_type": "stream",
     "text": [
      "Training Epoch 21: 100%|██████████████████████████████████████████████████████████████████████████████████████████████████████████████████████████| 109/109 [00:53<00:00,  2.02it/s]\n"
     ]
    },
    {
     "name": "stdout",
     "output_type": "stream",
     "text": [
      "\n",
      "📈 TRAINING EPOCH 21 SUMMARY:\n",
      "   Loss: 0.0004 (α·Cls: 0.0002, β·Trans: 0.0010)\n",
      "   Weights: α=0.7465, β=0.2535\n",
      "   Disease: Acc=1.0000, W-P=1.0000, W-R=1.0000, W-F1=1.0000\n",
      "   Speech: WER=0.0364, CER=0.0263\n"
     ]
    },
    {
     "name": "stderr",
     "output_type": "stream",
     "text": [
      "Evaluating: 100%|███████████████████████████████████████████████████████████████████████████████████████████████████████████████████████████████████| 27/27 [00:02<00:00, 12.62it/s]\n"
     ]
    },
    {
     "name": "stdout",
     "output_type": "stream",
     "text": [
      "\n",
      "📊 VALIDATION SUMMARY:\n",
      "\n",
      "📊 VALIDATION DETAILED METRICS:\n",
      "   🏥 Disease Classification:\n",
      "      Overall Accuracy: 0.9953\n",
      "      Weighted Precision: 0.9954\n",
      "      Weighted Recall: 0.9953\n",
      "      Weighted F1: 0.9953\n",
      "      Macro Precision: 0.9954\n",
      "      Macro Recall: 0.9953\n",
      "      Macro F1: 0.9953\n",
      "   🎯 Transcription:\n",
      "      Overall WER: 0.0651\n",
      "      Overall CER: 0.0455\n",
      "   📈 Per-Class Disease Classification:\n",
      "      Class        Prec   Rec    F1     Support \n",
      "      ----------------------------------------\n",
      "      Normal       0.986 1.000 0.993 71      \n",
      "      Dysphonia    1.000 0.986 0.993 71      \n",
      "      Dysarthria   1.000 1.000 1.000 71      \n",
      "   📝 Per-Class Transcription:\n",
      "      Class        WER    CER    Samples  Valid   \n",
      "      ------------------------------------------------\n",
      "      Normal       0.101 0.071 71       71      \n",
      "      Dysphonia    0.034 0.022 71       71      \n",
      "      Dysarthria   0.065 0.048 71       71      \n",
      "⏳ No improvement. Patience: 2/10\n",
      "\n",
      "============================================================\n",
      "EPOCH 22/50\n",
      "============================================================\n"
     ]
    },
    {
     "name": "stderr",
     "output_type": "stream",
     "text": [
      "Training Epoch 22: 100%|██████████████████████████████████████████████████████████████████████████████████████████████████████████████████████████| 109/109 [00:53<00:00,  2.02it/s]\n"
     ]
    },
    {
     "name": "stdout",
     "output_type": "stream",
     "text": [
      "\n",
      "📈 TRAINING EPOCH 22 SUMMARY:\n",
      "   Loss: 0.0004 (α·Cls: 0.0002, β·Trans: 0.0009)\n",
      "   Weights: α=0.7465, β=0.2535\n",
      "   Disease: Acc=1.0000, W-P=1.0000, W-R=1.0000, W-F1=1.0000\n",
      "   Speech: WER=0.0380, CER=0.0275\n"
     ]
    },
    {
     "name": "stderr",
     "output_type": "stream",
     "text": [
      "Evaluating: 100%|███████████████████████████████████████████████████████████████████████████████████████████████████████████████████████████████████| 27/27 [00:02<00:00, 12.68it/s]\n"
     ]
    },
    {
     "name": "stdout",
     "output_type": "stream",
     "text": [
      "\n",
      "📊 VALIDATION SUMMARY:\n",
      "\n",
      "📊 VALIDATION DETAILED METRICS:\n",
      "   🏥 Disease Classification:\n",
      "      Overall Accuracy: 0.9906\n",
      "      Weighted Precision: 0.9909\n",
      "      Weighted Recall: 0.9906\n",
      "      Weighted F1: 0.9906\n",
      "      Macro Precision: 0.9909\n",
      "      Macro Recall: 0.9906\n",
      "      Macro F1: 0.9906\n",
      "   🎯 Transcription:\n",
      "      Overall WER: 0.0636\n",
      "      Overall CER: 0.0445\n",
      "   📈 Per-Class Disease Classification:\n",
      "      Class        Prec   Rec    F1     Support \n",
      "      ----------------------------------------\n",
      "      Normal       0.973 1.000 0.986 71      \n",
      "      Dysphonia    1.000 0.986 0.993 71      \n",
      "      Dysarthria   1.000 0.986 0.993 71      \n",
      "   📝 Per-Class Transcription:\n",
      "      Class        WER    CER    Samples  Valid   \n",
      "      ------------------------------------------------\n",
      "      Normal       0.098 0.069 71       71      \n",
      "      Dysphonia    0.033 0.021 71       71      \n",
      "      Dysarthria   0.065 0.048 71       71      \n",
      "⏳ No improvement. Patience: 3/10\n",
      "\n",
      "============================================================\n",
      "EPOCH 23/50\n",
      "============================================================\n"
     ]
    },
    {
     "name": "stderr",
     "output_type": "stream",
     "text": [
      "Training Epoch 23: 100%|██████████████████████████████████████████████████████████████████████████████████████████████████████████████████████████| 109/109 [00:53<00:00,  2.03it/s]\n"
     ]
    },
    {
     "name": "stdout",
     "output_type": "stream",
     "text": [
      "\n",
      "📈 TRAINING EPOCH 23 SUMMARY:\n",
      "   Loss: 0.0003 (α·Cls: 0.0002, β·Trans: 0.0008)\n",
      "   Weights: α=0.7465, β=0.2535\n",
      "   Disease: Acc=1.0000, W-P=1.0000, W-R=1.0000, W-F1=1.0000\n",
      "   Speech: WER=0.0363, CER=0.0262\n"
     ]
    },
    {
     "name": "stderr",
     "output_type": "stream",
     "text": [
      "Evaluating: 100%|███████████████████████████████████████████████████████████████████████████████████████████████████████████████████████████████████| 27/27 [00:02<00:00, 12.72it/s]\n"
     ]
    },
    {
     "name": "stdout",
     "output_type": "stream",
     "text": [
      "\n",
      "📊 VALIDATION SUMMARY:\n",
      "\n",
      "📊 VALIDATION DETAILED METRICS:\n",
      "   🏥 Disease Classification:\n",
      "      Overall Accuracy: 0.9906\n",
      "      Weighted Precision: 0.9909\n",
      "      Weighted Recall: 0.9906\n",
      "      Weighted F1: 0.9906\n",
      "      Macro Precision: 0.9909\n",
      "      Macro Recall: 0.9906\n",
      "      Macro F1: 0.9906\n",
      "   🎯 Transcription:\n",
      "      Overall WER: 0.0608\n",
      "      Overall CER: 0.0427\n",
      "   📈 Per-Class Disease Classification:\n",
      "      Class        Prec   Rec    F1     Support \n",
      "      ----------------------------------------\n",
      "      Normal       0.973 1.000 0.986 71      \n",
      "      Dysphonia    1.000 0.986 0.993 71      \n",
      "      Dysarthria   1.000 0.986 0.993 71      \n",
      "   📝 Per-Class Transcription:\n",
      "      Class        WER    CER    Samples  Valid   \n",
      "      ------------------------------------------------\n",
      "      Normal       0.095 0.067 71       71      \n",
      "      Dysphonia    0.030 0.020 71       71      \n",
      "      Dysarthria   0.064 0.046 71       71      \n",
      "⏳ No improvement. Patience: 4/10\n",
      "\n",
      "============================================================\n",
      "EPOCH 24/50\n",
      "============================================================\n"
     ]
    },
    {
     "name": "stderr",
     "output_type": "stream",
     "text": [
      "Training Epoch 24: 100%|██████████████████████████████████████████████████████████████████████████████████████████████████████████████████████████| 109/109 [00:53<00:00,  2.03it/s]\n"
     ]
    },
    {
     "name": "stdout",
     "output_type": "stream",
     "text": [
      "\n",
      "📈 TRAINING EPOCH 24 SUMMARY:\n",
      "   Loss: 0.0003 (α·Cls: 0.0001, β·Trans: 0.0007)\n",
      "   Weights: α=0.7465, β=0.2535\n",
      "   Disease: Acc=1.0000, W-P=1.0000, W-R=1.0000, W-F1=1.0000\n",
      "   Speech: WER=0.0322, CER=0.0234\n"
     ]
    },
    {
     "name": "stderr",
     "output_type": "stream",
     "text": [
      "Evaluating: 100%|███████████████████████████████████████████████████████████████████████████████████████████████████████████████████████████████████| 27/27 [00:02<00:00, 12.47it/s]\n"
     ]
    },
    {
     "name": "stdout",
     "output_type": "stream",
     "text": [
      "\n",
      "📊 VALIDATION SUMMARY:\n",
      "\n",
      "📊 VALIDATION DETAILED METRICS:\n",
      "   🏥 Disease Classification:\n",
      "      Overall Accuracy: 0.9906\n",
      "      Weighted Precision: 0.9909\n",
      "      Weighted Recall: 0.9906\n",
      "      Weighted F1: 0.9906\n",
      "      Macro Precision: 0.9909\n",
      "      Macro Recall: 0.9906\n",
      "      Macro F1: 0.9906\n",
      "   🎯 Transcription:\n",
      "      Overall WER: 0.0579\n",
      "      Overall CER: 0.0406\n",
      "   📈 Per-Class Disease Classification:\n",
      "      Class        Prec   Rec    F1     Support \n",
      "      ----------------------------------------\n",
      "      Normal       0.973 1.000 0.986 71      \n",
      "      Dysphonia    1.000 0.986 0.993 71      \n",
      "      Dysarthria   1.000 0.986 0.993 71      \n",
      "   📝 Per-Class Transcription:\n",
      "      Class        WER    CER    Samples  Valid   \n",
      "      ------------------------------------------------\n",
      "      Normal       0.087 0.061 71       71      \n",
      "      Dysphonia    0.030 0.020 71       71      \n",
      "      Dysarthria   0.064 0.046 71       71      \n",
      "⏳ No improvement. Patience: 5/10\n",
      "\n",
      "============================================================\n",
      "EPOCH 25/50\n",
      "============================================================\n"
     ]
    },
    {
     "name": "stderr",
     "output_type": "stream",
     "text": [
      "Training Epoch 25: 100%|██████████████████████████████████████████████████████████████████████████████████████████████████████████████████████████| 109/109 [00:53<00:00,  2.03it/s]\n"
     ]
    },
    {
     "name": "stdout",
     "output_type": "stream",
     "text": [
      "\n",
      "📈 TRAINING EPOCH 25 SUMMARY:\n",
      "   Loss: 0.0003 (α·Cls: 0.0001, β·Trans: 0.0006)\n",
      "   Weights: α=0.7465, β=0.2535\n",
      "   Disease: Acc=1.0000, W-P=1.0000, W-R=1.0000, W-F1=1.0000\n",
      "   Speech: WER=0.0334, CER=0.0243\n"
     ]
    },
    {
     "name": "stderr",
     "output_type": "stream",
     "text": [
      "Evaluating: 100%|███████████████████████████████████████████████████████████████████████████████████████████████████████████████████████████████████| 27/27 [00:02<00:00, 12.76it/s]\n"
     ]
    },
    {
     "name": "stdout",
     "output_type": "stream",
     "text": [
      "\n",
      "📊 VALIDATION SUMMARY:\n",
      "\n",
      "📊 VALIDATION DETAILED METRICS:\n",
      "   🏥 Disease Classification:\n",
      "      Overall Accuracy: 0.9906\n",
      "      Weighted Precision: 0.9909\n",
      "      Weighted Recall: 0.9906\n",
      "      Weighted F1: 0.9906\n",
      "      Macro Precision: 0.9909\n",
      "      Macro Recall: 0.9906\n",
      "      Macro F1: 0.9906\n",
      "   🎯 Transcription:\n",
      "      Overall WER: 0.0598\n",
      "      Overall CER: 0.0420\n",
      "   📈 Per-Class Disease Classification:\n",
      "      Class        Prec   Rec    F1     Support \n",
      "      ----------------------------------------\n",
      "      Normal       0.973 1.000 0.986 71      \n",
      "      Dysphonia    1.000 0.986 0.993 71      \n",
      "      Dysarthria   1.000 0.986 0.993 71      \n",
      "   📝 Per-Class Transcription:\n",
      "      Class        WER    CER    Samples  Valid   \n",
      "      ------------------------------------------------\n",
      "      Normal       0.092 0.065 71       71      \n",
      "      Dysphonia    0.030 0.020 71       71      \n",
      "      Dysarthria   0.064 0.046 71       71      \n",
      "⏳ No improvement. Patience: 6/10\n",
      "\n",
      "============================================================\n",
      "EPOCH 26/50\n",
      "============================================================\n"
     ]
    },
    {
     "name": "stderr",
     "output_type": "stream",
     "text": [
      "Training Epoch 26: 100%|██████████████████████████████████████████████████████████████████████████████████████████████████████████████████████████| 109/109 [00:53<00:00,  2.03it/s]\n"
     ]
    },
    {
     "name": "stdout",
     "output_type": "stream",
     "text": [
      "\n",
      "📈 TRAINING EPOCH 26 SUMMARY:\n",
      "   Loss: 0.0002 (α·Cls: 0.0001, β·Trans: 0.0006)\n",
      "   Weights: α=0.7465, β=0.2535\n",
      "   Disease: Acc=1.0000, W-P=1.0000, W-R=1.0000, W-F1=1.0000\n",
      "   Speech: WER=0.0313, CER=0.0227\n"
     ]
    },
    {
     "name": "stderr",
     "output_type": "stream",
     "text": [
      "Evaluating: 100%|███████████████████████████████████████████████████████████████████████████████████████████████████████████████████████████████████| 27/27 [00:02<00:00, 12.68it/s]\n"
     ]
    },
    {
     "name": "stdout",
     "output_type": "stream",
     "text": [
      "\n",
      "📊 VALIDATION SUMMARY:\n",
      "\n",
      "📊 VALIDATION DETAILED METRICS:\n",
      "   🏥 Disease Classification:\n",
      "      Overall Accuracy: 0.9906\n",
      "      Weighted Precision: 0.9909\n",
      "      Weighted Recall: 0.9906\n",
      "      Weighted F1: 0.9906\n",
      "      Macro Precision: 0.9909\n",
      "      Macro Recall: 0.9906\n",
      "      Macro F1: 0.9906\n",
      "   🎯 Transcription:\n",
      "      Overall WER: 0.0594\n",
      "      Overall CER: 0.0417\n",
      "   📈 Per-Class Disease Classification:\n",
      "      Class        Prec   Rec    F1     Support \n",
      "      ----------------------------------------\n",
      "      Normal       0.973 1.000 0.986 71      \n",
      "      Dysphonia    1.000 0.986 0.993 71      \n",
      "      Dysarthria   1.000 0.986 0.993 71      \n",
      "   📝 Per-Class Transcription:\n",
      "      Class        WER    CER    Samples  Valid   \n",
      "      ------------------------------------------------\n",
      "      Normal       0.091 0.064 71       71      \n",
      "      Dysphonia    0.030 0.020 71       71      \n",
      "      Dysarthria   0.064 0.046 71       71      \n",
      "⏳ No improvement. Patience: 7/10\n",
      "\n",
      "============================================================\n",
      "EPOCH 27/50\n",
      "============================================================\n"
     ]
    },
    {
     "name": "stderr",
     "output_type": "stream",
     "text": [
      "Training Epoch 27: 100%|██████████████████████████████████████████████████████████████████████████████████████████████████████████████████████████| 109/109 [00:53<00:00,  2.04it/s]\n"
     ]
    },
    {
     "name": "stdout",
     "output_type": "stream",
     "text": [
      "\n",
      "📈 TRAINING EPOCH 27 SUMMARY:\n",
      "   Loss: 0.0002 (α·Cls: 0.0001, β·Trans: 0.0005)\n",
      "   Weights: α=0.7465, β=0.2535\n",
      "   Disease: Acc=1.0000, W-P=1.0000, W-R=1.0000, W-F1=1.0000\n",
      "   Speech: WER=0.0330, CER=0.0241\n"
     ]
    },
    {
     "name": "stderr",
     "output_type": "stream",
     "text": [
      "Evaluating: 100%|███████████████████████████████████████████████████████████████████████████████████████████████████████████████████████████████████| 27/27 [00:02<00:00, 12.78it/s]\n"
     ]
    },
    {
     "name": "stdout",
     "output_type": "stream",
     "text": [
      "\n",
      "📊 VALIDATION SUMMARY:\n",
      "\n",
      "📊 VALIDATION DETAILED METRICS:\n",
      "   🏥 Disease Classification:\n",
      "      Overall Accuracy: 0.9906\n",
      "      Weighted Precision: 0.9909\n",
      "      Weighted Recall: 0.9906\n",
      "      Weighted F1: 0.9906\n",
      "      Macro Precision: 0.9909\n",
      "      Macro Recall: 0.9906\n",
      "      Macro F1: 0.9906\n",
      "   🎯 Transcription:\n",
      "      Overall WER: 0.0589\n",
      "      Overall CER: 0.0413\n",
      "   📈 Per-Class Disease Classification:\n",
      "      Class        Prec   Rec    F1     Support \n",
      "      ----------------------------------------\n",
      "      Normal       0.973 1.000 0.986 71      \n",
      "      Dysphonia    1.000 0.986 0.993 71      \n",
      "      Dysarthria   1.000 0.986 0.993 71      \n",
      "   📝 Per-Class Transcription:\n",
      "      Class        WER    CER    Samples  Valid   \n",
      "      ------------------------------------------------\n",
      "      Normal       0.090 0.063 71       71      \n",
      "      Dysphonia    0.030 0.020 71       71      \n",
      "      Dysarthria   0.064 0.046 71       71      \n",
      "⏳ No improvement. Patience: 8/10\n",
      "\n",
      "============================================================\n",
      "EPOCH 28/50\n",
      "============================================================\n"
     ]
    },
    {
     "name": "stderr",
     "output_type": "stream",
     "text": [
      "Training Epoch 28: 100%|██████████████████████████████████████████████████████████████████████████████████████████████████████████████████████████| 109/109 [00:53<00:00,  2.03it/s]\n"
     ]
    },
    {
     "name": "stdout",
     "output_type": "stream",
     "text": [
      "\n",
      "📈 TRAINING EPOCH 28 SUMMARY:\n",
      "   Loss: 0.0002 (α·Cls: 0.0001, β·Trans: 0.0005)\n",
      "   Weights: α=0.7465, β=0.2535\n",
      "   Disease: Acc=1.0000, W-P=1.0000, W-R=1.0000, W-F1=1.0000\n",
      "   Speech: WER=0.0334, CER=0.0243\n"
     ]
    },
    {
     "name": "stderr",
     "output_type": "stream",
     "text": [
      "Evaluating: 100%|███████████████████████████████████████████████████████████████████████████████████████████████████████████████████████████████████| 27/27 [00:02<00:00, 12.58it/s]\n"
     ]
    },
    {
     "name": "stdout",
     "output_type": "stream",
     "text": [
      "\n",
      "📊 VALIDATION SUMMARY:\n",
      "\n",
      "📊 VALIDATION DETAILED METRICS:\n",
      "   🏥 Disease Classification:\n",
      "      Overall Accuracy: 0.9906\n",
      "      Weighted Precision: 0.9909\n",
      "      Weighted Recall: 0.9906\n",
      "      Weighted F1: 0.9906\n",
      "      Macro Precision: 0.9909\n",
      "      Macro Recall: 0.9906\n",
      "      Macro F1: 0.9906\n",
      "   🎯 Transcription:\n",
      "      Overall WER: 0.0575\n",
      "      Overall CER: 0.0403\n",
      "   📈 Per-Class Disease Classification:\n",
      "      Class        Prec   Rec    F1     Support \n",
      "      ----------------------------------------\n",
      "      Normal       0.973 1.000 0.986 71      \n",
      "      Dysphonia    1.000 0.986 0.993 71      \n",
      "      Dysarthria   1.000 0.986 0.993 71      \n",
      "   📝 Per-Class Transcription:\n",
      "      Class        WER    CER    Samples  Valid   \n",
      "      ------------------------------------------------\n",
      "      Normal       0.085 0.060 71       71      \n",
      "      Dysphonia    0.030 0.020 71       71      \n",
      "      Dysarthria   0.064 0.046 71       71      \n",
      "⏳ No improvement. Patience: 9/10\n",
      "\n",
      "============================================================\n",
      "EPOCH 29/50\n",
      "============================================================\n"
     ]
    },
    {
     "name": "stderr",
     "output_type": "stream",
     "text": [
      "Training Epoch 29: 100%|██████████████████████████████████████████████████████████████████████████████████████████████████████████████████████████| 109/109 [00:53<00:00,  2.04it/s]\n"
     ]
    },
    {
     "name": "stdout",
     "output_type": "stream",
     "text": [
      "\n",
      "📈 TRAINING EPOCH 29 SUMMARY:\n",
      "   Loss: 0.0002 (α·Cls: 0.0001, β·Trans: 0.0005)\n",
      "   Weights: α=0.7465, β=0.2535\n",
      "   Disease: Acc=1.0000, W-P=1.0000, W-R=1.0000, W-F1=1.0000\n",
      "   Speech: WER=0.0331, CER=0.0240\n"
     ]
    },
    {
     "name": "stderr",
     "output_type": "stream",
     "text": [
      "Evaluating: 100%|███████████████████████████████████████████████████████████████████████████████████████████████████████████████████████████████████| 27/27 [00:02<00:00, 12.72it/s]\n"
     ]
    },
    {
     "name": "stdout",
     "output_type": "stream",
     "text": [
      "\n",
      "📊 VALIDATION SUMMARY:\n",
      "\n",
      "📊 VALIDATION DETAILED METRICS:\n",
      "   🏥 Disease Classification:\n",
      "      Overall Accuracy: 0.9906\n",
      "      Weighted Precision: 0.9909\n",
      "      Weighted Recall: 0.9906\n",
      "      Weighted F1: 0.9906\n",
      "      Macro Precision: 0.9909\n",
      "      Macro Recall: 0.9906\n",
      "      Macro F1: 0.9906\n",
      "   🎯 Transcription:\n",
      "      Overall WER: 0.0575\n",
      "      Overall CER: 0.0403\n",
      "   📈 Per-Class Disease Classification:\n",
      "      Class        Prec   Rec    F1     Support \n",
      "      ----------------------------------------\n",
      "      Normal       0.973 1.000 0.986 71      \n",
      "      Dysphonia    1.000 0.986 0.993 71      \n",
      "      Dysarthria   1.000 0.986 0.993 71      \n",
      "   📝 Per-Class Transcription:\n",
      "      Class        WER    CER    Samples  Valid   \n",
      "      ------------------------------------------------\n",
      "      Normal       0.085 0.060 71       71      \n",
      "      Dysphonia    0.030 0.020 71       71      \n",
      "      Dysarthria   0.064 0.046 71       71      \n",
      "⏳ No improvement. Patience: 10/10\n",
      "🛑 Early stopping triggered!\n",
      "\n",
      "🎯 Training completed!\n",
      "Best validation loss: 0.0373\n",
      "\n",
      "================================================================================\n",
      "                        TRAINING COMPLETED SUCCESSFULLY                         \n",
      "================================================================================\n",
      "Best validation loss: 0.0373\n",
      "Best model saved at: ../checkpoints_exp/checkpoints_base_encoder_learning_new_ffmpeg/best_multitask_model_base.pt\n",
      "Training history saved at: ../checkpoints_exp/checkpoints_base_encoder_learning_new_ffmpeg/comprehensive_training_history_base.json\n",
      "\n",
      "Final Training Summary:\n",
      "  Total epochs trained: 28\n",
      "  Best validation loss: 0.0373\n",
      "  Model architecture: Multi-task Whisper with disease classification\n",
      "  Save directory: ../checkpoints_exp/checkpoints_base_encoder_learning_new_ffmpeg/\n",
      "Training configuration saved: ../checkpoints_exp/checkpoints_base_encoder_learning_new_ffmpeg/training_config_base.json\n",
      "\n",
      "================================================================================\n",
      "                          MULTI-TASK TRAINING FINISHED                          \n",
      "================================================================================\n"
     ]
    }
   ],
   "source": [
    "%run train_disease.py --model_size base --epochs 50 --save_dir ../checkpoints_exp/checkpoints_base_encoder_learning_new_ffmpeg/"
   ]
  },
  {
   "cell_type": "code",
   "execution_count": 7,
   "id": "8162a1e2-5377-4c1d-bf28-a95441843c72",
   "metadata": {},
   "outputs": [
    {
     "name": "stdout",
     "output_type": "stream",
     "text": [
      "=== MULTI-TASK MODEL COMPREHENSIVE INFERENCE ===\n",
      "Model: ../checkpoints_exp/checkpoints_base_encoder_learning_new_ffmpeg/best_multitask_model_base.pt\n",
      "Test data: /home/is/lathifgalih-k/research_naist/ast-tts/data/custom_test.csv\n",
      "Device: cuda\n",
      "Loading trained model...\n",
      "=== Multi-Task Learning Trainer (Proper Architecture) ===\n",
      "Device: cuda\n",
      "CUDA device: NVIDIA GeForce RTX 3090\n",
      "CUDA memory: 25.3 GB\n",
      "✔ Whisper model 'base' loaded\n",
      "✔ Tokenizer loaded:\n",
      "  Type: Multilingual\n",
      "  EOT: 50257, SOT: 50258\n",
      "  Disease tokens: {'normal': 50359, 'dysphonia': 50360, 'dysarthria': 50361}\n",
      "✔ Disease token mapping: {'normal': 50359, 'dysphonia': 50360, 'dysarthria': 50361}\n",
      "✔ Disease token position in dataset: 2\n",
      "Vocabulary expansion:\n",
      "  Original size: 51865\n",
      "  New size needed: 51869\n",
      "  Disease tokens: 3\n",
      "Resized embedding layer device: cpu\n",
      "✔ Vocabulary expanded: 51865 → 51869\n",
      "✔ Disease classifier created: 512 → 256 → 3\n",
      "  Group 1 (encoder): 19,822,592 params, LR: 1.00e-06\n",
      "  Group 2 (decoder_layers): 25,448,448 params, LR: 3.00e-06\n",
      "  Group 3 (embeddings): 26,556,928 params, LR: 1.00e-05\n",
      "  Group 4 (disease_classifier): 132,099 params, LR: 1.00e-05\n",
      "✔ Optimizer setup: 4 groups, 71,960,067 total params\n",
      "✔ Trainer initialized successfully\n",
      "  Disease classes: {0: 'normal', 1: 'dysphonia', 2: 'dysarthria'}\n",
      "  Architecture: Shared Encoder + Disease Classifier + Transcription Decoder\n",
      "✔ Model loaded from: ../checkpoints_exp/checkpoints_base_encoder_learning_new_ffmpeg/best_multitask_model_base.pt\n",
      "✔ Architecture: Shared Encoder + Disease Classifier + Transcription Decoder\n",
      "Loading test dataset...\n",
      "Dataset using Multilingual tokenizer\n",
      "✓ Multi-task Dataset loaded: 207 samples\n",
      "✓ Model type: Multilingual\n",
      "✓ EOT token: 50257\n",
      "✓ SOT token: 50258\n",
      "✓ Disease tokens available: ['normal', 'dysphonia', 'dysarthria']\n",
      "✓ Class distribution:\n",
      "   normal (class 0): 69 samples (33.3%)\n",
      "   dysphonia (class 1): 69 samples (33.3%)\n",
      "   dysarthria (class 2): 69 samples (33.3%)\n",
      "Test dataset: 207 samples\n",
      "Running comprehensive model inference...\n",
      "\n",
      "================================================================================\n",
      "                        COMPREHENSIVE INFERENCE RESULTS                         \n",
      "================================================================================\n",
      "\n",
      "📊 OVERALL PERFORMANCE SUMMARY:\n",
      "   Total Samples: 207\n",
      "   ==================================================\n",
      "   🎯 TRANSCRIPTION METRICS:\n",
      "      Overall WER: 0.1009\n",
      "      Overall CER: 0.0632\n",
      "   ==================================================\n",
      "   🏥 DISEASE CLASSIFICATION METRICS:\n",
      "      Accuracy: 1.0000 (207/207)\n",
      "      Weighted Precision: 1.0000\n",
      "      Weighted Recall: 1.0000\n",
      "      Weighted F1-Score: 1.0000\n",
      "   --------------------------------------------------\n",
      "      Macro Precision: 1.0000\n",
      "      Macro Recall: 1.0000\n",
      "      Macro F1-Score: 1.0000\n",
      "\n",
      "📋 SAMPLE PREDICTIONS (First 10):\n",
      "File            True       Pred       WER    CER    Conf   Text                                    \n",
      "----------------------------------------------------------------------------------------------------\n",
      "0054.wav...     normal     normal     0.000 0.000 1.000 You wished to know all about my grand...\n",
      "0055.wav...     normal     normal     0.182 0.056 1.000 He really crucified him he he nailed ...\n",
      "FC45_T2_si10... normal     normal     0.000 0.000 1.000 beer generally fermented from barley ...\n",
      "0170.wav...     normal     normal     0.000 0.000 1.000 We experience distress and frustratio...\n",
      "FC45_T2_si19... normal     normal     0.000 0.000 1.000 if any of us miss they can pick up th...\n",
      "FC41_T2_si46... normal     normal     0.000 0.000 1.000 the prospect of cutting back spending...\n",
      "0755.wav...     normal     normal     0.250 0.140 1.000 When you are through write write a cl...\n",
      "0011.wav...     normal     normal     0.000 0.000 0.998 It's fun to roast marshmallows on a g...\n",
      "0028.wav...     normal     normal     0.375 0.343 1.000 The wait for work can be very long. t...\n",
      "0011.wav...     normal     normal     0.000 0.000 0.891 The wait for work can be very long.     \n",
      "\n",
      "📈 PER-CLASS DETAILED METRICS:\n",
      "Class        Samples  Acc    Prec   Rec    F1     WER    CER   \n",
      "----------------------------------------------------------------------\n",
      "Dysarthria   69       1.000 1.000 1.000 1.000 0.146 0.083\n",
      "Dysphonia    69       1.000 1.000 1.000 1.000 0.017 0.013\n",
      "Normal       69       1.000 1.000 1.000 1.000 0.140 0.094\n",
      "\n",
      "📊 CONFUSION MATRIX:\n",
      "Actual // Predicted Dysarthria  Dysphonia   Normal      \n",
      "---------------------------------------------------\n",
      "Dysarthria      69          0           0           \n",
      "Dysphonia       0           69          0           \n",
      "Normal          0           0           69          \n",
      "\n",
      "📋 DETAILED CLASSIFICATION REPORT:\n",
      "              precision    recall  f1-score   support\n",
      "\n",
      "  Dysarthria     1.0000    1.0000    1.0000        69\n",
      "   Dysphonia     1.0000    1.0000    1.0000        69\n",
      "      Normal     1.0000    1.0000    1.0000        69\n",
      "\n",
      "    accuracy                         1.0000       207\n",
      "   macro avg     1.0000    1.0000    1.0000       207\n",
      "weighted avg     1.0000    1.0000    1.0000       207\n",
      "\n",
      "\n",
      "📊 TRANSCRIPTION QUALITY DISTRIBUTION:\n",
      "   WER Statistics:\n",
      "      Min: 0.0000, Max: 0.8750\n",
      "      Mean: 0.1009\n",
      "      Median: 0.0000\n",
      "   CER Statistics:\n",
      "      Min: 0.0000, Max: 0.6222\n",
      "      Mean: 0.0632\n",
      "      Median: 0.0000\n",
      "\n",
      "   Transcription Quality Buckets:\n",
      "      Perfect (WER=0.0): 130 (62.8%)\n",
      "      Good (0.0<WER≤0.2): 37 (17.9%)\n",
      "      Fair (0.2<WER≤0.5): 34 (16.4%)\n",
      "      Poor (WER>0.5): 6 (2.9%)\n",
      "\n",
      "❌ ERROR ANALYSIS:\n",
      "   Disease Classification Errors: 0 (0.0%)\n",
      "\n",
      "🏆 BEST PERFORMING SAMPLES (Lowest WER + Correct Disease):\n",
      "   1. 0054.wav - WER: 0.000, Disease: normal\n",
      "      Original: You wished to know all about my grandfather....\n",
      "      Predicted: You wished to know all about my grandfather....\n",
      "   2. FC45_T2_si1014_NA.wav - WER: 0.000, Disease: normal\n",
      "      Original: beer generally fermented from barley is an old alcoholic bev...\n",
      "      Predicted: beer generally fermented from barley is an old alcoholic bev...\n",
      "   3. 0170.wav - WER: 0.000, Disease: normal\n",
      "      Original: We experience distress and frustration obtaining our degrees...\n",
      "      Predicted: We experience distress and frustration obtaining our degrees...\n",
      "\n",
      "💥 WORST PERFORMING SAMPLES (Highest WER or Wrong Disease):\n",
      "   1. 0129.wav - WER: 0.875, Disease: ✓\n",
      "      True: normal | Pred: normal (conf: 1.000)\n",
      "      Original: Are your grades higher or lower than Nancy's?...\n",
      "      Predicted: Are your grades higher or lower than Nancy's? the the the th...\n",
      "   2. 0161.wav - WER: 0.750, Disease: ✓\n",
      "      True: normal | Pred: normal (conf: 1.000)\n",
      "      Original: Both figures would go higher in later years....\n",
      "      Predicted: Both figures would go higher in later years. The the the the...\n",
      "   3. 0867.wav - WER: 0.667, Disease: ✓\n",
      "      True: normal | Pred: normal (conf: 1.000)\n",
      "      Original: Chocolate and roses never fail as a romantic gift....\n",
      "      Predicted: Chocolate and roses never fail as a romantic gift. the the t...\n",
      "✓ Detailed results saved: ../checkpoints_exp/checkpoints_base_encoder_learning_new_ffmpeg/inference_results_detailed.json\n",
      "✓ Comprehensive CSV saved: ../checkpoints_exp/checkpoints_base_encoder_learning_new_ffmpeg/inference_results.csv\n",
      "✓ Metrics summary saved: ../checkpoints_exp/checkpoints_base_encoder_learning_new_ffmpeg/inference_results_metrics_summary.txt\n",
      "\n",
      "================================================================================\n",
      "                       COMPREHENSIVE INFERENCE COMPLETED                        \n",
      "================================================================================\n"
     ]
    }
   ],
   "source": [
    "%run inference_disease.py --model_path ../checkpoints_exp/checkpoints_base_encoder_learning_new_ffmpeg/best_multitask_model_base.pt --save_results ../checkpoints_exp/checkpoints_base_encoder_learning_new_ffmpeg/inference_results.csv"
   ]
  }
 ],
 "metadata": {
  "kernelspec": {
   "display_name": "Python 3 (ipykernel)",
   "language": "python",
   "name": "python3"
  },
  "language_info": {
   "codemirror_mode": {
    "name": "ipython",
    "version": 3
   },
   "file_extension": ".py",
   "mimetype": "text/x-python",
   "name": "python",
   "nbconvert_exporter": "python",
   "pygments_lexer": "ipython3",
   "version": "3.10.12"
  }
 },
 "nbformat": 4,
 "nbformat_minor": 5
}
