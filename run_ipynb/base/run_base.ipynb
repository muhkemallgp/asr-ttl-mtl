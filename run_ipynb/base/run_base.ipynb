{
 "cells": [
  {
   "cell_type": "code",
   "execution_count": 1,
   "id": "998b5099-2c22-4e67-82fb-5943f0e4a556",
   "metadata": {},
   "outputs": [
    {
     "name": "stdout",
     "output_type": "stream",
     "text": [
      "/home/cluster-dgxa100/slp03/whisper/whisper_multitaskB/.whisperB/bin/python3\n",
      "/usr/lib/python312.zip\n"
     ]
    }
   ],
   "source": [
    "import sys\n",
    "print(sys.executable)\n",
    "print(sys.path[0])"
   ]
  },
  {
   "cell_type": "code",
   "execution_count": 3,
   "id": "a9577df6-891b-4fd7-a589-04c2dabbb6c3",
   "metadata": {},
   "outputs": [
    {
     "name": "stdout",
     "output_type": "stream",
     "text": [
      "[Errno 2] No such file or directory: 'scripts'\n",
      "/home/cluster-dgxa100/slp03/whisper/whisper_multitaskB/scripts\n"
     ]
    }
   ],
   "source": [
    "%cd scripts"
   ]
  },
  {
   "cell_type": "code",
   "execution_count": 4,
   "id": "c06ce97a-2d7e-409e-9280-fbedbbc341af",
   "metadata": {},
   "outputs": [
    {
     "data": {
      "text/plain": [
       "'/home/cluster-dgxa100/slp03/whisper/whisper_multitaskB/scripts'"
      ]
     },
     "execution_count": 4,
     "metadata": {},
     "output_type": "execute_result"
    }
   ],
   "source": [
    "import os\n",
    "os.getcwd()"
   ]
  },
  {
   "cell_type": "code",
   "execution_count": 5,
   "id": "3663c72e-a64e-405f-847c-80ed9594bc5e",
   "metadata": {},
   "outputs": [
    {
     "name": "stdout",
     "output_type": "stream",
     "text": [
      "Multi-task Training Configuration:\n",
      "  Model: Whisper-base\n",
      "  Mode: multi_task\n",
      "  Device: cuda\n",
      "  Batch sizes: Train=16, Val=8\n",
      "  Loss weights: α=0.7, β=0.3\n",
      "  Audio: librosa (sr=16000, n_mels=80)\n",
      "  Save directory: ../checkpoints/checkpoints_base\n",
      "  Disease tokens: ['normal', 'dysarthria', 'dysphonia']\n",
      "\n",
      "=== Multi-Task Learning Configuration ===\n",
      "Model: Whisper-base\n",
      "Device: cuda\n",
      "Batch sizes: Train=16, Val=8\n",
      "Epochs: 30\n",
      "Learning rate: 5e-05\n",
      "Freeze encoder: True\n",
      "Audio processing: librosa\n",
      "\n",
      "Loading datasets...\n",
      "Multi-task Dataset loaded: 1737 samples\n",
      "Disease tokens available: ['normal', 'dysarthria', 'dysphonia']\n",
      "Class distribution:\n",
      "  normal: 579 samples (33.3%)\n",
      "  dysarthria: 579 samples (33.3%)\n",
      "  dysphonia: 579 samples (33.3%)\n",
      "Multi-task Dataset loaded: 213 samples\n",
      "Disease tokens available: ['normal', 'dysarthria', 'dysphonia']\n",
      "Class distribution:\n",
      "  normal: 71 samples (33.3%)\n",
      "  dysarthria: 71 samples (33.3%)\n",
      "  dysphonia: 71 samples (33.3%)\n",
      "Dataset sizes: Train=1737, Val=213\n",
      "Batches: Train=109, Val=27\n",
      "\n",
      "Initializing multi-task trainer...\n",
      "=== Multi-Task Learning Trainer ===\n",
      "Device: cuda\n",
      "CUDA device: NVIDIA A100-SXM4-40GB\n",
      "CUDA memory: 42.4 GB\n"
     ]
    },
    {
     "name": "stderr",
     "output_type": "stream",
     "text": [
      "100%|███████████████████████████████████████| 139M/139M [00:01<00:00, 74.0MiB/s]\n"
     ]
    },
    {
     "name": "stdout",
     "output_type": "stream",
     "text": [
      "✓ Whisper model loaded on cuda\n",
      "Vocabulary sizes: Original=51865, New=51869\n",
      "Expanding vocabulary: 51865 -> 51869\n",
      "Resized embedding layer device: cuda:0\n",
      "✓ Vocabulary expanded\n",
      "✓ Disease classifier created on cuda\n",
      "✓ Encoder frozen\n",
      "✓ New embeddings added to training: 4 tokens\n",
      "Trainable parameters: 52,139,523\n",
      "✓ Trainer initialized successfully\n",
      "\n",
      "Starting multi-task training...\n",
      "\n",
      "=== Multi-Task Training Started ===\n",
      "Model: Whisper-base\n",
      "Device: cuda\n",
      "Epochs: 30\n",
      "Architecture: Audio → [Encoder] → Features → [Disease Classifier + Decoder]\n",
      "Format: [SOT][EN][DISEASE][TRANSCRIBE][TEXT][EOT]\n",
      "Disease tokens: ['normal', 'dysarthria', 'dysphonia']\n",
      "\n",
      "==================================================\n",
      "EPOCH 1/30\n",
      "==================================================\n",
      "Epoch 1: Updated loss weights α=0.80, β=0.20\n"
     ]
    },
    {
     "name": "stderr",
     "output_type": "stream",
     "text": [
      "Training Epoch 1:   1%|▊                                                                                         | 1/109 [00:08<15:00,  8.33s/it]"
     ]
    },
    {
     "name": "stdout",
     "output_type": "stream",
     "text": [
      "\n",
      "=== METRICS COMPUTATION DEBUG (Batch 1) ===\n",
      "Input shapes:\n",
      "  Transcription logits: torch.Size([16, 19, 51869])\n",
      "  Target tokens: torch.Size([16, 19])\n",
      "  Disease logits: torch.Size([16, 3])\n",
      "  Disease labels: torch.Size([16])\n",
      "  Texts count: 16\n",
      "\n",
      "Sample 0 processing:\n",
      "  Pred tokens (first 15): [50259, 50359, 13, 2812, 51867, 322, 264, 50257, 50257, 1011, 50257, 50257, 20343, 313, 1188]\n",
      "  Target tokens (first 15): [50259, 50360, 50363, 18300, 6618, 322, 264, 661, 1011, 576, 517, 20343, 313, 1188, 17045]\n",
      "  Original text: 'his election on the other hand would unquestionabl...'\n",
      "  Special tokens to remove: [50258, 50259, 50363, 50257, 50359, 50360, 50361]\n",
      "  Text tokens extracted (5): [13, 2812, 51867, 322, 264]...\n",
      "  Final prediction: '. his on the...'\n",
      "  Final reference:  'his election on the other hand...'\n",
      "\n",
      "Sample 1 processing:\n",
      "  Pred tokens (first 15): [50259, 50359, 307, 41453, 260, 656, 490, 38649, 490, 50257, 307, 364, 50257, 35519, 50257]\n",
      "  Target tokens (first 15): [50259, 50360, 50363, 650, 260, 5101, 38649, 490, 47761, 307, 364, 1331, 38075, 35519, 50257]\n",
      "  Original text: 'beer generally fermented from barley is an old alc...'\n",
      "  Special tokens to remove: [50258, 50259, 50363, 50257, 50359, 50360, 50361]\n",
      "  Text tokens extracted (7): [307, 41453, 260, 656, 490, 38649, 490]...\n",
      "  Final prediction: 'is beererang from fermented fr...'\n",
      "  Final reference:  'beer generally fermented from ...'\n",
      "\n",
      "Text pairs summary:\n",
      "  Total pairs created: 16\n",
      "  Non-empty predictions: 11\n",
      "  Sample pairs:\n",
      "    0: '. his on the...' vs 'his election on the ...'\n",
      "    1: 'is beererang from fe...' vs 'beer generally ferme...'\n",
      "    2: '<|translate|>...' vs 'yet he still thinks ...'\n",
      "\n",
      "WER/CER calculation:\n",
      "  Raw WER: 0.642424\n",
      "  Raw CER: 0.584515\n",
      "\n",
      "Classification metrics:\n",
      "  Accuracy: 0.5625\n",
      "  Precision: 0.6062\n",
      "  Recall: 0.5625\n",
      "  F1: 0.5594\n",
      "============================================================\n",
      "\n",
      "=== METRICS COMPUTATION DEBUG (Batch 2) ===\n",
      "Input shapes:\n",
      "  Transcription logits: torch.Size([16, 21, 51869])\n",
      "  Target tokens: torch.Size([16, 21])\n",
      "  Disease logits: torch.Size([16, 3])\n",
      "  Disease labels: torch.Size([16])\n",
      "  Texts count: 16\n"
     ]
    },
    {
     "name": "stderr",
     "output_type": "stream",
     "text": [
      "Training Epoch 1:   2%|█▋                                                                                        | 2/109 [00:08<06:16,  3.52s/it]"
     ]
    },
    {
     "name": "stdout",
     "output_type": "stream",
     "text": [
      "\n",
      "Sample 0 processing:\n",
      "  Pred tokens (first 15): [50259, 50359, 286, 286, 390, 6648, 295, 264, 565, 50257, 50257, 50257, 50257, 50257, 50257]\n",
      "  Target tokens (first 15): [50259, 50361, 50363, 40, 390, 6648, 439, 264, 565, 13, 50257, 50257, 50257, 50257, 50257]\n",
      "  Original text: 'I was conscious all the time....'\n",
      "  Special tokens to remove: [50258, 50259, 50363, 50257, 50359, 50360, 50361]\n",
      "  Text tokens extracted (7): [286, 286, 390, 6648, 295, 264, 565]...\n",
      "  Final prediction: 'i i was conscious of the time...'\n",
      "  Final reference:  'i was conscious all the time....'\n",
      "\n",
      "Sample 1 processing:\n",
      "  Pred tokens (first 15): [50259, 50359, 50257, 1407, 1066, 552, 76, 21986, 385, 293, 390, 2198, 50257, 50257, 443]\n",
      "  Target tokens (first 15): [50259, 50360, 50363, 1353, 1066, 922, 443, 21986, 8344, 293, 1939, 29484, 922, 443, 390]\n",
      "  Original text: 'to keep 'em scattered somewhat and yet herd 'em wa...'\n",
      "  Special tokens to remove: [50258, 50259, 50363, 50257, 50359, 50360, 50361]\n",
      "  Text tokens extracted (0): []...\n",
      "  Final prediction: '...'\n",
      "  Final reference:  'to keep 'em scattered somewhat...'\n",
      "\n",
      "Text pairs summary:\n",
      "  Total pairs created: 16\n",
      "  Non-empty predictions: 11\n",
      "  Sample pairs:\n",
      "    0: 'i i was conscious of...' vs 'i was conscious all ...'\n",
      "    1: '...' vs 'to keep 'em scattere...'\n",
      "    2: '<|translate|> ispl t...' vs 'except in the winter...'\n",
      "\n",
      "WER/CER calculation:\n",
      "  Raw WER: 0.666667\n",
      "  Raw CER: 0.612745\n",
      "\n",
      "Classification metrics:\n",
      "  Accuracy: 0.3750\n",
      "  Precision: 0.4643\n",
      "  Recall: 0.3750\n",
      "  F1: 0.3792\n",
      "============================================================\n",
      "\n",
      "=== METRICS COMPUTATION DEBUG (Batch 3) ===\n",
      "Input shapes:\n",
      "  Transcription logits: torch.Size([16, 22, 51869])\n",
      "  Target tokens: torch.Size([16, 22])\n",
      "  Disease logits: torch.Size([16, 3])\n",
      "  Disease labels: torch.Size([16])\n",
      "  Texts count: 16\n",
      "\n",
      "Sample 0 processing:\n",
      "  Pred tokens (first 15): [50259, 50359, 50363, 883, 1168, 367, 1245, 904, 796, 420, 7700, 796, 281, 20842, 50257]\n",
      "  Target tokens (first 15): [50259, 50359, 50363, 1771, 1168, 367, 1245, 904, 796, 420, 7700, 796, 281, 20842, 50257]\n",
      "  Original text: 'no question ruffles him or causes him to hesitate...'\n",
      "  Special tokens to remove: [50258, 50259, 50363, 50257, 50359, 50360, 50361]\n",
      "  Text tokens extracted (11): [883, 1168, 367, 1245, 904, 796, 420, 7700, 796, 281]...\n",
      "  Final prediction: 'no question ruffles him or cau...'\n",
      "  Final reference:  'no question ruffles him or cau...'\n",
      "\n",
      "Sample 1 processing:\n",
      "  Pred tokens (first 15): [50259, 50359, 50363, 639, 415, 3869, 3038, 466, 39334, 13805, 530, 293, 39334, 2973, 49260]\n",
      "  Target tokens (first 15): [50259, 50359, 50363, 5723, 415, 3869, 3038, 466, 39334, 13805, 530, 293, 39334, 2973, 49260]\n",
      "  Original text: 'This he added brought about petty jealousies and p...'\n",
      "  Special tokens to remove: [50258, 50259, 50363, 50257, 50359, 50360, 50361]\n",
      "  Text tokens extracted (14): [639, 415, 3869, 3038, 466, 39334, 13805, 530, 293, 39334]...\n",
      "  Final prediction: 'this he added brought about pe...'\n",
      "  Final reference:  'this he added brought about pe...'\n",
      "\n",
      "Text pairs summary:\n",
      "  Total pairs created: 16\n",
      "  Non-empty predictions: 13\n",
      "  Sample pairs:\n",
      "    0: 'no question ruffles ...' vs 'no question ruffles ...'\n",
      "    1: 'this he added brough...' vs 'this he added brough...'\n",
      "    2: 'bm., the surface of ...' vs 'palm oil protects th...'\n",
      "\n",
      "WER/CER calculation:\n",
      "  Raw WER: 0.400000\n",
      "  Raw CER: 0.361381\n",
      "\n",
      "Classification metrics:\n",
      "  Accuracy: 0.3125\n",
      "  Precision: 0.3688\n",
      "  Recall: 0.3125\n",
      "  F1: 0.3383\n",
      "============================================================\n"
     ]
    },
    {
     "name": "stderr",
     "output_type": "stream",
     "text": [
      "Training Epoch 1: 100%|████████████████████████████████████████████████████████████████████████████████████████| 109/109 [02:21<00:00,  1.30s/it]\n"
     ]
    },
    {
     "name": "stdout",
     "output_type": "stream",
     "text": [
      "\n",
      "📈 TRAINING METRICS:\n",
      "   Loss: 1.0784 (Cls: 1.0439, Trans: 1.2168)\n",
      "   Disease - Acc: 0.5186, F1: 0.4907\n",
      "   Disease - Prec: 0.5823, Rec: 0.5186\n",
      "   Speech  - WER: 0.2515, CER: 0.2166\n",
      "   Weights - α: 0.80, β: 0.20\n"
     ]
    },
    {
     "name": "stderr",
     "output_type": "stream",
     "text": [
      "Evaluating: 100%|████████████████████████████████████████████████████████████████████████████████████████████████| 27/27 [00:18<00:00,  1.48it/s]\n"
     ]
    },
    {
     "name": "stdout",
     "output_type": "stream",
     "text": [
      "\n",
      "📊 VALIDATION METRICS:\n",
      "   Loss: 0.9728\n",
      "   Disease - Acc: 0.6602, F1: 0.7543\n",
      "   Disease - Prec: 0.9765, Rec: 0.6602\n",
      "   Speech  - WER: 0.2243, CER: 0.2204\n",
      "✅ Best model saved: ../checkpoints/checkpoints_base/best_multitask_model_base.pt\n",
      "\n",
      "==================================================\n",
      "EPOCH 2/30\n",
      "==================================================\n",
      "Epoch 2: Updated loss weights α=0.80, β=0.20\n"
     ]
    },
    {
     "name": "stderr",
     "output_type": "stream",
     "text": [
      "Training Epoch 2: 100%|████████████████████████████████████████████████████████████████████████████████████████| 109/109 [02:23<00:00,  1.32s/it]\n"
     ]
    },
    {
     "name": "stdout",
     "output_type": "stream",
     "text": [
      "\n",
      "📈 TRAINING METRICS:\n",
      "   Loss: 0.8272 (Cls: 0.9524, Trans: 0.3262)\n",
      "   Disease - Acc: 0.6849, F1: 0.6797\n",
      "   Disease - Prec: 0.7641, Rec: 0.6849\n",
      "   Speech  - WER: 0.1336, CER: 0.1102\n",
      "   Weights - α: 0.80, β: 0.20\n"
     ]
    },
    {
     "name": "stderr",
     "output_type": "stream",
     "text": [
      "Evaluating: 100%|████████████████████████████████████████████████████████████████████████████████████████████████| 27/27 [00:14<00:00,  1.81it/s]\n"
     ]
    },
    {
     "name": "stdout",
     "output_type": "stream",
     "text": [
      "\n",
      "📊 VALIDATION METRICS:\n",
      "   Loss: 0.7938\n",
      "   Disease - Acc: 0.7046, F1: 0.8042\n",
      "   Disease - Prec: 0.9792, Rec: 0.7046\n",
      "   Speech  - WER: 0.1448, CER: 0.1054\n",
      "✅ Best model saved: ../checkpoints/checkpoints_base/best_multitask_model_base.pt\n",
      "\n",
      "==================================================\n",
      "EPOCH 3/30\n",
      "==================================================\n",
      "Epoch 3: Updated loss weights α=0.80, β=0.20\n"
     ]
    },
    {
     "name": "stderr",
     "output_type": "stream",
     "text": [
      "Training Epoch 3: 100%|████████████████████████████████████████████████████████████████████████████████████████| 109/109 [02:05<00:00,  1.15s/it]\n"
     ]
    },
    {
     "name": "stdout",
     "output_type": "stream",
     "text": [
      "\n",
      "📈 TRAINING METRICS:\n",
      "   Loss: 0.7103 (Cls: 0.8646, Trans: 0.0930)\n",
      "   Disease - Acc: 0.7289, F1: 0.7271\n",
      "   Disease - Prec: 0.7847, Rec: 0.7289\n",
      "   Speech  - WER: 0.0918, CER: 0.0797\n",
      "   Weights - α: 0.80, β: 0.20\n"
     ]
    },
    {
     "name": "stderr",
     "output_type": "stream",
     "text": [
      "Evaluating: 100%|████████████████████████████████████████████████████████████████████████████████████████████████| 27/27 [00:14<00:00,  1.85it/s]\n"
     ]
    },
    {
     "name": "stdout",
     "output_type": "stream",
     "text": [
      "\n",
      "📊 VALIDATION METRICS:\n",
      "   Loss: 0.7211\n",
      "   Disease - Acc: 0.7417, F1: 0.8339\n",
      "   Disease - Prec: 0.9877, Rec: 0.7417\n",
      "   Speech  - WER: 0.1453, CER: 0.1268\n",
      "✅ Best model saved: ../checkpoints/checkpoints_base/best_multitask_model_base.pt\n",
      "\n",
      "==================================================\n",
      "EPOCH 4/30\n",
      "==================================================\n",
      "Epoch 4: Updated loss weights α=0.80, β=0.20\n"
     ]
    },
    {
     "name": "stderr",
     "output_type": "stream",
     "text": [
      "Training Epoch 4: 100%|████████████████████████████████████████████████████████████████████████████████████████| 109/109 [02:08<00:00,  1.18s/it]\n"
     ]
    },
    {
     "name": "stdout",
     "output_type": "stream",
     "text": [
      "\n",
      "📈 TRAINING METRICS:\n",
      "   Loss: 0.6424 (Cls: 0.7946, Trans: 0.0337)\n",
      "   Disease - Acc: 0.7520, F1: 0.7514\n",
      "   Disease - Prec: 0.8143, Rec: 0.7520\n",
      "   Speech  - WER: 0.0797, CER: 0.0644\n",
      "   Weights - α: 0.80, β: 0.20\n"
     ]
    },
    {
     "name": "stderr",
     "output_type": "stream",
     "text": [
      "Evaluating: 100%|████████████████████████████████████████████████████████████████████████████████████████████████| 27/27 [00:20<00:00,  1.31it/s]\n"
     ]
    },
    {
     "name": "stdout",
     "output_type": "stream",
     "text": [
      "\n",
      "📊 VALIDATION METRICS:\n",
      "   Loss: 0.6591\n",
      "   Disease - Acc: 0.7787, F1: 0.8601\n",
      "   Disease - Prec: 0.9806, Rec: 0.7787\n",
      "   Speech  - WER: 0.1252, CER: 0.0989\n",
      "✅ Best model saved: ../checkpoints/checkpoints_base/best_multitask_model_base.pt\n",
      "\n",
      "==================================================\n",
      "EPOCH 5/30\n",
      "==================================================\n",
      "Epoch 5: Updated loss weights α=0.80, β=0.20\n"
     ]
    },
    {
     "name": "stderr",
     "output_type": "stream",
     "text": [
      "Training Epoch 5: 100%|████████████████████████████████████████████████████████████████████████████████████████| 109/109 [02:46<00:00,  1.53s/it]\n"
     ]
    },
    {
     "name": "stdout",
     "output_type": "stream",
     "text": [
      "\n",
      "📈 TRAINING METRICS:\n",
      "   Loss: 0.5882 (Cls: 0.7310, Trans: 0.0173)\n",
      "   Disease - Acc: 0.7723, F1: 0.7736\n",
      "   Disease - Prec: 0.8174, Rec: 0.7723\n",
      "   Speech  - WER: 0.0805, CER: 0.0689\n",
      "   Weights - α: 0.80, β: 0.20\n"
     ]
    },
    {
     "name": "stderr",
     "output_type": "stream",
     "text": [
      "Evaluating: 100%|████████████████████████████████████████████████████████████████████████████████████████████████| 27/27 [00:20<00:00,  1.30it/s]\n"
     ]
    },
    {
     "name": "stdout",
     "output_type": "stream",
     "text": [
      "\n",
      "📊 VALIDATION METRICS:\n",
      "   Loss: 0.6150\n",
      "   Disease - Acc: 0.7880, F1: 0.8675\n",
      "   Disease - Prec: 0.9877, Rec: 0.7880\n",
      "   Speech  - WER: 0.1266, CER: 0.1015\n",
      "✅ Best model saved: ../checkpoints/checkpoints_base/best_multitask_model_base.pt\n",
      "\n",
      "==================================================\n",
      "EPOCH 6/30\n",
      "==================================================\n",
      "Epoch 6: Updated loss weights α=0.80, β=0.20\n"
     ]
    },
    {
     "name": "stderr",
     "output_type": "stream",
     "text": [
      "Training Epoch 6: 100%|████████████████████████████████████████████████████████████████████████████████████████| 109/109 [02:34<00:00,  1.42s/it]\n"
     ]
    },
    {
     "name": "stdout",
     "output_type": "stream",
     "text": [
      "\n",
      "📈 TRAINING METRICS:\n",
      "   Loss: 0.5403 (Cls: 0.6730, Trans: 0.0098)\n",
      "   Disease - Acc: 0.7867, F1: 0.7858\n",
      "   Disease - Prec: 0.8280, Rec: 0.7867\n",
      "   Speech  - WER: 0.0775, CER: 0.0749\n",
      "   Weights - α: 0.80, β: 0.20\n"
     ]
    },
    {
     "name": "stderr",
     "output_type": "stream",
     "text": [
      "Evaluating: 100%|████████████████████████████████████████████████████████████████████████████████████████████████| 27/27 [00:15<00:00,  1.77it/s]\n"
     ]
    },
    {
     "name": "stdout",
     "output_type": "stream",
     "text": [
      "\n",
      "📊 VALIDATION METRICS:\n",
      "   Loss: 0.5754\n",
      "   Disease - Acc: 0.7741, F1: 0.8573\n",
      "   Disease - Prec: 0.9861, Rec: 0.7741\n",
      "   Speech  - WER: 0.1236, CER: 0.0924\n",
      "⏳ No improvement. Patience: 1/7\n",
      "\n",
      "==================================================\n",
      "EPOCH 7/30\n",
      "==================================================\n",
      "Epoch 7: Updated loss weights α=0.80, β=0.20\n"
     ]
    },
    {
     "name": "stderr",
     "output_type": "stream",
     "text": [
      "Training Epoch 7: 100%|████████████████████████████████████████████████████████████████████████████████████████| 109/109 [01:59<00:00,  1.09s/it]\n"
     ]
    },
    {
     "name": "stdout",
     "output_type": "stream",
     "text": [
      "\n",
      "📈 TRAINING METRICS:\n",
      "   Loss: 0.5034 (Cls: 0.6274, Trans: 0.0074)\n",
      "   Disease - Acc: 0.7915, F1: 0.7892\n",
      "   Disease - Prec: 0.8350, Rec: 0.7915\n",
      "   Speech  - WER: 0.0732, CER: 0.0572\n",
      "   Weights - α: 0.80, β: 0.20\n"
     ]
    },
    {
     "name": "stderr",
     "output_type": "stream",
     "text": [
      "Evaluating: 100%|████████████████████████████████████████████████████████████████████████████████████████████████| 27/27 [00:12<00:00,  2.10it/s]\n"
     ]
    },
    {
     "name": "stdout",
     "output_type": "stream",
     "text": [
      "\n",
      "📊 VALIDATION METRICS:\n",
      "   Loss: 0.5420\n",
      "   Disease - Acc: 0.8139, F1: 0.8868\n",
      "   Disease - Prec: 0.9877, Rec: 0.8139\n",
      "   Speech  - WER: 0.1264, CER: 0.1042\n",
      "✅ Best model saved: ../checkpoints/checkpoints_base/best_multitask_model_base.pt\n",
      "\n",
      "==================================================\n",
      "EPOCH 8/30\n",
      "==================================================\n",
      "Epoch 8: Updated loss weights α=0.80, β=0.20\n"
     ]
    },
    {
     "name": "stderr",
     "output_type": "stream",
     "text": [
      "Training Epoch 8: 100%|████████████████████████████████████████████████████████████████████████████████████████| 109/109 [01:59<00:00,  1.10s/it]\n"
     ]
    },
    {
     "name": "stdout",
     "output_type": "stream",
     "text": [
      "\n",
      "📈 TRAINING METRICS:\n",
      "   Loss: 0.4791 (Cls: 0.5977, Trans: 0.0050)\n",
      "   Disease - Acc: 0.8043, F1: 0.8046\n",
      "   Disease - Prec: 0.8394, Rec: 0.8043\n",
      "   Speech  - WER: 0.0772, CER: 0.0801\n",
      "   Weights - α: 0.80, β: 0.20\n"
     ]
    },
    {
     "name": "stderr",
     "output_type": "stream",
     "text": [
      "Evaluating: 100%|████████████████████████████████████████████████████████████████████████████████████████████████| 27/27 [00:14<00:00,  1.82it/s]\n"
     ]
    },
    {
     "name": "stdout",
     "output_type": "stream",
     "text": [
      "\n",
      "📊 VALIDATION METRICS:\n",
      "   Loss: 0.5111\n",
      "   Disease - Acc: 0.8324, F1: 0.8994\n",
      "   Disease - Prec: 0.9907, Rec: 0.8324\n",
      "   Speech  - WER: 0.1173, CER: 0.0877\n",
      "✅ Best model saved: ../checkpoints/checkpoints_base/best_multitask_model_base.pt\n",
      "\n",
      "==================================================\n",
      "EPOCH 9/30\n",
      "==================================================\n",
      "Epoch 9: Updated loss weights α=0.80, β=0.20\n"
     ]
    },
    {
     "name": "stderr",
     "output_type": "stream",
     "text": [
      "Training Epoch 9: 100%|████████████████████████████████████████████████████████████████████████████████████████| 109/109 [01:57<00:00,  1.08s/it]\n"
     ]
    },
    {
     "name": "stdout",
     "output_type": "stream",
     "text": [
      "\n",
      "📈 TRAINING METRICS:\n",
      "   Loss: 0.4431 (Cls: 0.5531, Trans: 0.0031)\n",
      "   Disease - Acc: 0.8080, F1: 0.8092\n",
      "   Disease - Prec: 0.8458, Rec: 0.8080\n",
      "   Speech  - WER: 0.0734, CER: 0.0904\n",
      "   Weights - α: 0.80, β: 0.20\n"
     ]
    },
    {
     "name": "stderr",
     "output_type": "stream",
     "text": [
      "Evaluating: 100%|████████████████████████████████████████████████████████████████████████████████████████████████| 27/27 [00:15<00:00,  1.74it/s]\n"
     ]
    },
    {
     "name": "stdout",
     "output_type": "stream",
     "text": [
      "\n",
      "📊 VALIDATION METRICS:\n",
      "   Loss: 0.4972\n",
      "   Disease - Acc: 0.8000, F1: 0.8770\n",
      "   Disease - Prec: 0.9929, Rec: 0.8000\n",
      "   Speech  - WER: 0.1183, CER: 0.0976\n",
      "⏳ No improvement. Patience: 1/7\n",
      "\n",
      "==================================================\n",
      "EPOCH 10/30\n",
      "==================================================\n",
      "Epoch 10: Updated loss weights α=0.60, β=0.40\n"
     ]
    },
    {
     "name": "stderr",
     "output_type": "stream",
     "text": [
      "Training Epoch 10: 100%|███████████████████████████████████████████████████████████████████████████████████████| 109/109 [01:55<00:00,  1.06s/it]\n"
     ]
    },
    {
     "name": "stdout",
     "output_type": "stream",
     "text": [
      "\n",
      "📈 TRAINING METRICS:\n",
      "   Loss: 0.3188 (Cls: 0.5301, Trans: 0.0018)\n",
      "   Disease - Acc: 0.8179, F1: 0.8185\n",
      "   Disease - Prec: 0.8507, Rec: 0.8179\n",
      "   Speech  - WER: 0.0732, CER: 0.0771\n",
      "   Weights - α: 0.60, β: 0.40\n"
     ]
    },
    {
     "name": "stderr",
     "output_type": "stream",
     "text": [
      "Evaluating: 100%|████████████████████████████████████████████████████████████████████████████████████████████████| 27/27 [00:14<00:00,  1.92it/s]\n"
     ]
    },
    {
     "name": "stdout",
     "output_type": "stream",
     "text": [
      "\n",
      "📊 VALIDATION METRICS:\n",
      "   Loss: 0.3910\n",
      "   Disease - Acc: 0.8491, F1: 0.9098\n",
      "   Disease - Prec: 0.9907, Rec: 0.8491\n",
      "   Speech  - WER: 0.1134, CER: 0.0871\n",
      "✅ Best model saved: ../checkpoints/checkpoints_base/best_multitask_model_base.pt\n",
      "\n",
      "==================================================\n",
      "EPOCH 11/30\n",
      "==================================================\n",
      "Epoch 11: Updated loss weights α=0.60, β=0.40\n"
     ]
    },
    {
     "name": "stderr",
     "output_type": "stream",
     "text": [
      "Training Epoch 11: 100%|███████████████████████████████████████████████████████████████████████████████████████| 109/109 [01:52<00:00,  1.03s/it]\n"
     ]
    },
    {
     "name": "stdout",
     "output_type": "stream",
     "text": [
      "\n",
      "📈 TRAINING METRICS:\n",
      "   Loss: 0.3048 (Cls: 0.5071, Trans: 0.0013)\n",
      "   Disease - Acc: 0.8153, F1: 0.8156\n",
      "   Disease - Prec: 0.8491, Rec: 0.8153\n",
      "   Speech  - WER: 0.0745, CER: 0.0695\n",
      "   Weights - α: 0.60, β: 0.40\n"
     ]
    },
    {
     "name": "stderr",
     "output_type": "stream",
     "text": [
      "Evaluating: 100%|████████████████████████████████████████████████████████████████████████████████████████████████| 27/27 [00:16<00:00,  1.60it/s]\n"
     ]
    },
    {
     "name": "stdout",
     "output_type": "stream",
     "text": [
      "\n",
      "📊 VALIDATION METRICS:\n",
      "   Loss: 0.3775\n",
      "   Disease - Acc: 0.8537, F1: 0.9131\n",
      "   Disease - Prec: 0.9907, Rec: 0.8537\n",
      "   Speech  - WER: 0.1110, CER: 0.0820\n",
      "✅ Best model saved: ../checkpoints/checkpoints_base/best_multitask_model_base.pt\n",
      "\n",
      "==================================================\n",
      "EPOCH 12/30\n",
      "==================================================\n",
      "Epoch 12: Updated loss weights α=0.60, β=0.40\n"
     ]
    },
    {
     "name": "stderr",
     "output_type": "stream",
     "text": [
      "Training Epoch 12: 100%|███████████████████████████████████████████████████████████████████████████████████████| 109/109 [01:57<00:00,  1.08s/it]\n"
     ]
    },
    {
     "name": "stdout",
     "output_type": "stream",
     "text": [
      "\n",
      "📈 TRAINING METRICS:\n",
      "   Loss: 0.2930 (Cls: 0.4877, Trans: 0.0010)\n",
      "   Disease - Acc: 0.8291, F1: 0.8289\n",
      "   Disease - Prec: 0.8617, Rec: 0.8291\n",
      "   Speech  - WER: 0.0734, CER: 0.0658\n",
      "   Weights - α: 0.60, β: 0.40\n"
     ]
    },
    {
     "name": "stderr",
     "output_type": "stream",
     "text": [
      "Evaluating: 100%|████████████████████████████████████████████████████████████████████████████████████████████████| 27/27 [00:14<00:00,  1.85it/s]\n"
     ]
    },
    {
     "name": "stdout",
     "output_type": "stream",
     "text": [
      "\n",
      "📊 VALIDATION METRICS:\n",
      "   Loss: 0.3655\n",
      "   Disease - Acc: 0.8537, F1: 0.9123\n",
      "   Disease - Prec: 0.9907, Rec: 0.8537\n",
      "   Speech  - WER: 0.1099, CER: 0.0789\n",
      "✅ Best model saved: ../checkpoints/checkpoints_base/best_multitask_model_base.pt\n",
      "\n",
      "==================================================\n",
      "EPOCH 13/30\n",
      "==================================================\n",
      "Epoch 13: Updated loss weights α=0.60, β=0.40\n"
     ]
    },
    {
     "name": "stderr",
     "output_type": "stream",
     "text": [
      "Training Epoch 13: 100%|███████████████████████████████████████████████████████████████████████████████████████| 109/109 [01:53<00:00,  1.04s/it]\n"
     ]
    },
    {
     "name": "stdout",
     "output_type": "stream",
     "text": [
      "\n",
      "📈 TRAINING METRICS:\n",
      "   Loss: 0.2799 (Cls: 0.4659, Trans: 0.0008)\n",
      "   Disease - Acc: 0.8396, F1: 0.8387\n",
      "   Disease - Prec: 0.8681, Rec: 0.8396\n",
      "   Speech  - WER: 0.0737, CER: 0.0629\n",
      "   Weights - α: 0.60, β: 0.40\n"
     ]
    },
    {
     "name": "stderr",
     "output_type": "stream",
     "text": [
      "Evaluating: 100%|████████████████████████████████████████████████████████████████████████████████████████████████| 27/27 [00:14<00:00,  1.86it/s]\n"
     ]
    },
    {
     "name": "stdout",
     "output_type": "stream",
     "text": [
      "\n",
      "📊 VALIDATION METRICS:\n",
      "   Loss: 0.3534\n",
      "   Disease - Acc: 0.8630, F1: 0.9180\n",
      "   Disease - Prec: 0.9907, Rec: 0.8630\n",
      "   Speech  - WER: 0.1086, CER: 0.0760\n",
      "✅ Best model saved: ../checkpoints/checkpoints_base/best_multitask_model_base.pt\n",
      "\n",
      "==================================================\n",
      "EPOCH 14/30\n",
      "==================================================\n",
      "Epoch 14: Updated loss weights α=0.60, β=0.40\n"
     ]
    },
    {
     "name": "stderr",
     "output_type": "stream",
     "text": [
      "Training Epoch 14: 100%|███████████████████████████████████████████████████████████████████████████████████████| 109/109 [01:57<00:00,  1.08s/it]\n"
     ]
    },
    {
     "name": "stdout",
     "output_type": "stream",
     "text": [
      "\n",
      "📈 TRAINING METRICS:\n",
      "   Loss: 0.2695 (Cls: 0.4486, Trans: 0.0007)\n",
      "   Disease - Acc: 0.8390, F1: 0.8397\n",
      "   Disease - Prec: 0.8753, Rec: 0.8390\n",
      "   Speech  - WER: 0.0739, CER: 0.0615\n",
      "   Weights - α: 0.60, β: 0.40\n"
     ]
    },
    {
     "name": "stderr",
     "output_type": "stream",
     "text": [
      "Evaluating: 100%|████████████████████████████████████████████████████████████████████████████████████████████████| 27/27 [00:14<00:00,  1.90it/s]\n"
     ]
    },
    {
     "name": "stdout",
     "output_type": "stream",
     "text": [
      "\n",
      "📊 VALIDATION METRICS:\n",
      "   Loss: 0.3420\n",
      "   Disease - Acc: 0.8676, F1: 0.9209\n",
      "   Disease - Prec: 0.9907, Rec: 0.8676\n",
      "   Speech  - WER: 0.1088, CER: 0.0755\n",
      "✅ Best model saved: ../checkpoints/checkpoints_base/best_multitask_model_base.pt\n",
      "\n",
      "==================================================\n",
      "EPOCH 15/30\n",
      "==================================================\n",
      "Epoch 15: Updated loss weights α=0.60, β=0.40\n"
     ]
    },
    {
     "name": "stderr",
     "output_type": "stream",
     "text": [
      "Training Epoch 15: 100%|███████████████████████████████████████████████████████████████████████████████████████| 109/109 [02:14<00:00,  1.24s/it]\n"
     ]
    },
    {
     "name": "stdout",
     "output_type": "stream",
     "text": [
      "\n",
      "📈 TRAINING METRICS:\n",
      "   Loss: 0.2591 (Cls: 0.4314, Trans: 0.0006)\n",
      "   Disease - Acc: 0.8442, F1: 0.8431\n",
      "   Disease - Prec: 0.8705, Rec: 0.8442\n",
      "   Speech  - WER: 0.0723, CER: 0.0568\n",
      "   Weights - α: 0.60, β: 0.40\n"
     ]
    },
    {
     "name": "stderr",
     "output_type": "stream",
     "text": [
      "Evaluating: 100%|████████████████████████████████████████████████████████████████████████████████████████████████| 27/27 [00:16<00:00,  1.66it/s]\n"
     ]
    },
    {
     "name": "stdout",
     "output_type": "stream",
     "text": [
      "\n",
      "📊 VALIDATION METRICS:\n",
      "   Loss: 0.3326\n",
      "   Disease - Acc: 0.8583, F1: 0.9159\n",
      "   Disease - Prec: 0.9907, Rec: 0.8583\n",
      "   Speech  - WER: 0.1078, CER: 0.0755\n",
      "⏳ No improvement. Patience: 1/7\n",
      "\n",
      "==================================================\n",
      "EPOCH 16/30\n",
      "==================================================\n",
      "Epoch 16: Updated loss weights α=0.60, β=0.40\n"
     ]
    },
    {
     "name": "stderr",
     "output_type": "stream",
     "text": [
      "Training Epoch 16: 100%|███████████████████████████████████████████████████████████████████████████████████████| 109/109 [01:54<00:00,  1.05s/it]\n"
     ]
    },
    {
     "name": "stdout",
     "output_type": "stream",
     "text": [
      "\n",
      "📈 TRAINING METRICS:\n",
      "   Loss: 0.2483 (Cls: 0.4135, Trans: 0.0005)\n",
      "   Disease - Acc: 0.8505, F1: 0.8496\n",
      "   Disease - Prec: 0.8752, Rec: 0.8505\n",
      "   Speech  - WER: 0.0733, CER: 0.0590\n",
      "   Weights - α: 0.60, β: 0.40\n"
     ]
    },
    {
     "name": "stderr",
     "output_type": "stream",
     "text": [
      "Evaluating: 100%|████████████████████████████████████████████████████████████████████████████████████████████████| 27/27 [00:06<00:00,  3.95it/s]\n"
     ]
    },
    {
     "name": "stdout",
     "output_type": "stream",
     "text": [
      "\n",
      "📊 VALIDATION METRICS:\n",
      "   Loss: 0.3221\n",
      "   Disease - Acc: 0.8769, F1: 0.9265\n",
      "   Disease - Prec: 0.9907, Rec: 0.8769\n",
      "   Speech  - WER: 0.1070, CER: 0.0729\n",
      "✅ Best model saved: ../checkpoints/checkpoints_base/best_multitask_model_base.pt\n",
      "\n",
      "==================================================\n",
      "EPOCH 17/30\n",
      "==================================================\n",
      "Epoch 17: Updated loss weights α=0.60, β=0.40\n"
     ]
    },
    {
     "name": "stderr",
     "output_type": "stream",
     "text": [
      "Training Epoch 17: 100%|███████████████████████████████████████████████████████████████████████████████████████| 109/109 [00:54<00:00,  1.99it/s]\n"
     ]
    },
    {
     "name": "stdout",
     "output_type": "stream",
     "text": [
      "\n",
      "📈 TRAINING METRICS:\n",
      "   Loss: 0.2434 (Cls: 0.4053, Trans: 0.0004)\n",
      "   Disease - Acc: 0.8615, F1: 0.8626\n",
      "   Disease - Prec: 0.8884, Rec: 0.8615\n",
      "   Speech  - WER: 0.0723, CER: 0.0548\n",
      "   Weights - α: 0.60, β: 0.40\n"
     ]
    },
    {
     "name": "stderr",
     "output_type": "stream",
     "text": [
      "Evaluating: 100%|████████████████████████████████████████████████████████████████████████████████████████████████| 27/27 [00:06<00:00,  4.22it/s]\n"
     ]
    },
    {
     "name": "stdout",
     "output_type": "stream",
     "text": [
      "\n",
      "📊 VALIDATION METRICS:\n",
      "   Loss: 0.3145\n",
      "   Disease - Acc: 0.8750, F1: 0.9253\n",
      "   Disease - Prec: 0.9907, Rec: 0.8750\n",
      "   Speech  - WER: 0.1050, CER: 0.0719\n",
      "⏳ No improvement. Patience: 1/7\n",
      "\n",
      "==================================================\n",
      "EPOCH 18/30\n",
      "==================================================\n",
      "Epoch 18: Updated loss weights α=0.60, β=0.40\n"
     ]
    },
    {
     "name": "stderr",
     "output_type": "stream",
     "text": [
      "Training Epoch 18: 100%|███████████████████████████████████████████████████████████████████████████████████████| 109/109 [01:03<00:00,  1.71it/s]\n"
     ]
    },
    {
     "name": "stdout",
     "output_type": "stream",
     "text": [
      "\n",
      "📈 TRAINING METRICS:\n",
      "   Loss: 0.2323 (Cls: 0.3869, Trans: 0.0004)\n",
      "   Disease - Acc: 0.8671, F1: 0.8665\n",
      "   Disease - Prec: 0.8977, Rec: 0.8671\n",
      "   Speech  - WER: 0.0709, CER: 0.0545\n",
      "   Weights - α: 0.60, β: 0.40\n"
     ]
    },
    {
     "name": "stderr",
     "output_type": "stream",
     "text": [
      "Evaluating: 100%|████████████████████████████████████████████████████████████████████████████████████████████████| 27/27 [00:06<00:00,  4.46it/s]\n"
     ]
    },
    {
     "name": "stdout",
     "output_type": "stream",
     "text": [
      "\n",
      "📊 VALIDATION METRICS:\n",
      "   Loss: 0.3060\n",
      "   Disease - Acc: 0.8796, F1: 0.9278\n",
      "   Disease - Prec: 0.9907, Rec: 0.8796\n",
      "   Speech  - WER: 0.1051, CER: 0.0704\n",
      "✅ Best model saved: ../checkpoints/checkpoints_base/best_multitask_model_base.pt\n",
      "\n",
      "==================================================\n",
      "EPOCH 19/30\n",
      "==================================================\n",
      "Epoch 19: Updated loss weights α=0.60, β=0.40\n"
     ]
    },
    {
     "name": "stderr",
     "output_type": "stream",
     "text": [
      "Training Epoch 19: 100%|███████████████████████████████████████████████████████████████████████████████████████| 109/109 [00:55<00:00,  1.96it/s]\n"
     ]
    },
    {
     "name": "stdout",
     "output_type": "stream",
     "text": [
      "\n",
      "📈 TRAINING METRICS:\n",
      "   Loss: 0.2266 (Cls: 0.3775, Trans: 0.0004)\n",
      "   Disease - Acc: 0.8712, F1: 0.8730\n",
      "   Disease - Prec: 0.8989, Rec: 0.8712\n",
      "   Speech  - WER: 0.0711, CER: 0.0527\n",
      "   Weights - α: 0.60, β: 0.40\n"
     ]
    },
    {
     "name": "stderr",
     "output_type": "stream",
     "text": [
      "Evaluating: 100%|████████████████████████████████████████████████████████████████████████████████████████████████| 27/27 [00:06<00:00,  4.12it/s]\n"
     ]
    },
    {
     "name": "stdout",
     "output_type": "stream",
     "text": [
      "\n",
      "📊 VALIDATION METRICS:\n",
      "   Loss: 0.2980\n",
      "   Disease - Acc: 0.8889, F1: 0.9342\n",
      "   Disease - Prec: 0.9907, Rec: 0.8889\n",
      "   Speech  - WER: 0.1040, CER: 0.0691\n",
      "✅ Best model saved: ../checkpoints/checkpoints_base/best_multitask_model_base.pt\n",
      "\n",
      "==================================================\n",
      "EPOCH 20/30\n",
      "==================================================\n",
      "Epoch 20: Updated loss weights α=0.60, β=0.40\n"
     ]
    },
    {
     "name": "stderr",
     "output_type": "stream",
     "text": [
      "Training Epoch 20: 100%|███████████████████████████████████████████████████████████████████████████████████████| 109/109 [00:53<00:00,  2.04it/s]\n"
     ]
    },
    {
     "name": "stdout",
     "output_type": "stream",
     "text": [
      "\n",
      "📈 TRAINING METRICS:\n",
      "   Loss: 0.2215 (Cls: 0.3689, Trans: 0.0003)\n",
      "   Disease - Acc: 0.8700, F1: 0.8693\n",
      "   Disease - Prec: 0.8880, Rec: 0.8700\n",
      "   Speech  - WER: 0.0684, CER: 0.0492\n",
      "   Weights - α: 0.60, β: 0.40\n"
     ]
    },
    {
     "name": "stderr",
     "output_type": "stream",
     "text": [
      "Evaluating: 100%|████████████████████████████████████████████████████████████████████████████████████████████████| 27/27 [00:06<00:00,  3.92it/s]\n"
     ]
    },
    {
     "name": "stdout",
     "output_type": "stream",
     "text": [
      "\n",
      "📊 VALIDATION METRICS:\n",
      "   Loss: 0.2908\n",
      "   Disease - Acc: 0.8889, F1: 0.9342\n",
      "   Disease - Prec: 0.9907, Rec: 0.8889\n",
      "   Speech  - WER: 0.1027, CER: 0.0680\n",
      "✅ Best model saved: ../checkpoints/checkpoints_base/best_multitask_model_base.pt\n",
      "\n",
      "==================================================\n",
      "EPOCH 21/30\n",
      "==================================================\n",
      "Epoch 21: Updated loss weights α=0.60, β=0.40\n"
     ]
    },
    {
     "name": "stderr",
     "output_type": "stream",
     "text": [
      "Training Epoch 21: 100%|███████████████████████████████████████████████████████████████████████████████████████| 109/109 [00:55<00:00,  1.96it/s]\n"
     ]
    },
    {
     "name": "stdout",
     "output_type": "stream",
     "text": [
      "\n",
      "📈 TRAINING METRICS:\n",
      "   Loss: 0.2152 (Cls: 0.3585, Trans: 0.0003)\n",
      "   Disease - Acc: 0.8764, F1: 0.8766\n",
      "   Disease - Prec: 0.9007, Rec: 0.8764\n",
      "   Speech  - WER: 0.0698, CER: 0.0505\n",
      "   Weights - α: 0.60, β: 0.40\n"
     ]
    },
    {
     "name": "stderr",
     "output_type": "stream",
     "text": [
      "Evaluating: 100%|████████████████████████████████████████████████████████████████████████████████████████████████| 27/27 [00:07<00:00,  3.41it/s]\n"
     ]
    },
    {
     "name": "stdout",
     "output_type": "stream",
     "text": [
      "\n",
      "📊 VALIDATION METRICS:\n",
      "   Loss: 0.2853\n",
      "   Disease - Acc: 0.8796, F1: 0.9286\n",
      "   Disease - Prec: 0.9907, Rec: 0.8796\n",
      "   Speech  - WER: 0.1015, CER: 0.0661\n",
      "⏳ No improvement. Patience: 1/7\n",
      "\n",
      "==================================================\n",
      "EPOCH 22/30\n",
      "==================================================\n",
      "Epoch 22: Updated loss weights α=0.50, β=0.50\n"
     ]
    },
    {
     "name": "stderr",
     "output_type": "stream",
     "text": [
      "Training Epoch 22: 100%|███████████████████████████████████████████████████████████████████████████████████████| 109/109 [00:56<00:00,  1.93it/s]\n"
     ]
    },
    {
     "name": "stdout",
     "output_type": "stream",
     "text": [
      "\n",
      "📈 TRAINING METRICS:\n",
      "   Loss: 0.1732 (Cls: 0.3461, Trans: 0.0003)\n",
      "   Disease - Acc: 0.8784, F1: 0.8787\n",
      "   Disease - Prec: 0.9043, Rec: 0.8784\n",
      "   Speech  - WER: 0.0686, CER: 0.0493\n",
      "   Weights - α: 0.50, β: 0.50\n"
     ]
    },
    {
     "name": "stderr",
     "output_type": "stream",
     "text": [
      "Evaluating: 100%|████████████████████████████████████████████████████████████████████████████████████████████████| 27/27 [00:06<00:00,  3.96it/s]\n"
     ]
    },
    {
     "name": "stdout",
     "output_type": "stream",
     "text": [
      "\n",
      "📊 VALIDATION METRICS:\n",
      "   Loss: 0.2596\n",
      "   Disease - Acc: 0.8796, F1: 0.9281\n",
      "   Disease - Prec: 0.9907, Rec: 0.8796\n",
      "   Speech  - WER: 0.1005, CER: 0.0664\n",
      "⏳ No improvement. Patience: 2/7\n",
      "\n",
      "==================================================\n",
      "EPOCH 23/30\n",
      "==================================================\n",
      "Epoch 23: Updated loss weights α=0.50, β=0.50\n"
     ]
    },
    {
     "name": "stderr",
     "output_type": "stream",
     "text": [
      "Training Epoch 23: 100%|███████████████████████████████████████████████████████████████████████████████████████| 109/109 [00:53<00:00,  2.02it/s]\n"
     ]
    },
    {
     "name": "stdout",
     "output_type": "stream",
     "text": [
      "\n",
      "📈 TRAINING METRICS:\n",
      "   Loss: 0.1680 (Cls: 0.3358, Trans: 0.0002)\n",
      "   Disease - Acc: 0.8802, F1: 0.8813\n",
      "   Disease - Prec: 0.9052, Rec: 0.8802\n",
      "   Speech  - WER: 0.0685, CER: 0.0477\n",
      "   Weights - α: 0.50, β: 0.50\n"
     ]
    },
    {
     "name": "stderr",
     "output_type": "stream",
     "text": [
      "Evaluating: 100%|████████████████████████████████████████████████████████████████████████████████████████████████| 27/27 [00:07<00:00,  3.78it/s]\n"
     ]
    },
    {
     "name": "stdout",
     "output_type": "stream",
     "text": [
      "\n",
      "📊 VALIDATION METRICS:\n",
      "   Loss: 0.2497\n",
      "   Disease - Acc: 0.8935, F1: 0.9363\n",
      "   Disease - Prec: 0.9907, Rec: 0.8935\n",
      "   Speech  - WER: 0.1006, CER: 0.0643\n",
      "✅ Best model saved: ../checkpoints/checkpoints_base/best_multitask_model_base.pt\n",
      "\n",
      "==================================================\n",
      "EPOCH 24/30\n",
      "==================================================\n",
      "Epoch 24: Updated loss weights α=0.50, β=0.50\n"
     ]
    },
    {
     "name": "stderr",
     "output_type": "stream",
     "text": [
      "Training Epoch 24: 100%|███████████████████████████████████████████████████████████████████████████████████████| 109/109 [00:52<00:00,  2.08it/s]\n"
     ]
    },
    {
     "name": "stdout",
     "output_type": "stream",
     "text": [
      "\n",
      "📈 TRAINING METRICS:\n",
      "   Loss: 0.1640 (Cls: 0.3278, Trans: 0.0002)\n",
      "   Disease - Acc: 0.8882, F1: 0.8891\n",
      "   Disease - Prec: 0.9120, Rec: 0.8882\n",
      "   Speech  - WER: 0.0679, CER: 0.0474\n",
      "   Weights - α: 0.50, β: 0.50\n"
     ]
    },
    {
     "name": "stderr",
     "output_type": "stream",
     "text": [
      "Evaluating: 100%|████████████████████████████████████████████████████████████████████████████████████████████████| 27/27 [00:07<00:00,  3.77it/s]\n"
     ]
    },
    {
     "name": "stdout",
     "output_type": "stream",
     "text": [
      "\n",
      "📊 VALIDATION METRICS:\n",
      "   Loss: 0.2449\n",
      "   Disease - Acc: 0.8935, F1: 0.9363\n",
      "   Disease - Prec: 0.9907, Rec: 0.8935\n",
      "   Speech  - WER: 0.0991, CER: 0.0633\n",
      "✅ Best model saved: ../checkpoints/checkpoints_base/best_multitask_model_base.pt\n",
      "\n",
      "==================================================\n",
      "EPOCH 25/30\n",
      "==================================================\n",
      "Epoch 25: Updated loss weights α=0.50, β=0.50\n"
     ]
    },
    {
     "name": "stderr",
     "output_type": "stream",
     "text": [
      "Training Epoch 25: 100%|███████████████████████████████████████████████████████████████████████████████████████| 109/109 [00:46<00:00,  2.35it/s]\n"
     ]
    },
    {
     "name": "stdout",
     "output_type": "stream",
     "text": [
      "\n",
      "📈 TRAINING METRICS:\n",
      "   Loss: 0.1597 (Cls: 0.3192, Trans: 0.0002)\n",
      "   Disease - Acc: 0.8877, F1: 0.8863\n",
      "   Disease - Prec: 0.9054, Rec: 0.8877\n",
      "   Speech  - WER: 0.0676, CER: 0.0448\n",
      "   Weights - α: 0.50, β: 0.50\n"
     ]
    },
    {
     "name": "stderr",
     "output_type": "stream",
     "text": [
      "Evaluating: 100%|████████████████████████████████████████████████████████████████████████████████████████████████| 27/27 [00:05<00:00,  4.53it/s]\n"
     ]
    },
    {
     "name": "stdout",
     "output_type": "stream",
     "text": [
      "\n",
      "📊 VALIDATION METRICS:\n",
      "   Loss: 0.2415\n",
      "   Disease - Acc: 0.8889, F1: 0.9339\n",
      "   Disease - Prec: 0.9907, Rec: 0.8889\n",
      "   Speech  - WER: 0.0984, CER: 0.0618\n",
      "⏳ No improvement. Patience: 1/7\n",
      "\n",
      "==================================================\n",
      "EPOCH 26/30\n",
      "==================================================\n",
      "Epoch 26: Updated loss weights α=0.50, β=0.50\n"
     ]
    },
    {
     "name": "stderr",
     "output_type": "stream",
     "text": [
      "Training Epoch 26: 100%|███████████████████████████████████████████████████████████████████████████████████████| 109/109 [00:44<00:00,  2.42it/s]\n"
     ]
    },
    {
     "name": "stdout",
     "output_type": "stream",
     "text": [
      "\n",
      "📈 TRAINING METRICS:\n",
      "   Loss: 0.1573 (Cls: 0.3144, Trans: 0.0002)\n",
      "   Disease - Acc: 0.8975, F1: 0.8980\n",
      "   Disease - Prec: 0.9181, Rec: 0.8975\n",
      "   Speech  - WER: 0.0672, CER: 0.0441\n",
      "   Weights - α: 0.50, β: 0.50\n"
     ]
    },
    {
     "name": "stderr",
     "output_type": "stream",
     "text": [
      "Evaluating: 100%|████████████████████████████████████████████████████████████████████████████████████████████████| 27/27 [00:05<00:00,  4.64it/s]\n"
     ]
    },
    {
     "name": "stdout",
     "output_type": "stream",
     "text": [
      "\n",
      "📊 VALIDATION METRICS:\n",
      "   Loss: 0.2353\n",
      "   Disease - Acc: 0.9028, F1: 0.9424\n",
      "   Disease - Prec: 0.9907, Rec: 0.9028\n",
      "   Speech  - WER: 0.0979, CER: 0.0615\n",
      "✅ Best model saved: ../checkpoints/checkpoints_base/best_multitask_model_base.pt\n",
      "\n",
      "==================================================\n",
      "EPOCH 27/30\n",
      "==================================================\n",
      "Epoch 27: Updated loss weights α=0.50, β=0.50\n"
     ]
    },
    {
     "name": "stderr",
     "output_type": "stream",
     "text": [
      "Training Epoch 27: 100%|███████████████████████████████████████████████████████████████████████████████████████| 109/109 [00:44<00:00,  2.43it/s]\n"
     ]
    },
    {
     "name": "stdout",
     "output_type": "stream",
     "text": [
      "\n",
      "📈 TRAINING METRICS:\n",
      "   Loss: 0.1546 (Cls: 0.3090, Trans: 0.0002)\n",
      "   Disease - Acc: 0.9014, F1: 0.9013\n",
      "   Disease - Prec: 0.9227, Rec: 0.9014\n",
      "   Speech  - WER: 0.0672, CER: 0.0440\n",
      "   Weights - α: 0.50, β: 0.50\n"
     ]
    },
    {
     "name": "stderr",
     "output_type": "stream",
     "text": [
      "Evaluating: 100%|████████████████████████████████████████████████████████████████████████████████████████████████| 27/27 [00:06<00:00,  4.20it/s]\n"
     ]
    },
    {
     "name": "stdout",
     "output_type": "stream",
     "text": [
      "\n",
      "📊 VALIDATION METRICS:\n",
      "   Loss: 0.2314\n",
      "   Disease - Acc: 0.9028, F1: 0.9456\n",
      "   Disease - Prec: 1.0000, Rec: 0.9028\n",
      "   Speech  - WER: 0.0963, CER: 0.0609\n",
      "✅ Best model saved: ../checkpoints/checkpoints_base/best_multitask_model_base.pt\n",
      "\n",
      "==================================================\n",
      "EPOCH 28/30\n",
      "==================================================\n",
      "Epoch 28: Updated loss weights α=0.50, β=0.50\n"
     ]
    },
    {
     "name": "stderr",
     "output_type": "stream",
     "text": [
      "Training Epoch 28: 100%|███████████████████████████████████████████████████████████████████████████████████████| 109/109 [00:54<00:00,  1.99it/s]\n"
     ]
    },
    {
     "name": "stdout",
     "output_type": "stream",
     "text": [
      "\n",
      "📈 TRAINING METRICS:\n",
      "   Loss: 0.1495 (Cls: 0.2989, Trans: 0.0001)\n",
      "   Disease - Acc: 0.8962, F1: 0.8969\n",
      "   Disease - Prec: 0.9196, Rec: 0.8962\n",
      "   Speech  - WER: 0.0670, CER: 0.0435\n",
      "   Weights - α: 0.50, β: 0.50\n"
     ]
    },
    {
     "name": "stderr",
     "output_type": "stream",
     "text": [
      "Evaluating: 100%|████████████████████████████████████████████████████████████████████████████████████████████████| 27/27 [00:06<00:00,  4.01it/s]\n"
     ]
    },
    {
     "name": "stdout",
     "output_type": "stream",
     "text": [
      "\n",
      "📊 VALIDATION METRICS:\n",
      "   Loss: 0.2268\n",
      "   Disease - Acc: 0.9028, F1: 0.9421\n",
      "   Disease - Prec: 0.9907, Rec: 0.9028\n",
      "   Speech  - WER: 0.0983, CER: 0.0601\n",
      "⏳ No improvement. Patience: 1/7\n",
      "\n",
      "==================================================\n",
      "EPOCH 29/30\n",
      "==================================================\n",
      "Epoch 29: Updated loss weights α=0.50, β=0.50\n"
     ]
    },
    {
     "name": "stderr",
     "output_type": "stream",
     "text": [
      "Training Epoch 29: 100%|███████████████████████████████████████████████████████████████████████████████████████| 109/109 [00:47<00:00,  2.32it/s]\n"
     ]
    },
    {
     "name": "stdout",
     "output_type": "stream",
     "text": [
      "\n",
      "📈 TRAINING METRICS:\n",
      "   Loss: 0.1443 (Cls: 0.2884, Trans: 0.0001)\n",
      "   Disease - Acc: 0.9106, F1: 0.9109\n",
      "   Disease - Prec: 0.9258, Rec: 0.9106\n",
      "   Speech  - WER: 0.0668, CER: 0.0425\n",
      "   Weights - α: 0.50, β: 0.50\n"
     ]
    },
    {
     "name": "stderr",
     "output_type": "stream",
     "text": [
      "Evaluating: 100%|████████████████████████████████████████████████████████████████████████████████████████████████| 27/27 [00:06<00:00,  3.88it/s]\n"
     ]
    },
    {
     "name": "stdout",
     "output_type": "stream",
     "text": [
      "\n",
      "📊 VALIDATION METRICS:\n",
      "   Loss: 0.2224\n",
      "   Disease - Acc: 0.9074, F1: 0.9495\n",
      "   Disease - Prec: 1.0000, Rec: 0.9074\n",
      "   Speech  - WER: 0.0980, CER: 0.0591\n",
      "✅ Best model saved: ../checkpoints/checkpoints_base/best_multitask_model_base.pt\n",
      "\n",
      "==================================================\n",
      "EPOCH 30/30\n",
      "==================================================\n",
      "Epoch 30: Updated loss weights α=0.50, β=0.50\n"
     ]
    },
    {
     "name": "stderr",
     "output_type": "stream",
     "text": [
      "Training Epoch 30: 100%|███████████████████████████████████████████████████████████████████████████████████████| 109/109 [00:48<00:00,  2.26it/s]\n"
     ]
    },
    {
     "name": "stdout",
     "output_type": "stream",
     "text": [
      "\n",
      "📈 TRAINING METRICS:\n",
      "   Loss: 0.1394 (Cls: 0.2786, Trans: 0.0001)\n",
      "   Disease - Acc: 0.9071, F1: 0.9078\n",
      "   Disease - Prec: 0.9246, Rec: 0.9071\n",
      "   Speech  - WER: 0.0652, CER: 0.0422\n",
      "   Weights - α: 0.50, β: 0.50\n"
     ]
    },
    {
     "name": "stderr",
     "output_type": "stream",
     "text": [
      "Evaluating: 100%|████████████████████████████████████████████████████████████████████████████████████████████████| 27/27 [00:06<00:00,  4.11it/s]\n"
     ]
    },
    {
     "name": "stdout",
     "output_type": "stream",
     "text": [
      "\n",
      "📊 VALIDATION METRICS:\n",
      "   Loss: 0.2191\n",
      "   Disease - Acc: 0.9074, F1: 0.9452\n",
      "   Disease - Prec: 0.9907, Rec: 0.9074\n",
      "   Speech  - WER: 0.0961, CER: 0.0581\n",
      "✅ Best model saved: ../checkpoints/checkpoints_base/best_multitask_model_base.pt\n",
      "\n",
      "==================================================\n",
      "TRAINING COMPLETE\n",
      "==================================================\n",
      "Best metric: 0.9060\n",
      "Training history saved: ../checkpoints/checkpoints_base/training_history_base.json\n",
      "\n",
      "=== Training Results ===\n",
      "Best metric: 0.9060\n"
     ]
    }
   ],
   "source": [
    "%run train_disease.py --model_size base --epochs 30"
   ]
  },
  {
   "cell_type": "code",
   "execution_count": 7,
   "id": "8162a1e2-5377-4c1d-bf28-a95441843c72",
   "metadata": {},
   "outputs": [
    {
     "name": "stdout",
     "output_type": "stream",
     "text": [
      "=== COMPREHENSIVE MULTI-TASK EVALUATION ===\n",
      "Model: ../checkpoints/checkpoints_base/best_multitask_model_base.pt\n",
      "Test data: /home/cluster-dgxa100/slp03/whisper/whisper_multitaskB/data/custom_test.csv\n",
      "Device: cuda\n",
      "Loading trained model...\n",
      "=== Multi-Task Learning Trainer ===\n",
      "Device: cuda\n",
      "CUDA device: NVIDIA A100-SXM4-40GB\n",
      "CUDA memory: 42.4 GB\n",
      "✓ Whisper model loaded on cuda\n",
      "Vocabulary sizes: Original=51865, New=51869\n",
      "Expanding vocabulary: 51865 -> 51869\n",
      "Resized embedding layer device: cuda:0\n",
      "✓ Vocabulary expanded\n",
      "✓ Disease classifier created on cuda\n",
      "✓ Encoder frozen\n",
      "✓ New embeddings added to training: 4 tokens\n",
      "Trainable parameters: 52,139,523\n",
      "✓ Trainer initialized successfully\n",
      "✓ Multi-task model loaded from: ../checkpoints/checkpoints_base/best_multitask_model_base.pt\n",
      "✓ Model moved to: cuda\n",
      "Loading test dataset...\n",
      "Multi-task Dataset loaded: 207 samples\n",
      "Disease tokens available: ['normal', 'dysarthria', 'dysphonia']\n",
      "Class distribution:\n",
      "  normal: 69 samples (33.3%)\n",
      "  dysarthria: 69 samples (33.3%)\n",
      "  dysphonia: 69 samples (33.3%)\n",
      "Test dataset: 207 samples\n",
      "Running comprehensive evaluation...\n",
      "\n",
      "=== DETAILED EVALUATION STARTED ===\n"
     ]
    },
    {
     "name": "stderr",
     "output_type": "stream",
     "text": [
      "Detailed Evaluation: 100%|███████████████████████████████████████████████████████████████████████████████████████| 26/26 [00:07<00:00,  3.46it/s]"
     ]
    },
    {
     "name": "stdout",
     "output_type": "stream",
     "text": [
      "\n",
      "=== CALCULATING DETAILED METRICS ===\n",
      "\n",
      "============================================================\n",
      "              COMPREHENSIVE EVALUATION RESULTS              \n",
      "============================================================\n",
      "\n",
      "📊 OVERALL PERFORMANCE:\n",
      "   Total Samples: 207\n",
      "   WER:          11.90%\n",
      "   CER:          7.67%\n",
      "   Accuracy:     90.34%\n",
      "   Precision:    90.96%\n",
      "   Recall:       90.34%\n",
      "   F1-Score:     90.40%\n",
      "\n",
      "📋 PER-CLASS PERFORMANCE:\n",
      "Class        Samples  WER      CER      Acc      Prec     Rec      F1      \n",
      "--------------------------------------------------------------------------------\n",
      "Normal       69       9.5    % 6.1    % 94.2   % 82.3   % 94.2   % 87.8   %\n",
      "Dysarthria   69       10.0   % 6.1    % 92.8   % 95.5   % 92.8   % 94.1   %\n",
      "Dysphonia    69       18.4   % 12.5   % 84.1   % 95.1   % 84.1   % 89.2   %\n",
      "\n",
      "🔄 CONFUSION MATRIX:\n",
      "Predicted → Normal      Dysarthria  Dysphonia   \n",
      "Normal      65          2           2           \n",
      "Dysarthria  4           64          1           \n",
      "Dysphonia   10          1           58          \n",
      "\n",
      "📈 DETAILED CLASSIFICATION REPORT:\n",
      "\n",
      "Saving results to: evaluation_results_base.json\n",
      "✓ Results saved successfully\n"
     ]
    },
    {
     "name": "stderr",
     "output_type": "stream",
     "text": [
      "\n"
     ]
    }
   ],
   "source": [
    "%run evaluate_disease.py --model_path ../checkpoints/checkpoints_base/best_multitask_model_base.pt --save_results evaluation_results_base.json"
   ]
  },
  {
   "cell_type": "code",
   "execution_count": null,
   "id": "848222e9-05ee-4c36-b351-07596ddae2ff",
   "metadata": {},
   "outputs": [],
   "source": []
  }
 ],
 "metadata": {
  "kernelspec": {
   "display_name": "Python 3 (ipykernel)",
   "language": "python",
   "name": "python3"
  },
  "language_info": {
   "codemirror_mode": {
    "name": "ipython",
    "version": 3
   },
   "file_extension": ".py",
   "mimetype": "text/x-python",
   "name": "python",
   "nbconvert_exporter": "python",
   "pygments_lexer": "ipython3",
   "version": "3.12.3"
  }
 },
 "nbformat": 4,
 "nbformat_minor": 5
}
