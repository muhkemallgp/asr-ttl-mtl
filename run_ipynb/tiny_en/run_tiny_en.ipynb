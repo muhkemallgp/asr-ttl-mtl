{
 "cells": [
  {
   "cell_type": "code",
   "execution_count": 2,
   "id": "ae6f8eca-506e-4673-955d-52501df70aae",
   "metadata": {},
   "outputs": [
    {
     "name": "stdout",
     "output_type": "stream",
     "text": [
      "/home/cluster-dgxa100/slp03/whisper/whisper_multitaskB/.whisperB/bin/python3\n",
      "/usr/lib/python312.zip\n"
     ]
    }
   ],
   "source": [
    "import sys\n",
    "print(sys.executable)\n",
    "print(sys.path[0])"
   ]
  },
  {
   "cell_type": "code",
   "execution_count": 3,
   "id": "d1261a47-ccc5-41dc-b543-13ddc2c89147",
   "metadata": {},
   "outputs": [
    {
     "name": "stdout",
     "output_type": "stream",
     "text": [
      "/home/cluster-dgxa100/slp03/whisper/whisper_multitaskB/scripts\n"
     ]
    }
   ],
   "source": [
    "%cd scripts"
   ]
  },
  {
   "cell_type": "code",
   "execution_count": 4,
   "id": "fb020b9e-cd89-45dd-84d0-6ac57d0c9e96",
   "metadata": {},
   "outputs": [
    {
     "name": "stdout",
     "output_type": "stream",
     "text": [
      "Multi-task Training Configuration:\n",
      "  Model: Whisper-tiny.en\n",
      "  Mode: multi_task\n",
      "  Device: cuda\n",
      "  Batch sizes: Train=16, Val=8\n",
      "  Loss weights: α=0.7, β=0.3\n",
      "  Audio: librosa (sr=16000, n_mels=80)\n",
      "  Save directory: ../checkpoints/checkpoints_tiny.en\n",
      "  Disease tokens: ['normal', 'dysarthria', 'dysphonia']\n",
      "\n",
      "=== Multi-Task Learning Configuration ===\n",
      "Model: Whisper-tiny.en\n",
      "Device: cuda\n",
      "Batch sizes: Train=16, Val=8\n",
      "Epochs: 30\n",
      "Learning rate: 5e-05\n",
      "Freeze encoder: True\n",
      "Audio processing: librosa\n",
      "\n",
      "Loading datasets...\n",
      "Dataset using English-only tokenizer\n",
      "Multi-task Dataset loaded: 1737 samples\n",
      "Disease tokens available: ['normal', 'dysarthria', 'dysphonia']\n",
      "Class distribution:\n",
      "  normal: 579 samples (33.3%)\n",
      "  dysarthria: 579 samples (33.3%)\n",
      "  dysphonia: 579 samples (33.3%)\n",
      "Dataset using English-only tokenizer\n",
      "Multi-task Dataset loaded: 213 samples\n",
      "Disease tokens available: ['normal', 'dysarthria', 'dysphonia']\n",
      "Class distribution:\n",
      "  normal: 71 samples (33.3%)\n",
      "  dysarthria: 71 samples (33.3%)\n",
      "  dysphonia: 71 samples (33.3%)\n",
      "Dataset sizes: Train=1737, Val=213\n",
      "Batches: Train=109, Val=27\n",
      "\n",
      "Initializing multi-task trainer...\n",
      "=== Multi-Task Learning Trainer ===\n",
      "Device: cuda\n",
      "CUDA device: NVIDIA A100-SXM4-40GB\n",
      "CUDA memory: 42.4 GB\n",
      "✓ Whisper model loaded on cuda\n",
      "Vocabulary sizes: Original=51864, New=51868\n",
      "Expanding vocabulary: 51864 -> 51868\n",
      "Resized embedding layer device: cuda:0\n",
      "✓ Vocabulary expanded\n",
      "✓ Disease classifier created on cuda\n",
      "✓ Encoder frozen\n",
      "✓ New embeddings added to training: 4 tokens\n",
      "Trainable parameters: 29,629,443\n",
      "✓ Trainer initialized successfully\n",
      "\n",
      "Starting multi-task training...\n",
      "\n",
      "=== Multi-Task Training Started ===\n",
      "Model: Whisper-tiny.en\n",
      "Device: cuda\n",
      "Epochs: 30\n",
      "Architecture: Audio → [Encoder] → Features → [Disease Classifier + Decoder]\n",
      "Format: [SOT][EN][DISEASE][TRANSCRIBE][TEXT][EOT]\n",
      "Disease tokens: ['normal', 'dysarthria', 'dysphonia']\n",
      "\n",
      "==================================================\n",
      "EPOCH 1/30\n",
      "==================================================\n",
      "Epoch 1: Updated loss weights α=0.80, β=0.20\n"
     ]
    },
    {
     "name": "stderr",
     "output_type": "stream",
     "text": [
      "Training Epoch 1:   1%|▊                                                                                         | 1/109 [00:02<05:11,  2.88s/it]"
     ]
    },
    {
     "name": "stdout",
     "output_type": "stream",
     "text": [
      "\n",
      "=== METRICS COMPUTATION DEBUG (Batch 1) ===\n",
      "Input shapes:\n",
      "  Transcription logits: torch.Size([16, 18, 51868])\n",
      "  Target tokens: torch.Size([16, 18])\n",
      "  Disease logits: torch.Size([16, 3])\n",
      "  Disease labels: torch.Size([16])\n",
      "  Texts count: 16\n",
      "\n",
      "Sample 0 processing:\n",
      "  Pred tokens (first 15): [51865, 50257, 50257, 587, 1760, 1997, 329, 543, 284, 307, 16563, 11, 286, 514, 468]\n",
      "  Target tokens (first 15): [258, 468, 1239, 2241, 1760, 1997, 329, 543, 284, 307, 16563, 543, 286, 514, 468]\n",
      "  Original text: 'he has never himself done anything for which to be...'\n",
      "  Special tokens to remove: [50257, 50256, 50358, 50359, 50360]\n",
      "  Text tokens extracted (16): [51865, 587, 1760, 1997, 329, 543, 284, 307, 16563, 11]...\n",
      "  Final prediction: 'been done anything for which t...'\n",
      "  Final reference:  'he has never himself done anyt...'\n",
      "\n",
      "Sample 1 processing:\n",
      "  Pred tokens (first 15): [51865, 50257, 50257, 50257, 1011, 503, 503, 257, 8749, 826, 783, 13, 50613, 50362, 345]\n",
      "  Target tokens (first 15): [5832, 466, 326, 393, 1011, 345, 503, 257, 8749, 826, 783, 50256, 50257, 50257, 50257]\n",
      "  Original text: 'you do that or take you out a permit right now...'\n",
      "  Special tokens to remove: [50257, 50256, 50358, 50359, 50360]\n",
      "  Text tokens extracted (15): [51865, 1011, 503, 503, 257, 8749, 826, 783, 13, 50613]...\n",
      "  Final prediction: 'take out out a permit right no...'\n",
      "  Final reference:  'you do that or take you out a ...'\n",
      "\n",
      "Text pairs summary:\n",
      "  Total pairs created: 16\n",
      "  Non-empty predictions: 16\n",
      "  Sample pairs:\n",
      "    0: 'been done anything f...' vs 'he has never himself...'\n",
      "    1: 'take out out a permi...' vs 'you do that or take ...'\n",
      "    2: 'in creasy wash water...' vs 'she had your dark su...'\n",
      "\n",
      "WER/CER calculation:\n",
      "  Raw WER: 0.828571\n",
      "  Raw CER: 0.643469\n",
      "\n",
      "Classification metrics:\n",
      "  Accuracy: 0.2500\n",
      "  Precision: 0.5375\n",
      "  Recall: 0.2500\n",
      "  F1: 0.1736\n",
      "============================================================\n",
      "\n",
      "=== METRICS COMPUTATION DEBUG (Batch 2) ===\n",
      "Input shapes:\n",
      "  Transcription logits: torch.Size([16, 18, 51868])\n",
      "  Target tokens: torch.Size([16, 18])\n",
      "  Disease logits: torch.Size([16, 3])\n",
      "  Disease labels: torch.Size([16])\n",
      "  Texts count: 16\n",
      "\n",
      "Sample 0 processing:\n",
      "  Pred tokens (first 15): [51864, 88, 71, 345, 287, 262, 656, 284, 345, 284, 262, 369, 339, 6507, 13]\n",
      "  Target tokens (first 15): [1532, 345, 4117, 6628, 287, 6341, 345, 466, 1223, 284, 262, 3773, 339, 531, 13]\n",
      "  Original text: 'If you destroy confidence in banks you do somethin...'\n",
      "  Special tokens to remove: [50257, 50256, 50358, 50359, 50360]\n",
      "  Text tokens extracted (18): [51864, 88, 71, 345, 287, 262, 656, 284, 345, 284]...\n",
      "  Final prediction: 'yh you in the into to you to t...'\n",
      "  Final reference:  'if you destroy confidence in b...'\n",
      "\n",
      "Sample 1 processing:\n",
      "  Pred tokens (first 15): [51864, 30, 30, 691, 20110, 4419, 8613, 475, 23112, 475, 257, 1097, 991, 991, 374]\n",
      "  Target tokens (first 15): [8929, 523, 340, 691, 20110, 4419, 8613, 475, 23112, 572, 257, 1097, 338, 7771, 9753]\n",
      "  Original text: 'high so it only bounce harmlessly but loudly off a...'\n",
      "  Special tokens to remove: [50257, 50256, 50358, 50359, 50360]\n",
      "  Text tokens extracted (18): [51864, 30, 30, 691, 20110, 4419, 8613, 475, 23112, 475]...\n",
      "  Final prediction: '?? only bounce harmlessly but ...'\n",
      "  Final reference:  'high so it only bounce harmles...'\n",
      "\n",
      "Text pairs summary:\n",
      "  Total pairs created: 16\n",
      "  Non-empty predictions: 11\n",
      "  Sample pairs:\n",
      "    0: 'yh you in the into t...' vs 'if you destroy confi...'\n",
      "    1: '?? only bounce harml...' vs 'high so it only boun...'\n",
      "    2: '-? the much chlorine...' vs 'the water contained ...'\n",
      "\n",
      "WER/CER calculation:\n",
      "  Raw WER: 0.906250\n",
      "  Raw CER: 0.684271\n",
      "\n",
      "Classification metrics:\n",
      "  Accuracy: 0.4375\n",
      "  Precision: 0.2500\n",
      "  Recall: 0.4375\n",
      "  F1: 0.3182\n",
      "============================================================\n"
     ]
    },
    {
     "name": "stderr",
     "output_type": "stream",
     "text": [
      "Training Epoch 1:   3%|██▍                                                                                       | 3/109 [00:04<02:14,  1.27s/it]"
     ]
    },
    {
     "name": "stdout",
     "output_type": "stream",
     "text": [
      "\n",
      "=== METRICS COMPUTATION DEBUG (Batch 3) ===\n",
      "Input shapes:\n",
      "  Transcription logits: torch.Size([16, 18, 51868])\n",
      "  Target tokens: torch.Size([16, 18])\n",
      "  Disease logits: torch.Size([16, 3])\n",
      "  Disease labels: torch.Size([16])\n",
      "  Texts count: 16\n",
      "\n",
      "Sample 0 processing:\n",
      "  Pred tokens (first 15): [50362, 50256, 13, 13, 922, 540, 13, 50257, 13, 50362, 50362, 314, 314, 314, 314]\n",
      "  Target tokens (first 15): [32, 922, 9408, 318, 36499, 540, 13, 50256, 50257, 50257, 50257, 50257, 50257, 50257, 50257]\n",
      "  Original text: 'A good attitude is unbeatable....'\n",
      "  Special tokens to remove: [50257, 50256, 50358, 50359, 50360]\n",
      "  Text tokens extracted (1): [50362]...\n",
      "  Final prediction: '...'\n",
      "  Final reference:  'a good attitude is unbeatable....'\n",
      "\n",
      "Sample 1 processing:\n",
      "  Pred tokens (first 15): [51866, 6, 1690, 2982, 683, 284, 2513, 517, 290, 7523, 1342, 13, 10185, 895, 50362]\n",
      "  Target tokens (first 15): [1135, 423, 1690, 11643, 683, 284, 2513, 517, 290, 7523, 1342, 220, 50256, 50257, 50257]\n",
      "  Original text: 'We have often urged him to walk more and smoke les...'\n",
      "  Special tokens to remove: [50257, 50256, 50358, 50359, 50360]\n",
      "  Text tokens extracted (18): [51866, 6, 1690, 2982, 683, 284, 2513, 517, 290, 7523]...\n",
      "  Final prediction: '' often heard him to walk more...'\n",
      "  Final reference:  'we have often urged him to wal...'\n",
      "\n",
      "Text pairs summary:\n",
      "  Total pairs created: 16\n",
      "  Non-empty predictions: 15\n",
      "  Sample pairs:\n",
      "    0: '...' vs 'a good attitude is u...'\n",
      "    1: '' often heard him to...' vs 'we have often urged ...'\n",
      "    2: '? ruffles him or cau...' vs 'no question ruffles ...'\n",
      "\n",
      "WER/CER calculation:\n",
      "  Raw WER: 0.796407\n",
      "  Raw CER: 0.502268\n",
      "\n",
      "Classification metrics:\n",
      "  Accuracy: 0.3125\n",
      "  Precision: 0.3792\n",
      "  Recall: 0.3125\n",
      "  F1: 0.2094\n",
      "============================================================\n"
     ]
    },
    {
     "name": "stderr",
     "output_type": "stream",
     "text": [
      "Training Epoch 1: 100%|████████████████████████████████████████████████████████████████████████████████████████| 109/109 [01:06<00:00,  1.63it/s]\n"
     ]
    },
    {
     "name": "stdout",
     "output_type": "stream",
     "text": [
      "\n",
      "📈 TRAINING METRICS:\n",
      "   Loss: 1.0515 (Cls: 1.0687, Trans: 0.9826)\n",
      "   Disease - Acc: 0.4764, F1: 0.4453\n",
      "   Disease - Prec: 0.5261, Rec: 0.4764\n",
      "   Speech  - WER: 0.2651, CER: 0.1628\n",
      "   Weights - α: 0.80, β: 0.20\n"
     ]
    },
    {
     "name": "stderr",
     "output_type": "stream",
     "text": [
      "Evaluating: 100%|████████████████████████████████████████████████████████████████████████████████████████████████| 27/27 [00:08<00:00,  3.26it/s]\n"
     ]
    },
    {
     "name": "stdout",
     "output_type": "stream",
     "text": [
      "\n",
      "📊 VALIDATION METRICS:\n",
      "   Loss: 0.9268\n",
      "   Disease - Acc: 0.7046, F1: 0.7964\n",
      "   Disease - Prec: 0.9969, Rec: 0.7046\n",
      "   Speech  - WER: 0.1888, CER: 0.1170\n",
      "✅ Best model saved: ../checkpoints/checkpoints_tiny.en/best_multitask_model_tiny.en.pt\n",
      "\n",
      "==================================================\n",
      "EPOCH 2/30\n",
      "==================================================\n",
      "Epoch 2: Updated loss weights α=0.80, β=0.20\n"
     ]
    },
    {
     "name": "stderr",
     "output_type": "stream",
     "text": [
      "Training Epoch 2: 100%|████████████████████████████████████████████████████████████████████████████████████████| 109/109 [00:54<00:00,  1.99it/s]\n"
     ]
    },
    {
     "name": "stdout",
     "output_type": "stream",
     "text": [
      "\n",
      "📈 TRAINING METRICS:\n",
      "   Loss: 0.8457 (Cls: 1.0124, Trans: 0.1793)\n",
      "   Disease - Acc: 0.6690, F1: 0.6720\n",
      "   Disease - Prec: 0.7409, Rec: 0.6690\n",
      "   Speech  - WER: 0.1074, CER: 0.0509\n",
      "   Weights - α: 0.80, β: 0.20\n"
     ]
    },
    {
     "name": "stderr",
     "output_type": "stream",
     "text": [
      "Evaluating: 100%|████████████████████████████████████████████████████████████████████████████████████████████████| 27/27 [00:06<00:00,  4.20it/s]\n"
     ]
    },
    {
     "name": "stdout",
     "output_type": "stream",
     "text": [
      "\n",
      "📊 VALIDATION METRICS:\n",
      "   Loss: 0.8456\n",
      "   Disease - Acc: 0.7287, F1: 0.8280\n",
      "   Disease - Prec: 0.9969, Rec: 0.7287\n",
      "   Speech  - WER: 0.1295, CER: 0.0705\n",
      "✅ Best model saved: ../checkpoints/checkpoints_tiny.en/best_multitask_model_tiny.en.pt\n",
      "\n",
      "==================================================\n",
      "EPOCH 3/30\n",
      "==================================================\n",
      "Epoch 3: Updated loss weights α=0.80, β=0.20\n"
     ]
    },
    {
     "name": "stderr",
     "output_type": "stream",
     "text": [
      "Training Epoch 3: 100%|████████████████████████████████████████████████████████████████████████████████████████| 109/109 [00:42<00:00,  2.54it/s]\n"
     ]
    },
    {
     "name": "stdout",
     "output_type": "stream",
     "text": [
      "\n",
      "📈 TRAINING METRICS:\n",
      "   Loss: 0.7782 (Cls: 0.9568, Trans: 0.0636)\n",
      "   Disease - Acc: 0.7137, F1: 0.7158\n",
      "   Disease - Prec: 0.7749, Rec: 0.7137\n",
      "   Speech  - WER: 0.0710, CER: 0.0238\n",
      "   Weights - α: 0.80, β: 0.20\n"
     ]
    },
    {
     "name": "stderr",
     "output_type": "stream",
     "text": [
      "Evaluating: 100%|██████████████████████████████████████████████████████████████████████████████████████████████████| 27/27 [00:05<00:00,  4.81it/s]\n"
     ]
    },
    {
     "name": "stdout",
     "output_type": "stream",
     "text": [
      "\n",
      "📊 VALIDATION METRICS:\n",
      "   Loss: 0.7906\n",
      "   Disease - Acc: 0.7306, F1: 0.8253\n",
      "   Disease - Prec: 0.9946, Rec: 0.7306\n",
      "   Speech  - WER: 0.1092, CER: 0.0562\n",
      "✅ Best model saved: ../checkpoints/checkpoints_tiny.en/best_multitask_model_tiny.en.pt\n",
      "\n",
      "==================================================\n",
      "EPOCH 4/30\n",
      "==================================================\n",
      "Epoch 4: Updated loss weights α=0.80, β=0.20\n"
     ]
    },
    {
     "name": "stderr",
     "output_type": "stream",
     "text": [
      "Training Epoch 4: 100%|██████████████████████████████████████████████████████████████████████████████████████████| 109/109 [00:52<00:00,  2.09it/s]\n"
     ]
    },
    {
     "name": "stdout",
     "output_type": "stream",
     "text": [
      "\n",
      "📈 TRAINING METRICS:\n",
      "   Loss: 0.7238 (Cls: 0.8975, Trans: 0.0287)\n",
      "   Disease - Acc: 0.7362, F1: 0.7362\n",
      "   Disease - Prec: 0.7808, Rec: 0.7362\n",
      "   Speech  - WER: 0.0629, CER: 0.0180\n",
      "   Weights - α: 0.80, β: 0.20\n"
     ]
    },
    {
     "name": "stderr",
     "output_type": "stream",
     "text": [
      "Evaluating: 100%|██████████████████████████████████████████████████████████████████████████████████████████████████| 27/27 [00:07<00:00,  3.69it/s]\n"
     ]
    },
    {
     "name": "stdout",
     "output_type": "stream",
     "text": [
      "\n",
      "📊 VALIDATION METRICS:\n",
      "   Loss: 0.7448\n",
      "   Disease - Acc: 0.7546, F1: 0.8463\n",
      "   Disease - Prec: 0.9946, Rec: 0.7546\n",
      "   Speech  - WER: 0.1064, CER: 0.0526\n",
      "✅ Best model saved: ../checkpoints/checkpoints_tiny.en/best_multitask_model_tiny.en.pt\n",
      "\n",
      "==================================================\n",
      "EPOCH 5/30\n",
      "==================================================\n",
      "Epoch 5: Updated loss weights α=0.80, β=0.20\n"
     ]
    },
    {
     "name": "stderr",
     "output_type": "stream",
     "text": [
      "Training Epoch 5: 100%|██████████████████████████████████████████████████████████████████████████████████████████| 109/109 [00:39<00:00,  2.74it/s]\n"
     ]
    },
    {
     "name": "stdout",
     "output_type": "stream",
     "text": [
      "\n",
      "📈 TRAINING METRICS:\n",
      "   Loss: 0.6760 (Cls: 0.8412, Trans: 0.0154)\n",
      "   Disease - Acc: 0.7487, F1: 0.7479\n",
      "   Disease - Prec: 0.7911, Rec: 0.7487\n",
      "   Speech  - WER: 0.0601, CER: 0.0157\n",
      "   Weights - α: 0.80, β: 0.20\n"
     ]
    },
    {
     "name": "stderr",
     "output_type": "stream",
     "text": [
      "Evaluating: 100%|██████████████████████████████████████████████████████████████████████████████████████████████████| 27/27 [00:05<00:00,  4.61it/s]\n"
     ]
    },
    {
     "name": "stdout",
     "output_type": "stream",
     "text": [
      "\n",
      "📊 VALIDATION METRICS:\n",
      "   Loss: 0.6998\n",
      "   Disease - Acc: 0.7870, F1: 0.8668\n",
      "   Disease - Prec: 0.9946, Rec: 0.7870\n",
      "   Speech  - WER: 0.1059, CER: 0.0526\n",
      "✅ Best model saved: ../checkpoints/checkpoints_tiny.en/best_multitask_model_tiny.en.pt\n",
      "\n",
      "==================================================\n",
      "EPOCH 6/30\n",
      "==================================================\n",
      "Epoch 6: Updated loss weights α=0.80, β=0.20\n"
     ]
    },
    {
     "name": "stderr",
     "output_type": "stream",
     "text": [
      "Training Epoch 6: 100%|██████████████████████████████████████████████████████████████████████████████████████████| 109/109 [00:49<00:00,  2.22it/s]\n"
     ]
    },
    {
     "name": "stdout",
     "output_type": "stream",
     "text": [
      "\n",
      "📈 TRAINING METRICS:\n",
      "   Loss: 0.6297 (Cls: 0.7850, Trans: 0.0085)\n",
      "   Disease - Acc: 0.7680, F1: 0.7679\n",
      "   Disease - Prec: 0.8001, Rec: 0.7680\n",
      "   Speech  - WER: 0.0574, CER: 0.0144\n",
      "   Weights - α: 0.80, β: 0.20\n"
     ]
    },
    {
     "name": "stderr",
     "output_type": "stream",
     "text": [
      "Evaluating: 100%|██████████████████████████████████████████████████████████████████████████████████████████████████| 27/27 [00:06<00:00,  4.44it/s]\n"
     ]
    },
    {
     "name": "stdout",
     "output_type": "stream",
     "text": [
      "\n",
      "📊 VALIDATION METRICS:\n",
      "   Loss: 0.6619\n",
      "   Disease - Acc: 0.7824, F1: 0.8663\n",
      "   Disease - Prec: 0.9977, Rec: 0.7824\n",
      "   Speech  - WER: 0.1046, CER: 0.0526\n",
      "⏳ No improvement. Patience: 1/7\n",
      "\n",
      "==================================================\n",
      "EPOCH 7/30\n",
      "==================================================\n",
      "Epoch 7: Updated loss weights α=0.80, β=0.20\n"
     ]
    },
    {
     "name": "stderr",
     "output_type": "stream",
     "text": [
      "Training Epoch 7: 100%|██████████████████████████████████████████████████████████████████████████████████████████| 109/109 [00:42<00:00,  2.58it/s]\n"
     ]
    },
    {
     "name": "stdout",
     "output_type": "stream",
     "text": [
      "\n",
      "📈 TRAINING METRICS:\n",
      "   Loss: 0.5941 (Cls: 0.7412, Trans: 0.0054)\n",
      "   Disease - Acc: 0.7690, F1: 0.7680\n",
      "   Disease - Prec: 0.8014, Rec: 0.7690\n",
      "   Speech  - WER: 0.0568, CER: 0.0138\n",
      "   Weights - α: 0.80, β: 0.20\n"
     ]
    },
    {
     "name": "stderr",
     "output_type": "stream",
     "text": [
      "Evaluating: 100%|██████████████████████████████████████████████████████████████████████████████████████████████████| 27/27 [00:06<00:00,  3.94it/s]\n"
     ]
    },
    {
     "name": "stdout",
     "output_type": "stream",
     "text": [
      "\n",
      "📊 VALIDATION METRICS:\n",
      "   Loss: 0.6295\n",
      "   Disease - Acc: 0.7593, F1: 0.8476\n",
      "   Disease - Prec: 0.9946, Rec: 0.7593\n",
      "   Speech  - WER: 0.1026, CER: 0.0524\n",
      "⏳ No improvement. Patience: 2/7\n",
      "\n",
      "==================================================\n",
      "EPOCH 8/30\n",
      "==================================================\n",
      "Epoch 8: Updated loss weights α=0.80, β=0.20\n"
     ]
    },
    {
     "name": "stderr",
     "output_type": "stream",
     "text": [
      "Training Epoch 8: 100%|██████████████████████████████████████████████████████████████████████████████| 109/109 [00:48<00:00,  2.26it/s]\n"
     ]
    },
    {
     "name": "stdout",
     "output_type": "stream",
     "text": [
      "\n",
      "📈 TRAINING METRICS:\n",
      "   Loss: 0.5589 (Cls: 0.6976, Trans: 0.0039)\n",
      "   Disease - Acc: 0.7818, F1: 0.7822\n",
      "   Disease - Prec: 0.8272, Rec: 0.7818\n",
      "   Speech  - WER: 0.0570, CER: 0.0140\n",
      "   Weights - α: 0.80, β: 0.20\n"
     ]
    },
    {
     "name": "stderr",
     "output_type": "stream",
     "text": [
      "Evaluating: 100%|██████████████████████████████████████████████████████████████████████████████████████| 27/27 [00:06<00:00,  4.46it/s]\n"
     ]
    },
    {
     "name": "stdout",
     "output_type": "stream",
     "text": [
      "\n",
      "📊 VALIDATION METRICS:\n",
      "   Loss: 0.6010\n",
      "   Disease - Acc: 0.7639, F1: 0.8501\n",
      "   Disease - Prec: 0.9946, Rec: 0.7639\n",
      "   Speech  - WER: 0.1037, CER: 0.0517\n",
      "⏳ No improvement. Patience: 3/7\n",
      "\n",
      "==================================================\n",
      "EPOCH 9/30\n",
      "==================================================\n",
      "Epoch 9: Updated loss weights α=0.80, β=0.20\n"
     ]
    },
    {
     "name": "stderr",
     "output_type": "stream",
     "text": [
      "Training Epoch 9: 100%|██████████████████████████████████████████████████████████████████████████████| 109/109 [00:54<00:00,  2.00it/s]\n"
     ]
    },
    {
     "name": "stdout",
     "output_type": "stream",
     "text": [
      "\n",
      "📈 TRAINING METRICS:\n",
      "   Loss: 0.5324 (Cls: 0.6648, Trans: 0.0027)\n",
      "   Disease - Acc: 0.7935, F1: 0.7937\n",
      "   Disease - Prec: 0.8252, Rec: 0.7935\n",
      "   Speech  - WER: 0.0562, CER: 0.0137\n",
      "   Weights - α: 0.80, β: 0.20\n"
     ]
    },
    {
     "name": "stderr",
     "output_type": "stream",
     "text": [
      "Evaluating: 100%|██████████████████████████████████████████████████████████████████████████████████████| 27/27 [00:05<00:00,  4.52it/s]\n"
     ]
    },
    {
     "name": "stdout",
     "output_type": "stream",
     "text": [
      "\n",
      "📊 VALIDATION METRICS:\n",
      "   Loss: 0.5746\n",
      "   Disease - Acc: 0.7778, F1: 0.8610\n",
      "   Disease - Prec: 0.9977, Rec: 0.7778\n",
      "   Speech  - WER: 0.0974, CER: 0.0482\n",
      "⏳ No improvement. Patience: 4/7\n",
      "\n",
      "==================================================\n",
      "EPOCH 10/30\n",
      "==================================================\n",
      "Epoch 10: Updated loss weights α=0.60, β=0.40\n"
     ]
    },
    {
     "name": "stderr",
     "output_type": "stream",
     "text": [
      "Training Epoch 10: 100%|█████████████████████████████████████████████████████████████████████████████| 109/109 [00:44<00:00,  2.43it/s]\n"
     ]
    },
    {
     "name": "stdout",
     "output_type": "stream",
     "text": [
      "\n",
      "📈 TRAINING METRICS:\n",
      "   Loss: 0.3804 (Cls: 0.6327, Trans: 0.0020)\n",
      "   Disease - Acc: 0.7915, F1: 0.7927\n",
      "   Disease - Prec: 0.8264, Rec: 0.7915\n",
      "   Speech  - WER: 0.0563, CER: 0.0137\n",
      "   Weights - α: 0.60, β: 0.40\n"
     ]
    },
    {
     "name": "stderr",
     "output_type": "stream",
     "text": [
      "Evaluating: 100%|██████████████████████████████████████████████████████████████████████████████████████| 27/27 [00:10<00:00,  2.48it/s]\n"
     ]
    },
    {
     "name": "stdout",
     "output_type": "stream",
     "text": [
      "\n",
      "📊 VALIDATION METRICS:\n",
      "   Loss: 0.4564\n",
      "   Disease - Acc: 0.7870, F1: 0.8677\n",
      "   Disease - Prec: 0.9977, Rec: 0.7870\n",
      "   Speech  - WER: 0.1009, CER: 0.0504\n",
      "✅ Best model saved: ../checkpoints/checkpoints_tiny.en/best_multitask_model_tiny.en.pt\n",
      "\n",
      "==================================================\n",
      "EPOCH 11/30\n",
      "==================================================\n",
      "Epoch 11: Updated loss weights α=0.60, β=0.40\n"
     ]
    },
    {
     "name": "stderr",
     "output_type": "stream",
     "text": [
      "Training Epoch 11: 100%|█████████████████████████████████████████████████████████████████████████████| 109/109 [00:46<00:00,  2.33it/s]\n"
     ]
    },
    {
     "name": "stdout",
     "output_type": "stream",
     "text": [
      "\n",
      "📈 TRAINING METRICS:\n",
      "   Loss: 0.3662 (Cls: 0.6093, Trans: 0.0014)\n",
      "   Disease - Acc: 0.7927, F1: 0.7939\n",
      "   Disease - Prec: 0.8253, Rec: 0.7927\n",
      "   Speech  - WER: 0.0565, CER: 0.0139\n",
      "   Weights - α: 0.60, β: 0.40\n"
     ]
    },
    {
     "name": "stderr",
     "output_type": "stream",
     "text": [
      "Evaluating: 100%|██████████████████████████████████████████████████████████████████████████████████████| 27/27 [00:06<00:00,  3.93it/s]\n"
     ]
    },
    {
     "name": "stdout",
     "output_type": "stream",
     "text": [
      "\n",
      "📊 VALIDATION METRICS:\n",
      "   Loss: 0.4408\n",
      "   Disease - Acc: 0.7963, F1: 0.8744\n",
      "   Disease - Prec: 0.9977, Rec: 0.7963\n",
      "   Speech  - WER: 0.0983, CER: 0.0490\n",
      "✅ Best model saved: ../checkpoints/checkpoints_tiny.en/best_multitask_model_tiny.en.pt\n",
      "\n",
      "==================================================\n",
      "EPOCH 12/30\n",
      "==================================================\n",
      "Epoch 12: Updated loss weights α=0.60, β=0.40\n"
     ]
    },
    {
     "name": "stderr",
     "output_type": "stream",
     "text": [
      "Training Epoch 12: 100%|█████████████████████████████████████████████████████████████████████████████| 109/109 [00:42<00:00,  2.59it/s]\n"
     ]
    },
    {
     "name": "stdout",
     "output_type": "stream",
     "text": [
      "\n",
      "📈 TRAINING METRICS:\n",
      "   Loss: 0.3514 (Cls: 0.5850, Trans: 0.0010)\n",
      "   Disease - Acc: 0.7992, F1: 0.7995\n",
      "   Disease - Prec: 0.8315, Rec: 0.7992\n",
      "   Speech  - WER: 0.0563, CER: 0.0138\n",
      "   Weights - α: 0.60, β: 0.40\n"
     ]
    },
    {
     "name": "stderr",
     "output_type": "stream",
     "text": [
      "Evaluating: 100%|██████████████████████████████████████████████████████████████████████████████████████| 27/27 [00:07<00:00,  3.82it/s]\n"
     ]
    },
    {
     "name": "stdout",
     "output_type": "stream",
     "text": [
      "\n",
      "📊 VALIDATION METRICS:\n",
      "   Loss: 0.4273\n",
      "   Disease - Acc: 0.7963, F1: 0.8741\n",
      "   Disease - Prec: 0.9977, Rec: 0.7963\n",
      "   Speech  - WER: 0.0963, CER: 0.0486\n",
      "✅ Best model saved: ../checkpoints/checkpoints_tiny.en/best_multitask_model_tiny.en.pt\n",
      "\n",
      "==================================================\n",
      "EPOCH 13/30\n",
      "==================================================\n",
      "Epoch 13: Updated loss weights α=0.60, β=0.40\n"
     ]
    },
    {
     "name": "stderr",
     "output_type": "stream",
     "text": [
      "Training Epoch 13: 100%|█████████████████████████████████████████████████████████████████████████████| 109/109 [00:45<00:00,  2.39it/s]\n"
     ]
    },
    {
     "name": "stdout",
     "output_type": "stream",
     "text": [
      "\n",
      "📈 TRAINING METRICS:\n",
      "   Loss: 0.3378 (Cls: 0.5624, Trans: 0.0008)\n",
      "   Disease - Acc: 0.8106, F1: 0.8115\n",
      "   Disease - Prec: 0.8401, Rec: 0.8106\n",
      "   Speech  - WER: 0.0559, CER: 0.0136\n",
      "   Weights - α: 0.60, β: 0.40\n"
     ]
    },
    {
     "name": "stderr",
     "output_type": "stream",
     "text": [
      "Evaluating: 100%|██████████████████████████████████████████████████████████████████████████████████████| 27/27 [00:06<00:00,  4.49it/s]\n"
     ]
    },
    {
     "name": "stdout",
     "output_type": "stream",
     "text": [
      "\n",
      "📊 VALIDATION METRICS:\n",
      "   Loss: 0.4175\n",
      "   Disease - Acc: 0.7870, F1: 0.8690\n",
      "   Disease - Prec: 0.9977, Rec: 0.7870\n",
      "   Speech  - WER: 0.0985, CER: 0.0494\n",
      "⏳ No improvement. Patience: 1/7\n",
      "\n",
      "==================================================\n",
      "EPOCH 14/30\n",
      "==================================================\n",
      "Epoch 14: Updated loss weights α=0.60, β=0.40\n"
     ]
    },
    {
     "name": "stderr",
     "output_type": "stream",
     "text": [
      "Training Epoch 14: 100%|█████████████████████████████████████████████████████████████████████████████| 109/109 [00:54<00:00,  2.01it/s]\n"
     ]
    },
    {
     "name": "stdout",
     "output_type": "stream",
     "text": [
      "\n",
      "📈 TRAINING METRICS:\n",
      "   Loss: 0.3290 (Cls: 0.5479, Trans: 0.0007)\n",
      "   Disease - Acc: 0.8099, F1: 0.8069\n",
      "   Disease - Prec: 0.8361, Rec: 0.8099\n",
      "   Speech  - WER: 0.0559, CER: 0.0136\n",
      "   Weights - α: 0.60, β: 0.40\n"
     ]
    },
    {
     "name": "stderr",
     "output_type": "stream",
     "text": [
      "Evaluating: 100%|██████████████████████████████████████████████████████████████████████████████████████| 27/27 [00:06<00:00,  4.43it/s]\n"
     ]
    },
    {
     "name": "stdout",
     "output_type": "stream",
     "text": [
      "\n",
      "📊 VALIDATION METRICS:\n",
      "   Loss: 0.4073\n",
      "   Disease - Acc: 0.8102, F1: 0.8852\n",
      "   Disease - Prec: 0.9977, Rec: 0.8102\n",
      "   Speech  - WER: 0.0975, CER: 0.0486\n",
      "✅ Best model saved: ../checkpoints/checkpoints_tiny.en/best_multitask_model_tiny.en.pt\n",
      "\n",
      "==================================================\n",
      "EPOCH 15/30\n",
      "==================================================\n",
      "Epoch 15: Updated loss weights α=0.60, β=0.40\n"
     ]
    },
    {
     "name": "stderr",
     "output_type": "stream",
     "text": [
      "Training Epoch 15: 100%|█████████████████████████████████████████████████████████████████████████████| 109/109 [00:43<00:00,  2.51it/s]\n"
     ]
    },
    {
     "name": "stdout",
     "output_type": "stream",
     "text": [
      "\n",
      "📈 TRAINING METRICS:\n",
      "   Loss: 0.3181 (Cls: 0.5298, Trans: 0.0006)\n",
      "   Disease - Acc: 0.8212, F1: 0.8203\n",
      "   Disease - Prec: 0.8530, Rec: 0.8212\n",
      "   Speech  - WER: 0.0556, CER: 0.0134\n",
      "   Weights - α: 0.60, β: 0.40\n"
     ]
    },
    {
     "name": "stderr",
     "output_type": "stream",
     "text": [
      "Evaluating: 100%|██████████████████████████████████████████████████████████████████████████████████████| 27/27 [00:06<00:00,  4.35it/s]\n"
     ]
    },
    {
     "name": "stdout",
     "output_type": "stream",
     "text": [
      "\n",
      "📊 VALIDATION METRICS:\n",
      "   Loss: 0.3990\n",
      "   Disease - Acc: 0.8148, F1: 0.8880\n",
      "   Disease - Prec: 0.9977, Rec: 0.8148\n",
      "   Speech  - WER: 0.0969, CER: 0.0483\n",
      "✅ Best model saved: ../checkpoints/checkpoints_tiny.en/best_multitask_model_tiny.en.pt\n",
      "\n",
      "==================================================\n",
      "EPOCH 16/30\n",
      "==================================================\n",
      "Epoch 16: Updated loss weights α=0.60, β=0.40\n"
     ]
    },
    {
     "name": "stderr",
     "output_type": "stream",
     "text": [
      "Training Epoch 16: 100%|█████████████████████████████████████████████████████████████████████████████| 109/109 [00:43<00:00,  2.52it/s]\n"
     ]
    },
    {
     "name": "stdout",
     "output_type": "stream",
     "text": [
      "\n",
      "📈 TRAINING METRICS:\n",
      "   Loss: 0.3067 (Cls: 0.5108, Trans: 0.0005)\n",
      "   Disease - Acc: 0.8293, F1: 0.8300\n",
      "   Disease - Prec: 0.8569, Rec: 0.8293\n",
      "   Speech  - WER: 0.0557, CER: 0.0135\n",
      "   Weights - α: 0.60, β: 0.40\n"
     ]
    },
    {
     "name": "stderr",
     "output_type": "stream",
     "text": [
      "Evaluating: 100%|██████████████████████████████████████████████████████████████████████████████████████| 27/27 [00:05<00:00,  4.56it/s]\n"
     ]
    },
    {
     "name": "stdout",
     "output_type": "stream",
     "text": [
      "\n",
      "📊 VALIDATION METRICS:\n",
      "   Loss: 0.3919\n",
      "   Disease - Acc: 0.7963, F1: 0.8752\n",
      "   Disease - Prec: 0.9977, Rec: 0.7963\n",
      "   Speech  - WER: 0.0963, CER: 0.0485\n",
      "⏳ No improvement. Patience: 1/7\n",
      "\n",
      "==================================================\n",
      "EPOCH 17/30\n",
      "==================================================\n",
      "Epoch 17: Updated loss weights α=0.60, β=0.40\n"
     ]
    },
    {
     "name": "stderr",
     "output_type": "stream",
     "text": [
      "Training Epoch 17: 100%|█████████████████████████████████████████████████████████████████████████████| 109/109 [00:47<00:00,  2.28it/s]\n"
     ]
    },
    {
     "name": "stdout",
     "output_type": "stream",
     "text": [
      "\n",
      "📈 TRAINING METRICS:\n",
      "   Loss: 0.2997 (Cls: 0.4992, Trans: 0.0004)\n",
      "   Disease - Acc: 0.8215, F1: 0.8226\n",
      "   Disease - Prec: 0.8535, Rec: 0.8215\n",
      "   Speech  - WER: 0.0557, CER: 0.0134\n",
      "   Weights - α: 0.60, β: 0.40\n"
     ]
    },
    {
     "name": "stderr",
     "output_type": "stream",
     "text": [
      "Evaluating: 100%|██████████████████████████████████████████████████████████████████████████████████████| 27/27 [00:06<00:00,  3.94it/s]\n"
     ]
    },
    {
     "name": "stdout",
     "output_type": "stream",
     "text": [
      "\n",
      "📊 VALIDATION METRICS:\n",
      "   Loss: 0.3833\n",
      "   Disease - Acc: 0.8009, F1: 0.8784\n",
      "   Disease - Prec: 0.9977, Rec: 0.8009\n",
      "   Speech  - WER: 0.0961, CER: 0.0475\n",
      "⏳ No improvement. Patience: 2/7\n",
      "\n",
      "==================================================\n",
      "EPOCH 18/30\n",
      "==================================================\n",
      "Epoch 18: Updated loss weights α=0.60, β=0.40\n"
     ]
    },
    {
     "name": "stderr",
     "output_type": "stream",
     "text": [
      "Training Epoch 18: 100%|█████████████████████████████████████████████████████████████████████████████| 109/109 [00:53<00:00,  2.04it/s]\n"
     ]
    },
    {
     "name": "stdout",
     "output_type": "stream",
     "text": [
      "\n",
      "📈 TRAINING METRICS:\n",
      "   Loss: 0.2923 (Cls: 0.4869, Trans: 0.0004)\n",
      "   Disease - Acc: 0.8286, F1: 0.8274\n",
      "   Disease - Prec: 0.8545, Rec: 0.8286\n",
      "   Speech  - WER: 0.0553, CER: 0.0133\n",
      "   Weights - α: 0.60, β: 0.40\n"
     ]
    },
    {
     "name": "stderr",
     "output_type": "stream",
     "text": [
      "Evaluating: 100%|██████████████████████████████████████████████████████████████████████████████████████| 27/27 [00:07<00:00,  3.78it/s]\n"
     ]
    },
    {
     "name": "stdout",
     "output_type": "stream",
     "text": [
      "\n",
      "📊 VALIDATION METRICS:\n",
      "   Loss: 0.3769\n",
      "   Disease - Acc: 0.8056, F1: 0.8817\n",
      "   Disease - Prec: 0.9977, Rec: 0.8056\n",
      "   Speech  - WER: 0.0948, CER: 0.0472\n",
      "⏳ No improvement. Patience: 3/7\n",
      "\n",
      "==================================================\n",
      "EPOCH 19/30\n",
      "==================================================\n",
      "Epoch 19: Updated loss weights α=0.60, β=0.40\n"
     ]
    },
    {
     "name": "stderr",
     "output_type": "stream",
     "text": [
      "Training Epoch 19: 100%|█████████████████████████████████████████████████████████████████████████████| 109/109 [00:43<00:00,  2.50it/s]\n"
     ]
    },
    {
     "name": "stdout",
     "output_type": "stream",
     "text": [
      "\n",
      "📈 TRAINING METRICS:\n",
      "   Loss: 0.2816 (Cls: 0.4690, Trans: 0.0003)\n",
      "   Disease - Acc: 0.8402, F1: 0.8396\n",
      "   Disease - Prec: 0.8658, Rec: 0.8402\n",
      "   Speech  - WER: 0.0554, CER: 0.0133\n",
      "   Weights - α: 0.60, β: 0.40\n"
     ]
    },
    {
     "name": "stderr",
     "output_type": "stream",
     "text": [
      "Evaluating: 100%|██████████████████████████████████████████████████████████████████████████████████████| 27/27 [00:06<00:00,  4.25it/s]\n"
     ]
    },
    {
     "name": "stdout",
     "output_type": "stream",
     "text": [
      "\n",
      "📊 VALIDATION METRICS:\n",
      "   Loss: 0.3689\n",
      "   Disease - Acc: 0.8194, F1: 0.8901\n",
      "   Disease - Prec: 0.9977, Rec: 0.8194\n",
      "   Speech  - WER: 0.0951, CER: 0.0471\n",
      "✅ Best model saved: ../checkpoints/checkpoints_tiny.en/best_multitask_model_tiny.en.pt\n",
      "\n",
      "==================================================\n",
      "EPOCH 20/30\n",
      "==================================================\n",
      "Epoch 20: Updated loss weights α=0.60, β=0.40\n"
     ]
    },
    {
     "name": "stderr",
     "output_type": "stream",
     "text": [
      "Training Epoch 20: 100%|█████████████████████████████████████████████████████████████████████████████| 109/109 [00:40<00:00,  2.68it/s]\n"
     ]
    },
    {
     "name": "stdout",
     "output_type": "stream",
     "text": [
      "\n",
      "📈 TRAINING METRICS:\n",
      "   Loss: 0.2771 (Cls: 0.4617, Trans: 0.0003)\n",
      "   Disease - Acc: 0.8420, F1: 0.8405\n",
      "   Disease - Prec: 0.8730, Rec: 0.8420\n",
      "   Speech  - WER: 0.0553, CER: 0.0134\n",
      "   Weights - α: 0.60, β: 0.40\n"
     ]
    },
    {
     "name": "stderr",
     "output_type": "stream",
     "text": [
      "Evaluating: 100%|██████████████████████████████████████████████████████████████████████████████████████| 27/27 [00:08<00:00,  3.28it/s]\n"
     ]
    },
    {
     "name": "stdout",
     "output_type": "stream",
     "text": [
      "\n",
      "📊 VALIDATION METRICS:\n",
      "   Loss: 0.3668\n",
      "   Disease - Acc: 0.8241, F1: 0.8934\n",
      "   Disease - Prec: 0.9977, Rec: 0.8241\n",
      "   Speech  - WER: 0.0941, CER: 0.0467\n",
      "✅ Best model saved: ../checkpoints/checkpoints_tiny.en/best_multitask_model_tiny.en.pt\n",
      "\n",
      "==================================================\n",
      "EPOCH 21/30\n",
      "==================================================\n",
      "Epoch 21: Updated loss weights α=0.60, β=0.40\n"
     ]
    },
    {
     "name": "stderr",
     "output_type": "stream",
     "text": [
      "Training Epoch 21: 100%|█████████████████████████████████████████████████████████████████████████████| 109/109 [00:46<00:00,  2.37it/s]\n"
     ]
    },
    {
     "name": "stdout",
     "output_type": "stream",
     "text": [
      "\n",
      "📈 TRAINING METRICS:\n",
      "   Loss: 0.2673 (Cls: 0.4453, Trans: 0.0003)\n",
      "   Disease - Acc: 0.8470, F1: 0.8463\n",
      "   Disease - Prec: 0.8709, Rec: 0.8470\n",
      "   Speech  - WER: 0.0554, CER: 0.0133\n",
      "   Weights - α: 0.60, β: 0.40\n"
     ]
    },
    {
     "name": "stderr",
     "output_type": "stream",
     "text": [
      "Evaluating: 100%|██████████████████████████████████████████████████████████████████████████████████████| 27/27 [00:07<00:00,  3.84it/s]\n"
     ]
    },
    {
     "name": "stdout",
     "output_type": "stream",
     "text": [
      "\n",
      "📊 VALIDATION METRICS:\n",
      "   Loss: 0.3572\n",
      "   Disease - Acc: 0.8102, F1: 0.8848\n",
      "   Disease - Prec: 0.9977, Rec: 0.8102\n",
      "   Speech  - WER: 0.0919, CER: 0.0452\n",
      "⏳ No improvement. Patience: 1/7\n",
      "\n",
      "==================================================\n",
      "EPOCH 22/30\n",
      "==================================================\n",
      "Epoch 22: Updated loss weights α=0.50, β=0.50\n"
     ]
    },
    {
     "name": "stderr",
     "output_type": "stream",
     "text": [
      "Training Epoch 22: 100%|█████████████████████████████████████████████████████████████████████████████| 109/109 [00:42<00:00,  2.55it/s]\n"
     ]
    },
    {
     "name": "stdout",
     "output_type": "stream",
     "text": [
      "\n",
      "📈 TRAINING METRICS:\n",
      "   Loss: 0.2195 (Cls: 0.4387, Trans: 0.0003)\n",
      "   Disease - Acc: 0.8545, F1: 0.8555\n",
      "   Disease - Prec: 0.8823, Rec: 0.8545\n",
      "   Speech  - WER: 0.0554, CER: 0.0133\n",
      "   Weights - α: 0.50, β: 0.50\n"
     ]
    },
    {
     "name": "stderr",
     "output_type": "stream",
     "text": [
      "Evaluating: 100%|██████████████████████████████████████████████████████████████████████████████████████| 27/27 [00:06<00:00,  4.21it/s]\n"
     ]
    },
    {
     "name": "stdout",
     "output_type": "stream",
     "text": [
      "\n",
      "📊 VALIDATION METRICS:\n",
      "   Loss: 0.3168\n",
      "   Disease - Acc: 0.8009, F1: 0.8784\n",
      "   Disease - Prec: 0.9977, Rec: 0.8009\n",
      "   Speech  - WER: 0.0920, CER: 0.0452\n",
      "⏳ No improvement. Patience: 2/7\n",
      "\n",
      "==================================================\n",
      "EPOCH 23/30\n",
      "==================================================\n",
      "Epoch 23: Updated loss weights α=0.50, β=0.50\n"
     ]
    },
    {
     "name": "stderr",
     "output_type": "stream",
     "text": [
      "Training Epoch 23: 100%|█████████████████████████████████████████████████████████████████████████████| 109/109 [00:44<00:00,  2.46it/s]\n"
     ]
    },
    {
     "name": "stdout",
     "output_type": "stream",
     "text": [
      "\n",
      "📈 TRAINING METRICS:\n",
      "   Loss: 0.2149 (Cls: 0.4295, Trans: 0.0002)\n",
      "   Disease - Acc: 0.8512, F1: 0.8522\n",
      "   Disease - Prec: 0.8775, Rec: 0.8512\n",
      "   Speech  - WER: 0.0551, CER: 0.0132\n",
      "   Weights - α: 0.50, β: 0.50\n"
     ]
    },
    {
     "name": "stderr",
     "output_type": "stream",
     "text": [
      "Evaluating: 100%|██████████████████████████████████████████████████████████████████████████████████████| 27/27 [00:05<00:00,  4.69it/s]\n"
     ]
    },
    {
     "name": "stdout",
     "output_type": "stream",
     "text": [
      "\n",
      "📊 VALIDATION METRICS:\n",
      "   Loss: 0.3121\n",
      "   Disease - Acc: 0.8194, F1: 0.8906\n",
      "   Disease - Prec: 0.9977, Rec: 0.8194\n",
      "   Speech  - WER: 0.0903, CER: 0.0440\n",
      "⏳ No improvement. Patience: 3/7\n",
      "\n",
      "==================================================\n",
      "EPOCH 24/30\n",
      "==================================================\n",
      "Epoch 24: Updated loss weights α=0.50, β=0.50\n"
     ]
    },
    {
     "name": "stderr",
     "output_type": "stream",
     "text": [
      "Training Epoch 24: 100%|█████████████████████████████████████████████████████████████████████████████| 109/109 [00:43<00:00,  2.53it/s]\n"
     ]
    },
    {
     "name": "stdout",
     "output_type": "stream",
     "text": [
      "\n",
      "📈 TRAINING METRICS:\n",
      "   Loss: 0.2115 (Cls: 0.4227, Trans: 0.0002)\n",
      "   Disease - Acc: 0.8538, F1: 0.8541\n",
      "   Disease - Prec: 0.8803, Rec: 0.8538\n",
      "   Speech  - WER: 0.0551, CER: 0.0131\n",
      "   Weights - α: 0.50, β: 0.50\n"
     ]
    },
    {
     "name": "stderr",
     "output_type": "stream",
     "text": [
      "Evaluating: 100%|██████████████████████████████████████████████████████████████████████████████████████| 27/27 [00:06<00:00,  4.41it/s]\n"
     ]
    },
    {
     "name": "stdout",
     "output_type": "stream",
     "text": [
      "\n",
      "📊 VALIDATION METRICS:\n",
      "   Loss: 0.3101\n",
      "   Disease - Acc: 0.8380, F1: 0.9024\n",
      "   Disease - Prec: 0.9977, Rec: 0.8380\n",
      "   Speech  - WER: 0.0892, CER: 0.0435\n",
      "✅ Best model saved: ../checkpoints/checkpoints_tiny.en/best_multitask_model_tiny.en.pt\n",
      "\n",
      "==================================================\n",
      "EPOCH 25/30\n",
      "==================================================\n",
      "Epoch 25: Updated loss weights α=0.50, β=0.50\n"
     ]
    },
    {
     "name": "stderr",
     "output_type": "stream",
     "text": [
      "Training Epoch 25: 100%|█████████████████████████████████████████████████████████████████████████████| 109/109 [00:43<00:00,  2.53it/s]\n"
     ]
    },
    {
     "name": "stdout",
     "output_type": "stream",
     "text": [
      "\n",
      "📈 TRAINING METRICS:\n",
      "   Loss: 0.2097 (Cls: 0.4192, Trans: 0.0002)\n",
      "   Disease - Acc: 0.8535, F1: 0.8544\n",
      "   Disease - Prec: 0.8796, Rec: 0.8535\n",
      "   Speech  - WER: 0.0549, CER: 0.0128\n",
      "   Weights - α: 0.50, β: 0.50\n"
     ]
    },
    {
     "name": "stderr",
     "output_type": "stream",
     "text": [
      "Evaluating: 100%|██████████████████████████████████████████████████████████████████████████████████████| 27/27 [00:05<00:00,  4.67it/s]\n"
     ]
    },
    {
     "name": "stdout",
     "output_type": "stream",
     "text": [
      "\n",
      "📊 VALIDATION METRICS:\n",
      "   Loss: 0.3063\n",
      "   Disease - Acc: 0.8287, F1: 0.8966\n",
      "   Disease - Prec: 0.9977, Rec: 0.8287\n",
      "   Speech  - WER: 0.0894, CER: 0.0433\n",
      "⏳ No improvement. Patience: 1/7\n",
      "\n",
      "==================================================\n",
      "EPOCH 26/30\n",
      "==================================================\n",
      "Epoch 26: Updated loss weights α=0.50, β=0.50\n"
     ]
    },
    {
     "name": "stderr",
     "output_type": "stream",
     "text": [
      "Training Epoch 26: 100%|█████████████████████████████████████████████████████████████████████████████| 109/109 [00:46<00:00,  2.35it/s]\n"
     ]
    },
    {
     "name": "stdout",
     "output_type": "stream",
     "text": [
      "\n",
      "📈 TRAINING METRICS:\n",
      "   Loss: 0.2068 (Cls: 0.4134, Trans: 0.0002)\n",
      "   Disease - Acc: 0.8593, F1: 0.8597\n",
      "   Disease - Prec: 0.8832, Rec: 0.8593\n",
      "   Speech  - WER: 0.0549, CER: 0.0130\n",
      "   Weights - α: 0.50, β: 0.50\n"
     ]
    },
    {
     "name": "stderr",
     "output_type": "stream",
     "text": [
      "Evaluating: 100%|██████████████████████████████████████████████████████████████████████████████████████| 27/27 [00:06<00:00,  4.24it/s]\n"
     ]
    },
    {
     "name": "stdout",
     "output_type": "stream",
     "text": [
      "\n",
      "📊 VALIDATION METRICS:\n",
      "   Loss: 0.3003\n",
      "   Disease - Acc: 0.8333, F1: 0.9013\n",
      "   Disease - Prec: 0.9977, Rec: 0.8333\n",
      "   Speech  - WER: 0.0894, CER: 0.0432\n",
      "⏳ No improvement. Patience: 2/7\n",
      "\n",
      "==================================================\n",
      "EPOCH 27/30\n",
      "==================================================\n",
      "Epoch 27: Updated loss weights α=0.50, β=0.50\n"
     ]
    },
    {
     "name": "stderr",
     "output_type": "stream",
     "text": [
      "Training Epoch 27: 100%|█████████████████████████████████████████████████████████████████████████████| 109/109 [00:45<00:00,  2.40it/s]\n"
     ]
    },
    {
     "name": "stdout",
     "output_type": "stream",
     "text": [
      "\n",
      "📈 TRAINING METRICS:\n",
      "   Loss: 0.1973 (Cls: 0.3944, Trans: 0.0002)\n",
      "   Disease - Acc: 0.8638, F1: 0.8634\n",
      "   Disease - Prec: 0.8848, Rec: 0.8638\n",
      "   Speech  - WER: 0.0547, CER: 0.0129\n",
      "   Weights - α: 0.50, β: 0.50\n"
     ]
    },
    {
     "name": "stderr",
     "output_type": "stream",
     "text": [
      "Evaluating: 100%|██████████████████████████████████████████████████████████████████████████████████████| 27/27 [00:05<00:00,  4.65it/s]\n"
     ]
    },
    {
     "name": "stdout",
     "output_type": "stream",
     "text": [
      "\n",
      "📊 VALIDATION METRICS:\n",
      "   Loss: 0.2980\n",
      "   Disease - Acc: 0.8148, F1: 0.8877\n",
      "   Disease - Prec: 0.9977, Rec: 0.8148\n",
      "   Speech  - WER: 0.0876, CER: 0.0421\n",
      "⏳ No improvement. Patience: 3/7\n",
      "\n",
      "==================================================\n",
      "EPOCH 28/30\n",
      "==================================================\n",
      "Epoch 28: Updated loss weights α=0.50, β=0.50\n"
     ]
    },
    {
     "name": "stderr",
     "output_type": "stream",
     "text": [
      "Training Epoch 28: 100%|█████████████████████████████████████████████████████████████████████████████| 109/109 [00:44<00:00,  2.44it/s]\n"
     ]
    },
    {
     "name": "stdout",
     "output_type": "stream",
     "text": [
      "\n",
      "📈 TRAINING METRICS:\n",
      "   Loss: 0.1948 (Cls: 0.3894, Trans: 0.0001)\n",
      "   Disease - Acc: 0.8727, F1: 0.8737\n",
      "   Disease - Prec: 0.8931, Rec: 0.8727\n",
      "   Speech  - WER: 0.0548, CER: 0.0128\n",
      "   Weights - α: 0.50, β: 0.50\n"
     ]
    },
    {
     "name": "stderr",
     "output_type": "stream",
     "text": [
      "Evaluating: 100%|██████████████████████████████████████████████████████████████████████████████████████| 27/27 [00:05<00:00,  5.10it/s]\n"
     ]
    },
    {
     "name": "stdout",
     "output_type": "stream",
     "text": [
      "\n",
      "📊 VALIDATION METRICS:\n",
      "   Loss: 0.2954\n",
      "   Disease - Acc: 0.8380, F1: 0.9016\n",
      "   Disease - Prec: 0.9977, Rec: 0.8380\n",
      "   Speech  - WER: 0.0874, CER: 0.0417\n",
      "✅ Best model saved: ../checkpoints/checkpoints_tiny.en/best_multitask_model_tiny.en.pt\n",
      "\n",
      "==================================================\n",
      "EPOCH 29/30\n",
      "==================================================\n",
      "Epoch 29: Updated loss weights α=0.50, β=0.50\n"
     ]
    },
    {
     "name": "stderr",
     "output_type": "stream",
     "text": [
      "Training Epoch 29: 100%|█████████████████████████████████████████████████████████████████████████████| 109/109 [00:45<00:00,  2.39it/s]\n"
     ]
    },
    {
     "name": "stdout",
     "output_type": "stream",
     "text": [
      "\n",
      "📈 TRAINING METRICS:\n",
      "   Loss: 0.1927 (Cls: 0.3852, Trans: 0.0001)\n",
      "   Disease - Acc: 0.8700, F1: 0.8693\n",
      "   Disease - Prec: 0.8900, Rec: 0.8700\n",
      "   Speech  - WER: 0.0547, CER: 0.0129\n",
      "   Weights - α: 0.50, β: 0.50\n"
     ]
    },
    {
     "name": "stderr",
     "output_type": "stream",
     "text": [
      "Evaluating: 100%|██████████████████████████████████████████████████████████████████████████████████████| 27/27 [00:05<00:00,  5.18it/s]\n"
     ]
    },
    {
     "name": "stdout",
     "output_type": "stream",
     "text": [
      "\n",
      "📊 VALIDATION METRICS:\n",
      "   Loss: 0.2907\n",
      "   Disease - Acc: 0.8333, F1: 0.9013\n",
      "   Disease - Prec: 0.9977, Rec: 0.8333\n",
      "   Speech  - WER: 0.0874, CER: 0.0420\n",
      "⏳ No improvement. Patience: 1/7\n",
      "\n",
      "==================================================\n",
      "EPOCH 30/30\n",
      "==================================================\n",
      "Epoch 30: Updated loss weights α=0.50, β=0.50\n"
     ]
    },
    {
     "name": "stderr",
     "output_type": "stream",
     "text": [
      "Training Epoch 30: 100%|█████████████████████████████████████████████████████████████████████████████| 109/109 [00:43<00:00,  2.48it/s]\n"
     ]
    },
    {
     "name": "stdout",
     "output_type": "stream",
     "text": [
      "\n",
      "📈 TRAINING METRICS:\n",
      "   Loss: 0.1885 (Cls: 0.3770, Trans: 0.0001)\n",
      "   Disease - Acc: 0.8694, F1: 0.8711\n",
      "   Disease - Prec: 0.8939, Rec: 0.8694\n",
      "   Speech  - WER: 0.0543, CER: 0.0125\n",
      "   Weights - α: 0.50, β: 0.50\n"
     ]
    },
    {
     "name": "stderr",
     "output_type": "stream",
     "text": [
      "Evaluating: 100%|██████████████████████████████████████████████████████████████████████████████████████| 27/27 [00:05<00:00,  4.69it/s]\n"
     ]
    },
    {
     "name": "stdout",
     "output_type": "stream",
     "text": [
      "\n",
      "📊 VALIDATION METRICS:\n",
      "   Loss: 0.2866\n",
      "   Disease - Acc: 0.8380, F1: 0.9046\n",
      "   Disease - Prec: 0.9977, Rec: 0.8380\n",
      "   Speech  - WER: 0.0858, CER: 0.0408\n",
      "✅ Best model saved: ../checkpoints/checkpoints_tiny.en/best_multitask_model_tiny.en.pt\n",
      "\n",
      "==================================================\n",
      "TRAINING COMPLETE\n",
      "==================================================\n",
      "Best metric: 0.8685\n",
      "Training history saved: ../checkpoints/checkpoints_tiny.en/training_history_tiny.en.json\n",
      "\n",
      "=== Training Results ===\n",
      "Best metric: 0.8685\n"
     ]
    }
   ],
   "source": [
    "%run train_disease.py --model_size tiny.en --epochs 30"
   ]
  },
  {
   "cell_type": "code",
   "execution_count": 4,
   "id": "9469dac3-c234-43b2-b11f-7b4be270bd94",
   "metadata": {},
   "outputs": [
    {
     "name": "stdout",
     "output_type": "stream",
     "text": [
      "=== COMPREHENSIVE MULTI-TASK EVALUATION ===\n",
      "Model: ../checkpoints/checkpoints_tiny.en/best_multitask_model_tiny.en.pt\n",
      "Test data: /home/cluster-dgxa100/slp03/whisper/whisper_multitaskB/data/custom_test.csv\n",
      "Device: cuda\n",
      "Loading trained model...\n",
      "=== Multi-Task Learning Trainer ===\n",
      "Device: cuda\n",
      "CUDA device: NVIDIA A100-SXM4-40GB\n",
      "CUDA memory: 42.4 GB\n",
      "✓ Whisper model loaded on cuda\n",
      "Vocabulary sizes: Original=51864, New=51868\n",
      "Expanding vocabulary: 51864 -> 51868\n",
      "Resized embedding layer device: cuda:0\n",
      "✓ Vocabulary expanded\n",
      "✓ Disease classifier created on cuda\n",
      "✓ Encoder frozen\n",
      "✓ New embeddings added to training: 4 tokens\n",
      "Trainable parameters: 29,629,443\n",
      "✓ Trainer initialized successfully\n",
      "✓ Multi-task model loaded from: ../checkpoints/checkpoints_tiny.en/best_multitask_model_tiny.en.pt\n",
      "✓ Model moved to: cuda\n",
      "Loading test dataset...\n",
      "Dataset using English-only tokenizer\n",
      "Multi-task Dataset loaded: 207 samples\n",
      "Disease tokens available: ['normal', 'dysarthria', 'dysphonia']\n",
      "Class distribution:\n",
      "  normal: 69 samples (33.3%)\n",
      "  dysarthria: 69 samples (33.3%)\n",
      "  dysphonia: 69 samples (33.3%)\n",
      "Test dataset: 207 samples\n",
      "Running comprehensive evaluation...\n",
      "\n",
      "=== DETAILED EVALUATION STARTED ===\n"
     ]
    },
    {
     "name": "stderr",
     "output_type": "stream",
     "text": [
      "Detailed Evaluation: 100%|█████████████████████████████████████████████████████████████████████████████| 26/26 [00:07<00:00,  3.39it/s]"
     ]
    },
    {
     "name": "stdout",
     "output_type": "stream",
     "text": [
      "\n",
      "=== CALCULATING DETAILED METRICS ===\n",
      "\n",
      "============================================================\n",
      "              COMPREHENSIVE EVALUATION RESULTS              \n",
      "============================================================\n",
      "\n",
      "📊 OVERALL PERFORMANCE:\n",
      "   Total Samples: 207\n",
      "   WER:          9.95%\n",
      "   CER:          3.98%\n",
      "   Accuracy:     86.96%\n",
      "   Precision:    87.45%\n",
      "   Recall:       86.96%\n",
      "   F1-Score:     87.10%\n",
      "\n",
      "📋 PER-CLASS PERFORMANCE:\n",
      "Class        Samples  WER      CER      Acc      Prec     Rec      F1      \n",
      "--------------------------------------------------------------------------------\n",
      "Normal       69       7.7    % 2.5    % 85.5   % 77.6   % 85.5   % 81.4   %\n",
      "Dysarthria   69       9.4    % 2.6    % 89.9   % 93.9   % 89.9   % 91.9   %\n",
      "Dysphonia    69       14.0   % 8.5    % 85.5   % 90.8   % 85.5   % 88.1   %\n",
      "\n",
      "🔄 CONFUSION MATRIX:\n",
      "Predicted → Normal      Dysarthria  Dysphonia   \n",
      "Normal      59          4           6           \n",
      "Dysarthria  7           62          0           \n",
      "Dysphonia   10          0           59          \n",
      "\n",
      "📈 DETAILED CLASSIFICATION REPORT:\n",
      "\n",
      "Saving results to: evaluation_results_tiny_en.json\n",
      "✓ Results saved successfully\n"
     ]
    },
    {
     "name": "stderr",
     "output_type": "stream",
     "text": [
      "\n"
     ]
    }
   ],
   "source": [
    "%run evaluate_disease.py --model_path ../checkpoints/checkpoints_tiny.en/best_multitask_model_tiny.en.pt --save_results evaluation_results_tiny_en.json"
   ]
  },
  {
   "cell_type": "code",
   "execution_count": null,
   "id": "e7c657d7-3e2f-4963-b6e6-1324e62aee63",
   "metadata": {},
   "outputs": [],
   "source": []
  }
 ],
 "metadata": {
  "kernelspec": {
   "display_name": "Python 3 (ipykernel)",
   "language": "python",
   "name": "python3"
  },
  "language_info": {
   "codemirror_mode": {
    "name": "ipython",
    "version": 3
   },
   "file_extension": ".py",
   "mimetype": "text/x-python",
   "name": "python",
   "nbconvert_exporter": "python",
   "pygments_lexer": "ipython3",
   "version": "3.12.3"
  }
 },
 "nbformat": 4,
 "nbformat_minor": 5
}
