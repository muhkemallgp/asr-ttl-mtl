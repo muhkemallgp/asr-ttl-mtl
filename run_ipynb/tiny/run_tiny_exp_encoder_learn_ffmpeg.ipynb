{
 "cells": [
  {
   "cell_type": "code",
   "execution_count": 1,
   "id": "6ab0ae5c-2370-45c9-aa53-3566171ccb86",
   "metadata": {},
   "outputs": [
    {
     "name": "stdout",
     "output_type": "stream",
     "text": [
      "/home/is/lathifgalih-k/musetalk/ffmpeg-4.4-amd64-static/ffmpeg\n",
      "ffmpeg version 7.0.2-static https://johnvansickle.com/ffmpeg/  Copyright (c) 2000-2024 the FFmpeg developers\n",
      "built with gcc 8 (Debian 8.3.0-6)\n"
     ]
    }
   ],
   "source": [
    "import os\n",
    "\n",
    "os.environ[\"PATH\"] = os.path.expanduser(\"~/musetalk/ffmpeg-4.4-amd64-static\") + \":\" + os.environ[\"PATH\"]\n",
    "\n",
    "# tes\n",
    "!which ffmpeg\n",
    "!ffmpeg -version | head -n 2"
   ]
  },
  {
   "cell_type": "code",
   "execution_count": 2,
   "id": "f5dbdee4-9a52-40a5-872e-8c74ef7b1fc9",
   "metadata": {},
   "outputs": [
    {
     "name": "stdout",
     "output_type": "stream",
     "text": [
      "/home/is/lathifgalih-k/research_naist/ast-tts/.mtl-venv/bin/python3\n",
      "/usr/lib/python310.zip\n"
     ]
    }
   ],
   "source": [
    "import sys\n",
    "print(sys.executable)\n",
    "print(sys.path[0])"
   ]
  },
  {
   "cell_type": "code",
   "execution_count": 3,
   "id": "ec554240-e960-4532-9b39-12ee07b00890",
   "metadata": {},
   "outputs": [
    {
     "data": {
      "text/plain": [
       "'/home/is/lathifgalih-k/research_naist/ast-tts/run_ipynb/tiny'"
      ]
     },
     "execution_count": 3,
     "metadata": {},
     "output_type": "execute_result"
    }
   ],
   "source": [
    "import os\n",
    "os.getcwd()"
   ]
  },
  {
   "cell_type": "code",
   "execution_count": 4,
   "id": "80ea00f0-dc63-48be-8c3e-cc2ddfaef451",
   "metadata": {},
   "outputs": [
    {
     "name": "stdout",
     "output_type": "stream",
     "text": [
      "/home/is/lathifgalih-k/research_naist/ast-tts/scripts\n"
     ]
    },
    {
     "name": "stderr",
     "output_type": "stream",
     "text": [
      "/home/is/lathifgalih-k/research_naist/ast-tts/.mtl-venv/lib/python3.10/site-packages/IPython/core/magics/osm.py:417: UserWarning: This is now an optional IPython functionality, setting dhist requires you to install the `pickleshare` library.\n",
      "  self.shell.db['dhist'] = compress_dhist(dhist)[-100:]\n"
     ]
    }
   ],
   "source": [
    "%cd ../../scripts"
   ]
  },
  {
   "cell_type": "code",
   "execution_count": 5,
   "id": "50aa87eb-f376-45f8-bd60-2cd3dd7aee84",
   "metadata": {},
   "outputs": [
    {
     "name": "stdout",
     "output_type": "stream",
     "text": [
      "\n",
      "================================================================================\n",
      "                       MULTI-TASK LEARNING CONFIGURATION                        \n",
      "================================================================================\n",
      "Model: Whisper-tiny\n",
      "Model Type: Multilingual\n",
      "Device: cuda\n",
      "Architecture: Shared Encoder + Disease Classifier + Transcription Decoder\n",
      "\n",
      "Training Configuration:\n",
      "  Epochs: 50\n",
      "  Batch sizes: Train=16, Val=8\n",
      "  Learning rate: 1e-05\n",
      "  Weight decay: 0.01\n",
      "  Gradient clip norm: 1.0\n",
      "  Early stopping patience: 10\n",
      "  Freeze encoder: False\n",
      "\n",
      "Multi-task Loss Configuration:\n",
      "  Dynamic weights - Adaptive based on loss magnitudes\n",
      "\n",
      "Data Configuration:\n",
      "  Training data: /home/is/lathifgalih-k/research_naist/ast-tts/data/custom_train.csv\n",
      "  Validation data: /home/is/lathifgalih-k/research_naist/ast-tts/data/custom_val.csv\n",
      "  Audio processing: Whisper built-in (librosa backend)\n",
      "  Save directory: ../checkpoints_exp/checkpoints_tiny_encoder_learning_ffmpeg/\n",
      "\n",
      "================================================================================\n",
      "                                LOADING DATASETS                                \n",
      "================================================================================\n",
      "Loading training dataset...\n",
      "Dataset using Multilingual tokenizer\n",
      "✓ Multi-task Dataset loaded: 1737 samples\n",
      "✓ Model type: Multilingual\n",
      "✓ EOT token: 50257\n",
      "✓ SOT token: 50258\n",
      "✓ Disease tokens available: ['normal', 'dysphonia', 'dysarthria']\n",
      "✓ Class distribution:\n",
      "   normal (class 0): 579 samples (33.3%)\n",
      "   dysphonia (class 1): 579 samples (33.3%)\n",
      "   dysarthria (class 2): 579 samples (33.3%)\n",
      "Loading validation dataset...\n",
      "Dataset using Multilingual tokenizer\n",
      "✓ Multi-task Dataset loaded: 213 samples\n",
      "✓ Model type: Multilingual\n",
      "✓ EOT token: 50257\n",
      "✓ SOT token: 50258\n",
      "✓ Disease tokens available: ['normal', 'dysphonia', 'dysarthria']\n",
      "✓ Class distribution:\n",
      "   normal (class 0): 71 samples (33.3%)\n",
      "   dysphonia (class 1): 71 samples (33.3%)\n",
      "   dysarthria (class 2): 71 samples (33.3%)\n",
      "\n",
      "Dataset Summary:\n",
      "  Training samples: 1737\n",
      "  Validation samples: 213\n",
      "Creating data loaders...\n",
      "Data loaders created:\n",
      "  Training batches: 109\n",
      "  Validation batches: 27\n",
      "\n",
      "================================================================================\n",
      "                        INITIALIZING MULTI-TASK TRAINER                         \n",
      "================================================================================\n",
      "=== Multi-Task Learning Trainer (Proper Architecture) ===\n",
      "Device: cuda\n",
      "CUDA device: NVIDIA GeForce RTX 3090\n",
      "CUDA memory: 25.3 GB\n"
     ]
    },
    {
     "name": "stderr",
     "output_type": "stream",
     "text": [
      "100%|█████████████████████████████████████| 72.1M/72.1M [00:01<00:00, 38.7MiB/s]\n"
     ]
    },
    {
     "name": "stdout",
     "output_type": "stream",
     "text": [
      "✔ Whisper model 'tiny' loaded\n",
      "✔ Tokenizer loaded:\n",
      "  Type: Multilingual\n",
      "  EOT: 50257, SOT: 50258\n",
      "  Disease tokens: {'normal': 50359, 'dysphonia': 50360, 'dysarthria': 50361}\n",
      "✔ Disease token mapping: {'normal': 50359, 'dysphonia': 50360, 'dysarthria': 50361}\n",
      "✔ Disease token position in dataset: 2\n",
      "Vocabulary expansion:\n",
      "  Original size: 51865\n",
      "  New size needed: 51869\n",
      "  Disease tokens: 3\n",
      "Resized embedding layer device: cpu\n",
      "✔ Vocabulary expanded: 51865 → 51869\n",
      "✔ Disease classifier created: 384 → 192 → 3\n",
      "  Group 1 (encoder): 7,632,384 params, LR: 1.00e-06\n",
      "  Group 2 (decoder_layers): 9,636,096 params, LR: 3.00e-06\n",
      "  Group 3 (embeddings): 19,917,696 params, LR: 1.00e-05\n",
      "  Group 4 (disease_classifier): 74,499 params, LR: 1.00e-05\n",
      "✔ Optimizer setup: 4 groups, 37,260,675 total params\n",
      "✔ Trainer initialized successfully\n",
      "  Disease classes: {0: 'normal', 1: 'dysphonia', 2: 'dysarthria'}\n",
      "  Architecture: Shared Encoder + Disease Classifier + Transcription Decoder\n",
      "✓ Trainer initialized:\n",
      "  Model parameters: 37,186,176\n",
      "  Trainable parameters: 37,186,176\n",
      "  Disease classification: Embedded in sequence (no separate classifier)\n",
      "  Optimizer: AdamW\n",
      "  Loss functions: CrossEntropyLoss (both tasks)\n",
      "\n",
      "================================================================================\n",
      "                          STARTING MULTI-TASK TRAINING                          \n",
      "================================================================================\n",
      "\n",
      "=== Multi-Task Training Started ===\n",
      "Architecture: Shared Encoder + Disease Classifier + Transcription Decoder\n",
      "Disease classes: ['normal', 'dysphonia', 'dysarthria']\n",
      "\n",
      "============================================================\n",
      "EPOCH 1/50\n",
      "============================================================\n"
     ]
    },
    {
     "name": "stderr",
     "output_type": "stream",
     "text": [
      "Training Epoch 1: 100%|███████████████████████████████████████████████████████████████████████████████████████████████████████████████████████████| 109/109 [00:25<00:00,  4.23it/s]\n"
     ]
    },
    {
     "name": "stdout",
     "output_type": "stream",
     "text": [
      "\n",
      "📈 TRAINING EPOCH 1 SUMMARY:\n",
      "   Loss: 1.2057 (α·Cls: 1.0747, β·Trans: 1.5845)\n",
      "   Weights: α=0.7431, β=0.2569\n",
      "   Disease: Acc=0.4076, W-P=0.5146, W-R=0.4076, W-F1=0.3326\n",
      "   Speech: WER=0.2516, CER=0.1564\n"
     ]
    },
    {
     "name": "stderr",
     "output_type": "stream",
     "text": [
      "Evaluating: 100%|███████████████████████████████████████████████████████████████████████████████████████████████████████████████████████████████████| 27/27 [00:02<00:00, 11.74it/s]\n"
     ]
    },
    {
     "name": "stdout",
     "output_type": "stream",
     "text": [
      "\n",
      "📊 VALIDATION SUMMARY:\n",
      "\n",
      "📊 VALIDATION DETAILED METRICS:\n",
      "   🏥 Disease Classification:\n",
      "      Overall Accuracy: 0.6573\n",
      "      Weighted Precision: 0.8065\n",
      "      Weighted Recall: 0.6573\n",
      "      Weighted F1: 0.6530\n",
      "      Macro Precision: 0.8065\n",
      "      Macro Recall: 0.6573\n",
      "      Macro F1: 0.6530\n",
      "   🎯 Transcription:\n",
      "      Overall WER: 0.1809\n",
      "      Overall CER: 0.1275\n",
      "   📈 Per-Class Disease Classification:\n",
      "      Class        Prec   Rec    F1     Support \n",
      "      ----------------------------------------\n",
      "      Normal       0.504 1.000 0.670 71      \n",
      "      Dysphonia    0.943 0.465 0.623 71      \n",
      "      Dysarthria   0.973 0.507 0.667 71      \n",
      "   📝 Per-Class Transcription:\n",
      "      Class        WER    CER    Samples  Valid   \n",
      "      ------------------------------------------------\n",
      "      Normal       0.067 0.033 71       71      \n",
      "      Dysphonia    0.151 0.110 71       71      \n",
      "      Dysarthria   0.374 0.283 71       71      \n",
      "✅ Best model saved: ../checkpoints_exp/checkpoints_tiny_encoder_learning_ffmpeg/best_multitask_model_tiny.pt\n",
      "\n",
      "============================================================\n",
      "EPOCH 2/50\n",
      "============================================================\n"
     ]
    },
    {
     "name": "stderr",
     "output_type": "stream",
     "text": [
      "Training Epoch 2: 100%|███████████████████████████████████████████████████████████████████████████████████████████████████████████████████████████| 109/109 [00:25<00:00,  4.24it/s]\n"
     ]
    },
    {
     "name": "stdout",
     "output_type": "stream",
     "text": [
      "\n",
      "📈 TRAINING EPOCH 2 SUMMARY:\n",
      "   Loss: 0.9867 (α·Cls: 0.9703, β·Trans: 1.0341)\n",
      "   Weights: α=0.7431, β=0.2569\n",
      "   Disease: Acc=0.7294, W-P=0.7672, W-R=0.7294, W-F1=0.7338\n",
      "   Speech: WER=0.1651, CER=0.1113\n"
     ]
    },
    {
     "name": "stderr",
     "output_type": "stream",
     "text": [
      "Evaluating: 100%|███████████████████████████████████████████████████████████████████████████████████████████████████████████████████████████████████| 27/27 [00:02<00:00, 13.17it/s]\n"
     ]
    },
    {
     "name": "stdout",
     "output_type": "stream",
     "text": [
      "\n",
      "📊 VALIDATION SUMMARY:\n",
      "\n",
      "📊 VALIDATION DETAILED METRICS:\n",
      "   🏥 Disease Classification:\n",
      "      Overall Accuracy: 0.7793\n",
      "      Weighted Precision: 0.7995\n",
      "      Weighted Recall: 0.7793\n",
      "      Weighted F1: 0.7833\n",
      "      Macro Precision: 0.7995\n",
      "      Macro Recall: 0.7793\n",
      "      Macro F1: 0.7833\n",
      "   🎯 Transcription:\n",
      "      Overall WER: 0.1486\n",
      "      Overall CER: 0.1098\n",
      "   📈 Per-Class Disease Classification:\n",
      "      Class        Prec   Rec    F1     Support \n",
      "      ----------------------------------------\n",
      "      Normal       0.640 0.803 0.713 71      \n",
      "      Dysphonia    0.879 0.817 0.847 71      \n",
      "      Dysarthria   0.879 0.718 0.791 71      \n",
      "   📝 Per-Class Transcription:\n",
      "      Class        WER    CER    Samples  Valid   \n",
      "      ------------------------------------------------\n",
      "      Normal       0.049 0.025 71       71      \n",
      "      Dysphonia    0.119 0.089 71       71      \n",
      "      Dysarthria   0.323 0.256 71       71      \n",
      "✅ Best model saved: ../checkpoints_exp/checkpoints_tiny_encoder_learning_ffmpeg/best_multitask_model_tiny.pt\n",
      "\n",
      "============================================================\n",
      "EPOCH 3/50\n",
      "============================================================\n"
     ]
    },
    {
     "name": "stderr",
     "output_type": "stream",
     "text": [
      "Training Epoch 3: 100%|███████████████████████████████████████████████████████████████████████████████████████████████████████████████████████████| 109/109 [00:26<00:00,  4.19it/s]\n"
     ]
    },
    {
     "name": "stdout",
     "output_type": "stream",
     "text": [
      "\n",
      "📈 TRAINING EPOCH 3 SUMMARY:\n",
      "   Loss: 0.7926 (α·Cls: 0.7901, β·Trans: 0.7997)\n",
      "   Weights: α=0.7431, β=0.2569\n",
      "   Disease: Acc=0.8238, W-P=0.8221, W-R=0.8238, W-F1=0.8202\n",
      "   Speech: WER=0.1373, CER=0.0966\n"
     ]
    },
    {
     "name": "stderr",
     "output_type": "stream",
     "text": [
      "Evaluating: 100%|███████████████████████████████████████████████████████████████████████████████████████████████████████████████████████████████████| 27/27 [00:02<00:00, 12.92it/s]\n"
     ]
    },
    {
     "name": "stdout",
     "output_type": "stream",
     "text": [
      "\n",
      "📊 VALIDATION SUMMARY:\n",
      "\n",
      "📊 VALIDATION DETAILED METRICS:\n",
      "   🏥 Disease Classification:\n",
      "      Overall Accuracy: 0.8498\n",
      "      Weighted Precision: 0.8541\n",
      "      Weighted Recall: 0.8498\n",
      "      Weighted F1: 0.8425\n",
      "      Macro Precision: 0.8541\n",
      "      Macro Recall: 0.8498\n",
      "      Macro F1: 0.8425\n",
      "   🎯 Transcription:\n",
      "      Overall WER: 0.1334\n",
      "      Overall CER: 0.0987\n",
      "   📈 Per-Class Disease Classification:\n",
      "      Class        Prec   Rec    F1     Support \n",
      "      ----------------------------------------\n",
      "      Normal       0.882 0.634 0.738 71      \n",
      "      Dysphonia    0.805 0.930 0.863 71      \n",
      "      Dysarthria   0.875 0.986 0.927 71      \n",
      "   📝 Per-Class Transcription:\n",
      "      Class        WER    CER    Samples  Valid   \n",
      "      ------------------------------------------------\n",
      "      Normal       0.043 0.022 71       71      \n",
      "      Dysphonia    0.118 0.091 71       71      \n",
      "      Dysarthria   0.274 0.213 71       71      \n",
      "✅ Best model saved: ../checkpoints_exp/checkpoints_tiny_encoder_learning_ffmpeg/best_multitask_model_tiny.pt\n",
      "\n",
      "============================================================\n",
      "EPOCH 4/50\n",
      "============================================================\n"
     ]
    },
    {
     "name": "stderr",
     "output_type": "stream",
     "text": [
      "Training Epoch 4: 100%|███████████████████████████████████████████████████████████████████████████████████████████████████████████████████████████| 109/109 [00:26<00:00,  4.15it/s]\n"
     ]
    },
    {
     "name": "stdout",
     "output_type": "stream",
     "text": [
      "\n",
      "📈 TRAINING EPOCH 4 SUMMARY:\n",
      "   Loss: 0.5982 (α·Cls: 0.5845, β·Trans: 0.6379)\n",
      "   Weights: α=0.7431, β=0.2569\n",
      "   Disease: Acc=0.8613, W-P=0.8645, W-R=0.8613, W-F1=0.8569\n",
      "   Speech: WER=0.1185, CER=0.0862\n"
     ]
    },
    {
     "name": "stderr",
     "output_type": "stream",
     "text": [
      "Evaluating: 100%|███████████████████████████████████████████████████████████████████████████████████████████████████████████████████████████████████| 27/27 [00:02<00:00, 13.12it/s]\n"
     ]
    },
    {
     "name": "stdout",
     "output_type": "stream",
     "text": [
      "\n",
      "📊 VALIDATION SUMMARY:\n",
      "\n",
      "📊 VALIDATION DETAILED METRICS:\n",
      "   🏥 Disease Classification:\n",
      "      Overall Accuracy: 0.8873\n",
      "      Weighted Precision: 0.8899\n",
      "      Weighted Recall: 0.8873\n",
      "      Weighted F1: 0.8840\n",
      "      Macro Precision: 0.8899\n",
      "      Macro Recall: 0.8873\n",
      "      Macro F1: 0.8840\n",
      "   🎯 Transcription:\n",
      "      Overall WER: 0.1239\n",
      "      Overall CER: 0.0936\n",
      "   📈 Per-Class Disease Classification:\n",
      "      Class        Prec   Rec    F1     Support \n",
      "      ----------------------------------------\n",
      "      Normal       0.912 0.732 0.812 71      \n",
      "      Dysphonia    0.835 0.930 0.880 71      \n",
      "      Dysarthria   0.922 1.000 0.959 71      \n",
      "   📝 Per-Class Transcription:\n",
      "      Class        WER    CER    Samples  Valid   \n",
      "      ------------------------------------------------\n",
      "      Normal       0.036 0.020 71       71      \n",
      "      Dysphonia    0.114 0.088 71       71      \n",
      "      Dysarthria   0.252 0.202 71       71      \n",
      "✅ Best model saved: ../checkpoints_exp/checkpoints_tiny_encoder_learning_ffmpeg/best_multitask_model_tiny.pt\n",
      "\n",
      "============================================================\n",
      "EPOCH 5/50\n",
      "============================================================\n"
     ]
    },
    {
     "name": "stderr",
     "output_type": "stream",
     "text": [
      "Training Epoch 5: 100%|███████████████████████████████████████████████████████████████████████████████████████████████████████████████████████████| 109/109 [00:26<00:00,  4.07it/s]\n"
     ]
    },
    {
     "name": "stdout",
     "output_type": "stream",
     "text": [
      "\n",
      "📈 TRAINING EPOCH 5 SUMMARY:\n",
      "   Loss: 0.4316 (α·Cls: 0.4008, β·Trans: 0.5207)\n",
      "   Weights: α=0.7431, β=0.2569\n",
      "   Disease: Acc=0.9148, W-P=0.9145, W-R=0.9148, W-F1=0.9142\n",
      "   Speech: WER=0.1063, CER=0.0824\n"
     ]
    },
    {
     "name": "stderr",
     "output_type": "stream",
     "text": [
      "Evaluating: 100%|███████████████████████████████████████████████████████████████████████████████████████████████████████████████████████████████████| 27/27 [00:02<00:00, 13.15it/s]\n"
     ]
    },
    {
     "name": "stdout",
     "output_type": "stream",
     "text": [
      "\n",
      "📊 VALIDATION SUMMARY:\n",
      "\n",
      "📊 VALIDATION DETAILED METRICS:\n",
      "   🏥 Disease Classification:\n",
      "      Overall Accuracy: 0.9155\n",
      "      Weighted Precision: 0.9170\n",
      "      Weighted Recall: 0.9155\n",
      "      Weighted F1: 0.9144\n",
      "      Macro Precision: 0.9170\n",
      "      Macro Recall: 0.9155\n",
      "      Macro F1: 0.9144\n",
      "   🎯 Transcription:\n",
      "      Overall WER: 0.1296\n",
      "      Overall CER: 0.1009\n",
      "   📈 Per-Class Disease Classification:\n",
      "      Class        Prec   Rec    F1     Support \n",
      "      ----------------------------------------\n",
      "      Normal       0.908 0.831 0.868 71      \n",
      "      Dysphonia    0.956 0.915 0.935 71      \n",
      "      Dysarthria   0.887 1.000 0.940 71      \n",
      "   📝 Per-Class Transcription:\n",
      "      Class        WER    CER    Samples  Valid   \n",
      "      ------------------------------------------------\n",
      "      Normal       0.041 0.021 71       71      \n",
      "      Dysphonia    0.125 0.104 71       71      \n",
      "      Dysarthria   0.252 0.205 71       71      \n",
      "✅ Best model saved: ../checkpoints_exp/checkpoints_tiny_encoder_learning_ffmpeg/best_multitask_model_tiny.pt\n",
      "\n",
      "============================================================\n",
      "EPOCH 6/50\n",
      "============================================================\n"
     ]
    },
    {
     "name": "stderr",
     "output_type": "stream",
     "text": [
      "Training Epoch 6: 100%|███████████████████████████████████████████████████████████████████████████████████████████████████████████████████████████| 109/109 [00:27<00:00,  4.03it/s]\n"
     ]
    },
    {
     "name": "stdout",
     "output_type": "stream",
     "text": [
      "\n",
      "📈 TRAINING EPOCH 6 SUMMARY:\n",
      "   Loss: 0.3070 (α·Cls: 0.2655, β·Trans: 0.4268)\n",
      "   Weights: α=0.7431, β=0.2569\n",
      "   Disease: Acc=0.9539, W-P=0.9539, W-R=0.9539, W-F1=0.9539\n",
      "   Speech: WER=0.1012, CER=0.0797\n"
     ]
    },
    {
     "name": "stderr",
     "output_type": "stream",
     "text": [
      "Evaluating: 100%|███████████████████████████████████████████████████████████████████████████████████████████████████████████████████████████████████| 27/27 [00:02<00:00, 12.92it/s]\n"
     ]
    },
    {
     "name": "stdout",
     "output_type": "stream",
     "text": [
      "\n",
      "📊 VALIDATION SUMMARY:\n",
      "\n",
      "📊 VALIDATION DETAILED METRICS:\n",
      "   🏥 Disease Classification:\n",
      "      Overall Accuracy: 0.9531\n",
      "      Weighted Precision: 0.9532\n",
      "      Weighted Recall: 0.9531\n",
      "      Weighted F1: 0.9528\n",
      "      Macro Precision: 0.9532\n",
      "      Macro Recall: 0.9531\n",
      "      Macro F1: 0.9528\n",
      "   🎯 Transcription:\n",
      "      Overall WER: 0.1144\n",
      "      Overall CER: 0.0804\n",
      "   📈 Per-Class Disease Classification:\n",
      "      Class        Prec   Rec    F1     Support \n",
      "      ----------------------------------------\n",
      "      Normal       0.930 0.930 0.930 71      \n",
      "      Dysphonia    0.971 0.930 0.950 71      \n",
      "      Dysarthria   0.959 1.000 0.979 71      \n",
      "   📝 Per-Class Transcription:\n",
      "      Class        WER    CER    Samples  Valid   \n",
      "      ------------------------------------------------\n",
      "      Normal       0.045 0.022 71       71      \n",
      "      Dysphonia    0.115 0.090 71       71      \n",
      "      Dysarthria   0.203 0.144 71       71      \n",
      "✅ Best model saved: ../checkpoints_exp/checkpoints_tiny_encoder_learning_ffmpeg/best_multitask_model_tiny.pt\n",
      "\n",
      "============================================================\n",
      "EPOCH 7/50\n",
      "============================================================\n"
     ]
    },
    {
     "name": "stderr",
     "output_type": "stream",
     "text": [
      "Training Epoch 7: 100%|███████████████████████████████████████████████████████████████████████████████████████████████████████████████████████████| 109/109 [00:27<00:00,  4.04it/s]\n"
     ]
    },
    {
     "name": "stdout",
     "output_type": "stream",
     "text": [
      "\n",
      "📈 TRAINING EPOCH 7 SUMMARY:\n",
      "   Loss: 0.2153 (α·Cls: 0.1731, β·Trans: 0.3375)\n",
      "   Weights: α=0.7431, β=0.2569\n",
      "   Disease: Acc=0.9706, W-P=0.9708, W-R=0.9706, W-F1=0.9707\n",
      "   Speech: WER=0.0759, CER=0.0463\n"
     ]
    },
    {
     "name": "stderr",
     "output_type": "stream",
     "text": [
      "Evaluating: 100%|███████████████████████████████████████████████████████████████████████████████████████████████████████████████████████████████████| 27/27 [00:02<00:00, 12.90it/s]\n"
     ]
    },
    {
     "name": "stdout",
     "output_type": "stream",
     "text": [
      "\n",
      "📊 VALIDATION SUMMARY:\n",
      "\n",
      "📊 VALIDATION DETAILED METRICS:\n",
      "   🏥 Disease Classification:\n",
      "      Overall Accuracy: 0.9671\n",
      "      Weighted Precision: 0.9674\n",
      "      Weighted Recall: 0.9671\n",
      "      Weighted F1: 0.9671\n",
      "      Macro Precision: 0.9674\n",
      "      Macro Recall: 0.9671\n",
      "      Macro F1: 0.9671\n",
      "   🎯 Transcription:\n",
      "      Overall WER: 0.1045\n",
      "      Overall CER: 0.0682\n",
      "   📈 Per-Class Disease Classification:\n",
      "      Class        Prec   Rec    F1     Support \n",
      "      ----------------------------------------\n",
      "      Normal       0.944 0.958 0.951 71      \n",
      "      Dysphonia    0.985 0.944 0.964 71      \n",
      "      Dysarthria   0.973 1.000 0.986 71      \n",
      "   📝 Per-Class Transcription:\n",
      "      Class        WER    CER    Samples  Valid   \n",
      "      ------------------------------------------------\n",
      "      Normal       0.050 0.023 71       71      \n",
      "      Dysphonia    0.089 0.058 71       71      \n",
      "      Dysarthria   0.198 0.145 71       71      \n",
      "✅ Best model saved: ../checkpoints_exp/checkpoints_tiny_encoder_learning_ffmpeg/best_multitask_model_tiny.pt\n",
      "\n",
      "============================================================\n",
      "EPOCH 8/50\n",
      "============================================================\n"
     ]
    },
    {
     "name": "stderr",
     "output_type": "stream",
     "text": [
      "Training Epoch 8: 100%|███████████████████████████████████████████████████████████████████████████████████████████████████████████████████████████| 109/109 [00:27<00:00,  4.03it/s]\n"
     ]
    },
    {
     "name": "stdout",
     "output_type": "stream",
     "text": [
      "\n",
      "📈 TRAINING EPOCH 8 SUMMARY:\n",
      "   Loss: 0.1463 (α·Cls: 0.1176, β·Trans: 0.2294)\n",
      "   Weights: α=0.7431, β=0.2569\n",
      "   Disease: Acc=0.9804, W-P=0.9804, W-R=0.9804, W-F1=0.9804\n",
      "   Speech: WER=0.0683, CER=0.0406\n"
     ]
    },
    {
     "name": "stderr",
     "output_type": "stream",
     "text": [
      "Evaluating: 100%|███████████████████████████████████████████████████████████████████████████████████████████████████████████████████████████████████| 27/27 [00:02<00:00, 12.64it/s]\n"
     ]
    },
    {
     "name": "stdout",
     "output_type": "stream",
     "text": [
      "\n",
      "📊 VALIDATION SUMMARY:\n",
      "\n",
      "📊 VALIDATION DETAILED METRICS:\n",
      "   🏥 Disease Classification:\n",
      "      Overall Accuracy: 0.9765\n",
      "      Weighted Precision: 0.9767\n",
      "      Weighted Recall: 0.9765\n",
      "      Weighted F1: 0.9764\n",
      "      Macro Precision: 0.9767\n",
      "      Macro Recall: 0.9765\n",
      "      Macro F1: 0.9764\n",
      "   🎯 Transcription:\n",
      "      Overall WER: 0.1049\n",
      "      Overall CER: 0.0703\n",
      "   📈 Per-Class Disease Classification:\n",
      "      Class        Prec   Rec    F1     Support \n",
      "      ----------------------------------------\n",
      "      Normal       0.985 0.944 0.964 71      \n",
      "      Dysphonia    0.972 0.986 0.979 71      \n",
      "      Dysarthria   0.973 1.000 0.986 71      \n",
      "   📝 Per-Class Transcription:\n",
      "      Class        WER    CER    Samples  Valid   \n",
      "      ------------------------------------------------\n",
      "      Normal       0.050 0.024 71       71      \n",
      "      Dysphonia    0.089 0.059 71       71      \n",
      "      Dysarthria   0.200 0.151 71       71      \n",
      "✅ Best model saved: ../checkpoints_exp/checkpoints_tiny_encoder_learning_ffmpeg/best_multitask_model_tiny.pt\n",
      "\n",
      "============================================================\n",
      "EPOCH 9/50\n",
      "============================================================\n"
     ]
    },
    {
     "name": "stderr",
     "output_type": "stream",
     "text": [
      "Training Epoch 9: 100%|███████████████████████████████████████████████████████████████████████████████████████████████████████████████████████████| 109/109 [00:48<00:00,  2.27it/s]\n"
     ]
    },
    {
     "name": "stdout",
     "output_type": "stream",
     "text": [
      "\n",
      "📈 TRAINING EPOCH 9 SUMMARY:\n",
      "   Loss: 0.0845 (α·Cls: 0.0792, β·Trans: 0.0998)\n",
      "   Weights: α=0.7431, β=0.2569\n",
      "   Disease: Acc=0.9850, W-P=0.9851, W-R=0.9850, W-F1=0.9851\n",
      "   Speech: WER=0.0634, CER=0.0381\n"
     ]
    },
    {
     "name": "stderr",
     "output_type": "stream",
     "text": [
      "Evaluating: 100%|███████████████████████████████████████████████████████████████████████████████████████████████████████████████████████████████████| 27/27 [00:02<00:00, 11.15it/s]\n"
     ]
    },
    {
     "name": "stdout",
     "output_type": "stream",
     "text": [
      "\n",
      "📊 VALIDATION SUMMARY:\n",
      "\n",
      "📊 VALIDATION DETAILED METRICS:\n",
      "   🏥 Disease Classification:\n",
      "      Overall Accuracy: 0.9859\n",
      "      Weighted Precision: 0.9862\n",
      "      Weighted Recall: 0.9859\n",
      "      Weighted F1: 0.9858\n",
      "      Macro Precision: 0.9862\n",
      "      Macro Recall: 0.9859\n",
      "      Macro F1: 0.9858\n",
      "   🎯 Transcription:\n",
      "      Overall WER: 0.1016\n",
      "      Overall CER: 0.0679\n",
      "   📈 Per-Class Disease Classification:\n",
      "      Class        Prec   Rec    F1     Support \n",
      "      ----------------------------------------\n",
      "      Normal       1.000 0.958 0.978 71      \n",
      "      Dysphonia    0.986 1.000 0.993 71      \n",
      "      Dysarthria   0.973 1.000 0.986 71      \n",
      "   📝 Per-Class Transcription:\n",
      "      Class        WER    CER    Samples  Valid   \n",
      "      ------------------------------------------------\n",
      "      Normal       0.049 0.024 71       71      \n",
      "      Dysphonia    0.086 0.056 71       71      \n",
      "      Dysarthria   0.194 0.146 71       71      \n",
      "✅ Best model saved: ../checkpoints_exp/checkpoints_tiny_encoder_learning_ffmpeg/best_multitask_model_tiny.pt\n",
      "\n",
      "============================================================\n",
      "EPOCH 10/50\n",
      "============================================================\n"
     ]
    },
    {
     "name": "stderr",
     "output_type": "stream",
     "text": [
      "Training Epoch 10: 100%|██████████████████████████████████████████████████████████████████████████████████████████████████████████████████████████| 109/109 [01:00<00:00,  1.79it/s]\n"
     ]
    },
    {
     "name": "stdout",
     "output_type": "stream",
     "text": [
      "\n",
      "📈 TRAINING EPOCH 10 SUMMARY:\n",
      "   Loss: 0.0590 (α·Cls: 0.0541, β·Trans: 0.0731)\n",
      "   Weights: α=0.7431, β=0.2569\n",
      "   Disease: Acc=0.9873, W-P=0.9874, W-R=0.9873, W-F1=0.9873\n",
      "   Speech: WER=0.0582, CER=0.0346\n"
     ]
    },
    {
     "name": "stderr",
     "output_type": "stream",
     "text": [
      "Evaluating: 100%|███████████████████████████████████████████████████████████████████████████████████████████████████████████████████████████████████| 27/27 [00:02<00:00, 11.29it/s]\n"
     ]
    },
    {
     "name": "stdout",
     "output_type": "stream",
     "text": [
      "\n",
      "📊 VALIDATION SUMMARY:\n",
      "\n",
      "📊 VALIDATION DETAILED METRICS:\n",
      "   🏥 Disease Classification:\n",
      "      Overall Accuracy: 0.9859\n",
      "      Weighted Precision: 0.9862\n",
      "      Weighted Recall: 0.9859\n",
      "      Weighted F1: 0.9858\n",
      "      Macro Precision: 0.9862\n",
      "      Macro Recall: 0.9859\n",
      "      Macro F1: 0.9858\n",
      "   🎯 Transcription:\n",
      "      Overall WER: 0.0945\n",
      "      Overall CER: 0.0622\n",
      "   📈 Per-Class Disease Classification:\n",
      "      Class        Prec   Rec    F1     Support \n",
      "      ----------------------------------------\n",
      "      Normal       1.000 0.958 0.978 71      \n",
      "      Dysphonia    0.986 1.000 0.993 71      \n",
      "      Dysarthria   0.973 1.000 0.986 71      \n",
      "   📝 Per-Class Transcription:\n",
      "      Class        WER    CER    Samples  Valid   \n",
      "      ------------------------------------------------\n",
      "      Normal       0.049 0.024 71       71      \n",
      "      Dysphonia    0.077 0.052 71       71      \n",
      "      Dysarthria   0.180 0.130 71       71      \n",
      "✅ Best model saved: ../checkpoints_exp/checkpoints_tiny_encoder_learning_ffmpeg/best_multitask_model_tiny.pt\n",
      "\n",
      "============================================================\n",
      "EPOCH 11/50\n",
      "============================================================\n"
     ]
    },
    {
     "name": "stderr",
     "output_type": "stream",
     "text": [
      "Training Epoch 11: 100%|██████████████████████████████████████████████████████████████████████████████████████████████████████████████████████████| 109/109 [01:13<00:00,  1.48it/s]\n"
     ]
    },
    {
     "name": "stdout",
     "output_type": "stream",
     "text": [
      "\n",
      "📈 TRAINING EPOCH 11 SUMMARY:\n",
      "   Loss: 0.0402 (α·Cls: 0.0361, β·Trans: 0.0520)\n",
      "   Weights: α=0.7431, β=0.2569\n",
      "   Disease: Acc=0.9925, W-P=0.9925, W-R=0.9925, W-F1=0.9925\n",
      "   Speech: WER=0.0571, CER=0.0334\n"
     ]
    },
    {
     "name": "stderr",
     "output_type": "stream",
     "text": [
      "Evaluating: 100%|███████████████████████████████████████████████████████████████████████████████████████████████████████████████████████████████████| 27/27 [00:02<00:00, 11.22it/s]\n"
     ]
    },
    {
     "name": "stdout",
     "output_type": "stream",
     "text": [
      "\n",
      "📊 VALIDATION SUMMARY:\n",
      "\n",
      "📊 VALIDATION DETAILED METRICS:\n",
      "   🏥 Disease Classification:\n",
      "      Overall Accuracy: 0.9859\n",
      "      Weighted Precision: 0.9862\n",
      "      Weighted Recall: 0.9859\n",
      "      Weighted F1: 0.9858\n",
      "      Macro Precision: 0.9862\n",
      "      Macro Recall: 0.9859\n",
      "      Macro F1: 0.9858\n",
      "   🎯 Transcription:\n",
      "      Overall WER: 0.0869\n",
      "      Overall CER: 0.0580\n",
      "   📈 Per-Class Disease Classification:\n",
      "      Class        Prec   Rec    F1     Support \n",
      "      ----------------------------------------\n",
      "      Normal       1.000 0.958 0.978 71      \n",
      "      Dysphonia    0.986 1.000 0.993 71      \n",
      "      Dysarthria   0.973 1.000 0.986 71      \n",
      "   📝 Per-Class Transcription:\n",
      "      Class        WER    CER    Samples  Valid   \n",
      "      ------------------------------------------------\n",
      "      Normal       0.046 0.023 71       71      \n",
      "      Dysphonia    0.073 0.049 71       71      \n",
      "      Dysarthria   0.162 0.120 71       71      \n",
      "✅ Best model saved: ../checkpoints_exp/checkpoints_tiny_encoder_learning_ffmpeg/best_multitask_model_tiny.pt\n",
      "\n",
      "============================================================\n",
      "EPOCH 12/50\n",
      "============================================================\n"
     ]
    },
    {
     "name": "stderr",
     "output_type": "stream",
     "text": [
      "Training Epoch 12: 100%|██████████████████████████████████████████████████████████████████████████████████████████████████████████████████████████| 109/109 [01:21<00:00,  1.34it/s]\n"
     ]
    },
    {
     "name": "stdout",
     "output_type": "stream",
     "text": [
      "\n",
      "📈 TRAINING EPOCH 12 SUMMARY:\n",
      "   Loss: 0.0282 (α·Cls: 0.0257, β·Trans: 0.0353)\n",
      "   Weights: α=0.7431, β=0.2569\n",
      "   Disease: Acc=0.9937, W-P=0.9937, W-R=0.9937, W-F1=0.9937\n",
      "   Speech: WER=0.0519, CER=0.0320\n"
     ]
    },
    {
     "name": "stderr",
     "output_type": "stream",
     "text": [
      "Evaluating: 100%|███████████████████████████████████████████████████████████████████████████████████████████████████████████████████████████████████| 27/27 [00:03<00:00,  7.63it/s]\n"
     ]
    },
    {
     "name": "stdout",
     "output_type": "stream",
     "text": [
      "\n",
      "📊 VALIDATION SUMMARY:\n",
      "\n",
      "📊 VALIDATION DETAILED METRICS:\n",
      "   🏥 Disease Classification:\n",
      "      Overall Accuracy: 0.9953\n",
      "      Weighted Precision: 0.9954\n",
      "      Weighted Recall: 0.9953\n",
      "      Weighted F1: 0.9953\n",
      "      Macro Precision: 0.9954\n",
      "      Macro Recall: 0.9953\n",
      "      Macro F1: 0.9953\n",
      "   🎯 Transcription:\n",
      "      Overall WER: 0.0826\n",
      "      Overall CER: 0.0550\n",
      "   📈 Per-Class Disease Classification:\n",
      "      Class        Prec   Rec    F1     Support \n",
      "      ----------------------------------------\n",
      "      Normal       1.000 0.986 0.993 71      \n",
      "      Dysphonia    1.000 1.000 1.000 71      \n",
      "      Dysarthria   0.986 1.000 0.993 71      \n",
      "   📝 Per-Class Transcription:\n",
      "      Class        WER    CER    Samples  Valid   \n",
      "      ------------------------------------------------\n",
      "      Normal       0.043 0.020 71       71      \n",
      "      Dysphonia    0.070 0.048 71       71      \n",
      "      Dysarthria   0.152 0.113 71       71      \n",
      "✅ Best model saved: ../checkpoints_exp/checkpoints_tiny_encoder_learning_ffmpeg/best_multitask_model_tiny.pt\n",
      "\n",
      "============================================================\n",
      "EPOCH 13/50\n",
      "============================================================\n"
     ]
    },
    {
     "name": "stderr",
     "output_type": "stream",
     "text": [
      "Training Epoch 13: 100%|██████████████████████████████████████████████████████████████████████████████████████████████████████████████████████████| 109/109 [01:30<00:00,  1.20it/s]\n"
     ]
    },
    {
     "name": "stdout",
     "output_type": "stream",
     "text": [
      "\n",
      "📈 TRAINING EPOCH 13 SUMMARY:\n",
      "   Loss: 0.0206 (α·Cls: 0.0197, β·Trans: 0.0234)\n",
      "   Weights: α=0.7431, β=0.2569\n",
      "   Disease: Acc=0.9931, W-P=0.9931, W-R=0.9931, W-F1=0.9931\n",
      "   Speech: WER=0.0561, CER=0.0322\n"
     ]
    },
    {
     "name": "stderr",
     "output_type": "stream",
     "text": [
      "Evaluating: 100%|███████████████████████████████████████████████████████████████████████████████████████████████████████████████████████████████████| 27/27 [00:02<00:00, 11.69it/s]\n"
     ]
    },
    {
     "name": "stdout",
     "output_type": "stream",
     "text": [
      "\n",
      "📊 VALIDATION SUMMARY:\n",
      "\n",
      "📊 VALIDATION DETAILED METRICS:\n",
      "   🏥 Disease Classification:\n",
      "      Overall Accuracy: 0.9906\n",
      "      Weighted Precision: 0.9909\n",
      "      Weighted Recall: 0.9906\n",
      "      Weighted F1: 0.9906\n",
      "      Macro Precision: 0.9909\n",
      "      Macro Recall: 0.9906\n",
      "      Macro F1: 0.9906\n",
      "   🎯 Transcription:\n",
      "      Overall WER: 0.0807\n",
      "      Overall CER: 0.0539\n",
      "   📈 Per-Class Disease Classification:\n",
      "      Class        Prec   Rec    F1     Support \n",
      "      ----------------------------------------\n",
      "      Normal       1.000 0.972 0.986 71      \n",
      "      Dysphonia    1.000 1.000 1.000 71      \n",
      "      Dysarthria   0.973 1.000 0.986 71      \n",
      "   📝 Per-Class Transcription:\n",
      "      Class        WER    CER    Samples  Valid   \n",
      "      ------------------------------------------------\n",
      "      Normal       0.042 0.020 71       71      \n",
      "      Dysphonia    0.069 0.048 71       71      \n",
      "      Dysarthria   0.149 0.108 71       71      \n",
      "⏳ No improvement. Patience: 1/10\n",
      "\n",
      "============================================================\n",
      "EPOCH 14/50\n",
      "============================================================\n"
     ]
    },
    {
     "name": "stderr",
     "output_type": "stream",
     "text": [
      "Training Epoch 14: 100%|██████████████████████████████████████████████████████████████████████████████████████████████████████████████████████████| 109/109 [00:28<00:00,  3.82it/s]\n"
     ]
    },
    {
     "name": "stdout",
     "output_type": "stream",
     "text": [
      "\n",
      "📈 TRAINING EPOCH 14 SUMMARY:\n",
      "   Loss: 0.0157 (α·Cls: 0.0154, β·Trans: 0.0166)\n",
      "   Weights: α=0.7431, β=0.2569\n",
      "   Disease: Acc=0.9960, W-P=0.9960, W-R=0.9960, W-F1=0.9960\n",
      "   Speech: WER=0.0513, CER=0.0291\n"
     ]
    },
    {
     "name": "stderr",
     "output_type": "stream",
     "text": [
      "Evaluating: 100%|███████████████████████████████████████████████████████████████████████████████████████████████████████████████████████████████████| 27/27 [00:02<00:00, 12.96it/s]\n"
     ]
    },
    {
     "name": "stdout",
     "output_type": "stream",
     "text": [
      "\n",
      "📊 VALIDATION SUMMARY:\n",
      "\n",
      "📊 VALIDATION DETAILED METRICS:\n",
      "   🏥 Disease Classification:\n",
      "      Overall Accuracy: 0.9906\n",
      "      Weighted Precision: 0.9907\n",
      "      Weighted Recall: 0.9906\n",
      "      Weighted F1: 0.9906\n",
      "      Macro Precision: 0.9907\n",
      "      Macro Recall: 0.9906\n",
      "      Macro F1: 0.9906\n",
      "   🎯 Transcription:\n",
      "      Overall WER: 0.0812\n",
      "      Overall CER: 0.0545\n",
      "   📈 Per-Class Disease Classification:\n",
      "      Class        Prec   Rec    F1     Support \n",
      "      ----------------------------------------\n",
      "      Normal       1.000 0.972 0.986 71      \n",
      "      Dysphonia    0.986 1.000 0.993 71      \n",
      "      Dysarthria   0.986 1.000 0.993 71      \n",
      "   📝 Per-Class Transcription:\n",
      "      Class        WER    CER    Samples  Valid   \n",
      "      ------------------------------------------------\n",
      "      Normal       0.042 0.020 71       71      \n",
      "      Dysphonia    0.071 0.050 71       71      \n",
      "      Dysarthria   0.147 0.108 71       71      \n",
      "✅ Best model saved: ../checkpoints_exp/checkpoints_tiny_encoder_learning_ffmpeg/best_multitask_model_tiny.pt\n",
      "\n",
      "============================================================\n",
      "EPOCH 15/50\n",
      "============================================================\n"
     ]
    },
    {
     "name": "stderr",
     "output_type": "stream",
     "text": [
      "Training Epoch 15: 100%|██████████████████████████████████████████████████████████████████████████████████████████████████████████████████████████| 109/109 [00:27<00:00,  3.96it/s]\n"
     ]
    },
    {
     "name": "stdout",
     "output_type": "stream",
     "text": [
      "\n",
      "📈 TRAINING EPOCH 15 SUMMARY:\n",
      "   Loss: 0.0120 (α·Cls: 0.0120, β·Trans: 0.0122)\n",
      "   Weights: α=0.7431, β=0.2569\n",
      "   Disease: Acc=0.9965, W-P=0.9965, W-R=0.9965, W-F1=0.9965\n",
      "   Speech: WER=0.0493, CER=0.0275\n"
     ]
    },
    {
     "name": "stderr",
     "output_type": "stream",
     "text": [
      "Evaluating: 100%|███████████████████████████████████████████████████████████████████████████████████████████████████████████████████████████████████| 27/27 [00:02<00:00, 12.93it/s]\n"
     ]
    },
    {
     "name": "stdout",
     "output_type": "stream",
     "text": [
      "\n",
      "📊 VALIDATION SUMMARY:\n",
      "\n",
      "📊 VALIDATION DETAILED METRICS:\n",
      "   🏥 Disease Classification:\n",
      "      Overall Accuracy: 0.9953\n",
      "      Weighted Precision: 0.9954\n",
      "      Weighted Recall: 0.9953\n",
      "      Weighted F1: 0.9953\n",
      "      Macro Precision: 0.9954\n",
      "      Macro Recall: 0.9953\n",
      "      Macro F1: 0.9953\n",
      "   🎯 Transcription:\n",
      "      Overall WER: 0.0831\n",
      "      Overall CER: 0.0550\n",
      "   📈 Per-Class Disease Classification:\n",
      "      Class        Prec   Rec    F1     Support \n",
      "      ----------------------------------------\n",
      "      Normal       1.000 0.986 0.993 71      \n",
      "      Dysphonia    0.986 1.000 0.993 71      \n",
      "      Dysarthria   1.000 1.000 1.000 71      \n",
      "   📝 Per-Class Transcription:\n",
      "      Class        WER    CER    Samples  Valid   \n",
      "      ------------------------------------------------\n",
      "      Normal       0.043 0.021 71       71      \n",
      "      Dysphonia    0.073 0.050 71       71      \n",
      "      Dysarthria   0.151 0.110 71       71      \n",
      "✅ Best model saved: ../checkpoints_exp/checkpoints_tiny_encoder_learning_ffmpeg/best_multitask_model_tiny.pt\n",
      "\n",
      "============================================================\n",
      "EPOCH 16/50\n",
      "============================================================\n"
     ]
    },
    {
     "name": "stderr",
     "output_type": "stream",
     "text": [
      "Training Epoch 16: 100%|██████████████████████████████████████████████████████████████████████████████████████████████████████████████████████████| 109/109 [00:28<00:00,  3.80it/s]\n"
     ]
    },
    {
     "name": "stdout",
     "output_type": "stream",
     "text": [
      "\n",
      "📈 TRAINING EPOCH 16 SUMMARY:\n",
      "   Loss: 0.0096 (α·Cls: 0.0097, β·Trans: 0.0093)\n",
      "   Weights: α=0.7431, β=0.2569\n",
      "   Disease: Acc=0.9971, W-P=0.9971, W-R=0.9971, W-F1=0.9971\n",
      "   Speech: WER=0.0493, CER=0.0284\n"
     ]
    },
    {
     "name": "stderr",
     "output_type": "stream",
     "text": [
      "Evaluating: 100%|███████████████████████████████████████████████████████████████████████████████████████████████████████████████████████████████████| 27/27 [00:03<00:00,  8.76it/s]\n"
     ]
    },
    {
     "name": "stdout",
     "output_type": "stream",
     "text": [
      "\n",
      "📊 VALIDATION SUMMARY:\n",
      "\n",
      "📊 VALIDATION DETAILED METRICS:\n",
      "   🏥 Disease Classification:\n",
      "      Overall Accuracy: 0.9953\n",
      "      Weighted Precision: 0.9954\n",
      "      Weighted Recall: 0.9953\n",
      "      Weighted F1: 0.9953\n",
      "      Macro Precision: 0.9954\n",
      "      Macro Recall: 0.9953\n",
      "      Macro F1: 0.9953\n",
      "   🎯 Transcription:\n",
      "      Overall WER: 0.0850\n",
      "      Overall CER: 0.0569\n",
      "   📈 Per-Class Disease Classification:\n",
      "      Class        Prec   Rec    F1     Support \n",
      "      ----------------------------------------\n",
      "      Normal       1.000 0.986 0.993 71      \n",
      "      Dysphonia    1.000 1.000 1.000 71      \n",
      "      Dysarthria   0.986 1.000 0.993 71      \n",
      "   📝 Per-Class Transcription:\n",
      "      Class        WER    CER    Samples  Valid   \n",
      "      ------------------------------------------------\n",
      "      Normal       0.045 0.022 71       71      \n",
      "      Dysphonia    0.071 0.050 71       71      \n",
      "      Dysarthria   0.158 0.114 71       71      \n",
      "✅ Best model saved: ../checkpoints_exp/checkpoints_tiny_encoder_learning_ffmpeg/best_multitask_model_tiny.pt\n",
      "\n",
      "============================================================\n",
      "EPOCH 17/50\n",
      "============================================================\n"
     ]
    },
    {
     "name": "stderr",
     "output_type": "stream",
     "text": [
      "Training Epoch 17: 100%|██████████████████████████████████████████████████████████████████████████████████████████████████████████████████████████| 109/109 [00:28<00:00,  3.83it/s]\n"
     ]
    },
    {
     "name": "stdout",
     "output_type": "stream",
     "text": [
      "\n",
      "📈 TRAINING EPOCH 17 SUMMARY:\n",
      "   Loss: 0.0068 (α·Cls: 0.0066, β·Trans: 0.0072)\n",
      "   Weights: α=0.7431, β=0.2569\n",
      "   Disease: Acc=0.9983, W-P=0.9983, W-R=0.9983, W-F1=0.9983\n",
      "   Speech: WER=0.0502, CER=0.0290\n"
     ]
    },
    {
     "name": "stderr",
     "output_type": "stream",
     "text": [
      "Evaluating: 100%|███████████████████████████████████████████████████████████████████████████████████████████████████████████████████████████████████| 27/27 [00:02<00:00, 12.57it/s]\n"
     ]
    },
    {
     "name": "stdout",
     "output_type": "stream",
     "text": [
      "\n",
      "📊 VALIDATION SUMMARY:\n",
      "\n",
      "📊 VALIDATION DETAILED METRICS:\n",
      "   🏥 Disease Classification:\n",
      "      Overall Accuracy: 0.9953\n",
      "      Weighted Precision: 0.9954\n",
      "      Weighted Recall: 0.9953\n",
      "      Weighted F1: 0.9953\n",
      "      Macro Precision: 0.9954\n",
      "      Macro Recall: 0.9953\n",
      "      Macro F1: 0.9953\n",
      "   🎯 Transcription:\n",
      "      Overall WER: 0.0755\n",
      "      Overall CER: 0.0497\n",
      "   📈 Per-Class Disease Classification:\n",
      "      Class        Prec   Rec    F1     Support \n",
      "      ----------------------------------------\n",
      "      Normal       1.000 0.986 0.993 71      \n",
      "      Dysphonia    1.000 1.000 1.000 71      \n",
      "      Dysarthria   0.986 1.000 0.993 71      \n",
      "   📝 Per-Class Transcription:\n",
      "      Class        WER    CER    Samples  Valid   \n",
      "      ------------------------------------------------\n",
      "      Normal       0.038 0.018 71       71      \n",
      "      Dysphonia    0.067 0.047 71       71      \n",
      "      Dysarthria   0.138 0.098 71       71      \n",
      "✅ Best model saved: ../checkpoints_exp/checkpoints_tiny_encoder_learning_ffmpeg/best_multitask_model_tiny.pt\n",
      "\n",
      "============================================================\n",
      "EPOCH 18/50\n",
      "============================================================\n"
     ]
    },
    {
     "name": "stderr",
     "output_type": "stream",
     "text": [
      "Training Epoch 18: 100%|██████████████████████████████████████████████████████████████████████████████████████████████████████████████████████████| 109/109 [00:56<00:00,  1.94it/s]\n"
     ]
    },
    {
     "name": "stdout",
     "output_type": "stream",
     "text": [
      "\n",
      "📈 TRAINING EPOCH 18 SUMMARY:\n",
      "   Loss: 0.0050 (α·Cls: 0.0048, β·Trans: 0.0057)\n",
      "   Weights: α=0.7431, β=0.2569\n",
      "   Disease: Acc=0.9994, W-P=0.9994, W-R=0.9994, W-F1=0.9994\n",
      "   Speech: WER=0.0502, CER=0.0284\n"
     ]
    },
    {
     "name": "stderr",
     "output_type": "stream",
     "text": [
      "Evaluating: 100%|███████████████████████████████████████████████████████████████████████████████████████████████████████████████████████████████████| 27/27 [00:02<00:00, 11.05it/s]\n"
     ]
    },
    {
     "name": "stdout",
     "output_type": "stream",
     "text": [
      "\n",
      "📊 VALIDATION SUMMARY:\n",
      "\n",
      "📊 VALIDATION DETAILED METRICS:\n",
      "   🏥 Disease Classification:\n",
      "      Overall Accuracy: 1.0000\n",
      "      Weighted Precision: 1.0000\n",
      "      Weighted Recall: 1.0000\n",
      "      Weighted F1: 1.0000\n",
      "      Macro Precision: 1.0000\n",
      "      Macro Recall: 1.0000\n",
      "      Macro F1: 1.0000\n",
      "   🎯 Transcription:\n",
      "      Overall WER: 0.0788\n",
      "      Overall CER: 0.0514\n",
      "   📈 Per-Class Disease Classification:\n",
      "      Class        Prec   Rec    F1     Support \n",
      "      ----------------------------------------\n",
      "      Normal       1.000 1.000 1.000 71      \n",
      "      Dysphonia    1.000 1.000 1.000 71      \n",
      "      Dysarthria   1.000 1.000 1.000 71      \n",
      "   📝 Per-Class Transcription:\n",
      "      Class        WER    CER    Samples  Valid   \n",
      "      ------------------------------------------------\n",
      "      Normal       0.042 0.020 71       71      \n",
      "      Dysphonia    0.070 0.048 71       71      \n",
      "      Dysarthria   0.140 0.100 71       71      \n",
      "✅ Best model saved: ../checkpoints_exp/checkpoints_tiny_encoder_learning_ffmpeg/best_multitask_model_tiny.pt\n",
      "\n",
      "============================================================\n",
      "EPOCH 19/50\n",
      "============================================================\n"
     ]
    },
    {
     "name": "stderr",
     "output_type": "stream",
     "text": [
      "Training Epoch 19: 100%|██████████████████████████████████████████████████████████████████████████████████████████████████████████████████████████| 109/109 [01:00<00:00,  1.79it/s]\n"
     ]
    },
    {
     "name": "stdout",
     "output_type": "stream",
     "text": [
      "\n",
      "📈 TRAINING EPOCH 19 SUMMARY:\n",
      "   Loss: 0.0037 (α·Cls: 0.0033, β·Trans: 0.0048)\n",
      "   Weights: α=0.7431, β=0.2569\n",
      "   Disease: Acc=0.9988, W-P=0.9989, W-R=0.9988, W-F1=0.9988\n",
      "   Speech: WER=0.0509, CER=0.0292\n"
     ]
    },
    {
     "name": "stderr",
     "output_type": "stream",
     "text": [
      "Evaluating: 100%|███████████████████████████████████████████████████████████████████████████████████████████████████████████████████████████████████| 27/27 [00:02<00:00, 11.06it/s]\n"
     ]
    },
    {
     "name": "stdout",
     "output_type": "stream",
     "text": [
      "\n",
      "📊 VALIDATION SUMMARY:\n",
      "\n",
      "📊 VALIDATION DETAILED METRICS:\n",
      "   🏥 Disease Classification:\n",
      "      Overall Accuracy: 0.9953\n",
      "      Weighted Precision: 0.9954\n",
      "      Weighted Recall: 0.9953\n",
      "      Weighted F1: 0.9953\n",
      "      Macro Precision: 0.9954\n",
      "      Macro Recall: 0.9953\n",
      "      Macro F1: 0.9953\n",
      "   🎯 Transcription:\n",
      "      Overall WER: 0.0788\n",
      "      Overall CER: 0.0512\n",
      "   📈 Per-Class Disease Classification:\n",
      "      Class        Prec   Rec    F1     Support \n",
      "      ----------------------------------------\n",
      "      Normal       1.000 0.986 0.993 71      \n",
      "      Dysphonia    1.000 1.000 1.000 71      \n",
      "      Dysarthria   0.986 1.000 0.993 71      \n",
      "   📝 Per-Class Transcription:\n",
      "      Class        WER    CER    Samples  Valid   \n",
      "      ------------------------------------------------\n",
      "      Normal       0.043 0.020 71       71      \n",
      "      Dysphonia    0.071 0.050 71       71      \n",
      "      Dysarthria   0.136 0.096 71       71      \n",
      "⏳ No improvement. Patience: 1/10\n",
      "\n",
      "============================================================\n",
      "EPOCH 20/50\n",
      "============================================================\n"
     ]
    },
    {
     "name": "stderr",
     "output_type": "stream",
     "text": [
      "Training Epoch 20: 100%|██████████████████████████████████████████████████████████████████████████████████████████████████████████████████████████| 109/109 [01:03<00:00,  1.71it/s]\n"
     ]
    },
    {
     "name": "stdout",
     "output_type": "stream",
     "text": [
      "\n",
      "📈 TRAINING EPOCH 20 SUMMARY:\n",
      "   Loss: 0.0025 (α·Cls: 0.0019, β·Trans: 0.0041)\n",
      "   Weights: α=0.7431, β=0.2569\n",
      "   Disease: Acc=0.9994, W-P=0.9994, W-R=0.9994, W-F1=0.9994\n",
      "   Speech: WER=0.0512, CER=0.0293\n"
     ]
    },
    {
     "name": "stderr",
     "output_type": "stream",
     "text": [
      "Evaluating: 100%|███████████████████████████████████████████████████████████████████████████████████████████████████████████████████████████████████| 27/27 [00:02<00:00, 11.24it/s]\n"
     ]
    },
    {
     "name": "stdout",
     "output_type": "stream",
     "text": [
      "\n",
      "📊 VALIDATION SUMMARY:\n",
      "\n",
      "📊 VALIDATION DETAILED METRICS:\n",
      "   🏥 Disease Classification:\n",
      "      Overall Accuracy: 0.9906\n",
      "      Weighted Precision: 0.9909\n",
      "      Weighted Recall: 0.9906\n",
      "      Weighted F1: 0.9906\n",
      "      Macro Precision: 0.9909\n",
      "      Macro Recall: 0.9906\n",
      "      Macro F1: 0.9906\n",
      "   🎯 Transcription:\n",
      "      Overall WER: 0.0769\n",
      "      Overall CER: 0.0505\n",
      "   📈 Per-Class Disease Classification:\n",
      "      Class        Prec   Rec    F1     Support \n",
      "      ----------------------------------------\n",
      "      Normal       1.000 0.972 0.986 71      \n",
      "      Dysphonia    1.000 1.000 1.000 71      \n",
      "      Dysarthria   0.973 1.000 0.986 71      \n",
      "   📝 Per-Class Transcription:\n",
      "      Class        WER    CER    Samples  Valid   \n",
      "      ------------------------------------------------\n",
      "      Normal       0.043 0.020 71       71      \n",
      "      Dysphonia    0.068 0.047 71       71      \n",
      "      Dysarthria   0.134 0.096 71       71      \n",
      "⏳ No improvement. Patience: 2/10\n",
      "\n",
      "============================================================\n",
      "EPOCH 21/50\n",
      "============================================================\n"
     ]
    },
    {
     "name": "stderr",
     "output_type": "stream",
     "text": [
      "Training Epoch 21: 100%|██████████████████████████████████████████████████████████████████████████████████████████████████████████████████████████| 109/109 [01:00<00:00,  1.81it/s]\n"
     ]
    },
    {
     "name": "stdout",
     "output_type": "stream",
     "text": [
      "\n",
      "📈 TRAINING EPOCH 21 SUMMARY:\n",
      "   Loss: 0.0018 (α·Cls: 0.0014, β·Trans: 0.0028)\n",
      "   Weights: α=0.7431, β=0.2569\n",
      "   Disease: Acc=0.9994, W-P=0.9994, W-R=0.9994, W-F1=0.9994\n",
      "   Speech: WER=0.0528, CER=0.0294\n"
     ]
    },
    {
     "name": "stderr",
     "output_type": "stream",
     "text": [
      "Evaluating: 100%|███████████████████████████████████████████████████████████████████████████████████████████████████████████████████████████████████| 27/27 [00:02<00:00, 11.43it/s]\n"
     ]
    },
    {
     "name": "stdout",
     "output_type": "stream",
     "text": [
      "\n",
      "📊 VALIDATION SUMMARY:\n",
      "\n",
      "📊 VALIDATION DETAILED METRICS:\n",
      "   🏥 Disease Classification:\n",
      "      Overall Accuracy: 1.0000\n",
      "      Weighted Precision: 1.0000\n",
      "      Weighted Recall: 1.0000\n",
      "      Weighted F1: 1.0000\n",
      "      Macro Precision: 1.0000\n",
      "      Macro Recall: 1.0000\n",
      "      Macro F1: 1.0000\n",
      "   🎯 Transcription:\n",
      "      Overall WER: 0.0783\n",
      "      Overall CER: 0.0512\n",
      "   📈 Per-Class Disease Classification:\n",
      "      Class        Prec   Rec    F1     Support \n",
      "      ----------------------------------------\n",
      "      Normal       1.000 1.000 1.000 71      \n",
      "      Dysphonia    1.000 1.000 1.000 71      \n",
      "      Dysarthria   1.000 1.000 1.000 71      \n",
      "   📝 Per-Class Transcription:\n",
      "      Class        WER    CER    Samples  Valid   \n",
      "      ------------------------------------------------\n",
      "      Normal       0.048 0.022 71       71      \n",
      "      Dysphonia    0.069 0.047 71       71      \n",
      "      Dysarthria   0.132 0.098 71       71      \n",
      "✅ Best model saved: ../checkpoints_exp/checkpoints_tiny_encoder_learning_ffmpeg/best_multitask_model_tiny.pt\n",
      "\n",
      "============================================================\n",
      "EPOCH 22/50\n",
      "============================================================\n"
     ]
    },
    {
     "name": "stderr",
     "output_type": "stream",
     "text": [
      "Training Epoch 22: 100%|██████████████████████████████████████████████████████████████████████████████████████████████████████████████████████████| 109/109 [00:58<00:00,  1.87it/s]\n"
     ]
    },
    {
     "name": "stdout",
     "output_type": "stream",
     "text": [
      "\n",
      "📈 TRAINING EPOCH 22 SUMMARY:\n",
      "   Loss: 0.0013 (α·Cls: 0.0010, β·Trans: 0.0023)\n",
      "   Weights: α=0.7431, β=0.2569\n",
      "   Disease: Acc=1.0000, W-P=1.0000, W-R=1.0000, W-F1=1.0000\n",
      "   Speech: WER=0.0541, CER=0.0306\n"
     ]
    },
    {
     "name": "stderr",
     "output_type": "stream",
     "text": [
      "Evaluating: 100%|███████████████████████████████████████████████████████████████████████████████████████████████████████████████████████████████████| 27/27 [00:02<00:00, 11.39it/s]\n"
     ]
    },
    {
     "name": "stdout",
     "output_type": "stream",
     "text": [
      "\n",
      "📊 VALIDATION SUMMARY:\n",
      "\n",
      "📊 VALIDATION DETAILED METRICS:\n",
      "   🏥 Disease Classification:\n",
      "      Overall Accuracy: 1.0000\n",
      "      Weighted Precision: 1.0000\n",
      "      Weighted Recall: 1.0000\n",
      "      Weighted F1: 1.0000\n",
      "      Macro Precision: 1.0000\n",
      "      Macro Recall: 1.0000\n",
      "      Macro F1: 1.0000\n",
      "   🎯 Transcription:\n",
      "      Overall WER: 0.0779\n",
      "      Overall CER: 0.0502\n",
      "   📈 Per-Class Disease Classification:\n",
      "      Class        Prec   Rec    F1     Support \n",
      "      ----------------------------------------\n",
      "      Normal       1.000 1.000 1.000 71      \n",
      "      Dysphonia    1.000 1.000 1.000 71      \n",
      "      Dysarthria   1.000 1.000 1.000 71      \n",
      "   📝 Per-Class Transcription:\n",
      "      Class        WER    CER    Samples  Valid   \n",
      "      ------------------------------------------------\n",
      "      Normal       0.046 0.022 71       71      \n",
      "      Dysphonia    0.070 0.047 71       71      \n",
      "      Dysarthria   0.131 0.093 71       71      \n",
      "✅ Best model saved: ../checkpoints_exp/checkpoints_tiny_encoder_learning_ffmpeg/best_multitask_model_tiny.pt\n",
      "\n",
      "============================================================\n",
      "EPOCH 23/50\n",
      "============================================================\n"
     ]
    },
    {
     "name": "stderr",
     "output_type": "stream",
     "text": [
      "Training Epoch 23: 100%|██████████████████████████████████████████████████████████████████████████████████████████████████████████████████████████| 109/109 [01:00<00:00,  1.80it/s]\n"
     ]
    },
    {
     "name": "stdout",
     "output_type": "stream",
     "text": [
      "\n",
      "📈 TRAINING EPOCH 23 SUMMARY:\n",
      "   Loss: 0.0008 (α·Cls: 0.0005, β·Trans: 0.0018)\n",
      "   Weights: α=0.7431, β=0.2569\n",
      "   Disease: Acc=1.0000, W-P=1.0000, W-R=1.0000, W-F1=1.0000\n",
      "   Speech: WER=0.0534, CER=0.0299\n"
     ]
    },
    {
     "name": "stderr",
     "output_type": "stream",
     "text": [
      "Evaluating: 100%|███████████████████████████████████████████████████████████████████████████████████████████████████████████████████████████████████| 27/27 [00:02<00:00, 11.17it/s]\n"
     ]
    },
    {
     "name": "stdout",
     "output_type": "stream",
     "text": [
      "\n",
      "📊 VALIDATION SUMMARY:\n",
      "\n",
      "📊 VALIDATION DETAILED METRICS:\n",
      "   🏥 Disease Classification:\n",
      "      Overall Accuracy: 1.0000\n",
      "      Weighted Precision: 1.0000\n",
      "      Weighted Recall: 1.0000\n",
      "      Weighted F1: 1.0000\n",
      "      Macro Precision: 1.0000\n",
      "      Macro Recall: 1.0000\n",
      "      Macro F1: 1.0000\n",
      "   🎯 Transcription:\n",
      "      Overall WER: 0.0774\n",
      "      Overall CER: 0.0496\n",
      "   📈 Per-Class Disease Classification:\n",
      "      Class        Prec   Rec    F1     Support \n",
      "      ----------------------------------------\n",
      "      Normal       1.000 1.000 1.000 71      \n",
      "      Dysphonia    1.000 1.000 1.000 71      \n",
      "      Dysarthria   1.000 1.000 1.000 71      \n",
      "   📝 Per-Class Transcription:\n",
      "      Class        WER    CER    Samples  Valid   \n",
      "      ------------------------------------------------\n",
      "      Normal       0.046 0.021 71       71      \n",
      "      Dysphonia    0.069 0.046 71       71      \n",
      "      Dysarthria   0.131 0.093 71       71      \n",
      "✅ Best model saved: ../checkpoints_exp/checkpoints_tiny_encoder_learning_ffmpeg/best_multitask_model_tiny.pt\n",
      "\n",
      "============================================================\n",
      "EPOCH 24/50\n",
      "============================================================\n"
     ]
    },
    {
     "name": "stderr",
     "output_type": "stream",
     "text": [
      "Training Epoch 24: 100%|██████████████████████████████████████████████████████████████████████████████████████████████████████████████████████████| 109/109 [01:00<00:00,  1.81it/s]\n"
     ]
    },
    {
     "name": "stdout",
     "output_type": "stream",
     "text": [
      "\n",
      "📈 TRAINING EPOCH 24 SUMMARY:\n",
      "   Loss: 0.0007 (α·Cls: 0.0004, β·Trans: 0.0015)\n",
      "   Weights: α=0.7431, β=0.2569\n",
      "   Disease: Acc=1.0000, W-P=1.0000, W-R=1.0000, W-F1=1.0000\n",
      "   Speech: WER=0.0532, CER=0.0296\n"
     ]
    },
    {
     "name": "stderr",
     "output_type": "stream",
     "text": [
      "Evaluating: 100%|███████████████████████████████████████████████████████████████████████████████████████████████████████████████████████████████████| 27/27 [00:02<00:00, 11.17it/s]\n"
     ]
    },
    {
     "name": "stdout",
     "output_type": "stream",
     "text": [
      "\n",
      "📊 VALIDATION SUMMARY:\n",
      "\n",
      "📊 VALIDATION DETAILED METRICS:\n",
      "   🏥 Disease Classification:\n",
      "      Overall Accuracy: 0.9953\n",
      "      Weighted Precision: 0.9954\n",
      "      Weighted Recall: 0.9953\n",
      "      Weighted F1: 0.9953\n",
      "      Macro Precision: 0.9954\n",
      "      Macro Recall: 0.9953\n",
      "      Macro F1: 0.9953\n",
      "   🎯 Transcription:\n",
      "      Overall WER: 0.0755\n",
      "      Overall CER: 0.0484\n",
      "   📈 Per-Class Disease Classification:\n",
      "      Class        Prec   Rec    F1     Support \n",
      "      ----------------------------------------\n",
      "      Normal       1.000 0.986 0.993 71      \n",
      "      Dysphonia    0.986 1.000 0.993 71      \n",
      "      Dysarthria   1.000 1.000 1.000 71      \n",
      "   📝 Per-Class Transcription:\n",
      "      Class        WER    CER    Samples  Valid   \n",
      "      ------------------------------------------------\n",
      "      Normal       0.042 0.018 71       71      \n",
      "      Dysphonia    0.068 0.046 71       71      \n",
      "      Dysarthria   0.131 0.093 71       71      \n",
      "⏳ No improvement. Patience: 1/10\n",
      "\n",
      "============================================================\n",
      "EPOCH 25/50\n",
      "============================================================\n"
     ]
    },
    {
     "name": "stderr",
     "output_type": "stream",
     "text": [
      "Training Epoch 25: 100%|██████████████████████████████████████████████████████████████████████████████████████████████████████████████████████████| 109/109 [01:00<00:00,  1.79it/s]\n"
     ]
    },
    {
     "name": "stdout",
     "output_type": "stream",
     "text": [
      "\n",
      "📈 TRAINING EPOCH 25 SUMMARY:\n",
      "   Loss: 0.0006 (α·Cls: 0.0003, β·Trans: 0.0014)\n",
      "   Weights: α=0.7431, β=0.2569\n",
      "   Disease: Acc=1.0000, W-P=1.0000, W-R=1.0000, W-F1=1.0000\n",
      "   Speech: WER=0.0477, CER=0.0257\n"
     ]
    },
    {
     "name": "stderr",
     "output_type": "stream",
     "text": [
      "Evaluating: 100%|███████████████████████████████████████████████████████████████████████████████████████████████████████████████████████████████████| 27/27 [00:02<00:00, 11.00it/s]\n"
     ]
    },
    {
     "name": "stdout",
     "output_type": "stream",
     "text": [
      "\n",
      "📊 VALIDATION SUMMARY:\n",
      "\n",
      "📊 VALIDATION DETAILED METRICS:\n",
      "   🏥 Disease Classification:\n",
      "      Overall Accuracy: 0.9953\n",
      "      Weighted Precision: 0.9954\n",
      "      Weighted Recall: 0.9953\n",
      "      Weighted F1: 0.9953\n",
      "      Macro Precision: 0.9954\n",
      "      Macro Recall: 0.9953\n",
      "      Macro F1: 0.9953\n",
      "   🎯 Transcription:\n",
      "      Overall WER: 0.0741\n",
      "      Overall CER: 0.0473\n",
      "   📈 Per-Class Disease Classification:\n",
      "      Class        Prec   Rec    F1     Support \n",
      "      ----------------------------------------\n",
      "      Normal       1.000 0.986 0.993 71      \n",
      "      Dysphonia    1.000 1.000 1.000 71      \n",
      "      Dysarthria   0.986 1.000 0.993 71      \n",
      "   📝 Per-Class Transcription:\n",
      "      Class        WER    CER    Samples  Valid   \n",
      "      ------------------------------------------------\n",
      "      Normal       0.042 0.019 71       71      \n",
      "      Dysphonia    0.067 0.044 71       71      \n",
      "      Dysarthria   0.127 0.090 71       71      \n",
      "⏳ No improvement. Patience: 2/10\n",
      "\n",
      "============================================================\n",
      "EPOCH 26/50\n",
      "============================================================\n"
     ]
    },
    {
     "name": "stderr",
     "output_type": "stream",
     "text": [
      "Training Epoch 26: 100%|██████████████████████████████████████████████████████████████████████████████████████████████████████████████████████████| 109/109 [01:01<00:00,  1.78it/s]\n"
     ]
    },
    {
     "name": "stdout",
     "output_type": "stream",
     "text": [
      "\n",
      "📈 TRAINING EPOCH 26 SUMMARY:\n",
      "   Loss: 0.0005 (α·Cls: 0.0003, β·Trans: 0.0012)\n",
      "   Weights: α=0.7431, β=0.2569\n",
      "   Disease: Acc=1.0000, W-P=1.0000, W-R=1.0000, W-F1=1.0000\n",
      "   Speech: WER=0.0504, CER=0.0263\n"
     ]
    },
    {
     "name": "stderr",
     "output_type": "stream",
     "text": [
      "Evaluating: 100%|███████████████████████████████████████████████████████████████████████████████████████████████████████████████████████████████████| 27/27 [00:02<00:00, 11.30it/s]\n"
     ]
    },
    {
     "name": "stdout",
     "output_type": "stream",
     "text": [
      "\n",
      "📊 VALIDATION SUMMARY:\n",
      "\n",
      "📊 VALIDATION DETAILED METRICS:\n",
      "   🏥 Disease Classification:\n",
      "      Overall Accuracy: 1.0000\n",
      "      Weighted Precision: 1.0000\n",
      "      Weighted Recall: 1.0000\n",
      "      Weighted F1: 1.0000\n",
      "      Macro Precision: 1.0000\n",
      "      Macro Recall: 1.0000\n",
      "      Macro F1: 1.0000\n",
      "   🎯 Transcription:\n",
      "      Overall WER: 0.0736\n",
      "      Overall CER: 0.0471\n",
      "   📈 Per-Class Disease Classification:\n",
      "      Class        Prec   Rec    F1     Support \n",
      "      ----------------------------------------\n",
      "      Normal       1.000 1.000 1.000 71      \n",
      "      Dysphonia    1.000 1.000 1.000 71      \n",
      "      Dysarthria   1.000 1.000 1.000 71      \n",
      "   📝 Per-Class Transcription:\n",
      "      Class        WER    CER    Samples  Valid   \n",
      "      ------------------------------------------------\n",
      "      Normal       0.042 0.019 71       71      \n",
      "      Dysphonia    0.065 0.043 71       71      \n",
      "      Dysarthria   0.127 0.091 71       71      \n",
      "✅ Best model saved: ../checkpoints_exp/checkpoints_tiny_encoder_learning_ffmpeg/best_multitask_model_tiny.pt\n",
      "\n",
      "============================================================\n",
      "EPOCH 27/50\n",
      "============================================================\n"
     ]
    },
    {
     "name": "stderr",
     "output_type": "stream",
     "text": [
      "Training Epoch 27: 100%|██████████████████████████████████████████████████████████████████████████████████████████████████████████████████████████| 109/109 [01:01<00:00,  1.78it/s]\n"
     ]
    },
    {
     "name": "stdout",
     "output_type": "stream",
     "text": [
      "\n",
      "📈 TRAINING EPOCH 27 SUMMARY:\n",
      "   Loss: 0.0005 (α·Cls: 0.0003, β·Trans: 0.0011)\n",
      "   Weights: α=0.7431, β=0.2569\n",
      "   Disease: Acc=1.0000, W-P=1.0000, W-R=1.0000, W-F1=1.0000\n",
      "   Speech: WER=0.0509, CER=0.0275\n"
     ]
    },
    {
     "name": "stderr",
     "output_type": "stream",
     "text": [
      "Evaluating: 100%|███████████████████████████████████████████████████████████████████████████████████████████████████████████████████████████████████| 27/27 [00:02<00:00, 10.52it/s]\n"
     ]
    },
    {
     "name": "stdout",
     "output_type": "stream",
     "text": [
      "\n",
      "📊 VALIDATION SUMMARY:\n",
      "\n",
      "📊 VALIDATION DETAILED METRICS:\n",
      "   🏥 Disease Classification:\n",
      "      Overall Accuracy: 1.0000\n",
      "      Weighted Precision: 1.0000\n",
      "      Weighted Recall: 1.0000\n",
      "      Weighted F1: 1.0000\n",
      "      Macro Precision: 1.0000\n",
      "      Macro Recall: 1.0000\n",
      "      Macro F1: 1.0000\n",
      "   🎯 Transcription:\n",
      "      Overall WER: 0.0726\n",
      "      Overall CER: 0.0465\n",
      "   📈 Per-Class Disease Classification:\n",
      "      Class        Prec   Rec    F1     Support \n",
      "      ----------------------------------------\n",
      "      Normal       1.000 1.000 1.000 71      \n",
      "      Dysphonia    1.000 1.000 1.000 71      \n",
      "      Dysarthria   1.000 1.000 1.000 71      \n",
      "   📝 Per-Class Transcription:\n",
      "      Class        WER    CER    Samples  Valid   \n",
      "      ------------------------------------------------\n",
      "      Normal       0.042 0.019 71       71      \n",
      "      Dysphonia    0.063 0.042 71       71      \n",
      "      Dysarthria   0.127 0.090 71       71      \n",
      "⏳ No improvement. Patience: 1/10\n",
      "\n",
      "============================================================\n",
      "EPOCH 28/50\n",
      "============================================================\n"
     ]
    },
    {
     "name": "stderr",
     "output_type": "stream",
     "text": [
      "Training Epoch 28: 100%|██████████████████████████████████████████████████████████████████████████████████████████████████████████████████████████| 109/109 [01:00<00:00,  1.81it/s]\n"
     ]
    },
    {
     "name": "stdout",
     "output_type": "stream",
     "text": [
      "\n",
      "📈 TRAINING EPOCH 28 SUMMARY:\n",
      "   Loss: 0.0004 (α·Cls: 0.0002, β·Trans: 0.0010)\n",
      "   Weights: α=0.7431, β=0.2569\n",
      "   Disease: Acc=1.0000, W-P=1.0000, W-R=1.0000, W-F1=1.0000\n",
      "   Speech: WER=0.0499, CER=0.0272\n"
     ]
    },
    {
     "name": "stderr",
     "output_type": "stream",
     "text": [
      "Evaluating: 100%|███████████████████████████████████████████████████████████████████████████████████████████████████████████████████████████████████| 27/27 [00:02<00:00, 11.13it/s]\n"
     ]
    },
    {
     "name": "stdout",
     "output_type": "stream",
     "text": [
      "\n",
      "📊 VALIDATION SUMMARY:\n",
      "\n",
      "📊 VALIDATION DETAILED METRICS:\n",
      "   🏥 Disease Classification:\n",
      "      Overall Accuracy: 1.0000\n",
      "      Weighted Precision: 1.0000\n",
      "      Weighted Recall: 1.0000\n",
      "      Weighted F1: 1.0000\n",
      "      Macro Precision: 1.0000\n",
      "      Macro Recall: 1.0000\n",
      "      Macro F1: 1.0000\n",
      "   🎯 Transcription:\n",
      "      Overall WER: 0.0712\n",
      "      Overall CER: 0.0456\n",
      "   📈 Per-Class Disease Classification:\n",
      "      Class        Prec   Rec    F1     Support \n",
      "      ----------------------------------------\n",
      "      Normal       1.000 1.000 1.000 71      \n",
      "      Dysphonia    1.000 1.000 1.000 71      \n",
      "      Dysarthria   1.000 1.000 1.000 71      \n",
      "   📝 Per-Class Transcription:\n",
      "      Class        WER    CER    Samples  Valid   \n",
      "      ------------------------------------------------\n",
      "      Normal       0.041 0.018 71       71      \n",
      "      Dysphonia    0.063 0.042 71       71      \n",
      "      Dysarthria   0.123 0.088 71       71      \n",
      "✅ Best model saved: ../checkpoints_exp/checkpoints_tiny_encoder_learning_ffmpeg/best_multitask_model_tiny.pt\n",
      "\n",
      "============================================================\n",
      "EPOCH 29/50\n",
      "============================================================\n"
     ]
    },
    {
     "name": "stderr",
     "output_type": "stream",
     "text": [
      "Training Epoch 29: 100%|██████████████████████████████████████████████████████████████████████████████████████████████████████████████████████████| 109/109 [01:01<00:00,  1.77it/s]\n"
     ]
    },
    {
     "name": "stdout",
     "output_type": "stream",
     "text": [
      "\n",
      "📈 TRAINING EPOCH 29 SUMMARY:\n",
      "   Loss: 0.0004 (α·Cls: 0.0002, β·Trans: 0.0009)\n",
      "   Weights: α=0.7431, β=0.2569\n",
      "   Disease: Acc=1.0000, W-P=1.0000, W-R=1.0000, W-F1=1.0000\n",
      "   Speech: WER=0.0480, CER=0.0260\n"
     ]
    },
    {
     "name": "stderr",
     "output_type": "stream",
     "text": [
      "Evaluating: 100%|███████████████████████████████████████████████████████████████████████████████████████████████████████████████████████████████████| 27/27 [00:02<00:00, 12.23it/s]\n"
     ]
    },
    {
     "name": "stdout",
     "output_type": "stream",
     "text": [
      "\n",
      "📊 VALIDATION SUMMARY:\n",
      "\n",
      "📊 VALIDATION DETAILED METRICS:\n",
      "   🏥 Disease Classification:\n",
      "      Overall Accuracy: 1.0000\n",
      "      Weighted Precision: 1.0000\n",
      "      Weighted Recall: 1.0000\n",
      "      Weighted F1: 1.0000\n",
      "      Macro Precision: 1.0000\n",
      "      Macro Recall: 1.0000\n",
      "      Macro F1: 1.0000\n",
      "   🎯 Transcription:\n",
      "      Overall WER: 0.0703\n",
      "      Overall CER: 0.0453\n",
      "   📈 Per-Class Disease Classification:\n",
      "      Class        Prec   Rec    F1     Support \n",
      "      ----------------------------------------\n",
      "      Normal       1.000 1.000 1.000 71      \n",
      "      Dysphonia    1.000 1.000 1.000 71      \n",
      "      Dysarthria   1.000 1.000 1.000 71      \n",
      "   📝 Per-Class Transcription:\n",
      "      Class        WER    CER    Samples  Valid   \n",
      "      ------------------------------------------------\n",
      "      Normal       0.039 0.018 71       71      \n",
      "      Dysphonia    0.062 0.041 71       71      \n",
      "      Dysarthria   0.123 0.088 71       71      \n",
      "⏳ No improvement. Patience: 1/10\n",
      "\n",
      "============================================================\n",
      "EPOCH 30/50\n",
      "============================================================\n"
     ]
    },
    {
     "name": "stderr",
     "output_type": "stream",
     "text": [
      "Training Epoch 30: 100%|██████████████████████████████████████████████████████████████████████████████████████████████████████████████████████████| 109/109 [01:00<00:00,  1.79it/s]\n"
     ]
    },
    {
     "name": "stdout",
     "output_type": "stream",
     "text": [
      "\n",
      "📈 TRAINING EPOCH 30 SUMMARY:\n",
      "   Loss: 0.0004 (α·Cls: 0.0002, β·Trans: 0.0008)\n",
      "   Weights: α=0.7431, β=0.2569\n",
      "   Disease: Acc=1.0000, W-P=1.0000, W-R=1.0000, W-F1=1.0000\n",
      "   Speech: WER=0.0483, CER=0.0255\n"
     ]
    },
    {
     "name": "stderr",
     "output_type": "stream",
     "text": [
      "Evaluating: 100%|███████████████████████████████████████████████████████████████████████████████████████████████████████████████████████████████████| 27/27 [00:02<00:00, 11.20it/s]\n"
     ]
    },
    {
     "name": "stdout",
     "output_type": "stream",
     "text": [
      "\n",
      "📊 VALIDATION SUMMARY:\n",
      "\n",
      "📊 VALIDATION DETAILED METRICS:\n",
      "   🏥 Disease Classification:\n",
      "      Overall Accuracy: 1.0000\n",
      "      Weighted Precision: 1.0000\n",
      "      Weighted Recall: 1.0000\n",
      "      Weighted F1: 1.0000\n",
      "      Macro Precision: 1.0000\n",
      "      Macro Recall: 1.0000\n",
      "      Macro F1: 1.0000\n",
      "   🎯 Transcription:\n",
      "      Overall WER: 0.0708\n",
      "      Overall CER: 0.0460\n",
      "   📈 Per-Class Disease Classification:\n",
      "      Class        Prec   Rec    F1     Support \n",
      "      ----------------------------------------\n",
      "      Normal       1.000 1.000 1.000 71      \n",
      "      Dysphonia    1.000 1.000 1.000 71      \n",
      "      Dysarthria   1.000 1.000 1.000 71      \n",
      "   📝 Per-Class Transcription:\n",
      "      Class        WER    CER    Samples  Valid   \n",
      "      ------------------------------------------------\n",
      "      Normal       0.039 0.018 71       71      \n",
      "      Dysphonia    0.062 0.041 71       71      \n",
      "      Dysarthria   0.125 0.091 71       71      \n",
      "⏳ No improvement. Patience: 2/10\n",
      "\n",
      "============================================================\n",
      "EPOCH 31/50\n",
      "============================================================\n"
     ]
    },
    {
     "name": "stderr",
     "output_type": "stream",
     "text": [
      "Training Epoch 31: 100%|██████████████████████████████████████████████████████████████████████████████████████████████████████████████████████████| 109/109 [01:01<00:00,  1.77it/s]\n"
     ]
    },
    {
     "name": "stdout",
     "output_type": "stream",
     "text": [
      "\n",
      "📈 TRAINING EPOCH 31 SUMMARY:\n",
      "   Loss: 0.0003 (α·Cls: 0.0002, β·Trans: 0.0008)\n",
      "   Weights: α=0.7431, β=0.2569\n",
      "   Disease: Acc=1.0000, W-P=1.0000, W-R=1.0000, W-F1=1.0000\n",
      "   Speech: WER=0.0490, CER=0.0259\n"
     ]
    },
    {
     "name": "stderr",
     "output_type": "stream",
     "text": [
      "Evaluating: 100%|███████████████████████████████████████████████████████████████████████████████████████████████████████████████████████████████████| 27/27 [00:02<00:00, 10.43it/s]\n"
     ]
    },
    {
     "name": "stdout",
     "output_type": "stream",
     "text": [
      "\n",
      "📊 VALIDATION SUMMARY:\n",
      "\n",
      "📊 VALIDATION DETAILED METRICS:\n",
      "   🏥 Disease Classification:\n",
      "      Overall Accuracy: 1.0000\n",
      "      Weighted Precision: 1.0000\n",
      "      Weighted Recall: 1.0000\n",
      "      Weighted F1: 1.0000\n",
      "      Macro Precision: 1.0000\n",
      "      Macro Recall: 1.0000\n",
      "      Macro F1: 1.0000\n",
      "   🎯 Transcription:\n",
      "      Overall WER: 0.0708\n",
      "      Overall CER: 0.0456\n",
      "   📈 Per-Class Disease Classification:\n",
      "      Class        Prec   Rec    F1     Support \n",
      "      ----------------------------------------\n",
      "      Normal       1.000 1.000 1.000 71      \n",
      "      Dysphonia    1.000 1.000 1.000 71      \n",
      "      Dysarthria   1.000 1.000 1.000 71      \n",
      "   📝 Per-Class Transcription:\n",
      "      Class        WER    CER    Samples  Valid   \n",
      "      ------------------------------------------------\n",
      "      Normal       0.039 0.018 71       71      \n",
      "      Dysphonia    0.062 0.042 71       71      \n",
      "      Dysarthria   0.125 0.090 71       71      \n",
      "⏳ No improvement. Patience: 3/10\n",
      "\n",
      "============================================================\n",
      "EPOCH 32/50\n",
      "============================================================\n"
     ]
    },
    {
     "name": "stderr",
     "output_type": "stream",
     "text": [
      "Training Epoch 32: 100%|██████████████████████████████████████████████████████████████████████████████████████████████████████████████████████████| 109/109 [00:59<00:00,  1.83it/s]\n"
     ]
    },
    {
     "name": "stdout",
     "output_type": "stream",
     "text": [
      "\n",
      "📈 TRAINING EPOCH 32 SUMMARY:\n",
      "   Loss: 0.0003 (α·Cls: 0.0002, β·Trans: 0.0007)\n",
      "   Weights: α=0.7431, β=0.2569\n",
      "   Disease: Acc=1.0000, W-P=1.0000, W-R=1.0000, W-F1=1.0000\n",
      "   Speech: WER=0.0480, CER=0.0257\n"
     ]
    },
    {
     "name": "stderr",
     "output_type": "stream",
     "text": [
      "Evaluating: 100%|███████████████████████████████████████████████████████████████████████████████████████████████████████████████████████████████████| 27/27 [00:02<00:00, 11.17it/s]\n"
     ]
    },
    {
     "name": "stdout",
     "output_type": "stream",
     "text": [
      "\n",
      "📊 VALIDATION SUMMARY:\n",
      "\n",
      "📊 VALIDATION DETAILED METRICS:\n",
      "   🏥 Disease Classification:\n",
      "      Overall Accuracy: 1.0000\n",
      "      Weighted Precision: 1.0000\n",
      "      Weighted Recall: 1.0000\n",
      "      Weighted F1: 1.0000\n",
      "      Macro Precision: 1.0000\n",
      "      Macro Recall: 1.0000\n",
      "      Macro F1: 1.0000\n",
      "   🎯 Transcription:\n",
      "      Overall WER: 0.0703\n",
      "      Overall CER: 0.0458\n",
      "   📈 Per-Class Disease Classification:\n",
      "      Class        Prec   Rec    F1     Support \n",
      "      ----------------------------------------\n",
      "      Normal       1.000 1.000 1.000 71      \n",
      "      Dysphonia    1.000 1.000 1.000 71      \n",
      "      Dysarthria   1.000 1.000 1.000 71      \n",
      "   📝 Per-Class Transcription:\n",
      "      Class        WER    CER    Samples  Valid   \n",
      "      ------------------------------------------------\n",
      "      Normal       0.039 0.018 71       71      \n",
      "      Dysphonia    0.062 0.042 71       71      \n",
      "      Dysarthria   0.123 0.090 71       71      \n",
      "✅ Best model saved: ../checkpoints_exp/checkpoints_tiny_encoder_learning_ffmpeg/best_multitask_model_tiny.pt\n",
      "\n",
      "============================================================\n",
      "EPOCH 33/50\n",
      "============================================================\n"
     ]
    },
    {
     "name": "stderr",
     "output_type": "stream",
     "text": [
      "Training Epoch 33: 100%|██████████████████████████████████████████████████████████████████████████████████████████████████████████████████████████| 109/109 [01:01<00:00,  1.77it/s]\n"
     ]
    },
    {
     "name": "stdout",
     "output_type": "stream",
     "text": [
      "\n",
      "📈 TRAINING EPOCH 33 SUMMARY:\n",
      "   Loss: 0.0003 (α·Cls: 0.0001, β·Trans: 0.0006)\n",
      "   Weights: α=0.7431, β=0.2569\n",
      "   Disease: Acc=1.0000, W-P=1.0000, W-R=1.0000, W-F1=1.0000\n",
      "   Speech: WER=0.0481, CER=0.0256\n"
     ]
    },
    {
     "name": "stderr",
     "output_type": "stream",
     "text": [
      "Evaluating: 100%|███████████████████████████████████████████████████████████████████████████████████████████████████████████████████████████████████| 27/27 [00:02<00:00, 11.10it/s]\n"
     ]
    },
    {
     "name": "stdout",
     "output_type": "stream",
     "text": [
      "\n",
      "📊 VALIDATION SUMMARY:\n",
      "\n",
      "📊 VALIDATION DETAILED METRICS:\n",
      "   🏥 Disease Classification:\n",
      "      Overall Accuracy: 1.0000\n",
      "      Weighted Precision: 1.0000\n",
      "      Weighted Recall: 1.0000\n",
      "      Weighted F1: 1.0000\n",
      "      Macro Precision: 1.0000\n",
      "      Macro Recall: 1.0000\n",
      "      Macro F1: 1.0000\n",
      "   🎯 Transcription:\n",
      "      Overall WER: 0.0698\n",
      "      Overall CER: 0.0451\n",
      "   📈 Per-Class Disease Classification:\n",
      "      Class        Prec   Rec    F1     Support \n",
      "      ----------------------------------------\n",
      "      Normal       1.000 1.000 1.000 71      \n",
      "      Dysphonia    1.000 1.000 1.000 71      \n",
      "      Dysarthria   1.000 1.000 1.000 71      \n",
      "   📝 Per-Class Transcription:\n",
      "      Class        WER    CER    Samples  Valid   \n",
      "      ------------------------------------------------\n",
      "      Normal       0.039 0.018 71       71      \n",
      "      Dysphonia    0.062 0.041 71       71      \n",
      "      Dysarthria   0.122 0.088 71       71      \n",
      "✅ Best model saved: ../checkpoints_exp/checkpoints_tiny_encoder_learning_ffmpeg/best_multitask_model_tiny.pt\n",
      "\n",
      "============================================================\n",
      "EPOCH 34/50\n",
      "============================================================\n"
     ]
    },
    {
     "name": "stderr",
     "output_type": "stream",
     "text": [
      "Training Epoch 34: 100%|██████████████████████████████████████████████████████████████████████████████████████████████████████████████████████████| 109/109 [01:00<00:00,  1.79it/s]\n"
     ]
    },
    {
     "name": "stdout",
     "output_type": "stream",
     "text": [
      "\n",
      "📈 TRAINING EPOCH 34 SUMMARY:\n",
      "   Loss: 0.0003 (α·Cls: 0.0001, β·Trans: 0.0006)\n",
      "   Weights: α=0.7431, β=0.2569\n",
      "   Disease: Acc=1.0000, W-P=1.0000, W-R=1.0000, W-F1=1.0000\n",
      "   Speech: WER=0.0467, CER=0.0254\n"
     ]
    },
    {
     "name": "stderr",
     "output_type": "stream",
     "text": [
      "Evaluating: 100%|███████████████████████████████████████████████████████████████████████████████████████████████████████████████████████████████████| 27/27 [00:02<00:00, 11.18it/s]\n"
     ]
    },
    {
     "name": "stdout",
     "output_type": "stream",
     "text": [
      "\n",
      "📊 VALIDATION SUMMARY:\n",
      "\n",
      "📊 VALIDATION DETAILED METRICS:\n",
      "   🏥 Disease Classification:\n",
      "      Overall Accuracy: 1.0000\n",
      "      Weighted Precision: 1.0000\n",
      "      Weighted Recall: 1.0000\n",
      "      Weighted F1: 1.0000\n",
      "      Macro Precision: 1.0000\n",
      "      Macro Recall: 1.0000\n",
      "      Macro F1: 1.0000\n",
      "   🎯 Transcription:\n",
      "      Overall WER: 0.0698\n",
      "      Overall CER: 0.0451\n",
      "   📈 Per-Class Disease Classification:\n",
      "      Class        Prec   Rec    F1     Support \n",
      "      ----------------------------------------\n",
      "      Normal       1.000 1.000 1.000 71      \n",
      "      Dysphonia    1.000 1.000 1.000 71      \n",
      "      Dysarthria   1.000 1.000 1.000 71      \n",
      "   📝 Per-Class Transcription:\n",
      "      Class        WER    CER    Samples  Valid   \n",
      "      ------------------------------------------------\n",
      "      Normal       0.039 0.018 71       71      \n",
      "      Dysphonia    0.062 0.041 71       71      \n",
      "      Dysarthria   0.122 0.088 71       71      \n",
      "✅ Best model saved: ../checkpoints_exp/checkpoints_tiny_encoder_learning_ffmpeg/best_multitask_model_tiny.pt\n",
      "\n",
      "============================================================\n",
      "EPOCH 35/50\n",
      "============================================================\n"
     ]
    },
    {
     "name": "stderr",
     "output_type": "stream",
     "text": [
      "Training Epoch 35: 100%|██████████████████████████████████████████████████████████████████████████████████████████████████████████████████████████| 109/109 [01:01<00:00,  1.77it/s]\n"
     ]
    },
    {
     "name": "stdout",
     "output_type": "stream",
     "text": [
      "\n",
      "📈 TRAINING EPOCH 35 SUMMARY:\n",
      "   Loss: 0.0002 (α·Cls: 0.0001, β·Trans: 0.0005)\n",
      "   Weights: α=0.7431, β=0.2569\n",
      "   Disease: Acc=1.0000, W-P=1.0000, W-R=1.0000, W-F1=1.0000\n",
      "   Speech: WER=0.0484, CER=0.0250\n"
     ]
    },
    {
     "name": "stderr",
     "output_type": "stream",
     "text": [
      "Evaluating: 100%|███████████████████████████████████████████████████████████████████████████████████████████████████████████████████████████████████| 27/27 [00:02<00:00, 11.37it/s]\n"
     ]
    },
    {
     "name": "stdout",
     "output_type": "stream",
     "text": [
      "\n",
      "📊 VALIDATION SUMMARY:\n",
      "\n",
      "📊 VALIDATION DETAILED METRICS:\n",
      "   🏥 Disease Classification:\n",
      "      Overall Accuracy: 1.0000\n",
      "      Weighted Precision: 1.0000\n",
      "      Weighted Recall: 1.0000\n",
      "      Weighted F1: 1.0000\n",
      "      Macro Precision: 1.0000\n",
      "      Macro Recall: 1.0000\n",
      "      Macro F1: 1.0000\n",
      "   🎯 Transcription:\n",
      "      Overall WER: 0.0689\n",
      "      Overall CER: 0.0442\n",
      "   📈 Per-Class Disease Classification:\n",
      "      Class        Prec   Rec    F1     Support \n",
      "      ----------------------------------------\n",
      "      Normal       1.000 1.000 1.000 71      \n",
      "      Dysphonia    1.000 1.000 1.000 71      \n",
      "      Dysarthria   1.000 1.000 1.000 71      \n",
      "   📝 Per-Class Transcription:\n",
      "      Class        WER    CER    Samples  Valid   \n",
      "      ------------------------------------------------\n",
      "      Normal       0.039 0.018 71       71      \n",
      "      Dysphonia    0.062 0.041 71       71      \n",
      "      Dysarthria   0.118 0.084 71       71      \n",
      "✅ Best model saved: ../checkpoints_exp/checkpoints_tiny_encoder_learning_ffmpeg/best_multitask_model_tiny.pt\n",
      "\n",
      "============================================================\n",
      "EPOCH 36/50\n",
      "============================================================\n"
     ]
    },
    {
     "name": "stderr",
     "output_type": "stream",
     "text": [
      "Training Epoch 36: 100%|██████████████████████████████████████████████████████████████████████████████████████████████████████████████████████████| 109/109 [01:02<00:00,  1.76it/s]\n"
     ]
    },
    {
     "name": "stdout",
     "output_type": "stream",
     "text": [
      "\n",
      "📈 TRAINING EPOCH 36 SUMMARY:\n",
      "   Loss: 0.0002 (α·Cls: 0.0001, β·Trans: 0.0005)\n",
      "   Weights: α=0.7431, β=0.2569\n",
      "   Disease: Acc=1.0000, W-P=1.0000, W-R=1.0000, W-F1=1.0000\n",
      "   Speech: WER=0.0466, CER=0.0250\n"
     ]
    },
    {
     "name": "stderr",
     "output_type": "stream",
     "text": [
      "Evaluating: 100%|███████████████████████████████████████████████████████████████████████████████████████████████████████████████████████████████████| 27/27 [00:02<00:00, 11.26it/s]\n"
     ]
    },
    {
     "name": "stdout",
     "output_type": "stream",
     "text": [
      "\n",
      "📊 VALIDATION SUMMARY:\n",
      "\n",
      "📊 VALIDATION DETAILED METRICS:\n",
      "   🏥 Disease Classification:\n",
      "      Overall Accuracy: 1.0000\n",
      "      Weighted Precision: 1.0000\n",
      "      Weighted Recall: 1.0000\n",
      "      Weighted F1: 1.0000\n",
      "      Macro Precision: 1.0000\n",
      "      Macro Recall: 1.0000\n",
      "      Macro F1: 1.0000\n",
      "   🎯 Transcription:\n",
      "      Overall WER: 0.0693\n",
      "      Overall CER: 0.0446\n",
      "   📈 Per-Class Disease Classification:\n",
      "      Class        Prec   Rec    F1     Support \n",
      "      ----------------------------------------\n",
      "      Normal       1.000 1.000 1.000 71      \n",
      "      Dysphonia    1.000 1.000 1.000 71      \n",
      "      Dysarthria   1.000 1.000 1.000 71      \n",
      "   📝 Per-Class Transcription:\n",
      "      Class        WER    CER    Samples  Valid   \n",
      "      ------------------------------------------------\n",
      "      Normal       0.039 0.018 71       71      \n",
      "      Dysphonia    0.062 0.042 71       71      \n",
      "      Dysarthria   0.120 0.085 71       71      \n",
      "✅ Best model saved: ../checkpoints_exp/checkpoints_tiny_encoder_learning_ffmpeg/best_multitask_model_tiny.pt\n",
      "\n",
      "============================================================\n",
      "EPOCH 37/50\n",
      "============================================================\n"
     ]
    },
    {
     "name": "stderr",
     "output_type": "stream",
     "text": [
      "Training Epoch 37: 100%|██████████████████████████████████████████████████████████████████████████████████████████████████████████████████████████| 109/109 [01:01<00:00,  1.79it/s]\n"
     ]
    },
    {
     "name": "stdout",
     "output_type": "stream",
     "text": [
      "\n",
      "📈 TRAINING EPOCH 37 SUMMARY:\n",
      "   Loss: 0.0002 (α·Cls: 0.0001, β·Trans: 0.0005)\n",
      "   Weights: α=0.7431, β=0.2569\n",
      "   Disease: Acc=1.0000, W-P=1.0000, W-R=1.0000, W-F1=1.0000\n",
      "   Speech: WER=0.0480, CER=0.0251\n"
     ]
    },
    {
     "name": "stderr",
     "output_type": "stream",
     "text": [
      "Evaluating: 100%|███████████████████████████████████████████████████████████████████████████████████████████████████████████████████████████████████| 27/27 [00:08<00:00,  3.34it/s]\n"
     ]
    },
    {
     "name": "stdout",
     "output_type": "stream",
     "text": [
      "\n",
      "📊 VALIDATION SUMMARY:\n",
      "\n",
      "📊 VALIDATION DETAILED METRICS:\n",
      "   🏥 Disease Classification:\n",
      "      Overall Accuracy: 1.0000\n",
      "      Weighted Precision: 1.0000\n",
      "      Weighted Recall: 1.0000\n",
      "      Weighted F1: 1.0000\n",
      "      Macro Precision: 1.0000\n",
      "      Macro Recall: 1.0000\n",
      "      Macro F1: 1.0000\n",
      "   🎯 Transcription:\n",
      "      Overall WER: 0.0698\n",
      "      Overall CER: 0.0444\n",
      "   📈 Per-Class Disease Classification:\n",
      "      Class        Prec   Rec    F1     Support \n",
      "      ----------------------------------------\n",
      "      Normal       1.000 1.000 1.000 71      \n",
      "      Dysphonia    1.000 1.000 1.000 71      \n",
      "      Dysarthria   1.000 1.000 1.000 71      \n",
      "   📝 Per-Class Transcription:\n",
      "      Class        WER    CER    Samples  Valid   \n",
      "      ------------------------------------------------\n",
      "      Normal       0.041 0.018 71       71      \n",
      "      Dysphonia    0.062 0.041 71       71      \n",
      "      Dysarthria   0.120 0.085 71       71      \n",
      "✅ Best model saved: ../checkpoints_exp/checkpoints_tiny_encoder_learning_ffmpeg/best_multitask_model_tiny.pt\n",
      "\n",
      "============================================================\n",
      "EPOCH 38/50\n",
      "============================================================\n"
     ]
    },
    {
     "name": "stderr",
     "output_type": "stream",
     "text": [
      "Training Epoch 38: 100%|██████████████████████████████████████████████████████████████████████████████████████████████████████████████████████████| 109/109 [00:59<00:00,  1.82it/s]\n"
     ]
    },
    {
     "name": "stdout",
     "output_type": "stream",
     "text": [
      "\n",
      "📈 TRAINING EPOCH 38 SUMMARY:\n",
      "   Loss: 0.0002 (α·Cls: 0.0001, β·Trans: 0.0004)\n",
      "   Weights: α=0.7431, β=0.2569\n",
      "   Disease: Acc=1.0000, W-P=1.0000, W-R=1.0000, W-F1=1.0000\n",
      "   Speech: WER=0.0463, CER=0.0243\n"
     ]
    },
    {
     "name": "stderr",
     "output_type": "stream",
     "text": [
      "Evaluating: 100%|███████████████████████████████████████████████████████████████████████████████████████████████████████████████████████████████████| 27/27 [00:02<00:00, 11.19it/s]\n"
     ]
    },
    {
     "name": "stdout",
     "output_type": "stream",
     "text": [
      "\n",
      "📊 VALIDATION SUMMARY:\n",
      "\n",
      "📊 VALIDATION DETAILED METRICS:\n",
      "   🏥 Disease Classification:\n",
      "      Overall Accuracy: 1.0000\n",
      "      Weighted Precision: 1.0000\n",
      "      Weighted Recall: 1.0000\n",
      "      Weighted F1: 1.0000\n",
      "      Macro Precision: 1.0000\n",
      "      Macro Recall: 1.0000\n",
      "      Macro F1: 1.0000\n",
      "   🎯 Transcription:\n",
      "      Overall WER: 0.0693\n",
      "      Overall CER: 0.0444\n",
      "   📈 Per-Class Disease Classification:\n",
      "      Class        Prec   Rec    F1     Support \n",
      "      ----------------------------------------\n",
      "      Normal       1.000 1.000 1.000 71      \n",
      "      Dysphonia    1.000 1.000 1.000 71      \n",
      "      Dysarthria   1.000 1.000 1.000 71      \n",
      "   📝 Per-Class Transcription:\n",
      "      Class        WER    CER    Samples  Valid   \n",
      "      ------------------------------------------------\n",
      "      Normal       0.039 0.018 71       71      \n",
      "      Dysphonia    0.061 0.041 71       71      \n",
      "      Dysarthria   0.122 0.085 71       71      \n",
      "✅ Best model saved: ../checkpoints_exp/checkpoints_tiny_encoder_learning_ffmpeg/best_multitask_model_tiny.pt\n",
      "\n",
      "============================================================\n",
      "EPOCH 39/50\n",
      "============================================================\n"
     ]
    },
    {
     "name": "stderr",
     "output_type": "stream",
     "text": [
      "Training Epoch 39: 100%|██████████████████████████████████████████████████████████████████████████████████████████████████████████████████████████| 109/109 [01:01<00:00,  1.78it/s]\n"
     ]
    },
    {
     "name": "stdout",
     "output_type": "stream",
     "text": [
      "\n",
      "📈 TRAINING EPOCH 39 SUMMARY:\n",
      "   Loss: 0.0002 (α·Cls: 0.0001, β·Trans: 0.0004)\n",
      "   Weights: α=0.7431, β=0.2569\n",
      "   Disease: Acc=1.0000, W-P=1.0000, W-R=1.0000, W-F1=1.0000\n",
      "   Speech: WER=0.0498, CER=0.0251\n"
     ]
    },
    {
     "name": "stderr",
     "output_type": "stream",
     "text": [
      "Evaluating: 100%|███████████████████████████████████████████████████████████████████████████████████████████████████████████████████████████████████| 27/27 [00:02<00:00, 11.44it/s]\n"
     ]
    },
    {
     "name": "stdout",
     "output_type": "stream",
     "text": [
      "\n",
      "📊 VALIDATION SUMMARY:\n",
      "\n",
      "📊 VALIDATION DETAILED METRICS:\n",
      "   🏥 Disease Classification:\n",
      "      Overall Accuracy: 1.0000\n",
      "      Weighted Precision: 1.0000\n",
      "      Weighted Recall: 1.0000\n",
      "      Weighted F1: 1.0000\n",
      "      Macro Precision: 1.0000\n",
      "      Macro Recall: 1.0000\n",
      "      Macro F1: 1.0000\n",
      "   🎯 Transcription:\n",
      "      Overall WER: 0.0693\n",
      "      Overall CER: 0.0442\n",
      "   📈 Per-Class Disease Classification:\n",
      "      Class        Prec   Rec    F1     Support \n",
      "      ----------------------------------------\n",
      "      Normal       1.000 1.000 1.000 71      \n",
      "      Dysphonia    1.000 1.000 1.000 71      \n",
      "      Dysarthria   1.000 1.000 1.000 71      \n",
      "   📝 Per-Class Transcription:\n",
      "      Class        WER    CER    Samples  Valid   \n",
      "      ------------------------------------------------\n",
      "      Normal       0.039 0.018 71       71      \n",
      "      Dysphonia    0.061 0.040 71       71      \n",
      "      Dysarthria   0.122 0.085 71       71      \n",
      "✅ Best model saved: ../checkpoints_exp/checkpoints_tiny_encoder_learning_ffmpeg/best_multitask_model_tiny.pt\n",
      "\n",
      "============================================================\n",
      "EPOCH 40/50\n",
      "============================================================\n"
     ]
    },
    {
     "name": "stderr",
     "output_type": "stream",
     "text": [
      "Training Epoch 40: 100%|██████████████████████████████████████████████████████████████████████████████████████████████████████████████████████████| 109/109 [01:00<00:00,  1.79it/s]\n"
     ]
    },
    {
     "name": "stdout",
     "output_type": "stream",
     "text": [
      "\n",
      "📈 TRAINING EPOCH 40 SUMMARY:\n",
      "   Loss: 0.0002 (α·Cls: 0.0001, β·Trans: 0.0004)\n",
      "   Weights: α=0.7431, β=0.2569\n",
      "   Disease: Acc=1.0000, W-P=1.0000, W-R=1.0000, W-F1=1.0000\n",
      "   Speech: WER=0.0462, CER=0.0242\n"
     ]
    },
    {
     "name": "stderr",
     "output_type": "stream",
     "text": [
      "Evaluating: 100%|███████████████████████████████████████████████████████████████████████████████████████████████████████████████████████████████████| 27/27 [00:02<00:00, 11.16it/s]\n"
     ]
    },
    {
     "name": "stdout",
     "output_type": "stream",
     "text": [
      "\n",
      "📊 VALIDATION SUMMARY:\n",
      "\n",
      "📊 VALIDATION DETAILED METRICS:\n",
      "   🏥 Disease Classification:\n",
      "      Overall Accuracy: 1.0000\n",
      "      Weighted Precision: 1.0000\n",
      "      Weighted Recall: 1.0000\n",
      "      Weighted F1: 1.0000\n",
      "      Macro Precision: 1.0000\n",
      "      Macro Recall: 1.0000\n",
      "      Macro F1: 1.0000\n",
      "   🎯 Transcription:\n",
      "      Overall WER: 0.0684\n",
      "      Overall CER: 0.0433\n",
      "   📈 Per-Class Disease Classification:\n",
      "      Class        Prec   Rec    F1     Support \n",
      "      ----------------------------------------\n",
      "      Normal       1.000 1.000 1.000 71      \n",
      "      Dysphonia    1.000 1.000 1.000 71      \n",
      "      Dysarthria   1.000 1.000 1.000 71      \n",
      "   📝 Per-Class Transcription:\n",
      "      Class        WER    CER    Samples  Valid   \n",
      "      ------------------------------------------------\n",
      "      Normal       0.041 0.018 71       71      \n",
      "      Dysphonia    0.058 0.039 71       71      \n",
      "      Dysarthria   0.120 0.083 71       71      \n",
      "⏳ No improvement. Patience: 1/10\n",
      "\n",
      "============================================================\n",
      "EPOCH 41/50\n",
      "============================================================\n"
     ]
    },
    {
     "name": "stderr",
     "output_type": "stream",
     "text": [
      "Training Epoch 41: 100%|██████████████████████████████████████████████████████████████████████████████████████████████████████████████████████████| 109/109 [01:00<00:00,  1.80it/s]\n"
     ]
    },
    {
     "name": "stdout",
     "output_type": "stream",
     "text": [
      "\n",
      "📈 TRAINING EPOCH 41 SUMMARY:\n",
      "   Loss: 0.0001 (α·Cls: 0.0001, β·Trans: 0.0003)\n",
      "   Weights: α=0.7431, β=0.2569\n",
      "   Disease: Acc=1.0000, W-P=1.0000, W-R=1.0000, W-F1=1.0000\n",
      "   Speech: WER=0.0472, CER=0.0249\n"
     ]
    },
    {
     "name": "stderr",
     "output_type": "stream",
     "text": [
      "Evaluating: 100%|███████████████████████████████████████████████████████████████████████████████████████████████████████████████████████████████████| 27/27 [00:02<00:00, 10.99it/s]\n"
     ]
    },
    {
     "name": "stdout",
     "output_type": "stream",
     "text": [
      "\n",
      "📊 VALIDATION SUMMARY:\n",
      "\n",
      "📊 VALIDATION DETAILED METRICS:\n",
      "   🏥 Disease Classification:\n",
      "      Overall Accuracy: 1.0000\n",
      "      Weighted Precision: 1.0000\n",
      "      Weighted Recall: 1.0000\n",
      "      Weighted F1: 1.0000\n",
      "      Macro Precision: 1.0000\n",
      "      Macro Recall: 1.0000\n",
      "      Macro F1: 1.0000\n",
      "   🎯 Transcription:\n",
      "      Overall WER: 0.0670\n",
      "      Overall CER: 0.0423\n",
      "   📈 Per-Class Disease Classification:\n",
      "      Class        Prec   Rec    F1     Support \n",
      "      ----------------------------------------\n",
      "      Normal       1.000 1.000 1.000 71      \n",
      "      Dysphonia    1.000 1.000 1.000 71      \n",
      "      Dysarthria   1.000 1.000 1.000 71      \n",
      "   📝 Per-Class Transcription:\n",
      "      Class        WER    CER    Samples  Valid   \n",
      "      ------------------------------------------------\n",
      "      Normal       0.039 0.018 71       71      \n",
      "      Dysphonia    0.058 0.038 71       71      \n",
      "      Dysarthria   0.116 0.081 71       71      \n",
      "✅ Best model saved: ../checkpoints_exp/checkpoints_tiny_encoder_learning_ffmpeg/best_multitask_model_tiny.pt\n",
      "\n",
      "============================================================\n",
      "EPOCH 42/50\n",
      "============================================================\n"
     ]
    },
    {
     "name": "stderr",
     "output_type": "stream",
     "text": [
      "Training Epoch 42: 100%|██████████████████████████████████████████████████████████████████████████████████████████████████████████████████████████| 109/109 [01:01<00:00,  1.77it/s]\n"
     ]
    },
    {
     "name": "stdout",
     "output_type": "stream",
     "text": [
      "\n",
      "📈 TRAINING EPOCH 42 SUMMARY:\n",
      "   Loss: 0.0001 (α·Cls: 0.0001, β·Trans: 0.0003)\n",
      "   Weights: α=0.7431, β=0.2569\n",
      "   Disease: Acc=1.0000, W-P=1.0000, W-R=1.0000, W-F1=1.0000\n",
      "   Speech: WER=0.0469, CER=0.0241\n"
     ]
    },
    {
     "name": "stderr",
     "output_type": "stream",
     "text": [
      "Evaluating: 100%|███████████████████████████████████████████████████████████████████████████████████████████████████████████████████████████████████| 27/27 [00:02<00:00, 11.12it/s]\n"
     ]
    },
    {
     "name": "stdout",
     "output_type": "stream",
     "text": [
      "\n",
      "📊 VALIDATION SUMMARY:\n",
      "\n",
      "📊 VALIDATION DETAILED METRICS:\n",
      "   🏥 Disease Classification:\n",
      "      Overall Accuracy: 1.0000\n",
      "      Weighted Precision: 1.0000\n",
      "      Weighted Recall: 1.0000\n",
      "      Weighted F1: 1.0000\n",
      "      Macro Precision: 1.0000\n",
      "      Macro Recall: 1.0000\n",
      "      Macro F1: 1.0000\n",
      "   🎯 Transcription:\n",
      "      Overall WER: 0.0665\n",
      "      Overall CER: 0.0421\n",
      "   📈 Per-Class Disease Classification:\n",
      "      Class        Prec   Rec    F1     Support \n",
      "      ----------------------------------------\n",
      "      Normal       1.000 1.000 1.000 71      \n",
      "      Dysphonia    1.000 1.000 1.000 71      \n",
      "      Dysarthria   1.000 1.000 1.000 71      \n",
      "   📝 Per-Class Transcription:\n",
      "      Class        WER    CER    Samples  Valid   \n",
      "      ------------------------------------------------\n",
      "      Normal       0.039 0.018 71       71      \n",
      "      Dysphonia    0.058 0.039 71       71      \n",
      "      Dysarthria   0.114 0.080 71       71      \n",
      "⏳ No improvement. Patience: 1/10\n",
      "\n",
      "============================================================\n",
      "EPOCH 43/50\n",
      "============================================================\n"
     ]
    },
    {
     "name": "stderr",
     "output_type": "stream",
     "text": [
      "Training Epoch 43: 100%|██████████████████████████████████████████████████████████████████████████████████████████████████████████████████████████| 109/109 [00:59<00:00,  1.82it/s]\n"
     ]
    },
    {
     "name": "stdout",
     "output_type": "stream",
     "text": [
      "\n",
      "📈 TRAINING EPOCH 43 SUMMARY:\n",
      "   Loss: 0.0001 (α·Cls: 0.0001, β·Trans: 0.0003)\n",
      "   Weights: α=0.7431, β=0.2569\n",
      "   Disease: Acc=1.0000, W-P=1.0000, W-R=1.0000, W-F1=1.0000\n",
      "   Speech: WER=0.0470, CER=0.0240\n"
     ]
    },
    {
     "name": "stderr",
     "output_type": "stream",
     "text": [
      "Evaluating: 100%|███████████████████████████████████████████████████████████████████████████████████████████████████████████████████████████████████| 27/27 [00:02<00:00, 11.21it/s]\n"
     ]
    },
    {
     "name": "stdout",
     "output_type": "stream",
     "text": [
      "\n",
      "📊 VALIDATION SUMMARY:\n",
      "\n",
      "📊 VALIDATION DETAILED METRICS:\n",
      "   🏥 Disease Classification:\n",
      "      Overall Accuracy: 1.0000\n",
      "      Weighted Precision: 1.0000\n",
      "      Weighted Recall: 1.0000\n",
      "      Weighted F1: 1.0000\n",
      "      Macro Precision: 1.0000\n",
      "      Macro Recall: 1.0000\n",
      "      Macro F1: 1.0000\n",
      "   🎯 Transcription:\n",
      "      Overall WER: 0.0665\n",
      "      Overall CER: 0.0420\n",
      "   📈 Per-Class Disease Classification:\n",
      "      Class        Prec   Rec    F1     Support \n",
      "      ----------------------------------------\n",
      "      Normal       1.000 1.000 1.000 71      \n",
      "      Dysphonia    1.000 1.000 1.000 71      \n",
      "      Dysarthria   1.000 1.000 1.000 71      \n",
      "   📝 Per-Class Transcription:\n",
      "      Class        WER    CER    Samples  Valid   \n",
      "      ------------------------------------------------\n",
      "      Normal       0.039 0.018 71       71      \n",
      "      Dysphonia    0.058 0.038 71       71      \n",
      "      Dysarthria   0.114 0.080 71       71      \n",
      "✅ Best model saved: ../checkpoints_exp/checkpoints_tiny_encoder_learning_ffmpeg/best_multitask_model_tiny.pt\n",
      "\n",
      "============================================================\n",
      "EPOCH 44/50\n",
      "============================================================\n"
     ]
    },
    {
     "name": "stderr",
     "output_type": "stream",
     "text": [
      "Training Epoch 44: 100%|██████████████████████████████████████████████████████████████████████████████████████████████████████████████████████████| 109/109 [01:01<00:00,  1.78it/s]\n"
     ]
    },
    {
     "name": "stdout",
     "output_type": "stream",
     "text": [
      "\n",
      "📈 TRAINING EPOCH 44 SUMMARY:\n",
      "   Loss: 0.0001 (α·Cls: 0.0001, β·Trans: 0.0003)\n",
      "   Weights: α=0.7431, β=0.2569\n",
      "   Disease: Acc=1.0000, W-P=1.0000, W-R=1.0000, W-F1=1.0000\n",
      "   Speech: WER=0.0492, CER=0.0257\n"
     ]
    },
    {
     "name": "stderr",
     "output_type": "stream",
     "text": [
      "Evaluating: 100%|███████████████████████████████████████████████████████████████████████████████████████████████████████████████████████████████████| 27/27 [00:02<00:00, 11.27it/s]\n"
     ]
    },
    {
     "name": "stdout",
     "output_type": "stream",
     "text": [
      "\n",
      "📊 VALIDATION SUMMARY:\n",
      "\n",
      "📊 VALIDATION DETAILED METRICS:\n",
      "   🏥 Disease Classification:\n",
      "      Overall Accuracy: 1.0000\n",
      "      Weighted Precision: 1.0000\n",
      "      Weighted Recall: 1.0000\n",
      "      Weighted F1: 1.0000\n",
      "      Macro Precision: 1.0000\n",
      "      Macro Recall: 1.0000\n",
      "      Macro F1: 1.0000\n",
      "   🎯 Transcription:\n",
      "      Overall WER: 0.0665\n",
      "      Overall CER: 0.0418\n",
      "   📈 Per-Class Disease Classification:\n",
      "      Class        Prec   Rec    F1     Support \n",
      "      ----------------------------------------\n",
      "      Normal       1.000 1.000 1.000 71      \n",
      "      Dysphonia    1.000 1.000 1.000 71      \n",
      "      Dysarthria   1.000 1.000 1.000 71      \n",
      "   📝 Per-Class Transcription:\n",
      "      Class        WER    CER    Samples  Valid   \n",
      "      ------------------------------------------------\n",
      "      Normal       0.039 0.018 71       71      \n",
      "      Dysphonia    0.058 0.038 71       71      \n",
      "      Dysarthria   0.114 0.080 71       71      \n",
      "⏳ No improvement. Patience: 1/10\n",
      "\n",
      "============================================================\n",
      "EPOCH 45/50\n",
      "============================================================\n"
     ]
    },
    {
     "name": "stderr",
     "output_type": "stream",
     "text": [
      "Training Epoch 45: 100%|██████████████████████████████████████████████████████████████████████████████████████████████████████████████████████████| 109/109 [00:59<00:00,  1.84it/s]\n"
     ]
    },
    {
     "name": "stdout",
     "output_type": "stream",
     "text": [
      "\n",
      "📈 TRAINING EPOCH 45 SUMMARY:\n",
      "   Loss: 0.0001 (α·Cls: 0.0001, β·Trans: 0.0003)\n",
      "   Weights: α=0.7431, β=0.2569\n",
      "   Disease: Acc=1.0000, W-P=1.0000, W-R=1.0000, W-F1=1.0000\n",
      "   Speech: WER=0.0467, CER=0.0244\n"
     ]
    },
    {
     "name": "stderr",
     "output_type": "stream",
     "text": [
      "Evaluating: 100%|███████████████████████████████████████████████████████████████████████████████████████████████████████████████████████████████████| 27/27 [00:02<00:00, 11.88it/s]\n"
     ]
    },
    {
     "name": "stdout",
     "output_type": "stream",
     "text": [
      "\n",
      "📊 VALIDATION SUMMARY:\n",
      "\n",
      "📊 VALIDATION DETAILED METRICS:\n",
      "   🏥 Disease Classification:\n",
      "      Overall Accuracy: 1.0000\n",
      "      Weighted Precision: 1.0000\n",
      "      Weighted Recall: 1.0000\n",
      "      Weighted F1: 1.0000\n",
      "      Macro Precision: 1.0000\n",
      "      Macro Recall: 1.0000\n",
      "      Macro F1: 1.0000\n",
      "   🎯 Transcription:\n",
      "      Overall WER: 0.0655\n",
      "      Overall CER: 0.0412\n",
      "   📈 Per-Class Disease Classification:\n",
      "      Class        Prec   Rec    F1     Support \n",
      "      ----------------------------------------\n",
      "      Normal       1.000 1.000 1.000 71      \n",
      "      Dysphonia    1.000 1.000 1.000 71      \n",
      "      Dysarthria   1.000 1.000 1.000 71      \n",
      "   📝 Per-Class Transcription:\n",
      "      Class        WER    CER    Samples  Valid   \n",
      "      ------------------------------------------------\n",
      "      Normal       0.038 0.018 71       71      \n",
      "      Dysphonia    0.057 0.037 71       71      \n",
      "      Dysarthria   0.114 0.080 71       71      \n",
      "⏳ No improvement. Patience: 2/10\n",
      "\n",
      "============================================================\n",
      "EPOCH 46/50\n",
      "============================================================\n"
     ]
    },
    {
     "name": "stderr",
     "output_type": "stream",
     "text": [
      "Training Epoch 46: 100%|██████████████████████████████████████████████████████████████████████████████████████████████████████████████████████████| 109/109 [00:58<00:00,  1.86it/s]\n"
     ]
    },
    {
     "name": "stdout",
     "output_type": "stream",
     "text": [
      "\n",
      "📈 TRAINING EPOCH 46 SUMMARY:\n",
      "   Loss: 0.0001 (α·Cls: 0.0001, β·Trans: 0.0002)\n",
      "   Weights: α=0.7431, β=0.2569\n",
      "   Disease: Acc=1.0000, W-P=1.0000, W-R=1.0000, W-F1=1.0000\n",
      "   Speech: WER=0.0481, CER=0.0247\n"
     ]
    },
    {
     "name": "stderr",
     "output_type": "stream",
     "text": [
      "Evaluating: 100%|███████████████████████████████████████████████████████████████████████████████████████████████████████████████████████████████████| 27/27 [00:02<00:00, 11.80it/s]\n"
     ]
    },
    {
     "name": "stdout",
     "output_type": "stream",
     "text": [
      "\n",
      "📊 VALIDATION SUMMARY:\n",
      "\n",
      "📊 VALIDATION DETAILED METRICS:\n",
      "   🏥 Disease Classification:\n",
      "      Overall Accuracy: 1.0000\n",
      "      Weighted Precision: 1.0000\n",
      "      Weighted Recall: 1.0000\n",
      "      Weighted F1: 1.0000\n",
      "      Macro Precision: 1.0000\n",
      "      Macro Recall: 1.0000\n",
      "      Macro F1: 1.0000\n",
      "   🎯 Transcription:\n",
      "      Overall WER: 0.0660\n",
      "      Overall CER: 0.0417\n",
      "   📈 Per-Class Disease Classification:\n",
      "      Class        Prec   Rec    F1     Support \n",
      "      ----------------------------------------\n",
      "      Normal       1.000 1.000 1.000 71      \n",
      "      Dysphonia    1.000 1.000 1.000 71      \n",
      "      Dysarthria   1.000 1.000 1.000 71      \n",
      "   📝 Per-Class Transcription:\n",
      "      Class        WER    CER    Samples  Valid   \n",
      "      ------------------------------------------------\n",
      "      Normal       0.038 0.018 71       71      \n",
      "      Dysphonia    0.057 0.038 71       71      \n",
      "      Dysarthria   0.116 0.081 71       71      \n",
      "⏳ No improvement. Patience: 3/10\n",
      "\n",
      "============================================================\n",
      "EPOCH 47/50\n",
      "============================================================\n"
     ]
    },
    {
     "name": "stderr",
     "output_type": "stream",
     "text": [
      "Training Epoch 47: 100%|██████████████████████████████████████████████████████████████████████████████████████████████████████████████████████████| 109/109 [01:01<00:00,  1.78it/s]\n"
     ]
    },
    {
     "name": "stdout",
     "output_type": "stream",
     "text": [
      "\n",
      "📈 TRAINING EPOCH 47 SUMMARY:\n",
      "   Loss: 0.0001 (α·Cls: 0.0000, β·Trans: 0.0002)\n",
      "   Weights: α=0.7431, β=0.2569\n",
      "   Disease: Acc=1.0000, W-P=1.0000, W-R=1.0000, W-F1=1.0000\n",
      "   Speech: WER=0.0485, CER=0.0252\n"
     ]
    },
    {
     "name": "stderr",
     "output_type": "stream",
     "text": [
      "Evaluating: 100%|███████████████████████████████████████████████████████████████████████████████████████████████████████████████████████████████████| 27/27 [00:02<00:00, 11.12it/s]\n"
     ]
    },
    {
     "name": "stdout",
     "output_type": "stream",
     "text": [
      "\n",
      "📊 VALIDATION SUMMARY:\n",
      "\n",
      "📊 VALIDATION DETAILED METRICS:\n",
      "   🏥 Disease Classification:\n",
      "      Overall Accuracy: 1.0000\n",
      "      Weighted Precision: 1.0000\n",
      "      Weighted Recall: 1.0000\n",
      "      Weighted F1: 1.0000\n",
      "      Macro Precision: 1.0000\n",
      "      Macro Recall: 1.0000\n",
      "      Macro F1: 1.0000\n",
      "   🎯 Transcription:\n",
      "      Overall WER: 0.0655\n",
      "      Overall CER: 0.0412\n",
      "   📈 Per-Class Disease Classification:\n",
      "      Class        Prec   Rec    F1     Support \n",
      "      ----------------------------------------\n",
      "      Normal       1.000 1.000 1.000 71      \n",
      "      Dysphonia    1.000 1.000 1.000 71      \n",
      "      Dysarthria   1.000 1.000 1.000 71      \n",
      "   📝 Per-Class Transcription:\n",
      "      Class        WER    CER    Samples  Valid   \n",
      "      ------------------------------------------------\n",
      "      Normal       0.038 0.018 71       71      \n",
      "      Dysphonia    0.057 0.037 71       71      \n",
      "      Dysarthria   0.114 0.079 71       71      \n",
      "⏳ No improvement. Patience: 4/10\n",
      "\n",
      "============================================================\n",
      "EPOCH 48/50\n",
      "============================================================\n"
     ]
    },
    {
     "name": "stderr",
     "output_type": "stream",
     "text": [
      "Training Epoch 48: 100%|██████████████████████████████████████████████████████████████████████████████████████████████████████████████████████████| 109/109 [00:59<00:00,  1.82it/s]\n"
     ]
    },
    {
     "name": "stdout",
     "output_type": "stream",
     "text": [
      "\n",
      "📈 TRAINING EPOCH 48 SUMMARY:\n",
      "   Loss: 0.0001 (α·Cls: 0.0000, β·Trans: 0.0002)\n",
      "   Weights: α=0.7431, β=0.2569\n",
      "   Disease: Acc=1.0000, W-P=1.0000, W-R=1.0000, W-F1=1.0000\n",
      "   Speech: WER=0.0466, CER=0.0235\n"
     ]
    },
    {
     "name": "stderr",
     "output_type": "stream",
     "text": [
      "Evaluating: 100%|███████████████████████████████████████████████████████████████████████████████████████████████████████████████████████████████████| 27/27 [00:02<00:00, 11.34it/s]\n"
     ]
    },
    {
     "name": "stdout",
     "output_type": "stream",
     "text": [
      "\n",
      "📊 VALIDATION SUMMARY:\n",
      "\n",
      "📊 VALIDATION DETAILED METRICS:\n",
      "   🏥 Disease Classification:\n",
      "      Overall Accuracy: 1.0000\n",
      "      Weighted Precision: 1.0000\n",
      "      Weighted Recall: 1.0000\n",
      "      Weighted F1: 1.0000\n",
      "      Macro Precision: 1.0000\n",
      "      Macro Recall: 1.0000\n",
      "      Macro F1: 1.0000\n",
      "   🎯 Transcription:\n",
      "      Overall WER: 0.0651\n",
      "      Overall CER: 0.0411\n",
      "   📈 Per-Class Disease Classification:\n",
      "      Class        Prec   Rec    F1     Support \n",
      "      ----------------------------------------\n",
      "      Normal       1.000 1.000 1.000 71      \n",
      "      Dysphonia    1.000 1.000 1.000 71      \n",
      "      Dysarthria   1.000 1.000 1.000 71      \n",
      "   📝 Per-Class Transcription:\n",
      "      Class        WER    CER    Samples  Valid   \n",
      "      ------------------------------------------------\n",
      "      Normal       0.038 0.018 71       71      \n",
      "      Dysphonia    0.056 0.037 71       71      \n",
      "      Dysarthria   0.114 0.079 71       71      \n",
      "⏳ No improvement. Patience: 5/10\n",
      "\n",
      "============================================================\n",
      "EPOCH 49/50\n",
      "============================================================\n"
     ]
    },
    {
     "name": "stderr",
     "output_type": "stream",
     "text": [
      "Training Epoch 49: 100%|██████████████████████████████████████████████████████████████████████████████████████████████████████████████████████████| 109/109 [01:01<00:00,  1.78it/s]\n"
     ]
    },
    {
     "name": "stdout",
     "output_type": "stream",
     "text": [
      "\n",
      "📈 TRAINING EPOCH 49 SUMMARY:\n",
      "   Loss: 0.0001 (α·Cls: 0.0000, β·Trans: 0.0002)\n",
      "   Weights: α=0.7431, β=0.2569\n",
      "   Disease: Acc=1.0000, W-P=1.0000, W-R=1.0000, W-F1=1.0000\n",
      "   Speech: WER=0.0464, CER=0.0243\n"
     ]
    },
    {
     "name": "stderr",
     "output_type": "stream",
     "text": [
      "Evaluating: 100%|███████████████████████████████████████████████████████████████████████████████████████████████████████████████████████████████████| 27/27 [00:02<00:00, 11.28it/s]\n"
     ]
    },
    {
     "name": "stdout",
     "output_type": "stream",
     "text": [
      "\n",
      "📊 VALIDATION SUMMARY:\n",
      "\n",
      "📊 VALIDATION DETAILED METRICS:\n",
      "   🏥 Disease Classification:\n",
      "      Overall Accuracy: 1.0000\n",
      "      Weighted Precision: 1.0000\n",
      "      Weighted Recall: 1.0000\n",
      "      Weighted F1: 1.0000\n",
      "      Macro Precision: 1.0000\n",
      "      Macro Recall: 1.0000\n",
      "      Macro F1: 1.0000\n",
      "   🎯 Transcription:\n",
      "      Overall WER: 0.0655\n",
      "      Overall CER: 0.0412\n",
      "   📈 Per-Class Disease Classification:\n",
      "      Class        Prec   Rec    F1     Support \n",
      "      ----------------------------------------\n",
      "      Normal       1.000 1.000 1.000 71      \n",
      "      Dysphonia    1.000 1.000 1.000 71      \n",
      "      Dysarthria   1.000 1.000 1.000 71      \n",
      "   📝 Per-Class Transcription:\n",
      "      Class        WER    CER    Samples  Valid   \n",
      "      ------------------------------------------------\n",
      "      Normal       0.039 0.018 71       71      \n",
      "      Dysphonia    0.056 0.037 71       71      \n",
      "      Dysarthria   0.114 0.079 71       71      \n",
      "✅ Best model saved: ../checkpoints_exp/checkpoints_tiny_encoder_learning_ffmpeg/best_multitask_model_tiny.pt\n",
      "\n",
      "============================================================\n",
      "EPOCH 50/50\n",
      "============================================================\n"
     ]
    },
    {
     "name": "stderr",
     "output_type": "stream",
     "text": [
      "Training Epoch 50: 100%|██████████████████████████████████████████████████████████████████████████████████████████████████████████████████████████| 109/109 [01:02<00:00,  1.76it/s]\n"
     ]
    },
    {
     "name": "stdout",
     "output_type": "stream",
     "text": [
      "\n",
      "📈 TRAINING EPOCH 50 SUMMARY:\n",
      "   Loss: 0.0001 (α·Cls: 0.0000, β·Trans: 0.0002)\n",
      "   Weights: α=0.7431, β=0.2569\n",
      "   Disease: Acc=1.0000, W-P=1.0000, W-R=1.0000, W-F1=1.0000\n",
      "   Speech: WER=0.0465, CER=0.0237\n"
     ]
    },
    {
     "name": "stderr",
     "output_type": "stream",
     "text": [
      "Evaluating: 100%|███████████████████████████████████████████████████████████████████████████████████████████████████████████████████████████████████| 27/27 [00:02<00:00, 11.15it/s]\n"
     ]
    },
    {
     "name": "stdout",
     "output_type": "stream",
     "text": [
      "\n",
      "📊 VALIDATION SUMMARY:\n",
      "\n",
      "📊 VALIDATION DETAILED METRICS:\n",
      "   🏥 Disease Classification:\n",
      "      Overall Accuracy: 1.0000\n",
      "      Weighted Precision: 1.0000\n",
      "      Weighted Recall: 1.0000\n",
      "      Weighted F1: 1.0000\n",
      "      Macro Precision: 1.0000\n",
      "      Macro Recall: 1.0000\n",
      "      Macro F1: 1.0000\n",
      "   🎯 Transcription:\n",
      "      Overall WER: 0.0655\n",
      "      Overall CER: 0.0417\n",
      "   📈 Per-Class Disease Classification:\n",
      "      Class        Prec   Rec    F1     Support \n",
      "      ----------------------------------------\n",
      "      Normal       1.000 1.000 1.000 71      \n",
      "      Dysphonia    1.000 1.000 1.000 71      \n",
      "      Dysarthria   1.000 1.000 1.000 71      \n",
      "   📝 Per-Class Transcription:\n",
      "      Class        WER    CER    Samples  Valid   \n",
      "      ------------------------------------------------\n",
      "      Normal       0.041 0.019 71       71      \n",
      "      Dysphonia    0.056 0.037 71       71      \n",
      "      Dysarthria   0.113 0.079 71       71      \n",
      "✅ Best model saved: ../checkpoints_exp/checkpoints_tiny_encoder_learning_ffmpeg/best_multitask_model_tiny.pt\n",
      "\n",
      "🎯 Training completed!\n",
      "Best validation loss: 0.0292\n",
      "\n",
      "================================================================================\n",
      "                        TRAINING COMPLETED SUCCESSFULLY                         \n",
      "================================================================================\n",
      "Best validation loss: 0.0292\n",
      "Best model saved at: ../checkpoints_exp/checkpoints_tiny_encoder_learning_ffmpeg/best_multitask_model_tiny.pt\n",
      "Training history saved at: ../checkpoints_exp/checkpoints_tiny_encoder_learning_ffmpeg/comprehensive_training_history_tiny.json\n",
      "\n",
      "Final Training Summary:\n",
      "  Total epochs trained: 50\n",
      "  Best validation loss: 0.0292\n",
      "  Model architecture: Multi-task Whisper with disease classification\n",
      "  Save directory: ../checkpoints_exp/checkpoints_tiny_encoder_learning_ffmpeg/\n",
      "Training configuration saved: ../checkpoints_exp/checkpoints_tiny_encoder_learning_ffmpeg/training_config_tiny.json\n",
      "\n",
      "================================================================================\n",
      "                          MULTI-TASK TRAINING FINISHED                          \n",
      "================================================================================\n"
     ]
    }
   ],
   "source": [
    "%run train_disease.py --model_size tiny --epochs 50 --save_dir ../checkpoints_exp/checkpoints_tiny_encoder_learning_ffmpeg/"
   ]
  },
  {
   "cell_type": "code",
   "execution_count": 5,
   "id": "cc47f8be-f9ec-48aa-9cf3-a31b6f4f38be",
   "metadata": {},
   "outputs": [
    {
     "name": "stdout",
     "output_type": "stream",
     "text": [
      "Multi-Task Model Inference\n",
      "Model: ../checkpoints_exp/checkpoints_tiny_encoder_learning_ffmpeg/best_multitask_model_tiny.pt\n",
      "Test data: /home/is/lathifgalih-k/research_naist/ast-tts/data/custom_test.csv\n",
      "Device: cuda\n",
      "Loading model...\n",
      "=== Multi-Task Learning Trainer (Proper Architecture) ===\n",
      "Device: cuda\n",
      "CUDA device: NVIDIA GeForce RTX 3090\n",
      "CUDA memory: 25.3 GB\n",
      "✔ Whisper model 'tiny' loaded\n",
      "✔ Tokenizer loaded:\n",
      "  Type: Multilingual\n",
      "  EOT: 50257, SOT: 50258\n",
      "  Disease tokens: {'normal': 50359, 'dysphonia': 50360, 'dysarthria': 50361}\n",
      "✔ Disease token mapping: {'normal': 50359, 'dysphonia': 50360, 'dysarthria': 50361}\n",
      "✔ Disease token position in dataset: 2\n",
      "Vocabulary expansion:\n",
      "  Original size: 51865\n",
      "  New size needed: 51869\n",
      "  Disease tokens: 3\n",
      "Resized embedding layer device: cpu\n",
      "✔ Vocabulary expanded: 51865 → 51869\n",
      "✔ Disease classifier created: 384 → 192 → 3\n",
      "  Group 1 (encoder): 7,632,384 params, LR: 1.00e-06\n",
      "  Group 2 (decoder_layers): 9,636,096 params, LR: 3.00e-06\n",
      "  Group 3 (embeddings): 19,917,696 params, LR: 1.00e-05\n",
      "  Group 4 (disease_classifier): 74,499 params, LR: 1.00e-05\n",
      "✔ Optimizer setup: 4 groups, 37,260,675 total params\n",
      "✔ Trainer initialized successfully\n",
      "  Disease classes: {0: 'normal', 1: 'dysphonia', 2: 'dysarthria'}\n",
      "  Architecture: Shared Encoder + Disease Classifier + Transcription Decoder\n",
      "✔ Model loaded from: ../checkpoints_exp/checkpoints_tiny_encoder_learning_ffmpeg/best_multitask_model_tiny.pt\n",
      "✔ Architecture: Shared Encoder + Disease Classifier + Transcription Decoder\n",
      "Loading dataset...\n",
      "Dataset using Multilingual tokenizer\n",
      "✓ Multi-task Dataset loaded: 207 samples\n",
      "✓ Model type: Multilingual\n",
      "✓ EOT token: 50257\n",
      "✓ SOT token: 50258\n",
      "✓ Disease tokens available: ['normal', 'dysphonia', 'dysarthria']\n",
      "✓ Class distribution:\n",
      "   normal (class 0): 69 samples (33.3%)\n",
      "   dysphonia (class 1): 69 samples (33.3%)\n",
      "   dysarthria (class 2): 69 samples (33.3%)\n",
      "Dataset loaded: 207 samples\n",
      "Running inference...\n",
      "\n",
      "================================================================================\n",
      "                               INFERENCE RESULTS                                \n",
      "================================================================================\n",
      "\n",
      "Model Information:\n",
      "  Model Size: tiny\n",
      "  Model Type: Multilingual\n",
      "  Disease Classes: ['normal', 'dysphonia', 'dysarthria']\n",
      "\n",
      "Overall Performance:\n",
      "  Total Samples: 207\n",
      "  Disease Accuracy: 0.9855 (204/207)\n",
      "  Overall WER: 0.0981\n",
      "  Overall CER: 0.0589\n",
      "\n",
      "Classification Metrics:\n",
      "  Weighted Precision: 0.9856\n",
      "  Weighted Recall: 0.9855\n",
      "  Weighted F1-Score: 0.9855\n",
      "  Macro Precision: 0.9856\n",
      "  Macro Recall: 0.9855\n",
      "  Macro F1-Score: 0.9855\n",
      "\n",
      "Per-Class Performance:\n",
      "Disease      Samples  Accuracy  Precision  Recall   F1-Score  WER    CER   \n",
      "--------------------------------------------------------------------------------\n",
      "Normal       69       0.9855    0.9714     0.9855   0.9784    0.061  0.030 \n",
      "Dysphonia    69       0.9855    1.0000     0.9855   0.9927    0.045  0.024 \n",
      "Dysarthria   69       0.9855    0.9855     0.9855   0.9855    0.188  0.123 \n",
      "\n",
      "Confusion Matrix:\n",
      "Actual \\ Predicted Normal     Dysphonia  Dysarthria\n",
      "------------------------------------------------\n",
      "Normal          68         0          1         \n",
      "Dysphonia       1          68         0         \n",
      "Dysarthria      1          0          68        \n",
      "\n",
      "Sample Predictions (First 5):\n",
      "File                 True         Pred         Conf   WER    Text                          \n",
      "------------------------------------------------------------------------------------------\n",
      "0054.wav...          normal       normal       1.000  0.000  You wished to know all abou...\n",
      "0055.wav...          normal       normal       0.999  0.182  He really crucified him he ...\n",
      "FC45_T2_si1014_NA... normal       normal       0.920  0.000  beer generally fermented fr...\n",
      "0170.wav...          normal       normal       1.000  0.000  We experience distress and ...\n",
      "FC45_T2_si1969_NA... normal       normal       0.998  0.000  if any of us miss they can ...\n",
      "Results saved to: ../checkpoints_exp/checkpoints_tiny_encoder_learning_ffmpeg/inference_results_20250821_172623.csv\n",
      "Summary saved to: ../checkpoints_exp/checkpoints_tiny_encoder_learning_ffmpeg/inference_results_20250821_172623_summary.json\n",
      "\n",
      "Inference completed successfully!\n"
     ]
    }
   ],
   "source": [
    "%run inference_disease.py --model_path ../checkpoints_exp/checkpoints_tiny_encoder_learning_ffmpeg/best_multitask_model_tiny.pt --save_results ../checkpoints_exp/checkpoints_tiny_encoder_learning_ffmpeg/inference_results.csv"
   ]
  }
 ],
 "metadata": {
  "kernelspec": {
   "display_name": "Python 3 (ipykernel)",
   "language": "python",
   "name": "python3"
  },
  "language_info": {
   "codemirror_mode": {
    "name": "ipython",
    "version": 3
   },
   "file_extension": ".py",
   "mimetype": "text/x-python",
   "name": "python",
   "nbconvert_exporter": "python",
   "pygments_lexer": "ipython3",
   "version": "3.10.12"
  }
 },
 "nbformat": 4,
 "nbformat_minor": 5
}
